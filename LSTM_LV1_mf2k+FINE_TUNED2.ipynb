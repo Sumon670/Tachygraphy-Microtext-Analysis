{
 "cells": [
  {
   "cell_type": "code",
   "execution_count": 1,
   "id": "e61f800a",
   "metadata": {
    "_cell_guid": "b1076dfc-b9ad-4769-8c92-a6c4dae69d19",
    "_uuid": "8f2839f25d086af736a60e9eeb907d3b93b6e0e5",
    "execution": {
     "iopub.execute_input": "2024-08-21T20:32:53.968893Z",
     "iopub.status.busy": "2024-08-21T20:32:53.968562Z",
     "iopub.status.idle": "2024-08-21T20:32:54.869083Z",
     "shell.execute_reply": "2024-08-21T20:32:54.868002Z"
    },
    "papermill": {
     "duration": 0.914514,
     "end_time": "2024-08-21T20:32:54.871232",
     "exception": false,
     "start_time": "2024-08-21T20:32:53.956718",
     "status": "completed"
    },
    "tags": []
   },
   "outputs": [
    {
     "name": "stdout",
     "output_type": "stream",
     "text": [
      "/kaggle/input/dataset-tachygraphy/Tachygraphy_dataset_main.csv\n"
     ]
    }
   ],
   "source": [
    "# This Python 3 environment comes with many helpful analytics libraries installed\n",
    "# It is defined by the kaggle/python Docker image: https://github.com/kaggle/docker-python\n",
    "# For example, here's several helpful packages to load\n",
    "\n",
    "import numpy as np # linear algebra\n",
    "import pandas as pd # data processing, CSV file I/O (e.g. pd.read_csv)\n",
    "\n",
    "# Input data files are available in the read-only \"../input/\" directory\n",
    "# For example, running this (by clicking run or pressing Shift+Enter) will list all files under the input directory\n",
    "\n",
    "import os\n",
    "for dirname, _, filenames in os.walk('/kaggle/input'):\n",
    "    for filename in filenames:\n",
    "        print(os.path.join(dirname, filename))\n",
    "\n",
    "# You can write up to 20GB to the current directory (/kaggle/working/) that gets preserved as output when you create a version using \"Save & Run All\" \n",
    "# You can also write temporary files to /kaggle/temp/, but they won't be saved outside of the current session"
   ]
  },
  {
   "cell_type": "markdown",
   "id": "a7908618",
   "metadata": {
    "papermill": {
     "duration": 0.009811,
     "end_time": "2024-08-21T20:32:54.891316",
     "exception": false,
     "start_time": "2024-08-21T20:32:54.881505",
     "status": "completed"
    },
    "tags": []
   },
   "source": [
    "**Text Preprocessing**"
   ]
  },
  {
   "cell_type": "code",
   "execution_count": 2,
   "id": "c2ef798c",
   "metadata": {
    "execution": {
     "iopub.execute_input": "2024-08-21T20:32:54.912385Z",
     "iopub.status.busy": "2024-08-21T20:32:54.911959Z",
     "iopub.status.idle": "2024-08-21T20:32:54.916025Z",
     "shell.execute_reply": "2024-08-21T20:32:54.915256Z"
    },
    "papermill": {
     "duration": 0.016778,
     "end_time": "2024-08-21T20:32:54.917984",
     "exception": false,
     "start_time": "2024-08-21T20:32:54.901206",
     "status": "completed"
    },
    "tags": []
   },
   "outputs": [],
   "source": [
    "# To ignore warinings\n",
    "import warnings\n",
    "warnings.filterwarnings('ignore')"
   ]
  },
  {
   "cell_type": "code",
   "execution_count": 3,
   "id": "b38e8b12",
   "metadata": {
    "execution": {
     "iopub.execute_input": "2024-08-21T20:32:54.939181Z",
     "iopub.status.busy": "2024-08-21T20:32:54.938869Z",
     "iopub.status.idle": "2024-08-21T20:32:54.980701Z",
     "shell.execute_reply": "2024-08-21T20:32:54.979831Z"
    },
    "papermill": {
     "duration": 0.054527,
     "end_time": "2024-08-21T20:32:54.982716",
     "exception": false,
     "start_time": "2024-08-21T20:32:54.928189",
     "status": "completed"
    },
    "tags": []
   },
   "outputs": [
    {
     "data": {
      "text/plain": [
       "(4958, 3)"
      ]
     },
     "execution_count": 3,
     "metadata": {},
     "output_type": "execute_result"
    }
   ],
   "source": [
    "df=pd.read_csv(\"/kaggle/input/dataset-tachygraphy/Tachygraphy_dataset_main.csv\")\n",
    "df.shape"
   ]
  },
  {
   "cell_type": "code",
   "execution_count": 4,
   "id": "ef23a021",
   "metadata": {
    "execution": {
     "iopub.execute_input": "2024-08-21T20:32:55.005616Z",
     "iopub.status.busy": "2024-08-21T20:32:55.005323Z",
     "iopub.status.idle": "2024-08-21T20:32:55.023082Z",
     "shell.execute_reply": "2024-08-21T20:32:55.022222Z"
    },
    "papermill": {
     "duration": 0.031573,
     "end_time": "2024-08-21T20:32:55.025187",
     "exception": false,
     "start_time": "2024-08-21T20:32:54.993614",
     "status": "completed"
    },
    "tags": []
   },
   "outputs": [
    {
     "data": {
      "text/html": [
       "<div>\n",
       "<style scoped>\n",
       "    .dataframe tbody tr th:only-of-type {\n",
       "        vertical-align: middle;\n",
       "    }\n",
       "\n",
       "    .dataframe tbody tr th {\n",
       "        vertical-align: top;\n",
       "    }\n",
       "\n",
       "    .dataframe thead th {\n",
       "        text-align: right;\n",
       "    }\n",
       "</style>\n",
       "<table border=\"1\" class=\"dataframe\">\n",
       "  <thead>\n",
       "    <tr style=\"text-align: right;\">\n",
       "      <th></th>\n",
       "      <th>Text</th>\n",
       "      <th>Meaning</th>\n",
       "      <th>Sentiment</th>\n",
       "    </tr>\n",
       "  </thead>\n",
       "  <tbody>\n",
       "    <tr>\n",
       "      <th>0</th>\n",
       "      <td>Last session of the day http://twitpic.com/67ezh</td>\n",
       "      <td>Last session of the day http://twitpic.com/67ezh</td>\n",
       "      <td>neutral</td>\n",
       "    </tr>\n",
       "    <tr>\n",
       "      <th>1</th>\n",
       "      <td>Shanghai is also really exciting (precisely --...</td>\n",
       "      <td>Shanghai is also really exciting (precisely --...</td>\n",
       "      <td>positive</td>\n",
       "    </tr>\n",
       "    <tr>\n",
       "      <th>2</th>\n",
       "      <td>submit the report ASAP!</td>\n",
       "      <td>submit the report as soon as possilbe</td>\n",
       "      <td>negative</td>\n",
       "    </tr>\n",
       "    <tr>\n",
       "      <th>3</th>\n",
       "      <td>happy bday!</td>\n",
       "      <td>Happy Birthday!</td>\n",
       "      <td>positive</td>\n",
       "    </tr>\n",
       "    <tr>\n",
       "      <th>4</th>\n",
       "      <td>The OGs - I like it!!</td>\n",
       "      <td>The original gangsters - i like it!</td>\n",
       "      <td>positive</td>\n",
       "    </tr>\n",
       "  </tbody>\n",
       "</table>\n",
       "</div>"
      ],
      "text/plain": [
       "                                                Text  \\\n",
       "0   Last session of the day http://twitpic.com/67ezh   \n",
       "1  Shanghai is also really exciting (precisely --...   \n",
       "2                            submit the report ASAP!   \n",
       "3                                        happy bday!   \n",
       "4                              The OGs - I like it!!   \n",
       "\n",
       "                                             Meaning Sentiment  \n",
       "0   Last session of the day http://twitpic.com/67ezh   neutral  \n",
       "1  Shanghai is also really exciting (precisely --...  positive  \n",
       "2              submit the report as soon as possilbe  negative  \n",
       "3                                    Happy Birthday!  positive  \n",
       "4                The original gangsters - i like it!  positive  "
      ]
     },
     "execution_count": 4,
     "metadata": {},
     "output_type": "execute_result"
    }
   ],
   "source": [
    "df.head()"
   ]
  },
  {
   "cell_type": "code",
   "execution_count": 5,
   "id": "c21a7da9",
   "metadata": {
    "execution": {
     "iopub.execute_input": "2024-08-21T20:32:55.046660Z",
     "iopub.status.busy": "2024-08-21T20:32:55.046372Z",
     "iopub.status.idle": "2024-08-21T20:32:55.069453Z",
     "shell.execute_reply": "2024-08-21T20:32:55.068590Z"
    },
    "papermill": {
     "duration": 0.036096,
     "end_time": "2024-08-21T20:32:55.071515",
     "exception": false,
     "start_time": "2024-08-21T20:32:55.035419",
     "status": "completed"
    },
    "tags": []
   },
   "outputs": [
    {
     "data": {
      "text/plain": [
       "class\n",
       "neutral     1743\n",
       "positive    1643\n",
       "negative    1572\n",
       "Name: count, dtype: int64"
      ]
     },
     "execution_count": 5,
     "metadata": {},
     "output_type": "execute_result"
    }
   ],
   "source": [
    "df=df.drop('Meaning',axis=1)\n",
    "df = df.rename(columns={'Text': 'tweet'})\n",
    "df = df.rename(columns={'Sentiment': 'class'})\n",
    "df['class'] = df['class'].str.lower()\n",
    "sentiment_counts = df['class'].value_counts()\n",
    "sentiment_counts"
   ]
  },
  {
   "cell_type": "code",
   "execution_count": 6,
   "id": "6a7978b8",
   "metadata": {
    "execution": {
     "iopub.execute_input": "2024-08-21T20:32:55.093937Z",
     "iopub.status.busy": "2024-08-21T20:32:55.093612Z",
     "iopub.status.idle": "2024-08-21T20:32:55.102211Z",
     "shell.execute_reply": "2024-08-21T20:32:55.101279Z"
    },
    "papermill": {
     "duration": 0.021733,
     "end_time": "2024-08-21T20:32:55.104156",
     "exception": false,
     "start_time": "2024-08-21T20:32:55.082423",
     "status": "completed"
    },
    "tags": []
   },
   "outputs": [
    {
     "data": {
      "text/plain": [
       "tweet    1\n",
       "class    0\n",
       "dtype: int64"
      ]
     },
     "execution_count": 6,
     "metadata": {},
     "output_type": "execute_result"
    }
   ],
   "source": [
    "df.isnull().sum()"
   ]
  },
  {
   "cell_type": "code",
   "execution_count": 7,
   "id": "c5df1a44",
   "metadata": {
    "execution": {
     "iopub.execute_input": "2024-08-21T20:32:55.126094Z",
     "iopub.status.busy": "2024-08-21T20:32:55.125796Z",
     "iopub.status.idle": "2024-08-21T20:32:55.131733Z",
     "shell.execute_reply": "2024-08-21T20:32:55.130757Z"
    },
    "papermill": {
     "duration": 0.019037,
     "end_time": "2024-08-21T20:32:55.133785",
     "exception": false,
     "start_time": "2024-08-21T20:32:55.114748",
     "status": "completed"
    },
    "tags": []
   },
   "outputs": [],
   "source": [
    "df=df.fillna('')"
   ]
  },
  {
   "cell_type": "code",
   "execution_count": 8,
   "id": "82ad9cf3",
   "metadata": {
    "execution": {
     "iopub.execute_input": "2024-08-21T20:32:55.156200Z",
     "iopub.status.busy": "2024-08-21T20:32:55.155439Z",
     "iopub.status.idle": "2024-08-21T20:32:55.374262Z",
     "shell.execute_reply": "2024-08-21T20:32:55.373519Z"
    },
    "papermill": {
     "duration": 0.232105,
     "end_time": "2024-08-21T20:32:55.376371",
     "exception": false,
     "start_time": "2024-08-21T20:32:55.144266",
     "status": "completed"
    },
    "tags": []
   },
   "outputs": [],
   "source": [
    "import re\n",
    "from bs4 import BeautifulSoup\n",
    "\n",
    "def text_cleaning(text):\n",
    "    text = str(text)\n",
    "    soup = BeautifulSoup(text, \"html.parser\")    ###removing html tages\n",
    "    text = re.sub(r'\\[[^]]*\\]', '', soup.get_text())      ##removing text within square brackets\n",
    "    pattern = r\"[^a-zA-Z0-9\\s,']\"                  # Removing unwanted characters\n",
    "    text = re.sub(pattern, '', text)\n",
    "    url_pattern = r'http\\S+|www\\S+'            ###removing urls\n",
    "    text = re.sub(url_pattern, '', text)\n",
    "    return text"
   ]
  },
  {
   "cell_type": "code",
   "execution_count": 9,
   "id": "0941b9a2",
   "metadata": {
    "execution": {
     "iopub.execute_input": "2024-08-21T20:32:55.399146Z",
     "iopub.status.busy": "2024-08-21T20:32:55.398732Z",
     "iopub.status.idle": "2024-08-21T20:32:55.679789Z",
     "shell.execute_reply": "2024-08-21T20:32:55.679097Z"
    },
    "papermill": {
     "duration": 0.294506,
     "end_time": "2024-08-21T20:32:55.681945",
     "exception": false,
     "start_time": "2024-08-21T20:32:55.387439",
     "status": "completed"
    },
    "tags": []
   },
   "outputs": [],
   "source": [
    "df['tweet']=df['tweet'].apply(text_cleaning).tolist()"
   ]
  },
  {
   "cell_type": "code",
   "execution_count": 10,
   "id": "a4f96abc",
   "metadata": {
    "execution": {
     "iopub.execute_input": "2024-08-21T20:32:55.704051Z",
     "iopub.status.busy": "2024-08-21T20:32:55.703782Z",
     "iopub.status.idle": "2024-08-21T20:33:10.971610Z",
     "shell.execute_reply": "2024-08-21T20:33:10.970588Z"
    },
    "papermill": {
     "duration": 15.281332,
     "end_time": "2024-08-21T20:33:10.973978",
     "exception": false,
     "start_time": "2024-08-21T20:32:55.692646",
     "status": "completed"
    },
    "tags": []
   },
   "outputs": [],
   "source": [
    "from sklearn.feature_extraction.text import CountVectorizer\n",
    "from keras.models import Sequential\n",
    "from keras.layers import Dense, Embedding, LSTM, SpatialDropout1D\n",
    "from sklearn.model_selection import train_test_split\n",
    "import re"
   ]
  },
  {
   "cell_type": "code",
   "execution_count": 11,
   "id": "4d636847",
   "metadata": {
    "execution": {
     "iopub.execute_input": "2024-08-21T20:33:10.996979Z",
     "iopub.status.busy": "2024-08-21T20:33:10.996411Z",
     "iopub.status.idle": "2024-08-21T20:33:11.065114Z",
     "shell.execute_reply": "2024-08-21T20:33:11.064386Z"
    },
    "papermill": {
     "duration": 0.082345,
     "end_time": "2024-08-21T20:33:11.067139",
     "exception": false,
     "start_time": "2024-08-21T20:33:10.984794",
     "status": "completed"
    },
    "tags": []
   },
   "outputs": [],
   "source": [
    "import tensorflow as tf\n",
    "from tensorflow.keras.preprocessing.text import Tokenizer\n",
    "from tensorflow.keras.preprocessing.sequence import pad_sequences\n",
    "from tensorflow.keras.utils import to_categorical"
   ]
  },
  {
   "cell_type": "code",
   "execution_count": 12,
   "id": "69f1a9cb",
   "metadata": {
    "execution": {
     "iopub.execute_input": "2024-08-21T20:33:11.089440Z",
     "iopub.status.busy": "2024-08-21T20:33:11.089148Z",
     "iopub.status.idle": "2024-08-21T20:33:11.093548Z",
     "shell.execute_reply": "2024-08-21T20:33:11.092720Z"
    },
    "papermill": {
     "duration": 0.017588,
     "end_time": "2024-08-21T20:33:11.095373",
     "exception": false,
     "start_time": "2024-08-21T20:33:11.077785",
     "status": "completed"
    },
    "tags": []
   },
   "outputs": [],
   "source": [
    "import tensorflow as tf\n",
    "from tensorflow.keras.preprocessing.text import Tokenizer\n",
    "from tensorflow.keras.preprocessing.sequence import pad_sequences\n",
    "from tensorflow.keras.utils import to_categorical"
   ]
  },
  {
   "cell_type": "code",
   "execution_count": 13,
   "id": "7ce2d9f6",
   "metadata": {
    "execution": {
     "iopub.execute_input": "2024-08-21T20:33:11.117171Z",
     "iopub.status.busy": "2024-08-21T20:33:11.116871Z",
     "iopub.status.idle": "2024-08-21T20:33:11.122643Z",
     "shell.execute_reply": "2024-08-21T20:33:11.121789Z"
    },
    "papermill": {
     "duration": 0.018734,
     "end_time": "2024-08-21T20:33:11.124436",
     "exception": false,
     "start_time": "2024-08-21T20:33:11.105702",
     "status": "completed"
    },
    "tags": []
   },
   "outputs": [
    {
     "data": {
      "text/plain": [
       "dtype('O')"
      ]
     },
     "execution_count": 13,
     "metadata": {},
     "output_type": "execute_result"
    }
   ],
   "source": [
    "df['tweet'].dtype"
   ]
  },
  {
   "cell_type": "code",
   "execution_count": 14,
   "id": "aee45bbf",
   "metadata": {
    "execution": {
     "iopub.execute_input": "2024-08-21T20:33:11.146494Z",
     "iopub.status.busy": "2024-08-21T20:33:11.146211Z",
     "iopub.status.idle": "2024-08-21T20:33:11.151733Z",
     "shell.execute_reply": "2024-08-21T20:33:11.150926Z"
    },
    "papermill": {
     "duration": 0.018787,
     "end_time": "2024-08-21T20:33:11.153623",
     "exception": false,
     "start_time": "2024-08-21T20:33:11.134836",
     "status": "completed"
    },
    "tags": []
   },
   "outputs": [
    {
     "data": {
      "text/plain": [
       "dtype('O')"
      ]
     },
     "execution_count": 14,
     "metadata": {},
     "output_type": "execute_result"
    }
   ],
   "source": [
    "df['class'].dtype"
   ]
  },
  {
   "cell_type": "code",
   "execution_count": 15,
   "id": "f8f49446",
   "metadata": {
    "execution": {
     "iopub.execute_input": "2024-08-21T20:33:11.175915Z",
     "iopub.status.busy": "2024-08-21T20:33:11.175659Z",
     "iopub.status.idle": "2024-08-21T20:33:11.185394Z",
     "shell.execute_reply": "2024-08-21T20:33:11.184512Z"
    },
    "papermill": {
     "duration": 0.02326,
     "end_time": "2024-08-21T20:33:11.187490",
     "exception": false,
     "start_time": "2024-08-21T20:33:11.164230",
     "status": "completed"
    },
    "tags": []
   },
   "outputs": [
    {
     "data": {
      "text/html": [
       "<div>\n",
       "<style scoped>\n",
       "    .dataframe tbody tr th:only-of-type {\n",
       "        vertical-align: middle;\n",
       "    }\n",
       "\n",
       "    .dataframe tbody tr th {\n",
       "        vertical-align: top;\n",
       "    }\n",
       "\n",
       "    .dataframe thead th {\n",
       "        text-align: right;\n",
       "    }\n",
       "</style>\n",
       "<table border=\"1\" class=\"dataframe\">\n",
       "  <thead>\n",
       "    <tr style=\"text-align: right;\">\n",
       "      <th></th>\n",
       "      <th>tweet</th>\n",
       "      <th>class</th>\n",
       "    </tr>\n",
       "  </thead>\n",
       "  <tbody>\n",
       "    <tr>\n",
       "      <th>4948</th>\n",
       "      <td>time flies by when you're facetiming the bae</td>\n",
       "      <td>positive</td>\n",
       "    </tr>\n",
       "    <tr>\n",
       "      <th>4949</th>\n",
       "      <td>U dont know how I feel about this</td>\n",
       "      <td>negative</td>\n",
       "    </tr>\n",
       "    <tr>\n",
       "      <th>4950</th>\n",
       "      <td>come to my job I'll give you a baconator lol</td>\n",
       "      <td>positive</td>\n",
       "    </tr>\n",
       "    <tr>\n",
       "      <th>4951</th>\n",
       "      <td>Rihanna just made Maya Angelou her avi  you're...</td>\n",
       "      <td>negative</td>\n",
       "    </tr>\n",
       "    <tr>\n",
       "      <th>4952</th>\n",
       "      <td>im the lil bitch in the theaters tryna hold ba...</td>\n",
       "      <td>negative</td>\n",
       "    </tr>\n",
       "    <tr>\n",
       "      <th>4953</th>\n",
       "      <td>make a pet face  wtf wrong with me tonight haha</td>\n",
       "      <td>negative</td>\n",
       "    </tr>\n",
       "    <tr>\n",
       "      <th>4954</th>\n",
       "      <td>I dnt care anymore  Boyz ain't worth d drama</td>\n",
       "      <td>negative</td>\n",
       "    </tr>\n",
       "    <tr>\n",
       "      <th>4955</th>\n",
       "      <td>No relationship is perfect tho me bae goo from...</td>\n",
       "      <td>negative</td>\n",
       "    </tr>\n",
       "    <tr>\n",
       "      <th>4956</th>\n",
       "      <td>Over here tryna get my nail polishes and shit lol</td>\n",
       "      <td>negative</td>\n",
       "    </tr>\n",
       "    <tr>\n",
       "      <th>4957</th>\n",
       "      <td>No one was loved d way i luv U</td>\n",
       "      <td>positive</td>\n",
       "    </tr>\n",
       "  </tbody>\n",
       "</table>\n",
       "</div>"
      ],
      "text/plain": [
       "                                                  tweet     class\n",
       "4948       time flies by when you're facetiming the bae  positive\n",
       "4949                  U dont know how I feel about this  negative\n",
       "4950       come to my job I'll give you a baconator lol  positive\n",
       "4951  Rihanna just made Maya Angelou her avi  you're...  negative\n",
       "4952  im the lil bitch in the theaters tryna hold ba...  negative\n",
       "4953    make a pet face  wtf wrong with me tonight haha  negative\n",
       "4954      I dnt care anymore  Boyz ain't worth d drama   negative\n",
       "4955  No relationship is perfect tho me bae goo from...  negative\n",
       "4956  Over here tryna get my nail polishes and shit lol  negative\n",
       "4957                     No one was loved d way i luv U  positive"
      ]
     },
     "execution_count": 15,
     "metadata": {},
     "output_type": "execute_result"
    }
   ],
   "source": [
    "df.tail(10)"
   ]
  },
  {
   "cell_type": "code",
   "execution_count": 16,
   "id": "a547472b",
   "metadata": {
    "execution": {
     "iopub.execute_input": "2024-08-21T20:33:11.211986Z",
     "iopub.status.busy": "2024-08-21T20:33:11.211312Z",
     "iopub.status.idle": "2024-08-21T20:33:11.789779Z",
     "shell.execute_reply": "2024-08-21T20:33:11.788727Z"
    },
    "papermill": {
     "duration": 0.593032,
     "end_time": "2024-08-21T20:33:11.792308",
     "exception": false,
     "start_time": "2024-08-21T20:33:11.199276",
     "status": "completed"
    },
    "tags": []
   },
   "outputs": [
    {
     "name": "stdout",
     "output_type": "stream",
     "text": [
      "3286\n",
      "3144\n"
     ]
    }
   ],
   "source": [
    "df = df[df['class'] != \"neutral\"]  ###droping neutral columns\n",
    "df['tweet'] = df['tweet'].apply(lambda x: x.lower())\n",
    "\n",
    "print(df[ df['class'] == 'positive'].size)\n",
    "print(df[ df['class'] == 'negative'].size)\n",
    "\n",
    "for idx,row in df.iterrows():\n",
    "    row[0] = row[0].replace('rt',' ')\n",
    "    \n",
    "max_fatures = 2000\n",
    "tokenizer = Tokenizer(num_words=max_fatures, split=' ')\n",
    "tokenizer.fit_on_texts(df['tweet'].values)\n",
    "X = tokenizer.texts_to_sequences(df['tweet'].values)\n",
    "X = pad_sequences(X)"
   ]
  },
  {
   "cell_type": "code",
   "execution_count": 17,
   "id": "7a4955e8",
   "metadata": {
    "execution": {
     "iopub.execute_input": "2024-08-21T20:33:11.816795Z",
     "iopub.status.busy": "2024-08-21T20:33:11.816037Z",
     "iopub.status.idle": "2024-08-21T20:33:12.128347Z",
     "shell.execute_reply": "2024-08-21T20:33:12.127496Z"
    },
    "papermill": {
     "duration": 0.326946,
     "end_time": "2024-08-21T20:33:12.130709",
     "exception": false,
     "start_time": "2024-08-21T20:33:11.803763",
     "status": "completed"
    },
    "tags": []
   },
   "outputs": [],
   "source": [
    "from tensorflow.keras.models import Sequential\n",
    "from tensorflow.keras.layers import Embedding, SpatialDropout1D, LSTM, Dense, Dropout, Bidirectional\n",
    "from tensorflow.keras.callbacks import EarlyStopping, ModelCheckpoint, ReduceLROnPlateau\n",
    "from tensorflow.keras.optimizers import Adam\n",
    "from tensorflow.keras.regularizers import l2\n",
    "from tensorflow.keras.layers import Embedding\n",
    "from tensorflow.keras.initializers import Constant\n",
    "from tensorflow.keras.optimizers import RMSprop\n",
    "from keras_tuner import RandomSearch"
   ]
  },
  {
   "cell_type": "code",
   "execution_count": 18,
   "id": "d45fb047",
   "metadata": {
    "execution": {
     "iopub.execute_input": "2024-08-21T20:33:12.154166Z",
     "iopub.status.busy": "2024-08-21T20:33:12.153858Z",
     "iopub.status.idle": "2024-08-21T20:36:13.614051Z",
     "shell.execute_reply": "2024-08-21T20:36:13.612902Z"
    },
    "papermill": {
     "duration": 181.47416,
     "end_time": "2024-08-21T20:36:13.616125",
     "exception": false,
     "start_time": "2024-08-21T20:33:12.141965",
     "status": "completed"
    },
    "tags": []
   },
   "outputs": [
    {
     "name": "stdout",
     "output_type": "stream",
     "text": [
      "--2024-08-21 20:33:13--  http://nlp.stanford.edu/data/glove.6B.zip\r\n",
      "Resolving nlp.stanford.edu (nlp.stanford.edu)... 171.64.67.140\r\n",
      "Connecting to nlp.stanford.edu (nlp.stanford.edu)|171.64.67.140|:80... connected.\r\n",
      "HTTP request sent, awaiting response... 302 Found\r\n",
      "Location: https://nlp.stanford.edu/data/glove.6B.zip [following]\r\n",
      "--2024-08-21 20:33:13--  https://nlp.stanford.edu/data/glove.6B.zip\r\n",
      "Connecting to nlp.stanford.edu (nlp.stanford.edu)|171.64.67.140|:443... connected.\r\n",
      "HTTP request sent, awaiting response... 301 Moved Permanently\r\n",
      "Location: https://downloads.cs.stanford.edu/nlp/data/glove.6B.zip [following]\r\n",
      "--2024-08-21 20:33:13--  https://downloads.cs.stanford.edu/nlp/data/glove.6B.zip\r\n",
      "Resolving downloads.cs.stanford.edu (downloads.cs.stanford.edu)... 171.64.64.22\r\n",
      "Connecting to downloads.cs.stanford.edu (downloads.cs.stanford.edu)|171.64.64.22|:443... connected.\r\n",
      "HTTP request sent, awaiting response... 200 OK\r\n",
      "Length: 862182613 (822M) [application/zip]\r\n",
      "Saving to: 'glove.6B.zip'\r\n",
      "\r\n",
      "glove.6B.zip        100%[===================>] 822.24M  5.03MB/s    in 2m 39s  \r\n",
      "\r\n",
      "2024-08-21 20:35:52 (5.18 MB/s) - 'glove.6B.zip' saved [862182613/862182613]\r\n",
      "\r\n",
      "Archive:  glove.6B.zip\r\n",
      "  inflating: glove.6B.50d.txt        \r\n",
      "  inflating: glove.6B.100d.txt       \r\n",
      "  inflating: glove.6B.200d.txt       \r\n",
      "  inflating: glove.6B.300d.txt       \r\n"
     ]
    }
   ],
   "source": [
    "!wget http://nlp.stanford.edu/data/glove.6B.zip\n",
    "!unzip glove.6B.zip"
   ]
  },
  {
   "cell_type": "code",
   "execution_count": 19,
   "id": "dca0c275",
   "metadata": {
    "execution": {
     "iopub.execute_input": "2024-08-21T20:36:13.762808Z",
     "iopub.status.busy": "2024-08-21T20:36:13.762389Z",
     "iopub.status.idle": "2024-08-21T20:36:25.293135Z",
     "shell.execute_reply": "2024-08-21T20:36:25.292095Z"
    },
    "papermill": {
     "duration": 11.609217,
     "end_time": "2024-08-21T20:36:25.295614",
     "exception": false,
     "start_time": "2024-08-21T20:36:13.686397",
     "status": "completed"
    },
    "tags": []
   },
   "outputs": [],
   "source": [
    "embedding_index = {}\n",
    "with open('glove.6B.100d.txt', encoding='utf-8') as f:\n",
    "    for line in f:\n",
    "        values = line.split()\n",
    "        word = values[0]\n",
    "        coefs = np.asarray(values[1:], dtype='float32')\n",
    "        embedding_index[word] = coefs\n"
   ]
  },
  {
   "cell_type": "code",
   "execution_count": 20,
   "id": "078fba3c",
   "metadata": {
    "execution": {
     "iopub.execute_input": "2024-08-21T20:36:25.437051Z",
     "iopub.status.busy": "2024-08-21T20:36:25.436706Z",
     "iopub.status.idle": "2024-08-21T20:36:25.441991Z",
     "shell.execute_reply": "2024-08-21T20:36:25.441110Z"
    },
    "papermill": {
     "duration": 0.078205,
     "end_time": "2024-08-21T20:36:25.443981",
     "exception": false,
     "start_time": "2024-08-21T20:36:25.365776",
     "status": "completed"
    },
    "tags": []
   },
   "outputs": [],
   "source": [
    "# max_features = 5000  \n",
    "# embed_dim = 128 \n",
    "# lstm_out = 64  \n",
    "# batch_size = 32\n",
    "# epochs = 20\n",
    "# learning_rate = 0.001"
   ]
  },
  {
   "cell_type": "code",
   "execution_count": 21,
   "id": "17f6432e",
   "metadata": {
    "execution": {
     "iopub.execute_input": "2024-08-21T20:36:25.626392Z",
     "iopub.status.busy": "2024-08-21T20:36:25.625689Z",
     "iopub.status.idle": "2024-08-21T20:36:25.630358Z",
     "shell.execute_reply": "2024-08-21T20:36:25.629535Z"
    },
    "papermill": {
     "duration": 0.117926,
     "end_time": "2024-08-21T20:36:25.632478",
     "exception": false,
     "start_time": "2024-08-21T20:36:25.514552",
     "status": "completed"
    },
    "tags": []
   },
   "outputs": [],
   "source": [
    "max_features = 10000  \n",
    "embed_dim = 128 \n",
    "lstm_out = 64  \n",
    "batch_size = 64\n",
    "epochs = 20\n",
    "initial_learning_rate = 0.0005"
   ]
  },
  {
   "cell_type": "code",
   "execution_count": 22,
   "id": "9564177f",
   "metadata": {
    "execution": {
     "iopub.execute_input": "2024-08-21T20:36:25.776324Z",
     "iopub.status.busy": "2024-08-21T20:36:25.775989Z",
     "iopub.status.idle": "2024-08-21T20:36:25.797208Z",
     "shell.execute_reply": "2024-08-21T20:36:25.796494Z"
    },
    "papermill": {
     "duration": 0.096164,
     "end_time": "2024-08-21T20:36:25.799421",
     "exception": false,
     "start_time": "2024-08-21T20:36:25.703257",
     "status": "completed"
    },
    "tags": []
   },
   "outputs": [],
   "source": [
    "embedding_dim = 100\n",
    "embedding_matrix = np.zeros((max_features, embedding_dim))\n",
    "for word, i in tokenizer.word_index.items():\n",
    "    if i < max_features:\n",
    "        embedding_vector = embedding_index.get(word)\n",
    "        if embedding_vector is not None:\n",
    "            embedding_matrix[i] = embedding_vector"
   ]
  },
  {
   "cell_type": "code",
   "execution_count": 23,
   "id": "304266c4",
   "metadata": {
    "execution": {
     "iopub.execute_input": "2024-08-21T20:36:25.943892Z",
     "iopub.status.busy": "2024-08-21T20:36:25.943578Z",
     "iopub.status.idle": "2024-08-21T20:36:27.102817Z",
     "shell.execute_reply": "2024-08-21T20:36:27.101834Z"
    },
    "papermill": {
     "duration": 1.234095,
     "end_time": "2024-08-21T20:36:27.105249",
     "exception": false,
     "start_time": "2024-08-21T20:36:25.871154",
     "status": "completed"
    },
    "tags": []
   },
   "outputs": [],
   "source": [
    "# from tensorflow.keras.models import Sequential\n",
    "# from tensorflow.keras.layers import Embedding, SpatialDropout1D, LSTM, Dense\n",
    "\n",
    "\n",
    "# Model\n",
    "model = Sequential()\n",
    "model.add(Embedding(max_features, embedding_dim, embeddings_initializer=Constant(embedding_matrix),\n",
    "                    input_length=X.shape[1], trainable=True))\n",
    "model.add(SpatialDropout1D(0.3))\n",
    "model.add(Bidirectional(LSTM(128, return_sequences=True)))\n",
    "model.add(LSTM(64, dropout=0.4, recurrent_dropout=0.4))\n",
    "model.add(Dense(64, activation='relu', kernel_regularizer=tf.keras.regularizers.l2(0.01)))\n",
    "model.add(Dropout(0.4))\n",
    "model.add(Dense(2, activation='softmax'))  # Assuming 2 classes for classification\n",
    "\n",
    "# model.compile(loss='categorical_crossentropy', optimizer='adam', metrics=['accuracy'])\n",
    "# print(model.summary())"
   ]
  },
  {
   "cell_type": "code",
   "execution_count": 24,
   "id": "602d06cd",
   "metadata": {
    "execution": {
     "iopub.execute_input": "2024-08-21T20:36:27.250614Z",
     "iopub.status.busy": "2024-08-21T20:36:27.250284Z",
     "iopub.status.idle": "2024-08-21T20:36:27.254895Z",
     "shell.execute_reply": "2024-08-21T20:36:27.253957Z"
    },
    "papermill": {
     "duration": 0.079038,
     "end_time": "2024-08-21T20:36:27.257009",
     "exception": false,
     "start_time": "2024-08-21T20:36:27.177971",
     "status": "completed"
    },
    "tags": []
   },
   "outputs": [],
   "source": [
    "tf.random.set_seed(42)"
   ]
  },
  {
   "cell_type": "code",
   "execution_count": 25,
   "id": "39a8cd43",
   "metadata": {
    "execution": {
     "iopub.execute_input": "2024-08-21T20:36:27.399605Z",
     "iopub.status.busy": "2024-08-21T20:36:27.399282Z",
     "iopub.status.idle": "2024-08-21T20:36:27.410681Z",
     "shell.execute_reply": "2024-08-21T20:36:27.409811Z"
    },
    "papermill": {
     "duration": 0.085089,
     "end_time": "2024-08-21T20:36:27.412660",
     "exception": false,
     "start_time": "2024-08-21T20:36:27.327571",
     "status": "completed"
    },
    "tags": []
   },
   "outputs": [],
   "source": [
    "optimizer = Adam(learning_rate=initial_learning_rate)"
   ]
  },
  {
   "cell_type": "code",
   "execution_count": 26,
   "id": "8e964b31",
   "metadata": {
    "execution": {
     "iopub.execute_input": "2024-08-21T20:36:27.555664Z",
     "iopub.status.busy": "2024-08-21T20:36:27.555359Z",
     "iopub.status.idle": "2024-08-21T20:36:27.572124Z",
     "shell.execute_reply": "2024-08-21T20:36:27.571407Z"
    },
    "papermill": {
     "duration": 0.088844,
     "end_time": "2024-08-21T20:36:27.574054",
     "exception": false,
     "start_time": "2024-08-21T20:36:27.485210",
     "status": "completed"
    },
    "tags": []
   },
   "outputs": [],
   "source": [
    "model.compile(loss='categorical_crossentropy', optimizer=RMSprop(learning_rate=0.001), metrics=['accuracy'])"
   ]
  },
  {
   "cell_type": "code",
   "execution_count": 27,
   "id": "93d2a8ac",
   "metadata": {
    "execution": {
     "iopub.execute_input": "2024-08-21T20:36:27.718359Z",
     "iopub.status.busy": "2024-08-21T20:36:27.718002Z",
     "iopub.status.idle": "2024-08-21T20:36:27.739279Z",
     "shell.execute_reply": "2024-08-21T20:36:27.738317Z"
    },
    "papermill": {
     "duration": 0.095506,
     "end_time": "2024-08-21T20:36:27.741168",
     "exception": false,
     "start_time": "2024-08-21T20:36:27.645662",
     "status": "completed"
    },
    "tags": []
   },
   "outputs": [
    {
     "data": {
      "text/html": [
       "<pre style=\"white-space:pre;overflow-x:auto;line-height:normal;font-family:Menlo,'DejaVu Sans Mono',consolas,'Courier New',monospace\"><span style=\"font-weight: bold\">Model: \"sequential\"</span>\n",
       "</pre>\n"
      ],
      "text/plain": [
       "\u001b[1mModel: \"sequential\"\u001b[0m\n"
      ]
     },
     "metadata": {},
     "output_type": "display_data"
    },
    {
     "data": {
      "text/html": [
       "<pre style=\"white-space:pre;overflow-x:auto;line-height:normal;font-family:Menlo,'DejaVu Sans Mono',consolas,'Courier New',monospace\">┏━━━━━━━━━━━━━━━━━━━━━━━━━━━━━━━━━┳━━━━━━━━━━━━━━━━━━━━━━━━┳━━━━━━━━━━━━━━━┓\n",
       "┃<span style=\"font-weight: bold\"> Layer (type)                    </span>┃<span style=\"font-weight: bold\"> Output Shape           </span>┃<span style=\"font-weight: bold\">       Param # </span>┃\n",
       "┡━━━━━━━━━━━━━━━━━━━━━━━━━━━━━━━━━╇━━━━━━━━━━━━━━━━━━━━━━━━╇━━━━━━━━━━━━━━━┩\n",
       "│ embedding (<span style=\"color: #0087ff; text-decoration-color: #0087ff\">Embedding</span>)           │ ?                      │   <span style=\"color: #00af00; text-decoration-color: #00af00\">0</span> (unbuilt) │\n",
       "├─────────────────────────────────┼────────────────────────┼───────────────┤\n",
       "│ spatial_dropout1d               │ ?                      │   <span style=\"color: #00af00; text-decoration-color: #00af00\">0</span> (unbuilt) │\n",
       "│ (<span style=\"color: #0087ff; text-decoration-color: #0087ff\">SpatialDropout1D</span>)              │                        │               │\n",
       "├─────────────────────────────────┼────────────────────────┼───────────────┤\n",
       "│ bidirectional (<span style=\"color: #0087ff; text-decoration-color: #0087ff\">Bidirectional</span>)   │ ?                      │   <span style=\"color: #00af00; text-decoration-color: #00af00\">0</span> (unbuilt) │\n",
       "├─────────────────────────────────┼────────────────────────┼───────────────┤\n",
       "│ lstm_1 (<span style=\"color: #0087ff; text-decoration-color: #0087ff\">LSTM</span>)                   │ ?                      │   <span style=\"color: #00af00; text-decoration-color: #00af00\">0</span> (unbuilt) │\n",
       "├─────────────────────────────────┼────────────────────────┼───────────────┤\n",
       "│ dense (<span style=\"color: #0087ff; text-decoration-color: #0087ff\">Dense</span>)                   │ ?                      │   <span style=\"color: #00af00; text-decoration-color: #00af00\">0</span> (unbuilt) │\n",
       "├─────────────────────────────────┼────────────────────────┼───────────────┤\n",
       "│ dropout (<span style=\"color: #0087ff; text-decoration-color: #0087ff\">Dropout</span>)               │ ?                      │   <span style=\"color: #00af00; text-decoration-color: #00af00\">0</span> (unbuilt) │\n",
       "├─────────────────────────────────┼────────────────────────┼───────────────┤\n",
       "│ dense_1 (<span style=\"color: #0087ff; text-decoration-color: #0087ff\">Dense</span>)                 │ ?                      │   <span style=\"color: #00af00; text-decoration-color: #00af00\">0</span> (unbuilt) │\n",
       "└─────────────────────────────────┴────────────────────────┴───────────────┘\n",
       "</pre>\n"
      ],
      "text/plain": [
       "┏━━━━━━━━━━━━━━━━━━━━━━━━━━━━━━━━━┳━━━━━━━━━━━━━━━━━━━━━━━━┳━━━━━━━━━━━━━━━┓\n",
       "┃\u001b[1m \u001b[0m\u001b[1mLayer (type)                   \u001b[0m\u001b[1m \u001b[0m┃\u001b[1m \u001b[0m\u001b[1mOutput Shape          \u001b[0m\u001b[1m \u001b[0m┃\u001b[1m \u001b[0m\u001b[1m      Param #\u001b[0m\u001b[1m \u001b[0m┃\n",
       "┡━━━━━━━━━━━━━━━━━━━━━━━━━━━━━━━━━╇━━━━━━━━━━━━━━━━━━━━━━━━╇━━━━━━━━━━━━━━━┩\n",
       "│ embedding (\u001b[38;5;33mEmbedding\u001b[0m)           │ ?                      │   \u001b[38;5;34m0\u001b[0m (unbuilt) │\n",
       "├─────────────────────────────────┼────────────────────────┼───────────────┤\n",
       "│ spatial_dropout1d               │ ?                      │   \u001b[38;5;34m0\u001b[0m (unbuilt) │\n",
       "│ (\u001b[38;5;33mSpatialDropout1D\u001b[0m)              │                        │               │\n",
       "├─────────────────────────────────┼────────────────────────┼───────────────┤\n",
       "│ bidirectional (\u001b[38;5;33mBidirectional\u001b[0m)   │ ?                      │   \u001b[38;5;34m0\u001b[0m (unbuilt) │\n",
       "├─────────────────────────────────┼────────────────────────┼───────────────┤\n",
       "│ lstm_1 (\u001b[38;5;33mLSTM\u001b[0m)                   │ ?                      │   \u001b[38;5;34m0\u001b[0m (unbuilt) │\n",
       "├─────────────────────────────────┼────────────────────────┼───────────────┤\n",
       "│ dense (\u001b[38;5;33mDense\u001b[0m)                   │ ?                      │   \u001b[38;5;34m0\u001b[0m (unbuilt) │\n",
       "├─────────────────────────────────┼────────────────────────┼───────────────┤\n",
       "│ dropout (\u001b[38;5;33mDropout\u001b[0m)               │ ?                      │   \u001b[38;5;34m0\u001b[0m (unbuilt) │\n",
       "├─────────────────────────────────┼────────────────────────┼───────────────┤\n",
       "│ dense_1 (\u001b[38;5;33mDense\u001b[0m)                 │ ?                      │   \u001b[38;5;34m0\u001b[0m (unbuilt) │\n",
       "└─────────────────────────────────┴────────────────────────┴───────────────┘\n"
      ]
     },
     "metadata": {},
     "output_type": "display_data"
    },
    {
     "data": {
      "text/html": [
       "<pre style=\"white-space:pre;overflow-x:auto;line-height:normal;font-family:Menlo,'DejaVu Sans Mono',consolas,'Courier New',monospace\"><span style=\"font-weight: bold\"> Total params: </span><span style=\"color: #00af00; text-decoration-color: #00af00\">0</span> (0.00 B)\n",
       "</pre>\n"
      ],
      "text/plain": [
       "\u001b[1m Total params: \u001b[0m\u001b[38;5;34m0\u001b[0m (0.00 B)\n"
      ]
     },
     "metadata": {},
     "output_type": "display_data"
    },
    {
     "data": {
      "text/html": [
       "<pre style=\"white-space:pre;overflow-x:auto;line-height:normal;font-family:Menlo,'DejaVu Sans Mono',consolas,'Courier New',monospace\"><span style=\"font-weight: bold\"> Trainable params: </span><span style=\"color: #00af00; text-decoration-color: #00af00\">0</span> (0.00 B)\n",
       "</pre>\n"
      ],
      "text/plain": [
       "\u001b[1m Trainable params: \u001b[0m\u001b[38;5;34m0\u001b[0m (0.00 B)\n"
      ]
     },
     "metadata": {},
     "output_type": "display_data"
    },
    {
     "data": {
      "text/html": [
       "<pre style=\"white-space:pre;overflow-x:auto;line-height:normal;font-family:Menlo,'DejaVu Sans Mono',consolas,'Courier New',monospace\"><span style=\"font-weight: bold\"> Non-trainable params: </span><span style=\"color: #00af00; text-decoration-color: #00af00\">0</span> (0.00 B)\n",
       "</pre>\n"
      ],
      "text/plain": [
       "\u001b[1m Non-trainable params: \u001b[0m\u001b[38;5;34m0\u001b[0m (0.00 B)\n"
      ]
     },
     "metadata": {},
     "output_type": "display_data"
    },
    {
     "name": "stdout",
     "output_type": "stream",
     "text": [
      "None\n"
     ]
    }
   ],
   "source": [
    "print(model.summary())"
   ]
  },
  {
   "cell_type": "code",
   "execution_count": 28,
   "id": "ea06d2dd",
   "metadata": {
    "execution": {
     "iopub.execute_input": "2024-08-21T20:36:27.886440Z",
     "iopub.status.busy": "2024-08-21T20:36:27.886134Z",
     "iopub.status.idle": "2024-08-21T20:36:27.891438Z",
     "shell.execute_reply": "2024-08-21T20:36:27.890557Z"
    },
    "papermill": {
     "duration": 0.081379,
     "end_time": "2024-08-21T20:36:27.893516",
     "exception": false,
     "start_time": "2024-08-21T20:36:27.812137",
     "status": "completed"
    },
    "tags": []
   },
   "outputs": [],
   "source": [
    "early_stopping = EarlyStopping(monitor='val_loss', patience=5, verbose=1, restore_best_weights=True)\n",
    "reduce_lr = ReduceLROnPlateau(monitor='val_loss', factor=0.1, patience=2, min_lr=0.00001, verbose=1)\n",
    "model_checkpoint = ModelCheckpoint('best_model.keras', save_best_only=True, monitor='val_loss', mode='min')\n"
   ]
  },
  {
   "cell_type": "code",
   "execution_count": 29,
   "id": "451b461d",
   "metadata": {
    "execution": {
     "iopub.execute_input": "2024-08-21T20:36:28.036597Z",
     "iopub.status.busy": "2024-08-21T20:36:28.036256Z",
     "iopub.status.idle": "2024-08-21T20:36:28.112329Z",
     "shell.execute_reply": "2024-08-21T20:36:28.111308Z"
    },
    "papermill": {
     "duration": 0.150058,
     "end_time": "2024-08-21T20:36:28.114392",
     "exception": false,
     "start_time": "2024-08-21T20:36:27.964334",
     "status": "completed"
    },
    "tags": []
   },
   "outputs": [
    {
     "name": "stdout",
     "output_type": "stream",
     "text": [
      "(2572, 29) (2572, 2)\n",
      "(643, 29) (643, 2)\n"
     ]
    }
   ],
   "source": [
    "Y = pd.get_dummies(df['class']).values\n",
    "X_train, X_test, Y_train, Y_test = train_test_split(X,Y, test_size = 0.2, random_state = 42)\n",
    "print(X_train.shape,Y_train.shape)\n",
    "print(X_test.shape,Y_test.shape)"
   ]
  },
  {
   "cell_type": "code",
   "execution_count": 30,
   "id": "0481713b",
   "metadata": {
    "execution": {
     "iopub.execute_input": "2024-08-21T20:36:28.266094Z",
     "iopub.status.busy": "2024-08-21T20:36:28.265777Z",
     "iopub.status.idle": "2024-08-21T20:36:28.270471Z",
     "shell.execute_reply": "2024-08-21T20:36:28.269625Z"
    },
    "papermill": {
     "duration": 0.084858,
     "end_time": "2024-08-21T20:36:28.272360",
     "exception": false,
     "start_time": "2024-08-21T20:36:28.187502",
     "status": "completed"
    },
    "tags": []
   },
   "outputs": [],
   "source": [
    "validation_size = 500\n",
    "\n",
    "X_validate = X_test[-validation_size:]\n",
    "Y_validate = Y_test[-validation_size:]\n",
    "X_test = X_test[:-validation_size]\n",
    "Y_test = Y_test[:-validation_size]"
   ]
  },
  {
   "cell_type": "code",
   "execution_count": 31,
   "id": "90b7711c",
   "metadata": {
    "execution": {
     "iopub.execute_input": "2024-08-21T20:36:28.418687Z",
     "iopub.status.busy": "2024-08-21T20:36:28.418096Z",
     "iopub.status.idle": "2024-08-21T20:37:53.550764Z",
     "shell.execute_reply": "2024-08-21T20:37:53.549923Z"
    },
    "papermill": {
     "duration": 85.207443,
     "end_time": "2024-08-21T20:37:53.552755",
     "exception": false,
     "start_time": "2024-08-21T20:36:28.345312",
     "status": "completed"
    },
    "tags": []
   },
   "outputs": [
    {
     "name": "stdout",
     "output_type": "stream",
     "text": [
      "Epoch 1/20\n",
      "41/41 - 13s - 310ms/step - accuracy: 0.5393 - loss: 1.1534 - val_accuracy: 0.4825 - val_loss: 1.0562 - learning_rate: 0.0010\n",
      "Epoch 2/20\n",
      "41/41 - 2s - 47ms/step - accuracy: 0.6236 - loss: 0.9255 - val_accuracy: 0.4825 - val_loss: 1.2326 - learning_rate: 0.0010\n",
      "Epoch 3/20\n",
      "41/41 - 5s - 115ms/step - accuracy: 0.6738 - loss: 0.7835 - val_accuracy: 0.5734 - val_loss: 1.0250 - learning_rate: 0.0010\n",
      "Epoch 4/20\n",
      "41/41 - 5s - 120ms/step - accuracy: 0.6979 - loss: 0.6920 - val_accuracy: 0.6014 - val_loss: 0.8846 - learning_rate: 0.0010\n",
      "Epoch 5/20\n",
      "41/41 - 5s - 114ms/step - accuracy: 0.7135 - loss: 0.6331 - val_accuracy: 0.6853 - val_loss: 0.6963 - learning_rate: 0.0010\n",
      "Epoch 6/20\n",
      "41/41 - 5s - 115ms/step - accuracy: 0.7286 - loss: 0.5905 - val_accuracy: 0.7063 - val_loss: 0.6851 - learning_rate: 0.0010\n",
      "Epoch 7/20\n",
      "41/41 - 2s - 43ms/step - accuracy: 0.7500 - loss: 0.5433 - val_accuracy: 0.6643 - val_loss: 0.7881 - learning_rate: 0.0010\n",
      "Epoch 8/20\n",
      "\n",
      "Epoch 8: ReduceLROnPlateau reducing learning rate to 0.00010000000474974513.\n",
      "41/41 - 2s - 41ms/step - accuracy: 0.7632 - loss: 0.5135 - val_accuracy: 0.6993 - val_loss: 0.7604 - learning_rate: 0.0010\n",
      "Epoch 9/20\n",
      "41/41 - 5s - 120ms/step - accuracy: 0.7877 - loss: 0.4894 - val_accuracy: 0.7552 - val_loss: 0.5516 - learning_rate: 1.0000e-04\n",
      "Epoch 10/20\n",
      "41/41 - 5s - 114ms/step - accuracy: 0.7986 - loss: 0.4706 - val_accuracy: 0.7552 - val_loss: 0.5491 - learning_rate: 1.0000e-04\n",
      "Epoch 11/20\n",
      "41/41 - 5s - 112ms/step - accuracy: 0.8037 - loss: 0.4595 - val_accuracy: 0.7762 - val_loss: 0.5449 - learning_rate: 1.0000e-04\n",
      "Epoch 12/20\n",
      "41/41 - 2s - 42ms/step - accuracy: 0.8064 - loss: 0.4549 - val_accuracy: 0.7832 - val_loss: 0.5460 - learning_rate: 1.0000e-04\n",
      "Epoch 13/20\n",
      "41/41 - 5s - 112ms/step - accuracy: 0.8002 - loss: 0.4530 - val_accuracy: 0.7622 - val_loss: 0.5413 - learning_rate: 1.0000e-04\n",
      "Epoch 14/20\n",
      "41/41 - 5s - 121ms/step - accuracy: 0.8029 - loss: 0.4577 - val_accuracy: 0.7832 - val_loss: 0.5366 - learning_rate: 1.0000e-04\n",
      "Epoch 15/20\n",
      "41/41 - 2s - 42ms/step - accuracy: 0.8091 - loss: 0.4543 - val_accuracy: 0.7972 - val_loss: 0.5372 - learning_rate: 1.0000e-04\n",
      "Epoch 16/20\n",
      "\n",
      "Epoch 16: ReduceLROnPlateau reducing learning rate to 1.0000000474974514e-05.\n",
      "41/41 - 2s - 42ms/step - accuracy: 0.8029 - loss: 0.4514 - val_accuracy: 0.7413 - val_loss: 0.5471 - learning_rate: 1.0000e-04\n",
      "Epoch 17/20\n",
      "41/41 - 5s - 111ms/step - accuracy: 0.8219 - loss: 0.4369 - val_accuracy: 0.7762 - val_loss: 0.5338 - learning_rate: 1.0000e-05\n",
      "Epoch 18/20\n",
      "41/41 - 5s - 112ms/step - accuracy: 0.8079 - loss: 0.4600 - val_accuracy: 0.7902 - val_loss: 0.5303 - learning_rate: 1.0000e-05\n",
      "Epoch 19/20\n",
      "41/41 - 5s - 125ms/step - accuracy: 0.7990 - loss: 0.4509 - val_accuracy: 0.7832 - val_loss: 0.5276 - learning_rate: 1.0000e-05\n",
      "Epoch 20/20\n",
      "41/41 - 5s - 112ms/step - accuracy: 0.8017 - loss: 0.4533 - val_accuracy: 0.7902 - val_loss: 0.5263 - learning_rate: 1.0000e-05\n",
      "Restoring model weights from the end of the best epoch: 20.\n"
     ]
    }
   ],
   "source": [
    "# batch_size = 32\n",
    "# model.fit(X_train, Y_train, epochs = 20, batch_size=batch_size, verbose = 2)\n",
    "\n",
    "# Training\n",
    "history = model.fit(X_train, Y_train,\n",
    "                    epochs=epochs,\n",
    "                    batch_size=batch_size,\n",
    "                    validation_data=(X_test, Y_test),\n",
    "                    verbose=2,\n",
    "                    callbacks=[early_stopping, reduce_lr, model_checkpoint])"
   ]
  },
  {
   "cell_type": "code",
   "execution_count": 32,
   "id": "2b05e3b2",
   "metadata": {
    "execution": {
     "iopub.execute_input": "2024-08-21T20:37:53.703712Z",
     "iopub.status.busy": "2024-08-21T20:37:53.702682Z",
     "iopub.status.idle": "2024-08-21T20:37:53.845891Z",
     "shell.execute_reply": "2024-08-21T20:37:53.844854Z"
    },
    "papermill": {
     "duration": 0.220535,
     "end_time": "2024-08-21T20:37:53.847841",
     "exception": false,
     "start_time": "2024-08-21T20:37:53.627306",
     "status": "completed"
    },
    "tags": []
   },
   "outputs": [
    {
     "name": "stdout",
     "output_type": "stream",
     "text": [
      "\u001b[1m5/5\u001b[0m \u001b[32m━━━━━━━━━━━━━━━━━━━━\u001b[0m\u001b[37m\u001b[0m \u001b[1m0s\u001b[0m 15ms/step - accuracy: 0.7834 - loss: 0.5229\n",
      "Test accuracy: 0.7902\n"
     ]
    }
   ],
   "source": [
    "# Evaluate the model\n",
    "test_loss, test_acc = model.evaluate(X_test, Y_test)\n",
    "print(f\"Test accuracy: {test_acc:.4f}\")"
   ]
  },
  {
   "cell_type": "code",
   "execution_count": 33,
   "id": "6be1c018",
   "metadata": {
    "execution": {
     "iopub.execute_input": "2024-08-21T20:37:54.004449Z",
     "iopub.status.busy": "2024-08-21T20:37:54.004092Z",
     "iopub.status.idle": "2024-08-21T20:37:54.119002Z",
     "shell.execute_reply": "2024-08-21T20:37:54.117863Z"
    },
    "papermill": {
     "duration": 0.197964,
     "end_time": "2024-08-21T20:37:54.120968",
     "exception": false,
     "start_time": "2024-08-21T20:37:53.923004",
     "status": "completed"
    },
    "tags": []
   },
   "outputs": [
    {
     "name": "stdout",
     "output_type": "stream",
     "text": [
      "3/3 - 0s - 20ms/step - accuracy: 0.7902 - loss: 0.5263\n",
      "loss_score: 0.53\n",
      "accuracy: 0.79\n"
     ]
    }
   ],
   "source": [
    "score,acc = model.evaluate(X_test, Y_test,verbose = 2, batch_size = batch_size)\n",
    "print(\"loss_score: %.2f\" % (score))\n",
    "print(\"accuracy: %.2f\" % (acc))"
   ]
  },
  {
   "cell_type": "code",
   "execution_count": 34,
   "id": "c7639eab",
   "metadata": {
    "execution": {
     "iopub.execute_input": "2024-08-21T20:37:54.273702Z",
     "iopub.status.busy": "2024-08-21T20:37:54.273374Z",
     "iopub.status.idle": "2024-08-21T20:38:24.128247Z",
     "shell.execute_reply": "2024-08-21T20:38:24.127139Z"
    },
    "papermill": {
     "duration": 29.933353,
     "end_time": "2024-08-21T20:38:24.130353",
     "exception": false,
     "start_time": "2024-08-21T20:37:54.197000",
     "status": "completed"
    },
    "tags": []
   },
   "outputs": [
    {
     "name": "stdout",
     "output_type": "stream",
     "text": [
      "1/1 - 0s - 348ms/step\n",
      "1/1 - 0s - 23ms/step\n",
      "1/1 - 0s - 22ms/step\n",
      "1/1 - 0s - 22ms/step\n",
      "1/1 - 0s - 24ms/step\n",
      "1/1 - 0s - 24ms/step\n",
      "1/1 - 0s - 23ms/step\n",
      "1/1 - 0s - 23ms/step\n",
      "1/1 - 0s - 22ms/step\n",
      "1/1 - 0s - 26ms/step\n",
      "1/1 - 0s - 23ms/step\n",
      "1/1 - 0s - 24ms/step\n",
      "1/1 - 0s - 24ms/step\n",
      "1/1 - 0s - 22ms/step\n",
      "1/1 - 0s - 23ms/step\n",
      "1/1 - 0s - 22ms/step\n",
      "1/1 - 0s - 27ms/step\n",
      "1/1 - 0s - 22ms/step\n",
      "1/1 - 0s - 24ms/step\n",
      "1/1 - 0s - 22ms/step\n",
      "1/1 - 0s - 22ms/step\n",
      "1/1 - 0s - 24ms/step\n",
      "1/1 - 0s - 22ms/step\n",
      "1/1 - 0s - 23ms/step\n",
      "1/1 - 0s - 24ms/step\n",
      "1/1 - 0s - 22ms/step\n",
      "1/1 - 0s - 22ms/step\n",
      "1/1 - 0s - 22ms/step\n",
      "1/1 - 0s - 24ms/step\n",
      "1/1 - 0s - 29ms/step\n",
      "1/1 - 0s - 24ms/step\n",
      "1/1 - 0s - 24ms/step\n",
      "1/1 - 0s - 42ms/step\n",
      "1/1 - 0s - 22ms/step\n",
      "1/1 - 0s - 23ms/step\n",
      "1/1 - 0s - 22ms/step\n",
      "1/1 - 0s - 22ms/step\n",
      "1/1 - 0s - 26ms/step\n",
      "1/1 - 0s - 22ms/step\n",
      "1/1 - 0s - 24ms/step\n",
      "1/1 - 0s - 26ms/step\n",
      "1/1 - 0s - 23ms/step\n",
      "1/1 - 0s - 23ms/step\n",
      "1/1 - 0s - 22ms/step\n",
      "1/1 - 0s - 23ms/step\n",
      "1/1 - 0s - 22ms/step\n",
      "1/1 - 0s - 25ms/step\n",
      "1/1 - 0s - 23ms/step\n",
      "1/1 - 0s - 24ms/step\n",
      "1/1 - 0s - 27ms/step\n",
      "1/1 - 0s - 25ms/step\n",
      "1/1 - 0s - 26ms/step\n",
      "1/1 - 0s - 23ms/step\n",
      "1/1 - 0s - 26ms/step\n",
      "1/1 - 0s - 21ms/step\n",
      "1/1 - 0s - 24ms/step\n",
      "1/1 - 0s - 23ms/step\n",
      "1/1 - 0s - 25ms/step\n",
      "1/1 - 0s - 22ms/step\n",
      "1/1 - 0s - 22ms/step\n",
      "1/1 - 0s - 24ms/step\n",
      "1/1 - 0s - 22ms/step\n",
      "1/1 - 0s - 23ms/step\n",
      "1/1 - 0s - 23ms/step\n",
      "1/1 - 0s - 22ms/step\n",
      "1/1 - 0s - 24ms/step\n",
      "1/1 - 0s - 26ms/step\n",
      "1/1 - 0s - 25ms/step\n",
      "1/1 - 0s - 23ms/step\n",
      "1/1 - 0s - 26ms/step\n",
      "1/1 - 0s - 22ms/step\n",
      "1/1 - 0s - 23ms/step\n",
      "1/1 - 0s - 24ms/step\n",
      "1/1 - 0s - 22ms/step\n",
      "1/1 - 0s - 23ms/step\n",
      "1/1 - 0s - 23ms/step\n",
      "1/1 - 0s - 23ms/step\n",
      "1/1 - 0s - 23ms/step\n",
      "1/1 - 0s - 23ms/step\n",
      "1/1 - 0s - 22ms/step\n",
      "1/1 - 0s - 22ms/step\n",
      "1/1 - 0s - 22ms/step\n",
      "1/1 - 0s - 24ms/step\n",
      "1/1 - 0s - 22ms/step\n",
      "1/1 - 0s - 22ms/step\n",
      "1/1 - 0s - 24ms/step\n",
      "1/1 - 0s - 23ms/step\n",
      "1/1 - 0s - 22ms/step\n",
      "1/1 - 0s - 25ms/step\n",
      "1/1 - 0s - 24ms/step\n",
      "1/1 - 0s - 23ms/step\n",
      "1/1 - 0s - 23ms/step\n",
      "1/1 - 0s - 26ms/step\n",
      "1/1 - 0s - 22ms/step\n",
      "1/1 - 0s - 22ms/step\n",
      "1/1 - 0s - 24ms/step\n",
      "1/1 - 0s - 26ms/step\n",
      "1/1 - 0s - 22ms/step\n",
      "1/1 - 0s - 23ms/step\n",
      "1/1 - 0s - 23ms/step\n",
      "1/1 - 0s - 25ms/step\n",
      "1/1 - 0s - 23ms/step\n",
      "1/1 - 0s - 25ms/step\n",
      "1/1 - 0s - 25ms/step\n",
      "1/1 - 0s - 22ms/step\n",
      "1/1 - 0s - 22ms/step\n",
      "1/1 - 0s - 23ms/step\n",
      "1/1 - 0s - 22ms/step\n",
      "1/1 - 0s - 25ms/step\n",
      "1/1 - 0s - 23ms/step\n",
      "1/1 - 0s - 22ms/step\n",
      "1/1 - 0s - 22ms/step\n",
      "1/1 - 0s - 22ms/step\n",
      "1/1 - 0s - 23ms/step\n",
      "1/1 - 0s - 23ms/step\n",
      "1/1 - 0s - 25ms/step\n",
      "1/1 - 0s - 23ms/step\n",
      "1/1 - 0s - 22ms/step\n",
      "1/1 - 0s - 23ms/step\n",
      "1/1 - 0s - 22ms/step\n",
      "1/1 - 0s - 25ms/step\n",
      "1/1 - 0s - 23ms/step\n",
      "1/1 - 0s - 24ms/step\n",
      "1/1 - 0s - 22ms/step\n",
      "1/1 - 0s - 23ms/step\n",
      "1/1 - 0s - 24ms/step\n",
      "1/1 - 0s - 21ms/step\n",
      "1/1 - 0s - 23ms/step\n",
      "1/1 - 0s - 22ms/step\n",
      "1/1 - 0s - 24ms/step\n",
      "1/1 - 0s - 23ms/step\n",
      "1/1 - 0s - 24ms/step\n",
      "1/1 - 0s - 22ms/step\n",
      "1/1 - 0s - 23ms/step\n",
      "1/1 - 0s - 25ms/step\n",
      "1/1 - 0s - 23ms/step\n",
      "1/1 - 0s - 25ms/step\n",
      "1/1 - 0s - 26ms/step\n",
      "1/1 - 0s - 24ms/step\n",
      "1/1 - 0s - 23ms/step\n",
      "1/1 - 0s - 23ms/step\n",
      "1/1 - 0s - 23ms/step\n",
      "1/1 - 0s - 25ms/step\n",
      "1/1 - 0s - 23ms/step\n",
      "1/1 - 0s - 23ms/step\n",
      "1/1 - 0s - 22ms/step\n",
      "1/1 - 0s - 25ms/step\n",
      "1/1 - 0s - 22ms/step\n",
      "1/1 - 0s - 23ms/step\n",
      "1/1 - 0s - 23ms/step\n",
      "1/1 - 0s - 23ms/step\n",
      "1/1 - 0s - 23ms/step\n",
      "1/1 - 0s - 27ms/step\n",
      "1/1 - 0s - 24ms/step\n",
      "1/1 - 0s - 23ms/step\n",
      "1/1 - 0s - 24ms/step\n",
      "1/1 - 0s - 23ms/step\n",
      "1/1 - 0s - 23ms/step\n",
      "1/1 - 0s - 23ms/step\n",
      "1/1 - 0s - 22ms/step\n",
      "1/1 - 0s - 23ms/step\n",
      "1/1 - 0s - 22ms/step\n",
      "1/1 - 0s - 22ms/step\n",
      "1/1 - 0s - 22ms/step\n",
      "1/1 - 0s - 24ms/step\n",
      "1/1 - 0s - 25ms/step\n",
      "1/1 - 0s - 23ms/step\n",
      "1/1 - 0s - 26ms/step\n",
      "1/1 - 0s - 22ms/step\n",
      "1/1 - 0s - 22ms/step\n",
      "1/1 - 0s - 25ms/step\n",
      "1/1 - 0s - 22ms/step\n",
      "1/1 - 0s - 23ms/step\n",
      "1/1 - 0s - 22ms/step\n",
      "1/1 - 0s - 23ms/step\n",
      "1/1 - 0s - 22ms/step\n",
      "1/1 - 0s - 23ms/step\n",
      "1/1 - 0s - 22ms/step\n",
      "1/1 - 0s - 24ms/step\n",
      "1/1 - 0s - 23ms/step\n",
      "1/1 - 0s - 25ms/step\n",
      "1/1 - 0s - 26ms/step\n",
      "1/1 - 0s - 25ms/step\n",
      "1/1 - 0s - 27ms/step\n",
      "1/1 - 0s - 26ms/step\n",
      "1/1 - 0s - 23ms/step\n",
      "1/1 - 0s - 23ms/step\n",
      "1/1 - 0s - 22ms/step\n",
      "1/1 - 0s - 24ms/step\n",
      "1/1 - 0s - 22ms/step\n",
      "1/1 - 0s - 22ms/step\n",
      "1/1 - 0s - 24ms/step\n",
      "1/1 - 0s - 23ms/step\n",
      "1/1 - 0s - 23ms/step\n",
      "1/1 - 0s - 23ms/step\n",
      "1/1 - 0s - 23ms/step\n",
      "1/1 - 0s - 23ms/step\n",
      "1/1 - 0s - 24ms/step\n",
      "1/1 - 0s - 23ms/step\n",
      "1/1 - 0s - 24ms/step\n",
      "1/1 - 0s - 27ms/step\n",
      "1/1 - 0s - 22ms/step\n",
      "1/1 - 0s - 22ms/step\n",
      "1/1 - 0s - 32ms/step\n",
      "1/1 - 0s - 29ms/step\n",
      "1/1 - 0s - 26ms/step\n",
      "1/1 - 0s - 22ms/step\n",
      "1/1 - 0s - 24ms/step\n",
      "1/1 - 0s - 25ms/step\n",
      "1/1 - 0s - 24ms/step\n",
      "1/1 - 0s - 24ms/step\n",
      "1/1 - 0s - 25ms/step\n",
      "1/1 - 0s - 23ms/step\n",
      "1/1 - 0s - 22ms/step\n",
      "1/1 - 0s - 24ms/step\n",
      "1/1 - 0s - 23ms/step\n",
      "1/1 - 0s - 24ms/step\n",
      "1/1 - 0s - 23ms/step\n",
      "1/1 - 0s - 26ms/step\n",
      "1/1 - 0s - 26ms/step\n",
      "1/1 - 0s - 25ms/step\n",
      "1/1 - 0s - 25ms/step\n",
      "1/1 - 0s - 22ms/step\n",
      "1/1 - 0s - 22ms/step\n",
      "1/1 - 0s - 24ms/step\n",
      "1/1 - 0s - 25ms/step\n",
      "1/1 - 0s - 23ms/step\n",
      "1/1 - 0s - 24ms/step\n",
      "1/1 - 0s - 23ms/step\n",
      "1/1 - 0s - 24ms/step\n",
      "1/1 - 0s - 24ms/step\n",
      "1/1 - 0s - 29ms/step\n",
      "1/1 - 0s - 23ms/step\n",
      "1/1 - 0s - 24ms/step\n",
      "1/1 - 0s - 24ms/step\n",
      "1/1 - 0s - 26ms/step\n",
      "1/1 - 0s - 26ms/step\n",
      "1/1 - 0s - 23ms/step\n",
      "1/1 - 0s - 22ms/step\n",
      "1/1 - 0s - 23ms/step\n",
      "1/1 - 0s - 24ms/step\n",
      "1/1 - 0s - 26ms/step\n",
      "1/1 - 0s - 23ms/step\n",
      "1/1 - 0s - 24ms/step\n",
      "1/1 - 0s - 22ms/step\n",
      "1/1 - 0s - 22ms/step\n",
      "1/1 - 0s - 23ms/step\n",
      "1/1 - 0s - 23ms/step\n",
      "1/1 - 0s - 24ms/step\n",
      "1/1 - 0s - 22ms/step\n",
      "1/1 - 0s - 23ms/step\n",
      "1/1 - 0s - 24ms/step\n",
      "1/1 - 0s - 24ms/step\n",
      "1/1 - 0s - 23ms/step\n",
      "1/1 - 0s - 24ms/step\n",
      "1/1 - 0s - 24ms/step\n",
      "1/1 - 0s - 22ms/step\n",
      "1/1 - 0s - 22ms/step\n",
      "1/1 - 0s - 23ms/step\n",
      "1/1 - 0s - 22ms/step\n",
      "1/1 - 0s - 23ms/step\n",
      "1/1 - 0s - 24ms/step\n",
      "1/1 - 0s - 24ms/step\n",
      "1/1 - 0s - 24ms/step\n",
      "1/1 - 0s - 24ms/step\n",
      "1/1 - 0s - 23ms/step\n",
      "1/1 - 0s - 22ms/step\n",
      "1/1 - 0s - 25ms/step\n",
      "1/1 - 0s - 22ms/step\n",
      "1/1 - 0s - 22ms/step\n",
      "1/1 - 0s - 26ms/step\n",
      "1/1 - 0s - 28ms/step\n",
      "1/1 - 0s - 24ms/step\n",
      "1/1 - 0s - 23ms/step\n",
      "1/1 - 0s - 23ms/step\n",
      "1/1 - 0s - 26ms/step\n",
      "1/1 - 0s - 22ms/step\n",
      "1/1 - 0s - 24ms/step\n",
      "1/1 - 0s - 23ms/step\n",
      "1/1 - 0s - 23ms/step\n",
      "1/1 - 0s - 26ms/step\n",
      "1/1 - 0s - 24ms/step\n",
      "1/1 - 0s - 24ms/step\n",
      "1/1 - 0s - 23ms/step\n",
      "1/1 - 0s - 23ms/step\n",
      "1/1 - 0s - 24ms/step\n",
      "1/1 - 0s - 26ms/step\n",
      "1/1 - 0s - 26ms/step\n",
      "1/1 - 0s - 23ms/step\n",
      "1/1 - 0s - 23ms/step\n",
      "1/1 - 0s - 23ms/step\n",
      "1/1 - 0s - 26ms/step\n",
      "1/1 - 0s - 23ms/step\n",
      "1/1 - 0s - 24ms/step\n",
      "1/1 - 0s - 22ms/step\n",
      "1/1 - 0s - 22ms/step\n",
      "1/1 - 0s - 24ms/step\n",
      "1/1 - 0s - 26ms/step\n",
      "1/1 - 0s - 22ms/step\n",
      "1/1 - 0s - 24ms/step\n",
      "1/1 - 0s - 23ms/step\n",
      "1/1 - 0s - 24ms/step\n",
      "1/1 - 0s - 23ms/step\n",
      "1/1 - 0s - 23ms/step\n",
      "1/1 - 0s - 23ms/step\n",
      "1/1 - 0s - 22ms/step\n",
      "1/1 - 0s - 23ms/step\n",
      "1/1 - 0s - 24ms/step\n",
      "1/1 - 0s - 22ms/step\n",
      "1/1 - 0s - 25ms/step\n",
      "1/1 - 0s - 22ms/step\n",
      "1/1 - 0s - 23ms/step\n",
      "1/1 - 0s - 23ms/step\n",
      "1/1 - 0s - 25ms/step\n",
      "1/1 - 0s - 25ms/step\n",
      "1/1 - 0s - 22ms/step\n",
      "1/1 - 0s - 25ms/step\n",
      "1/1 - 0s - 24ms/step\n",
      "1/1 - 0s - 22ms/step\n",
      "1/1 - 0s - 23ms/step\n",
      "1/1 - 0s - 24ms/step\n",
      "1/1 - 0s - 24ms/step\n",
      "1/1 - 0s - 22ms/step\n",
      "1/1 - 0s - 22ms/step\n",
      "1/1 - 0s - 23ms/step\n",
      "1/1 - 0s - 23ms/step\n",
      "1/1 - 0s - 24ms/step\n",
      "1/1 - 0s - 22ms/step\n",
      "1/1 - 0s - 23ms/step\n",
      "1/1 - 0s - 23ms/step\n",
      "1/1 - 0s - 24ms/step\n",
      "1/1 - 0s - 23ms/step\n",
      "1/1 - 0s - 24ms/step\n",
      "1/1 - 0s - 23ms/step\n",
      "1/1 - 0s - 23ms/step\n",
      "1/1 - 0s - 25ms/step\n",
      "1/1 - 0s - 22ms/step\n",
      "1/1 - 0s - 23ms/step\n",
      "1/1 - 0s - 26ms/step\n",
      "1/1 - 0s - 26ms/step\n",
      "1/1 - 0s - 22ms/step\n",
      "1/1 - 0s - 22ms/step\n",
      "1/1 - 0s - 25ms/step\n",
      "1/1 - 0s - 24ms/step\n",
      "1/1 - 0s - 22ms/step\n",
      "1/1 - 0s - 25ms/step\n",
      "1/1 - 0s - 25ms/step\n",
      "1/1 - 0s - 24ms/step\n",
      "1/1 - 0s - 22ms/step\n",
      "1/1 - 0s - 22ms/step\n",
      "1/1 - 0s - 23ms/step\n",
      "1/1 - 0s - 25ms/step\n",
      "1/1 - 0s - 23ms/step\n",
      "1/1 - 0s - 24ms/step\n",
      "1/1 - 0s - 23ms/step\n",
      "1/1 - 0s - 21ms/step\n",
      "1/1 - 0s - 24ms/step\n",
      "1/1 - 0s - 22ms/step\n",
      "1/1 - 0s - 23ms/step\n",
      "1/1 - 0s - 23ms/step\n",
      "1/1 - 0s - 27ms/step\n",
      "1/1 - 0s - 23ms/step\n",
      "1/1 - 0s - 22ms/step\n",
      "1/1 - 0s - 23ms/step\n",
      "1/1 - 0s - 24ms/step\n",
      "1/1 - 0s - 23ms/step\n",
      "1/1 - 0s - 23ms/step\n",
      "1/1 - 0s - 37ms/step\n",
      "1/1 - 0s - 26ms/step\n",
      "1/1 - 0s - 36ms/step\n",
      "1/1 - 0s - 35ms/step\n",
      "1/1 - 0s - 28ms/step\n",
      "1/1 - 0s - 44ms/step\n",
      "1/1 - 0s - 32ms/step\n",
      "1/1 - 0s - 29ms/step\n",
      "1/1 - 0s - 30ms/step\n",
      "1/1 - 0s - 24ms/step\n",
      "1/1 - 0s - 28ms/step\n",
      "1/1 - 0s - 27ms/step\n",
      "1/1 - 0s - 25ms/step\n",
      "1/1 - 0s - 26ms/step\n",
      "1/1 - 0s - 27ms/step\n",
      "1/1 - 0s - 28ms/step\n",
      "1/1 - 0s - 27ms/step\n",
      "1/1 - 0s - 27ms/step\n",
      "1/1 - 0s - 24ms/step\n",
      "1/1 - 0s - 25ms/step\n",
      "1/1 - 0s - 24ms/step\n",
      "1/1 - 0s - 23ms/step\n",
      "1/1 - 0s - 23ms/step\n",
      "1/1 - 0s - 24ms/step\n",
      "1/1 - 0s - 23ms/step\n",
      "1/1 - 0s - 25ms/step\n",
      "1/1 - 0s - 24ms/step\n",
      "1/1 - 0s - 25ms/step\n",
      "1/1 - 0s - 27ms/step\n",
      "1/1 - 0s - 22ms/step\n",
      "1/1 - 0s - 22ms/step\n",
      "1/1 - 0s - 22ms/step\n",
      "1/1 - 0s - 22ms/step\n",
      "1/1 - 0s - 22ms/step\n",
      "1/1 - 0s - 23ms/step\n",
      "1/1 - 0s - 23ms/step\n",
      "1/1 - 0s - 22ms/step\n",
      "1/1 - 0s - 27ms/step\n",
      "1/1 - 0s - 22ms/step\n",
      "1/1 - 0s - 25ms/step\n",
      "1/1 - 0s - 23ms/step\n",
      "1/1 - 0s - 23ms/step\n",
      "1/1 - 0s - 24ms/step\n",
      "1/1 - 0s - 24ms/step\n",
      "1/1 - 0s - 24ms/step\n",
      "1/1 - 0s - 24ms/step\n",
      "1/1 - 0s - 23ms/step\n",
      "1/1 - 0s - 22ms/step\n",
      "1/1 - 0s - 23ms/step\n",
      "1/1 - 0s - 26ms/step\n",
      "1/1 - 0s - 21ms/step\n",
      "1/1 - 0s - 24ms/step\n",
      "1/1 - 0s - 23ms/step\n",
      "1/1 - 0s - 24ms/step\n",
      "1/1 - 0s - 23ms/step\n",
      "1/1 - 0s - 23ms/step\n",
      "1/1 - 0s - 22ms/step\n",
      "1/1 - 0s - 25ms/step\n",
      "1/1 - 0s - 23ms/step\n",
      "1/1 - 0s - 22ms/step\n",
      "1/1 - 0s - 25ms/step\n",
      "1/1 - 0s - 22ms/step\n",
      "1/1 - 0s - 25ms/step\n",
      "1/1 - 0s - 23ms/step\n",
      "1/1 - 0s - 23ms/step\n",
      "1/1 - 0s - 23ms/step\n",
      "1/1 - 0s - 22ms/step\n",
      "1/1 - 0s - 23ms/step\n",
      "1/1 - 0s - 23ms/step\n",
      "1/1 - 0s - 22ms/step\n",
      "1/1 - 0s - 22ms/step\n",
      "1/1 - 0s - 26ms/step\n",
      "1/1 - 0s - 23ms/step\n",
      "1/1 - 0s - 22ms/step\n",
      "1/1 - 0s - 23ms/step\n",
      "1/1 - 0s - 22ms/step\n",
      "1/1 - 0s - 24ms/step\n",
      "1/1 - 0s - 23ms/step\n",
      "1/1 - 0s - 23ms/step\n",
      "1/1 - 0s - 24ms/step\n",
      "1/1 - 0s - 24ms/step\n",
      "1/1 - 0s - 22ms/step\n",
      "1/1 - 0s - 25ms/step\n",
      "1/1 - 0s - 22ms/step\n",
      "1/1 - 0s - 26ms/step\n",
      "1/1 - 0s - 23ms/step\n",
      "1/1 - 0s - 22ms/step\n",
      "1/1 - 0s - 24ms/step\n",
      "1/1 - 0s - 29ms/step\n",
      "1/1 - 0s - 24ms/step\n",
      "1/1 - 0s - 24ms/step\n",
      "1/1 - 0s - 23ms/step\n",
      "1/1 - 0s - 24ms/step\n",
      "1/1 - 0s - 25ms/step\n",
      "1/1 - 0s - 24ms/step\n",
      "1/1 - 0s - 25ms/step\n",
      "1/1 - 0s - 25ms/step\n",
      "1/1 - 0s - 23ms/step\n",
      "1/1 - 0s - 22ms/step\n",
      "1/1 - 0s - 24ms/step\n",
      "1/1 - 0s - 28ms/step\n",
      "1/1 - 0s - 23ms/step\n",
      "1/1 - 0s - 24ms/step\n",
      "1/1 - 0s - 26ms/step\n",
      "1/1 - 0s - 23ms/step\n",
      "1/1 - 0s - 24ms/step\n",
      "1/1 - 0s - 23ms/step\n",
      "1/1 - 0s - 23ms/step\n",
      "1/1 - 0s - 25ms/step\n",
      "1/1 - 0s - 23ms/step\n",
      "1/1 - 0s - 22ms/step\n",
      "1/1 - 0s - 23ms/step\n",
      "1/1 - 0s - 24ms/step\n",
      "1/1 - 0s - 27ms/step\n",
      "1/1 - 0s - 22ms/step\n",
      "1/1 - 0s - 24ms/step\n",
      "1/1 - 0s - 22ms/step\n",
      "1/1 - 0s - 23ms/step\n",
      "1/1 - 0s - 23ms/step\n",
      "1/1 - 0s - 22ms/step\n",
      "1/1 - 0s - 22ms/step\n",
      "1/1 - 0s - 23ms/step\n",
      "1/1 - 0s - 27ms/step\n",
      "1/1 - 0s - 23ms/step\n",
      "1/1 - 0s - 23ms/step\n",
      "1/1 - 0s - 24ms/step\n",
      "1/1 - 0s - 25ms/step\n",
      "1/1 - 0s - 24ms/step\n",
      "1/1 - 0s - 23ms/step\n",
      "1/1 - 0s - 28ms/step\n",
      "1/1 - 0s - 24ms/step\n",
      "1/1 - 0s - 22ms/step\n",
      "1/1 - 0s - 23ms/step\n",
      "pos_acc 74.6268656716418 %\n",
      "neg_acc 84.48275862068965 %\n"
     ]
    }
   ],
   "source": [
    "pos_cnt, neg_cnt, pos_correct, neg_correct = 0, 0, 0, 0\n",
    "for x in range(len(X_validate)):\n",
    "    \n",
    "    result = model.predict(X_validate[x].reshape(1,X_test.shape[1]),batch_size=1,verbose = 2)[0]\n",
    "   \n",
    "    if np.argmax(result) == np.argmax(Y_validate[x]):\n",
    "        if np.argmax(Y_validate[x]) == 0:\n",
    "            neg_correct += 1\n",
    "        else:\n",
    "            pos_correct += 1\n",
    "       \n",
    "    if np.argmax(Y_validate[x]) == 0:\n",
    "        neg_cnt += 1\n",
    "    else:\n",
    "        pos_cnt += 1\n",
    "\n",
    "\n",
    "\n",
    "print(\"pos_acc\", pos_correct/pos_cnt*100, \"%\")\n",
    "print(\"neg_acc\", neg_correct/neg_cnt*100, \"%\")"
   ]
  },
  {
   "cell_type": "code",
   "execution_count": 35,
   "id": "7ea34e55",
   "metadata": {
    "execution": {
     "iopub.execute_input": "2024-08-21T20:38:24.358438Z",
     "iopub.status.busy": "2024-08-21T20:38:24.358069Z",
     "iopub.status.idle": "2024-08-21T20:38:24.740724Z",
     "shell.execute_reply": "2024-08-21T20:38:24.739633Z"
    },
    "papermill": {
     "duration": 0.497059,
     "end_time": "2024-08-21T20:38:24.742878",
     "exception": false,
     "start_time": "2024-08-21T20:38:24.245819",
     "status": "completed"
    },
    "tags": []
   },
   "outputs": [
    {
     "name": "stdout",
     "output_type": "stream",
     "text": [
      "[[   0    0    0    0    0    0    0    1   79  477    7   18  559 1000\n",
      "    39  275   55    7   10 1913    6    5  458  165  118   13    4 1562]]\n",
      "1/1 - 0s - 339ms/step\n",
      "negative\n"
     ]
    }
   ],
   "source": [
    "twt = ['I been told you that yo folks dont care about you . Im starving and my dad deadass didnt make me a plate']\n",
    "twt = tokenizer.texts_to_sequences(twt)\n",
    "twt = pad_sequences(twt, maxlen=28, dtype='int32', value=0)\n",
    "print(twt)\n",
    "sentiment = model.predict(twt,batch_size=1,verbose = 2)[0]\n",
    "if(np.argmax(sentiment) == 0):\n",
    "    print(\"negative\")\n",
    "elif (np.argmax(sentiment) == 1):\n",
    "    print(\"positive\")"
   ]
  },
  {
   "cell_type": "code",
   "execution_count": 36,
   "id": "0c1a40ed",
   "metadata": {
    "execution": {
     "iopub.execute_input": "2024-08-21T20:38:24.994648Z",
     "iopub.status.busy": "2024-08-21T20:38:24.994234Z",
     "iopub.status.idle": "2024-08-21T20:38:27.695736Z",
     "shell.execute_reply": "2024-08-21T20:38:27.694883Z"
    },
    "papermill": {
     "duration": 2.833857,
     "end_time": "2024-08-21T20:38:27.698046",
     "exception": false,
     "start_time": "2024-08-21T20:38:24.864189",
     "status": "completed"
    },
    "tags": []
   },
   "outputs": [],
   "source": [
    "model.save('lstm_model.h5')"
   ]
  },
  {
   "cell_type": "code",
   "execution_count": null,
   "id": "70866022",
   "metadata": {
    "papermill": {
     "duration": 0.111527,
     "end_time": "2024-08-21T20:38:27.921886",
     "exception": false,
     "start_time": "2024-08-21T20:38:27.810359",
     "status": "completed"
    },
    "tags": []
   },
   "outputs": [],
   "source": [
    "\n"
   ]
  },
  {
   "cell_type": "code",
   "execution_count": null,
   "id": "d4f7cd7b",
   "metadata": {
    "papermill": {
     "duration": 0.110827,
     "end_time": "2024-08-21T20:38:28.145261",
     "exception": false,
     "start_time": "2024-08-21T20:38:28.034434",
     "status": "completed"
    },
    "tags": []
   },
   "outputs": [],
   "source": []
  }
 ],
 "metadata": {
  "kaggle": {
   "accelerator": "nvidiaTeslaT4",
   "dataSources": [
    {
     "datasetId": 5557640,
     "sourceId": 9193227,
     "sourceType": "datasetVersion"
    }
   ],
   "dockerImageVersionId": 30762,
   "isGpuEnabled": true,
   "isInternetEnabled": true,
   "language": "python",
   "sourceType": "notebook"
  },
  "kernelspec": {
   "display_name": "Python 3",
   "language": "python",
   "name": "python3"
  },
  "language_info": {
   "codemirror_mode": {
    "name": "ipython",
    "version": 3
   },
   "file_extension": ".py",
   "mimetype": "text/x-python",
   "name": "python",
   "nbconvert_exporter": "python",
   "pygments_lexer": "ipython3",
   "version": "3.10.14"
  },
  "papermill": {
   "default_parameters": {},
   "duration": 340.05171,
   "end_time": "2024-08-21T20:38:30.985930",
   "environment_variables": {},
   "exception": null,
   "input_path": "__notebook__.ipynb",
   "output_path": "__notebook__.ipynb",
   "parameters": {},
   "start_time": "2024-08-21T20:32:50.934220",
   "version": "2.6.0"
  }
 },
 "nbformat": 4,
 "nbformat_minor": 5
}
