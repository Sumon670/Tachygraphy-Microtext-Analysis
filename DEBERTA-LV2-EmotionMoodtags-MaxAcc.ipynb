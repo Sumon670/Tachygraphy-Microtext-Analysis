{
 "cells": [
  {
   "cell_type": "code",
   "execution_count": 1,
   "id": "da0d7c7e",
   "metadata": {
    "_cell_guid": "b1076dfc-b9ad-4769-8c92-a6c4dae69d19",
    "_uuid": "8f2839f25d086af736a60e9eeb907d3b93b6e0e5",
    "execution": {
     "iopub.execute_input": "2024-08-29T18:12:03.894640Z",
     "iopub.status.busy": "2024-08-29T18:12:03.894272Z",
     "iopub.status.idle": "2024-08-29T18:12:04.765808Z",
     "shell.execute_reply": "2024-08-29T18:12:04.764687Z"
    },
    "papermill": {
     "duration": 0.910985,
     "end_time": "2024-08-29T18:12:04.767975",
     "exception": false,
     "start_time": "2024-08-29T18:12:03.856990",
     "status": "completed"
    },
    "tags": []
   },
   "outputs": [
    {
     "name": "stdout",
     "output_type": "stream",
     "text": [
      "/kaggle/input/dataset-tachygraphy/Tachygraphy_EmotionMoodtags_Dataset.csv\n",
      "/kaggle/input/dataset-tachygraphy/Tachygraphy_dataset_main.csv\n"
     ]
    }
   ],
   "source": [
    "# This Python 3 environment comes with many helpful analytics libraries installed\n",
    "# It is defined by the kaggle/python Docker image: https://github.com/kaggle/docker-python\n",
    "# For example, here's several helpful packages to load\n",
    "\n",
    "import numpy as np # linear algebra\n",
    "import pandas as pd # data processing, CSV file I/O (e.g. pd.read_csv)\n",
    "\n",
    "# Input data files are available in the read-only \"../input/\" directory\n",
    "# For example, running this (by clicking run or pressing Shift+Enter) will list all files under the input directory\n",
    "\n",
    "import os\n",
    "for dirname, _, filenames in os.walk('/kaggle/input'):\n",
    "    for filename in filenames:\n",
    "        print(os.path.join(dirname, filename))\n",
    "\n",
    "# You can write up to 20GB to the current directory (/kaggle/working/) that gets preserved as output when you create a version using \"Save & Run All\" \n",
    "# You can also write temporary files to /kaggle/temp/, but they won't be saved outside of the current session"
   ]
  },
  {
   "cell_type": "markdown",
   "id": "5d3cf465",
   "metadata": {
    "papermill": {
     "duration": 0.034318,
     "end_time": "2024-08-29T18:12:04.838570",
     "exception": false,
     "start_time": "2024-08-29T18:12:04.804252",
     "status": "completed"
    },
    "tags": []
   },
   "source": [
    "# DATASET & PREPROCESSING"
   ]
  },
  {
   "cell_type": "code",
   "execution_count": 2,
   "id": "da05dabe",
   "metadata": {
    "execution": {
     "iopub.execute_input": "2024-08-29T18:12:04.909079Z",
     "iopub.status.busy": "2024-08-29T18:12:04.908565Z",
     "iopub.status.idle": "2024-08-29T18:12:05.153804Z",
     "shell.execute_reply": "2024-08-29T18:12:05.152924Z"
    },
    "papermill": {
     "duration": 0.283199,
     "end_time": "2024-08-29T18:12:05.155952",
     "exception": false,
     "start_time": "2024-08-29T18:12:04.872753",
     "status": "completed"
    },
    "tags": []
   },
   "outputs": [
    {
     "data": {
      "text/plain": [
       "'For emoji cleaning'"
      ]
     },
     "execution_count": 2,
     "metadata": {},
     "output_type": "execute_result"
    }
   ],
   "source": [
    "import emoji\n",
    "from bs4 import BeautifulSoup\n",
    "import os\n",
    "import re\n",
    "import string\n",
    "import json\n",
    "\n",
    "'''For emoji cleaning'''"
   ]
  },
  {
   "cell_type": "code",
   "execution_count": 3,
   "id": "a1cb74fa",
   "metadata": {
    "execution": {
     "iopub.execute_input": "2024-08-29T18:12:05.227392Z",
     "iopub.status.busy": "2024-08-29T18:12:05.226882Z",
     "iopub.status.idle": "2024-08-29T18:12:05.268129Z",
     "shell.execute_reply": "2024-08-29T18:12:05.267324Z"
    },
    "papermill": {
     "duration": 0.079655,
     "end_time": "2024-08-29T18:12:05.270584",
     "exception": false,
     "start_time": "2024-08-29T18:12:05.190929",
     "status": "completed"
    },
    "tags": []
   },
   "outputs": [],
   "source": [
    "dataset = pd.read_csv('/kaggle/input/dataset-tachygraphy/Tachygraphy_EmotionMoodtags_Dataset.csv')"
   ]
  },
  {
   "cell_type": "code",
   "execution_count": 4,
   "id": "a21fce7d",
   "metadata": {
    "execution": {
     "iopub.execute_input": "2024-08-29T18:12:05.344175Z",
     "iopub.status.busy": "2024-08-29T18:12:05.343543Z",
     "iopub.status.idle": "2024-08-29T18:12:05.347988Z",
     "shell.execute_reply": "2024-08-29T18:12:05.346928Z"
    },
    "papermill": {
     "duration": 0.042698,
     "end_time": "2024-08-29T18:12:05.350060",
     "exception": false,
     "start_time": "2024-08-29T18:12:05.307362",
     "status": "completed"
    },
    "tags": []
   },
   "outputs": [],
   "source": [
    "df=dataset"
   ]
  },
  {
   "cell_type": "code",
   "execution_count": 5,
   "id": "392ec51c",
   "metadata": {
    "execution": {
     "iopub.execute_input": "2024-08-29T18:12:05.422821Z",
     "iopub.status.busy": "2024-08-29T18:12:05.422490Z",
     "iopub.status.idle": "2024-08-29T18:12:05.445568Z",
     "shell.execute_reply": "2024-08-29T18:12:05.444803Z"
    },
    "papermill": {
     "duration": 0.062784,
     "end_time": "2024-08-29T18:12:05.447569",
     "exception": false,
     "start_time": "2024-08-29T18:12:05.384785",
     "status": "completed"
    },
    "tags": []
   },
   "outputs": [],
   "source": [
    "contraction_mapping = {\"ain't\": \"is not\", \"aren't\": \"are not\",\"can't\": \"cannot\", \"'cause\": \"because\", \"could've\": \"could have\", \"couldn't\": \"could not\", \n",
    "                       \"didn't\": \"did not\",  \"doesn't\": \"does not\", \"don't\": \"do not\", \"hadn't\": \"had not\", \"hasn't\": \"has not\", \"haven't\": \"have not\", \n",
    "                       \"he'd\": \"he would\",\"he'll\": \"he will\", \"he's\": \"he is\", \"how'd\": \"how did\", \"how'd'y\": \"how do you\", \"how'll\": \"how will\", \n",
    "                       \"how's\": \"how is\",  \"I'd\": \"I would\", \"I'd've\": \"I would have\", \"I'll\": \"I will\", \"I'll've\": \"I will have\",\"I'm\": \"I am\",\n",
    "                       \"I've\": \"I have\", \"i'd\": \"i would\", \"i'd've\": \"i would have\", \"i'll\": \"i will\",  \"i'll've\": \"i will have\",\"i'm\": \"i am\", \n",
    "                       \"i've\": \"i have\", \"isn't\": \"is not\", \"it'd\": \"it would\", \"it'd've\": \"it would have\", \"it'll\": \"it will\", \"it'll've\": \"it will have\",\n",
    "                       \"it's\": \"it is\", \"let's\": \"let us\", \"ma'am\": \"madam\", \"mayn't\": \"may not\", \"might've\": \"might have\",\"mightn't\": \"might not\",\n",
    "                       \"mightn't've\": \"might not have\", \"must've\": \"must have\", \"mustn't\": \"must not\", \"mustn't've\": \"must not have\", \"needn't\": \"need not\", \n",
    "                       \"needn't've\": \"need not have\",\"o'clock\": \"of the clock\", \"oughtn't\": \"ought not\", \"oughtn't've\": \"ought not have\", \"shan't\": \"shall not\",\n",
    "                       \"sha'n't\": \"shall not\", \"shan't've\": \"shall not have\", \"she'd\": \"she would\", \"she'd've\": \"she would have\", \"she'll\": \"she will\", \n",
    "                       \"she'll've\": \"she will have\", \"she's\": \"she is\", \"should've\": \"should have\", \"shouldn't\": \"should not\", \"shouldn't've\": \"should not have\",\n",
    "                       \"so've\": \"so have\",\"so's\": \"so as\", \"this's\": \"this is\",\"that'd\": \"that would\", \"that'd've\": \"that would have\", \"that's\": \"that is\",\n",
    "                       \"there'd\": \"there would\", \"there'd've\": \"there would have\", \"there's\": \"there is\", \"here's\": \"here is\",\"they'd\": \"they would\",\n",
    "                       \"they'd've\": \"they would have\", \"they'll\": \"they will\", \"they'll've\": \"they will have\", \"they're\": \"they are\", \"they've\": \"they have\",\n",
    "                       \"to've\": \"to have\", \"wasn't\": \"was not\", \"we'd\": \"we would\", \"we'd've\": \"we would have\", \"we'll\": \"we will\", \"we'll've\": \"we will have\",\n",
    "                       \"we're\": \"we are\", \"we've\": \"we have\", \"weren't\": \"were not\", \"what'll\": \"what will\", \"what'll've\": \"what will have\", \n",
    "                       \"what're\": \"what are\",  \"what's\": \"what is\", \"what've\": \"what have\", \"when's\": \"when is\", \"when've\": \"when have\", \"where'd\": \"where did\",\n",
    "                       \"where's\": \"where is\", \"where've\": \"where have\", \"who'll\": \"who will\", \"who'll've\": \"who will have\", \"who's\": \"who is\", \n",
    "                       \"who've\": \"who have\", \"why's\": \"why is\", \"why've\": \"why have\", \"will've\": \"will have\", \"won't\": \"will not\", \"won't've\": \"will not have\", \n",
    "                       \"would've\": \"would have\", \"wouldn't\": \"would not\", \"wouldn't've\": \"would not have\", \"y'all\": \"you all\", \"y'all'd\": \"you all would\",\n",
    "                       \"y'all'd've\": \"you all would have\",\"y'all're\": \"you all are\",\"y'all've\": \"you all have\",\"you'd\": \"you would\", \"you'd've\": \"you would have\",\n",
    "                       \"you'll\": \"you will\", \"you'll've\": \"you will have\", \"you're\": \"you are\", \"you've\": \"you have\", 'u.s':'america', 'e.g':'for example'}\n",
    "\n",
    "punct = [',', '.', '\"', ':', ')', '(', '-', '!', '?', '|', ';', \"'\", '$', '&', '/', '[', ']', '>', '%', '=', '#', '*', '+', '\\\\', '•',  '~', '@', '£', \n",
    " '·', '_', '{', '}', '©', '^', '®', '`',  '<', '→', '°', '€', '™', '›',  '♥', '←', '×', '§', '″', '′', 'Â', '█', '½', 'à', '…', \n",
    " '“', '★', '”', '–', '●', 'â', '►', '−', '¢', '²', '¬', '░', '¶', '↑', '±', '¿', '▾', '═', '¦', '║', '―', '¥', '▓', '—', '‹', '─', \n",
    " '▒', '：', '¼', '⊕', '▼', '▪', '†', '■', '’', '▀', '¨', '▄', '♫', '☆', 'é', '¯', '♦', '¤', '▲', 'è', '¸', '¾', 'Ã', '⋅', '‘', '∞', \n",
    " '∙', '）', '↓', '、', '│', '（', '»', '，', '♪', '╩', '╚', '³', '・', '╦', '╣', '╔', '╗', '▬', '❤', 'ï', 'Ø', '¹', '≤', '‡', '√', ]\n",
    "\n",
    "punct_mapping = {\"‘\": \"'\", \"₹\": \"e\", \"´\": \"'\", \"°\": \"\", \"€\": \"e\", \"™\": \"tm\", \"√\": \" sqrt \", \"×\": \"x\", \"²\": \"2\", \"—\": \"-\", \"–\": \"-\", \"’\": \"'\", \"_\": \"-\",\n",
    "                 \"`\": \"'\", '“': '\"', '”': '\"', '“': '\"', \"£\": \"e\", '∞': 'infinity', 'θ': 'theta', '÷': '/', 'α': 'alpha', '•': '.', 'à': 'a', '−': '-', \n",
    "                 'β': 'beta', '∅': '', '³': '3', 'π': 'pi', '!':' '}\n",
    "\n",
    "mispell_dict = {'colour': 'color', 'centre': 'center', 'favourite': 'favorite', 'travelling': 'traveling', 'counselling': 'counseling', 'theatre': 'theater',\n",
    "                'cancelled': 'canceled', 'labour': 'labor', 'organisation': 'organization', 'wwii': 'world war 2', 'citicise': 'criticize', 'youtu ': 'youtube ',\n",
    "                'Qoura': 'Quora', 'sallary': 'salary', 'Whta': 'What', 'narcisist': 'narcissist', 'howdo': 'how do', 'whatare': 'what are', 'howcan': 'how can',\n",
    "                'howmuch': 'how much', 'howmany': 'how many', 'whydo': 'why do', 'doI': 'do I', 'theBest': 'the best', 'howdoes': 'how does', \n",
    "                'mastrubation': 'masturbation', 'mastrubate': 'masturbate', \"mastrubating\": 'masturbating', 'pennis': 'penis', 'Etherium': 'Ethereum', \n",
    "                'narcissit': 'narcissist', 'bigdata': 'big data', '2k17': '2017', '2k18': '2018', 'qouta': 'quota', 'exboyfriend': 'ex boyfriend', \n",
    "                'airhostess': 'air hostess', \"whst\": 'what', 'watsapp': 'whatsapp', 'demonitisation': 'demonetization', 'demonitization': 'demonetization',\n",
    "                'demonetisation': 'demonetization'}"
   ]
  },
  {
   "cell_type": "code",
   "execution_count": 6,
   "id": "1ad9f1e0",
   "metadata": {
    "execution": {
     "iopub.execute_input": "2024-08-29T18:12:05.520101Z",
     "iopub.status.busy": "2024-08-29T18:12:05.519295Z",
     "iopub.status.idle": "2024-08-29T18:12:05.532491Z",
     "shell.execute_reply": "2024-08-29T18:12:05.531708Z"
    },
    "papermill": {
     "duration": 0.051997,
     "end_time": "2024-08-29T18:12:05.534418",
     "exception": false,
     "start_time": "2024-08-29T18:12:05.482421",
     "status": "completed"
    },
    "tags": []
   },
   "outputs": [],
   "source": [
    "def clean_text(text):\n",
    "    '''Clean emoji, Make text lowercase, remove text in square brackets,remove links,remove punctuation\n",
    "    and remove words containing numbers.'''\n",
    "    text = emoji.demojize(text)\n",
    "    text = re.sub(r'\\:(.*?)\\:','',text)\n",
    "    text = str(text).lower()    #Making Text Lowercase\n",
    "    text = re.sub('\\[.*?\\]', '', text)\n",
    "    #The next 2 lines remove html text\n",
    "    text = BeautifulSoup(text, 'lxml').get_text()\n",
    "    text = re.sub('https?://\\S+|www\\.\\S+', '', text)\n",
    "    text = re.sub('<.*?>+', '', text)\n",
    "    text = re.sub('\\n', '', text)\n",
    "    text = re.sub('\\w*\\d\\w*', '', text)\n",
    "    # replacing everything with space except (a-z, A-Z, \".\", \"?\", \"!\", \",\", \"'\")\n",
    "    text = re.sub(r\"[^a-zA-Z?.!,¿']+\", \" \", text)\n",
    "    return text\n",
    "\n",
    "def clean_contractions(text, mapping):\n",
    "    '''Clean contraction using contraction mapping'''    \n",
    "    specials = [\"’\", \"‘\", \"´\", \"`\"]\n",
    "    for s in specials:\n",
    "        text = text.replace(s, \"'\")\n",
    "    for word in mapping.keys():\n",
    "        if \"\"+word+\"\" in text:\n",
    "            text = text.replace(\"\"+word+\"\", \"\"+mapping[word]+\"\")\n",
    "    #Remove Punctuations\n",
    "    text = re.sub('[%s]' % re.escape(string.punctuation), '', text)\n",
    "    # creating a space between a word and the punctuation following it\n",
    "    # eg: \"he is a boy.\" => \"he is a boy .\"\n",
    "    text = re.sub(r\"([?.!,¿])\", r\" \\1 \", text)\n",
    "    text = re.sub(r'[\" \"]+', \" \", text)\n",
    "    return text\n",
    "\n",
    "def clean_special_chars(text, punct, mapping):\n",
    "    '''Cleans special characters present(if any)'''   \n",
    "    for p in mapping:\n",
    "        text = text.replace(p, mapping[p])\n",
    "    \n",
    "    for p in punct:\n",
    "        text = text.replace(p, f' {p} ')\n",
    "    \n",
    "    specials = {'\\u200b': ' ', '…': ' ... ', '\\ufeff': '', 'करना': '', 'है': ''}  \n",
    "    for s in specials:\n",
    "        text = text.replace(s, specials[s])\n",
    "    \n",
    "    return text\n",
    "\n",
    "def correct_spelling(x, dic):\n",
    "    '''Corrects common spelling errors'''   \n",
    "    for word in dic.keys():\n",
    "        x = x.replace(word, dic[word])\n",
    "    return x\n",
    "\n",
    "def remove_space(text):\n",
    "    '''Removes awkward spaces'''   \n",
    "    #Removes awkward spaces \n",
    "    text = text.strip()\n",
    "    text = text.split()\n",
    "    return \" \".join(text)"
   ]
  },
  {
   "cell_type": "code",
   "execution_count": 7,
   "id": "b9ca58cb",
   "metadata": {
    "execution": {
     "iopub.execute_input": "2024-08-29T18:12:05.605056Z",
     "iopub.status.busy": "2024-08-29T18:12:05.604692Z",
     "iopub.status.idle": "2024-08-29T18:12:05.609848Z",
     "shell.execute_reply": "2024-08-29T18:12:05.608967Z"
    },
    "papermill": {
     "duration": 0.042857,
     "end_time": "2024-08-29T18:12:05.611820",
     "exception": false,
     "start_time": "2024-08-29T18:12:05.568963",
     "status": "completed"
    },
    "tags": []
   },
   "outputs": [],
   "source": [
    "def text_preprocessing_pipeline(text):\n",
    "    '''Cleaning and parsing the text.'''\n",
    "    text = clean_contractions(text, contraction_mapping)\n",
    "    text = clean_text(text)\n",
    "    text = clean_contractions(text, contraction_mapping)\n",
    "    text = clean_special_chars(text, punct, punct_mapping)\n",
    "#     text = correct_spelling(text, mispell_dict)\n",
    "    text = remove_space(text)\n",
    "    return text"
   ]
  },
  {
   "cell_type": "code",
   "execution_count": 8,
   "id": "792baf1a",
   "metadata": {
    "execution": {
     "iopub.execute_input": "2024-08-29T18:12:05.682358Z",
     "iopub.status.busy": "2024-08-29T18:12:05.681971Z",
     "iopub.status.idle": "2024-08-29T18:12:05.695246Z",
     "shell.execute_reply": "2024-08-29T18:12:05.694329Z"
    },
    "papermill": {
     "duration": 0.050778,
     "end_time": "2024-08-29T18:12:05.697132",
     "exception": false,
     "start_time": "2024-08-29T18:12:05.646354",
     "status": "completed"
    },
    "tags": []
   },
   "outputs": [
    {
     "data": {
      "text/plain": [
       "0                                last session of the day \n",
       "1       shanghai is also really exciting precisely  sk...\n",
       "2                                  submit the report asap\n",
       "3                                              happy bday\n",
       "4                                      the ogs  i like it\n",
       "                              ...                        \n",
       "4953      make a pet face  wtf wrong with me tonight haha\n",
       "4954         i dnt care anymore  boyz aint worth d drama \n",
       "4955    no relationship is perfect tho me bae goo from...\n",
       "4956    over here tryna get my nail polishes and shit lol\n",
       "4957                       no one was loved d way i luv u\n",
       "Name: text, Length: 4958, dtype: object"
      ]
     },
     "execution_count": 8,
     "metadata": {},
     "output_type": "execute_result"
    }
   ],
   "source": [
    "df['text']"
   ]
  },
  {
   "cell_type": "code",
   "execution_count": 9,
   "id": "710b2464",
   "metadata": {
    "execution": {
     "iopub.execute_input": "2024-08-29T18:12:05.768342Z",
     "iopub.status.busy": "2024-08-29T18:12:05.767696Z",
     "iopub.status.idle": "2024-08-29T18:12:05.780211Z",
     "shell.execute_reply": "2024-08-29T18:12:05.779453Z"
    },
    "papermill": {
     "duration": 0.050375,
     "end_time": "2024-08-29T18:12:05.782147",
     "exception": false,
     "start_time": "2024-08-29T18:12:05.731772",
     "status": "completed"
    },
    "tags": []
   },
   "outputs": [],
   "source": [
    "emotion_columns = ['anger', 'disgust', 'fear', 'joy', 'neutral', 'sadness', 'surprise']\n",
    "df[emotion_columns] = df[emotion_columns].astype(float)"
   ]
  },
  {
   "cell_type": "code",
   "execution_count": 10,
   "id": "f38ce5fa",
   "metadata": {
    "execution": {
     "iopub.execute_input": "2024-08-29T18:12:05.853970Z",
     "iopub.status.busy": "2024-08-29T18:12:05.853294Z",
     "iopub.status.idle": "2024-08-29T18:12:05.858514Z",
     "shell.execute_reply": "2024-08-29T18:12:05.857628Z"
    },
    "papermill": {
     "duration": 0.04284,
     "end_time": "2024-08-29T18:12:05.860388",
     "exception": false,
     "start_time": "2024-08-29T18:12:05.817548",
     "status": "completed"
    },
    "tags": []
   },
   "outputs": [],
   "source": [
    "df['text'] = df['text'].astype(str)\n",
    "# df['anger'] = df['anger'].astype(float)\n",
    "# df['disgust'] = df['disgust'].astype(float)\n",
    "# df['fear'] = df['fear'].astype(float)\n",
    "# df['joy'] = df['joy'].astype(float)\n",
    "# df['neutral'] = df['neutral'].astype(float)\n",
    "# df['sadness'] = df['sadness'].astype(float)\n",
    "# df['surprise'] = df['surprise'].astype(float)"
   ]
  },
  {
   "cell_type": "code",
   "execution_count": 11,
   "id": "1a0514b6",
   "metadata": {
    "execution": {
     "iopub.execute_input": "2024-08-29T18:12:05.932175Z",
     "iopub.status.busy": "2024-08-29T18:12:05.931385Z",
     "iopub.status.idle": "2024-08-29T18:12:08.346193Z",
     "shell.execute_reply": "2024-08-29T18:12:08.345294Z"
    },
    "papermill": {
     "duration": 2.453432,
     "end_time": "2024-08-29T18:12:08.348795",
     "exception": false,
     "start_time": "2024-08-29T18:12:05.895363",
     "status": "completed"
    },
    "tags": []
   },
   "outputs": [],
   "source": [
    "df['text'] = df['text'].apply(lambda x: text_preprocessing_pipeline(x))"
   ]
  },
  {
   "cell_type": "code",
   "execution_count": 12,
   "id": "847c95b6",
   "metadata": {
    "execution": {
     "iopub.execute_input": "2024-08-29T18:12:08.422709Z",
     "iopub.status.busy": "2024-08-29T18:12:08.421897Z",
     "iopub.status.idle": "2024-08-29T18:12:08.429658Z",
     "shell.execute_reply": "2024-08-29T18:12:08.428800Z"
    },
    "papermill": {
     "duration": 0.046895,
     "end_time": "2024-08-29T18:12:08.431580",
     "exception": false,
     "start_time": "2024-08-29T18:12:08.384685",
     "status": "completed"
    },
    "tags": []
   },
   "outputs": [
    {
     "data": {
      "text/plain": [
       "0                                 last session of the day\n",
       "1       shanghai is also really exciting precisely sky...\n",
       "2                                  submit the report asap\n",
       "3                                              happy bday\n",
       "4                                       the ogs i like it\n",
       "                              ...                        \n",
       "4953       make a pet face wtf wrong with me tonight haha\n",
       "4954           i dnt care anymore boyz aint worth d drama\n",
       "4955    no relationship is perfect tho me bae goo from...\n",
       "4956    over here tryna get my nail polishes and shit lol\n",
       "4957                       no one was loved d way i luv u\n",
       "Name: text, Length: 4958, dtype: object"
      ]
     },
     "execution_count": 12,
     "metadata": {},
     "output_type": "execute_result"
    }
   ],
   "source": [
    "df['text']"
   ]
  },
  {
   "cell_type": "code",
   "execution_count": 13,
   "id": "4ea0fe6d",
   "metadata": {
    "execution": {
     "iopub.execute_input": "2024-08-29T18:12:08.508401Z",
     "iopub.status.busy": "2024-08-29T18:12:08.508066Z",
     "iopub.status.idle": "2024-08-29T18:12:08.515300Z",
     "shell.execute_reply": "2024-08-29T18:12:08.514570Z"
    },
    "papermill": {
     "duration": 0.050297,
     "end_time": "2024-08-29T18:12:08.517472",
     "exception": false,
     "start_time": "2024-08-29T18:12:08.467175",
     "status": "completed"
    },
    "tags": []
   },
   "outputs": [],
   "source": [
    "df.drop(columns=['serial', 'pred', 'label', 'score'], inplace=True)"
   ]
  },
  {
   "cell_type": "code",
   "execution_count": 14,
   "id": "e5092b56",
   "metadata": {
    "execution": {
     "iopub.execute_input": "2024-08-29T18:12:08.591602Z",
     "iopub.status.busy": "2024-08-29T18:12:08.591281Z",
     "iopub.status.idle": "2024-08-29T18:12:08.595890Z",
     "shell.execute_reply": "2024-08-29T18:12:08.595003Z"
    },
    "papermill": {
     "duration": 0.042607,
     "end_time": "2024-08-29T18:12:08.597769",
     "exception": false,
     "start_time": "2024-08-29T18:12:08.555162",
     "status": "completed"
    },
    "tags": []
   },
   "outputs": [],
   "source": [
    "emotion_label_mapping = {\n",
    "    0: \"anger\", 1: \"disgust\", 2: \"fear\", 3: \"joy\", 4: \"neutral\",\n",
    "    5: \"sadness\", 6: \"surprise\"\n",
    "}"
   ]
  },
  {
   "cell_type": "code",
   "execution_count": 15,
   "id": "f3302eb9",
   "metadata": {
    "execution": {
     "iopub.execute_input": "2024-08-29T18:12:08.708639Z",
     "iopub.status.busy": "2024-08-29T18:12:08.707934Z",
     "iopub.status.idle": "2024-08-29T18:12:08.712320Z",
     "shell.execute_reply": "2024-08-29T18:12:08.711488Z"
    },
    "papermill": {
     "duration": 0.081327,
     "end_time": "2024-08-29T18:12:08.714179",
     "exception": false,
     "start_time": "2024-08-29T18:12:08.632852",
     "status": "completed"
    },
    "tags": []
   },
   "outputs": [],
   "source": [
    "EMOTION_LABELS = [\n",
    "    \"anger\", \"disgust\", \"fear\", \"joy\", \"neutral\",\n",
    "    \"sadness\", \"surprise\"\n",
    "]"
   ]
  },
  {
   "cell_type": "code",
   "execution_count": 16,
   "id": "504fe8e7",
   "metadata": {
    "execution": {
     "iopub.execute_input": "2024-08-29T18:12:08.785368Z",
     "iopub.status.busy": "2024-08-29T18:12:08.785042Z",
     "iopub.status.idle": "2024-08-29T18:12:08.789765Z",
     "shell.execute_reply": "2024-08-29T18:12:08.788917Z"
    },
    "papermill": {
     "duration": 0.042691,
     "end_time": "2024-08-29T18:12:08.791671",
     "exception": false,
     "start_time": "2024-08-29T18:12:08.748980",
     "status": "completed"
    },
    "tags": []
   },
   "outputs": [],
   "source": [
    "def test_train_split(dataset, test_ratio=0.1):\n",
    "  test_indices = np.random.rand(len(dataset)) < test_ratio\n",
    "  return dataset[~test_indices], dataset[test_indices]"
   ]
  },
  {
   "cell_type": "code",
   "execution_count": 17,
   "id": "2cb1e1c4",
   "metadata": {
    "execution": {
     "iopub.execute_input": "2024-08-29T18:12:08.862946Z",
     "iopub.status.busy": "2024-08-29T18:12:08.862642Z",
     "iopub.status.idle": "2024-08-29T18:12:08.871603Z",
     "shell.execute_reply": "2024-08-29T18:12:08.870640Z"
    },
    "papermill": {
     "duration": 0.046773,
     "end_time": "2024-08-29T18:12:08.873546",
     "exception": false,
     "start_time": "2024-08-29T18:12:08.826773",
     "status": "completed"
    },
    "tags": []
   },
   "outputs": [
    {
     "name": "stdout",
     "output_type": "stream",
     "text": [
      "4466 examples in training, 492 examples in testing.\n"
     ]
    }
   ],
   "source": [
    "train_ds_pd, validation_ds_pd = test_train_split(df)\n",
    "print(\"{} examples in training, {} examples in testing.\".format(\n",
    "    len(train_ds_pd), len(validation_ds_pd)))"
   ]
  },
  {
   "cell_type": "code",
   "execution_count": 18,
   "id": "dd95debb",
   "metadata": {
    "execution": {
     "iopub.execute_input": "2024-08-29T18:12:08.945748Z",
     "iopub.status.busy": "2024-08-29T18:12:08.945093Z",
     "iopub.status.idle": "2024-08-29T18:12:08.951199Z",
     "shell.execute_reply": "2024-08-29T18:12:08.950485Z"
    },
    "papermill": {
     "duration": 0.043888,
     "end_time": "2024-08-29T18:12:08.952979",
     "exception": false,
     "start_time": "2024-08-29T18:12:08.909091",
     "status": "completed"
    },
    "tags": []
   },
   "outputs": [],
   "source": [
    "train_ds_pd = train_ds_pd.reset_index(drop=True)\n",
    "validation_ds_pd = validation_ds_pd.reset_index(drop=True)"
   ]
  },
  {
   "cell_type": "code",
   "execution_count": 19,
   "id": "030a841d",
   "metadata": {
    "execution": {
     "iopub.execute_input": "2024-08-29T18:12:09.026541Z",
     "iopub.status.busy": "2024-08-29T18:12:09.026214Z",
     "iopub.status.idle": "2024-08-29T18:12:12.700680Z",
     "shell.execute_reply": "2024-08-29T18:12:12.699884Z"
    },
    "papermill": {
     "duration": 3.714389,
     "end_time": "2024-08-29T18:12:12.702955",
     "exception": false,
     "start_time": "2024-08-29T18:12:08.988566",
     "status": "completed"
    },
    "tags": []
   },
   "outputs": [],
   "source": [
    "import torch\n",
    "import torch.nn\n",
    "import torch.nn as nn"
   ]
  },
  {
   "cell_type": "markdown",
   "id": "7dabf961",
   "metadata": {
    "papermill": {
     "duration": 0.034658,
     "end_time": "2024-08-29T18:12:12.772946",
     "exception": false,
     "start_time": "2024-08-29T18:12:12.738288",
     "status": "completed"
    },
    "tags": []
   },
   "source": [
    "### SETTING CUDA"
   ]
  },
  {
   "cell_type": "code",
   "execution_count": 20,
   "id": "cfca6056",
   "metadata": {
    "execution": {
     "iopub.execute_input": "2024-08-29T18:12:12.845217Z",
     "iopub.status.busy": "2024-08-29T18:12:12.844400Z",
     "iopub.status.idle": "2024-08-29T18:12:12.935666Z",
     "shell.execute_reply": "2024-08-29T18:12:12.934687Z"
    },
    "papermill": {
     "duration": 0.129794,
     "end_time": "2024-08-29T18:12:12.937598",
     "exception": false,
     "start_time": "2024-08-29T18:12:12.807804",
     "status": "completed"
    },
    "tags": []
   },
   "outputs": [],
   "source": [
    "device = 'cuda' if torch.cuda.is_available() else 'cpu'"
   ]
  },
  {
   "cell_type": "code",
   "execution_count": 21,
   "id": "f0a8978b",
   "metadata": {
    "execution": {
     "iopub.execute_input": "2024-08-29T18:12:13.009736Z",
     "iopub.status.busy": "2024-08-29T18:12:13.008913Z",
     "iopub.status.idle": "2024-08-29T18:12:13.013386Z",
     "shell.execute_reply": "2024-08-29T18:12:13.012554Z"
    },
    "papermill": {
     "duration": 0.042542,
     "end_time": "2024-08-29T18:12:13.015348",
     "exception": false,
     "start_time": "2024-08-29T18:12:12.972806",
     "status": "completed"
    },
    "tags": []
   },
   "outputs": [],
   "source": [
    "device = torch.device(\"cuda\" if torch.cuda.is_available() else \"cpu\")"
   ]
  },
  {
   "cell_type": "code",
   "execution_count": 22,
   "id": "0ff8d604",
   "metadata": {
    "execution": {
     "iopub.execute_input": "2024-08-29T18:12:13.086995Z",
     "iopub.status.busy": "2024-08-29T18:12:13.086639Z",
     "iopub.status.idle": "2024-08-29T18:12:15.429359Z",
     "shell.execute_reply": "2024-08-29T18:12:15.427831Z"
    },
    "papermill": {
     "duration": 2.381748,
     "end_time": "2024-08-29T18:12:15.432172",
     "exception": false,
     "start_time": "2024-08-29T18:12:13.050424",
     "status": "completed"
    },
    "tags": []
   },
   "outputs": [],
   "source": [
    "from transformers import RobertaTokenizer, RobertaModel\n",
    "from transformers import DebertaV2Model, DebertaV2Tokenizer\n",
    "from torch.utils.data import Dataset, DataLoader"
   ]
  },
  {
   "cell_type": "code",
   "execution_count": 23,
   "id": "ec4b1e1b",
   "metadata": {
    "execution": {
     "iopub.execute_input": "2024-08-29T18:12:15.504152Z",
     "iopub.status.busy": "2024-08-29T18:12:15.503627Z",
     "iopub.status.idle": "2024-08-29T18:12:18.293455Z",
     "shell.execute_reply": "2024-08-29T18:12:18.292499Z"
    },
    "papermill": {
     "duration": 2.827961,
     "end_time": "2024-08-29T18:12:18.295626",
     "exception": false,
     "start_time": "2024-08-29T18:12:15.467665",
     "status": "completed"
    },
    "tags": []
   },
   "outputs": [
    {
     "data": {
      "application/vnd.jupyter.widget-view+json": {
       "model_id": "a67eaf6295fe40828e8f2677510ffbaf",
       "version_major": 2,
       "version_minor": 0
      },
      "text/plain": [
       "tokenizer_config.json:   0%|          | 0.00/52.0 [00:00<?, ?B/s]"
      ]
     },
     "metadata": {},
     "output_type": "display_data"
    },
    {
     "data": {
      "application/vnd.jupyter.widget-view+json": {
       "model_id": "77cc1a243a644fb782cc784af7338edb",
       "version_major": 2,
       "version_minor": 0
      },
      "text/plain": [
       "spm.model:   0%|          | 0.00/2.46M [00:00<?, ?B/s]"
      ]
     },
     "metadata": {},
     "output_type": "display_data"
    },
    {
     "data": {
      "application/vnd.jupyter.widget-view+json": {
       "model_id": "8dbd67ecc0b945a8b106dbacec0524bf",
       "version_major": 2,
       "version_minor": 0
      },
      "text/plain": [
       "config.json:   0%|          | 0.00/579 [00:00<?, ?B/s]"
      ]
     },
     "metadata": {},
     "output_type": "display_data"
    },
    {
     "name": "stderr",
     "output_type": "stream",
     "text": [
      "/opt/conda/lib/python3.10/site-packages/transformers/tokenization_utils_base.py:1601: FutureWarning: `clean_up_tokenization_spaces` was not set. It will be set to `True` by default. This behavior will be depracted in transformers v4.45, and will be then set to `False` by default. For more details check this issue: https://github.com/huggingface/transformers/issues/31884\n",
      "  warnings.warn(\n"
     ]
    }
   ],
   "source": [
    "# tokenizer = RobertaTokenizer.from_pretrained('roberta-base')\n",
    "tokenizer = DebertaV2Tokenizer.from_pretrained('microsoft/deberta-v3-base')"
   ]
  },
  {
   "cell_type": "code",
   "execution_count": 24,
   "id": "b2d64c96",
   "metadata": {
    "execution": {
     "iopub.execute_input": "2024-08-29T18:12:18.368350Z",
     "iopub.status.busy": "2024-08-29T18:12:18.367485Z",
     "iopub.status.idle": "2024-08-29T18:12:18.371552Z",
     "shell.execute_reply": "2024-08-29T18:12:18.370705Z"
    },
    "papermill": {
     "duration": 0.042142,
     "end_time": "2024-08-29T18:12:18.373485",
     "exception": false,
     "start_time": "2024-08-29T18:12:18.331343",
     "status": "completed"
    },
    "tags": []
   },
   "outputs": [],
   "source": [
    "# !pip install optuna"
   ]
  },
  {
   "cell_type": "markdown",
   "id": "0d3e5fef",
   "metadata": {
    "papermill": {
     "duration": 0.036242,
     "end_time": "2024-08-29T18:12:18.444920",
     "exception": false,
     "start_time": "2024-08-29T18:12:18.408678",
     "status": "completed"
    },
    "tags": []
   },
   "source": [
    "## TORCH IMPORTS"
   ]
  },
  {
   "cell_type": "code",
   "execution_count": 25,
   "id": "fe1224d9",
   "metadata": {
    "execution": {
     "iopub.execute_input": "2024-08-29T18:12:18.517855Z",
     "iopub.status.busy": "2024-08-29T18:12:18.516882Z",
     "iopub.status.idle": "2024-08-29T18:12:36.001766Z",
     "shell.execute_reply": "2024-08-29T18:12:36.000837Z"
    },
    "papermill": {
     "duration": 17.523983,
     "end_time": "2024-08-29T18:12:36.004129",
     "exception": false,
     "start_time": "2024-08-29T18:12:18.480146",
     "status": "completed"
    },
    "tags": []
   },
   "outputs": [
    {
     "name": "stderr",
     "output_type": "stream",
     "text": [
      "2024-08-29 18:12:20,687\tINFO util.py:124 -- Outdated packages:\n",
      "  ipywidgets==7.7.1 found, needs ipywidgets>=8\n",
      "Run `pip install -U ipywidgets`, then restart the notebook server for rich notebook output.\n",
      "2024-08-29 18:12:21,219\tINFO util.py:124 -- Outdated packages:\n",
      "  ipywidgets==7.7.1 found, needs ipywidgets>=8\n",
      "Run `pip install -U ipywidgets`, then restart the notebook server for rich notebook output.\n"
     ]
    }
   ],
   "source": [
    "from torch.optim import AdamW\n",
    "import torch.optim as optim\n",
    "from torch.utils.data import Dataset, DataLoader\n",
    "from transformers import RobertaTokenizer, RobertaModel\n",
    "from sklearn.model_selection import train_test_split\n",
    "import optuna\n",
    "# from optuna.integration import PyTorchLightningPruner\n",
    "from ray import tune\n",
    "import ray\n",
    "from ray import tune\n",
    "from ray.tune import CLIReporter\n",
    "from ray.tune import CLIReporter\n",
    "from ray.tune.schedulers import ASHAScheduler\n",
    "from ray.tune.schedulers import ASHAScheduler\n",
    "# from ray.tune.integration.pytorch import TuneReportCallback\n",
    "from torch.amp import GradScaler, autocast\n",
    "# from ray.tune.integration.optuna import OptunaSearch\n",
    "from ray.tune.search.optuna import OptunaSearch\n",
    "from ray import tune\n",
    "from ray.tune.search.hyperopt import HyperOptSearch\n",
    "from torch import autocast\n",
    "# from ray import tune\n",
    "# from ray.tune.integration.tensorboard import TensorBoardReporter\n",
    "from ray.tune.logger import TBXLogger\n",
    "from torch.utils.tensorboard import SummaryWriter\n",
    "from ray.train import report\n",
    "# from ray.tune.integration.jupyter import JupyterNotebookReporter\n",
    "from ray.tune import JupyterNotebookReporter\n",
    "# from torch.cuda.amp import GradScaler, autocast\n",
    "from torch.optim.lr_scheduler import StepLR, CosineAnnealingLR\n",
    "from ray.tune.schedulers import HyperBandScheduler, AsyncHyperBandScheduler"
   ]
  },
  {
   "cell_type": "markdown",
   "id": "10c42891",
   "metadata": {
    "papermill": {
     "duration": 0.035296,
     "end_time": "2024-08-29T18:12:36.075855",
     "exception": false,
     "start_time": "2024-08-29T18:12:36.040559",
     "status": "completed"
    },
    "tags": []
   },
   "source": [
    "# DATASET CONFIG & ENCODING"
   ]
  },
  {
   "cell_type": "code",
   "execution_count": 26,
   "id": "62b2f884",
   "metadata": {
    "execution": {
     "iopub.execute_input": "2024-08-29T18:12:36.149114Z",
     "iopub.status.busy": "2024-08-29T18:12:36.147893Z",
     "iopub.status.idle": "2024-08-29T18:12:36.156888Z",
     "shell.execute_reply": "2024-08-29T18:12:36.156059Z"
    },
    "papermill": {
     "duration": 0.04764,
     "end_time": "2024-08-29T18:12:36.158824",
     "exception": false,
     "start_time": "2024-08-29T18:12:36.111184",
     "status": "completed"
    },
    "tags": []
   },
   "outputs": [],
   "source": [
    "class EmotionDataset(Dataset):\n",
    "    def __init__(self, dataframe, tokenizer, max_len):\n",
    "        self.tokenizer = tokenizer\n",
    "        self.data = dataframe\n",
    "        self.max_len = max_len\n",
    "\n",
    "    def __len__(self):\n",
    "        return len(self.data)\n",
    "\n",
    "    def __getitem__(self, index):\n",
    "#         text = self.data.iloc[index, 0]\n",
    "#         labels = self.data.iloc[index, 1:].values.astype(float)\n",
    "        text = str(self.data.iloc[index]['text'])\n",
    "        labels = self.data.iloc[index][['anger', 'disgust', 'fear', 'joy', 'neutral', 'sadness', 'surprise']].values.astype(np.float32)\n",
    "\n",
    "        inputs = self.tokenizer.encode_plus(\n",
    "            text,\n",
    "            None,\n",
    "            add_special_tokens=True,\n",
    "            max_length=self.max_len,\n",
    "            padding='max_length',\n",
    "            truncation=True,\n",
    "            return_token_type_ids=False\n",
    "        )\n",
    "\n",
    "        input_ids = inputs['input_ids']\n",
    "        attention_mask = inputs['attention_mask']\n",
    "\n",
    "        return {\n",
    "            'input_ids': torch.tensor(input_ids, dtype=torch.long),\n",
    "            'attention_mask': torch.tensor(attention_mask, dtype=torch.long),\n",
    "            'labels': torch.tensor(labels, dtype=torch.float)\n",
    "        }"
   ]
  },
  {
   "cell_type": "markdown",
   "id": "4613d230",
   "metadata": {
    "papermill": {
     "duration": 0.035488,
     "end_time": "2024-08-29T18:12:36.230105",
     "exception": false,
     "start_time": "2024-08-29T18:12:36.194617",
     "status": "completed"
    },
    "tags": []
   },
   "source": [
    "# MODEL DEFINITION"
   ]
  },
  {
   "cell_type": "code",
   "execution_count": 27,
   "id": "4b12d31f",
   "metadata": {
    "execution": {
     "iopub.execute_input": "2024-08-29T18:12:36.303493Z",
     "iopub.status.busy": "2024-08-29T18:12:36.302755Z",
     "iopub.status.idle": "2024-08-29T18:12:36.310931Z",
     "shell.execute_reply": "2024-08-29T18:12:36.310078Z"
    },
    "papermill": {
     "duration": 0.047241,
     "end_time": "2024-08-29T18:12:36.312898",
     "exception": false,
     "start_time": "2024-08-29T18:12:36.265657",
     "status": "completed"
    },
    "tags": []
   },
   "outputs": [],
   "source": [
    "\n",
    "class EmotionModel(nn.Module):\n",
    "    def __init__(self, roberta_model, n_classes, dropout_rate):\n",
    "        super(EmotionModel, self).__init__()\n",
    "        self.roberta = roberta_model\n",
    "        self.drop = nn.Dropout(p=dropout_rate)\n",
    "        self.fc1 = nn.Linear(self.roberta.config.hidden_size, 512)\n",
    "        self.relu = nn.ReLU()\n",
    "        self.fc2 = nn.Linear(512, 256)\n",
    "        self.out = nn.Linear(256, n_classes)\n",
    "\n",
    "    def forward(self, input_ids, attention_mask):\n",
    "        output = self.roberta(input_ids=input_ids, attention_mask=attention_mask)\n",
    "#         hidden_states = output.last_hidden_state\n",
    "        \n",
    "        # Extract the [CLS] token representation (first token in the sequence)\n",
    "        cls_token_state = output.last_hidden_state[:, 0, :]\n",
    "        output = self.drop(cls_token_state)\n",
    "        output = self.relu(self.fc1(output))\n",
    "        output = self.drop(output)\n",
    "        output = self.relu(self.fc2(output))\n",
    "#         output = self.drop(output)\n",
    "        return self.out(output)"
   ]
  },
  {
   "cell_type": "markdown",
   "id": "44011a49",
   "metadata": {
    "papermill": {
     "duration": 0.035397,
     "end_time": "2024-08-29T18:12:36.384093",
     "exception": false,
     "start_time": "2024-08-29T18:12:36.348696",
     "status": "completed"
    },
    "tags": []
   },
   "source": [
    "## Other Models to try out"
   ]
  },
  {
   "cell_type": "code",
   "execution_count": 28,
   "id": "f40b9068",
   "metadata": {
    "execution": {
     "iopub.execute_input": "2024-08-29T18:12:36.457216Z",
     "iopub.status.busy": "2024-08-29T18:12:36.456476Z",
     "iopub.status.idle": "2024-08-29T18:12:36.460979Z",
     "shell.execute_reply": "2024-08-29T18:12:36.460055Z"
    },
    "papermill": {
     "duration": 0.043053,
     "end_time": "2024-08-29T18:12:36.462949",
     "exception": false,
     "start_time": "2024-08-29T18:12:36.419896",
     "status": "completed"
    },
    "tags": []
   },
   "outputs": [],
   "source": [
    "# class EmotionModel(nn.Module):\n",
    "#     def __init__(self, roberta_model, n_classes, dropout_rate):\n",
    "#         super(EmotionModel, self).__init__()\n",
    "#         self.roberta = roberta_model\n",
    "#         self.drop = nn.Dropout(p=dropout_rate)\n",
    "#         self.out = nn.Linear(self.roberta.config.hidden_size, n_classes)\n",
    "\n",
    "#     def forward(self, input_ids, attention_mask):\n",
    "#         output = self.roberta(input_ids=input_ids, attention_mask=attention_mask)\n",
    "#         output = self.drop(output.pooler_output)\n",
    "#         return self.out(output)"
   ]
  },
  {
   "cell_type": "code",
   "execution_count": 29,
   "id": "8e4f6a90",
   "metadata": {
    "execution": {
     "iopub.execute_input": "2024-08-29T18:12:36.536598Z",
     "iopub.status.busy": "2024-08-29T18:12:36.536070Z",
     "iopub.status.idle": "2024-08-29T18:12:36.541003Z",
     "shell.execute_reply": "2024-08-29T18:12:36.540198Z"
    },
    "jupyter": {
     "source_hidden": true
    },
    "papermill": {
     "duration": 0.044678,
     "end_time": "2024-08-29T18:12:36.543077",
     "exception": false,
     "start_time": "2024-08-29T18:12:36.498399",
     "status": "completed"
    },
    "tags": []
   },
   "outputs": [],
   "source": [
    "# class EmotionModel(nn.Module):\n",
    "#     def __init__(self, roberta_model, n_classes, dropout_rate):\n",
    "#         super(EmotionModel, self).__init__()\n",
    "#         self.roberta = roberta_model\n",
    "#         self.drop = nn.Dropout(p=dropout_rate)\n",
    "#         self.fc1 = nn.Linear(self.roberta.config.hidden_size, 512)\n",
    "#         self.relu = nn.ReLU()\n",
    "#         self.fc2 = nn.Linear(512, 256)\n",
    "#         self.out = nn.Linear(256, n_classes)\n",
    "\n",
    "#     def forward(self, input_ids, attention_mask):\n",
    "#         # Get the RoBERTa output\n",
    "#         output = self.roberta(input_ids=input_ids, attention_mask=attention_mask)\n",
    "#         # Use the pooled output for classification tasks\n",
    "#         pooled_output = output.pooler_output\n",
    "#         # Pass through the custom layers\n",
    "#         output = self.drop(pooled_output)\n",
    "#         output = self.relu(self.fc1(output))\n",
    "#         output = self.drop(output)\n",
    "#         output = self.relu(self.fc2(output))\n",
    "#         output = self.drop(output)\n",
    "#         return self.out(output)\n"
   ]
  },
  {
   "cell_type": "code",
   "execution_count": 30,
   "id": "3c8a13ee",
   "metadata": {
    "execution": {
     "iopub.execute_input": "2024-08-29T18:12:36.630692Z",
     "iopub.status.busy": "2024-08-29T18:12:36.629819Z",
     "iopub.status.idle": "2024-08-29T18:12:36.634793Z",
     "shell.execute_reply": "2024-08-29T18:12:36.633930Z"
    },
    "jupyter": {
     "source_hidden": true
    },
    "papermill": {
     "duration": 0.045059,
     "end_time": "2024-08-29T18:12:36.636873",
     "exception": false,
     "start_time": "2024-08-29T18:12:36.591814",
     "status": "completed"
    },
    "tags": []
   },
   "outputs": [],
   "source": [
    "# class EmotionModel(nn.Module):\n",
    "#     def __init__(self, roberta_model, n_classes, dropout_rate, hidden_size):\n",
    "#         super(EmotionModel, self).__init__()\n",
    "#         self.roberta = roberta_model\n",
    "#         self.drop = nn.Dropout(p=dropout_rate)\n",
    "#         self.fc1 = nn.Linear(self.roberta.config.hidden_size, hidden_size)\n",
    "#         self.relu = nn.ReLU()\n",
    "#         self.fc2 = nn.Linear(hidden_size, hidden_size // 2)\n",
    "#         self.out = nn.Linear(hidden_size // 2, n_classes)\n",
    "\n",
    "#     def forward(self, input_ids, attention_mask):\n",
    "#         # Get the RoBERTa output\n",
    "#         output = self.roberta(input_ids=input_ids, attention_mask=attention_mask)\n",
    "#         # Use the pooled output for classification tasks\n",
    "#         pooled_output = output.pooler_output\n",
    "#         # Pass through the custom layers\n",
    "#         output = self.drop(pooled_output)\n",
    "#         output = self.relu(self.fc1(output))\n",
    "#         output = self.drop(output)\n",
    "#         output = self.relu(self.fc2(output))\n",
    "#         output = self.drop(output)\n",
    "#         return self.out(output)\n"
   ]
  },
  {
   "cell_type": "code",
   "execution_count": 31,
   "id": "d47f1c37",
   "metadata": {
    "execution": {
     "iopub.execute_input": "2024-08-29T18:12:36.711486Z",
     "iopub.status.busy": "2024-08-29T18:12:36.711144Z",
     "iopub.status.idle": "2024-08-29T18:12:36.715494Z",
     "shell.execute_reply": "2024-08-29T18:12:36.714582Z"
    },
    "jupyter": {
     "source_hidden": true
    },
    "papermill": {
     "duration": 0.042778,
     "end_time": "2024-08-29T18:12:36.717435",
     "exception": false,
     "start_time": "2024-08-29T18:12:36.674657",
     "status": "completed"
    },
    "tags": []
   },
   "outputs": [],
   "source": [
    "# class RoBERTaEmotionModel(nn.Module):\n",
    "#     def __init__(self, roberta_model_name, num_emotions=7):\n",
    "#         super(RoBERTaEmotionModel, self).__init__()\n",
    "#         self.roberta = RobertaModel.from_pretrained(roberta_model_name)\n",
    "#         self.drop = nn.Dropout(p=0.3)\n",
    "#         self.out = nn.Linear(self.roberta.config.hidden_size, num_emotions)\n",
    "\n",
    "#     def forward(self, input_ids, attention_mask):\n",
    "#         outputs = self.roberta(\n",
    "#             input_ids=input_ids,\n",
    "#             attention_mask=attention_mask\n",
    "#         )\n",
    "#         pooled_output = outputs[1]  # CLS token\n",
    "#         output = self.drop(pooled_output)\n",
    "#         return self.out(output)\n"
   ]
  },
  {
   "cell_type": "markdown",
   "id": "1e4ed8a9",
   "metadata": {
    "papermill": {
     "duration": 0.035352,
     "end_time": "2024-08-29T18:12:36.788301",
     "exception": false,
     "start_time": "2024-08-29T18:12:36.752949",
     "status": "completed"
    },
    "tags": []
   },
   "source": [
    "# TRAIN & VALIDATION \n",
    "### OLD"
   ]
  },
  {
   "cell_type": "code",
   "execution_count": 32,
   "id": "d0e11212",
   "metadata": {
    "execution": {
     "iopub.execute_input": "2024-08-29T18:12:36.861736Z",
     "iopub.status.busy": "2024-08-29T18:12:36.861396Z",
     "iopub.status.idle": "2024-08-29T18:12:36.866785Z",
     "shell.execute_reply": "2024-08-29T18:12:36.865857Z"
    },
    "jupyter": {
     "source_hidden": true
    },
    "papermill": {
     "duration": 0.044615,
     "end_time": "2024-08-29T18:12:36.868779",
     "exception": false,
     "start_time": "2024-08-29T18:12:36.824164",
     "status": "completed"
    },
    "tags": []
   },
   "outputs": [],
   "source": [
    "# def train_model(model, train_loader, val_loader, loss_fn, optimizer, device, scheduler, scaler, n_epochs):\n",
    "#     for epoch in range(n_epochs):\n",
    "#         model.train()\n",
    "#         train_loss = 0\n",
    "#         correct = 0\n",
    "#         total = 0\n",
    "\n",
    "#         for data in train_loader:\n",
    "#             input_ids = data['input_ids'].to(device)\n",
    "#             attention_mask = data['attention_mask'].to(device)\n",
    "#             labels = data['labels'].to(device)\n",
    "\n",
    "#             optimizer.zero_grad()\n",
    "#             with autocast(device_type=device.type):\n",
    "#                 outputs = model(input_ids=input_ids, attention_mask=attention_mask)\n",
    "#                 loss = loss_fn(outputs, labels)\n",
    "\n",
    "#             scaler.scale(loss).backward()\n",
    "#             scaler.step(optimizer)\n",
    "#             scaler.update()\n",
    "#             if scheduler:\n",
    "#                 scheduler.step()\n",
    "\n",
    "#             train_loss += loss.item()\n",
    "#             _, predicted = torch.max(outputs, 1)\n",
    "#             total += labels.size(0)\n",
    "#             correct += (predicted == torch.argmax(labels, dim=1)).sum().item()\n",
    "\n",
    "#         train_accuracy = correct / total\n",
    "#         val_loss, val_accuracy = eval_model(model, val_loader, loss_fn, device)\n",
    "\n",
    "#         print(f'Epoch {epoch+1}/{n_epochs}, Train Loss: {train_loss/len(train_loader):.4f}, Train Accuracy: {train_accuracy:.4f}, Val Loss: {val_loss:.4f}, Val Accuracy: {val_accuracy:.4f}')\n"
   ]
  },
  {
   "cell_type": "code",
   "execution_count": 33,
   "id": "3c9870a8",
   "metadata": {
    "execution": {
     "iopub.execute_input": "2024-08-29T18:12:36.942207Z",
     "iopub.status.busy": "2024-08-29T18:12:36.941471Z",
     "iopub.status.idle": "2024-08-29T18:12:36.946227Z",
     "shell.execute_reply": "2024-08-29T18:12:36.945330Z"
    },
    "jupyter": {
     "source_hidden": true
    },
    "papermill": {
     "duration": 0.043679,
     "end_time": "2024-08-29T18:12:36.948159",
     "exception": false,
     "start_time": "2024-08-29T18:12:36.904480",
     "status": "completed"
    },
    "tags": []
   },
   "outputs": [],
   "source": [
    "# def eval_model(model, val_loader, loss_fn, device):\n",
    "#     model.eval()\n",
    "#     val_loss = 0\n",
    "#     correct = 0\n",
    "#     total = 0\n",
    "\n",
    "#     with torch.no_grad():\n",
    "#         for data in val_loader:\n",
    "#             input_ids = data['input_ids'].to(device)\n",
    "#             attention_mask = data['attention_mask'].to(device)\n",
    "#             labels = data['labels'].to(device)\n",
    "\n",
    "#             outputs = model(input_ids=input_ids, attention_mask=attention_mask)\n",
    "#             loss = loss_fn(outputs, labels)\n",
    "#             val_loss += loss.item()\n",
    "\n",
    "#             _, predicted = torch.max(outputs, 1)\n",
    "#             total += labels.size(0)\n",
    "#             correct += (predicted == torch.argmax(labels, dim=1)).sum().item()\n",
    "\n",
    "#     val_accuracy = correct / total\n",
    "#     return val_loss / len(val_loader), val_accuracy\n"
   ]
  },
  {
   "cell_type": "code",
   "execution_count": 34,
   "id": "0b5f14e0",
   "metadata": {
    "execution": {
     "iopub.execute_input": "2024-08-29T18:12:37.020286Z",
     "iopub.status.busy": "2024-08-29T18:12:37.019941Z",
     "iopub.status.idle": "2024-08-29T18:12:37.025356Z",
     "shell.execute_reply": "2024-08-29T18:12:37.024518Z"
    },
    "jupyter": {
     "source_hidden": true
    },
    "papermill": {
     "duration": 0.04357,
     "end_time": "2024-08-29T18:12:37.027209",
     "exception": false,
     "start_time": "2024-08-29T18:12:36.983639",
     "status": "completed"
    },
    "tags": []
   },
   "outputs": [],
   "source": [
    "# def objective(trial):\n",
    "#     hidden_size = trial.suggest_int('hidden_size', 64, 256)\n",
    "#     dropout_rate = trial.suggest_uniform('dropout_rate', 0.1, 0.5)\n",
    "#     batch_size = trial.suggest_categorical('batch_size', [2, 4, 8, 16])\n",
    "#     learning_rate = trial.suggest_loguniform('lr', 1e-5, 1e-1)\n",
    "#     epochs = 5  # Adjust as needed\n",
    "\n",
    "#     tokenizer = RobertaTokenizer.from_pretrained('roberta-base')\n",
    "    \n",
    "#     # Load your data here\n",
    "# #     data = df  # Replace with your data loading logic\n",
    "# #     train_texts, val_texts, train_labels, val_labels = train_test_split(\n",
    "# #         data.iloc[:, 0],  # Assuming text is in the first column\n",
    "# #         data.iloc[:, 1:],  # Labels are in the remaining columns\n",
    "# #         test_size=0.2\n",
    "# #     )\n",
    "\n",
    "\n",
    "# #     train_dataset = EmotionDataset(pd.DataFrame({'text': train_texts, **pd.DataFrame(train_labels)}), tokenizer, max_len=128)\n",
    "# #     val_dataset = EmotionDataset(pd.DataFrame({'text': val_texts, **pd.DataFrame(val_labels)}), tokenizer, max_len=128)\n",
    "    \n",
    "    \n",
    "#     train_dataset = EmotionDataset(train_ds_pd, tokenizer, max_len=128)\n",
    "#     val_dataset = EmotionDataset(validation_ds_pd, tokenizer, max_len=128)\n",
    "\n",
    "#     train_loader = DataLoader(train_dataset, batch_size=batch_size, shuffle=True)\n",
    "#     val_loader = DataLoader(val_dataset, batch_size=batch_size, shuffle=False)\n",
    "\n",
    "#     model = EmotionClassifier(hidden_size=hidden_size, dropout_rate=dropout_rate).to(device)\n",
    "#     loss_fn = nn.BCEWithLogitsLoss()\n",
    "#     optimizer = optim.AdamW(model.parameters(), lr=learning_rate)\n",
    "#     scheduler = optim.lr_scheduler.OneCycleLR(optimizer, max_lr=learning_rate, steps_per_epoch=len(train_loader), epochs=epochs)\n",
    "#     scaler = GradScaler()\n",
    "\n",
    "#     train_model(model, train_loader, val_loader, loss_fn, optimizer, device, scheduler, scaler, epochs)\n",
    "#     val_loss, val_accuracy = eval_model(model, val_loader, loss_fn, device)\n",
    "    \n",
    "#     return val_loss"
   ]
  },
  {
   "cell_type": "code",
   "execution_count": 35,
   "id": "70c80451",
   "metadata": {
    "execution": {
     "iopub.execute_input": "2024-08-29T18:12:37.099691Z",
     "iopub.status.busy": "2024-08-29T18:12:37.099352Z",
     "iopub.status.idle": "2024-08-29T18:12:37.104721Z",
     "shell.execute_reply": "2024-08-29T18:12:37.103870Z"
    },
    "jupyter": {
     "source_hidden": true
    },
    "papermill": {
     "duration": 0.043985,
     "end_time": "2024-08-29T18:12:37.106567",
     "exception": false,
     "start_time": "2024-08-29T18:12:37.062582",
     "status": "completed"
    },
    "tags": []
   },
   "outputs": [],
   "source": [
    "# def train_fn(config):\n",
    "#     try:\n",
    "#         hidden_size = config['hidden_size']\n",
    "#         dropout_rate = config['dropout_rate']\n",
    "#         batch_size = config['batch_size']\n",
    "#         learning_rate = config['lr']\n",
    "#         epochs = 5\n",
    "\n",
    "#         tokenizer = RobertaTokenizer.from_pretrained('roberta-base')\n",
    "\n",
    "#         # Load your data here\n",
    "# #         data = pd.read_csv('path_to_your_data.csv')  # Replace with your data loading logic\n",
    "# #         train_texts, val_texts, train_labels, val_labels = train_test_split(\n",
    "# #             data.iloc[:, 0],  # Assuming text is in the first column\n",
    "# #             data.iloc[:, 1:],  # Labels are in the remaining columns\n",
    "# #             test_size=0.2\n",
    "# #         )\n",
    "\n",
    "#         train_dataset = EmotionDataset(train_ds_pd, tokenizer, max_len=128)\n",
    "#         val_dataset = EmotionDataset(validation_ds_pd, tokenizer, max_len=128)\n",
    "\n",
    "#         train_loader = DataLoader(train_dataset, batch_size=batch_size, shuffle=True)\n",
    "#         val_loader = DataLoader(val_dataset, batch_size=batch_size, shuffle=False)\n",
    "\n",
    "#         model = EmotionClassifier(hidden_size=hidden_size, dropout_rate=dropout_rate).to(device)\n",
    "#         loss_fn = nn.BCEWithLogitsLoss()\n",
    "#         optimizer = optim.AdamW(model.parameters(), lr=learning_rate)\n",
    "#         scheduler = optim.lr_scheduler.OneCycleLR(optimizer, max_lr=learning_rate, steps_per_epoch=len(train_loader), epochs=epochs)\n",
    "#         scaler = GradScaler()\n",
    "\n",
    "#         for epoch in range(epochs):\n",
    "#             train_model(model, train_loader, val_loader, loss_fn, optimizer, device, scheduler, scaler, epochs)\n",
    "#             val_loss, val_accuracy = eval_model(model, val_loader, loss_fn, device)\n",
    "#             tune.report(loss=val_loss, accuracy=val_accuracy)\n",
    "    \n",
    "#     except Exception as e:\n",
    "#         print(f\"An error occurred: {e}\")\n",
    "#         raise\n"
   ]
  },
  {
   "cell_type": "code",
   "execution_count": 36,
   "id": "2fa9ad1a",
   "metadata": {
    "execution": {
     "iopub.execute_input": "2024-08-29T18:12:37.179159Z",
     "iopub.status.busy": "2024-08-29T18:12:37.178778Z",
     "iopub.status.idle": "2024-08-29T18:12:37.183630Z",
     "shell.execute_reply": "2024-08-29T18:12:37.182842Z"
    },
    "jupyter": {
     "source_hidden": true
    },
    "papermill": {
     "duration": 0.043411,
     "end_time": "2024-08-29T18:12:37.185547",
     "exception": false,
     "start_time": "2024-08-29T18:12:37.142136",
     "status": "completed"
    },
    "tags": []
   },
   "outputs": [],
   "source": [
    "# def tune_model(config):\n",
    "#     tokenizer = RobertaTokenizer.from_pretrained('roberta-base')\n",
    "#     train_df, val_df = train_test_split(df, test_size=0.2)\n",
    "\n",
    "#     train_dataset = EmotionDataset(train_df, tokenizer, config['max_len'])\n",
    "#     val_dataset = EmotionDataset(val_df, tokenizer, config['max_len'])\n",
    "\n",
    "#     train_loader = DataLoader(train_dataset, batch_size=config['batch_size'], shuffle=True)\n",
    "#     val_loader = DataLoader(val_dataset, batch_size=config['batch_size'])\n",
    "\n",
    "#     device = torch.device('cuda' if torch.cuda.is_available() else 'cpu')\n",
    "#     model = RoBERTaEmotionModel('roberta-base').to(device)\n",
    "\n",
    "#     optimizer = optim.AdamW(model.parameters(), lr=config['lr'])\n",
    "#     loss_fn = nn.MSELoss().to(device)\n",
    "#     scaler = GradScaler()\n",
    "\n",
    "#     scheduler = optim.lr_scheduler.OneCycleLR(optimizer, max_lr=config['lr'], steps_per_epoch=len(train_loader), epochs=config['epochs'])\n",
    "\n",
    "#     train_model(model, train_loader, val_loader, loss_fn, optimizer, device, scheduler, scaler, config['epochs'])\n",
    "\n",
    "#     val_loss = eval_model(model, val_loader, loss_fn, device)\n",
    "#     tune.report(val_loss=val_loss)\n",
    "\n",
    "\n"
   ]
  },
  {
   "cell_type": "code",
   "execution_count": 37,
   "id": "43b01cca",
   "metadata": {
    "execution": {
     "iopub.execute_input": "2024-08-29T18:12:37.257890Z",
     "iopub.status.busy": "2024-08-29T18:12:37.257571Z",
     "iopub.status.idle": "2024-08-29T18:12:37.262097Z",
     "shell.execute_reply": "2024-08-29T18:12:37.261240Z"
    },
    "jupyter": {
     "source_hidden": true
    },
    "papermill": {
     "duration": 0.042691,
     "end_time": "2024-08-29T18:12:37.263919",
     "exception": false,
     "start_time": "2024-08-29T18:12:37.221228",
     "status": "completed"
    },
    "tags": []
   },
   "outputs": [],
   "source": [
    "# config = {\n",
    "#     'max_len': tune.choice([128, 192, 256]),\n",
    "#     'batch_size': tune.choice([8, 16, 32]),\n",
    "#     'lr': tune.loguniform(1e-5, 5e-5),\n",
    "#     'epochs': tune.choice([3, 5, 7])\n",
    "# }\n",
    "\n",
    "# scheduler = ASHAScheduler(\n",
    "#     metric='val_loss',\n",
    "#     mode='min',\n",
    "#     max_t=10,\n",
    "#     grace_period=1,\n",
    "#     reduction_factor=2\n",
    "# )\n",
    "\n",
    "# reporter = CLIReporter(\n",
    "#     metric_columns=['val_loss', 'training_iteration']\n",
    "# )\n",
    "\n",
    "# analysis = tune.run(\n",
    "#     tune_model,\n",
    "#     resources_per_trial={'cpu': 2, 'gpu': 1},\n",
    "#     config=config,\n",
    "#     num_samples=20,\n",
    "#     scheduler=scheduler,\n",
    "#     progress_reporter=reporter\n",
    "# )\n",
    "\n"
   ]
  },
  {
   "cell_type": "code",
   "execution_count": 38,
   "id": "c1c87bdd",
   "metadata": {
    "execution": {
     "iopub.execute_input": "2024-08-29T18:12:37.336972Z",
     "iopub.status.busy": "2024-08-29T18:12:37.336658Z",
     "iopub.status.idle": "2024-08-29T18:12:37.343301Z",
     "shell.execute_reply": "2024-08-29T18:12:37.342400Z"
    },
    "jupyter": {
     "source_hidden": true
    },
    "papermill": {
     "duration": 0.045031,
     "end_time": "2024-08-29T18:12:37.345191",
     "exception": false,
     "start_time": "2024-08-29T18:12:37.300160",
     "status": "completed"
    },
    "tags": []
   },
   "outputs": [],
   "source": [
    "# def train_model(config, train_dataset, val_dataset, device):\n",
    "#     model = EmotionModel(\n",
    "#         roberta_model=RobertaModel.from_pretrained(\"roberta-base\"),\n",
    "#         n_classes=7,\n",
    "#         dropout_rate=config[\"dropout_rate\"]\n",
    "#     )\n",
    "#     model = model.to(device)\n",
    "#     optimizer = optim.Adam(model.parameters(), lr=config[\"lr\"])\n",
    "#     criterion = nn.BCEWithLogitsLoss()\n",
    "    \n",
    "#     train_loader = DataLoader(train_dataset, batch_size=config[\"batch_size\"], shuffle=True)\n",
    "#     val_loader = DataLoader(val_dataset, batch_size=config[\"batch_size\"], shuffle=False)\n",
    "    \n",
    "#     model.train()\n",
    "#     for epoch in range(config[\"epochs\"]):\n",
    "#         total_train_loss = 0.0\n",
    "#         correct_train_preds = 0\n",
    "#         total_train_preds = 0\n",
    "        \n",
    "#         for batch in train_loader:\n",
    "#             input_ids = batch[\"input_ids\"].to(device)\n",
    "#             attention_mask = batch[\"attention_mask\"].to(device)\n",
    "#             labels = batch[\"labels\"].to(device)\n",
    "\n",
    "#             optimizer.zero_grad()\n",
    "#             outputs = model(input_ids=input_ids, attention_mask=attention_mask)\n",
    "#             loss = criterion(outputs, labels)\n",
    "#             loss.backward()\n",
    "#             optimizer.step()\n",
    "            \n",
    "#             total_train_loss += loss.item()\n",
    "#             correct_train_preds += (torch.argmax(outputs, dim=1) == torch.argmax(labels, dim=1)).sum().item()\n",
    "#             total_train_preds += labels.size(0)\n",
    "        \n",
    "#         avg_train_loss = total_train_loss / len(train_loader)\n",
    "#         train_accuracy = correct_train_preds / total_train_preds\n",
    "\n",
    "#         # Validation phase\n",
    "#         model.eval()\n",
    "#         total_val_loss = 0.0\n",
    "#         correct_val_preds = 0\n",
    "#         total_val_preds = 0\n",
    "\n",
    "#         with torch.no_grad():\n",
    "#             for batch in val_loader:\n",
    "#                 input_ids = batch[\"input_ids\"].to(device)\n",
    "#                 attention_mask = batch[\"attention_mask\"].to(device)\n",
    "#                 labels = batch[\"labels\"].to(device)\n",
    "\n",
    "#                 outputs = model(input_ids=input_ids, attention_mask=attention_mask)\n",
    "#                 loss = criterion(outputs, labels)\n",
    "                \n",
    "#                 total_val_loss += loss.item()\n",
    "#                 correct_val_preds += (torch.argmax(outputs, dim=1) == torch.argmax(labels, dim=1)).sum().item()\n",
    "#                 total_val_preds += labels.size(0)\n",
    "\n",
    "#         avg_val_loss = total_val_loss / len(val_loader)\n",
    "#         val_accuracy = correct_val_preds / total_val_preds\n",
    "\n",
    "#         tune.report(loss=avg_val_loss, accuracy=val_accuracy, train_loss=avg_train_loss, train_accuracy=train_accuracy)\n",
    "#         model_save_path = os.path.join(tune.get_trial_dir(), \"checkpoint.pt\")\n",
    "#         torch.save(model.state_dict(), model_save_path)\n",
    "    \n",
    "#     return model\n",
    "\n",
    "# def train_fn(config):\n",
    "#     # Load your data here\n",
    "#     tokenizer = RobertaTokenizer.from_pretrained('roberta-base')\n",
    "\n",
    "#     train_dataset = EmotionDataset(train_ds_pd, tokenizer, max_len=128)\n",
    "#     val_dataset = EmotionDataset(validation_ds_pd, tokenizer, max_len=128)\n",
    "\n",
    "#     device = torch.device(\"cuda\" if torch.cuda.is_available() else \"cpu\")\n",
    "#     train_model(config, train_dataset, val_dataset, device)\n"
   ]
  },
  {
   "cell_type": "markdown",
   "id": "beec430e",
   "metadata": {
    "papermill": {
     "duration": 0.035885,
     "end_time": "2024-08-29T18:12:37.420636",
     "exception": false,
     "start_time": "2024-08-29T18:12:37.384751",
     "status": "completed"
    },
    "tags": []
   },
   "source": [
    "## NEW TRAIN & VALIDATION 2.0\n",
    "### Custom metric is a metric for determining the best model free from any overfitting, underfitting. ```custom_metric = (avg_val_loss−val_accuracy) + α × ∣avg_train_loss−avg_val_loss∣ + β × ∣val_accuracy-train_accuracy∣``` This metric balances between low validation loss, high validation accuracy, and penalizing large discrepancies between training and validation loss. Note that, in the model selection we have used ```α = β = 0.5```\n"
   ]
  },
  {
   "cell_type": "markdown",
   "id": "4bbed244",
   "metadata": {
    "papermill": {
     "duration": 0.035354,
     "end_time": "2024-08-29T18:12:37.491781",
     "exception": false,
     "start_time": "2024-08-29T18:12:37.456427",
     "status": "completed"
    },
    "tags": []
   },
   "source": [
    "### But since, we have probabilistic values as input and output we cannot directly calculate the accuracy, infact we need to rely on loss only. ```custom_metric = avg_val_loss + α × ∣avg_train_loss−avg_val_loss∣```"
   ]
  },
  {
   "cell_type": "code",
   "execution_count": 39,
   "id": "72105ae5",
   "metadata": {
    "execution": {
     "iopub.execute_input": "2024-08-29T18:12:37.582681Z",
     "iopub.status.busy": "2024-08-29T18:12:37.582198Z",
     "iopub.status.idle": "2024-08-29T18:12:37.589667Z",
     "shell.execute_reply": "2024-08-29T18:12:37.587073Z"
    },
    "papermill": {
     "duration": 0.060686,
     "end_time": "2024-08-29T18:12:37.591975",
     "exception": false,
     "start_time": "2024-08-29T18:12:37.531289",
     "status": "completed"
    },
    "tags": []
   },
   "outputs": [],
   "source": [
    "# Custom metric calculation function\n",
    "def calculate_custom_metric(avg_val_loss, avg_train_loss, alpha=0.5):\n",
    "    loss_diff = abs(avg_train_loss - avg_val_loss)\n",
    "    custom_metric = avg_val_loss + alpha * loss_diff\n",
    "    return custom_metric"
   ]
  },
  {
   "cell_type": "code",
   "execution_count": 40,
   "id": "53ef8e69",
   "metadata": {
    "execution": {
     "iopub.execute_input": "2024-08-29T18:12:37.665472Z",
     "iopub.status.busy": "2024-08-29T18:12:37.665107Z",
     "iopub.status.idle": "2024-08-29T18:12:37.669218Z",
     "shell.execute_reply": "2024-08-29T18:12:37.668332Z"
    },
    "papermill": {
     "duration": 0.042774,
     "end_time": "2024-08-29T18:12:37.671049",
     "exception": false,
     "start_time": "2024-08-29T18:12:37.628275",
     "status": "completed"
    },
    "tags": []
   },
   "outputs": [],
   "source": [
    "# # Custom metric calculation function\n",
    "# def calculate_custom_metric(avg_val_loss, val_accuracy, avg_train_loss, train_accuracy, alpha=0.5, beta=0.5):\n",
    "#     loss_diff = abs(avg_train_loss - avg_val_loss)\n",
    "#     accuracy_diff = abs(train_accuracy - val_accuracy)\n",
    "#     custom_metric = avg_val_loss - val_accuracy + alpha * loss_diff + beta * accuracy_diff\n",
    "#     return custom_metric"
   ]
  },
  {
   "cell_type": "markdown",
   "id": "2fa95fdf",
   "metadata": {
    "papermill": {
     "duration": 0.035385,
     "end_time": "2024-08-29T18:12:37.742005",
     "exception": false,
     "start_time": "2024-08-29T18:12:37.706620",
     "status": "completed"
    },
    "tags": []
   },
   "source": [
    "### Early Stopping"
   ]
  },
  {
   "cell_type": "code",
   "execution_count": 41,
   "id": "8f236c05",
   "metadata": {
    "execution": {
     "iopub.execute_input": "2024-08-29T18:12:37.815182Z",
     "iopub.status.busy": "2024-08-29T18:12:37.814793Z",
     "iopub.status.idle": "2024-08-29T18:12:37.821958Z",
     "shell.execute_reply": "2024-08-29T18:12:37.821090Z"
    },
    "papermill": {
     "duration": 0.046354,
     "end_time": "2024-08-29T18:12:37.823938",
     "exception": false,
     "start_time": "2024-08-29T18:12:37.777584",
     "status": "completed"
    },
    "tags": []
   },
   "outputs": [],
   "source": [
    "class EarlyStopping:\n",
    "    def __init__(self, patience=5, verbose=False, delta=0):\n",
    "        \"\"\"\n",
    "        EarlyStopping to stop training when a metric has stopped improving.\n",
    "\n",
    "        Args:\n",
    "            patience (int): How long to wait after last time validation loss improved.\n",
    "            verbose (bool): If True, prints a message for each validation loss improvement.\n",
    "            delta (float): Minimum change to qualify as an improvement.\n",
    "        \"\"\"\n",
    "        self.patience = patience\n",
    "        self.verbose = verbose\n",
    "        self.delta = delta\n",
    "        self.counter = 0\n",
    "        self.best_loss = np.inf\n",
    "        self.early_stop = False\n",
    "\n",
    "    def __call__(self, val_loss, model):\n",
    "        if val_loss < self.best_loss - self.delta:\n",
    "            self.best_loss = val_loss\n",
    "            self.counter = 0\n",
    "#             if self.verbose:\n",
    "#                 print(f'Validation loss improved to {val_loss:.4f}')\n",
    "#             torch.save(model.state_dict(), 'checkpoint.pt')\n",
    "        else:\n",
    "            self.counter += 1\n",
    "#             if self.verbose:\n",
    "#                 print(f'Validation loss did not improve. Patience: {self.patience}, Counter: {self.counter}')\n",
    "        \n",
    "        if self.counter >= self.patience:\n",
    "            self.early_stop = True"
   ]
  },
  {
   "cell_type": "code",
   "execution_count": 42,
   "id": "23d52916",
   "metadata": {
    "execution": {
     "iopub.execute_input": "2024-08-29T18:12:37.898241Z",
     "iopub.status.busy": "2024-08-29T18:12:37.897861Z",
     "iopub.status.idle": "2024-08-29T18:12:37.919647Z",
     "shell.execute_reply": "2024-08-29T18:12:37.918748Z"
    },
    "papermill": {
     "duration": 0.061582,
     "end_time": "2024-08-29T18:12:37.921770",
     "exception": false,
     "start_time": "2024-08-29T18:12:37.860188",
     "status": "completed"
    },
    "tags": []
   },
   "outputs": [],
   "source": [
    "# Define the training function with variable parameters\n",
    "def train_model(config, train_dataset, val_dataset, device):\n",
    "#     model = EmotionModel(\n",
    "#         roberta_model=RobertaModel.from_pretrained(\"roberta-base\"),\n",
    "#         n_classes=7,\n",
    "#         dropout_rate=config[\"dropout_rate\"]\n",
    "#     )\n",
    "    model = EmotionModel(\n",
    "        roberta_model=DebertaV2Model.from_pretrained('microsoft/deberta-v3-base'),\n",
    "        n_classes=7,\n",
    "        dropout_rate=config[\"dropout_rate\"]\n",
    "    )\n",
    "    model = model.to(device)\n",
    "#     optimizer = optim.Adam(model.parameters(), lr=config[\"lr\"])\n",
    "    optimizer = optim.AdamW(model.parameters(), lr=config[\"lr\"], weight_decay=config[\"weight_decay\"])\n",
    "#     criterion = nn.BCEWithLogitsLoss()\n",
    "    criterion = nn.MSELoss()\n",
    "    scaler = GradScaler()  # Initialize GradScaler\n",
    "    \n",
    "    train_loader = DataLoader(train_dataset, batch_size=config[\"batch_size\"], shuffle=True)\n",
    "    val_loader = DataLoader(val_dataset, batch_size=config[\"batch_size\"], shuffle=False)\n",
    "    \n",
    "    scheduler = optim.lr_scheduler.ReduceLROnPlateau(optimizer, mode='min', factor=0.1, patience=2, verbose=True)\n",
    "    \n",
    "    early_stopping = EarlyStopping(patience=3, verbose=True)\n",
    "    \n",
    "    for epoch in range(config[\"epochs\"]):  # Ensure epochs are passed from config\n",
    "        model.train()\n",
    "        total_train_loss = 0.0\n",
    "        correct_train_preds = 0\n",
    "        total_train_preds = 0\n",
    "        \n",
    "        for batch in train_loader:\n",
    "            input_ids = batch[\"input_ids\"].to(device)\n",
    "            attention_mask = batch[\"attention_mask\"].to(device)\n",
    "            labels = batch[\"labels\"].to(device)\n",
    "\n",
    "            optimizer.zero_grad()\n",
    "#             outputs = model(input_ids=input_ids, attention_mask=attention_mask)\n",
    "#             loss = criterion(outputs, labels)\n",
    "#             loss.backward()\n",
    "#             optimizer.step()\n",
    "\n",
    "            with autocast(device_type=device.type):  # Mixed precision\n",
    "                outputs = model(input_ids=input_ids, attention_mask=attention_mask)\n",
    "                outputs = torch.sigmoid(outputs)\n",
    "                loss = criterion(outputs, labels)\n",
    "            \n",
    "            scaler.scale(loss).backward()\n",
    "            scaler.step(optimizer)\n",
    "            scaler.update()\n",
    "            \n",
    "# NOTE: Apply the sigmoid fn to outputs after BCEWithLogitsLoss because the loss fn already comes with sigmoid applied, so passing the sigmoid applied ouput will give erraneous results.\n",
    "# If we use BCELoss then pass the sigmoid applied output.\n",
    "            \n",
    "            total_train_loss += loss.item()\n",
    "#             correct_train_preds += (torch.argmax(outputs, dim=1) == torch.argmax(labels, dim=1)).sum().item()\n",
    "#             total_train_preds += labels.size(0)\n",
    "            correct_train_preds += ((outputs > 0.5) == (labels > 0.5)).sum().item()\n",
    "            total_train_preds += labels.numel()\n",
    "        \n",
    "        avg_train_loss = total_train_loss / len(train_loader)\n",
    "        train_accuracy = correct_train_preds / total_train_preds\n",
    "\n",
    "        # Validation phase\n",
    "        model.eval()\n",
    "        total_val_loss = 0.0\n",
    "        correct_val_preds = 0\n",
    "        total_val_preds = 0\n",
    "\n",
    "        with torch.no_grad():\n",
    "            for batch in val_loader:\n",
    "                input_ids = batch[\"input_ids\"].to(device)\n",
    "                attention_mask = batch[\"attention_mask\"].to(device)\n",
    "                labels = batch[\"labels\"].to(device)\n",
    "\n",
    "#                 outputs = model(input_ids=input_ids, attention_mask=attention_mask)\n",
    "#                 loss = criterion(outputs, labels)\n",
    "                \n",
    "                with autocast(device_type=device.type):\n",
    "                    outputs = model(input_ids=input_ids, attention_mask=attention_mask)\n",
    "                    outputs = torch.sigmoid(outputs)\n",
    "                    loss = criterion(outputs, labels)\n",
    "                    \n",
    "# NOTE: Apply the sigmoid fn to outputs after BCEWithLogitsLoss because the loss fn already comes with sigmoid applied, so passing the sigmoid applied ouput will give erraneous results.\n",
    "# If we use BCELoss then pass the sigmoid applied output.\n",
    "                \n",
    "                total_val_loss += loss.item()\n",
    "#                 correct_val_preds += (torch.argmax(outputs, dim=1) == torch.argmax(labels, dim=1)).sum().item()\n",
    "#                 total_val_preds += labels.size(0)\n",
    "                correct_val_preds += ((outputs > 0.5) == (labels > 0.5)).sum().item()\n",
    "                total_val_preds += labels.numel()\n",
    "\n",
    "        avg_val_loss = total_val_loss / len(val_loader)\n",
    "        val_accuracy = correct_val_preds / total_val_preds\n",
    "#         custom_metric = avg_val_loss - val_accuracy\n",
    "#         custom_metric = calculate_custom_metric(avg_val_loss, val_accuracy, avg_train_loss, train_accuracy)\n",
    "        custom_metric = calculate_custom_metric(avg_val_loss, avg_train_loss)\n",
    "\n",
    "        # Report metrics using ray.train.report\n",
    "        report({\n",
    "            \"loss\": avg_val_loss,\n",
    "            \"accuracy\": val_accuracy,\n",
    "            \"train_loss\": avg_train_loss,\n",
    "            \"train_accuracy\": train_accuracy,\n",
    "            \"custom_metric\": custom_metric,\n",
    "            \"early_stopping_epoch\": epoch + 1,\n",
    "        })\n",
    "        \n",
    "        # Learning rate scheduler step\n",
    "        scheduler.step(avg_val_loss)\n",
    "        \n",
    "        # Check for early stopping\n",
    "        early_stopping(avg_val_loss, model)\n",
    "        if early_stopping.early_stop:\n",
    "#             print(\"Early stopping\")\n",
    "            break\n",
    "    \n",
    "\n",
    "        # Save the model checkpoint after each epoch\n",
    "#         trial_dir = os.path.join(os.environ[\"TUNE_TRIAL_DIR\"], \"checkpoint.pt\")\n",
    "#         torch.save(model.state_dict(), 'checkpoint.pt')\n",
    "#         checkpoint_path = f\"/kaggle/working/checkpoint_epoch_{epoch}.pt\"\n",
    "#         torch.save(model.state_dict(), checkpoint_path)\n",
    "    \n",
    "    return model\n",
    "\n",
    "def train_fn(config):\n",
    "    # Load your data here\n",
    "#     tokenizer = RobertaTokenizer.from_pretrained('roberta-base')\n",
    "    tokenizer = DebertaV2Tokenizer.from_pretrained('microsoft/deberta-v3-base')\n",
    "\n",
    "    train_dataset = EmotionDataset(train_ds_pd, tokenizer, max_len=128)\n",
    "    val_dataset = EmotionDataset(validation_ds_pd, tokenizer, max_len=128)\n",
    "\n",
    "    device = torch.device(\"cuda\" if torch.cuda.is_available() else \"cpu\")\n",
    "    train_model(config, train_dataset, val_dataset, device)"
   ]
  },
  {
   "cell_type": "markdown",
   "id": "03064f99",
   "metadata": {
    "papermill": {
     "duration": 0.035326,
     "end_time": "2024-08-29T18:12:37.992614",
     "exception": false,
     "start_time": "2024-08-29T18:12:37.957288",
     "status": "completed"
    },
    "tags": []
   },
   "source": [
    "## SEARCH SPACE"
   ]
  },
  {
   "cell_type": "code",
   "execution_count": 43,
   "id": "6cf5027d",
   "metadata": {
    "execution": {
     "iopub.execute_input": "2024-08-29T18:12:38.065487Z",
     "iopub.status.busy": "2024-08-29T18:12:38.065106Z",
     "iopub.status.idle": "2024-08-29T18:12:38.071785Z",
     "shell.execute_reply": "2024-08-29T18:12:38.070906Z"
    },
    "papermill": {
     "duration": 0.045727,
     "end_time": "2024-08-29T18:12:38.073786",
     "exception": false,
     "start_time": "2024-08-29T18:12:38.028059",
     "status": "completed"
    },
    "tags": []
   },
   "outputs": [],
   "source": [
    "search_space = {\n",
    "    'dropout_rate': tune.choice([0.2, 0.25, 0.27, 0.3, 0.35, 0.4]),\n",
    "    'batch_size': tune.choice([32, 64]),\n",
    "    'weight_decay': tune.choice([1e-6, 2e-6, 1e-5, 2e-5, 1e-4, 2e-4, 5e-5, 5e-6, 1e-2, 1e-3]),\n",
    "    'lr': tune.choice([1e-6, 1e-5, 2e-5, 1e-4, 2e-4, 2e-6, 3e-6, 5e-6, 3e-5, 5e-5, 2e-7, 1e-7, 5e-7, 1e-3]),\n",
    "    'epochs': tune.choice([5, 7, 10, 12, 15, 20])\n",
    "}"
   ]
  },
  {
   "cell_type": "code",
   "execution_count": 44,
   "id": "4bcc2e36",
   "metadata": {
    "execution": {
     "iopub.execute_input": "2024-08-29T18:12:38.145987Z",
     "iopub.status.busy": "2024-08-29T18:12:38.145660Z",
     "iopub.status.idle": "2024-08-29T18:12:38.150078Z",
     "shell.execute_reply": "2024-08-29T18:12:38.149069Z"
    },
    "papermill": {
     "duration": 0.042744,
     "end_time": "2024-08-29T18:12:38.151943",
     "exception": false,
     "start_time": "2024-08-29T18:12:38.109199",
     "status": "completed"
    },
    "tags": []
   },
   "outputs": [],
   "source": [
    "# search_space = {\n",
    "#     'hidden_size': tune.choice([32, 64, 128, 256]),\n",
    "#     'dropout_rate': tune.uniform(0.1, 0.5),\n",
    "#     'batch_size': tune.choice([16, 32, 64]),\n",
    "#     'weight_decay': tune.loguniform(1e-6, 1e-1),\n",
    "#     'lr': tune.loguniform(1e-6, 1e-1),\n",
    "#     'epochs': tune.choice([3, 5, 7, 10, 12, 15, 20])\n",
    "# }"
   ]
  },
  {
   "cell_type": "code",
   "execution_count": 45,
   "id": "51c56d91",
   "metadata": {
    "execution": {
     "iopub.execute_input": "2024-08-29T18:12:38.224260Z",
     "iopub.status.busy": "2024-08-29T18:12:38.223768Z",
     "iopub.status.idle": "2024-08-29T18:12:38.227797Z",
     "shell.execute_reply": "2024-08-29T18:12:38.226913Z"
    },
    "papermill": {
     "duration": 0.04238,
     "end_time": "2024-08-29T18:12:38.229781",
     "exception": false,
     "start_time": "2024-08-29T18:12:38.187401",
     "status": "completed"
    },
    "tags": []
   },
   "outputs": [],
   "source": [
    "# search_space = {\n",
    "#     'dropout_rate': tune.uniform(0.1, 0.5),\n",
    "#     'batch_size': tune.choice([16, 32, 64]),\n",
    "#     'weight_decay': tune.loguniform(1e-6, 1e-1),\n",
    "#     'lr': tune.loguniform(1e-6, 1e-1),\n",
    "#     'epochs': tune.choice([3, 5, 7, 10, 12, 15, 20])\n",
    "# }"
   ]
  },
  {
   "cell_type": "code",
   "execution_count": 46,
   "id": "ee8c3879",
   "metadata": {
    "execution": {
     "iopub.execute_input": "2024-08-29T18:12:38.302466Z",
     "iopub.status.busy": "2024-08-29T18:12:38.302146Z",
     "iopub.status.idle": "2024-08-29T18:12:38.306159Z",
     "shell.execute_reply": "2024-08-29T18:12:38.305255Z"
    },
    "papermill": {
     "duration": 0.043021,
     "end_time": "2024-08-29T18:12:38.308151",
     "exception": false,
     "start_time": "2024-08-29T18:12:38.265130",
     "status": "completed"
    },
    "tags": []
   },
   "outputs": [],
   "source": [
    "# search_space = {\n",
    "#     'hidden_size': tune.choice([32, 64, 128, 256]),\n",
    "#     'dropout_rate': tune.uniform(0.1, 0.5),\n",
    "#     'batch_size': tune.choice([16, 32, 64]),\n",
    "#     'weight_decay': tune.loguniform(1e-6, 1e-1),\n",
    "#     'lr': tune.loguniform(1e-6, 1e-1),\n",
    "#     'epochs': tune.randint(3, 21)\n",
    "# }"
   ]
  },
  {
   "cell_type": "code",
   "execution_count": 47,
   "id": "0b2a7b62",
   "metadata": {
    "execution": {
     "iopub.execute_input": "2024-08-29T18:12:38.380666Z",
     "iopub.status.busy": "2024-08-29T18:12:38.380331Z",
     "iopub.status.idle": "2024-08-29T18:12:38.384352Z",
     "shell.execute_reply": "2024-08-29T18:12:38.383471Z"
    },
    "papermill": {
     "duration": 0.042433,
     "end_time": "2024-08-29T18:12:38.386248",
     "exception": false,
     "start_time": "2024-08-29T18:12:38.343815",
     "status": "completed"
    },
    "tags": []
   },
   "outputs": [],
   "source": [
    "# search_space = {\n",
    "#     'hidden_size': tune.choice([256, 512]),\n",
    "#     'dropout_rate': tune.uniform(0.1, 0.5),\n",
    "#     'batch_size': tune.choice([4, 8, 16]),\n",
    "#     'lr': tune.loguniform(1e-5, 1e-2)\n",
    "# }"
   ]
  },
  {
   "cell_type": "markdown",
   "id": "2f30b147",
   "metadata": {
    "papermill": {
     "duration": 0.035203,
     "end_time": "2024-08-29T18:12:38.456760",
     "exception": false,
     "start_time": "2024-08-29T18:12:38.421557",
     "status": "completed"
    },
    "tags": []
   },
   "source": [
    "## SEARCH ALGO"
   ]
  },
  {
   "cell_type": "code",
   "execution_count": 48,
   "id": "394452b8",
   "metadata": {
    "execution": {
     "iopub.execute_input": "2024-08-29T18:12:38.530893Z",
     "iopub.status.busy": "2024-08-29T18:12:38.530210Z",
     "iopub.status.idle": "2024-08-29T18:12:38.534684Z",
     "shell.execute_reply": "2024-08-29T18:12:38.533756Z"
    },
    "papermill": {
     "duration": 0.044608,
     "end_time": "2024-08-29T18:12:38.536735",
     "exception": false,
     "start_time": "2024-08-29T18:12:38.492127",
     "status": "completed"
    },
    "tags": []
   },
   "outputs": [],
   "source": [
    "optuna_search = OptunaSearch(\n",
    "    metric=\"accuracy\",\n",
    "    mode=\"max\"\n",
    ")"
   ]
  },
  {
   "cell_type": "code",
   "execution_count": 49,
   "id": "d9cd2ee0",
   "metadata": {
    "execution": {
     "iopub.execute_input": "2024-08-29T18:12:38.609617Z",
     "iopub.status.busy": "2024-08-29T18:12:38.609269Z",
     "iopub.status.idle": "2024-08-29T18:12:38.613523Z",
     "shell.execute_reply": "2024-08-29T18:12:38.612736Z"
    },
    "papermill": {
     "duration": 0.042967,
     "end_time": "2024-08-29T18:12:38.615440",
     "exception": false,
     "start_time": "2024-08-29T18:12:38.572473",
     "status": "completed"
    },
    "tags": []
   },
   "outputs": [],
   "source": [
    "# optuna_search = OptunaSearch(\n",
    "#     metric=[\n",
    "#         tune.MultiObjective(\"loss\", \"min\"),\n",
    "#         tune.MultiObjective(\"custom_metric\", \"min\"),\n",
    "#         tune.MultiObjective(\"accuracy\", \"max\")\n",
    "#     ],\n",
    "#     mode=[\n",
    "#         \"min\",  # for loss\n",
    "#         \"min\",  # for custom metric\n",
    "#         \"max\"   # for accuracy\n",
    "#     ]\n",
    "# )"
   ]
  },
  {
   "cell_type": "code",
   "execution_count": 50,
   "id": "b5986e0e",
   "metadata": {
    "execution": {
     "iopub.execute_input": "2024-08-29T18:12:38.687511Z",
     "iopub.status.busy": "2024-08-29T18:12:38.687201Z",
     "iopub.status.idle": "2024-08-29T18:12:38.690853Z",
     "shell.execute_reply": "2024-08-29T18:12:38.690038Z"
    },
    "papermill": {
     "duration": 0.04221,
     "end_time": "2024-08-29T18:12:38.692762",
     "exception": false,
     "start_time": "2024-08-29T18:12:38.650552",
     "status": "completed"
    },
    "tags": []
   },
   "outputs": [],
   "source": [
    "# optuna_search = OptunaSearch(\n",
    "#     metric=\"custom_metric\",\n",
    "#     mode=\"min\"\n",
    "# )"
   ]
  },
  {
   "cell_type": "code",
   "execution_count": 51,
   "id": "eb49bbd9",
   "metadata": {
    "execution": {
     "iopub.execute_input": "2024-08-29T18:12:38.782255Z",
     "iopub.status.busy": "2024-08-29T18:12:38.781799Z",
     "iopub.status.idle": "2024-08-29T18:12:38.785913Z",
     "shell.execute_reply": "2024-08-29T18:12:38.785040Z"
    },
    "papermill": {
     "duration": 0.056478,
     "end_time": "2024-08-29T18:12:38.787949",
     "exception": false,
     "start_time": "2024-08-29T18:12:38.731471",
     "status": "completed"
    },
    "tags": []
   },
   "outputs": [],
   "source": [
    "# # Setup Optuna for hyperparameter optimization\n",
    "# optuna_search = OptunaSearch(\n",
    "#     metric=\"loss\",\n",
    "#     mode=\"min\"\n",
    "# )"
   ]
  },
  {
   "cell_type": "code",
   "execution_count": 52,
   "id": "36bc227e",
   "metadata": {
    "execution": {
     "iopub.execute_input": "2024-08-29T18:12:38.860603Z",
     "iopub.status.busy": "2024-08-29T18:12:38.860276Z",
     "iopub.status.idle": "2024-08-29T18:12:38.865466Z",
     "shell.execute_reply": "2024-08-29T18:12:38.864586Z"
    },
    "papermill": {
     "duration": 0.043952,
     "end_time": "2024-08-29T18:12:38.867467",
     "exception": false,
     "start_time": "2024-08-29T18:12:38.823515",
     "status": "completed"
    },
    "tags": []
   },
   "outputs": [],
   "source": [
    "# scheduler = ASHAScheduler(\n",
    "#     metric=\"loss\",\n",
    "#     mode=\"min\",\n",
    "#     max_t=15,\n",
    "#     grace_period=1,\n",
    "#     reduction_factor=2\n",
    "# )"
   ]
  },
  {
   "cell_type": "code",
   "execution_count": 53,
   "id": "dbaecec1",
   "metadata": {
    "execution": {
     "iopub.execute_input": "2024-08-29T18:12:38.939607Z",
     "iopub.status.busy": "2024-08-29T18:12:38.939284Z",
     "iopub.status.idle": "2024-08-29T18:12:38.943213Z",
     "shell.execute_reply": "2024-08-29T18:12:38.942374Z"
    },
    "papermill": {
     "duration": 0.042213,
     "end_time": "2024-08-29T18:12:38.945077",
     "exception": false,
     "start_time": "2024-08-29T18:12:38.902864",
     "status": "completed"
    },
    "tags": []
   },
   "outputs": [],
   "source": [
    "# scheduler = ASHAScheduler(\n",
    "#     metric=\"accuracy\",\n",
    "#     mode=\"max\",\n",
    "#     max_t=15,\n",
    "#     grace_period=1,\n",
    "#     reduction_factor=2\n",
    "# )"
   ]
  },
  {
   "cell_type": "markdown",
   "id": "4be8b2b1",
   "metadata": {
    "papermill": {
     "duration": 0.035052,
     "end_time": "2024-08-29T18:12:39.015640",
     "exception": false,
     "start_time": "2024-08-29T18:12:38.980588",
     "status": "completed"
    },
    "tags": []
   },
   "source": [
    "## SCHEDULER ALGO"
   ]
  },
  {
   "cell_type": "code",
   "execution_count": 54,
   "id": "b63ff78e",
   "metadata": {
    "execution": {
     "iopub.execute_input": "2024-08-29T18:12:39.088298Z",
     "iopub.status.busy": "2024-08-29T18:12:39.087893Z",
     "iopub.status.idle": "2024-08-29T18:12:39.092656Z",
     "shell.execute_reply": "2024-08-29T18:12:39.091814Z"
    },
    "papermill": {
     "duration": 0.043526,
     "end_time": "2024-08-29T18:12:39.094563",
     "exception": false,
     "start_time": "2024-08-29T18:12:39.051037",
     "status": "completed"
    },
    "tags": []
   },
   "outputs": [],
   "source": [
    "scheduler = ASHAScheduler(\n",
    "    metric='accuracy',\n",
    "    mode='max',\n",
    "    max_t=22,\n",
    "    grace_period=3,\n",
    "    reduction_factor=2\n",
    ")"
   ]
  },
  {
   "cell_type": "code",
   "execution_count": 55,
   "id": "bf8e6bd6",
   "metadata": {
    "execution": {
     "iopub.execute_input": "2024-08-29T18:12:39.168170Z",
     "iopub.status.busy": "2024-08-29T18:12:39.167321Z",
     "iopub.status.idle": "2024-08-29T18:12:39.171504Z",
     "shell.execute_reply": "2024-08-29T18:12:39.170619Z"
    },
    "papermill": {
     "duration": 0.042889,
     "end_time": "2024-08-29T18:12:39.173362",
     "exception": false,
     "start_time": "2024-08-29T18:12:39.130473",
     "status": "completed"
    },
    "tags": []
   },
   "outputs": [],
   "source": [
    "# scheduler = AsyncHyperBandScheduler(\n",
    "#     metric='accuracy',\n",
    "#     mode='max',\n",
    "#     max_t=22,\n",
    "#     grace_period=3,\n",
    "#     reduction_factor=2\n",
    "# )"
   ]
  },
  {
   "cell_type": "code",
   "execution_count": 56,
   "id": "92b53a6a",
   "metadata": {
    "execution": {
     "iopub.execute_input": "2024-08-29T18:12:39.247784Z",
     "iopub.status.busy": "2024-08-29T18:12:39.246825Z",
     "iopub.status.idle": "2024-08-29T18:12:39.251589Z",
     "shell.execute_reply": "2024-08-29T18:12:39.250691Z"
    },
    "papermill": {
     "duration": 0.044325,
     "end_time": "2024-08-29T18:12:39.253661",
     "exception": false,
     "start_time": "2024-08-29T18:12:39.209336",
     "status": "completed"
    },
    "tags": []
   },
   "outputs": [],
   "source": [
    "# scheduler = ASHAScheduler(\n",
    "#     metric=[\n",
    "#         tune.MultiObjective(\"loss\", \"min\"),\n",
    "#         tune.MultiObjective(\"custom_metric\", \"min\"),\n",
    "#         tune.MultiObjective(\"accuracy\", \"max\")\n",
    "#     ],\n",
    "#     mode=[\n",
    "#         \"min\",  # for loss\n",
    "#         \"min\",  # for custom metric\n",
    "#         \"max\"   # for accuracy\n",
    "#     ],\n",
    "#     max_t=22,\n",
    "#     grace_period=3,\n",
    "#     reduction_factor=2\n",
    "# )"
   ]
  },
  {
   "cell_type": "code",
   "execution_count": 57,
   "id": "72e86321",
   "metadata": {
    "execution": {
     "iopub.execute_input": "2024-08-29T18:12:39.326134Z",
     "iopub.status.busy": "2024-08-29T18:12:39.325808Z",
     "iopub.status.idle": "2024-08-29T18:12:39.329778Z",
     "shell.execute_reply": "2024-08-29T18:12:39.328974Z"
    },
    "papermill": {
     "duration": 0.042265,
     "end_time": "2024-08-29T18:12:39.331647",
     "exception": false,
     "start_time": "2024-08-29T18:12:39.289382",
     "status": "completed"
    },
    "tags": []
   },
   "outputs": [],
   "source": [
    "# scheduler = ASHAScheduler(\n",
    "#     metric=\"custom_metric\",\n",
    "#     mode=\"min\",\n",
    "#     max_t=22,\n",
    "#     grace_period=3,\n",
    "#     reduction_factor=2\n",
    "# )"
   ]
  },
  {
   "cell_type": "code",
   "execution_count": 58,
   "id": "91d50789",
   "metadata": {
    "execution": {
     "iopub.execute_input": "2024-08-29T18:12:39.404627Z",
     "iopub.status.busy": "2024-08-29T18:12:39.404322Z",
     "iopub.status.idle": "2024-08-29T18:12:39.408475Z",
     "shell.execute_reply": "2024-08-29T18:12:39.407604Z"
    },
    "papermill": {
     "duration": 0.043057,
     "end_time": "2024-08-29T18:12:39.410334",
     "exception": false,
     "start_time": "2024-08-29T18:12:39.367277",
     "status": "completed"
    },
    "tags": []
   },
   "outputs": [],
   "source": [
    "# scheduler = HyperBandScheduler(\n",
    "#     time_attr='training_iteration',  # The attribute to use for the time dimension (similar to ASHA's `max_t`)\n",
    "#     metric='custom_metric',          # The metric to optimize (similar to ASHA's `metric`)\n",
    "#     mode='min',                      # Optimization mode (minimize `custom_metric`)\n",
    "#     max_t=22,                        # Maximum number of iterations per trial (similar to ASHA's `max_t`)\n",
    "#     reduction_factor=2               # Reduction factor (similar to ASHA)\n",
    "# )"
   ]
  },
  {
   "cell_type": "code",
   "execution_count": 59,
   "id": "5a308a3e",
   "metadata": {
    "execution": {
     "iopub.execute_input": "2024-08-29T18:12:39.482342Z",
     "iopub.status.busy": "2024-08-29T18:12:39.481993Z",
     "iopub.status.idle": "2024-08-29T18:12:39.486671Z",
     "shell.execute_reply": "2024-08-29T18:12:39.485758Z"
    },
    "papermill": {
     "duration": 0.042934,
     "end_time": "2024-08-29T18:12:39.488664",
     "exception": false,
     "start_time": "2024-08-29T18:12:39.445730",
     "status": "completed"
    },
    "tags": []
   },
   "outputs": [],
   "source": [
    "reporter = CLIReporter(\n",
    "    metric_columns=[\"loss\", \"accuracy\", \"custom_metric\", \"training_iteration\", \"train_loss\", \"train_accuracy\", \"early_stopping_epoch\"],\n",
    "    print_intermediate_tables=False\n",
    ")\n",
    "reporter.verbosity = 0"
   ]
  },
  {
   "cell_type": "markdown",
   "id": "061e1746",
   "metadata": {
    "papermill": {
     "duration": 0.035974,
     "end_time": "2024-08-29T18:12:39.561257",
     "exception": false,
     "start_time": "2024-08-29T18:12:39.525283",
     "status": "completed"
    },
    "tags": []
   },
   "source": [
    "## Custom CLI Reporter Class"
   ]
  },
  {
   "cell_type": "code",
   "execution_count": 60,
   "id": "b916c899",
   "metadata": {
    "execution": {
     "iopub.execute_input": "2024-08-29T18:12:39.633934Z",
     "iopub.status.busy": "2024-08-29T18:12:39.633037Z",
     "iopub.status.idle": "2024-08-29T18:12:39.638330Z",
     "shell.execute_reply": "2024-08-29T18:12:39.637466Z"
    },
    "papermill": {
     "duration": 0.0436,
     "end_time": "2024-08-29T18:12:39.640206",
     "exception": false,
     "start_time": "2024-08-29T18:12:39.596606",
     "status": "completed"
    },
    "tags": []
   },
   "outputs": [],
   "source": [
    "# class FinalTableCLIReporter(CLIReporter):\n",
    "#     def __init__(self, *args, **kwargs):\n",
    "#         super().__init__(*args, **kwargs)\n",
    "#         self.results = []\n",
    "\n",
    "#     def _update(self, *args, **kwargs):\n",
    "#         # Collect results without printing intermediate updates\n",
    "#         self.results.append(kwargs)\n",
    "\n",
    "#     def print_table(self):\n",
    "#         # Print only the final results\n",
    "#         if self.results:\n",
    "#             final_results = [result for result in self.results]\n",
    "#             headers = list(final_results[0].keys()) if final_results else []\n",
    "#             table = [headers] + [list(result.values()) for result in final_results]\n",
    "#             for row in table:\n",
    "#                 print(\" | \".join(str(cell) for cell in row))\n",
    "\n",
    "#     def _report(self, *args, **kwargs):\n",
    "#         # Override this to prevent intermediate print\n",
    "#         self._update(*args, **kwargs)\n",
    "\n",
    "#     def _finalize(self):\n",
    "#         # Call this to print the final table\n",
    "#         self.print_table()"
   ]
  },
  {
   "cell_type": "markdown",
   "id": "fe583543",
   "metadata": {
    "papermill": {
     "duration": 0.035159,
     "end_time": "2024-08-29T18:12:39.710849",
     "exception": false,
     "start_time": "2024-08-29T18:12:39.675690",
     "status": "completed"
    },
    "tags": []
   },
   "source": [
    "## REPORTER"
   ]
  },
  {
   "cell_type": "code",
   "execution_count": 61,
   "id": "ee97dd9a",
   "metadata": {
    "execution": {
     "iopub.execute_input": "2024-08-29T18:12:39.783230Z",
     "iopub.status.busy": "2024-08-29T18:12:39.782679Z",
     "iopub.status.idle": "2024-08-29T18:12:39.786938Z",
     "shell.execute_reply": "2024-08-29T18:12:39.786130Z"
    },
    "papermill": {
     "duration": 0.042733,
     "end_time": "2024-08-29T18:12:39.788802",
     "exception": false,
     "start_time": "2024-08-29T18:12:39.746069",
     "status": "completed"
    },
    "tags": []
   },
   "outputs": [],
   "source": [
    "# To ignore warinings\n",
    "import warnings\n",
    "warnings.filterwarnings('ignore')"
   ]
  },
  {
   "cell_type": "code",
   "execution_count": 62,
   "id": "e71d787e",
   "metadata": {
    "execution": {
     "iopub.execute_input": "2024-08-29T18:12:39.860885Z",
     "iopub.status.busy": "2024-08-29T18:12:39.860555Z",
     "iopub.status.idle": "2024-08-29T23:41:53.295592Z",
     "shell.execute_reply": "2024-08-29T23:41:53.294781Z"
    },
    "papermill": {
     "duration": 19753.473513,
     "end_time": "2024-08-29T23:41:53.297714",
     "exception": false,
     "start_time": "2024-08-29T18:12:39.824201",
     "status": "completed"
    },
    "tags": []
   },
   "outputs": [
    {
     "data": {
      "text/html": [
       "<div class=\"tuneStatus\">\n",
       "  <div style=\"display: flex;flex-direction: row\">\n",
       "    <div style=\"display: flex;flex-direction: column;\">\n",
       "      <h3>Tune Status</h3>\n",
       "      <table>\n",
       "<tbody>\n",
       "<tr><td>Current time:</td><td>2024-08-29 23:41:53</td></tr>\n",
       "<tr><td>Running for: </td><td>05:28:56.74        </td></tr>\n",
       "<tr><td>Memory:      </td><td>3.2/31.4 GiB       </td></tr>\n",
       "</tbody>\n",
       "</table>\n",
       "    </div>\n",
       "    <div class=\"vDivider\"></div>\n",
       "    <div class=\"systemInfo\">\n",
       "      <h3>System Info</h3>\n",
       "      Using AsyncHyperBand: num_stopped=49<br>Bracket: Iter 12.000: 0.9263937282229966 | Iter 6.000: 0.9207317073170732 | Iter 3.000: 0.9101335656213705<br>Logical resource usage: 2.0/4 CPUs, 1.0/2 GPUs (0.0/1.0 accelerator_type:T4)\n",
       "    </div>\n",
       "    \n",
       "  </div>\n",
       "  <div class=\"hDivider\"></div>\n",
       "  <div class=\"trialStatus\">\n",
       "    <h3>Trial Status</h3>\n",
       "    <table>\n",
       "<thead>\n",
       "<tr><th>Trial name       </th><th>status    </th><th>loc            </th><th style=\"text-align: right;\">  batch_size</th><th style=\"text-align: right;\">  dropout_rate</th><th style=\"text-align: right;\">  epochs</th><th style=\"text-align: right;\">    lr</th><th style=\"text-align: right;\">  weight_decay</th><th style=\"text-align: right;\">     loss</th><th style=\"text-align: right;\">  accuracy</th><th style=\"text-align: right;\">  custom_metric</th><th style=\"text-align: right;\">  training_iteration</th><th style=\"text-align: right;\">  train_loss</th><th style=\"text-align: right;\">  train_accuracy</th><th style=\"text-align: right;\">  early_stopping_epoch</th></tr>\n",
       "</thead>\n",
       "<tbody>\n",
       "<tr><td>train_fn_74e1235b</td><td>TERMINATED</td><td>172.19.2.2:340 </td><td style=\"text-align: right;\">          64</td><td style=\"text-align: right;\">          0.2 </td><td style=\"text-align: right;\">       5</td><td style=\"text-align: right;\">0.001 </td><td style=\"text-align: right;\">        1e-05 </td><td style=\"text-align: right;\">0.0546616</td><td style=\"text-align: right;\">  0.889373</td><td style=\"text-align: right;\">      0.0549307</td><td style=\"text-align: right;\">                   4</td><td style=\"text-align: right;\">  0.0541233 </td><td style=\"text-align: right;\">        0.889291</td><td style=\"text-align: right;\">                     4</td></tr>\n",
       "<tr><td>train_fn_393cddc8</td><td>TERMINATED</td><td>172.19.2.2:376 </td><td style=\"text-align: right;\">          32</td><td style=\"text-align: right;\">          0.35</td><td style=\"text-align: right;\">      12</td><td style=\"text-align: right;\">0.0002</td><td style=\"text-align: right;\">        0.0001</td><td style=\"text-align: right;\">0.054192 </td><td style=\"text-align: right;\">  0.889373</td><td style=\"text-align: right;\">      0.0542331</td><td style=\"text-align: right;\">                   7</td><td style=\"text-align: right;\">  0.0541099 </td><td style=\"text-align: right;\">        0.889291</td><td style=\"text-align: right;\">                     7</td></tr>\n",
       "<tr><td>train_fn_d8aa3878</td><td>TERMINATED</td><td>172.19.2.2:483 </td><td style=\"text-align: right;\">          64</td><td style=\"text-align: right;\">          0.27</td><td style=\"text-align: right;\">      20</td><td style=\"text-align: right;\">1e-05 </td><td style=\"text-align: right;\">        2e-05 </td><td style=\"text-align: right;\">0.0333584</td><td style=\"text-align: right;\">  0.917828</td><td style=\"text-align: right;\">      0.0412064</td><td style=\"text-align: right;\">                  13</td><td style=\"text-align: right;\">  0.0176624 </td><td style=\"text-align: right;\">        0.954641</td><td style=\"text-align: right;\">                    13</td></tr>\n",
       "<tr><td>train_fn_7e0568dc</td><td>TERMINATED</td><td>172.19.2.2:573 </td><td style=\"text-align: right;\">          32</td><td style=\"text-align: right;\">          0.35</td><td style=\"text-align: right;\">      15</td><td style=\"text-align: right;\">3e-06 </td><td style=\"text-align: right;\">        0.0001</td><td style=\"text-align: right;\">0.0450784</td><td style=\"text-align: right;\">  0.895761</td><td style=\"text-align: right;\">      0.0477495</td><td style=\"text-align: right;\">                   6</td><td style=\"text-align: right;\">  0.0504207 </td><td style=\"text-align: right;\">        0.890698</td><td style=\"text-align: right;\">                     6</td></tr>\n",
       "<tr><td>train_fn_90c8d9ba</td><td>TERMINATED</td><td>172.19.2.2:678 </td><td style=\"text-align: right;\">          32</td><td style=\"text-align: right;\">          0.27</td><td style=\"text-align: right;\">      12</td><td style=\"text-align: right;\">2e-05 </td><td style=\"text-align: right;\">        1e-05 </td><td style=\"text-align: right;\">0.0268234</td><td style=\"text-align: right;\">  0.926829</td><td style=\"text-align: right;\">      0.0360044</td><td style=\"text-align: right;\">                  12</td><td style=\"text-align: right;\">  0.00846155</td><td style=\"text-align: right;\">        0.973514</td><td style=\"text-align: right;\">                    12</td></tr>\n",
       "<tr><td>train_fn_1ff8a192</td><td>TERMINATED</td><td>172.19.2.2:759 </td><td style=\"text-align: right;\">          32</td><td style=\"text-align: right;\">          0.35</td><td style=\"text-align: right;\">      12</td><td style=\"text-align: right;\">1e-06 </td><td style=\"text-align: right;\">        1e-05 </td><td style=\"text-align: right;\">0.095339 </td><td style=\"text-align: right;\">  0.889082</td><td style=\"text-align: right;\">      0.105833 </td><td style=\"text-align: right;\">                   3</td><td style=\"text-align: right;\">  0.116328  </td><td style=\"text-align: right;\">        0.883181</td><td style=\"text-align: right;\">                     3</td></tr>\n",
       "<tr><td>train_fn_f64cae7c</td><td>TERMINATED</td><td>172.19.2.2:848 </td><td style=\"text-align: right;\">          64</td><td style=\"text-align: right;\">          0.4 </td><td style=\"text-align: right;\">      15</td><td style=\"text-align: right;\">2e-07 </td><td style=\"text-align: right;\">        0.0002</td><td style=\"text-align: right;\">0.182334 </td><td style=\"text-align: right;\">  0.676249</td><td style=\"text-align: right;\">      0.183867 </td><td style=\"text-align: right;\">                   3</td><td style=\"text-align: right;\">  0.185401  </td><td style=\"text-align: right;\">        0.563336</td><td style=\"text-align: right;\">                     3</td></tr>\n",
       "<tr><td>train_fn_2b17105f</td><td>TERMINATED</td><td>172.19.2.2:934 </td><td style=\"text-align: right;\">          32</td><td style=\"text-align: right;\">          0.25</td><td style=\"text-align: right;\">       5</td><td style=\"text-align: right;\">3e-05 </td><td style=\"text-align: right;\">        5e-05 </td><td style=\"text-align: right;\">0.0305297</td><td style=\"text-align: right;\">  0.921893</td><td style=\"text-align: right;\">      0.0356395</td><td style=\"text-align: right;\">                   5</td><td style=\"text-align: right;\">  0.02031   </td><td style=\"text-align: right;\">        0.947156</td><td style=\"text-align: right;\">                     5</td></tr>\n",
       "<tr><td>train_fn_3fc17697</td><td>TERMINATED</td><td>172.19.2.2:1028</td><td style=\"text-align: right;\">          64</td><td style=\"text-align: right;\">          0.35</td><td style=\"text-align: right;\">       7</td><td style=\"text-align: right;\">1e-05 </td><td style=\"text-align: right;\">        0.0001</td><td style=\"text-align: right;\">0.0345609</td><td style=\"text-align: right;\">  0.920151</td><td style=\"text-align: right;\">      0.0366122</td><td style=\"text-align: right;\">                   7</td><td style=\"text-align: right;\">  0.0304584 </td><td style=\"text-align: right;\">        0.928156</td><td style=\"text-align: right;\">                     7</td></tr>\n",
       "<tr><td>train_fn_5fbaa364</td><td>TERMINATED</td><td>172.19.2.2:1103</td><td style=\"text-align: right;\">          64</td><td style=\"text-align: right;\">          0.25</td><td style=\"text-align: right;\">       7</td><td style=\"text-align: right;\">0.001 </td><td style=\"text-align: right;\">        5e-06 </td><td style=\"text-align: right;\">0.0540203</td><td style=\"text-align: right;\">  0.889373</td><td style=\"text-align: right;\">      0.0540257</td><td style=\"text-align: right;\">                   6</td><td style=\"text-align: right;\">  0.0540093 </td><td style=\"text-align: right;\">        0.889291</td><td style=\"text-align: right;\">                     6</td></tr>\n",
       "<tr><td>train_fn_ba74eb45</td><td>TERMINATED</td><td>172.19.2.2:1204</td><td style=\"text-align: right;\">          64</td><td style=\"text-align: right;\">          0.27</td><td style=\"text-align: right;\">      15</td><td style=\"text-align: right;\">0.0001</td><td style=\"text-align: right;\">        0.0001</td><td style=\"text-align: right;\">0.0527208</td><td style=\"text-align: right;\">  0.889373</td><td style=\"text-align: right;\">      0.053252 </td><td style=\"text-align: right;\">                   6</td><td style=\"text-align: right;\">  0.0537831 </td><td style=\"text-align: right;\">        0.888779</td><td style=\"text-align: right;\">                     6</td></tr>\n",
       "<tr><td>train_fn_0cd05ae1</td><td>TERMINATED</td><td>172.19.2.2:1270</td><td style=\"text-align: right;\">          32</td><td style=\"text-align: right;\">          0.27</td><td style=\"text-align: right;\">      10</td><td style=\"text-align: right;\">2e-05 </td><td style=\"text-align: right;\">        0.001 </td><td style=\"text-align: right;\">0.0261782</td><td style=\"text-align: right;\">  0.928571</td><td style=\"text-align: right;\">      0.0340638</td><td style=\"text-align: right;\">                  10</td><td style=\"text-align: right;\">  0.0104071 </td><td style=\"text-align: right;\">        0.967277</td><td style=\"text-align: right;\">                    10</td></tr>\n",
       "<tr><td>train_fn_b6d7a778</td><td>TERMINATED</td><td>172.19.2.2:1376</td><td style=\"text-align: right;\">          32</td><td style=\"text-align: right;\">          0.27</td><td style=\"text-align: right;\">      10</td><td style=\"text-align: right;\">2e-05 </td><td style=\"text-align: right;\">        0.001 </td><td style=\"text-align: right;\">0.0305016</td><td style=\"text-align: right;\">  0.91957 </td><td style=\"text-align: right;\">      0.0394588</td><td style=\"text-align: right;\">                  10</td><td style=\"text-align: right;\">  0.0125873 </td><td style=\"text-align: right;\">        0.964366</td><td style=\"text-align: right;\">                    10</td></tr>\n",
       "<tr><td>train_fn_12eb906a</td><td>TERMINATED</td><td>172.19.2.2:1474</td><td style=\"text-align: right;\">          32</td><td style=\"text-align: right;\">          0.25</td><td style=\"text-align: right;\">       5</td><td style=\"text-align: right;\">3e-05 </td><td style=\"text-align: right;\">        5e-05 </td><td style=\"text-align: right;\">0.0319682</td><td style=\"text-align: right;\">  0.914344</td><td style=\"text-align: right;\">      0.0377519</td><td style=\"text-align: right;\">                   5</td><td style=\"text-align: right;\">  0.0204008 </td><td style=\"text-align: right;\">        0.945589</td><td style=\"text-align: right;\">                     5</td></tr>\n",
       "<tr><td>train_fn_6fb14e84</td><td>TERMINATED</td><td>172.19.2.2:1573</td><td style=\"text-align: right;\">          32</td><td style=\"text-align: right;\">          0.27</td><td style=\"text-align: right;\">      10</td><td style=\"text-align: right;\">2e-05 </td><td style=\"text-align: right;\">        0.001 </td><td style=\"text-align: right;\">0.0268659</td><td style=\"text-align: right;\">  0.924216</td><td style=\"text-align: right;\">      0.0348247</td><td style=\"text-align: right;\">                  10</td><td style=\"text-align: right;\">  0.0109482 </td><td style=\"text-align: right;\">        0.967085</td><td style=\"text-align: right;\">                    10</td></tr>\n",
       "<tr><td>train_fn_5866b754</td><td>TERMINATED</td><td>172.19.2.2:1637</td><td style=\"text-align: right;\">          32</td><td style=\"text-align: right;\">          0.3 </td><td style=\"text-align: right;\">      10</td><td style=\"text-align: right;\">2e-05 </td><td style=\"text-align: right;\">        0.001 </td><td style=\"text-align: right;\">0.0257922</td><td style=\"text-align: right;\">  0.92712 </td><td style=\"text-align: right;\">      0.033005 </td><td style=\"text-align: right;\">                  10</td><td style=\"text-align: right;\">  0.0113664 </td><td style=\"text-align: right;\">        0.967341</td><td style=\"text-align: right;\">                    10</td></tr>\n",
       "<tr><td>train_fn_558a49aa</td><td>TERMINATED</td><td>172.19.2.2:1770</td><td style=\"text-align: right;\">          32</td><td style=\"text-align: right;\">          0.3 </td><td style=\"text-align: right;\">      10</td><td style=\"text-align: right;\">2e-05 </td><td style=\"text-align: right;\">        0.001 </td><td style=\"text-align: right;\">0.0289212</td><td style=\"text-align: right;\">  0.927991</td><td style=\"text-align: right;\">      0.0370972</td><td style=\"text-align: right;\">                  10</td><td style=\"text-align: right;\">  0.0125692 </td><td style=\"text-align: right;\">        0.964046</td><td style=\"text-align: right;\">                    10</td></tr>\n",
       "<tr><td>train_fn_6fd1942f</td><td>TERMINATED</td><td>172.19.2.2:1835</td><td style=\"text-align: right;\">          32</td><td style=\"text-align: right;\">          0.3 </td><td style=\"text-align: right;\">      10</td><td style=\"text-align: right;\">2e-06 </td><td style=\"text-align: right;\">        0.001 </td><td style=\"text-align: right;\">0.0586483</td><td style=\"text-align: right;\">  0.889082</td><td style=\"text-align: right;\">      0.0646622</td><td style=\"text-align: right;\">                   3</td><td style=\"text-align: right;\">  0.0706761 </td><td style=\"text-align: right;\">        0.889291</td><td style=\"text-align: right;\">                     3</td></tr>\n",
       "<tr><td>train_fn_1a9af771</td><td>TERMINATED</td><td>172.19.2.2:1930</td><td style=\"text-align: right;\">          32</td><td style=\"text-align: right;\">          0.3 </td><td style=\"text-align: right;\">      10</td><td style=\"text-align: right;\">5e-05 </td><td style=\"text-align: right;\">        0.001 </td><td style=\"text-align: right;\">0.0271437</td><td style=\"text-align: right;\">  0.927991</td><td style=\"text-align: right;\">      0.0365611</td><td style=\"text-align: right;\">                  10</td><td style=\"text-align: right;\">  0.0083088 </td><td style=\"text-align: right;\">        0.970731</td><td style=\"text-align: right;\">                    10</td></tr>\n",
       "<tr><td>train_fn_24a37924</td><td>TERMINATED</td><td>172.19.2.2:2038</td><td style=\"text-align: right;\">          32</td><td style=\"text-align: right;\">          0.3 </td><td style=\"text-align: right;\">      10</td><td style=\"text-align: right;\">5e-05 </td><td style=\"text-align: right;\">        1e-06 </td><td style=\"text-align: right;\">0.027673 </td><td style=\"text-align: right;\">  0.924216</td><td style=\"text-align: right;\">      0.0372064</td><td style=\"text-align: right;\">                  10</td><td style=\"text-align: right;\">  0.0086063 </td><td style=\"text-align: right;\">        0.971787</td><td style=\"text-align: right;\">                    10</td></tr>\n",
       "<tr><td>train_fn_d69d1057</td><td>TERMINATED</td><td>172.19.2.2:2127</td><td style=\"text-align: right;\">          32</td><td style=\"text-align: right;\">          0.3 </td><td style=\"text-align: right;\">      10</td><td style=\"text-align: right;\">5e-05 </td><td style=\"text-align: right;\">        2e-06 </td><td style=\"text-align: right;\">0.0319305</td><td style=\"text-align: right;\">  0.91899 </td><td style=\"text-align: right;\">      0.0394349</td><td style=\"text-align: right;\">                   6</td><td style=\"text-align: right;\">  0.0169216 </td><td style=\"text-align: right;\">        0.953554</td><td style=\"text-align: right;\">                     6</td></tr>\n",
       "<tr><td>train_fn_da6d62b1</td><td>TERMINATED</td><td>172.19.2.2:2232</td><td style=\"text-align: right;\">          32</td><td style=\"text-align: right;\">          0.2 </td><td style=\"text-align: right;\">      20</td><td style=\"text-align: right;\">5e-06 </td><td style=\"text-align: right;\">        1e-06 </td><td style=\"text-align: right;\">0.0527615</td><td style=\"text-align: right;\">  0.889373</td><td style=\"text-align: right;\">      0.0545259</td><td style=\"text-align: right;\">                   3</td><td style=\"text-align: right;\">  0.0562904 </td><td style=\"text-align: right;\">        0.889291</td><td style=\"text-align: right;\">                     3</td></tr>\n",
       "<tr><td>train_fn_9d1a2145</td><td>TERMINATED</td><td>172.19.2.2:2306</td><td style=\"text-align: right;\">          32</td><td style=\"text-align: right;\">          0.2 </td><td style=\"text-align: right;\">      20</td><td style=\"text-align: right;\">5e-06 </td><td style=\"text-align: right;\">        0.01  </td><td style=\"text-align: right;\">0.0481916</td><td style=\"text-align: right;\">  0.889373</td><td style=\"text-align: right;\">      0.051457 </td><td style=\"text-align: right;\">                   3</td><td style=\"text-align: right;\">  0.0547223 </td><td style=\"text-align: right;\">        0.889323</td><td style=\"text-align: right;\">                     3</td></tr>\n",
       "<tr><td>train_fn_2000499c</td><td>TERMINATED</td><td>172.19.2.2:2391</td><td style=\"text-align: right;\">          32</td><td style=\"text-align: right;\">          0.3 </td><td style=\"text-align: right;\">      10</td><td style=\"text-align: right;\">1e-07 </td><td style=\"text-align: right;\">        0.01  </td><td style=\"text-align: right;\">0.182922 </td><td style=\"text-align: right;\">  0.694251</td><td style=\"text-align: right;\">      0.182979 </td><td style=\"text-align: right;\">                   3</td><td style=\"text-align: right;\">  0.183035  </td><td style=\"text-align: right;\">        0.636875</td><td style=\"text-align: right;\">                     3</td></tr>\n",
       "<tr><td>train_fn_540286d0</td><td>TERMINATED</td><td>172.19.2.2:2465</td><td style=\"text-align: right;\">          32</td><td style=\"text-align: right;\">          0.3 </td><td style=\"text-align: right;\">      10</td><td style=\"text-align: right;\">1e-07 </td><td style=\"text-align: right;\">        0.01  </td><td style=\"text-align: right;\">0.183323 </td><td style=\"text-align: right;\">  0.577526</td><td style=\"text-align: right;\">      0.183712 </td><td style=\"text-align: right;\">                   3</td><td style=\"text-align: right;\">  0.1841    </td><td style=\"text-align: right;\">        0.58352 </td><td style=\"text-align: right;\">                     3</td></tr>\n",
       "<tr><td>train_fn_0f77054f</td><td>TERMINATED</td><td>172.19.2.2:2550</td><td style=\"text-align: right;\">          32</td><td style=\"text-align: right;\">          0.3 </td><td style=\"text-align: right;\">      10</td><td style=\"text-align: right;\">5e-07 </td><td style=\"text-align: right;\">        0.001 </td><td style=\"text-align: right;\">0.0871905</td><td style=\"text-align: right;\">  0.889373</td><td style=\"text-align: right;\">      0.0943399</td><td style=\"text-align: right;\">                   6</td><td style=\"text-align: right;\">  0.101489  </td><td style=\"text-align: right;\">        0.888811</td><td style=\"text-align: right;\">                     6</td></tr>\n",
       "<tr><td>train_fn_75d8ffb3</td><td>TERMINATED</td><td>172.19.2.2:2624</td><td style=\"text-align: right;\">          32</td><td style=\"text-align: right;\">          0.4 </td><td style=\"text-align: right;\">      10</td><td style=\"text-align: right;\">5e-07 </td><td style=\"text-align: right;\">        0.001 </td><td style=\"text-align: right;\">0.0932546</td><td style=\"text-align: right;\">  0.889373</td><td style=\"text-align: right;\">      0.100568 </td><td style=\"text-align: right;\">                   6</td><td style=\"text-align: right;\">  0.107882  </td><td style=\"text-align: right;\">        0.88654 </td><td style=\"text-align: right;\">                     6</td></tr>\n",
       "<tr><td>train_fn_f767dbb7</td><td>TERMINATED</td><td>172.19.2.2:2726</td><td style=\"text-align: right;\">          32</td><td style=\"text-align: right;\">          0.4 </td><td style=\"text-align: right;\">      10</td><td style=\"text-align: right;\">2e-05 </td><td style=\"text-align: right;\">        0.001 </td><td style=\"text-align: right;\">0.0316796</td><td style=\"text-align: right;\">  0.916667</td><td style=\"text-align: right;\">      0.0360066</td><td style=\"text-align: right;\">                   6</td><td style=\"text-align: right;\">  0.0230258 </td><td style=\"text-align: right;\">        0.940951</td><td style=\"text-align: right;\">                     6</td></tr>\n",
       "<tr><td>train_fn_1c04c123</td><td>TERMINATED</td><td>172.19.2.2:2802</td><td style=\"text-align: right;\">          32</td><td style=\"text-align: right;\">          0.4 </td><td style=\"text-align: right;\">      10</td><td style=\"text-align: right;\">5e-05 </td><td style=\"text-align: right;\">        0.001 </td><td style=\"text-align: right;\">0.0284404</td><td style=\"text-align: right;\">  0.924216</td><td style=\"text-align: right;\">      0.0379767</td><td style=\"text-align: right;\">                  10</td><td style=\"text-align: right;\">  0.0093679 </td><td style=\"text-align: right;\">        0.968492</td><td style=\"text-align: right;\">                    10</td></tr>\n",
       "<tr><td>train_fn_cb80e71d</td><td>TERMINATED</td><td>172.19.2.2:2902</td><td style=\"text-align: right;\">          32</td><td style=\"text-align: right;\">          0.3 </td><td style=\"text-align: right;\">      10</td><td style=\"text-align: right;\">5e-05 </td><td style=\"text-align: right;\">        0.001 </td><td style=\"text-align: right;\">0.0321448</td><td style=\"text-align: right;\">  0.917828</td><td style=\"text-align: right;\">      0.0367818</td><td style=\"text-align: right;\">                   6</td><td style=\"text-align: right;\">  0.0228709 </td><td style=\"text-align: right;\">        0.94175 </td><td style=\"text-align: right;\">                     6</td></tr>\n",
       "<tr><td>train_fn_d93dede2</td><td>TERMINATED</td><td>172.19.2.2:3000</td><td style=\"text-align: right;\">          32</td><td style=\"text-align: right;\">          0.3 </td><td style=\"text-align: right;\">       7</td><td style=\"text-align: right;\">5e-05 </td><td style=\"text-align: right;\">        2e-06 </td><td style=\"text-align: right;\">0.0334569</td><td style=\"text-align: right;\">  0.915505</td><td style=\"text-align: right;\">      0.0408415</td><td style=\"text-align: right;\">                   6</td><td style=\"text-align: right;\">  0.0186877 </td><td style=\"text-align: right;\">        0.951315</td><td style=\"text-align: right;\">                     6</td></tr>\n",
       "<tr><td>train_fn_6ef6937a</td><td>TERMINATED</td><td>172.19.2.2:3077</td><td style=\"text-align: right;\">          64</td><td style=\"text-align: right;\">          0.3 </td><td style=\"text-align: right;\">       7</td><td style=\"text-align: right;\">3e-06 </td><td style=\"text-align: right;\">        0.0002</td><td style=\"text-align: right;\">0.067763 </td><td style=\"text-align: right;\">  0.889373</td><td style=\"text-align: right;\">      0.0761904</td><td style=\"text-align: right;\">                   3</td><td style=\"text-align: right;\">  0.0846179 </td><td style=\"text-align: right;\">        0.879726</td><td style=\"text-align: right;\">                     3</td></tr>\n",
       "<tr><td>train_fn_53796627</td><td>TERMINATED</td><td>172.19.2.2:3164</td><td style=\"text-align: right;\">          64</td><td style=\"text-align: right;\">          0.2 </td><td style=\"text-align: right;\">       7</td><td style=\"text-align: right;\">0.0002</td><td style=\"text-align: right;\">        2e-05 </td><td style=\"text-align: right;\">0.0531532</td><td style=\"text-align: right;\">  0.889373</td><td style=\"text-align: right;\">      0.0534973</td><td style=\"text-align: right;\">                   3</td><td style=\"text-align: right;\">  0.0538413 </td><td style=\"text-align: right;\">        0.889291</td><td style=\"text-align: right;\">                     3</td></tr>\n",
       "<tr><td>train_fn_d533639b</td><td>TERMINATED</td><td>172.19.2.2:3247</td><td style=\"text-align: right;\">          32</td><td style=\"text-align: right;\">          0.3 </td><td style=\"text-align: right;\">      10</td><td style=\"text-align: right;\">2e-05 </td><td style=\"text-align: right;\">        0.001 </td><td style=\"text-align: right;\">0.0265209</td><td style=\"text-align: right;\">  0.925377</td><td style=\"text-align: right;\">      0.0339129</td><td style=\"text-align: right;\">                  10</td><td style=\"text-align: right;\">  0.0117369 </td><td style=\"text-align: right;\">        0.966157</td><td style=\"text-align: right;\">                    10</td></tr>\n",
       "<tr><td>train_fn_47f6acad</td><td>TERMINATED</td><td>172.19.2.2:3320</td><td style=\"text-align: right;\">          32</td><td style=\"text-align: right;\">          0.3 </td><td style=\"text-align: right;\">      10</td><td style=\"text-align: right;\">2e-05 </td><td style=\"text-align: right;\">        0.001 </td><td style=\"text-align: right;\">0.0280829</td><td style=\"text-align: right;\">  0.925958</td><td style=\"text-align: right;\">      0.0359493</td><td style=\"text-align: right;\">                  10</td><td style=\"text-align: right;\">  0.0123499 </td><td style=\"text-align: right;\">        0.964814</td><td style=\"text-align: right;\">                    10</td></tr>\n",
       "<tr><td>train_fn_020303b2</td><td>TERMINATED</td><td>172.19.2.2:3444</td><td style=\"text-align: right;\">          32</td><td style=\"text-align: right;\">          0.3 </td><td style=\"text-align: right;\">      10</td><td style=\"text-align: right;\">2e-05 </td><td style=\"text-align: right;\">        0.001 </td><td style=\"text-align: right;\">0.0276149</td><td style=\"text-align: right;\">  0.926249</td><td style=\"text-align: right;\">      0.0356498</td><td style=\"text-align: right;\">                  10</td><td style=\"text-align: right;\">  0.0115451 </td><td style=\"text-align: right;\">        0.967437</td><td style=\"text-align: right;\">                    10</td></tr>\n",
       "<tr><td>train_fn_491d1eb9</td><td>TERMINATED</td><td>172.19.2.2:3518</td><td style=\"text-align: right;\">          32</td><td style=\"text-align: right;\">          0.27</td><td style=\"text-align: right;\">       5</td><td style=\"text-align: right;\">2e-05 </td><td style=\"text-align: right;\">        5e-06 </td><td style=\"text-align: right;\">0.0323038</td><td style=\"text-align: right;\">  0.91899 </td><td style=\"text-align: right;\">      0.0370228</td><td style=\"text-align: right;\">                   5</td><td style=\"text-align: right;\">  0.0228659 </td><td style=\"text-align: right;\">        0.940631</td><td style=\"text-align: right;\">                     5</td></tr>\n",
       "<tr><td>train_fn_1569e222</td><td>TERMINATED</td><td>172.19.2.2:3618</td><td style=\"text-align: right;\">          32</td><td style=\"text-align: right;\">          0.27</td><td style=\"text-align: right;\">      12</td><td style=\"text-align: right;\">2e-05 </td><td style=\"text-align: right;\">        5e-06 </td><td style=\"text-align: right;\">0.0326885</td><td style=\"text-align: right;\">  0.915796</td><td style=\"text-align: right;\">      0.0389495</td><td style=\"text-align: right;\">                   6</td><td style=\"text-align: right;\">  0.0201663 </td><td style=\"text-align: right;\">        0.947316</td><td style=\"text-align: right;\">                     6</td></tr>\n",
       "<tr><td>train_fn_1e48b813</td><td>TERMINATED</td><td>172.19.2.2:3713</td><td style=\"text-align: right;\">          32</td><td style=\"text-align: right;\">          0.27</td><td style=\"text-align: right;\">      12</td><td style=\"text-align: right;\">1e-06 </td><td style=\"text-align: right;\">        2e-05 </td><td style=\"text-align: right;\">0.0865701</td><td style=\"text-align: right;\">  0.889082</td><td style=\"text-align: right;\">      0.0987551</td><td style=\"text-align: right;\">                   3</td><td style=\"text-align: right;\">  0.11094   </td><td style=\"text-align: right;\">        0.8756  </td><td style=\"text-align: right;\">                     3</td></tr>\n",
       "<tr><td>train_fn_6a2e8e4f</td><td>TERMINATED</td><td>172.19.2.2:3793</td><td style=\"text-align: right;\">          32</td><td style=\"text-align: right;\">          0.27</td><td style=\"text-align: right;\">      12</td><td style=\"text-align: right;\">1e-06 </td><td style=\"text-align: right;\">        2e-05 </td><td style=\"text-align: right;\">0.0914459</td><td style=\"text-align: right;\">  0.889373</td><td style=\"text-align: right;\">      0.102465 </td><td style=\"text-align: right;\">                   3</td><td style=\"text-align: right;\">  0.113484  </td><td style=\"text-align: right;\">        0.855831</td><td style=\"text-align: right;\">                     3</td></tr>\n",
       "<tr><td>train_fn_67b0e7ad</td><td>TERMINATED</td><td>172.19.2.2:3873</td><td style=\"text-align: right;\">          32</td><td style=\"text-align: right;\">          0.35</td><td style=\"text-align: right;\">      15</td><td style=\"text-align: right;\">1e-06 </td><td style=\"text-align: right;\">        1e-05 </td><td style=\"text-align: right;\">0.0797924</td><td style=\"text-align: right;\">  0.889373</td><td style=\"text-align: right;\">      0.091586 </td><td style=\"text-align: right;\">                   3</td><td style=\"text-align: right;\">  0.10338   </td><td style=\"text-align: right;\">        0.884812</td><td style=\"text-align: right;\">                     3</td></tr>\n",
       "<tr><td>train_fn_f0c5cd0b</td><td>TERMINATED</td><td>172.19.2.2:3953</td><td style=\"text-align: right;\">          32</td><td style=\"text-align: right;\">          0.35</td><td style=\"text-align: right;\">      15</td><td style=\"text-align: right;\">2e-07 </td><td style=\"text-align: right;\">        1e-05 </td><td style=\"text-align: right;\">0.179643 </td><td style=\"text-align: right;\">  0.748258</td><td style=\"text-align: right;\">      0.181048 </td><td style=\"text-align: right;\">                   3</td><td style=\"text-align: right;\">  0.176833  </td><td style=\"text-align: right;\">        0.710511</td><td style=\"text-align: right;\">                     3</td></tr>\n",
       "<tr><td>train_fn_4afdd8fd</td><td>TERMINATED</td><td>172.19.2.2:4033</td><td style=\"text-align: right;\">          64</td><td style=\"text-align: right;\">          0.35</td><td style=\"text-align: right;\">      15</td><td style=\"text-align: right;\">2e-07 </td><td style=\"text-align: right;\">        1e-05 </td><td style=\"text-align: right;\">0.182321 </td><td style=\"text-align: right;\">  0.698606</td><td style=\"text-align: right;\">      0.182607 </td><td style=\"text-align: right;\">                   3</td><td style=\"text-align: right;\">  0.182893  </td><td style=\"text-align: right;\">        0.63067 </td><td style=\"text-align: right;\">                     3</td></tr>\n",
       "<tr><td>train_fn_72ad7df0</td><td>TERMINATED</td><td>172.19.2.2:4113</td><td style=\"text-align: right;\">          32</td><td style=\"text-align: right;\">          0.27</td><td style=\"text-align: right;\">      12</td><td style=\"text-align: right;\">2e-07 </td><td style=\"text-align: right;\">        1e-05 </td><td style=\"text-align: right;\">0.181231 </td><td style=\"text-align: right;\">  0.658537</td><td style=\"text-align: right;\">      0.181752 </td><td style=\"text-align: right;\">                   3</td><td style=\"text-align: right;\">  0.182273  </td><td style=\"text-align: right;\">        0.652357</td><td style=\"text-align: right;\">                     3</td></tr>\n",
       "<tr><td>train_fn_950c8317</td><td>TERMINATED</td><td>172.19.2.2:4189</td><td style=\"text-align: right;\">          64</td><td style=\"text-align: right;\">          0.27</td><td style=\"text-align: right;\">      12</td><td style=\"text-align: right;\">0.001 </td><td style=\"text-align: right;\">        1e-05 </td><td style=\"text-align: right;\">0.0542759</td><td style=\"text-align: right;\">  0.889373</td><td style=\"text-align: right;\">      0.0544102</td><td style=\"text-align: right;\">                   6</td><td style=\"text-align: right;\">  0.0540075 </td><td style=\"text-align: right;\">        0.889291</td><td style=\"text-align: right;\">                     6</td></tr>\n",
       "<tr><td>train_fn_c794fc05</td><td>TERMINATED</td><td>172.19.2.2:4272</td><td style=\"text-align: right;\">          32</td><td style=\"text-align: right;\">          0.27</td><td style=\"text-align: right;\">      12</td><td style=\"text-align: right;\">0.001 </td><td style=\"text-align: right;\">        1e-05 </td><td style=\"text-align: right;\">0.0542598</td><td style=\"text-align: right;\">  0.889373</td><td style=\"text-align: right;\">      0.0543486</td><td style=\"text-align: right;\">                   6</td><td style=\"text-align: right;\">  0.0540823 </td><td style=\"text-align: right;\">        0.889291</td><td style=\"text-align: right;\">                     6</td></tr>\n",
       "<tr><td>train_fn_2c4e7606</td><td>TERMINATED</td><td>172.19.2.2:4361</td><td style=\"text-align: right;\">          32</td><td style=\"text-align: right;\">          0.25</td><td style=\"text-align: right;\">      12</td><td style=\"text-align: right;\">0.0001</td><td style=\"text-align: right;\">        5e-05 </td><td style=\"text-align: right;\">0.053536 </td><td style=\"text-align: right;\">  0.889373</td><td style=\"text-align: right;\">      0.053545 </td><td style=\"text-align: right;\">                   6</td><td style=\"text-align: right;\">  0.0535181 </td><td style=\"text-align: right;\">        0.889291</td><td style=\"text-align: right;\">                     6</td></tr>\n",
       "<tr><td>train_fn_347cd09f</td><td>TERMINATED</td><td>172.19.2.2:4447</td><td style=\"text-align: right;\">          32</td><td style=\"text-align: right;\">          0.25</td><td style=\"text-align: right;\">      20</td><td style=\"text-align: right;\">1e-05 </td><td style=\"text-align: right;\">        5e-05 </td><td style=\"text-align: right;\">0.0323255</td><td style=\"text-align: right;\">  0.915215</td><td style=\"text-align: right;\">      0.0361837</td><td style=\"text-align: right;\">                   6</td><td style=\"text-align: right;\">  0.024609  </td><td style=\"text-align: right;\">        0.936792</td><td style=\"text-align: right;\">                     6</td></tr>\n",
       "<tr><td>train_fn_0fb43e5a</td><td>TERMINATED</td><td>172.19.2.2:4537</td><td style=\"text-align: right;\">          32</td><td style=\"text-align: right;\">          0.25</td><td style=\"text-align: right;\">      20</td><td style=\"text-align: right;\">0.0001</td><td style=\"text-align: right;\">        5e-05 </td><td style=\"text-align: right;\">0.0541947</td><td style=\"text-align: right;\">  0.889373</td><td style=\"text-align: right;\">      0.0543113</td><td style=\"text-align: right;\">                   6</td><td style=\"text-align: right;\">  0.0539614 </td><td style=\"text-align: right;\">        0.889291</td><td style=\"text-align: right;\">                     6</td></tr>\n",
       "<tr><td>train_fn_91b80175</td><td>TERMINATED</td><td>172.19.2.2:4622</td><td style=\"text-align: right;\">          32</td><td style=\"text-align: right;\">          0.3 </td><td style=\"text-align: right;\">       5</td><td style=\"text-align: right;\">1e-05 </td><td style=\"text-align: right;\">        0.0001</td><td style=\"text-align: right;\">0.0335769</td><td style=\"text-align: right;\">  0.923055</td><td style=\"text-align: right;\">      0.0360181</td><td style=\"text-align: right;\">                   5</td><td style=\"text-align: right;\">  0.0286944 </td><td style=\"text-align: right;\">        0.92806 </td><td style=\"text-align: right;\">                     5</td></tr>\n",
       "<tr><td>train_fn_45e18a66</td><td>TERMINATED</td><td>172.19.2.2:4712</td><td style=\"text-align: right;\">          32</td><td style=\"text-align: right;\">          0.3 </td><td style=\"text-align: right;\">       5</td><td style=\"text-align: right;\">2e-06 </td><td style=\"text-align: right;\">        0.0001</td><td style=\"text-align: right;\">0.0549212</td><td style=\"text-align: right;\">  0.889373</td><td style=\"text-align: right;\">      0.0573218</td><td style=\"text-align: right;\">                   5</td><td style=\"text-align: right;\">  0.0597225 </td><td style=\"text-align: right;\">        0.889259</td><td style=\"text-align: right;\">                     5</td></tr>\n",
       "<tr><td>train_fn_4f1482ac</td><td>TERMINATED</td><td>172.19.2.2:4792</td><td style=\"text-align: right;\">          32</td><td style=\"text-align: right;\">          0.3 </td><td style=\"text-align: right;\">       5</td><td style=\"text-align: right;\">2e-06 </td><td style=\"text-align: right;\">        0.001 </td><td style=\"text-align: right;\">0.0546542</td><td style=\"text-align: right;\">  0.889373</td><td style=\"text-align: right;\">      0.0563531</td><td style=\"text-align: right;\">                   5</td><td style=\"text-align: right;\">  0.0580521 </td><td style=\"text-align: right;\">        0.889291</td><td style=\"text-align: right;\">                     5</td></tr>\n",
       "<tr><td>train_fn_d92b504a</td><td>TERMINATED</td><td>172.19.2.2:4882</td><td style=\"text-align: right;\">          64</td><td style=\"text-align: right;\">          0.27</td><td style=\"text-align: right;\">      10</td><td style=\"text-align: right;\">2e-06 </td><td style=\"text-align: right;\">        0.001 </td><td style=\"text-align: right;\">0.0847072</td><td style=\"text-align: right;\">  0.888792</td><td style=\"text-align: right;\">      0.0963449</td><td style=\"text-align: right;\">                   3</td><td style=\"text-align: right;\">  0.107983  </td><td style=\"text-align: right;\">        0.877679</td><td style=\"text-align: right;\">                     3</td></tr>\n",
       "<tr><td>train_fn_359e4372</td><td>TERMINATED</td><td>172.19.2.2:4962</td><td style=\"text-align: right;\">          32</td><td style=\"text-align: right;\">          0.3 </td><td style=\"text-align: right;\">      10</td><td style=\"text-align: right;\">2e-05 </td><td style=\"text-align: right;\">        0.001 </td><td style=\"text-align: right;\">0.0264799</td><td style=\"text-align: right;\">  0.930023</td><td style=\"text-align: right;\">      0.0337181</td><td style=\"text-align: right;\">                  10</td><td style=\"text-align: right;\">  0.0120034 </td><td style=\"text-align: right;\">        0.966637</td><td style=\"text-align: right;\">                    10</td></tr>\n",
       "<tr><td>train_fn_b4124ea3</td><td>TERMINATED</td><td>172.19.2.2:5038</td><td style=\"text-align: right;\">          32</td><td style=\"text-align: right;\">          0.3 </td><td style=\"text-align: right;\">      10</td><td style=\"text-align: right;\">2e-05 </td><td style=\"text-align: right;\">        0.001 </td><td style=\"text-align: right;\">0.0276891</td><td style=\"text-align: right;\">  0.925377</td><td style=\"text-align: right;\">      0.0353351</td><td style=\"text-align: right;\">                  10</td><td style=\"text-align: right;\">  0.0123972 </td><td style=\"text-align: right;\">        0.963918</td><td style=\"text-align: right;\">                    10</td></tr>\n",
       "<tr><td>train_fn_5e112015</td><td>TERMINATED</td><td>172.19.2.2:5159</td><td style=\"text-align: right;\">          32</td><td style=\"text-align: right;\">          0.3 </td><td style=\"text-align: right;\">      10</td><td style=\"text-align: right;\">2e-05 </td><td style=\"text-align: right;\">        0.001 </td><td style=\"text-align: right;\">0.0272193</td><td style=\"text-align: right;\">  0.9277  </td><td style=\"text-align: right;\">      0.0354948</td><td style=\"text-align: right;\">                  10</td><td style=\"text-align: right;\">  0.0106683 </td><td style=\"text-align: right;\">        0.968012</td><td style=\"text-align: right;\">                    10</td></tr>\n",
       "<tr><td>train_fn_d05fd1ef</td><td>TERMINATED</td><td>172.19.2.2:5236</td><td style=\"text-align: right;\">          32</td><td style=\"text-align: right;\">          0.3 </td><td style=\"text-align: right;\">      10</td><td style=\"text-align: right;\">2e-05 </td><td style=\"text-align: right;\">        0.0002</td><td style=\"text-align: right;\">0.0261017</td><td style=\"text-align: right;\">  0.9277  </td><td style=\"text-align: right;\">      0.0334414</td><td style=\"text-align: right;\">                  10</td><td style=\"text-align: right;\">  0.0114223 </td><td style=\"text-align: right;\">        0.966989</td><td style=\"text-align: right;\">                    10</td></tr>\n",
       "<tr><td>train_fn_ca793110</td><td>TERMINATED</td><td>172.19.2.2:5355</td><td style=\"text-align: right;\">          32</td><td style=\"text-align: right;\">          0.2 </td><td style=\"text-align: right;\">      10</td><td style=\"text-align: right;\">2e-05 </td><td style=\"text-align: right;\">        1e-06 </td><td style=\"text-align: right;\">0.0283761</td><td style=\"text-align: right;\">  0.92712 </td><td style=\"text-align: right;\">      0.0369938</td><td style=\"text-align: right;\">                  10</td><td style=\"text-align: right;\">  0.0111408 </td><td style=\"text-align: right;\">        0.967117</td><td style=\"text-align: right;\">                    10</td></tr>\n",
       "<tr><td>train_fn_b0a2e06c</td><td>TERMINATED</td><td>172.19.2.2:5433</td><td style=\"text-align: right;\">          32</td><td style=\"text-align: right;\">          0.3 </td><td style=\"text-align: right;\">      10</td><td style=\"text-align: right;\">2e-05 </td><td style=\"text-align: right;\">        0.001 </td><td style=\"text-align: right;\">0.0281772</td><td style=\"text-align: right;\">  0.923926</td><td style=\"text-align: right;\">      0.0363679</td><td style=\"text-align: right;\">                  10</td><td style=\"text-align: right;\">  0.0117959 </td><td style=\"text-align: right;\">        0.965229</td><td style=\"text-align: right;\">                    10</td></tr>\n",
       "<tr><td>train_fn_69b26dcc</td><td>TERMINATED</td><td>172.19.2.2:5552</td><td style=\"text-align: right;\">          32</td><td style=\"text-align: right;\">          0.3 </td><td style=\"text-align: right;\">      10</td><td style=\"text-align: right;\">2e-05 </td><td style=\"text-align: right;\">        0.0002</td><td style=\"text-align: right;\">0.0281241</td><td style=\"text-align: right;\">  0.926249</td><td style=\"text-align: right;\">      0.0365198</td><td style=\"text-align: right;\">                  10</td><td style=\"text-align: right;\">  0.0113327 </td><td style=\"text-align: right;\">        0.967852</td><td style=\"text-align: right;\">                    10</td></tr>\n",
       "<tr><td>train_fn_5d299b78</td><td>TERMINATED</td><td>172.19.2.2:5630</td><td style=\"text-align: right;\">          32</td><td style=\"text-align: right;\">          0.3 </td><td style=\"text-align: right;\">      10</td><td style=\"text-align: right;\">3e-05 </td><td style=\"text-align: right;\">        0.0002</td><td style=\"text-align: right;\">0.0262172</td><td style=\"text-align: right;\">  0.925958</td><td style=\"text-align: right;\">      0.0341013</td><td style=\"text-align: right;\">                  10</td><td style=\"text-align: right;\">  0.0104489 </td><td style=\"text-align: right;\">        0.967117</td><td style=\"text-align: right;\">                    10</td></tr>\n",
       "<tr><td>train_fn_54c14e43</td><td>TERMINATED</td><td>172.19.2.2:5749</td><td style=\"text-align: right;\">          32</td><td style=\"text-align: right;\">          0.3 </td><td style=\"text-align: right;\">      10</td><td style=\"text-align: right;\">0.0002</td><td style=\"text-align: right;\">        0.0002</td><td style=\"text-align: right;\">0.0544888</td><td style=\"text-align: right;\">  0.889373</td><td style=\"text-align: right;\">      0.0545609</td><td style=\"text-align: right;\">                   3</td><td style=\"text-align: right;\">  0.0543445 </td><td style=\"text-align: right;\">        0.889291</td><td style=\"text-align: right;\">                     3</td></tr>\n",
       "<tr><td>train_fn_22f6d600</td><td>TERMINATED</td><td>172.19.2.2:5827</td><td style=\"text-align: right;\">          32</td><td style=\"text-align: right;\">          0.3 </td><td style=\"text-align: right;\">      10</td><td style=\"text-align: right;\">0.0002</td><td style=\"text-align: right;\">        0.0002</td><td style=\"text-align: right;\">0.0540581</td><td style=\"text-align: right;\">  0.889373</td><td style=\"text-align: right;\">      0.0541724</td><td style=\"text-align: right;\">                   3</td><td style=\"text-align: right;\">  0.0542868 </td><td style=\"text-align: right;\">        0.889291</td><td style=\"text-align: right;\">                     3</td></tr>\n",
       "<tr><td>train_fn_043c4e06</td><td>TERMINATED</td><td>172.19.2.2:5908</td><td style=\"text-align: right;\">          32</td><td style=\"text-align: right;\">          0.3 </td><td style=\"text-align: right;\">      10</td><td style=\"text-align: right;\">2e-05 </td><td style=\"text-align: right;\">        0.001 </td><td style=\"text-align: right;\">0.0298011</td><td style=\"text-align: right;\">  0.922184</td><td style=\"text-align: right;\">      0.0387847</td><td style=\"text-align: right;\">                  10</td><td style=\"text-align: right;\">  0.0118338 </td><td style=\"text-align: right;\">        0.965613</td><td style=\"text-align: right;\">                    10</td></tr>\n",
       "<tr><td>train_fn_5053289e</td><td>TERMINATED</td><td>172.19.2.2:5986</td><td style=\"text-align: right;\">          32</td><td style=\"text-align: right;\">          0.3 </td><td style=\"text-align: right;\">      10</td><td style=\"text-align: right;\">2e-05 </td><td style=\"text-align: right;\">        0.001 </td><td style=\"text-align: right;\">0.0287294</td><td style=\"text-align: right;\">  0.924506</td><td style=\"text-align: right;\">      0.0370009</td><td style=\"text-align: right;\">                  10</td><td style=\"text-align: right;\">  0.0121862 </td><td style=\"text-align: right;\">        0.964877</td><td style=\"text-align: right;\">                    10</td></tr>\n",
       "<tr><td>train_fn_d632c1c6</td><td>TERMINATED</td><td>172.19.2.2:6105</td><td style=\"text-align: right;\">          32</td><td style=\"text-align: right;\">          0.3 </td><td style=\"text-align: right;\">      10</td><td style=\"text-align: right;\">2e-05 </td><td style=\"text-align: right;\">        0.001 </td><td style=\"text-align: right;\">0.0270765</td><td style=\"text-align: right;\">  0.923926</td><td style=\"text-align: right;\">      0.0353629</td><td style=\"text-align: right;\">                  10</td><td style=\"text-align: right;\">  0.0105037 </td><td style=\"text-align: right;\">        0.96878 </td><td style=\"text-align: right;\">                    10</td></tr>\n",
       "<tr><td>train_fn_9f75eb17</td><td>TERMINATED</td><td>172.19.2.2:6183</td><td style=\"text-align: right;\">          32</td><td style=\"text-align: right;\">          0.3 </td><td style=\"text-align: right;\">      10</td><td style=\"text-align: right;\">3e-06 </td><td style=\"text-align: right;\">        0.001 </td><td style=\"text-align: right;\">0.0546763</td><td style=\"text-align: right;\">  0.889373</td><td style=\"text-align: right;\">      0.0568888</td><td style=\"text-align: right;\">                   3</td><td style=\"text-align: right;\">  0.0591013 </td><td style=\"text-align: right;\">        0.889291</td><td style=\"text-align: right;\">                     3</td></tr>\n",
       "<tr><td>train_fn_0e045bb4</td><td>TERMINATED</td><td>172.19.2.2:6271</td><td style=\"text-align: right;\">          32</td><td style=\"text-align: right;\">          0.3 </td><td style=\"text-align: right;\">      10</td><td style=\"text-align: right;\">3e-06 </td><td style=\"text-align: right;\">        2e-06 </td><td style=\"text-align: right;\">0.0558471</td><td style=\"text-align: right;\">  0.889373</td><td style=\"text-align: right;\">      0.0598302</td><td style=\"text-align: right;\">                   3</td><td style=\"text-align: right;\">  0.0638133 </td><td style=\"text-align: right;\">        0.889291</td><td style=\"text-align: right;\">                     3</td></tr>\n",
       "<tr><td>train_fn_127de4e9</td><td>TERMINATED</td><td>172.19.2.2:6359</td><td style=\"text-align: right;\">          32</td><td style=\"text-align: right;\">          0.4 </td><td style=\"text-align: right;\">      10</td><td style=\"text-align: right;\">2e-05 </td><td style=\"text-align: right;\">        2e-06 </td><td style=\"text-align: right;\">0.0302625</td><td style=\"text-align: right;\">  0.923926</td><td style=\"text-align: right;\">      0.0389561</td><td style=\"text-align: right;\">                  10</td><td style=\"text-align: right;\">  0.0128753 </td><td style=\"text-align: right;\">        0.964014</td><td style=\"text-align: right;\">                    10</td></tr>\n",
       "<tr><td>train_fn_370c4e9e</td><td>TERMINATED</td><td>172.19.2.2:6443</td><td style=\"text-align: right;\">          32</td><td style=\"text-align: right;\">          0.4 </td><td style=\"text-align: right;\">      10</td><td style=\"text-align: right;\">5e-06 </td><td style=\"text-align: right;\">        0.001 </td><td style=\"text-align: right;\">0.0518172</td><td style=\"text-align: right;\">  0.889373</td><td style=\"text-align: right;\">      0.0542495</td><td style=\"text-align: right;\">                   3</td><td style=\"text-align: right;\">  0.0566817 </td><td style=\"text-align: right;\">        0.889291</td><td style=\"text-align: right;\">                     3</td></tr>\n",
       "<tr><td>train_fn_5f9cb34d</td><td>TERMINATED</td><td>172.19.2.2:6532</td><td style=\"text-align: right;\">          32</td><td style=\"text-align: right;\">          0.4 </td><td style=\"text-align: right;\">      10</td><td style=\"text-align: right;\">5e-06 </td><td style=\"text-align: right;\">        0.001 </td><td style=\"text-align: right;\">0.0540313</td><td style=\"text-align: right;\">  0.889373</td><td style=\"text-align: right;\">      0.0559872</td><td style=\"text-align: right;\">                   3</td><td style=\"text-align: right;\">  0.0579431 </td><td style=\"text-align: right;\">        0.889291</td><td style=\"text-align: right;\">                     3</td></tr>\n",
       "<tr><td>train_fn_a19f515b</td><td>TERMINATED</td><td>172.19.2.2:6620</td><td style=\"text-align: right;\">          64</td><td style=\"text-align: right;\">          0.2 </td><td style=\"text-align: right;\">      10</td><td style=\"text-align: right;\">1e-07 </td><td style=\"text-align: right;\">        0.001 </td><td style=\"text-align: right;\">0.176796 </td><td style=\"text-align: right;\">  0.630662</td><td style=\"text-align: right;\">      0.176868 </td><td style=\"text-align: right;\">                   3</td><td style=\"text-align: right;\">  0.176941  </td><td style=\"text-align: right;\">        0.611477</td><td style=\"text-align: right;\">                     3</td></tr>\n",
       "<tr><td>train_fn_a785b2ad</td><td>TERMINATED</td><td>172.19.2.2:6699</td><td style=\"text-align: right;\">          64</td><td style=\"text-align: right;\">          0.2 </td><td style=\"text-align: right;\">      10</td><td style=\"text-align: right;\">1e-07 </td><td style=\"text-align: right;\">        0.01  </td><td style=\"text-align: right;\">0.186563 </td><td style=\"text-align: right;\">  0.625726</td><td style=\"text-align: right;\">      0.187153 </td><td style=\"text-align: right;\">                   3</td><td style=\"text-align: right;\">  0.187743  </td><td style=\"text-align: right;\">        0.560873</td><td style=\"text-align: right;\">                     3</td></tr>\n",
       "<tr><td>train_fn_b678c162</td><td>TERMINATED</td><td>172.19.2.2:6776</td><td style=\"text-align: right;\">          32</td><td style=\"text-align: right;\">          0.2 </td><td style=\"text-align: right;\">      10</td><td style=\"text-align: right;\">2e-05 </td><td style=\"text-align: right;\">        1e-06 </td><td style=\"text-align: right;\">0.0264818</td><td style=\"text-align: right;\">  0.927991</td><td style=\"text-align: right;\">      0.0344368</td><td style=\"text-align: right;\">                  10</td><td style=\"text-align: right;\">  0.0105718 </td><td style=\"text-align: right;\">        0.968876</td><td style=\"text-align: right;\">                    10</td></tr>\n",
       "<tr><td>train_fn_c01ccb79</td><td>TERMINATED</td><td>172.19.2.2:6858</td><td style=\"text-align: right;\">          32</td><td style=\"text-align: right;\">          0.2 </td><td style=\"text-align: right;\">      10</td><td style=\"text-align: right;\">2e-05 </td><td style=\"text-align: right;\">        1e-06 </td><td style=\"text-align: right;\">0.0274731</td><td style=\"text-align: right;\">  0.926829</td><td style=\"text-align: right;\">      0.035723 </td><td style=\"text-align: right;\">                  10</td><td style=\"text-align: right;\">  0.0109731 </td><td style=\"text-align: right;\">        0.967309</td><td style=\"text-align: right;\">                    10</td></tr>\n",
       "<tr><td>train_fn_621475ca</td><td>TERMINATED</td><td>172.19.2.2:6974</td><td style=\"text-align: right;\">          32</td><td style=\"text-align: right;\">          0.2 </td><td style=\"text-align: right;\">      10</td><td style=\"text-align: right;\">2e-05 </td><td style=\"text-align: right;\">        1e-06 </td><td style=\"text-align: right;\">0.0278046</td><td style=\"text-align: right;\">  0.927991</td><td style=\"text-align: right;\">      0.0366089</td><td style=\"text-align: right;\">                  10</td><td style=\"text-align: right;\">  0.0101961 </td><td style=\"text-align: right;\">        0.96974 </td><td style=\"text-align: right;\">                    10</td></tr>\n",
       "<tr><td>train_fn_aee678ac</td><td>TERMINATED</td><td>172.19.2.2:7055</td><td style=\"text-align: right;\">          32</td><td style=\"text-align: right;\">          0.3 </td><td style=\"text-align: right;\">       7</td><td style=\"text-align: right;\">5e-05 </td><td style=\"text-align: right;\">        1e-06 </td><td style=\"text-align: right;\">0.0279878</td><td style=\"text-align: right;\">  0.925087</td><td style=\"text-align: right;\">      0.0348873</td><td style=\"text-align: right;\">                   7</td><td style=\"text-align: right;\">  0.0141887 </td><td style=\"text-align: right;\">        0.960655</td><td style=\"text-align: right;\">                     7</td></tr>\n",
       "<tr><td>train_fn_9e2a29cd</td><td>TERMINATED</td><td>172.19.2.2:7165</td><td style=\"text-align: right;\">          32</td><td style=\"text-align: right;\">          0.2 </td><td style=\"text-align: right;\">       7</td><td style=\"text-align: right;\">5e-05 </td><td style=\"text-align: right;\">        1e-06 </td><td style=\"text-align: right;\">0.0259717</td><td style=\"text-align: right;\">  0.92712 </td><td style=\"text-align: right;\">      0.0331025</td><td style=\"text-align: right;\">                   7</td><td style=\"text-align: right;\">  0.0117101 </td><td style=\"text-align: right;\">        0.966157</td><td style=\"text-align: right;\">                     7</td></tr>\n",
       "<tr><td>train_fn_b676dab8</td><td>TERMINATED</td><td>172.19.2.2:7240</td><td style=\"text-align: right;\">          32</td><td style=\"text-align: right;\">          0.2 </td><td style=\"text-align: right;\">      10</td><td style=\"text-align: right;\">5e-07 </td><td style=\"text-align: right;\">        1e-06 </td><td style=\"text-align: right;\">0.141498 </td><td style=\"text-align: right;\">  0.889373</td><td style=\"text-align: right;\">      0.152486 </td><td style=\"text-align: right;\">                   3</td><td style=\"text-align: right;\">  0.163474  </td><td style=\"text-align: right;\">        0.814119</td><td style=\"text-align: right;\">                     3</td></tr>\n",
       "<tr><td>train_fn_e7883aac</td><td>TERMINATED</td><td>172.19.2.2:7330</td><td style=\"text-align: right;\">          32</td><td style=\"text-align: right;\">          0.2 </td><td style=\"text-align: right;\">      10</td><td style=\"text-align: right;\">2e-05 </td><td style=\"text-align: right;\">        1e-06 </td><td style=\"text-align: right;\">0.029291 </td><td style=\"text-align: right;\">  0.921603</td><td style=\"text-align: right;\">      0.0380291</td><td style=\"text-align: right;\">                   9</td><td style=\"text-align: right;\">  0.0118149 </td><td style=\"text-align: right;\">        0.965453</td><td style=\"text-align: right;\">                     9</td></tr>\n",
       "<tr><td>train_fn_1e089cde</td><td>TERMINATED</td><td>172.19.2.2:7418</td><td style=\"text-align: right;\">          32</td><td style=\"text-align: right;\">          0.2 </td><td style=\"text-align: right;\">      10</td><td style=\"text-align: right;\">2e-05 </td><td style=\"text-align: right;\">        1e-06 </td><td style=\"text-align: right;\">0.0273212</td><td style=\"text-align: right;\">  0.924797</td><td style=\"text-align: right;\">      0.0357923</td><td style=\"text-align: right;\">                  10</td><td style=\"text-align: right;\">  0.010379  </td><td style=\"text-align: right;\">        0.9683  </td><td style=\"text-align: right;\">                    10</td></tr>\n",
       "<tr><td>train_fn_204986f6</td><td>TERMINATED</td><td>172.19.2.2:7522</td><td style=\"text-align: right;\">          32</td><td style=\"text-align: right;\">          0.2 </td><td style=\"text-align: right;\">      10</td><td style=\"text-align: right;\">2e-05 </td><td style=\"text-align: right;\">        5e-06 </td><td style=\"text-align: right;\">0.0269711</td><td style=\"text-align: right;\">  0.923926</td><td style=\"text-align: right;\">      0.0348474</td><td style=\"text-align: right;\">                  10</td><td style=\"text-align: right;\">  0.0112185 </td><td style=\"text-align: right;\">        0.966221</td><td style=\"text-align: right;\">                    10</td></tr>\n",
       "<tr><td>train_fn_6c1dc7d9</td><td>TERMINATED</td><td>172.19.2.2:7615</td><td style=\"text-align: right;\">          32</td><td style=\"text-align: right;\">          0.2 </td><td style=\"text-align: right;\">      20</td><td style=\"text-align: right;\">2e-05 </td><td style=\"text-align: right;\">        5e-06 </td><td style=\"text-align: right;\">0.0296371</td><td style=\"text-align: right;\">  0.918699</td><td style=\"text-align: right;\">      0.0402345</td><td style=\"text-align: right;\">                  11</td><td style=\"text-align: right;\">  0.0084423 </td><td style=\"text-align: right;\">        0.973002</td><td style=\"text-align: right;\">                    11</td></tr>\n",
       "<tr><td>train_fn_f8d507a2</td><td>TERMINATED</td><td>172.19.2.2:7718</td><td style=\"text-align: right;\">          32</td><td style=\"text-align: right;\">          0.3 </td><td style=\"text-align: right;\">      10</td><td style=\"text-align: right;\">2e-05 </td><td style=\"text-align: right;\">        5e-06 </td><td style=\"text-align: right;\">0.0284469</td><td style=\"text-align: right;\">  0.923926</td><td style=\"text-align: right;\">      0.0363861</td><td style=\"text-align: right;\">                  10</td><td style=\"text-align: right;\">  0.0125684 </td><td style=\"text-align: right;\">        0.96459 </td><td style=\"text-align: right;\">                    10</td></tr>\n",
       "<tr><td>train_fn_fc5bfd0b</td><td>TERMINATED</td><td>172.19.2.2:7817</td><td style=\"text-align: right;\">          32</td><td style=\"text-align: right;\">          0.3 </td><td style=\"text-align: right;\">      10</td><td style=\"text-align: right;\">2e-05 </td><td style=\"text-align: right;\">        0.001 </td><td style=\"text-align: right;\">0.0311806</td><td style=\"text-align: right;\">  0.915215</td><td style=\"text-align: right;\">      0.0366594</td><td style=\"text-align: right;\">                   6</td><td style=\"text-align: right;\">  0.0202231 </td><td style=\"text-align: right;\">        0.946996</td><td style=\"text-align: right;\">                     6</td></tr>\n",
       "<tr><td>train_fn_c0ca0c49</td><td>TERMINATED</td><td>172.19.2.2:7915</td><td style=\"text-align: right;\">          32</td><td style=\"text-align: right;\">          0.3 </td><td style=\"text-align: right;\">      10</td><td style=\"text-align: right;\">2e-05 </td><td style=\"text-align: right;\">        0.001 </td><td style=\"text-align: right;\">0.028639 </td><td style=\"text-align: right;\">  0.923926</td><td style=\"text-align: right;\">      0.0375186</td><td style=\"text-align: right;\">                  10</td><td style=\"text-align: right;\">  0.0108799 </td><td style=\"text-align: right;\">        0.967564</td><td style=\"text-align: right;\">                    10</td></tr>\n",
       "<tr><td>train_fn_86a52d73</td><td>TERMINATED</td><td>172.19.2.2:7991</td><td style=\"text-align: right;\">          32</td><td style=\"text-align: right;\">          0.35</td><td style=\"text-align: right;\">      10</td><td style=\"text-align: right;\">3e-05 </td><td style=\"text-align: right;\">        0.001 </td><td style=\"text-align: right;\">0.0332111</td><td style=\"text-align: right;\">  0.918118</td><td style=\"text-align: right;\">      0.039939 </td><td style=\"text-align: right;\">                   6</td><td style=\"text-align: right;\">  0.0197554 </td><td style=\"text-align: right;\">        0.948756</td><td style=\"text-align: right;\">                     6</td></tr>\n",
       "<tr><td>train_fn_adb27a30</td><td>TERMINATED</td><td>172.19.2.2:8097</td><td style=\"text-align: right;\">          32</td><td style=\"text-align: right;\">          0.3 </td><td style=\"text-align: right;\">      15</td><td style=\"text-align: right;\">3e-05 </td><td style=\"text-align: right;\">        0.001 </td><td style=\"text-align: right;\">0.0255258</td><td style=\"text-align: right;\">  0.92741 </td><td style=\"text-align: right;\">      0.0357987</td><td style=\"text-align: right;\">                  15</td><td style=\"text-align: right;\">  0.00498007</td><td style=\"text-align: right;\">        0.980104</td><td style=\"text-align: right;\">                    15</td></tr>\n",
       "<tr><td>train_fn_d6f5edd8</td><td>TERMINATED</td><td>172.19.2.2:8184</td><td style=\"text-align: right;\">          32</td><td style=\"text-align: right;\">          0.3 </td><td style=\"text-align: right;\">      15</td><td style=\"text-align: right;\">2e-05 </td><td style=\"text-align: right;\">        2e-05 </td><td style=\"text-align: right;\">0.0316395</td><td style=\"text-align: right;\">  0.91957 </td><td style=\"text-align: right;\">      0.04218  </td><td style=\"text-align: right;\">                  11</td><td style=\"text-align: right;\">  0.0105584 </td><td style=\"text-align: right;\">        0.968204</td><td style=\"text-align: right;\">                    11</td></tr>\n",
       "<tr><td>train_fn_062d6a63</td><td>TERMINATED</td><td>172.19.2.2:8315</td><td style=\"text-align: right;\">          32</td><td style=\"text-align: right;\">          0.3 </td><td style=\"text-align: right;\">      15</td><td style=\"text-align: right;\">2e-05 </td><td style=\"text-align: right;\">        2e-05 </td><td style=\"text-align: right;\">0.0275304</td><td style=\"text-align: right;\">  0.925958</td><td style=\"text-align: right;\">      0.0367888</td><td style=\"text-align: right;\">                  12</td><td style=\"text-align: right;\">  0.00901365</td><td style=\"text-align: right;\">        0.970571</td><td style=\"text-align: right;\">                    12</td></tr>\n",
       "<tr><td>train_fn_d5788737</td><td>TERMINATED</td><td>172.19.2.2:8394</td><td style=\"text-align: right;\">          32</td><td style=\"text-align: right;\">          0.25</td><td style=\"text-align: right;\">      10</td><td style=\"text-align: right;\">0.001 </td><td style=\"text-align: right;\">        0.0002</td><td style=\"text-align: right;\">0.0545398</td><td style=\"text-align: right;\">  0.889373</td><td style=\"text-align: right;\">      0.0546881</td><td style=\"text-align: right;\">                   3</td><td style=\"text-align: right;\">  0.0542431 </td><td style=\"text-align: right;\">        0.889291</td><td style=\"text-align: right;\">                     3</td></tr>\n",
       "<tr><td>train_fn_099e89a9</td><td>TERMINATED</td><td>172.19.2.2:8482</td><td style=\"text-align: right;\">          32</td><td style=\"text-align: right;\">          0.25</td><td style=\"text-align: right;\">      15</td><td style=\"text-align: right;\">3e-05 </td><td style=\"text-align: right;\">        0.0002</td><td style=\"text-align: right;\">0.0252554</td><td style=\"text-align: right;\">  0.92741 </td><td style=\"text-align: right;\">      0.034118 </td><td style=\"text-align: right;\">                  11</td><td style=\"text-align: right;\">  0.0075304 </td><td style=\"text-align: right;\">        0.97441 </td><td style=\"text-align: right;\">                    11</td></tr>\n",
       "<tr><td>train_fn_936869cf</td><td>TERMINATED</td><td>172.19.2.2:8594</td><td style=\"text-align: right;\">          32</td><td style=\"text-align: right;\">          0.27</td><td style=\"text-align: right;\">      15</td><td style=\"text-align: right;\">3e-05 </td><td style=\"text-align: right;\">        0.0001</td><td style=\"text-align: right;\">0.0261151</td><td style=\"text-align: right;\">  0.924797</td><td style=\"text-align: right;\">      0.0355395</td><td style=\"text-align: right;\">                  12</td><td style=\"text-align: right;\">  0.00726639</td><td style=\"text-align: right;\">        0.974666</td><td style=\"text-align: right;\">                    12</td></tr>\n",
       "<tr><td>train_fn_bfb1d397</td><td>TERMINATED</td><td>172.19.2.2:8685</td><td style=\"text-align: right;\">          32</td><td style=\"text-align: right;\">          0.3 </td><td style=\"text-align: right;\">      15</td><td style=\"text-align: right;\">3e-05 </td><td style=\"text-align: right;\">        0.001 </td><td style=\"text-align: right;\">0.0320145</td><td style=\"text-align: right;\">  0.916667</td><td style=\"text-align: right;\">      0.038085 </td><td style=\"text-align: right;\">                   6</td><td style=\"text-align: right;\">  0.0198734 </td><td style=\"text-align: right;\">        0.947892</td><td style=\"text-align: right;\">                     6</td></tr>\n",
       "<tr><td>train_fn_39aec43e</td><td>TERMINATED</td><td>172.19.2.2:8791</td><td style=\"text-align: right;\">          32</td><td style=\"text-align: right;\">          0.25</td><td style=\"text-align: right;\">      15</td><td style=\"text-align: right;\">3e-05 </td><td style=\"text-align: right;\">        0.0002</td><td style=\"text-align: right;\">0.0253335</td><td style=\"text-align: right;\">  0.929152</td><td style=\"text-align: right;\">      0.0351829</td><td style=\"text-align: right;\">                  15</td><td style=\"text-align: right;\">  0.00563469</td><td style=\"text-align: right;\">        0.977705</td><td style=\"text-align: right;\">                    15</td></tr>\n",
       "<tr><td>train_fn_4b42666c</td><td>TERMINATED</td><td>172.19.2.2:8875</td><td style=\"text-align: right;\">          32</td><td style=\"text-align: right;\">          0.25</td><td style=\"text-align: right;\">      15</td><td style=\"text-align: right;\">3e-05 </td><td style=\"text-align: right;\">        0.0002</td><td style=\"text-align: right;\">0.0319205</td><td style=\"text-align: right;\">  0.918409</td><td style=\"text-align: right;\">      0.0391017</td><td style=\"text-align: right;\">                   6</td><td style=\"text-align: right;\">  0.0175581 </td><td style=\"text-align: right;\">        0.952498</td><td style=\"text-align: right;\">                     6</td></tr>\n",
       "<tr><td>train_fn_09257540</td><td>TERMINATED</td><td>172.19.2.2:8979</td><td style=\"text-align: right;\">          32</td><td style=\"text-align: right;\">          0.25</td><td style=\"text-align: right;\">      15</td><td style=\"text-align: right;\">3e-05 </td><td style=\"text-align: right;\">        0.0002</td><td style=\"text-align: right;\">0.0255441</td><td style=\"text-align: right;\">  0.928571</td><td style=\"text-align: right;\">      0.0358076</td><td style=\"text-align: right;\">                  15</td><td style=\"text-align: right;\">  0.00501695</td><td style=\"text-align: right;\">        0.978632</td><td style=\"text-align: right;\">                    15</td></tr>\n",
       "<tr><td>train_fn_4a28d0ec</td><td>TERMINATED</td><td>172.19.2.2:9086</td><td style=\"text-align: right;\">          32</td><td style=\"text-align: right;\">          0.25</td><td style=\"text-align: right;\">      15</td><td style=\"text-align: right;\">3e-05 </td><td style=\"text-align: right;\">        0.01  </td><td style=\"text-align: right;\">0.0543715</td><td style=\"text-align: right;\">  0.889373</td><td style=\"text-align: right;\">      0.0543978</td><td style=\"text-align: right;\">                   3</td><td style=\"text-align: right;\">  0.0543191 </td><td style=\"text-align: right;\">        0.889291</td><td style=\"text-align: right;\">                     3</td></tr>\n",
       "<tr><td>train_fn_78bb8549</td><td>TERMINATED</td><td>172.19.2.2:9174</td><td style=\"text-align: right;\">          32</td><td style=\"text-align: right;\">          0.25</td><td style=\"text-align: right;\">      15</td><td style=\"text-align: right;\">0.0001</td><td style=\"text-align: right;\">        0.01  </td><td style=\"text-align: right;\">0.0539551</td><td style=\"text-align: right;\">  0.889373</td><td style=\"text-align: right;\">      0.054025 </td><td style=\"text-align: right;\">                   3</td><td style=\"text-align: right;\">  0.054095  </td><td style=\"text-align: right;\">        0.889291</td><td style=\"text-align: right;\">                     3</td></tr>\n",
       "<tr><td>train_fn_297153bc</td><td>TERMINATED</td><td>172.19.2.2:9262</td><td style=\"text-align: right;\">          32</td><td style=\"text-align: right;\">          0.25</td><td style=\"text-align: right;\">      15</td><td style=\"text-align: right;\">5e-05 </td><td style=\"text-align: right;\">        0.0002</td><td style=\"text-align: right;\">0.0273629</td><td style=\"text-align: right;\">  0.923345</td><td style=\"text-align: right;\">      0.0377938</td><td style=\"text-align: right;\">                  12</td><td style=\"text-align: right;\">  0.00650095</td><td style=\"text-align: right;\">        0.976041</td><td style=\"text-align: right;\">                    12</td></tr>\n",
       "</tbody>\n",
       "</table>\n",
       "  </div>\n",
       "</div>\n",
       "<style>\n",
       ".tuneStatus {\n",
       "  color: var(--jp-ui-font-color1);\n",
       "}\n",
       ".tuneStatus .systemInfo {\n",
       "  display: flex;\n",
       "  flex-direction: column;\n",
       "}\n",
       ".tuneStatus td {\n",
       "  white-space: nowrap;\n",
       "}\n",
       ".tuneStatus .trialStatus {\n",
       "  display: flex;\n",
       "  flex-direction: column;\n",
       "}\n",
       ".tuneStatus h3 {\n",
       "  font-weight: bold;\n",
       "}\n",
       ".tuneStatus .hDivider {\n",
       "  border-bottom-width: var(--jp-border-width);\n",
       "  border-bottom-color: var(--jp-border-color0);\n",
       "  border-bottom-style: solid;\n",
       "}\n",
       ".tuneStatus .vDivider {\n",
       "  border-left-width: var(--jp-border-width);\n",
       "  border-left-color: var(--jp-border-color0);\n",
       "  border-left-style: solid;\n",
       "  margin: 0.5em 1em 0.5em 1em;\n",
       "}\n",
       "</style>\n"
      ],
      "text/plain": [
       "<IPython.core.display.HTML object>"
      ]
     },
     "metadata": {},
     "output_type": "display_data"
    },
    {
     "name": "stderr",
     "output_type": "stream",
     "text": [
      "2024-08-29 18:12:44,092\tINFO worker.py:1753 -- Started a local Ray instance.\n",
      "2024-08-29 18:12:45,260\tINFO tune.py:253 -- Initializing Ray automatically. For cluster usage or custom Ray initialization, call `ray.init(...)` before `tune.run(...)`.\n",
      "2024-08-29 18:12:45,267\tINFO tune.py:616 -- [output] This uses the legacy output and progress reporter, as Jupyter notebooks are not supported by the new engine, yet. For more information, please see https://github.com/ray-project/ray/issues/36949\n",
      "[I 2024-08-29 18:12:45,327] A new study created in memory with name: optuna\n",
      "\u001b[36m(train_fn pid=340)\u001b[0m /opt/conda/lib/python3.10/site-packages/transformers/tokenization_utils_base.py:1601: FutureWarning: `clean_up_tokenization_spaces` was not set. It will be set to `True` by default. This behavior will be depracted in transformers v4.45, and will be then set to `False` by default. For more details check this issue: https://github.com/huggingface/transformers/issues/31884\n",
      "\u001b[36m(train_fn pid=340)\u001b[0m   warnings.warn(\n",
      "\u001b[36m(train_fn pid=376)\u001b[0m /opt/conda/lib/python3.10/site-packages/transformers/tokenization_utils_base.py:1601: FutureWarning: `clean_up_tokenization_spaces` was not set. It will be set to `True` by default. This behavior will be depracted in transformers v4.45, and will be then set to `False` by default. For more details check this issue: https://github.com/huggingface/transformers/issues/31884\n",
      "\u001b[36m(train_fn pid=376)\u001b[0m   warnings.warn(\n"
     ]
    },
    {
     "data": {
      "text/html": [
       "<div class=\"trialProgress\">\n",
       "  <h3>Trial Progress</h3>\n",
       "  <table>\n",
       "<thead>\n",
       "<tr><th>Trial name       </th><th style=\"text-align: right;\">  accuracy</th><th style=\"text-align: right;\">  custom_metric</th><th style=\"text-align: right;\">  early_stopping_epoch</th><th style=\"text-align: right;\">     loss</th><th style=\"text-align: right;\">  train_accuracy</th><th style=\"text-align: right;\">  train_loss</th></tr>\n",
       "</thead>\n",
       "<tbody>\n",
       "<tr><td>train_fn_020303b2</td><td style=\"text-align: right;\">  0.926249</td><td style=\"text-align: right;\">      0.0356498</td><td style=\"text-align: right;\">                    10</td><td style=\"text-align: right;\">0.0276149</td><td style=\"text-align: right;\">        0.967437</td><td style=\"text-align: right;\">  0.0115451 </td></tr>\n",
       "<tr><td>train_fn_043c4e06</td><td style=\"text-align: right;\">  0.922184</td><td style=\"text-align: right;\">      0.0387847</td><td style=\"text-align: right;\">                    10</td><td style=\"text-align: right;\">0.0298011</td><td style=\"text-align: right;\">        0.965613</td><td style=\"text-align: right;\">  0.0118338 </td></tr>\n",
       "<tr><td>train_fn_062d6a63</td><td style=\"text-align: right;\">  0.925958</td><td style=\"text-align: right;\">      0.0367888</td><td style=\"text-align: right;\">                    12</td><td style=\"text-align: right;\">0.0275304</td><td style=\"text-align: right;\">        0.970571</td><td style=\"text-align: right;\">  0.00901365</td></tr>\n",
       "<tr><td>train_fn_09257540</td><td style=\"text-align: right;\">  0.928571</td><td style=\"text-align: right;\">      0.0358076</td><td style=\"text-align: right;\">                    15</td><td style=\"text-align: right;\">0.0255441</td><td style=\"text-align: right;\">        0.978632</td><td style=\"text-align: right;\">  0.00501695</td></tr>\n",
       "<tr><td>train_fn_099e89a9</td><td style=\"text-align: right;\">  0.92741 </td><td style=\"text-align: right;\">      0.034118 </td><td style=\"text-align: right;\">                    11</td><td style=\"text-align: right;\">0.0252554</td><td style=\"text-align: right;\">        0.97441 </td><td style=\"text-align: right;\">  0.0075304 </td></tr>\n",
       "<tr><td>train_fn_0cd05ae1</td><td style=\"text-align: right;\">  0.928571</td><td style=\"text-align: right;\">      0.0340638</td><td style=\"text-align: right;\">                    10</td><td style=\"text-align: right;\">0.0261782</td><td style=\"text-align: right;\">        0.967277</td><td style=\"text-align: right;\">  0.0104071 </td></tr>\n",
       "<tr><td>train_fn_0e045bb4</td><td style=\"text-align: right;\">  0.889373</td><td style=\"text-align: right;\">      0.0598302</td><td style=\"text-align: right;\">                     3</td><td style=\"text-align: right;\">0.0558471</td><td style=\"text-align: right;\">        0.889291</td><td style=\"text-align: right;\">  0.0638133 </td></tr>\n",
       "<tr><td>train_fn_0f77054f</td><td style=\"text-align: right;\">  0.889373</td><td style=\"text-align: right;\">      0.0943399</td><td style=\"text-align: right;\">                     6</td><td style=\"text-align: right;\">0.0871905</td><td style=\"text-align: right;\">        0.888811</td><td style=\"text-align: right;\">  0.101489  </td></tr>\n",
       "<tr><td>train_fn_0fb43e5a</td><td style=\"text-align: right;\">  0.889373</td><td style=\"text-align: right;\">      0.0543113</td><td style=\"text-align: right;\">                     6</td><td style=\"text-align: right;\">0.0541947</td><td style=\"text-align: right;\">        0.889291</td><td style=\"text-align: right;\">  0.0539614 </td></tr>\n",
       "<tr><td>train_fn_127de4e9</td><td style=\"text-align: right;\">  0.923926</td><td style=\"text-align: right;\">      0.0389561</td><td style=\"text-align: right;\">                    10</td><td style=\"text-align: right;\">0.0302625</td><td style=\"text-align: right;\">        0.964014</td><td style=\"text-align: right;\">  0.0128753 </td></tr>\n",
       "<tr><td>train_fn_12eb906a</td><td style=\"text-align: right;\">  0.914344</td><td style=\"text-align: right;\">      0.0377519</td><td style=\"text-align: right;\">                     5</td><td style=\"text-align: right;\">0.0319682</td><td style=\"text-align: right;\">        0.945589</td><td style=\"text-align: right;\">  0.0204008 </td></tr>\n",
       "<tr><td>train_fn_1569e222</td><td style=\"text-align: right;\">  0.915796</td><td style=\"text-align: right;\">      0.0389495</td><td style=\"text-align: right;\">                     6</td><td style=\"text-align: right;\">0.0326885</td><td style=\"text-align: right;\">        0.947316</td><td style=\"text-align: right;\">  0.0201663 </td></tr>\n",
       "<tr><td>train_fn_1a9af771</td><td style=\"text-align: right;\">  0.927991</td><td style=\"text-align: right;\">      0.0365611</td><td style=\"text-align: right;\">                    10</td><td style=\"text-align: right;\">0.0271437</td><td style=\"text-align: right;\">        0.970731</td><td style=\"text-align: right;\">  0.0083088 </td></tr>\n",
       "<tr><td>train_fn_1c04c123</td><td style=\"text-align: right;\">  0.924216</td><td style=\"text-align: right;\">      0.0379767</td><td style=\"text-align: right;\">                    10</td><td style=\"text-align: right;\">0.0284404</td><td style=\"text-align: right;\">        0.968492</td><td style=\"text-align: right;\">  0.0093679 </td></tr>\n",
       "<tr><td>train_fn_1e089cde</td><td style=\"text-align: right;\">  0.924797</td><td style=\"text-align: right;\">      0.0357923</td><td style=\"text-align: right;\">                    10</td><td style=\"text-align: right;\">0.0273212</td><td style=\"text-align: right;\">        0.9683  </td><td style=\"text-align: right;\">  0.010379  </td></tr>\n",
       "<tr><td>train_fn_1e48b813</td><td style=\"text-align: right;\">  0.889082</td><td style=\"text-align: right;\">      0.0987551</td><td style=\"text-align: right;\">                     3</td><td style=\"text-align: right;\">0.0865701</td><td style=\"text-align: right;\">        0.8756  </td><td style=\"text-align: right;\">  0.11094   </td></tr>\n",
       "<tr><td>train_fn_1ff8a192</td><td style=\"text-align: right;\">  0.889082</td><td style=\"text-align: right;\">      0.105833 </td><td style=\"text-align: right;\">                     3</td><td style=\"text-align: right;\">0.095339 </td><td style=\"text-align: right;\">        0.883181</td><td style=\"text-align: right;\">  0.116328  </td></tr>\n",
       "<tr><td>train_fn_2000499c</td><td style=\"text-align: right;\">  0.694251</td><td style=\"text-align: right;\">      0.182979 </td><td style=\"text-align: right;\">                     3</td><td style=\"text-align: right;\">0.182922 </td><td style=\"text-align: right;\">        0.636875</td><td style=\"text-align: right;\">  0.183035  </td></tr>\n",
       "<tr><td>train_fn_204986f6</td><td style=\"text-align: right;\">  0.923926</td><td style=\"text-align: right;\">      0.0348474</td><td style=\"text-align: right;\">                    10</td><td style=\"text-align: right;\">0.0269711</td><td style=\"text-align: right;\">        0.966221</td><td style=\"text-align: right;\">  0.0112185 </td></tr>\n",
       "<tr><td>train_fn_22f6d600</td><td style=\"text-align: right;\">  0.889373</td><td style=\"text-align: right;\">      0.0541724</td><td style=\"text-align: right;\">                     3</td><td style=\"text-align: right;\">0.0540581</td><td style=\"text-align: right;\">        0.889291</td><td style=\"text-align: right;\">  0.0542868 </td></tr>\n",
       "<tr><td>train_fn_24a37924</td><td style=\"text-align: right;\">  0.924216</td><td style=\"text-align: right;\">      0.0372064</td><td style=\"text-align: right;\">                    10</td><td style=\"text-align: right;\">0.027673 </td><td style=\"text-align: right;\">        0.971787</td><td style=\"text-align: right;\">  0.0086063 </td></tr>\n",
       "<tr><td>train_fn_297153bc</td><td style=\"text-align: right;\">  0.923345</td><td style=\"text-align: right;\">      0.0377938</td><td style=\"text-align: right;\">                    12</td><td style=\"text-align: right;\">0.0273629</td><td style=\"text-align: right;\">        0.976041</td><td style=\"text-align: right;\">  0.00650095</td></tr>\n",
       "<tr><td>train_fn_2b17105f</td><td style=\"text-align: right;\">  0.921893</td><td style=\"text-align: right;\">      0.0356395</td><td style=\"text-align: right;\">                     5</td><td style=\"text-align: right;\">0.0305297</td><td style=\"text-align: right;\">        0.947156</td><td style=\"text-align: right;\">  0.02031   </td></tr>\n",
       "<tr><td>train_fn_2c4e7606</td><td style=\"text-align: right;\">  0.889373</td><td style=\"text-align: right;\">      0.053545 </td><td style=\"text-align: right;\">                     6</td><td style=\"text-align: right;\">0.053536 </td><td style=\"text-align: right;\">        0.889291</td><td style=\"text-align: right;\">  0.0535181 </td></tr>\n",
       "<tr><td>train_fn_347cd09f</td><td style=\"text-align: right;\">  0.915215</td><td style=\"text-align: right;\">      0.0361837</td><td style=\"text-align: right;\">                     6</td><td style=\"text-align: right;\">0.0323255</td><td style=\"text-align: right;\">        0.936792</td><td style=\"text-align: right;\">  0.024609  </td></tr>\n",
       "<tr><td>train_fn_359e4372</td><td style=\"text-align: right;\">  0.930023</td><td style=\"text-align: right;\">      0.0337181</td><td style=\"text-align: right;\">                    10</td><td style=\"text-align: right;\">0.0264799</td><td style=\"text-align: right;\">        0.966637</td><td style=\"text-align: right;\">  0.0120034 </td></tr>\n",
       "<tr><td>train_fn_370c4e9e</td><td style=\"text-align: right;\">  0.889373</td><td style=\"text-align: right;\">      0.0542495</td><td style=\"text-align: right;\">                     3</td><td style=\"text-align: right;\">0.0518172</td><td style=\"text-align: right;\">        0.889291</td><td style=\"text-align: right;\">  0.0566817 </td></tr>\n",
       "<tr><td>train_fn_393cddc8</td><td style=\"text-align: right;\">  0.889373</td><td style=\"text-align: right;\">      0.0542331</td><td style=\"text-align: right;\">                     7</td><td style=\"text-align: right;\">0.054192 </td><td style=\"text-align: right;\">        0.889291</td><td style=\"text-align: right;\">  0.0541099 </td></tr>\n",
       "<tr><td>train_fn_39aec43e</td><td style=\"text-align: right;\">  0.929152</td><td style=\"text-align: right;\">      0.0351829</td><td style=\"text-align: right;\">                    15</td><td style=\"text-align: right;\">0.0253335</td><td style=\"text-align: right;\">        0.977705</td><td style=\"text-align: right;\">  0.00563469</td></tr>\n",
       "<tr><td>train_fn_3fc17697</td><td style=\"text-align: right;\">  0.920151</td><td style=\"text-align: right;\">      0.0366122</td><td style=\"text-align: right;\">                     7</td><td style=\"text-align: right;\">0.0345609</td><td style=\"text-align: right;\">        0.928156</td><td style=\"text-align: right;\">  0.0304584 </td></tr>\n",
       "<tr><td>train_fn_45e18a66</td><td style=\"text-align: right;\">  0.889373</td><td style=\"text-align: right;\">      0.0573218</td><td style=\"text-align: right;\">                     5</td><td style=\"text-align: right;\">0.0549212</td><td style=\"text-align: right;\">        0.889259</td><td style=\"text-align: right;\">  0.0597225 </td></tr>\n",
       "<tr><td>train_fn_47f6acad</td><td style=\"text-align: right;\">  0.925958</td><td style=\"text-align: right;\">      0.0359493</td><td style=\"text-align: right;\">                    10</td><td style=\"text-align: right;\">0.0280829</td><td style=\"text-align: right;\">        0.964814</td><td style=\"text-align: right;\">  0.0123499 </td></tr>\n",
       "<tr><td>train_fn_491d1eb9</td><td style=\"text-align: right;\">  0.91899 </td><td style=\"text-align: right;\">      0.0370228</td><td style=\"text-align: right;\">                     5</td><td style=\"text-align: right;\">0.0323038</td><td style=\"text-align: right;\">        0.940631</td><td style=\"text-align: right;\">  0.0228659 </td></tr>\n",
       "<tr><td>train_fn_4a28d0ec</td><td style=\"text-align: right;\">  0.889373</td><td style=\"text-align: right;\">      0.0543978</td><td style=\"text-align: right;\">                     3</td><td style=\"text-align: right;\">0.0543715</td><td style=\"text-align: right;\">        0.889291</td><td style=\"text-align: right;\">  0.0543191 </td></tr>\n",
       "<tr><td>train_fn_4afdd8fd</td><td style=\"text-align: right;\">  0.698606</td><td style=\"text-align: right;\">      0.182607 </td><td style=\"text-align: right;\">                     3</td><td style=\"text-align: right;\">0.182321 </td><td style=\"text-align: right;\">        0.63067 </td><td style=\"text-align: right;\">  0.182893  </td></tr>\n",
       "<tr><td>train_fn_4b42666c</td><td style=\"text-align: right;\">  0.918409</td><td style=\"text-align: right;\">      0.0391017</td><td style=\"text-align: right;\">                     6</td><td style=\"text-align: right;\">0.0319205</td><td style=\"text-align: right;\">        0.952498</td><td style=\"text-align: right;\">  0.0175581 </td></tr>\n",
       "<tr><td>train_fn_4f1482ac</td><td style=\"text-align: right;\">  0.889373</td><td style=\"text-align: right;\">      0.0563531</td><td style=\"text-align: right;\">                     5</td><td style=\"text-align: right;\">0.0546542</td><td style=\"text-align: right;\">        0.889291</td><td style=\"text-align: right;\">  0.0580521 </td></tr>\n",
       "<tr><td>train_fn_5053289e</td><td style=\"text-align: right;\">  0.924506</td><td style=\"text-align: right;\">      0.0370009</td><td style=\"text-align: right;\">                    10</td><td style=\"text-align: right;\">0.0287294</td><td style=\"text-align: right;\">        0.964877</td><td style=\"text-align: right;\">  0.0121862 </td></tr>\n",
       "<tr><td>train_fn_53796627</td><td style=\"text-align: right;\">  0.889373</td><td style=\"text-align: right;\">      0.0534973</td><td style=\"text-align: right;\">                     3</td><td style=\"text-align: right;\">0.0531532</td><td style=\"text-align: right;\">        0.889291</td><td style=\"text-align: right;\">  0.0538413 </td></tr>\n",
       "<tr><td>train_fn_540286d0</td><td style=\"text-align: right;\">  0.577526</td><td style=\"text-align: right;\">      0.183712 </td><td style=\"text-align: right;\">                     3</td><td style=\"text-align: right;\">0.183323 </td><td style=\"text-align: right;\">        0.58352 </td><td style=\"text-align: right;\">  0.1841    </td></tr>\n",
       "<tr><td>train_fn_54c14e43</td><td style=\"text-align: right;\">  0.889373</td><td style=\"text-align: right;\">      0.0545609</td><td style=\"text-align: right;\">                     3</td><td style=\"text-align: right;\">0.0544888</td><td style=\"text-align: right;\">        0.889291</td><td style=\"text-align: right;\">  0.0543445 </td></tr>\n",
       "<tr><td>train_fn_558a49aa</td><td style=\"text-align: right;\">  0.927991</td><td style=\"text-align: right;\">      0.0370972</td><td style=\"text-align: right;\">                    10</td><td style=\"text-align: right;\">0.0289212</td><td style=\"text-align: right;\">        0.964046</td><td style=\"text-align: right;\">  0.0125692 </td></tr>\n",
       "<tr><td>train_fn_5866b754</td><td style=\"text-align: right;\">  0.92712 </td><td style=\"text-align: right;\">      0.033005 </td><td style=\"text-align: right;\">                    10</td><td style=\"text-align: right;\">0.0257922</td><td style=\"text-align: right;\">        0.967341</td><td style=\"text-align: right;\">  0.0113664 </td></tr>\n",
       "<tr><td>train_fn_5d299b78</td><td style=\"text-align: right;\">  0.925958</td><td style=\"text-align: right;\">      0.0341013</td><td style=\"text-align: right;\">                    10</td><td style=\"text-align: right;\">0.0262172</td><td style=\"text-align: right;\">        0.967117</td><td style=\"text-align: right;\">  0.0104489 </td></tr>\n",
       "<tr><td>train_fn_5e112015</td><td style=\"text-align: right;\">  0.9277  </td><td style=\"text-align: right;\">      0.0354948</td><td style=\"text-align: right;\">                    10</td><td style=\"text-align: right;\">0.0272193</td><td style=\"text-align: right;\">        0.968012</td><td style=\"text-align: right;\">  0.0106683 </td></tr>\n",
       "<tr><td>train_fn_5f9cb34d</td><td style=\"text-align: right;\">  0.889373</td><td style=\"text-align: right;\">      0.0559872</td><td style=\"text-align: right;\">                     3</td><td style=\"text-align: right;\">0.0540313</td><td style=\"text-align: right;\">        0.889291</td><td style=\"text-align: right;\">  0.0579431 </td></tr>\n",
       "<tr><td>train_fn_5fbaa364</td><td style=\"text-align: right;\">  0.889373</td><td style=\"text-align: right;\">      0.0540257</td><td style=\"text-align: right;\">                     6</td><td style=\"text-align: right;\">0.0540203</td><td style=\"text-align: right;\">        0.889291</td><td style=\"text-align: right;\">  0.0540093 </td></tr>\n",
       "<tr><td>train_fn_621475ca</td><td style=\"text-align: right;\">  0.927991</td><td style=\"text-align: right;\">      0.0366089</td><td style=\"text-align: right;\">                    10</td><td style=\"text-align: right;\">0.0278046</td><td style=\"text-align: right;\">        0.96974 </td><td style=\"text-align: right;\">  0.0101961 </td></tr>\n",
       "<tr><td>train_fn_67b0e7ad</td><td style=\"text-align: right;\">  0.889373</td><td style=\"text-align: right;\">      0.091586 </td><td style=\"text-align: right;\">                     3</td><td style=\"text-align: right;\">0.0797924</td><td style=\"text-align: right;\">        0.884812</td><td style=\"text-align: right;\">  0.10338   </td></tr>\n",
       "<tr><td>train_fn_69b26dcc</td><td style=\"text-align: right;\">  0.926249</td><td style=\"text-align: right;\">      0.0365198</td><td style=\"text-align: right;\">                    10</td><td style=\"text-align: right;\">0.0281241</td><td style=\"text-align: right;\">        0.967852</td><td style=\"text-align: right;\">  0.0113327 </td></tr>\n",
       "<tr><td>train_fn_6a2e8e4f</td><td style=\"text-align: right;\">  0.889373</td><td style=\"text-align: right;\">      0.102465 </td><td style=\"text-align: right;\">                     3</td><td style=\"text-align: right;\">0.0914459</td><td style=\"text-align: right;\">        0.855831</td><td style=\"text-align: right;\">  0.113484  </td></tr>\n",
       "<tr><td>train_fn_6c1dc7d9</td><td style=\"text-align: right;\">  0.918699</td><td style=\"text-align: right;\">      0.0402345</td><td style=\"text-align: right;\">                    11</td><td style=\"text-align: right;\">0.0296371</td><td style=\"text-align: right;\">        0.973002</td><td style=\"text-align: right;\">  0.0084423 </td></tr>\n",
       "<tr><td>train_fn_6ef6937a</td><td style=\"text-align: right;\">  0.889373</td><td style=\"text-align: right;\">      0.0761904</td><td style=\"text-align: right;\">                     3</td><td style=\"text-align: right;\">0.067763 </td><td style=\"text-align: right;\">        0.879726</td><td style=\"text-align: right;\">  0.0846179 </td></tr>\n",
       "<tr><td>train_fn_6fb14e84</td><td style=\"text-align: right;\">  0.924216</td><td style=\"text-align: right;\">      0.0348247</td><td style=\"text-align: right;\">                    10</td><td style=\"text-align: right;\">0.0268659</td><td style=\"text-align: right;\">        0.967085</td><td style=\"text-align: right;\">  0.0109482 </td></tr>\n",
       "<tr><td>train_fn_6fd1942f</td><td style=\"text-align: right;\">  0.889082</td><td style=\"text-align: right;\">      0.0646622</td><td style=\"text-align: right;\">                     3</td><td style=\"text-align: right;\">0.0586483</td><td style=\"text-align: right;\">        0.889291</td><td style=\"text-align: right;\">  0.0706761 </td></tr>\n",
       "<tr><td>train_fn_72ad7df0</td><td style=\"text-align: right;\">  0.658537</td><td style=\"text-align: right;\">      0.181752 </td><td style=\"text-align: right;\">                     3</td><td style=\"text-align: right;\">0.181231 </td><td style=\"text-align: right;\">        0.652357</td><td style=\"text-align: right;\">  0.182273  </td></tr>\n",
       "<tr><td>train_fn_74e1235b</td><td style=\"text-align: right;\">  0.889373</td><td style=\"text-align: right;\">      0.0549307</td><td style=\"text-align: right;\">                     4</td><td style=\"text-align: right;\">0.0546616</td><td style=\"text-align: right;\">        0.889291</td><td style=\"text-align: right;\">  0.0541233 </td></tr>\n",
       "<tr><td>train_fn_75d8ffb3</td><td style=\"text-align: right;\">  0.889373</td><td style=\"text-align: right;\">      0.100568 </td><td style=\"text-align: right;\">                     6</td><td style=\"text-align: right;\">0.0932546</td><td style=\"text-align: right;\">        0.88654 </td><td style=\"text-align: right;\">  0.107882  </td></tr>\n",
       "<tr><td>train_fn_78bb8549</td><td style=\"text-align: right;\">  0.889373</td><td style=\"text-align: right;\">      0.054025 </td><td style=\"text-align: right;\">                     3</td><td style=\"text-align: right;\">0.0539551</td><td style=\"text-align: right;\">        0.889291</td><td style=\"text-align: right;\">  0.054095  </td></tr>\n",
       "<tr><td>train_fn_7e0568dc</td><td style=\"text-align: right;\">  0.895761</td><td style=\"text-align: right;\">      0.0477495</td><td style=\"text-align: right;\">                     6</td><td style=\"text-align: right;\">0.0450784</td><td style=\"text-align: right;\">        0.890698</td><td style=\"text-align: right;\">  0.0504207 </td></tr>\n",
       "<tr><td>train_fn_86a52d73</td><td style=\"text-align: right;\">  0.918118</td><td style=\"text-align: right;\">      0.039939 </td><td style=\"text-align: right;\">                     6</td><td style=\"text-align: right;\">0.0332111</td><td style=\"text-align: right;\">        0.948756</td><td style=\"text-align: right;\">  0.0197554 </td></tr>\n",
       "<tr><td>train_fn_90c8d9ba</td><td style=\"text-align: right;\">  0.926829</td><td style=\"text-align: right;\">      0.0360044</td><td style=\"text-align: right;\">                    12</td><td style=\"text-align: right;\">0.0268234</td><td style=\"text-align: right;\">        0.973514</td><td style=\"text-align: right;\">  0.00846155</td></tr>\n",
       "<tr><td>train_fn_91b80175</td><td style=\"text-align: right;\">  0.923055</td><td style=\"text-align: right;\">      0.0360181</td><td style=\"text-align: right;\">                     5</td><td style=\"text-align: right;\">0.0335769</td><td style=\"text-align: right;\">        0.92806 </td><td style=\"text-align: right;\">  0.0286944 </td></tr>\n",
       "<tr><td>train_fn_936869cf</td><td style=\"text-align: right;\">  0.924797</td><td style=\"text-align: right;\">      0.0355395</td><td style=\"text-align: right;\">                    12</td><td style=\"text-align: right;\">0.0261151</td><td style=\"text-align: right;\">        0.974666</td><td style=\"text-align: right;\">  0.00726639</td></tr>\n",
       "<tr><td>train_fn_950c8317</td><td style=\"text-align: right;\">  0.889373</td><td style=\"text-align: right;\">      0.0544102</td><td style=\"text-align: right;\">                     6</td><td style=\"text-align: right;\">0.0542759</td><td style=\"text-align: right;\">        0.889291</td><td style=\"text-align: right;\">  0.0540075 </td></tr>\n",
       "<tr><td>train_fn_9d1a2145</td><td style=\"text-align: right;\">  0.889373</td><td style=\"text-align: right;\">      0.051457 </td><td style=\"text-align: right;\">                     3</td><td style=\"text-align: right;\">0.0481916</td><td style=\"text-align: right;\">        0.889323</td><td style=\"text-align: right;\">  0.0547223 </td></tr>\n",
       "<tr><td>train_fn_9e2a29cd</td><td style=\"text-align: right;\">  0.92712 </td><td style=\"text-align: right;\">      0.0331025</td><td style=\"text-align: right;\">                     7</td><td style=\"text-align: right;\">0.0259717</td><td style=\"text-align: right;\">        0.966157</td><td style=\"text-align: right;\">  0.0117101 </td></tr>\n",
       "<tr><td>train_fn_9f75eb17</td><td style=\"text-align: right;\">  0.889373</td><td style=\"text-align: right;\">      0.0568888</td><td style=\"text-align: right;\">                     3</td><td style=\"text-align: right;\">0.0546763</td><td style=\"text-align: right;\">        0.889291</td><td style=\"text-align: right;\">  0.0591013 </td></tr>\n",
       "<tr><td>train_fn_a19f515b</td><td style=\"text-align: right;\">  0.630662</td><td style=\"text-align: right;\">      0.176868 </td><td style=\"text-align: right;\">                     3</td><td style=\"text-align: right;\">0.176796 </td><td style=\"text-align: right;\">        0.611477</td><td style=\"text-align: right;\">  0.176941  </td></tr>\n",
       "<tr><td>train_fn_a785b2ad</td><td style=\"text-align: right;\">  0.625726</td><td style=\"text-align: right;\">      0.187153 </td><td style=\"text-align: right;\">                     3</td><td style=\"text-align: right;\">0.186563 </td><td style=\"text-align: right;\">        0.560873</td><td style=\"text-align: right;\">  0.187743  </td></tr>\n",
       "<tr><td>train_fn_adb27a30</td><td style=\"text-align: right;\">  0.92741 </td><td style=\"text-align: right;\">      0.0357987</td><td style=\"text-align: right;\">                    15</td><td style=\"text-align: right;\">0.0255258</td><td style=\"text-align: right;\">        0.980104</td><td style=\"text-align: right;\">  0.00498007</td></tr>\n",
       "<tr><td>train_fn_aee678ac</td><td style=\"text-align: right;\">  0.925087</td><td style=\"text-align: right;\">      0.0348873</td><td style=\"text-align: right;\">                     7</td><td style=\"text-align: right;\">0.0279878</td><td style=\"text-align: right;\">        0.960655</td><td style=\"text-align: right;\">  0.0141887 </td></tr>\n",
       "<tr><td>train_fn_b0a2e06c</td><td style=\"text-align: right;\">  0.923926</td><td style=\"text-align: right;\">      0.0363679</td><td style=\"text-align: right;\">                    10</td><td style=\"text-align: right;\">0.0281772</td><td style=\"text-align: right;\">        0.965229</td><td style=\"text-align: right;\">  0.0117959 </td></tr>\n",
       "<tr><td>train_fn_b4124ea3</td><td style=\"text-align: right;\">  0.925377</td><td style=\"text-align: right;\">      0.0353351</td><td style=\"text-align: right;\">                    10</td><td style=\"text-align: right;\">0.0276891</td><td style=\"text-align: right;\">        0.963918</td><td style=\"text-align: right;\">  0.0123972 </td></tr>\n",
       "<tr><td>train_fn_b676dab8</td><td style=\"text-align: right;\">  0.889373</td><td style=\"text-align: right;\">      0.152486 </td><td style=\"text-align: right;\">                     3</td><td style=\"text-align: right;\">0.141498 </td><td style=\"text-align: right;\">        0.814119</td><td style=\"text-align: right;\">  0.163474  </td></tr>\n",
       "<tr><td>train_fn_b678c162</td><td style=\"text-align: right;\">  0.927991</td><td style=\"text-align: right;\">      0.0344368</td><td style=\"text-align: right;\">                    10</td><td style=\"text-align: right;\">0.0264818</td><td style=\"text-align: right;\">        0.968876</td><td style=\"text-align: right;\">  0.0105718 </td></tr>\n",
       "<tr><td>train_fn_b6d7a778</td><td style=\"text-align: right;\">  0.91957 </td><td style=\"text-align: right;\">      0.0394588</td><td style=\"text-align: right;\">                    10</td><td style=\"text-align: right;\">0.0305016</td><td style=\"text-align: right;\">        0.964366</td><td style=\"text-align: right;\">  0.0125873 </td></tr>\n",
       "<tr><td>train_fn_ba74eb45</td><td style=\"text-align: right;\">  0.889373</td><td style=\"text-align: right;\">      0.053252 </td><td style=\"text-align: right;\">                     6</td><td style=\"text-align: right;\">0.0527208</td><td style=\"text-align: right;\">        0.888779</td><td style=\"text-align: right;\">  0.0537831 </td></tr>\n",
       "<tr><td>train_fn_bfb1d397</td><td style=\"text-align: right;\">  0.916667</td><td style=\"text-align: right;\">      0.038085 </td><td style=\"text-align: right;\">                     6</td><td style=\"text-align: right;\">0.0320145</td><td style=\"text-align: right;\">        0.947892</td><td style=\"text-align: right;\">  0.0198734 </td></tr>\n",
       "<tr><td>train_fn_c01ccb79</td><td style=\"text-align: right;\">  0.926829</td><td style=\"text-align: right;\">      0.035723 </td><td style=\"text-align: right;\">                    10</td><td style=\"text-align: right;\">0.0274731</td><td style=\"text-align: right;\">        0.967309</td><td style=\"text-align: right;\">  0.0109731 </td></tr>\n",
       "<tr><td>train_fn_c0ca0c49</td><td style=\"text-align: right;\">  0.923926</td><td style=\"text-align: right;\">      0.0375186</td><td style=\"text-align: right;\">                    10</td><td style=\"text-align: right;\">0.028639 </td><td style=\"text-align: right;\">        0.967564</td><td style=\"text-align: right;\">  0.0108799 </td></tr>\n",
       "<tr><td>train_fn_c794fc05</td><td style=\"text-align: right;\">  0.889373</td><td style=\"text-align: right;\">      0.0543486</td><td style=\"text-align: right;\">                     6</td><td style=\"text-align: right;\">0.0542598</td><td style=\"text-align: right;\">        0.889291</td><td style=\"text-align: right;\">  0.0540823 </td></tr>\n",
       "<tr><td>train_fn_ca793110</td><td style=\"text-align: right;\">  0.92712 </td><td style=\"text-align: right;\">      0.0369938</td><td style=\"text-align: right;\">                    10</td><td style=\"text-align: right;\">0.0283761</td><td style=\"text-align: right;\">        0.967117</td><td style=\"text-align: right;\">  0.0111408 </td></tr>\n",
       "<tr><td>train_fn_cb80e71d</td><td style=\"text-align: right;\">  0.917828</td><td style=\"text-align: right;\">      0.0367818</td><td style=\"text-align: right;\">                     6</td><td style=\"text-align: right;\">0.0321448</td><td style=\"text-align: right;\">        0.94175 </td><td style=\"text-align: right;\">  0.0228709 </td></tr>\n",
       "<tr><td>train_fn_d05fd1ef</td><td style=\"text-align: right;\">  0.9277  </td><td style=\"text-align: right;\">      0.0334414</td><td style=\"text-align: right;\">                    10</td><td style=\"text-align: right;\">0.0261017</td><td style=\"text-align: right;\">        0.966989</td><td style=\"text-align: right;\">  0.0114223 </td></tr>\n",
       "<tr><td>train_fn_d533639b</td><td style=\"text-align: right;\">  0.925377</td><td style=\"text-align: right;\">      0.0339129</td><td style=\"text-align: right;\">                    10</td><td style=\"text-align: right;\">0.0265209</td><td style=\"text-align: right;\">        0.966157</td><td style=\"text-align: right;\">  0.0117369 </td></tr>\n",
       "<tr><td>train_fn_d5788737</td><td style=\"text-align: right;\">  0.889373</td><td style=\"text-align: right;\">      0.0546881</td><td style=\"text-align: right;\">                     3</td><td style=\"text-align: right;\">0.0545398</td><td style=\"text-align: right;\">        0.889291</td><td style=\"text-align: right;\">  0.0542431 </td></tr>\n",
       "<tr><td>train_fn_d632c1c6</td><td style=\"text-align: right;\">  0.923926</td><td style=\"text-align: right;\">      0.0353629</td><td style=\"text-align: right;\">                    10</td><td style=\"text-align: right;\">0.0270765</td><td style=\"text-align: right;\">        0.96878 </td><td style=\"text-align: right;\">  0.0105037 </td></tr>\n",
       "<tr><td>train_fn_d69d1057</td><td style=\"text-align: right;\">  0.91899 </td><td style=\"text-align: right;\">      0.0394349</td><td style=\"text-align: right;\">                     6</td><td style=\"text-align: right;\">0.0319305</td><td style=\"text-align: right;\">        0.953554</td><td style=\"text-align: right;\">  0.0169216 </td></tr>\n",
       "<tr><td>train_fn_d6f5edd8</td><td style=\"text-align: right;\">  0.91957 </td><td style=\"text-align: right;\">      0.04218  </td><td style=\"text-align: right;\">                    11</td><td style=\"text-align: right;\">0.0316395</td><td style=\"text-align: right;\">        0.968204</td><td style=\"text-align: right;\">  0.0105584 </td></tr>\n",
       "<tr><td>train_fn_d8aa3878</td><td style=\"text-align: right;\">  0.917828</td><td style=\"text-align: right;\">      0.0412064</td><td style=\"text-align: right;\">                    13</td><td style=\"text-align: right;\">0.0333584</td><td style=\"text-align: right;\">        0.954641</td><td style=\"text-align: right;\">  0.0176624 </td></tr>\n",
       "<tr><td>train_fn_d92b504a</td><td style=\"text-align: right;\">  0.888792</td><td style=\"text-align: right;\">      0.0963449</td><td style=\"text-align: right;\">                     3</td><td style=\"text-align: right;\">0.0847072</td><td style=\"text-align: right;\">        0.877679</td><td style=\"text-align: right;\">  0.107983  </td></tr>\n",
       "<tr><td>train_fn_d93dede2</td><td style=\"text-align: right;\">  0.915505</td><td style=\"text-align: right;\">      0.0408415</td><td style=\"text-align: right;\">                     6</td><td style=\"text-align: right;\">0.0334569</td><td style=\"text-align: right;\">        0.951315</td><td style=\"text-align: right;\">  0.0186877 </td></tr>\n",
       "<tr><td>train_fn_da6d62b1</td><td style=\"text-align: right;\">  0.889373</td><td style=\"text-align: right;\">      0.0545259</td><td style=\"text-align: right;\">                     3</td><td style=\"text-align: right;\">0.0527615</td><td style=\"text-align: right;\">        0.889291</td><td style=\"text-align: right;\">  0.0562904 </td></tr>\n",
       "<tr><td>train_fn_e7883aac</td><td style=\"text-align: right;\">  0.921603</td><td style=\"text-align: right;\">      0.0380291</td><td style=\"text-align: right;\">                     9</td><td style=\"text-align: right;\">0.029291 </td><td style=\"text-align: right;\">        0.965453</td><td style=\"text-align: right;\">  0.0118149 </td></tr>\n",
       "<tr><td>train_fn_f0c5cd0b</td><td style=\"text-align: right;\">  0.748258</td><td style=\"text-align: right;\">      0.181048 </td><td style=\"text-align: right;\">                     3</td><td style=\"text-align: right;\">0.179643 </td><td style=\"text-align: right;\">        0.710511</td><td style=\"text-align: right;\">  0.176833  </td></tr>\n",
       "<tr><td>train_fn_f64cae7c</td><td style=\"text-align: right;\">  0.676249</td><td style=\"text-align: right;\">      0.183867 </td><td style=\"text-align: right;\">                     3</td><td style=\"text-align: right;\">0.182334 </td><td style=\"text-align: right;\">        0.563336</td><td style=\"text-align: right;\">  0.185401  </td></tr>\n",
       "<tr><td>train_fn_f767dbb7</td><td style=\"text-align: right;\">  0.916667</td><td style=\"text-align: right;\">      0.0360066</td><td style=\"text-align: right;\">                     6</td><td style=\"text-align: right;\">0.0316796</td><td style=\"text-align: right;\">        0.940951</td><td style=\"text-align: right;\">  0.0230258 </td></tr>\n",
       "<tr><td>train_fn_f8d507a2</td><td style=\"text-align: right;\">  0.923926</td><td style=\"text-align: right;\">      0.0363861</td><td style=\"text-align: right;\">                    10</td><td style=\"text-align: right;\">0.0284469</td><td style=\"text-align: right;\">        0.96459 </td><td style=\"text-align: right;\">  0.0125684 </td></tr>\n",
       "<tr><td>train_fn_fc5bfd0b</td><td style=\"text-align: right;\">  0.915215</td><td style=\"text-align: right;\">      0.0366594</td><td style=\"text-align: right;\">                     6</td><td style=\"text-align: right;\">0.0311806</td><td style=\"text-align: right;\">        0.946996</td><td style=\"text-align: right;\">  0.0202231 </td></tr>\n",
       "</tbody>\n",
       "</table>\n",
       "</div>\n",
       "<style>\n",
       ".trialProgress {\n",
       "  display: flex;\n",
       "  flex-direction: column;\n",
       "  color: var(--jp-ui-font-color1);\n",
       "}\n",
       ".trialProgress h3 {\n",
       "  font-weight: bold;\n",
       "}\n",
       ".trialProgress td {\n",
       "  white-space: nowrap;\n",
       "}\n",
       "</style>\n"
      ],
      "text/plain": [
       "<IPython.core.display.HTML object>"
      ]
     },
     "metadata": {},
     "output_type": "display_data"
    },
    {
     "name": "stderr",
     "output_type": "stream",
     "text": [
      "\u001b[36m(train_fn pid=483)\u001b[0m /opt/conda/lib/python3.10/site-packages/transformers/tokenization_utils_base.py:1601: FutureWarning: `clean_up_tokenization_spaces` was not set. It will be set to `True` by default. This behavior will be depracted in transformers v4.45, and will be then set to `False` by default. For more details check this issue: https://github.com/huggingface/transformers/issues/31884\n",
      "\u001b[36m(train_fn pid=483)\u001b[0m   warnings.warn(\n",
      "\u001b[36m(train_fn pid=573)\u001b[0m /opt/conda/lib/python3.10/site-packages/transformers/tokenization_utils_base.py:1601: FutureWarning: `clean_up_tokenization_spaces` was not set. It will be set to `True` by default. This behavior will be depracted in transformers v4.45, and will be then set to `False` by default. For more details check this issue: https://github.com/huggingface/transformers/issues/31884\n",
      "\u001b[36m(train_fn pid=573)\u001b[0m   warnings.warn(\n",
      "\u001b[36m(train_fn pid=678)\u001b[0m /opt/conda/lib/python3.10/site-packages/transformers/tokenization_utils_base.py:1601: FutureWarning: `clean_up_tokenization_spaces` was not set. It will be set to `True` by default. This behavior will be depracted in transformers v4.45, and will be then set to `False` by default. For more details check this issue: https://github.com/huggingface/transformers/issues/31884\n",
      "\u001b[36m(train_fn pid=678)\u001b[0m   warnings.warn(\n",
      "\u001b[36m(train_fn pid=759)\u001b[0m /opt/conda/lib/python3.10/site-packages/transformers/tokenization_utils_base.py:1601: FutureWarning: `clean_up_tokenization_spaces` was not set. It will be set to `True` by default. This behavior will be depracted in transformers v4.45, and will be then set to `False` by default. For more details check this issue: https://github.com/huggingface/transformers/issues/31884\n",
      "\u001b[36m(train_fn pid=759)\u001b[0m   warnings.warn(\n",
      "\u001b[36m(train_fn pid=848)\u001b[0m /opt/conda/lib/python3.10/site-packages/transformers/tokenization_utils_base.py:1601: FutureWarning: `clean_up_tokenization_spaces` was not set. It will be set to `True` by default. This behavior will be depracted in transformers v4.45, and will be then set to `False` by default. For more details check this issue: https://github.com/huggingface/transformers/issues/31884\n",
      "\u001b[36m(train_fn pid=848)\u001b[0m   warnings.warn(\n",
      "\u001b[36m(train_fn pid=934)\u001b[0m /opt/conda/lib/python3.10/site-packages/transformers/tokenization_utils_base.py:1601: FutureWarning: `clean_up_tokenization_spaces` was not set. It will be set to `True` by default. This behavior will be depracted in transformers v4.45, and will be then set to `False` by default. For more details check this issue: https://github.com/huggingface/transformers/issues/31884\n",
      "\u001b[36m(train_fn pid=934)\u001b[0m   warnings.warn(\n",
      "\u001b[36m(train_fn pid=1028)\u001b[0m /opt/conda/lib/python3.10/site-packages/transformers/tokenization_utils_base.py:1601: FutureWarning: `clean_up_tokenization_spaces` was not set. It will be set to `True` by default. This behavior will be depracted in transformers v4.45, and will be then set to `False` by default. For more details check this issue: https://github.com/huggingface/transformers/issues/31884\n",
      "\u001b[36m(train_fn pid=1028)\u001b[0m   warnings.warn(\n",
      "\u001b[36m(train_fn pid=1103)\u001b[0m /opt/conda/lib/python3.10/site-packages/transformers/tokenization_utils_base.py:1601: FutureWarning: `clean_up_tokenization_spaces` was not set. It will be set to `True` by default. This behavior will be depracted in transformers v4.45, and will be then set to `False` by default. For more details check this issue: https://github.com/huggingface/transformers/issues/31884\n",
      "\u001b[36m(train_fn pid=1103)\u001b[0m   warnings.warn(\n",
      "\u001b[36m(train_fn pid=1204)\u001b[0m /opt/conda/lib/python3.10/site-packages/transformers/tokenization_utils_base.py:1601: FutureWarning: `clean_up_tokenization_spaces` was not set. It will be set to `True` by default. This behavior will be depracted in transformers v4.45, and will be then set to `False` by default. For more details check this issue: https://github.com/huggingface/transformers/issues/31884\n",
      "\u001b[36m(train_fn pid=1204)\u001b[0m   warnings.warn(\n",
      "\u001b[36m(train_fn pid=1270)\u001b[0m /opt/conda/lib/python3.10/site-packages/transformers/tokenization_utils_base.py:1601: FutureWarning: `clean_up_tokenization_spaces` was not set. It will be set to `True` by default. This behavior will be depracted in transformers v4.45, and will be then set to `False` by default. For more details check this issue: https://github.com/huggingface/transformers/issues/31884\n",
      "\u001b[36m(train_fn pid=1270)\u001b[0m   warnings.warn(\n",
      "\u001b[36m(train_fn pid=1376)\u001b[0m /opt/conda/lib/python3.10/site-packages/transformers/tokenization_utils_base.py:1601: FutureWarning: `clean_up_tokenization_spaces` was not set. It will be set to `True` by default. This behavior will be depracted in transformers v4.45, and will be then set to `False` by default. For more details check this issue: https://github.com/huggingface/transformers/issues/31884\n",
      "\u001b[36m(train_fn pid=1376)\u001b[0m   warnings.warn(\n",
      "\u001b[36m(train_fn pid=1474)\u001b[0m /opt/conda/lib/python3.10/site-packages/transformers/tokenization_utils_base.py:1601: FutureWarning: `clean_up_tokenization_spaces` was not set. It will be set to `True` by default. This behavior will be depracted in transformers v4.45, and will be then set to `False` by default. For more details check this issue: https://github.com/huggingface/transformers/issues/31884\n",
      "\u001b[36m(train_fn pid=1474)\u001b[0m   warnings.warn(\n",
      "\u001b[36m(train_fn pid=1573)\u001b[0m /opt/conda/lib/python3.10/site-packages/transformers/tokenization_utils_base.py:1601: FutureWarning: `clean_up_tokenization_spaces` was not set. It will be set to `True` by default. This behavior will be depracted in transformers v4.45, and will be then set to `False` by default. For more details check this issue: https://github.com/huggingface/transformers/issues/31884\n",
      "\u001b[36m(train_fn pid=1573)\u001b[0m   warnings.warn(\n",
      "\u001b[36m(train_fn pid=1637)\u001b[0m /opt/conda/lib/python3.10/site-packages/transformers/tokenization_utils_base.py:1601: FutureWarning: `clean_up_tokenization_spaces` was not set. It will be set to `True` by default. This behavior will be depracted in transformers v4.45, and will be then set to `False` by default. For more details check this issue: https://github.com/huggingface/transformers/issues/31884\n",
      "\u001b[36m(train_fn pid=1637)\u001b[0m   warnings.warn(\n",
      "\u001b[36m(train_fn pid=1770)\u001b[0m /opt/conda/lib/python3.10/site-packages/transformers/tokenization_utils_base.py:1601: FutureWarning: `clean_up_tokenization_spaces` was not set. It will be set to `True` by default. This behavior will be depracted in transformers v4.45, and will be then set to `False` by default. For more details check this issue: https://github.com/huggingface/transformers/issues/31884\n",
      "\u001b[36m(train_fn pid=1770)\u001b[0m   warnings.warn(\n",
      "\u001b[36m(train_fn pid=1835)\u001b[0m /opt/conda/lib/python3.10/site-packages/transformers/tokenization_utils_base.py:1601: FutureWarning: `clean_up_tokenization_spaces` was not set. It will be set to `True` by default. This behavior will be depracted in transformers v4.45, and will be then set to `False` by default. For more details check this issue: https://github.com/huggingface/transformers/issues/31884\n",
      "\u001b[36m(train_fn pid=1835)\u001b[0m   warnings.warn(\n",
      "\u001b[36m(train_fn pid=1930)\u001b[0m /opt/conda/lib/python3.10/site-packages/transformers/tokenization_utils_base.py:1601: FutureWarning: `clean_up_tokenization_spaces` was not set. It will be set to `True` by default. This behavior will be depracted in transformers v4.45, and will be then set to `False` by default. For more details check this issue: https://github.com/huggingface/transformers/issues/31884\n",
      "\u001b[36m(train_fn pid=1930)\u001b[0m   warnings.warn(\n",
      "\u001b[36m(train_fn pid=2038)\u001b[0m /opt/conda/lib/python3.10/site-packages/transformers/tokenization_utils_base.py:1601: FutureWarning: `clean_up_tokenization_spaces` was not set. It will be set to `True` by default. This behavior will be depracted in transformers v4.45, and will be then set to `False` by default. For more details check this issue: https://github.com/huggingface/transformers/issues/31884\n",
      "\u001b[36m(train_fn pid=2038)\u001b[0m   warnings.warn(\n",
      "\u001b[36m(train_fn pid=2127)\u001b[0m /opt/conda/lib/python3.10/site-packages/transformers/tokenization_utils_base.py:1601: FutureWarning: `clean_up_tokenization_spaces` was not set. It will be set to `True` by default. This behavior will be depracted in transformers v4.45, and will be then set to `False` by default. For more details check this issue: https://github.com/huggingface/transformers/issues/31884\n",
      "\u001b[36m(train_fn pid=2127)\u001b[0m   warnings.warn(\n",
      "\u001b[36m(train_fn pid=2232)\u001b[0m /opt/conda/lib/python3.10/site-packages/transformers/tokenization_utils_base.py:1601: FutureWarning: `clean_up_tokenization_spaces` was not set. It will be set to `True` by default. This behavior will be depracted in transformers v4.45, and will be then set to `False` by default. For more details check this issue: https://github.com/huggingface/transformers/issues/31884\n",
      "\u001b[36m(train_fn pid=2232)\u001b[0m   warnings.warn(\n",
      "\u001b[36m(train_fn pid=2306)\u001b[0m /opt/conda/lib/python3.10/site-packages/transformers/tokenization_utils_base.py:1601: FutureWarning: `clean_up_tokenization_spaces` was not set. It will be set to `True` by default. This behavior will be depracted in transformers v4.45, and will be then set to `False` by default. For more details check this issue: https://github.com/huggingface/transformers/issues/31884\n",
      "\u001b[36m(train_fn pid=2306)\u001b[0m   warnings.warn(\n",
      "\u001b[36m(train_fn pid=2391)\u001b[0m /opt/conda/lib/python3.10/site-packages/transformers/tokenization_utils_base.py:1601: FutureWarning: `clean_up_tokenization_spaces` was not set. It will be set to `True` by default. This behavior will be depracted in transformers v4.45, and will be then set to `False` by default. For more details check this issue: https://github.com/huggingface/transformers/issues/31884\n",
      "\u001b[36m(train_fn pid=2391)\u001b[0m   warnings.warn(\n",
      "\u001b[36m(train_fn pid=2465)\u001b[0m /opt/conda/lib/python3.10/site-packages/transformers/tokenization_utils_base.py:1601: FutureWarning: `clean_up_tokenization_spaces` was not set. It will be set to `True` by default. This behavior will be depracted in transformers v4.45, and will be then set to `False` by default. For more details check this issue: https://github.com/huggingface/transformers/issues/31884\n",
      "\u001b[36m(train_fn pid=2465)\u001b[0m   warnings.warn(\n",
      "\u001b[36m(train_fn pid=2550)\u001b[0m /opt/conda/lib/python3.10/site-packages/transformers/tokenization_utils_base.py:1601: FutureWarning: `clean_up_tokenization_spaces` was not set. It will be set to `True` by default. This behavior will be depracted in transformers v4.45, and will be then set to `False` by default. For more details check this issue: https://github.com/huggingface/transformers/issues/31884\n",
      "\u001b[36m(train_fn pid=2550)\u001b[0m   warnings.warn(\n",
      "\u001b[36m(train_fn pid=2624)\u001b[0m /opt/conda/lib/python3.10/site-packages/transformers/tokenization_utils_base.py:1601: FutureWarning: `clean_up_tokenization_spaces` was not set. It will be set to `True` by default. This behavior will be depracted in transformers v4.45, and will be then set to `False` by default. For more details check this issue: https://github.com/huggingface/transformers/issues/31884\n",
      "\u001b[36m(train_fn pid=2624)\u001b[0m   warnings.warn(\n",
      "\u001b[36m(train_fn pid=2726)\u001b[0m /opt/conda/lib/python3.10/site-packages/transformers/tokenization_utils_base.py:1601: FutureWarning: `clean_up_tokenization_spaces` was not set. It will be set to `True` by default. This behavior will be depracted in transformers v4.45, and will be then set to `False` by default. For more details check this issue: https://github.com/huggingface/transformers/issues/31884\n",
      "\u001b[36m(train_fn pid=2726)\u001b[0m   warnings.warn(\n",
      "\u001b[36m(train_fn pid=2802)\u001b[0m /opt/conda/lib/python3.10/site-packages/transformers/tokenization_utils_base.py:1601: FutureWarning: `clean_up_tokenization_spaces` was not set. It will be set to `True` by default. This behavior will be depracted in transformers v4.45, and will be then set to `False` by default. For more details check this issue: https://github.com/huggingface/transformers/issues/31884\n",
      "\u001b[36m(train_fn pid=2802)\u001b[0m   warnings.warn(\n",
      "\u001b[36m(train_fn pid=2902)\u001b[0m /opt/conda/lib/python3.10/site-packages/transformers/tokenization_utils_base.py:1601: FutureWarning: `clean_up_tokenization_spaces` was not set. It will be set to `True` by default. This behavior will be depracted in transformers v4.45, and will be then set to `False` by default. For more details check this issue: https://github.com/huggingface/transformers/issues/31884\n",
      "\u001b[36m(train_fn pid=2902)\u001b[0m   warnings.warn(\n",
      "\u001b[36m(train_fn pid=3000)\u001b[0m /opt/conda/lib/python3.10/site-packages/transformers/tokenization_utils_base.py:1601: FutureWarning: `clean_up_tokenization_spaces` was not set. It will be set to `True` by default. This behavior will be depracted in transformers v4.45, and will be then set to `False` by default. For more details check this issue: https://github.com/huggingface/transformers/issues/31884\n",
      "\u001b[36m(train_fn pid=3000)\u001b[0m   warnings.warn(\n",
      "\u001b[36m(train_fn pid=3077)\u001b[0m /opt/conda/lib/python3.10/site-packages/transformers/tokenization_utils_base.py:1601: FutureWarning: `clean_up_tokenization_spaces` was not set. It will be set to `True` by default. This behavior will be depracted in transformers v4.45, and will be then set to `False` by default. For more details check this issue: https://github.com/huggingface/transformers/issues/31884\n",
      "\u001b[36m(train_fn pid=3077)\u001b[0m   warnings.warn(\n",
      "\u001b[36m(train_fn pid=3164)\u001b[0m /opt/conda/lib/python3.10/site-packages/transformers/tokenization_utils_base.py:1601: FutureWarning: `clean_up_tokenization_spaces` was not set. It will be set to `True` by default. This behavior will be depracted in transformers v4.45, and will be then set to `False` by default. For more details check this issue: https://github.com/huggingface/transformers/issues/31884\n",
      "\u001b[36m(train_fn pid=3164)\u001b[0m   warnings.warn(\n",
      "\u001b[36m(train_fn pid=3247)\u001b[0m /opt/conda/lib/python3.10/site-packages/transformers/tokenization_utils_base.py:1601: FutureWarning: `clean_up_tokenization_spaces` was not set. It will be set to `True` by default. This behavior will be depracted in transformers v4.45, and will be then set to `False` by default. For more details check this issue: https://github.com/huggingface/transformers/issues/31884\n",
      "\u001b[36m(train_fn pid=3247)\u001b[0m   warnings.warn(\n",
      "\u001b[36m(train_fn pid=3320)\u001b[0m /opt/conda/lib/python3.10/site-packages/transformers/tokenization_utils_base.py:1601: FutureWarning: `clean_up_tokenization_spaces` was not set. It will be set to `True` by default. This behavior will be depracted in transformers v4.45, and will be then set to `False` by default. For more details check this issue: https://github.com/huggingface/transformers/issues/31884\n",
      "\u001b[36m(train_fn pid=3320)\u001b[0m   warnings.warn(\n",
      "\u001b[36m(train_fn pid=3444)\u001b[0m /opt/conda/lib/python3.10/site-packages/transformers/tokenization_utils_base.py:1601: FutureWarning: `clean_up_tokenization_spaces` was not set. It will be set to `True` by default. This behavior will be depracted in transformers v4.45, and will be then set to `False` by default. For more details check this issue: https://github.com/huggingface/transformers/issues/31884\n",
      "\u001b[36m(train_fn pid=3444)\u001b[0m   warnings.warn(\n",
      "\u001b[36m(train_fn pid=3518)\u001b[0m /opt/conda/lib/python3.10/site-packages/transformers/tokenization_utils_base.py:1601: FutureWarning: `clean_up_tokenization_spaces` was not set. It will be set to `True` by default. This behavior will be depracted in transformers v4.45, and will be then set to `False` by default. For more details check this issue: https://github.com/huggingface/transformers/issues/31884\n",
      "\u001b[36m(train_fn pid=3518)\u001b[0m   warnings.warn(\n",
      "\u001b[36m(train_fn pid=3618)\u001b[0m /opt/conda/lib/python3.10/site-packages/transformers/tokenization_utils_base.py:1601: FutureWarning: `clean_up_tokenization_spaces` was not set. It will be set to `True` by default. This behavior will be depracted in transformers v4.45, and will be then set to `False` by default. For more details check this issue: https://github.com/huggingface/transformers/issues/31884\n",
      "\u001b[36m(train_fn pid=3618)\u001b[0m   warnings.warn(\n",
      "\u001b[36m(train_fn pid=3713)\u001b[0m /opt/conda/lib/python3.10/site-packages/transformers/tokenization_utils_base.py:1601: FutureWarning: `clean_up_tokenization_spaces` was not set. It will be set to `True` by default. This behavior will be depracted in transformers v4.45, and will be then set to `False` by default. For more details check this issue: https://github.com/huggingface/transformers/issues/31884\n",
      "\u001b[36m(train_fn pid=3713)\u001b[0m   warnings.warn(\n",
      "\u001b[36m(train_fn pid=3793)\u001b[0m /opt/conda/lib/python3.10/site-packages/transformers/tokenization_utils_base.py:1601: FutureWarning: `clean_up_tokenization_spaces` was not set. It will be set to `True` by default. This behavior will be depracted in transformers v4.45, and will be then set to `False` by default. For more details check this issue: https://github.com/huggingface/transformers/issues/31884\n",
      "\u001b[36m(train_fn pid=3793)\u001b[0m   warnings.warn(\n",
      "\u001b[36m(train_fn pid=3873)\u001b[0m /opt/conda/lib/python3.10/site-packages/transformers/tokenization_utils_base.py:1601: FutureWarning: `clean_up_tokenization_spaces` was not set. It will be set to `True` by default. This behavior will be depracted in transformers v4.45, and will be then set to `False` by default. For more details check this issue: https://github.com/huggingface/transformers/issues/31884\n",
      "\u001b[36m(train_fn pid=3873)\u001b[0m   warnings.warn(\n",
      "\u001b[36m(train_fn pid=3953)\u001b[0m /opt/conda/lib/python3.10/site-packages/transformers/tokenization_utils_base.py:1601: FutureWarning: `clean_up_tokenization_spaces` was not set. It will be set to `True` by default. This behavior will be depracted in transformers v4.45, and will be then set to `False` by default. For more details check this issue: https://github.com/huggingface/transformers/issues/31884\n",
      "\u001b[36m(train_fn pid=3953)\u001b[0m   warnings.warn(\n",
      "\u001b[36m(train_fn pid=4033)\u001b[0m /opt/conda/lib/python3.10/site-packages/transformers/tokenization_utils_base.py:1601: FutureWarning: `clean_up_tokenization_spaces` was not set. It will be set to `True` by default. This behavior will be depracted in transformers v4.45, and will be then set to `False` by default. For more details check this issue: https://github.com/huggingface/transformers/issues/31884\n",
      "\u001b[36m(train_fn pid=4033)\u001b[0m   warnings.warn(\n",
      "\u001b[36m(train_fn pid=4113)\u001b[0m /opt/conda/lib/python3.10/site-packages/transformers/tokenization_utils_base.py:1601: FutureWarning: `clean_up_tokenization_spaces` was not set. It will be set to `True` by default. This behavior will be depracted in transformers v4.45, and will be then set to `False` by default. For more details check this issue: https://github.com/huggingface/transformers/issues/31884\n",
      "\u001b[36m(train_fn pid=4113)\u001b[0m   warnings.warn(\n",
      "\u001b[36m(train_fn pid=4189)\u001b[0m /opt/conda/lib/python3.10/site-packages/transformers/tokenization_utils_base.py:1601: FutureWarning: `clean_up_tokenization_spaces` was not set. It will be set to `True` by default. This behavior will be depracted in transformers v4.45, and will be then set to `False` by default. For more details check this issue: https://github.com/huggingface/transformers/issues/31884\n",
      "\u001b[36m(train_fn pid=4189)\u001b[0m   warnings.warn(\n",
      "\u001b[36m(train_fn pid=4272)\u001b[0m /opt/conda/lib/python3.10/site-packages/transformers/tokenization_utils_base.py:1601: FutureWarning: `clean_up_tokenization_spaces` was not set. It will be set to `True` by default. This behavior will be depracted in transformers v4.45, and will be then set to `False` by default. For more details check this issue: https://github.com/huggingface/transformers/issues/31884\n",
      "\u001b[36m(train_fn pid=4272)\u001b[0m   warnings.warn(\n",
      "\u001b[36m(train_fn pid=4361)\u001b[0m /opt/conda/lib/python3.10/site-packages/transformers/tokenization_utils_base.py:1601: FutureWarning: `clean_up_tokenization_spaces` was not set. It will be set to `True` by default. This behavior will be depracted in transformers v4.45, and will be then set to `False` by default. For more details check this issue: https://github.com/huggingface/transformers/issues/31884\n",
      "\u001b[36m(train_fn pid=4361)\u001b[0m   warnings.warn(\n",
      "\u001b[36m(train_fn pid=4447)\u001b[0m /opt/conda/lib/python3.10/site-packages/transformers/tokenization_utils_base.py:1601: FutureWarning: `clean_up_tokenization_spaces` was not set. It will be set to `True` by default. This behavior will be depracted in transformers v4.45, and will be then set to `False` by default. For more details check this issue: https://github.com/huggingface/transformers/issues/31884\n",
      "\u001b[36m(train_fn pid=4447)\u001b[0m   warnings.warn(\n",
      "\u001b[36m(train_fn pid=4537)\u001b[0m /opt/conda/lib/python3.10/site-packages/transformers/tokenization_utils_base.py:1601: FutureWarning: `clean_up_tokenization_spaces` was not set. It will be set to `True` by default. This behavior will be depracted in transformers v4.45, and will be then set to `False` by default. For more details check this issue: https://github.com/huggingface/transformers/issues/31884\n",
      "\u001b[36m(train_fn pid=4537)\u001b[0m   warnings.warn(\n",
      "\u001b[36m(train_fn pid=4622)\u001b[0m /opt/conda/lib/python3.10/site-packages/transformers/tokenization_utils_base.py:1601: FutureWarning: `clean_up_tokenization_spaces` was not set. It will be set to `True` by default. This behavior will be depracted in transformers v4.45, and will be then set to `False` by default. For more details check this issue: https://github.com/huggingface/transformers/issues/31884\n",
      "\u001b[36m(train_fn pid=4622)\u001b[0m   warnings.warn(\n",
      "\u001b[36m(train_fn pid=4712)\u001b[0m /opt/conda/lib/python3.10/site-packages/transformers/tokenization_utils_base.py:1601: FutureWarning: `clean_up_tokenization_spaces` was not set. It will be set to `True` by default. This behavior will be depracted in transformers v4.45, and will be then set to `False` by default. For more details check this issue: https://github.com/huggingface/transformers/issues/31884\n",
      "\u001b[36m(train_fn pid=4712)\u001b[0m   warnings.warn(\n",
      "\u001b[36m(train_fn pid=4792)\u001b[0m /opt/conda/lib/python3.10/site-packages/transformers/tokenization_utils_base.py:1601: FutureWarning: `clean_up_tokenization_spaces` was not set. It will be set to `True` by default. This behavior will be depracted in transformers v4.45, and will be then set to `False` by default. For more details check this issue: https://github.com/huggingface/transformers/issues/31884\n",
      "\u001b[36m(train_fn pid=4792)\u001b[0m   warnings.warn(\n",
      "\u001b[36m(train_fn pid=4882)\u001b[0m /opt/conda/lib/python3.10/site-packages/transformers/tokenization_utils_base.py:1601: FutureWarning: `clean_up_tokenization_spaces` was not set. It will be set to `True` by default. This behavior will be depracted in transformers v4.45, and will be then set to `False` by default. For more details check this issue: https://github.com/huggingface/transformers/issues/31884\n",
      "\u001b[36m(train_fn pid=4882)\u001b[0m   warnings.warn(\n",
      "\u001b[36m(train_fn pid=4962)\u001b[0m /opt/conda/lib/python3.10/site-packages/transformers/tokenization_utils_base.py:1601: FutureWarning: `clean_up_tokenization_spaces` was not set. It will be set to `True` by default. This behavior will be depracted in transformers v4.45, and will be then set to `False` by default. For more details check this issue: https://github.com/huggingface/transformers/issues/31884\n",
      "\u001b[36m(train_fn pid=4962)\u001b[0m   warnings.warn(\n",
      "\u001b[36m(train_fn pid=5038)\u001b[0m /opt/conda/lib/python3.10/site-packages/transformers/tokenization_utils_base.py:1601: FutureWarning: `clean_up_tokenization_spaces` was not set. It will be set to `True` by default. This behavior will be depracted in transformers v4.45, and will be then set to `False` by default. For more details check this issue: https://github.com/huggingface/transformers/issues/31884\n",
      "\u001b[36m(train_fn pid=5038)\u001b[0m   warnings.warn(\n",
      "\u001b[36m(train_fn pid=5159)\u001b[0m /opt/conda/lib/python3.10/site-packages/transformers/tokenization_utils_base.py:1601: FutureWarning: `clean_up_tokenization_spaces` was not set. It will be set to `True` by default. This behavior will be depracted in transformers v4.45, and will be then set to `False` by default. For more details check this issue: https://github.com/huggingface/transformers/issues/31884\n",
      "\u001b[36m(train_fn pid=5159)\u001b[0m   warnings.warn(\n",
      "\u001b[36m(train_fn pid=5236)\u001b[0m /opt/conda/lib/python3.10/site-packages/transformers/tokenization_utils_base.py:1601: FutureWarning: `clean_up_tokenization_spaces` was not set. It will be set to `True` by default. This behavior will be depracted in transformers v4.45, and will be then set to `False` by default. For more details check this issue: https://github.com/huggingface/transformers/issues/31884\n",
      "\u001b[36m(train_fn pid=5236)\u001b[0m   warnings.warn(\n",
      "\u001b[36m(train_fn pid=5355)\u001b[0m /opt/conda/lib/python3.10/site-packages/transformers/tokenization_utils_base.py:1601: FutureWarning: `clean_up_tokenization_spaces` was not set. It will be set to `True` by default. This behavior will be depracted in transformers v4.45, and will be then set to `False` by default. For more details check this issue: https://github.com/huggingface/transformers/issues/31884\n",
      "\u001b[36m(train_fn pid=5355)\u001b[0m   warnings.warn(\n",
      "\u001b[36m(train_fn pid=5433)\u001b[0m /opt/conda/lib/python3.10/site-packages/transformers/tokenization_utils_base.py:1601: FutureWarning: `clean_up_tokenization_spaces` was not set. It will be set to `True` by default. This behavior will be depracted in transformers v4.45, and will be then set to `False` by default. For more details check this issue: https://github.com/huggingface/transformers/issues/31884\n",
      "\u001b[36m(train_fn pid=5433)\u001b[0m   warnings.warn(\n",
      "\u001b[36m(train_fn pid=5552)\u001b[0m /opt/conda/lib/python3.10/site-packages/transformers/tokenization_utils_base.py:1601: FutureWarning: `clean_up_tokenization_spaces` was not set. It will be set to `True` by default. This behavior will be depracted in transformers v4.45, and will be then set to `False` by default. For more details check this issue: https://github.com/huggingface/transformers/issues/31884\n",
      "\u001b[36m(train_fn pid=5552)\u001b[0m   warnings.warn(\n",
      "\u001b[36m(train_fn pid=5630)\u001b[0m /opt/conda/lib/python3.10/site-packages/transformers/tokenization_utils_base.py:1601: FutureWarning: `clean_up_tokenization_spaces` was not set. It will be set to `True` by default. This behavior will be depracted in transformers v4.45, and will be then set to `False` by default. For more details check this issue: https://github.com/huggingface/transformers/issues/31884\n",
      "\u001b[36m(train_fn pid=5630)\u001b[0m   warnings.warn(\n",
      "\u001b[36m(train_fn pid=5749)\u001b[0m /opt/conda/lib/python3.10/site-packages/transformers/tokenization_utils_base.py:1601: FutureWarning: `clean_up_tokenization_spaces` was not set. It will be set to `True` by default. This behavior will be depracted in transformers v4.45, and will be then set to `False` by default. For more details check this issue: https://github.com/huggingface/transformers/issues/31884\n",
      "\u001b[36m(train_fn pid=5749)\u001b[0m   warnings.warn(\n",
      "\u001b[36m(train_fn pid=5827)\u001b[0m /opt/conda/lib/python3.10/site-packages/transformers/tokenization_utils_base.py:1601: FutureWarning: `clean_up_tokenization_spaces` was not set. It will be set to `True` by default. This behavior will be depracted in transformers v4.45, and will be then set to `False` by default. For more details check this issue: https://github.com/huggingface/transformers/issues/31884\n",
      "\u001b[36m(train_fn pid=5827)\u001b[0m   warnings.warn(\n",
      "\u001b[36m(train_fn pid=5908)\u001b[0m /opt/conda/lib/python3.10/site-packages/transformers/tokenization_utils_base.py:1601: FutureWarning: `clean_up_tokenization_spaces` was not set. It will be set to `True` by default. This behavior will be depracted in transformers v4.45, and will be then set to `False` by default. For more details check this issue: https://github.com/huggingface/transformers/issues/31884\n",
      "\u001b[36m(train_fn pid=5908)\u001b[0m   warnings.warn(\n",
      "\u001b[36m(train_fn pid=5986)\u001b[0m /opt/conda/lib/python3.10/site-packages/transformers/tokenization_utils_base.py:1601: FutureWarning: `clean_up_tokenization_spaces` was not set. It will be set to `True` by default. This behavior will be depracted in transformers v4.45, and will be then set to `False` by default. For more details check this issue: https://github.com/huggingface/transformers/issues/31884\n",
      "\u001b[36m(train_fn pid=5986)\u001b[0m   warnings.warn(\n",
      "\u001b[36m(train_fn pid=6105)\u001b[0m /opt/conda/lib/python3.10/site-packages/transformers/tokenization_utils_base.py:1601: FutureWarning: `clean_up_tokenization_spaces` was not set. It will be set to `True` by default. This behavior will be depracted in transformers v4.45, and will be then set to `False` by default. For more details check this issue: https://github.com/huggingface/transformers/issues/31884\n",
      "\u001b[36m(train_fn pid=6105)\u001b[0m   warnings.warn(\n",
      "\u001b[36m(train_fn pid=6183)\u001b[0m /opt/conda/lib/python3.10/site-packages/transformers/tokenization_utils_base.py:1601: FutureWarning: `clean_up_tokenization_spaces` was not set. It will be set to `True` by default. This behavior will be depracted in transformers v4.45, and will be then set to `False` by default. For more details check this issue: https://github.com/huggingface/transformers/issues/31884\n",
      "\u001b[36m(train_fn pid=6183)\u001b[0m   warnings.warn(\n",
      "\u001b[36m(train_fn pid=6271)\u001b[0m /opt/conda/lib/python3.10/site-packages/transformers/tokenization_utils_base.py:1601: FutureWarning: `clean_up_tokenization_spaces` was not set. It will be set to `True` by default. This behavior will be depracted in transformers v4.45, and will be then set to `False` by default. For more details check this issue: https://github.com/huggingface/transformers/issues/31884\n",
      "\u001b[36m(train_fn pid=6271)\u001b[0m   warnings.warn(\n",
      "\u001b[36m(train_fn pid=6359)\u001b[0m /opt/conda/lib/python3.10/site-packages/transformers/tokenization_utils_base.py:1601: FutureWarning: `clean_up_tokenization_spaces` was not set. It will be set to `True` by default. This behavior will be depracted in transformers v4.45, and will be then set to `False` by default. For more details check this issue: https://github.com/huggingface/transformers/issues/31884\n",
      "\u001b[36m(train_fn pid=6359)\u001b[0m   warnings.warn(\n",
      "\u001b[36m(train_fn pid=6443)\u001b[0m /opt/conda/lib/python3.10/site-packages/transformers/tokenization_utils_base.py:1601: FutureWarning: `clean_up_tokenization_spaces` was not set. It will be set to `True` by default. This behavior will be depracted in transformers v4.45, and will be then set to `False` by default. For more details check this issue: https://github.com/huggingface/transformers/issues/31884\n",
      "\u001b[36m(train_fn pid=6443)\u001b[0m   warnings.warn(\n",
      "\u001b[36m(train_fn pid=6532)\u001b[0m /opt/conda/lib/python3.10/site-packages/transformers/tokenization_utils_base.py:1601: FutureWarning: `clean_up_tokenization_spaces` was not set. It will be set to `True` by default. This behavior will be depracted in transformers v4.45, and will be then set to `False` by default. For more details check this issue: https://github.com/huggingface/transformers/issues/31884\n",
      "\u001b[36m(train_fn pid=6532)\u001b[0m   warnings.warn(\n",
      "\u001b[36m(train_fn pid=6620)\u001b[0m /opt/conda/lib/python3.10/site-packages/transformers/tokenization_utils_base.py:1601: FutureWarning: `clean_up_tokenization_spaces` was not set. It will be set to `True` by default. This behavior will be depracted in transformers v4.45, and will be then set to `False` by default. For more details check this issue: https://github.com/huggingface/transformers/issues/31884\n",
      "\u001b[36m(train_fn pid=6620)\u001b[0m   warnings.warn(\n",
      "\u001b[36m(train_fn pid=6699)\u001b[0m /opt/conda/lib/python3.10/site-packages/transformers/tokenization_utils_base.py:1601: FutureWarning: `clean_up_tokenization_spaces` was not set. It will be set to `True` by default. This behavior will be depracted in transformers v4.45, and will be then set to `False` by default. For more details check this issue: https://github.com/huggingface/transformers/issues/31884\n",
      "\u001b[36m(train_fn pid=6699)\u001b[0m   warnings.warn(\n",
      "\u001b[36m(train_fn pid=6776)\u001b[0m /opt/conda/lib/python3.10/site-packages/transformers/tokenization_utils_base.py:1601: FutureWarning: `clean_up_tokenization_spaces` was not set. It will be set to `True` by default. This behavior will be depracted in transformers v4.45, and will be then set to `False` by default. For more details check this issue: https://github.com/huggingface/transformers/issues/31884\n",
      "\u001b[36m(train_fn pid=6776)\u001b[0m   warnings.warn(\n",
      "\u001b[36m(train_fn pid=6858)\u001b[0m /opt/conda/lib/python3.10/site-packages/transformers/tokenization_utils_base.py:1601: FutureWarning: `clean_up_tokenization_spaces` was not set. It will be set to `True` by default. This behavior will be depracted in transformers v4.45, and will be then set to `False` by default. For more details check this issue: https://github.com/huggingface/transformers/issues/31884\n",
      "\u001b[36m(train_fn pid=6858)\u001b[0m   warnings.warn(\n",
      "\u001b[36m(train_fn pid=6974)\u001b[0m /opt/conda/lib/python3.10/site-packages/transformers/tokenization_utils_base.py:1601: FutureWarning: `clean_up_tokenization_spaces` was not set. It will be set to `True` by default. This behavior will be depracted in transformers v4.45, and will be then set to `False` by default. For more details check this issue: https://github.com/huggingface/transformers/issues/31884\n",
      "\u001b[36m(train_fn pid=6974)\u001b[0m   warnings.warn(\n",
      "\u001b[36m(train_fn pid=7055)\u001b[0m /opt/conda/lib/python3.10/site-packages/transformers/tokenization_utils_base.py:1601: FutureWarning: `clean_up_tokenization_spaces` was not set. It will be set to `True` by default. This behavior will be depracted in transformers v4.45, and will be then set to `False` by default. For more details check this issue: https://github.com/huggingface/transformers/issues/31884\n",
      "\u001b[36m(train_fn pid=7055)\u001b[0m   warnings.warn(\n",
      "\u001b[36m(train_fn pid=7165)\u001b[0m /opt/conda/lib/python3.10/site-packages/transformers/tokenization_utils_base.py:1601: FutureWarning: `clean_up_tokenization_spaces` was not set. It will be set to `True` by default. This behavior will be depracted in transformers v4.45, and will be then set to `False` by default. For more details check this issue: https://github.com/huggingface/transformers/issues/31884\n",
      "\u001b[36m(train_fn pid=7165)\u001b[0m   warnings.warn(\n",
      "\u001b[36m(train_fn pid=7240)\u001b[0m /opt/conda/lib/python3.10/site-packages/transformers/tokenization_utils_base.py:1601: FutureWarning: `clean_up_tokenization_spaces` was not set. It will be set to `True` by default. This behavior will be depracted in transformers v4.45, and will be then set to `False` by default. For more details check this issue: https://github.com/huggingface/transformers/issues/31884\n",
      "\u001b[36m(train_fn pid=7240)\u001b[0m   warnings.warn(\n",
      "\u001b[36m(train_fn pid=7330)\u001b[0m /opt/conda/lib/python3.10/site-packages/transformers/tokenization_utils_base.py:1601: FutureWarning: `clean_up_tokenization_spaces` was not set. It will be set to `True` by default. This behavior will be depracted in transformers v4.45, and will be then set to `False` by default. For more details check this issue: https://github.com/huggingface/transformers/issues/31884\n",
      "\u001b[36m(train_fn pid=7330)\u001b[0m   warnings.warn(\n",
      "\u001b[36m(train_fn pid=7418)\u001b[0m /opt/conda/lib/python3.10/site-packages/transformers/tokenization_utils_base.py:1601: FutureWarning: `clean_up_tokenization_spaces` was not set. It will be set to `True` by default. This behavior will be depracted in transformers v4.45, and will be then set to `False` by default. For more details check this issue: https://github.com/huggingface/transformers/issues/31884\n",
      "\u001b[36m(train_fn pid=7418)\u001b[0m   warnings.warn(\n",
      "\u001b[36m(train_fn pid=7522)\u001b[0m /opt/conda/lib/python3.10/site-packages/transformers/tokenization_utils_base.py:1601: FutureWarning: `clean_up_tokenization_spaces` was not set. It will be set to `True` by default. This behavior will be depracted in transformers v4.45, and will be then set to `False` by default. For more details check this issue: https://github.com/huggingface/transformers/issues/31884\n",
      "\u001b[36m(train_fn pid=7522)\u001b[0m   warnings.warn(\n",
      "\u001b[36m(train_fn pid=7615)\u001b[0m /opt/conda/lib/python3.10/site-packages/transformers/tokenization_utils_base.py:1601: FutureWarning: `clean_up_tokenization_spaces` was not set. It will be set to `True` by default. This behavior will be depracted in transformers v4.45, and will be then set to `False` by default. For more details check this issue: https://github.com/huggingface/transformers/issues/31884\n",
      "\u001b[36m(train_fn pid=7615)\u001b[0m   warnings.warn(\n",
      "\u001b[36m(train_fn pid=7718)\u001b[0m /opt/conda/lib/python3.10/site-packages/transformers/tokenization_utils_base.py:1601: FutureWarning: `clean_up_tokenization_spaces` was not set. It will be set to `True` by default. This behavior will be depracted in transformers v4.45, and will be then set to `False` by default. For more details check this issue: https://github.com/huggingface/transformers/issues/31884\n",
      "\u001b[36m(train_fn pid=7718)\u001b[0m   warnings.warn(\n",
      "\u001b[36m(train_fn pid=7817)\u001b[0m /opt/conda/lib/python3.10/site-packages/transformers/tokenization_utils_base.py:1601: FutureWarning: `clean_up_tokenization_spaces` was not set. It will be set to `True` by default. This behavior will be depracted in transformers v4.45, and will be then set to `False` by default. For more details check this issue: https://github.com/huggingface/transformers/issues/31884\n",
      "\u001b[36m(train_fn pid=7817)\u001b[0m   warnings.warn(\n",
      "\u001b[36m(train_fn pid=7915)\u001b[0m /opt/conda/lib/python3.10/site-packages/transformers/tokenization_utils_base.py:1601: FutureWarning: `clean_up_tokenization_spaces` was not set. It will be set to `True` by default. This behavior will be depracted in transformers v4.45, and will be then set to `False` by default. For more details check this issue: https://github.com/huggingface/transformers/issues/31884\n",
      "\u001b[36m(train_fn pid=7915)\u001b[0m   warnings.warn(\n",
      "\u001b[36m(train_fn pid=7991)\u001b[0m /opt/conda/lib/python3.10/site-packages/transformers/tokenization_utils_base.py:1601: FutureWarning: `clean_up_tokenization_spaces` was not set. It will be set to `True` by default. This behavior will be depracted in transformers v4.45, and will be then set to `False` by default. For more details check this issue: https://github.com/huggingface/transformers/issues/31884\n",
      "\u001b[36m(train_fn pid=7991)\u001b[0m   warnings.warn(\n",
      "\u001b[36m(train_fn pid=8097)\u001b[0m /opt/conda/lib/python3.10/site-packages/transformers/tokenization_utils_base.py:1601: FutureWarning: `clean_up_tokenization_spaces` was not set. It will be set to `True` by default. This behavior will be depracted in transformers v4.45, and will be then set to `False` by default. For more details check this issue: https://github.com/huggingface/transformers/issues/31884\n",
      "\u001b[36m(train_fn pid=8097)\u001b[0m   warnings.warn(\n",
      "\u001b[36m(train_fn pid=8184)\u001b[0m /opt/conda/lib/python3.10/site-packages/transformers/tokenization_utils_base.py:1601: FutureWarning: `clean_up_tokenization_spaces` was not set. It will be set to `True` by default. This behavior will be depracted in transformers v4.45, and will be then set to `False` by default. For more details check this issue: https://github.com/huggingface/transformers/issues/31884\n",
      "\u001b[36m(train_fn pid=8184)\u001b[0m   warnings.warn(\n",
      "\u001b[36m(train_fn pid=8315)\u001b[0m /opt/conda/lib/python3.10/site-packages/transformers/tokenization_utils_base.py:1601: FutureWarning: `clean_up_tokenization_spaces` was not set. It will be set to `True` by default. This behavior will be depracted in transformers v4.45, and will be then set to `False` by default. For more details check this issue: https://github.com/huggingface/transformers/issues/31884\n",
      "\u001b[36m(train_fn pid=8315)\u001b[0m   warnings.warn(\n",
      "\u001b[36m(train_fn pid=8394)\u001b[0m /opt/conda/lib/python3.10/site-packages/transformers/tokenization_utils_base.py:1601: FutureWarning: `clean_up_tokenization_spaces` was not set. It will be set to `True` by default. This behavior will be depracted in transformers v4.45, and will be then set to `False` by default. For more details check this issue: https://github.com/huggingface/transformers/issues/31884\n",
      "\u001b[36m(train_fn pid=8394)\u001b[0m   warnings.warn(\n",
      "\u001b[36m(train_fn pid=8482)\u001b[0m /opt/conda/lib/python3.10/site-packages/transformers/tokenization_utils_base.py:1601: FutureWarning: `clean_up_tokenization_spaces` was not set. It will be set to `True` by default. This behavior will be depracted in transformers v4.45, and will be then set to `False` by default. For more details check this issue: https://github.com/huggingface/transformers/issues/31884\n",
      "\u001b[36m(train_fn pid=8482)\u001b[0m   warnings.warn(\n",
      "\u001b[36m(train_fn pid=8594)\u001b[0m /opt/conda/lib/python3.10/site-packages/transformers/tokenization_utils_base.py:1601: FutureWarning: `clean_up_tokenization_spaces` was not set. It will be set to `True` by default. This behavior will be depracted in transformers v4.45, and will be then set to `False` by default. For more details check this issue: https://github.com/huggingface/transformers/issues/31884\n",
      "\u001b[36m(train_fn pid=8594)\u001b[0m   warnings.warn(\n",
      "\u001b[36m(train_fn pid=8685)\u001b[0m /opt/conda/lib/python3.10/site-packages/transformers/tokenization_utils_base.py:1601: FutureWarning: `clean_up_tokenization_spaces` was not set. It will be set to `True` by default. This behavior will be depracted in transformers v4.45, and will be then set to `False` by default. For more details check this issue: https://github.com/huggingface/transformers/issues/31884\n",
      "\u001b[36m(train_fn pid=8685)\u001b[0m   warnings.warn(\n",
      "\u001b[36m(train_fn pid=8791)\u001b[0m /opt/conda/lib/python3.10/site-packages/transformers/tokenization_utils_base.py:1601: FutureWarning: `clean_up_tokenization_spaces` was not set. It will be set to `True` by default. This behavior will be depracted in transformers v4.45, and will be then set to `False` by default. For more details check this issue: https://github.com/huggingface/transformers/issues/31884\n",
      "\u001b[36m(train_fn pid=8791)\u001b[0m   warnings.warn(\n",
      "\u001b[36m(train_fn pid=8875)\u001b[0m /opt/conda/lib/python3.10/site-packages/transformers/tokenization_utils_base.py:1601: FutureWarning: `clean_up_tokenization_spaces` was not set. It will be set to `True` by default. This behavior will be depracted in transformers v4.45, and will be then set to `False` by default. For more details check this issue: https://github.com/huggingface/transformers/issues/31884\n",
      "\u001b[36m(train_fn pid=8875)\u001b[0m   warnings.warn(\n",
      "\u001b[36m(train_fn pid=8979)\u001b[0m /opt/conda/lib/python3.10/site-packages/transformers/tokenization_utils_base.py:1601: FutureWarning: `clean_up_tokenization_spaces` was not set. It will be set to `True` by default. This behavior will be depracted in transformers v4.45, and will be then set to `False` by default. For more details check this issue: https://github.com/huggingface/transformers/issues/31884\n",
      "\u001b[36m(train_fn pid=8979)\u001b[0m   warnings.warn(\n",
      "\u001b[36m(train_fn pid=9086)\u001b[0m /opt/conda/lib/python3.10/site-packages/transformers/tokenization_utils_base.py:1601: FutureWarning: `clean_up_tokenization_spaces` was not set. It will be set to `True` by default. This behavior will be depracted in transformers v4.45, and will be then set to `False` by default. For more details check this issue: https://github.com/huggingface/transformers/issues/31884\n",
      "\u001b[36m(train_fn pid=9086)\u001b[0m   warnings.warn(\n",
      "\u001b[36m(train_fn pid=9174)\u001b[0m /opt/conda/lib/python3.10/site-packages/transformers/tokenization_utils_base.py:1601: FutureWarning: `clean_up_tokenization_spaces` was not set. It will be set to `True` by default. This behavior will be depracted in transformers v4.45, and will be then set to `False` by default. For more details check this issue: https://github.com/huggingface/transformers/issues/31884\n",
      "\u001b[36m(train_fn pid=9174)\u001b[0m   warnings.warn(\n",
      "\u001b[36m(train_fn pid=9262)\u001b[0m /opt/conda/lib/python3.10/site-packages/transformers/tokenization_utils_base.py:1601: FutureWarning: `clean_up_tokenization_spaces` was not set. It will be set to `True` by default. This behavior will be depracted in transformers v4.45, and will be then set to `False` by default. For more details check this issue: https://github.com/huggingface/transformers/issues/31884\n",
      "\u001b[36m(train_fn pid=9262)\u001b[0m   warnings.warn(\n",
      "2024-08-29 23:41:53,063\tINFO tune.py:1009 -- Wrote the latest version of all result files and experiment state to '/root/ray_results/train_fn_2024-08-29_18-12-45' in 0.0471s.\n",
      "2024-08-29 23:41:53,116\tINFO tune.py:1041 -- Total run time: 19747.85 seconds (19736.69 seconds for the tuning loop).\n"
     ]
    }
   ],
   "source": [
    "# %load_ext tensorboard\n",
    "# %tensorboard --logdir /kaggle/working/tensorboard_logs\n",
    "\n",
    "\n",
    "# ray.init(ignore_reinit_error=True)\n",
    "# reporter = CLIReporter(\n",
    "#     metric_columns=[\"loss\", \"accuracy\", \"custom_metric\", \"training_iteration\", \"train_loss\", \"train_accuracy\", \"early_stopping_epoch\"],\n",
    "#     print_intermediate_tables=False\n",
    "# )\n",
    "\n",
    "reporter = JupyterNotebookReporter(\n",
    "    metric_columns=[\"loss\", \"accuracy\", \"custom_metric\", \"training_iteration\", \"train_loss\", \"train_accuracy\", \"early_stopping_epoch\"],\n",
    "    print_intermediate_tables=False,\n",
    ")\n",
    "\n",
    "# tuner = tune.run(\n",
    "#     train_fn,\n",
    "#     config=search_space,\n",
    "#     num_samples=25,\n",
    "#     progress_reporter=reporter,\n",
    "#     resources_per_trial={\"cpu\": 4, \"gpu\": 2},  # Adjust resources as needed\n",
    "#     scheduler=ASHAScheduler(\n",
    "#         metric=\"accuracy\",\n",
    "#         mode=\"max\",\n",
    "#         max_t=15,\n",
    "#         grace_period=1,\n",
    "#         reduction_factor=2\n",
    "#     )\n",
    "# )\n",
    "\n",
    "# reporter = TensorBoardReporter(\n",
    "#     metric_columns=[\"loss\", \"accuracy\", \"training_iteration\", \"train_loss\", \"train_accuracy\"]\n",
    "# )\n",
    "\n",
    "\n",
    "result = tune.run(\n",
    "    train_fn,\n",
    "    resources_per_trial={\"cpu\": 2, \"gpu\": 1},\n",
    "    config=search_space,\n",
    "    num_samples=100,\n",
    "    scheduler=scheduler,\n",
    "    progress_reporter=reporter,\n",
    "    search_alg=optuna_search\n",
    ")"
   ]
  },
  {
   "cell_type": "markdown",
   "id": "2ac605d4",
   "metadata": {
    "papermill": {
     "duration": 0.045969,
     "end_time": "2024-08-29T23:41:53.390255",
     "exception": false,
     "start_time": "2024-08-29T23:41:53.344286",
     "status": "completed"
    },
    "tags": []
   },
   "source": [
    "## REPORTER RESULTS"
   ]
  },
  {
   "cell_type": "code",
   "execution_count": 63,
   "id": "f3eafd9e",
   "metadata": {
    "execution": {
     "iopub.execute_input": "2024-08-29T23:41:53.493253Z",
     "iopub.status.busy": "2024-08-29T23:41:53.491349Z",
     "iopub.status.idle": "2024-08-29T23:41:53.502028Z",
     "shell.execute_reply": "2024-08-29T23:41:53.501060Z"
    },
    "papermill": {
     "duration": 0.067828,
     "end_time": "2024-08-29T23:41:53.504073",
     "exception": false,
     "start_time": "2024-08-29T23:41:53.436245",
     "status": "completed"
    },
    "tags": []
   },
   "outputs": [
    {
     "name": "stdout",
     "output_type": "stream",
     "text": [
      "Best trial config: {'dropout_rate': 0.3, 'batch_size': 32, 'weight_decay': 0.001, 'lr': 2e-05, 'epochs': 10}\n",
      "Best trial final validation loss: 0.026479910709895194\n",
      "Best trial final validation accuracy: 0.9300232288037166\n",
      "Best trial final training loss: 0.012003432234217013\n",
      "Best trial final training accuracy: 0.9666368114643976\n",
      "Best trial final custom_metric: 0.03371814994773428\n",
      "Best trial final Early Stopping Epoch: 10\n",
      "NOTE: Both the accuracy are based on converting values > 0.5 to 1 and values < 0.5 to 0, hence, rely on the loss, MSE here.\n"
     ]
    }
   ],
   "source": [
    "# best_trial = result.get_best_trial(\"loss\", \"min\", \"last\")\n",
    "best_trial = result.get_best_trial(\"accuracy\", \"max\", \"last\")\n",
    "# best_checkpoint_dir = best_trial.checkpoint.value\n",
    "print(f\"Best trial config: {best_trial.config}\")\n",
    "print(f\"Best trial final validation loss: {best_trial.last_result['loss']}\")\n",
    "print(f\"Best trial final validation accuracy: {best_trial.last_result['accuracy']}\")\n",
    "print(f\"Best trial final training loss: {best_trial.last_result['train_loss']}\")\n",
    "print(f\"Best trial final training accuracy: {best_trial.last_result['train_accuracy']}\")\n",
    "print(f\"Best trial final custom_metric: {best_trial.last_result['custom_metric']}\")\n",
    "print(f\"Best trial final Early Stopping Epoch: {best_trial.last_result['early_stopping_epoch']}\")\n",
    "print(f\"NOTE: Both the accuracy are based on converting values > 0.5 to 1 and values < 0.5 to 0, hence, rely on the loss, MSE here.\")\n",
    "\n",
    "\n",
    "# print(\"\\nModel Parameters:\")\n",
    "# for name, param in best_model.named_parameters():\n",
    "#     print(f\"{name}: {param.size()}\")"
   ]
  },
  {
   "cell_type": "markdown",
   "id": "6bbeec21",
   "metadata": {
    "papermill": {
     "duration": 0.046068,
     "end_time": "2024-08-29T23:41:53.597249",
     "exception": false,
     "start_time": "2024-08-29T23:41:53.551181",
     "status": "completed"
    },
    "tags": []
   },
   "source": [
    "## Function to Train the Model with the Best Configuration"
   ]
  },
  {
   "cell_type": "code",
   "execution_count": 64,
   "id": "ad86cc0c",
   "metadata": {
    "execution": {
     "iopub.execute_input": "2024-08-29T23:41:53.693744Z",
     "iopub.status.busy": "2024-08-29T23:41:53.692777Z",
     "iopub.status.idle": "2024-08-29T23:41:53.719280Z",
     "shell.execute_reply": "2024-08-29T23:41:53.718346Z"
    },
    "papermill": {
     "duration": 0.077747,
     "end_time": "2024-08-29T23:41:53.721788",
     "exception": false,
     "start_time": "2024-08-29T23:41:53.644041",
     "status": "completed"
    },
    "tags": []
   },
   "outputs": [],
   "source": [
    "def train_best_model(config, device, train_dataset = train_ds_pd, val_dataset = validation_ds_pd):\n",
    "    \n",
    "    print(f\"\"\"\n",
    "    Tuning Model with:\n",
    "    {config}\n",
    "    \"\"\")\n",
    "    \n",
    "#     model = EmotionModel(\n",
    "#         roberta_model=RobertaModel.from_pretrained(\"roberta-base\"),\n",
    "#         n_classes=7,\n",
    "#         dropout_rate=config[\"dropout_rate\"]\n",
    "#     )\n",
    "    model = EmotionModel(\n",
    "        roberta_model=DebertaV2Model.from_pretrained('microsoft/deberta-v3-base'),\n",
    "        n_classes=7,\n",
    "        dropout_rate=config[\"dropout_rate\"]\n",
    "    )\n",
    "    model = model.to(device)\n",
    "    optimizer = optim.AdamW(model.parameters(), lr=config[\"lr\"], weight_decay=config[\"weight_decay\"])\n",
    "#     criterion = nn.BCEWithLogitsLoss()\n",
    "    criterion = nn.MSELoss()\n",
    "    scaler = GradScaler()\n",
    "    \n",
    "    ## DATASET ENCODING\n",
    "    \n",
    "    train_dataset = EmotionDataset(train_ds_pd, tokenizer, max_len=128)\n",
    "    val_dataset = EmotionDataset(validation_ds_pd, tokenizer, max_len=128)\n",
    "\n",
    "    train_loader = DataLoader(train_dataset, batch_size=config[\"batch_size\"], shuffle=True)\n",
    "    val_loader = DataLoader(val_dataset, batch_size=config[\"batch_size\"], shuffle=False)\n",
    "    \n",
    "    scheduler = optim.lr_scheduler.ReduceLROnPlateau(optimizer, mode='min', factor=0.1, patience=2, verbose=True)\n",
    "    \n",
    "    early_stopping = EarlyStopping(patience=5, verbose=True)\n",
    "\n",
    "    best_val_loss = float(\"inf\")\n",
    "    best_model_path = None\n",
    "    \n",
    "    # Early stopping parameters\n",
    "    patience = 5\n",
    "    best_val_loss = float('inf')\n",
    "    epochs_since_improvement = 0\n",
    "\n",
    "    \n",
    "    ### Running for config epochs +patience+1 for introducing noise. \n",
    "    \n",
    "    for epoch in range((config[\"epochs\"]+patience+1)):\n",
    "        model.train()\n",
    "        total_train_loss = 0.0\n",
    "        correct_train_preds = 0\n",
    "        total_train_preds = 0\n",
    "        \n",
    "        for batch in train_loader:\n",
    "            input_ids = batch[\"input_ids\"].to(device)\n",
    "            attention_mask = batch[\"attention_mask\"].to(device)\n",
    "            labels = batch[\"labels\"].to(device)\n",
    "\n",
    "            optimizer.zero_grad()\n",
    "#             outputs = model(input_ids=input_ids, attention_mask=attention_mask)\n",
    "#             loss = criterion(outputs, labels)\n",
    "#             loss.backward()\n",
    "#             optimizer.step()\n",
    "\n",
    "            with autocast(device_type=device.type):\n",
    "                outputs = model(input_ids=input_ids, attention_mask=attention_mask)\n",
    "                outputs = torch.sigmoid(outputs)\n",
    "                loss = criterion(outputs, labels)\n",
    "            \n",
    "            scaler.scale(loss).backward()\n",
    "            scaler.step(optimizer)\n",
    "            scaler.update()\n",
    "            \n",
    "# NOTE: Apply the sigmoid fn to outputs after BCEWithLogitsLoss because the loss fn already comes with sigmoid applied, so passing the sigmoid applied ouput will give erraneous results.\n",
    "# If we use BCELoss then pass the sigmoid applied output.\n",
    "            \n",
    "            total_train_loss += loss.item()\n",
    "#             correct_train_preds += (torch.argmax(outputs, dim=1) == torch.argmax(labels, dim=1)).sum().item()\n",
    "#             total_train_preds += labels.size(0)\n",
    "            correct_train_preds += ((outputs > 0.5) == (labels > 0.5)).sum().item()\n",
    "            total_train_preds += labels.numel()\n",
    "        \n",
    "        avg_train_loss = total_train_loss / len(train_loader)\n",
    "        train_accuracy = correct_train_preds / total_train_preds\n",
    "\n",
    "        # Validation phase\n",
    "        model.eval()\n",
    "        total_val_loss = 0.0\n",
    "        correct_val_preds = 0\n",
    "        total_val_preds = 0\n",
    "\n",
    "        with torch.no_grad():\n",
    "            for batch in val_loader:\n",
    "                input_ids = batch[\"input_ids\"].to(device)\n",
    "                attention_mask = batch[\"attention_mask\"].to(device)\n",
    "                labels = batch[\"labels\"].to(device)\n",
    "\n",
    "#                 outputs = model(input_ids=input_ids, attention_mask=attention_mask)\n",
    "#                 loss = criterion(outputs, labels)\n",
    "\n",
    "                with autocast(device_type=device.type):\n",
    "                    outputs = model(input_ids=input_ids, attention_mask=attention_mask)\n",
    "                    outputs = torch.sigmoid(outputs)\n",
    "                    loss = criterion(outputs, labels)\n",
    "                    \n",
    "# NOTE: Apply the sigmoid fn to outputs after BCEWithLogitsLoss because the loss fn already comes with sigmoid applied, so passing the sigmoid applied ouput will give erraneous results.\n",
    "# If we use BCELoss then pass the sigmoid applied output.\n",
    "                \n",
    "                total_val_loss += loss.item()\n",
    "#                 correct_val_preds += (torch.argmax(outputs, dim=1) == torch.argmax(labels, dim=1)).sum().item()\n",
    "#                 total_val_preds += labels.size(0)\n",
    "                correct_val_preds += ((outputs > 0.5) == (labels > 0.5)).sum().item()\n",
    "                total_val_preds += labels.numel()\n",
    "\n",
    "        avg_val_loss = total_val_loss / len(val_loader)\n",
    "        val_accuracy = correct_val_preds / total_val_preds\n",
    "\n",
    "        # Save the model checkpoint after each epoch\n",
    "        checkpoint_path = f\"/kaggle/working/best_checkpoint.pt\"\n",
    "#         torch.save(model.state_dict(), checkpoint_path)\n",
    "\n",
    "#         # Save the best model based on validation loss\n",
    "#         if avg_val_loss < best_val_loss:\n",
    "#             best_val_loss = avg_val_loss\n",
    "#             best_model_path = checkpoint_path\n",
    "\n",
    "        # Learning rate scheduler step\n",
    "        scheduler.step(avg_val_loss)\n",
    "\n",
    "        if avg_val_loss < best_val_loss:\n",
    "            best_val_loss = avg_val_loss\n",
    "            epochs_since_improvement = 0\n",
    "            best_model_path = checkpoint_path\n",
    "            # Save the model checkpoint with the best validation loss\n",
    "#             checkpoint_path = f\"/kaggle/working/best_checkpoint.pt\"\n",
    "#             torch.save(model.state_dict(), checkpoint_path)\n",
    "            torch.save({\n",
    "                'model_state_dict': model.state_dict(),\n",
    "                'config': config  # Save configuration\n",
    "            }, checkpoint_path)\n",
    "    \n",
    "        else:\n",
    "            epochs_since_improvement += 1\n",
    "\n",
    "        early_stopping(avg_val_loss, model)\n",
    "        if early_stopping.early_stop:\n",
    "            print(f\"Early stopping at epoch {epoch+1}\")\n",
    "            print(f\"Best Model Epoch Saved: {epoch - patience+1}\")\n",
    "#             print(\"Early stopping\")\n",
    "            break\n",
    "        \n",
    "#         if epochs_since_improvement >= patience:\n",
    "#             print(f\"Early stopping at epoch {epoch + 1}\")\n",
    "#             print(f\"Best Model Epoch Saved: {epoch - patience}\")\n",
    "#             break\n",
    "            \n",
    "        custom_metric = calculate_custom_metric(avg_val_loss, avg_train_loss)        \n",
    "#         custom_metric = calculate_custom_metric(avg_val_loss, val_accuracy, avg_train_loss, train_accuracy)\n",
    "        print(f\"\"\"\n",
    "        Validation Loss: {avg_val_loss},\n",
    "        Training Loss: {avg_train_loss},\n",
    "        Argmax Binary Validation Accuracy: {val_accuracy},\n",
    "        Argmax Binary Training Accuracy: {train_accuracy},\n",
    "        Custom Metric: {custom_metric},\n",
    "        Epochs: {epoch+1}\n",
    "        \"\"\")\n",
    "    \n",
    "    print(f\"Best Validation Loss: {best_val_loss}, Best Validation accuracy: {val_accuracy}\")\n",
    "    \n",
    "    return model, best_model_path"
   ]
  },
  {
   "cell_type": "markdown",
   "id": "9224194e",
   "metadata": {
    "papermill": {
     "duration": 0.046782,
     "end_time": "2024-08-29T23:41:53.870229",
     "exception": false,
     "start_time": "2024-08-29T23:41:53.823447",
     "status": "completed"
    },
    "tags": []
   },
   "source": [
    "# BEST MODEL AFTER FINAL TRAINING & VALIDATION"
   ]
  },
  {
   "cell_type": "code",
   "execution_count": 65,
   "id": "7ed78b75",
   "metadata": {
    "execution": {
     "iopub.execute_input": "2024-08-29T23:41:53.966542Z",
     "iopub.status.busy": "2024-08-29T23:41:53.965699Z",
     "iopub.status.idle": "2024-08-29T23:56:40.589359Z",
     "shell.execute_reply": "2024-08-29T23:56:40.588326Z"
    },
    "papermill": {
     "duration": 886.73016,
     "end_time": "2024-08-29T23:56:40.647871",
     "exception": false,
     "start_time": "2024-08-29T23:41:53.917711",
     "status": "completed"
    },
    "tags": []
   },
   "outputs": [
    {
     "name": "stdout",
     "output_type": "stream",
     "text": [
      "\n",
      "    Tuning Model with:\n",
      "    {'dropout_rate': 0.3, 'batch_size': 32, 'weight_decay': 0.001, 'lr': 2e-05, 'epochs': 10}\n",
      "    \n",
      "\n",
      "        Validation Loss: 0.05399746051989496,\n",
      "        Training Loss: 0.08133941407182387,\n",
      "        Argmax Binary Validation Accuracy: 0.8893728222996515,\n",
      "        Argmax Binary Training Accuracy: 0.8630925724521784,\n",
      "        Custom Metric: 0.06766843729585942,\n",
      "        Epochs: 1\n",
      "        \n",
      "\n",
      "        Validation Loss: 0.04040440125390887,\n",
      "        Training Loss: 0.05019156983388322,\n",
      "        Argmax Binary Validation Accuracy: 0.9065040650406504,\n",
      "        Argmax Binary Training Accuracy: 0.8907619474121937,\n",
      "        Custom Metric: 0.045297985543896045,\n",
      "        Epochs: 2\n",
      "        \n",
      "\n",
      "        Validation Loss: 0.03679997811559588,\n",
      "        Training Loss: 0.03775902975882803,\n",
      "        Argmax Binary Validation Accuracy: 0.9102787456445993,\n",
      "        Argmax Binary Training Accuracy: 0.9121937176124368,\n",
      "        Custom Metric: 0.03727950393721195,\n",
      "        Epochs: 3\n",
      "        \n",
      "\n",
      "        Validation Loss: 0.032480860594660044,\n",
      "        Training Loss: 0.030939556152692862,\n",
      "        Argmax Binary Validation Accuracy: 0.9204413472706156,\n",
      "        Argmax Binary Training Accuracy: 0.925020792015866,\n",
      "        Custom Metric: 0.03325151281564363,\n",
      "        Epochs: 4\n",
      "        \n",
      "\n",
      "        Validation Loss: 0.032478304114192724,\n",
      "        Training Loss: 0.026329102852780905,\n",
      "        Argmax Binary Validation Accuracy: 0.9189895470383276,\n",
      "        Argmax Binary Training Accuracy: 0.9331136843452115,\n",
      "        Custom Metric: 0.03555290474489863,\n",
      "        Epochs: 5\n",
      "        \n",
      "\n",
      "        Validation Loss: 0.030301414895802736,\n",
      "        Training Loss: 0.022538544769798007,\n",
      "        Argmax Binary Validation Accuracy: 0.9207317073170732,\n",
      "        Argmax Binary Training Accuracy: 0.9423261467596443,\n",
      "        Custom Metric: 0.0341828499588051,\n",
      "        Epochs: 6\n",
      "        \n",
      "\n",
      "        Validation Loss: 0.03114848246332258,\n",
      "        Training Loss: 0.018889936305848617,\n",
      "        Argmax Binary Validation Accuracy: 0.9247967479674797,\n",
      "        Argmax Binary Training Accuracy: 0.9508028916895912,\n",
      "        Custom Metric: 0.03727775554205956,\n",
      "        Epochs: 7\n",
      "        \n",
      "\n",
      "        Validation Loss: 0.03063835552893579,\n",
      "        Training Loss: 0.0165759433925684,\n",
      "        Argmax Binary Validation Accuracy: 0.9227642276422764,\n",
      "        Argmax Binary Training Accuracy: 0.9578721770839997,\n",
      "        Custom Metric: 0.03766956159711948,\n",
      "        Epochs: 8\n",
      "        \n",
      "\n",
      "        Validation Loss: 0.0315241739153862,\n",
      "        Training Loss: 0.014998687703960708,\n",
      "        Argmax Binary Validation Accuracy: 0.921602787456446,\n",
      "        Argmax Binary Training Accuracy: 0.9603992067046254,\n",
      "        Custom Metric: 0.03978691702109895,\n",
      "        Epochs: 9\n",
      "        \n",
      "\n",
      "        Validation Loss: 0.02907537593273446,\n",
      "        Training Loss: 0.012948002134050642,\n",
      "        Argmax Binary Validation Accuracy: 0.9247967479674797,\n",
      "        Argmax Binary Training Accuracy: 0.9654532659458768,\n",
      "        Custom Metric: 0.03713906283207637,\n",
      "        Epochs: 10\n",
      "        \n",
      "\n",
      "        Validation Loss: 0.029212061897851527,\n",
      "        Training Loss: 0.012505145447461733,\n",
      "        Argmax Binary Validation Accuracy: 0.9274099883855982,\n",
      "        Argmax Binary Training Accuracy: 0.9656771799628943,\n",
      "        Custom Metric: 0.037565520123046425,\n",
      "        Epochs: 11\n",
      "        \n",
      "\n",
      "        Validation Loss: 0.029171479167416692,\n",
      "        Training Loss: 0.012049039303591209,\n",
      "        Argmax Binary Validation Accuracy: 0.9265389082462253,\n",
      "        Argmax Binary Training Accuracy: 0.9663489220139466,\n",
      "        Custom Metric: 0.037732699099329435,\n",
      "        Epochs: 12\n",
      "        \n",
      "\n",
      "        Validation Loss: 0.029040553781669587,\n",
      "        Training Loss: 0.011869484442286193,\n",
      "        Argmax Binary Validation Accuracy: 0.9271196283391405,\n",
      "        Argmax Binary Training Accuracy: 0.967180602648583,\n",
      "        Custom Metric: 0.037626088451361284,\n",
      "        Epochs: 13\n",
      "        \n",
      "\n",
      "        Validation Loss: 0.028963963501155376,\n",
      "        Training Loss: 0.011704542291616755,\n",
      "        Argmax Binary Validation Accuracy: 0.9256678281068524,\n",
      "        Argmax Binary Training Accuracy: 0.9666687991811145,\n",
      "        Custom Metric: 0.037593674105924686,\n",
      "        Epochs: 14\n",
      "        \n",
      "\n",
      "        Validation Loss: 0.029027810087427497,\n",
      "        Training Loss: 0.011482658862535442,\n",
      "        Argmax Binary Validation Accuracy: 0.9259581881533101,\n",
      "        Argmax Binary Training Accuracy: 0.9675324675324676,\n",
      "        Custom Metric: 0.037800385699873526,\n",
      "        Epochs: 15\n",
      "        \n",
      "\n",
      "        Validation Loss: 0.028925861872266978,\n",
      "        Training Loss: 0.01114071727996426,\n",
      "        Argmax Binary Validation Accuracy: 0.9256678281068524,\n",
      "        Argmax Binary Training Accuracy: 0.9682361973002367,\n",
      "        Custom Metric: 0.03781843416841833,\n",
      "        Epochs: 16\n",
      "        \n",
      "Best Validation Loss: 0.028925861872266978, Best Validation accuracy: 0.9256678281068524\n"
     ]
    }
   ],
   "source": [
    "best_config = best_trial.config\n",
    "\n",
    "device = torch.device(\"cuda\" if torch.cuda.is_available() else \"cpu\")\n",
    "\n",
    "# Train the model with the best configuration\n",
    "best_model, best_model_path = train_best_model(best_config, device, train_ds_pd, validation_ds_pd)\n"
   ]
  },
  {
   "cell_type": "markdown",
   "id": "c7f04678",
   "metadata": {
    "papermill": {
     "duration": 0.047399,
     "end_time": "2024-08-29T23:56:40.743495",
     "exception": false,
     "start_time": "2024-08-29T23:56:40.696096",
     "status": "completed"
    },
    "tags": []
   },
   "source": [
    "# Save the best model\n"
   ]
  },
  {
   "cell_type": "code",
   "execution_count": 66,
   "id": "c909a625",
   "metadata": {
    "execution": {
     "iopub.execute_input": "2024-08-29T23:56:40.840594Z",
     "iopub.status.busy": "2024-08-29T23:56:40.840244Z",
     "iopub.status.idle": "2024-08-29T23:56:42.038659Z",
     "shell.execute_reply": "2024-08-29T23:56:42.037562Z"
    },
    "papermill": {
     "duration": 1.249508,
     "end_time": "2024-08-29T23:56:42.040795",
     "exception": false,
     "start_time": "2024-08-29T23:56:40.791287",
     "status": "completed"
    },
    "tags": []
   },
   "outputs": [
    {
     "name": "stdout",
     "output_type": "stream",
     "text": [
      "Best model saved at: /kaggle/working/final_best_model.pt\n"
     ]
    }
   ],
   "source": [
    "# Save the best model\n",
    "#### Comment when wanting to select the model which is stopped early to avoid over or under fitting\n",
    "\n",
    "# final_model_path = \"/kaggle/working/final_best_model.pt\"\n",
    "# torch.save(best_model.state_dict(), final_model_path) \n",
    "\n",
    "#### Comment when wanting to select the model which is stopped early to avoid over or under fitting\n",
    "\n",
    "final_model_path = \"/kaggle/working/final_best_model.pt\"\n",
    "# torch.save(best_model.state_dict(), final_model_path)\n",
    "torch.save({'model_state_dict': best_model.state_dict(),'config': best_config}, final_model_path)\n",
    "\n",
    "print(f\"Best model saved at: {final_model_path}\")"
   ]
  },
  {
   "cell_type": "code",
   "execution_count": 67,
   "id": "66a0ed76",
   "metadata": {
    "execution": {
     "iopub.execute_input": "2024-08-29T23:56:42.140576Z",
     "iopub.status.busy": "2024-08-29T23:56:42.140237Z",
     "iopub.status.idle": "2024-08-29T23:56:42.144111Z",
     "shell.execute_reply": "2024-08-29T23:56:42.143256Z"
    },
    "papermill": {
     "duration": 0.054819,
     "end_time": "2024-08-29T23:56:42.146005",
     "exception": false,
     "start_time": "2024-08-29T23:56:42.091186",
     "status": "completed"
    },
    "tags": []
   },
   "outputs": [],
   "source": [
    "# best_model = EmotionModel(\n",
    "#     roberta_model=RobertaModel.from_pretrained(\"roberta-base\"),\n",
    "#     n_classes=7,\n",
    "#     dropout_rate=best_trial.config[\"dropout_rate\"]\n",
    "# )"
   ]
  },
  {
   "cell_type": "code",
   "execution_count": 68,
   "id": "49200d9a",
   "metadata": {
    "execution": {
     "iopub.execute_input": "2024-08-29T23:56:42.243708Z",
     "iopub.status.busy": "2024-08-29T23:56:42.242852Z",
     "iopub.status.idle": "2024-08-29T23:56:42.247112Z",
     "shell.execute_reply": "2024-08-29T23:56:42.246238Z"
    },
    "papermill": {
     "duration": 0.055672,
     "end_time": "2024-08-29T23:56:42.248997",
     "exception": false,
     "start_time": "2024-08-29T23:56:42.193325",
     "status": "completed"
    },
    "tags": []
   },
   "outputs": [],
   "source": [
    "# kaggle_working_dir = '/kaggle/working'\n",
    "# best_model_path = os.path.join(kaggle_working_dir, \"checkpoint.pt\")\n",
    "# best_model.load_state_dict(torch.load(best_model_path))\n",
    "# best_model.eval()"
   ]
  },
  {
   "cell_type": "code",
   "execution_count": 69,
   "id": "dd214350",
   "metadata": {
    "execution": {
     "iopub.execute_input": "2024-08-29T23:56:42.344721Z",
     "iopub.status.busy": "2024-08-29T23:56:42.344386Z",
     "iopub.status.idle": "2024-08-29T23:56:42.348953Z",
     "shell.execute_reply": "2024-08-29T23:56:42.348079Z"
    },
    "papermill": {
     "duration": 0.054771,
     "end_time": "2024-08-29T23:56:42.350964",
     "exception": false,
     "start_time": "2024-08-29T23:56:42.296193",
     "status": "completed"
    },
    "tags": []
   },
   "outputs": [],
   "source": [
    "# # best_config = result.get_best_config(metric='accuracy', mode='max')\n",
    "# # best_trial = result.get_best_trial(metric='accuracy', mode='max')\n",
    "\n",
    "# best_config = result.get_best_config(metric='custom_metric', mode='min')\n",
    "# best_trial = result.get_best_trial(metric='custom_metric', mode='min')\n",
    "\n",
    "# print(f\"Best trial config: {best_trial.config}\")\n",
    "# print(f\"Best trial final validation loss: {best_trial.last_result['loss']}\")\n",
    "# print(f\"Best trial final validation accuracy: {best_trial.last_result['accuracy']}\")\n",
    "\n",
    "# print(\"\\nModel Parameters:\")\n",
    "# for name, param in best_model.named_parameters():\n",
    "#     print(f\"{name}: {param.size()}\")"
   ]
  },
  {
   "cell_type": "code",
   "execution_count": 70,
   "id": "94cbe663",
   "metadata": {
    "execution": {
     "iopub.execute_input": "2024-08-29T23:56:42.449644Z",
     "iopub.status.busy": "2024-08-29T23:56:42.449347Z",
     "iopub.status.idle": "2024-08-29T23:56:42.453296Z",
     "shell.execute_reply": "2024-08-29T23:56:42.452407Z"
    },
    "papermill": {
     "duration": 0.05581,
     "end_time": "2024-08-29T23:56:42.455259",
     "exception": false,
     "start_time": "2024-08-29T23:56:42.399449",
     "status": "completed"
    },
    "tags": []
   },
   "outputs": [],
   "source": [
    "# best_trial = tuner.get_best_trial(\"loss\", \"min\", \"last\")\n",
    "# print(f\"Best trial config: {best_trial.config}\")\n",
    "# print(f\"Best trial final validation loss: {best_trial.last_result['loss']}\")\n",
    "# print(f\"Best trial final validation accuracy: {best_trial.last_result['accuracy']}\")"
   ]
  },
  {
   "cell_type": "code",
   "execution_count": 71,
   "id": "2a337916",
   "metadata": {
    "execution": {
     "iopub.execute_input": "2024-08-29T23:56:42.552963Z",
     "iopub.status.busy": "2024-08-29T23:56:42.552251Z",
     "iopub.status.idle": "2024-08-29T23:56:42.556522Z",
     "shell.execute_reply": "2024-08-29T23:56:42.555708Z"
    },
    "papermill": {
     "duration": 0.055321,
     "end_time": "2024-08-29T23:56:42.558270",
     "exception": false,
     "start_time": "2024-08-29T23:56:42.502949",
     "status": "completed"
    },
    "tags": []
   },
   "outputs": [],
   "source": [
    "# # Load the best model\n",
    "# best_model = EmotionModel(\n",
    "#     roberta_model=RobertaModel.from_pretrained(\"roberta-base\"),\n",
    "#     n_classes=7,\n",
    "#     dropout_rate=best_trial.config[\"dropout_rate\"]\n",
    "# )\n",
    "\n",
    "# best_model_path = os.path.join(best_checkpoint_dir, \"checkpoint.pt\")\n",
    "# best_model.load_state_dict(torch.load(best_model_path))\n",
    "# best_model.eval()\n",
    "\n",
    "# print(f\"Best trial config: {best_trial.config}\")\n",
    "# print(f\"Best trial final validation loss: {best_trial.last_result['loss']}\")\n",
    "# print(f\"Best trial final validation accuracy: {best_trial.last_result['accuracy']}\")"
   ]
  },
  {
   "cell_type": "code",
   "execution_count": 72,
   "id": "d47f8b26",
   "metadata": {
    "execution": {
     "iopub.execute_input": "2024-08-29T23:56:42.654530Z",
     "iopub.status.busy": "2024-08-29T23:56:42.654250Z",
     "iopub.status.idle": "2024-08-29T23:56:42.657915Z",
     "shell.execute_reply": "2024-08-29T23:56:42.657084Z"
    },
    "papermill": {
     "duration": 0.053881,
     "end_time": "2024-08-29T23:56:42.659655",
     "exception": false,
     "start_time": "2024-08-29T23:56:42.605774",
     "status": "completed"
    },
    "tags": []
   },
   "outputs": [],
   "source": [
    "# # Save the best model\n",
    "# best_model = EmotionClassifier(hidden_size=best_config['hidden_size'], dropout_rate=best_config['dropout_rate']).to(device)\n",
    "# checkpoint_path = \"best_model.pth\"\n",
    "# torch.save(best_model.state_dict(), checkpoint_path)\n",
    "# print(f\"Best model saved to {checkpoint_path}\")"
   ]
  },
  {
   "cell_type": "code",
   "execution_count": 73,
   "id": "0febe64f",
   "metadata": {
    "execution": {
     "iopub.execute_input": "2024-08-29T23:56:42.756480Z",
     "iopub.status.busy": "2024-08-29T23:56:42.755903Z",
     "iopub.status.idle": "2024-08-29T23:56:42.759839Z",
     "shell.execute_reply": "2024-08-29T23:56:42.758948Z"
    },
    "papermill": {
     "duration": 0.05438,
     "end_time": "2024-08-29T23:56:42.761828",
     "exception": false,
     "start_time": "2024-08-29T23:56:42.707448",
     "status": "completed"
    },
    "tags": []
   },
   "outputs": [],
   "source": [
    "# # Save the best model\n",
    "# best_model = EmotionClassifier(hidden_size=best_config['hidden_size'], dropout_rate=best_config['dropout_rate']).to(device)\n",
    "# bestmodel_path = f\"/kaggle/working/bestmodel.pt\"\n",
    "# torch.save(best_model.state_dict(), checkpoint_path)\n",
    "# print(f\"Best model saved to {bestmodel_path}\")"
   ]
  },
  {
   "cell_type": "markdown",
   "id": "c0d6e786",
   "metadata": {
    "papermill": {
     "duration": 0.048424,
     "end_time": "2024-08-29T23:56:42.857637",
     "exception": false,
     "start_time": "2024-08-29T23:56:42.809213",
     "status": "completed"
    },
    "tags": []
   },
   "source": [
    "# Load the best model"
   ]
  },
  {
   "cell_type": "code",
   "execution_count": 74,
   "id": "0c7c5ccd",
   "metadata": {
    "execution": {
     "iopub.execute_input": "2024-08-29T23:56:42.954976Z",
     "iopub.status.busy": "2024-08-29T23:56:42.954716Z",
     "iopub.status.idle": "2024-08-29T23:56:44.535513Z",
     "shell.execute_reply": "2024-08-29T23:56:44.534408Z"
    },
    "papermill": {
     "duration": 1.632401,
     "end_time": "2024-08-29T23:56:44.537523",
     "exception": false,
     "start_time": "2024-08-29T23:56:42.905122",
     "status": "completed"
    },
    "tags": []
   },
   "outputs": [
    {
     "name": "stdout",
     "output_type": "stream",
     "text": [
      "Loaded model from /kaggle/working/final_best_model.pt for inference.\n"
     ]
    }
   ],
   "source": [
    "# Load the best model\n",
    "final_model_path = \"/kaggle/working/final_best_model.pt\"\n",
    "# final_model_path = \"/kaggle/input/tachygraphy-lv2-emotion-moodtags-v1/transformers/default/1/final_best_model.pt\"\n",
    "\n",
    "\n",
    "checkpoint = torch.load(final_model_path)\n",
    "config = checkpoint['config']\n",
    "\n",
    "# loaded_model = EmotionModel(\n",
    "#     roberta_model=RobertaModel.from_pretrained(\"roberta-base\"),\n",
    "#     n_classes=7,\n",
    "#     dropout_rate=config[\"dropout_rate\"]\n",
    "# )\n",
    "loaded_model = EmotionModel(\n",
    "    roberta_model=DebertaV2Model.from_pretrained('microsoft/deberta-v3-base'),\n",
    "    n_classes=7,\n",
    "    dropout_rate=config[\"dropout_rate\"]\n",
    ")\n",
    "loaded_model.load_state_dict(checkpoint['model_state_dict'])\n",
    "loaded_model = loaded_model.to(device)\n",
    "loaded_model.eval()\n",
    "\n",
    "print(f\"Loaded model from {final_model_path} for inference.\")\n"
   ]
  },
  {
   "cell_type": "markdown",
   "id": "7268b31d",
   "metadata": {
    "papermill": {
     "duration": 0.048738,
     "end_time": "2024-08-29T23:56:44.636913",
     "exception": false,
     "start_time": "2024-08-29T23:56:44.588175",
     "status": "completed"
    },
    "tags": []
   },
   "source": [
    "# PREDICT ON RANDOM INPUT"
   ]
  },
  {
   "cell_type": "markdown",
   "id": "38f2536d",
   "metadata": {
    "papermill": {
     "duration": 0.047819,
     "end_time": "2024-08-29T23:56:44.733355",
     "exception": false,
     "start_time": "2024-08-29T23:56:44.685536",
     "status": "completed"
    },
    "tags": []
   },
   "source": [
    "## Prediction Function"
   ]
  },
  {
   "cell_type": "code",
   "execution_count": 75,
   "id": "ed1c7d26",
   "metadata": {
    "execution": {
     "iopub.execute_input": "2024-08-29T23:56:44.834171Z",
     "iopub.status.busy": "2024-08-29T23:56:44.833755Z",
     "iopub.status.idle": "2024-08-29T23:56:44.841268Z",
     "shell.execute_reply": "2024-08-29T23:56:44.840344Z"
    },
    "papermill": {
     "duration": 0.061662,
     "end_time": "2024-08-29T23:56:44.843318",
     "exception": false,
     "start_time": "2024-08-29T23:56:44.781656",
     "status": "completed"
    },
    "tags": []
   },
   "outputs": [],
   "source": [
    "def predict(text, model, tokenizer, device, max_len=128):\n",
    "    inputs = tokenizer.encode_plus(\n",
    "        text,\n",
    "        None,\n",
    "        add_special_tokens=True,\n",
    "        max_length=max_len,\n",
    "        padding='max_length',\n",
    "        truncation=True,\n",
    "        return_token_type_ids=False,\n",
    "        return_tensors='pt'\n",
    "    )\n",
    "    input_ids = inputs['input_ids']\n",
    "    attention_mask = inputs['attention_mask']\n",
    "    \n",
    "    input_ids = input_ids.to(device)\n",
    "    attention_mask = attention_mask.to(device)\n",
    "    \n",
    "    with torch.no_grad():\n",
    "        outputs = model(input_ids=input_ids, attention_mask=attention_mask)\n",
    "    \n",
    "    return torch.sigmoid(outputs).cpu().numpy()"
   ]
  },
  {
   "cell_type": "code",
   "execution_count": 76,
   "id": "02a9849c",
   "metadata": {
    "execution": {
     "iopub.execute_input": "2024-08-29T23:56:44.948335Z",
     "iopub.status.busy": "2024-08-29T23:56:44.947952Z",
     "iopub.status.idle": "2024-08-29T23:56:44.957672Z",
     "shell.execute_reply": "2024-08-29T23:56:44.956923Z"
    },
    "papermill": {
     "duration": 0.06192,
     "end_time": "2024-08-29T23:56:44.959783",
     "exception": false,
     "start_time": "2024-08-29T23:56:44.897863",
     "status": "completed"
    },
    "tags": []
   },
   "outputs": [],
   "source": [
    "best_model = loaded_model\n",
    "best_model = best_model.to(device)"
   ]
  },
  {
   "cell_type": "code",
   "execution_count": 77,
   "id": "182666de",
   "metadata": {
    "execution": {
     "iopub.execute_input": "2024-08-29T23:56:45.060072Z",
     "iopub.status.busy": "2024-08-29T23:56:45.059766Z",
     "iopub.status.idle": "2024-08-29T23:56:45.901225Z",
     "shell.execute_reply": "2024-08-29T23:56:45.900308Z"
    },
    "papermill": {
     "duration": 0.892625,
     "end_time": "2024-08-29T23:56:45.903503",
     "exception": false,
     "start_time": "2024-08-29T23:56:45.010878",
     "status": "completed"
    },
    "tags": []
   },
   "outputs": [],
   "source": [
    "import matplotlib.pyplot as plt\n",
    "import plotly.express as px"
   ]
  },
  {
   "cell_type": "markdown",
   "id": "3e806c0c",
   "metadata": {
    "papermill": {
     "duration": 0.057548,
     "end_time": "2024-08-29T23:56:46.010607",
     "exception": false,
     "start_time": "2024-08-29T23:56:45.953059",
     "status": "completed"
    },
    "tags": []
   },
   "source": [
    "## Samples & Random Predictions"
   ]
  },
  {
   "cell_type": "code",
   "execution_count": 78,
   "id": "7ca91f8f",
   "metadata": {
    "execution": {
     "iopub.execute_input": "2024-08-29T23:56:46.109429Z",
     "iopub.status.busy": "2024-08-29T23:56:46.108631Z",
     "iopub.status.idle": "2024-08-29T23:56:48.220783Z",
     "shell.execute_reply": "2024-08-29T23:56:48.219817Z"
    },
    "papermill": {
     "duration": 2.164176,
     "end_time": "2024-08-29T23:56:48.223042",
     "exception": false,
     "start_time": "2024-08-29T23:56:46.058866",
     "status": "completed"
    },
    "tags": []
   },
   "outputs": [
    {
     "name": "stdout",
     "output_type": "stream",
     "text": [
      "Predicted emotions for 'hey! hru, wanna ply valo toni8?': [[0.03541061 0.02611484 0.07163358 0.15067203 0.24939255 0.07638874\n",
      "  0.42908403]]\n"
     ]
    },
    {
     "data": {
      "text/html": [
       "        <script type=\"text/javascript\">\n",
       "        window.PlotlyConfig = {MathJaxConfig: 'local'};\n",
       "        if (window.MathJax && window.MathJax.Hub && window.MathJax.Hub.Config) {window.MathJax.Hub.Config({SVG: {font: \"STIX-Web\"}});}\n",
       "        if (typeof require !== 'undefined') {\n",
       "        require.undef(\"plotly\");\n",
       "        requirejs.config({\n",
       "            paths: {\n",
       "                'plotly': ['https://cdn.plot.ly/plotly-2.32.0.min']\n",
       "            }\n",
       "        });\n",
       "        require(['plotly'], function(Plotly) {\n",
       "            window._Plotly = Plotly;\n",
       "        });\n",
       "        }\n",
       "        </script>\n",
       "        "
      ]
     },
     "metadata": {},
     "output_type": "display_data"
    },
    {
     "data": {
      "text/html": [
       "<div>                            <div id=\"d254d7af-0fca-49e7-acf9-fd86f020261f\" class=\"plotly-graph-div\" style=\"height:525px; width:100%;\"></div>            <script type=\"text/javascript\">                require([\"plotly\"], function(Plotly) {                    window.PLOTLYENV=window.PLOTLYENV || {};                                    if (document.getElementById(\"d254d7af-0fca-49e7-acf9-fd86f020261f\")) {                    Plotly.newPlot(                        \"d254d7af-0fca-49e7-acf9-fd86f020261f\",                        [{\"hovertemplate\":\"r=%{r}\\u003cbr\\u003etheta=%{theta}\\u003cextra\\u003e\\u003c\\u002fextra\\u003e\",\"legendgroup\":\"\",\"line\":{\"color\":\"#636efa\",\"dash\":\"solid\"},\"marker\":{\"symbol\":\"circle\"},\"mode\":\"lines\",\"name\":\"\",\"r\":[0.03541061,0.02611484,0.07163358,0.15067203,0.24939255,0.07638874,0.42908403,0.03541061],\"showlegend\":false,\"subplot\":\"polar\",\"theta\":[\"anger\",\"disgust\",\"fear\",\"joy\",\"neutral\",\"sadness\",\"surprise\",\"anger\"],\"type\":\"scatterpolar\"}],                        {\"template\":{\"data\":{\"histogram2dcontour\":[{\"type\":\"histogram2dcontour\",\"colorbar\":{\"outlinewidth\":0,\"ticks\":\"\"},\"colorscale\":[[0.0,\"#0d0887\"],[0.1111111111111111,\"#46039f\"],[0.2222222222222222,\"#7201a8\"],[0.3333333333333333,\"#9c179e\"],[0.4444444444444444,\"#bd3786\"],[0.5555555555555556,\"#d8576b\"],[0.6666666666666666,\"#ed7953\"],[0.7777777777777778,\"#fb9f3a\"],[0.8888888888888888,\"#fdca26\"],[1.0,\"#f0f921\"]]}],\"choropleth\":[{\"type\":\"choropleth\",\"colorbar\":{\"outlinewidth\":0,\"ticks\":\"\"}}],\"histogram2d\":[{\"type\":\"histogram2d\",\"colorbar\":{\"outlinewidth\":0,\"ticks\":\"\"},\"colorscale\":[[0.0,\"#0d0887\"],[0.1111111111111111,\"#46039f\"],[0.2222222222222222,\"#7201a8\"],[0.3333333333333333,\"#9c179e\"],[0.4444444444444444,\"#bd3786\"],[0.5555555555555556,\"#d8576b\"],[0.6666666666666666,\"#ed7953\"],[0.7777777777777778,\"#fb9f3a\"],[0.8888888888888888,\"#fdca26\"],[1.0,\"#f0f921\"]]}],\"heatmap\":[{\"type\":\"heatmap\",\"colorbar\":{\"outlinewidth\":0,\"ticks\":\"\"},\"colorscale\":[[0.0,\"#0d0887\"],[0.1111111111111111,\"#46039f\"],[0.2222222222222222,\"#7201a8\"],[0.3333333333333333,\"#9c179e\"],[0.4444444444444444,\"#bd3786\"],[0.5555555555555556,\"#d8576b\"],[0.6666666666666666,\"#ed7953\"],[0.7777777777777778,\"#fb9f3a\"],[0.8888888888888888,\"#fdca26\"],[1.0,\"#f0f921\"]]}],\"heatmapgl\":[{\"type\":\"heatmapgl\",\"colorbar\":{\"outlinewidth\":0,\"ticks\":\"\"},\"colorscale\":[[0.0,\"#0d0887\"],[0.1111111111111111,\"#46039f\"],[0.2222222222222222,\"#7201a8\"],[0.3333333333333333,\"#9c179e\"],[0.4444444444444444,\"#bd3786\"],[0.5555555555555556,\"#d8576b\"],[0.6666666666666666,\"#ed7953\"],[0.7777777777777778,\"#fb9f3a\"],[0.8888888888888888,\"#fdca26\"],[1.0,\"#f0f921\"]]}],\"contourcarpet\":[{\"type\":\"contourcarpet\",\"colorbar\":{\"outlinewidth\":0,\"ticks\":\"\"}}],\"contour\":[{\"type\":\"contour\",\"colorbar\":{\"outlinewidth\":0,\"ticks\":\"\"},\"colorscale\":[[0.0,\"#0d0887\"],[0.1111111111111111,\"#46039f\"],[0.2222222222222222,\"#7201a8\"],[0.3333333333333333,\"#9c179e\"],[0.4444444444444444,\"#bd3786\"],[0.5555555555555556,\"#d8576b\"],[0.6666666666666666,\"#ed7953\"],[0.7777777777777778,\"#fb9f3a\"],[0.8888888888888888,\"#fdca26\"],[1.0,\"#f0f921\"]]}],\"surface\":[{\"type\":\"surface\",\"colorbar\":{\"outlinewidth\":0,\"ticks\":\"\"},\"colorscale\":[[0.0,\"#0d0887\"],[0.1111111111111111,\"#46039f\"],[0.2222222222222222,\"#7201a8\"],[0.3333333333333333,\"#9c179e\"],[0.4444444444444444,\"#bd3786\"],[0.5555555555555556,\"#d8576b\"],[0.6666666666666666,\"#ed7953\"],[0.7777777777777778,\"#fb9f3a\"],[0.8888888888888888,\"#fdca26\"],[1.0,\"#f0f921\"]]}],\"mesh3d\":[{\"type\":\"mesh3d\",\"colorbar\":{\"outlinewidth\":0,\"ticks\":\"\"}}],\"scatter\":[{\"fillpattern\":{\"fillmode\":\"overlay\",\"size\":10,\"solidity\":0.2},\"type\":\"scatter\"}],\"parcoords\":[{\"type\":\"parcoords\",\"line\":{\"colorbar\":{\"outlinewidth\":0,\"ticks\":\"\"}}}],\"scatterpolargl\":[{\"type\":\"scatterpolargl\",\"marker\":{\"colorbar\":{\"outlinewidth\":0,\"ticks\":\"\"}}}],\"bar\":[{\"error_x\":{\"color\":\"#2a3f5f\"},\"error_y\":{\"color\":\"#2a3f5f\"},\"marker\":{\"line\":{\"color\":\"#E5ECF6\",\"width\":0.5},\"pattern\":{\"fillmode\":\"overlay\",\"size\":10,\"solidity\":0.2}},\"type\":\"bar\"}],\"scattergeo\":[{\"type\":\"scattergeo\",\"marker\":{\"colorbar\":{\"outlinewidth\":0,\"ticks\":\"\"}}}],\"scatterpolar\":[{\"type\":\"scatterpolar\",\"marker\":{\"colorbar\":{\"outlinewidth\":0,\"ticks\":\"\"}}}],\"histogram\":[{\"marker\":{\"pattern\":{\"fillmode\":\"overlay\",\"size\":10,\"solidity\":0.2}},\"type\":\"histogram\"}],\"scattergl\":[{\"type\":\"scattergl\",\"marker\":{\"colorbar\":{\"outlinewidth\":0,\"ticks\":\"\"}}}],\"scatter3d\":[{\"type\":\"scatter3d\",\"line\":{\"colorbar\":{\"outlinewidth\":0,\"ticks\":\"\"}},\"marker\":{\"colorbar\":{\"outlinewidth\":0,\"ticks\":\"\"}}}],\"scattermapbox\":[{\"type\":\"scattermapbox\",\"marker\":{\"colorbar\":{\"outlinewidth\":0,\"ticks\":\"\"}}}],\"scatterternary\":[{\"type\":\"scatterternary\",\"marker\":{\"colorbar\":{\"outlinewidth\":0,\"ticks\":\"\"}}}],\"scattercarpet\":[{\"type\":\"scattercarpet\",\"marker\":{\"colorbar\":{\"outlinewidth\":0,\"ticks\":\"\"}}}],\"carpet\":[{\"aaxis\":{\"endlinecolor\":\"#2a3f5f\",\"gridcolor\":\"white\",\"linecolor\":\"white\",\"minorgridcolor\":\"white\",\"startlinecolor\":\"#2a3f5f\"},\"baxis\":{\"endlinecolor\":\"#2a3f5f\",\"gridcolor\":\"white\",\"linecolor\":\"white\",\"minorgridcolor\":\"white\",\"startlinecolor\":\"#2a3f5f\"},\"type\":\"carpet\"}],\"table\":[{\"cells\":{\"fill\":{\"color\":\"#EBF0F8\"},\"line\":{\"color\":\"white\"}},\"header\":{\"fill\":{\"color\":\"#C8D4E3\"},\"line\":{\"color\":\"white\"}},\"type\":\"table\"}],\"barpolar\":[{\"marker\":{\"line\":{\"color\":\"#E5ECF6\",\"width\":0.5},\"pattern\":{\"fillmode\":\"overlay\",\"size\":10,\"solidity\":0.2}},\"type\":\"barpolar\"}],\"pie\":[{\"automargin\":true,\"type\":\"pie\"}]},\"layout\":{\"autotypenumbers\":\"strict\",\"colorway\":[\"#636efa\",\"#EF553B\",\"#00cc96\",\"#ab63fa\",\"#FFA15A\",\"#19d3f3\",\"#FF6692\",\"#B6E880\",\"#FF97FF\",\"#FECB52\"],\"font\":{\"color\":\"#2a3f5f\"},\"hovermode\":\"closest\",\"hoverlabel\":{\"align\":\"left\"},\"paper_bgcolor\":\"white\",\"plot_bgcolor\":\"#E5ECF6\",\"polar\":{\"bgcolor\":\"#E5ECF6\",\"angularaxis\":{\"gridcolor\":\"white\",\"linecolor\":\"white\",\"ticks\":\"\"},\"radialaxis\":{\"gridcolor\":\"white\",\"linecolor\":\"white\",\"ticks\":\"\"}},\"ternary\":{\"bgcolor\":\"#E5ECF6\",\"aaxis\":{\"gridcolor\":\"white\",\"linecolor\":\"white\",\"ticks\":\"\"},\"baxis\":{\"gridcolor\":\"white\",\"linecolor\":\"white\",\"ticks\":\"\"},\"caxis\":{\"gridcolor\":\"white\",\"linecolor\":\"white\",\"ticks\":\"\"}},\"coloraxis\":{\"colorbar\":{\"outlinewidth\":0,\"ticks\":\"\"}},\"colorscale\":{\"sequential\":[[0.0,\"#0d0887\"],[0.1111111111111111,\"#46039f\"],[0.2222222222222222,\"#7201a8\"],[0.3333333333333333,\"#9c179e\"],[0.4444444444444444,\"#bd3786\"],[0.5555555555555556,\"#d8576b\"],[0.6666666666666666,\"#ed7953\"],[0.7777777777777778,\"#fb9f3a\"],[0.8888888888888888,\"#fdca26\"],[1.0,\"#f0f921\"]],\"sequentialminus\":[[0.0,\"#0d0887\"],[0.1111111111111111,\"#46039f\"],[0.2222222222222222,\"#7201a8\"],[0.3333333333333333,\"#9c179e\"],[0.4444444444444444,\"#bd3786\"],[0.5555555555555556,\"#d8576b\"],[0.6666666666666666,\"#ed7953\"],[0.7777777777777778,\"#fb9f3a\"],[0.8888888888888888,\"#fdca26\"],[1.0,\"#f0f921\"]],\"diverging\":[[0,\"#8e0152\"],[0.1,\"#c51b7d\"],[0.2,\"#de77ae\"],[0.3,\"#f1b6da\"],[0.4,\"#fde0ef\"],[0.5,\"#f7f7f7\"],[0.6,\"#e6f5d0\"],[0.7,\"#b8e186\"],[0.8,\"#7fbc41\"],[0.9,\"#4d9221\"],[1,\"#276419\"]]},\"xaxis\":{\"gridcolor\":\"white\",\"linecolor\":\"white\",\"ticks\":\"\",\"title\":{\"standoff\":15},\"zerolinecolor\":\"white\",\"automargin\":true,\"zerolinewidth\":2},\"yaxis\":{\"gridcolor\":\"white\",\"linecolor\":\"white\",\"ticks\":\"\",\"title\":{\"standoff\":15},\"zerolinecolor\":\"white\",\"automargin\":true,\"zerolinewidth\":2},\"scene\":{\"xaxis\":{\"backgroundcolor\":\"#E5ECF6\",\"gridcolor\":\"white\",\"linecolor\":\"white\",\"showbackground\":true,\"ticks\":\"\",\"zerolinecolor\":\"white\",\"gridwidth\":2},\"yaxis\":{\"backgroundcolor\":\"#E5ECF6\",\"gridcolor\":\"white\",\"linecolor\":\"white\",\"showbackground\":true,\"ticks\":\"\",\"zerolinecolor\":\"white\",\"gridwidth\":2},\"zaxis\":{\"backgroundcolor\":\"#E5ECF6\",\"gridcolor\":\"white\",\"linecolor\":\"white\",\"showbackground\":true,\"ticks\":\"\",\"zerolinecolor\":\"white\",\"gridwidth\":2}},\"shapedefaults\":{\"line\":{\"color\":\"#2a3f5f\"}},\"annotationdefaults\":{\"arrowcolor\":\"#2a3f5f\",\"arrowhead\":0,\"arrowwidth\":1},\"geo\":{\"bgcolor\":\"white\",\"landcolor\":\"#E5ECF6\",\"subunitcolor\":\"white\",\"showland\":true,\"showlakes\":true,\"lakecolor\":\"white\"},\"title\":{\"x\":0.05},\"mapbox\":{\"style\":\"light\"}}},\"polar\":{\"domain\":{\"x\":[0.0,1.0],\"y\":[0.0,1.0]},\"angularaxis\":{\"direction\":\"clockwise\",\"rotation\":90}},\"legend\":{\"tracegroupgap\":0},\"margin\":{\"t\":60}},                        {\"responsive\": true}                    ).then(function(){\n",
       "                            \n",
       "var gd = document.getElementById('d254d7af-0fca-49e7-acf9-fd86f020261f');\n",
       "var x = new MutationObserver(function (mutations, observer) {{\n",
       "        var display = window.getComputedStyle(gd).display;\n",
       "        if (!display || display === 'none') {{\n",
       "            console.log([gd, 'removed!']);\n",
       "            Plotly.purge(gd);\n",
       "            observer.disconnect();\n",
       "        }}\n",
       "}});\n",
       "\n",
       "// Listen for the removal of the full notebook cells\n",
       "var notebookContainer = gd.closest('#notebook-container');\n",
       "if (notebookContainer) {{\n",
       "    x.observe(notebookContainer, {childList: true});\n",
       "}}\n",
       "\n",
       "// Listen for the clearing of the current output cell\n",
       "var outputEl = gd.closest('.output');\n",
       "if (outputEl) {{\n",
       "    x.observe(outputEl, {childList: true});\n",
       "}}\n",
       "\n",
       "                        })                };                });            </script>        </div>"
      ]
     },
     "metadata": {},
     "output_type": "display_data"
    },
    {
     "data": {
      "image/png": "[encoded data removed]",
      "text/plain": [
       "<Figure size 1500x500 with 1 Axes>"
      ]
     },
     "metadata": {},
     "output_type": "display_data"
    }
   ],
   "source": [
    "sample_text = \"hey! hru, wanna ply valo toni8?\"\n",
    "predictions = predict(sample_text, best_model, tokenizer, device, max_len=128)\n",
    "print(f\"Predicted emotions for '{sample_text}': {predictions}\")\n",
    "\n",
    "\n",
    "predictions_array = predictions.squeeze()  # Remove unnecessary dimensions\n",
    "\n",
    "emotion_moodtags = []\n",
    "for items in predictions_array:\n",
    "    emotion_moodtags.append(items)\n",
    "\n",
    "fig = px.line_polar(pd.DataFrame(dict(r=emotion_moodtags, theta=EMOTION_LABELS)), r='r', theta='theta', line_close=True)\n",
    "fig.show()\n",
    "\n",
    "\n",
    "\n",
    "    \n",
    "# Since predictions are probabilistic values, normalize to ensure they sum up to 1\n",
    "normalized_predictions = predictions_array / predictions_array.sum()  # Normalize the values\n",
    "\n",
    "\n",
    "## Horizontal Stacked Bar Plot\n",
    "\n",
    "fig, ax = plt.subplots(figsize=(15, 5))\n",
    "\n",
    "left = 0\n",
    "for i in range(len(normalized_predictions)):\n",
    "    ax.barh(0, normalized_predictions[i], color=plt.cm.tab10(i), left=left, label=EMOTION_LABELS[i])\n",
    "    left += normalized_predictions[i]\n",
    "\n",
    "# Add legend\n",
    "ax.set_xlim(0, 1)\n",
    "ax.set_yticks([])\n",
    "ax.set_xticks(np.arange(0, 1.1, 0.1))\n",
    "ax.legend(loc='upper center', bbox_to_anchor=(0.5, -0.05), ncol=len(EMOTION_LABELS))\n",
    "\n",
    "# Add title\n",
    "plt.title('Emotion Prediction Distribution')\n",
    "\n",
    "plt.show()"
   ]
  },
  {
   "cell_type": "code",
   "execution_count": 79,
   "id": "5b16dd6e",
   "metadata": {
    "execution": {
     "iopub.execute_input": "2024-08-29T23:56:48.322916Z",
     "iopub.status.busy": "2024-08-29T23:56:48.322597Z",
     "iopub.status.idle": "2024-08-29T23:56:48.688773Z",
     "shell.execute_reply": "2024-08-29T23:56:48.687894Z"
    },
    "papermill": {
     "duration": 0.41822,
     "end_time": "2024-08-29T23:56:48.690798",
     "exception": false,
     "start_time": "2024-08-29T23:56:48.272578",
     "status": "completed"
    },
    "tags": []
   },
   "outputs": [
    {
     "name": "stdout",
     "output_type": "stream",
     "text": [
      "Predicted emotions for 'what a badass char is arthur, he is the best game char ever made, i luv rdr2': [[0.00771297 0.00803996 0.01252394 0.86562926 0.04117928 0.02902116\n",
      "  0.0905266 ]]\n"
     ]
    },
    {
     "data": {
      "text/html": [
       "<div>                            <div id=\"ef0f5c86-bf5c-43ed-8d17-fa678a56d17d\" class=\"plotly-graph-div\" style=\"height:525px; width:100%;\"></div>            <script type=\"text/javascript\">                require([\"plotly\"], function(Plotly) {                    window.PLOTLYENV=window.PLOTLYENV || {};                                    if (document.getElementById(\"ef0f5c86-bf5c-43ed-8d17-fa678a56d17d\")) {                    Plotly.newPlot(                        \"ef0f5c86-bf5c-43ed-8d17-fa678a56d17d\",                        [{\"hovertemplate\":\"r=%{r}\\u003cbr\\u003etheta=%{theta}\\u003cextra\\u003e\\u003c\\u002fextra\\u003e\",\"legendgroup\":\"\",\"line\":{\"color\":\"#636efa\",\"dash\":\"solid\"},\"marker\":{\"symbol\":\"circle\"},\"mode\":\"lines\",\"name\":\"\",\"r\":[0.007712966,0.008039958,0.012523939,0.86562926,0.041179284,0.029021155,0.090526596,0.007712966],\"showlegend\":false,\"subplot\":\"polar\",\"theta\":[\"anger\",\"disgust\",\"fear\",\"joy\",\"neutral\",\"sadness\",\"surprise\",\"anger\"],\"type\":\"scatterpolar\"}],                        {\"template\":{\"data\":{\"histogram2dcontour\":[{\"type\":\"histogram2dcontour\",\"colorbar\":{\"outlinewidth\":0,\"ticks\":\"\"},\"colorscale\":[[0.0,\"#0d0887\"],[0.1111111111111111,\"#46039f\"],[0.2222222222222222,\"#7201a8\"],[0.3333333333333333,\"#9c179e\"],[0.4444444444444444,\"#bd3786\"],[0.5555555555555556,\"#d8576b\"],[0.6666666666666666,\"#ed7953\"],[0.7777777777777778,\"#fb9f3a\"],[0.8888888888888888,\"#fdca26\"],[1.0,\"#f0f921\"]]}],\"choropleth\":[{\"type\":\"choropleth\",\"colorbar\":{\"outlinewidth\":0,\"ticks\":\"\"}}],\"histogram2d\":[{\"type\":\"histogram2d\",\"colorbar\":{\"outlinewidth\":0,\"ticks\":\"\"},\"colorscale\":[[0.0,\"#0d0887\"],[0.1111111111111111,\"#46039f\"],[0.2222222222222222,\"#7201a8\"],[0.3333333333333333,\"#9c179e\"],[0.4444444444444444,\"#bd3786\"],[0.5555555555555556,\"#d8576b\"],[0.6666666666666666,\"#ed7953\"],[0.7777777777777778,\"#fb9f3a\"],[0.8888888888888888,\"#fdca26\"],[1.0,\"#f0f921\"]]}],\"heatmap\":[{\"type\":\"heatmap\",\"colorbar\":{\"outlinewidth\":0,\"ticks\":\"\"},\"colorscale\":[[0.0,\"#0d0887\"],[0.1111111111111111,\"#46039f\"],[0.2222222222222222,\"#7201a8\"],[0.3333333333333333,\"#9c179e\"],[0.4444444444444444,\"#bd3786\"],[0.5555555555555556,\"#d8576b\"],[0.6666666666666666,\"#ed7953\"],[0.7777777777777778,\"#fb9f3a\"],[0.8888888888888888,\"#fdca26\"],[1.0,\"#f0f921\"]]}],\"heatmapgl\":[{\"type\":\"heatmapgl\",\"colorbar\":{\"outlinewidth\":0,\"ticks\":\"\"},\"colorscale\":[[0.0,\"#0d0887\"],[0.1111111111111111,\"#46039f\"],[0.2222222222222222,\"#7201a8\"],[0.3333333333333333,\"#9c179e\"],[0.4444444444444444,\"#bd3786\"],[0.5555555555555556,\"#d8576b\"],[0.6666666666666666,\"#ed7953\"],[0.7777777777777778,\"#fb9f3a\"],[0.8888888888888888,\"#fdca26\"],[1.0,\"#f0f921\"]]}],\"contourcarpet\":[{\"type\":\"contourcarpet\",\"colorbar\":{\"outlinewidth\":0,\"ticks\":\"\"}}],\"contour\":[{\"type\":\"contour\",\"colorbar\":{\"outlinewidth\":0,\"ticks\":\"\"},\"colorscale\":[[0.0,\"#0d0887\"],[0.1111111111111111,\"#46039f\"],[0.2222222222222222,\"#7201a8\"],[0.3333333333333333,\"#9c179e\"],[0.4444444444444444,\"#bd3786\"],[0.5555555555555556,\"#d8576b\"],[0.6666666666666666,\"#ed7953\"],[0.7777777777777778,\"#fb9f3a\"],[0.8888888888888888,\"#fdca26\"],[1.0,\"#f0f921\"]]}],\"surface\":[{\"type\":\"surface\",\"colorbar\":{\"outlinewidth\":0,\"ticks\":\"\"},\"colorscale\":[[0.0,\"#0d0887\"],[0.1111111111111111,\"#46039f\"],[0.2222222222222222,\"#7201a8\"],[0.3333333333333333,\"#9c179e\"],[0.4444444444444444,\"#bd3786\"],[0.5555555555555556,\"#d8576b\"],[0.6666666666666666,\"#ed7953\"],[0.7777777777777778,\"#fb9f3a\"],[0.8888888888888888,\"#fdca26\"],[1.0,\"#f0f921\"]]}],\"mesh3d\":[{\"type\":\"mesh3d\",\"colorbar\":{\"outlinewidth\":0,\"ticks\":\"\"}}],\"scatter\":[{\"fillpattern\":{\"fillmode\":\"overlay\",\"size\":10,\"solidity\":0.2},\"type\":\"scatter\"}],\"parcoords\":[{\"type\":\"parcoords\",\"line\":{\"colorbar\":{\"outlinewidth\":0,\"ticks\":\"\"}}}],\"scatterpolargl\":[{\"type\":\"scatterpolargl\",\"marker\":{\"colorbar\":{\"outlinewidth\":0,\"ticks\":\"\"}}}],\"bar\":[{\"error_x\":{\"color\":\"#2a3f5f\"},\"error_y\":{\"color\":\"#2a3f5f\"},\"marker\":{\"line\":{\"color\":\"#E5ECF6\",\"width\":0.5},\"pattern\":{\"fillmode\":\"overlay\",\"size\":10,\"solidity\":0.2}},\"type\":\"bar\"}],\"scattergeo\":[{\"type\":\"scattergeo\",\"marker\":{\"colorbar\":{\"outlinewidth\":0,\"ticks\":\"\"}}}],\"scatterpolar\":[{\"type\":\"scatterpolar\",\"marker\":{\"colorbar\":{\"outlinewidth\":0,\"ticks\":\"\"}}}],\"histogram\":[{\"marker\":{\"pattern\":{\"fillmode\":\"overlay\",\"size\":10,\"solidity\":0.2}},\"type\":\"histogram\"}],\"scattergl\":[{\"type\":\"scattergl\",\"marker\":{\"colorbar\":{\"outlinewidth\":0,\"ticks\":\"\"}}}],\"scatter3d\":[{\"type\":\"scatter3d\",\"line\":{\"colorbar\":{\"outlinewidth\":0,\"ticks\":\"\"}},\"marker\":{\"colorbar\":{\"outlinewidth\":0,\"ticks\":\"\"}}}],\"scattermapbox\":[{\"type\":\"scattermapbox\",\"marker\":{\"colorbar\":{\"outlinewidth\":0,\"ticks\":\"\"}}}],\"scatterternary\":[{\"type\":\"scatterternary\",\"marker\":{\"colorbar\":{\"outlinewidth\":0,\"ticks\":\"\"}}}],\"scattercarpet\":[{\"type\":\"scattercarpet\",\"marker\":{\"colorbar\":{\"outlinewidth\":0,\"ticks\":\"\"}}}],\"carpet\":[{\"aaxis\":{\"endlinecolor\":\"#2a3f5f\",\"gridcolor\":\"white\",\"linecolor\":\"white\",\"minorgridcolor\":\"white\",\"startlinecolor\":\"#2a3f5f\"},\"baxis\":{\"endlinecolor\":\"#2a3f5f\",\"gridcolor\":\"white\",\"linecolor\":\"white\",\"minorgridcolor\":\"white\",\"startlinecolor\":\"#2a3f5f\"},\"type\":\"carpet\"}],\"table\":[{\"cells\":{\"fill\":{\"color\":\"#EBF0F8\"},\"line\":{\"color\":\"white\"}},\"header\":{\"fill\":{\"color\":\"#C8D4E3\"},\"line\":{\"color\":\"white\"}},\"type\":\"table\"}],\"barpolar\":[{\"marker\":{\"line\":{\"color\":\"#E5ECF6\",\"width\":0.5},\"pattern\":{\"fillmode\":\"overlay\",\"size\":10,\"solidity\":0.2}},\"type\":\"barpolar\"}],\"pie\":[{\"automargin\":true,\"type\":\"pie\"}]},\"layout\":{\"autotypenumbers\":\"strict\",\"colorway\":[\"#636efa\",\"#EF553B\",\"#00cc96\",\"#ab63fa\",\"#FFA15A\",\"#19d3f3\",\"#FF6692\",\"#B6E880\",\"#FF97FF\",\"#FECB52\"],\"font\":{\"color\":\"#2a3f5f\"},\"hovermode\":\"closest\",\"hoverlabel\":{\"align\":\"left\"},\"paper_bgcolor\":\"white\",\"plot_bgcolor\":\"#E5ECF6\",\"polar\":{\"bgcolor\":\"#E5ECF6\",\"angularaxis\":{\"gridcolor\":\"white\",\"linecolor\":\"white\",\"ticks\":\"\"},\"radialaxis\":{\"gridcolor\":\"white\",\"linecolor\":\"white\",\"ticks\":\"\"}},\"ternary\":{\"bgcolor\":\"#E5ECF6\",\"aaxis\":{\"gridcolor\":\"white\",\"linecolor\":\"white\",\"ticks\":\"\"},\"baxis\":{\"gridcolor\":\"white\",\"linecolor\":\"white\",\"ticks\":\"\"},\"caxis\":{\"gridcolor\":\"white\",\"linecolor\":\"white\",\"ticks\":\"\"}},\"coloraxis\":{\"colorbar\":{\"outlinewidth\":0,\"ticks\":\"\"}},\"colorscale\":{\"sequential\":[[0.0,\"#0d0887\"],[0.1111111111111111,\"#46039f\"],[0.2222222222222222,\"#7201a8\"],[0.3333333333333333,\"#9c179e\"],[0.4444444444444444,\"#bd3786\"],[0.5555555555555556,\"#d8576b\"],[0.6666666666666666,\"#ed7953\"],[0.7777777777777778,\"#fb9f3a\"],[0.8888888888888888,\"#fdca26\"],[1.0,\"#f0f921\"]],\"sequentialminus\":[[0.0,\"#0d0887\"],[0.1111111111111111,\"#46039f\"],[0.2222222222222222,\"#7201a8\"],[0.3333333333333333,\"#9c179e\"],[0.4444444444444444,\"#bd3786\"],[0.5555555555555556,\"#d8576b\"],[0.6666666666666666,\"#ed7953\"],[0.7777777777777778,\"#fb9f3a\"],[0.8888888888888888,\"#fdca26\"],[1.0,\"#f0f921\"]],\"diverging\":[[0,\"#8e0152\"],[0.1,\"#c51b7d\"],[0.2,\"#de77ae\"],[0.3,\"#f1b6da\"],[0.4,\"#fde0ef\"],[0.5,\"#f7f7f7\"],[0.6,\"#e6f5d0\"],[0.7,\"#b8e186\"],[0.8,\"#7fbc41\"],[0.9,\"#4d9221\"],[1,\"#276419\"]]},\"xaxis\":{\"gridcolor\":\"white\",\"linecolor\":\"white\",\"ticks\":\"\",\"title\":{\"standoff\":15},\"zerolinecolor\":\"white\",\"automargin\":true,\"zerolinewidth\":2},\"yaxis\":{\"gridcolor\":\"white\",\"linecolor\":\"white\",\"ticks\":\"\",\"title\":{\"standoff\":15},\"zerolinecolor\":\"white\",\"automargin\":true,\"zerolinewidth\":2},\"scene\":{\"xaxis\":{\"backgroundcolor\":\"#E5ECF6\",\"gridcolor\":\"white\",\"linecolor\":\"white\",\"showbackground\":true,\"ticks\":\"\",\"zerolinecolor\":\"white\",\"gridwidth\":2},\"yaxis\":{\"backgroundcolor\":\"#E5ECF6\",\"gridcolor\":\"white\",\"linecolor\":\"white\",\"showbackground\":true,\"ticks\":\"\",\"zerolinecolor\":\"white\",\"gridwidth\":2},\"zaxis\":{\"backgroundcolor\":\"#E5ECF6\",\"gridcolor\":\"white\",\"linecolor\":\"white\",\"showbackground\":true,\"ticks\":\"\",\"zerolinecolor\":\"white\",\"gridwidth\":2}},\"shapedefaults\":{\"line\":{\"color\":\"#2a3f5f\"}},\"annotationdefaults\":{\"arrowcolor\":\"#2a3f5f\",\"arrowhead\":0,\"arrowwidth\":1},\"geo\":{\"bgcolor\":\"white\",\"landcolor\":\"#E5ECF6\",\"subunitcolor\":\"white\",\"showland\":true,\"showlakes\":true,\"lakecolor\":\"white\"},\"title\":{\"x\":0.05},\"mapbox\":{\"style\":\"light\"}}},\"polar\":{\"domain\":{\"x\":[0.0,1.0],\"y\":[0.0,1.0]},\"angularaxis\":{\"direction\":\"clockwise\",\"rotation\":90}},\"legend\":{\"tracegroupgap\":0},\"margin\":{\"t\":60}},                        {\"responsive\": true}                    ).then(function(){\n",
       "                            \n",
       "var gd = document.getElementById('ef0f5c86-bf5c-43ed-8d17-fa678a56d17d');\n",
       "var x = new MutationObserver(function (mutations, observer) {{\n",
       "        var display = window.getComputedStyle(gd).display;\n",
       "        if (!display || display === 'none') {{\n",
       "            console.log([gd, 'removed!']);\n",
       "            Plotly.purge(gd);\n",
       "            observer.disconnect();\n",
       "        }}\n",
       "}});\n",
       "\n",
       "// Listen for the removal of the full notebook cells\n",
       "var notebookContainer = gd.closest('#notebook-container');\n",
       "if (notebookContainer) {{\n",
       "    x.observe(notebookContainer, {childList: true});\n",
       "}}\n",
       "\n",
       "// Listen for the clearing of the current output cell\n",
       "var outputEl = gd.closest('.output');\n",
       "if (outputEl) {{\n",
       "    x.observe(outputEl, {childList: true});\n",
       "}}\n",
       "\n",
       "                        })                };                });            </script>        </div>"
      ]
     },
     "metadata": {},
     "output_type": "display_data"
    },
    {
     "data": {
      "image/png": "[encoded data removed]",
      "text/plain": [
       "<Figure size 1500x500 with 1 Axes>"
      ]
     },
     "metadata": {},
     "output_type": "display_data"
    }
   ],
   "source": [
    "sample_text = \"what a badass char is arthur, he is the best game char ever made, i luv rdr2\"\n",
    "predictions = predict(sample_text, best_model, tokenizer, device, max_len=128)\n",
    "print(f\"Predicted emotions for '{sample_text}': {predictions}\")\n",
    "\n",
    "predictions_array = predictions.squeeze()  # Remove unnecessary dimensions\n",
    "\n",
    "\n",
    "emotion_moodtags = []\n",
    "for items in predictions_array:\n",
    "    emotion_moodtags.append(items)\n",
    "\n",
    "fig = px.line_polar(pd.DataFrame(dict(r=emotion_moodtags, theta=EMOTION_LABELS)), r='r', theta='theta', line_close=True)\n",
    "fig.show()\n",
    "\n",
    "# fig = px.line_polar(pd.DataFrame(dict(r=emotion_moodtags, theta=EMOTION_LABELS)), r='r', theta='theta', line_close=True)\n",
    "# fig.show()\n",
    "\n",
    "    \n",
    "# Since predictions are probabilistic values, normalize to ensure they sum up to 1\n",
    "normalized_predictions = predictions_array / predictions_array.sum()  # Normalize the values\n",
    "\n",
    "## Horizontal Stacked Bar Plot\n",
    "\n",
    "fig, ax = plt.subplots(figsize=(15, 5))\n",
    "\n",
    "left = 0\n",
    "for i in range(len(normalized_predictions)):\n",
    "    ax.barh(0, normalized_predictions[i], color=plt.cm.tab10(i), left=left, label=EMOTION_LABELS[i])\n",
    "    left += normalized_predictions[i]\n",
    "\n",
    "# Add legend\n",
    "ax.set_xlim(0, 1)\n",
    "ax.set_yticks([])\n",
    "ax.set_xticks(np.arange(0, 1.1, 0.1))\n",
    "ax.legend(loc='upper center', bbox_to_anchor=(0.5, -0.05), ncol=len(EMOTION_LABELS))\n",
    "\n",
    "# Add title\n",
    "plt.title('Emotion Prediction Distribution')\n",
    "\n",
    "plt.show()\n"
   ]
  },
  {
   "cell_type": "code",
   "execution_count": 80,
   "id": "da4f9424",
   "metadata": {
    "execution": {
     "iopub.execute_input": "2024-08-29T23:56:48.794053Z",
     "iopub.status.busy": "2024-08-29T23:56:48.793684Z",
     "iopub.status.idle": "2024-08-29T23:56:49.148381Z",
     "shell.execute_reply": "2024-08-29T23:56:49.147529Z"
    },
    "papermill": {
     "duration": 0.408737,
     "end_time": "2024-08-29T23:56:49.150370",
     "exception": false,
     "start_time": "2024-08-29T23:56:48.741633",
     "status": "completed"
    },
    "tags": []
   },
   "outputs": [
    {
     "name": "stdout",
     "output_type": "stream",
     "text": [
      "Predicted emotions for 'I don't no fr y hes sooo sad.': [[0.0237023  0.00739243 0.02094549 0.02251158 0.02742196 0.9462292\n",
      "  0.02245248]]\n"
     ]
    },
    {
     "data": {
      "text/html": [
       "<div>                            <div id=\"29b8126e-45af-470d-829a-7110718c40f6\" class=\"plotly-graph-div\" style=\"height:525px; width:100%;\"></div>            <script type=\"text/javascript\">                require([\"plotly\"], function(Plotly) {                    window.PLOTLYENV=window.PLOTLYENV || {};                                    if (document.getElementById(\"29b8126e-45af-470d-829a-7110718c40f6\")) {                    Plotly.newPlot(                        \"29b8126e-45af-470d-829a-7110718c40f6\",                        [{\"hovertemplate\":\"r=%{r}\\u003cbr\\u003etheta=%{theta}\\u003cextra\\u003e\\u003c\\u002fextra\\u003e\",\"legendgroup\":\"\",\"line\":{\"color\":\"#636efa\",\"dash\":\"solid\"},\"marker\":{\"symbol\":\"circle\"},\"mode\":\"lines\",\"name\":\"\",\"r\":[0.023702295,0.0073924293,0.020945488,0.022511583,0.027421957,0.9462292,0.022452485,0.023702295],\"showlegend\":false,\"subplot\":\"polar\",\"theta\":[\"anger\",\"disgust\",\"fear\",\"joy\",\"neutral\",\"sadness\",\"surprise\",\"anger\"],\"type\":\"scatterpolar\"}],                        {\"template\":{\"data\":{\"histogram2dcontour\":[{\"type\":\"histogram2dcontour\",\"colorbar\":{\"outlinewidth\":0,\"ticks\":\"\"},\"colorscale\":[[0.0,\"#0d0887\"],[0.1111111111111111,\"#46039f\"],[0.2222222222222222,\"#7201a8\"],[0.3333333333333333,\"#9c179e\"],[0.4444444444444444,\"#bd3786\"],[0.5555555555555556,\"#d8576b\"],[0.6666666666666666,\"#ed7953\"],[0.7777777777777778,\"#fb9f3a\"],[0.8888888888888888,\"#fdca26\"],[1.0,\"#f0f921\"]]}],\"choropleth\":[{\"type\":\"choropleth\",\"colorbar\":{\"outlinewidth\":0,\"ticks\":\"\"}}],\"histogram2d\":[{\"type\":\"histogram2d\",\"colorbar\":{\"outlinewidth\":0,\"ticks\":\"\"},\"colorscale\":[[0.0,\"#0d0887\"],[0.1111111111111111,\"#46039f\"],[0.2222222222222222,\"#7201a8\"],[0.3333333333333333,\"#9c179e\"],[0.4444444444444444,\"#bd3786\"],[0.5555555555555556,\"#d8576b\"],[0.6666666666666666,\"#ed7953\"],[0.7777777777777778,\"#fb9f3a\"],[0.8888888888888888,\"#fdca26\"],[1.0,\"#f0f921\"]]}],\"heatmap\":[{\"type\":\"heatmap\",\"colorbar\":{\"outlinewidth\":0,\"ticks\":\"\"},\"colorscale\":[[0.0,\"#0d0887\"],[0.1111111111111111,\"#46039f\"],[0.2222222222222222,\"#7201a8\"],[0.3333333333333333,\"#9c179e\"],[0.4444444444444444,\"#bd3786\"],[0.5555555555555556,\"#d8576b\"],[0.6666666666666666,\"#ed7953\"],[0.7777777777777778,\"#fb9f3a\"],[0.8888888888888888,\"#fdca26\"],[1.0,\"#f0f921\"]]}],\"heatmapgl\":[{\"type\":\"heatmapgl\",\"colorbar\":{\"outlinewidth\":0,\"ticks\":\"\"},\"colorscale\":[[0.0,\"#0d0887\"],[0.1111111111111111,\"#46039f\"],[0.2222222222222222,\"#7201a8\"],[0.3333333333333333,\"#9c179e\"],[0.4444444444444444,\"#bd3786\"],[0.5555555555555556,\"#d8576b\"],[0.6666666666666666,\"#ed7953\"],[0.7777777777777778,\"#fb9f3a\"],[0.8888888888888888,\"#fdca26\"],[1.0,\"#f0f921\"]]}],\"contourcarpet\":[{\"type\":\"contourcarpet\",\"colorbar\":{\"outlinewidth\":0,\"ticks\":\"\"}}],\"contour\":[{\"type\":\"contour\",\"colorbar\":{\"outlinewidth\":0,\"ticks\":\"\"},\"colorscale\":[[0.0,\"#0d0887\"],[0.1111111111111111,\"#46039f\"],[0.2222222222222222,\"#7201a8\"],[0.3333333333333333,\"#9c179e\"],[0.4444444444444444,\"#bd3786\"],[0.5555555555555556,\"#d8576b\"],[0.6666666666666666,\"#ed7953\"],[0.7777777777777778,\"#fb9f3a\"],[0.8888888888888888,\"#fdca26\"],[1.0,\"#f0f921\"]]}],\"surface\":[{\"type\":\"surface\",\"colorbar\":{\"outlinewidth\":0,\"ticks\":\"\"},\"colorscale\":[[0.0,\"#0d0887\"],[0.1111111111111111,\"#46039f\"],[0.2222222222222222,\"#7201a8\"],[0.3333333333333333,\"#9c179e\"],[0.4444444444444444,\"#bd3786\"],[0.5555555555555556,\"#d8576b\"],[0.6666666666666666,\"#ed7953\"],[0.7777777777777778,\"#fb9f3a\"],[0.8888888888888888,\"#fdca26\"],[1.0,\"#f0f921\"]]}],\"mesh3d\":[{\"type\":\"mesh3d\",\"colorbar\":{\"outlinewidth\":0,\"ticks\":\"\"}}],\"scatter\":[{\"fillpattern\":{\"fillmode\":\"overlay\",\"size\":10,\"solidity\":0.2},\"type\":\"scatter\"}],\"parcoords\":[{\"type\":\"parcoords\",\"line\":{\"colorbar\":{\"outlinewidth\":0,\"ticks\":\"\"}}}],\"scatterpolargl\":[{\"type\":\"scatterpolargl\",\"marker\":{\"colorbar\":{\"outlinewidth\":0,\"ticks\":\"\"}}}],\"bar\":[{\"error_x\":{\"color\":\"#2a3f5f\"},\"error_y\":{\"color\":\"#2a3f5f\"},\"marker\":{\"line\":{\"color\":\"#E5ECF6\",\"width\":0.5},\"pattern\":{\"fillmode\":\"overlay\",\"size\":10,\"solidity\":0.2}},\"type\":\"bar\"}],\"scattergeo\":[{\"type\":\"scattergeo\",\"marker\":{\"colorbar\":{\"outlinewidth\":0,\"ticks\":\"\"}}}],\"scatterpolar\":[{\"type\":\"scatterpolar\",\"marker\":{\"colorbar\":{\"outlinewidth\":0,\"ticks\":\"\"}}}],\"histogram\":[{\"marker\":{\"pattern\":{\"fillmode\":\"overlay\",\"size\":10,\"solidity\":0.2}},\"type\":\"histogram\"}],\"scattergl\":[{\"type\":\"scattergl\",\"marker\":{\"colorbar\":{\"outlinewidth\":0,\"ticks\":\"\"}}}],\"scatter3d\":[{\"type\":\"scatter3d\",\"line\":{\"colorbar\":{\"outlinewidth\":0,\"ticks\":\"\"}},\"marker\":{\"colorbar\":{\"outlinewidth\":0,\"ticks\":\"\"}}}],\"scattermapbox\":[{\"type\":\"scattermapbox\",\"marker\":{\"colorbar\":{\"outlinewidth\":0,\"ticks\":\"\"}}}],\"scatterternary\":[{\"type\":\"scatterternary\",\"marker\":{\"colorbar\":{\"outlinewidth\":0,\"ticks\":\"\"}}}],\"scattercarpet\":[{\"type\":\"scattercarpet\",\"marker\":{\"colorbar\":{\"outlinewidth\":0,\"ticks\":\"\"}}}],\"carpet\":[{\"aaxis\":{\"endlinecolor\":\"#2a3f5f\",\"gridcolor\":\"white\",\"linecolor\":\"white\",\"minorgridcolor\":\"white\",\"startlinecolor\":\"#2a3f5f\"},\"baxis\":{\"endlinecolor\":\"#2a3f5f\",\"gridcolor\":\"white\",\"linecolor\":\"white\",\"minorgridcolor\":\"white\",\"startlinecolor\":\"#2a3f5f\"},\"type\":\"carpet\"}],\"table\":[{\"cells\":{\"fill\":{\"color\":\"#EBF0F8\"},\"line\":{\"color\":\"white\"}},\"header\":{\"fill\":{\"color\":\"#C8D4E3\"},\"line\":{\"color\":\"white\"}},\"type\":\"table\"}],\"barpolar\":[{\"marker\":{\"line\":{\"color\":\"#E5ECF6\",\"width\":0.5},\"pattern\":{\"fillmode\":\"overlay\",\"size\":10,\"solidity\":0.2}},\"type\":\"barpolar\"}],\"pie\":[{\"automargin\":true,\"type\":\"pie\"}]},\"layout\":{\"autotypenumbers\":\"strict\",\"colorway\":[\"#636efa\",\"#EF553B\",\"#00cc96\",\"#ab63fa\",\"#FFA15A\",\"#19d3f3\",\"#FF6692\",\"#B6E880\",\"#FF97FF\",\"#FECB52\"],\"font\":{\"color\":\"#2a3f5f\"},\"hovermode\":\"closest\",\"hoverlabel\":{\"align\":\"left\"},\"paper_bgcolor\":\"white\",\"plot_bgcolor\":\"#E5ECF6\",\"polar\":{\"bgcolor\":\"#E5ECF6\",\"angularaxis\":{\"gridcolor\":\"white\",\"linecolor\":\"white\",\"ticks\":\"\"},\"radialaxis\":{\"gridcolor\":\"white\",\"linecolor\":\"white\",\"ticks\":\"\"}},\"ternary\":{\"bgcolor\":\"#E5ECF6\",\"aaxis\":{\"gridcolor\":\"white\",\"linecolor\":\"white\",\"ticks\":\"\"},\"baxis\":{\"gridcolor\":\"white\",\"linecolor\":\"white\",\"ticks\":\"\"},\"caxis\":{\"gridcolor\":\"white\",\"linecolor\":\"white\",\"ticks\":\"\"}},\"coloraxis\":{\"colorbar\":{\"outlinewidth\":0,\"ticks\":\"\"}},\"colorscale\":{\"sequential\":[[0.0,\"#0d0887\"],[0.1111111111111111,\"#46039f\"],[0.2222222222222222,\"#7201a8\"],[0.3333333333333333,\"#9c179e\"],[0.4444444444444444,\"#bd3786\"],[0.5555555555555556,\"#d8576b\"],[0.6666666666666666,\"#ed7953\"],[0.7777777777777778,\"#fb9f3a\"],[0.8888888888888888,\"#fdca26\"],[1.0,\"#f0f921\"]],\"sequentialminus\":[[0.0,\"#0d0887\"],[0.1111111111111111,\"#46039f\"],[0.2222222222222222,\"#7201a8\"],[0.3333333333333333,\"#9c179e\"],[0.4444444444444444,\"#bd3786\"],[0.5555555555555556,\"#d8576b\"],[0.6666666666666666,\"#ed7953\"],[0.7777777777777778,\"#fb9f3a\"],[0.8888888888888888,\"#fdca26\"],[1.0,\"#f0f921\"]],\"diverging\":[[0,\"#8e0152\"],[0.1,\"#c51b7d\"],[0.2,\"#de77ae\"],[0.3,\"#f1b6da\"],[0.4,\"#fde0ef\"],[0.5,\"#f7f7f7\"],[0.6,\"#e6f5d0\"],[0.7,\"#b8e186\"],[0.8,\"#7fbc41\"],[0.9,\"#4d9221\"],[1,\"#276419\"]]},\"xaxis\":{\"gridcolor\":\"white\",\"linecolor\":\"white\",\"ticks\":\"\",\"title\":{\"standoff\":15},\"zerolinecolor\":\"white\",\"automargin\":true,\"zerolinewidth\":2},\"yaxis\":{\"gridcolor\":\"white\",\"linecolor\":\"white\",\"ticks\":\"\",\"title\":{\"standoff\":15},\"zerolinecolor\":\"white\",\"automargin\":true,\"zerolinewidth\":2},\"scene\":{\"xaxis\":{\"backgroundcolor\":\"#E5ECF6\",\"gridcolor\":\"white\",\"linecolor\":\"white\",\"showbackground\":true,\"ticks\":\"\",\"zerolinecolor\":\"white\",\"gridwidth\":2},\"yaxis\":{\"backgroundcolor\":\"#E5ECF6\",\"gridcolor\":\"white\",\"linecolor\":\"white\",\"showbackground\":true,\"ticks\":\"\",\"zerolinecolor\":\"white\",\"gridwidth\":2},\"zaxis\":{\"backgroundcolor\":\"#E5ECF6\",\"gridcolor\":\"white\",\"linecolor\":\"white\",\"showbackground\":true,\"ticks\":\"\",\"zerolinecolor\":\"white\",\"gridwidth\":2}},\"shapedefaults\":{\"line\":{\"color\":\"#2a3f5f\"}},\"annotationdefaults\":{\"arrowcolor\":\"#2a3f5f\",\"arrowhead\":0,\"arrowwidth\":1},\"geo\":{\"bgcolor\":\"white\",\"landcolor\":\"#E5ECF6\",\"subunitcolor\":\"white\",\"showland\":true,\"showlakes\":true,\"lakecolor\":\"white\"},\"title\":{\"x\":0.05},\"mapbox\":{\"style\":\"light\"}}},\"polar\":{\"domain\":{\"x\":[0.0,1.0],\"y\":[0.0,1.0]},\"angularaxis\":{\"direction\":\"clockwise\",\"rotation\":90}},\"legend\":{\"tracegroupgap\":0},\"margin\":{\"t\":60}},                        {\"responsive\": true}                    ).then(function(){\n",
       "                            \n",
       "var gd = document.getElementById('29b8126e-45af-470d-829a-7110718c40f6');\n",
       "var x = new MutationObserver(function (mutations, observer) {{\n",
       "        var display = window.getComputedStyle(gd).display;\n",
       "        if (!display || display === 'none') {{\n",
       "            console.log([gd, 'removed!']);\n",
       "            Plotly.purge(gd);\n",
       "            observer.disconnect();\n",
       "        }}\n",
       "}});\n",
       "\n",
       "// Listen for the removal of the full notebook cells\n",
       "var notebookContainer = gd.closest('#notebook-container');\n",
       "if (notebookContainer) {{\n",
       "    x.observe(notebookContainer, {childList: true});\n",
       "}}\n",
       "\n",
       "// Listen for the clearing of the current output cell\n",
       "var outputEl = gd.closest('.output');\n",
       "if (outputEl) {{\n",
       "    x.observe(outputEl, {childList: true});\n",
       "}}\n",
       "\n",
       "                        })                };                });            </script>        </div>"
      ]
     },
     "metadata": {},
     "output_type": "display_data"
    },
    {
     "data": {
      "image/png": "[encoded data removed]",
      "text/plain": [
       "<Figure size 1500x500 with 1 Axes>"
      ]
     },
     "metadata": {},
     "output_type": "display_data"
    }
   ],
   "source": [
    "sample_text = \"I don't no fr y hes sooo sad.\"\n",
    "predictions = predict(sample_text, best_model, tokenizer, device, max_len=128)\n",
    "print(f\"Predicted emotions for '{sample_text}': {predictions}\")\n",
    "\n",
    "predictions_array = predictions.squeeze()  # Remove unnecessary dimensions\n",
    "\n",
    "\n",
    "emotion_moodtags = []\n",
    "for items in predictions_array:\n",
    "    emotion_moodtags.append(items)\n",
    "\n",
    "fig = px.line_polar(pd.DataFrame(dict(r=emotion_moodtags, theta=EMOTION_LABELS)), r='r', theta='theta', line_close=True)\n",
    "fig.show()\n",
    "\n",
    "# fig = px.line_polar(pd.DataFrame(dict(r=emotion_moodtags, theta=EMOTION_LABELS)), r='r', theta='theta', line_close=True)\n",
    "# fig.show()\n",
    "\n",
    "    \n",
    "# Since predictions are probabilistic values, normalize to ensure they sum up to 1\n",
    "normalized_predictions = predictions_array / predictions_array.sum()  # Normalize the values\n",
    "\n",
    "## Horizontal Stacked Bar Plot\n",
    "\n",
    "fig, ax = plt.subplots(figsize=(15, 5))\n",
    "\n",
    "left = 0\n",
    "for i in range(len(normalized_predictions)):\n",
    "    ax.barh(0, normalized_predictions[i], color=plt.cm.tab10(i), left=left, label=EMOTION_LABELS[i])\n",
    "    left += normalized_predictions[i]\n",
    "\n",
    "# Add legend\n",
    "ax.set_xlim(0, 1)\n",
    "ax.set_yticks([])\n",
    "ax.set_xticks(np.arange(0, 1.1, 0.1))\n",
    "ax.legend(loc='upper center', bbox_to_anchor=(0.5, -0.05), ncol=len(EMOTION_LABELS))\n",
    "\n",
    "# Add title\n",
    "plt.title('Emotion Prediction Distribution')\n",
    "\n",
    "plt.show()\n"
   ]
  },
  {
   "cell_type": "code",
   "execution_count": 81,
   "id": "16153def",
   "metadata": {
    "execution": {
     "iopub.execute_input": "2024-08-29T23:56:49.261572Z",
     "iopub.status.busy": "2024-08-29T23:56:49.261217Z",
     "iopub.status.idle": "2024-08-29T23:56:49.265395Z",
     "shell.execute_reply": "2024-08-29T23:56:49.264487Z"
    },
    "papermill": {
     "duration": 0.065029,
     "end_time": "2024-08-29T23:56:49.267306",
     "exception": false,
     "start_time": "2024-08-29T23:56:49.202277",
     "status": "completed"
    },
    "tags": []
   },
   "outputs": [],
   "source": [
    "# tokenizer = RobertaTokenizer.from_pretrained('roberta-base')\n",
    "# sample_text = \"hey! hru, wanna ply valo toni8?\"\n",
    "# predictions = predict(sample_text, best_model, tokenizer, max_len=128, device=device)\n",
    "# print(f\"Predictions: {predictions}\")"
   ]
  },
  {
   "cell_type": "code",
   "execution_count": 82,
   "id": "9f9dcd40",
   "metadata": {
    "execution": {
     "iopub.execute_input": "2024-08-29T23:56:49.370277Z",
     "iopub.status.busy": "2024-08-29T23:56:49.369951Z",
     "iopub.status.idle": "2024-08-29T23:56:49.373824Z",
     "shell.execute_reply": "2024-08-29T23:56:49.373057Z"
    },
    "papermill": {
     "duration": 0.057283,
     "end_time": "2024-08-29T23:56:49.375631",
     "exception": false,
     "start_time": "2024-08-29T23:56:49.318348",
     "status": "completed"
    },
    "tags": []
   },
   "outputs": [],
   "source": [
    "# tokenizer = RobertaTokenizer.from_pretrained('roberta-base')\n",
    "# sample_text = \"hey! hru, wanna ply valo toni8?\"\n",
    "# predictions = predict(sample_text, best_model, tokenizer, max_len=128, device=device)\n",
    "# print(f\"Predictions: {predictions}\")"
   ]
  },
  {
   "cell_type": "code",
   "execution_count": 83,
   "id": "bbbdc303",
   "metadata": {
    "execution": {
     "iopub.execute_input": "2024-08-29T23:56:49.479710Z",
     "iopub.status.busy": "2024-08-29T23:56:49.479407Z",
     "iopub.status.idle": "2024-08-29T23:56:49.483275Z",
     "shell.execute_reply": "2024-08-29T23:56:49.482455Z"
    },
    "papermill": {
     "duration": 0.057927,
     "end_time": "2024-08-29T23:56:49.485045",
     "exception": false,
     "start_time": "2024-08-29T23:56:49.427118",
     "status": "completed"
    },
    "tags": []
   },
   "outputs": [],
   "source": [
    "# sample_text = \"hey! hru, wanna ply valo toni8?\"\n",
    "# best_model = RoBERTaEmotionModel('roberta-base').to(device)\n",
    "# best_model.load_state_dict(torch.load(\"best_model.pth\"))  # Assuming best model is saved during training\n",
    "# predicted_emotions = predict_emotions(best_model, sample_text, tokenizer, best_params['max_len'], device)\n",
    "# print(predicted_emotions)"
   ]
  }
 ],
 "metadata": {
  "kaggle": {
   "accelerator": "nvidiaTeslaT4",
   "dataSources": [
    {
     "datasetId": 5557640,
     "sourceId": 9273793,
     "sourceType": "datasetVersion"
    }
   ],
   "isGpuEnabled": true,
   "isInternetEnabled": true,
   "language": "python",
   "sourceType": "notebook"
  },
  "kernelspec": {
   "display_name": "Python 3",
   "language": "python",
   "name": "python3"
  },
  "language_info": {
   "codemirror_mode": {
    "name": "ipython",
    "version": 3
   },
   "file_extension": ".py",
   "mimetype": "text/x-python",
   "name": "python",
   "nbconvert_exporter": "python",
   "pygments_lexer": "ipython3",
   "version": "3.10.14"
  },
  "papermill": {
   "default_parameters": {},
   "duration": 20693.934115,
   "end_time": "2024-08-29T23:56:54.856383",
   "environment_variables": {},
   "exception": null,
   "input_path": "__notebook__.ipynb",
   "output_path": "__notebook__.ipynb",
   "parameters": {},
   "start_time": "2024-08-29T18:12:00.922268",
   "version": "2.6.0"
  },
  "widgets": {
   "application/vnd.jupyter.widget-state+json": {
    "state": {
     "176485dc6a5240b59c95bac62c9727ba": {
      "model_module": "@jupyter-widgets/controls",
      "model_module_version": "1.5.0",
      "model_name": "FloatProgressModel",
      "state": {
       "_dom_classes": [],
       "_model_module": "@jupyter-widgets/controls",
       "_model_module_version": "1.5.0",
       "_model_name": "FloatProgressModel",
       "_view_count": null,
       "_view_module": "@jupyter-widgets/controls",
       "_view_module_version": "1.5.0",
       "_view_name": "ProgressView",
       "bar_style": "success",
       "description": "",
       "description_tooltip": null,
       "layout": "IPY_MODEL_af698b74db70471bb66ff560037a9154",
       "max": 579.0,
       "min": 0.0,
       "orientation": "horizontal",
       "style": "IPY_MODEL_ea23c2373d4f4db49094bff5129890c1",
       "value": 579.0
      }
     },
     "1eb5793c3a5e4f46b93c0afadeaee671": {
      "model_module": "@jupyter-widgets/base",
      "model_module_version": "1.2.0",
      "model_name": "LayoutModel",
      "state": {
       "_model_module": "@jupyter-widgets/base",
       "_model_module_version": "1.2.0",
       "_model_name": "LayoutModel",
       "_view_count": null,
       "_view_module": "@jupyter-widgets/base",
       "_view_module_version": "1.2.0",
       "_view_name": "LayoutView",
       "align_content": null,
       "align_items": null,
       "align_self": null,
       "border": null,
       "bottom": null,
       "display": null,
       "flex": null,
       "flex_flow": null,
       "grid_area": null,
       "grid_auto_columns": null,
       "grid_auto_flow": null,
       "grid_auto_rows": null,
       "grid_column": null,
       "grid_gap": null,
       "grid_row": null,
       "grid_template_areas": null,
       "grid_template_columns": null,
       "grid_template_rows": null,
       "height": null,
       "justify_content": null,
       "justify_items": null,
       "left": null,
       "margin": null,
       "max_height": null,
       "max_width": null,
       "min_height": null,
       "min_width": null,
       "object_fit": null,
       "object_position": null,
       "order": null,
       "overflow": null,
       "overflow_x": null,
       "overflow_y": null,
       "padding": null,
       "right": null,
       "top": null,
       "visibility": null,
       "width": null
      }
     },
     "2048ec22b7574822be457d8f57f28986": {
      "model_module": "@jupyter-widgets/base",
      "model_module_version": "1.2.0",
      "model_name": "LayoutModel",
      "state": {
       "_model_module": "@jupyter-widgets/base",
       "_model_module_version": "1.2.0",
       "_model_name": "LayoutModel",
       "_view_count": null,
       "_view_module": "@jupyter-widgets/base",
       "_view_module_version": "1.2.0",
       "_view_name": "LayoutView",
       "align_content": null,
       "align_items": null,
       "align_self": null,
       "border": null,
       "bottom": null,
       "display": null,
       "flex": null,
       "flex_flow": null,
       "grid_area": null,
       "grid_auto_columns": null,
       "grid_auto_flow": null,
       "grid_auto_rows": null,
       "grid_column": null,
       "grid_gap": null,
       "grid_row": null,
       "grid_template_areas": null,
       "grid_template_columns": null,
       "grid_template_rows": null,
       "height": null,
       "justify_content": null,
       "justify_items": null,
       "left": null,
       "margin": null,
       "max_height": null,
       "max_width": null,
       "min_height": null,
       "min_width": null,
       "object_fit": null,
       "object_position": null,
       "order": null,
       "overflow": null,
       "overflow_x": null,
       "overflow_y": null,
       "padding": null,
       "right": null,
       "top": null,
       "visibility": null,
       "width": null
      }
     },
     "4013bfcf759c4d20bfea2dcab0e005a8": {
      "model_module": "@jupyter-widgets/controls",
      "model_module_version": "1.5.0",
      "model_name": "DescriptionStyleModel",
      "state": {
       "_model_module": "@jupyter-widgets/controls",
       "_model_module_version": "1.5.0",
       "_model_name": "DescriptionStyleModel",
       "_view_count": null,
       "_view_module": "@jupyter-widgets/base",
       "_view_module_version": "1.2.0",
       "_view_name": "StyleView",
       "description_width": ""
      }
     },
     "465bc173fd7b4bf9872bd15dd8031d51": {
      "model_module": "@jupyter-widgets/base",
      "model_module_version": "1.2.0",
      "model_name": "LayoutModel",
      "state": {
       "_model_module": "@jupyter-widgets/base",
       "_model_module_version": "1.2.0",
       "_model_name": "LayoutModel",
       "_view_count": null,
       "_view_module": "@jupyter-widgets/base",
       "_view_module_version": "1.2.0",
       "_view_name": "LayoutView",
       "align_content": null,
       "align_items": null,
       "align_self": null,
       "border": null,
       "bottom": null,
       "display": null,
       "flex": null,
       "flex_flow": null,
       "grid_area": null,
       "grid_auto_columns": null,
       "grid_auto_flow": null,
       "grid_auto_rows": null,
       "grid_column": null,
       "grid_gap": null,
       "grid_row": null,
       "grid_template_areas": null,
       "grid_template_columns": null,
       "grid_template_rows": null,
       "height": null,
       "justify_content": null,
       "justify_items": null,
       "left": null,
       "margin": null,
       "max_height": null,
       "max_width": null,
       "min_height": null,
       "min_width": null,
       "object_fit": null,
       "object_position": null,
       "order": null,
       "overflow": null,
       "overflow_x": null,
       "overflow_y": null,
       "padding": null,
       "right": null,
       "top": null,
       "visibility": null,
       "width": null
      }
     },
     "680171b805da41b09d2fec22a2848791": {
      "model_module": "@jupyter-widgets/controls",
      "model_module_version": "1.5.0",
      "model_name": "ProgressStyleModel",
      "state": {
       "_model_module": "@jupyter-widgets/controls",
       "_model_module_version": "1.5.0",
       "_model_name": "ProgressStyleModel",
       "_view_count": null,
       "_view_module": "@jupyter-widgets/base",
       "_view_module_version": "1.2.0",
       "_view_name": "StyleView",
       "bar_color": null,
       "description_width": ""
      }
     },
     "6c883df953a4468db2fc82ea602fa5e3": {
      "model_module": "@jupyter-widgets/controls",
      "model_module_version": "1.5.0",
      "model_name": "DescriptionStyleModel",
      "state": {
       "_model_module": "@jupyter-widgets/controls",
       "_model_module_version": "1.5.0",
       "_model_name": "DescriptionStyleModel",
       "_view_count": null,
       "_view_module": "@jupyter-widgets/base",
       "_view_module_version": "1.2.0",
       "_view_name": "StyleView",
       "description_width": ""
      }
     },
     "6cc76854731b48d999c03e09e32f42f8": {
      "model_module": "@jupyter-widgets/base",
      "model_module_version": "1.2.0",
      "model_name": "LayoutModel",
      "state": {
       "_model_module": "@jupyter-widgets/base",
       "_model_module_version": "1.2.0",
       "_model_name": "LayoutModel",
       "_view_count": null,
       "_view_module": "@jupyter-widgets/base",
       "_view_module_version": "1.2.0",
       "_view_name": "LayoutView",
       "align_content": null,
       "align_items": null,
       "align_self": null,
       "border": null,
       "bottom": null,
       "display": null,
       "flex": null,
       "flex_flow": null,
       "grid_area": null,
       "grid_auto_columns": null,
       "grid_auto_flow": null,
       "grid_auto_rows": null,
       "grid_column": null,
       "grid_gap": null,
       "grid_row": null,
       "grid_template_areas": null,
       "grid_template_columns": null,
       "grid_template_rows": null,
       "height": null,
       "justify_content": null,
       "justify_items": null,
       "left": null,
       "margin": null,
       "max_height": null,
       "max_width": null,
       "min_height": null,
       "min_width": null,
       "object_fit": null,
       "object_position": null,
       "order": null,
       "overflow": null,
       "overflow_x": null,
       "overflow_y": null,
       "padding": null,
       "right": null,
       "top": null,
       "visibility": null,
       "width": null
      }
     },
     "76a6867d070e4f9eadf8bfc22ca04c4c": {
      "model_module": "@jupyter-widgets/base",
      "model_module_version": "1.2.0",
      "model_name": "LayoutModel",
      "state": {
       "_model_module": "@jupyter-widgets/base",
       "_model_module_version": "1.2.0",
       "_model_name": "LayoutModel",
       "_view_count": null,
       "_view_module": "@jupyter-widgets/base",
       "_view_module_version": "1.2.0",
       "_view_name": "LayoutView",
       "align_content": null,
       "align_items": null,
       "align_self": null,
       "border": null,
       "bottom": null,
       "display": null,
       "flex": null,
       "flex_flow": null,
       "grid_area": null,
       "grid_auto_columns": null,
       "grid_auto_flow": null,
       "grid_auto_rows": null,
       "grid_column": null,
       "grid_gap": null,
       "grid_row": null,
       "grid_template_areas": null,
       "grid_template_columns": null,
       "grid_template_rows": null,
       "height": null,
       "justify_content": null,
       "justify_items": null,
       "left": null,
       "margin": null,
       "max_height": null,
       "max_width": null,
       "min_height": null,
       "min_width": null,
       "object_fit": null,
       "object_position": null,
       "order": null,
       "overflow": null,
       "overflow_x": null,
       "overflow_y": null,
       "padding": null,
       "right": null,
       "top": null,
       "visibility": null,
       "width": null
      }
     },
     "77c07c0513b147f4bcd3a6c8e56a77cc": {
      "model_module": "@jupyter-widgets/base",
      "model_module_version": "1.2.0",
      "model_name": "LayoutModel",
      "state": {
       "_model_module": "@jupyter-widgets/base",
       "_model_module_version": "1.2.0",
       "_model_name": "LayoutModel",
       "_view_count": null,
       "_view_module": "@jupyter-widgets/base",
       "_view_module_version": "1.2.0",
       "_view_name": "LayoutView",
       "align_content": null,
       "align_items": null,
       "align_self": null,
       "border": null,
       "bottom": null,
       "display": null,
       "flex": null,
       "flex_flow": null,
       "grid_area": null,
       "grid_auto_columns": null,
       "grid_auto_flow": null,
       "grid_auto_rows": null,
       "grid_column": null,
       "grid_gap": null,
       "grid_row": null,
       "grid_template_areas": null,
       "grid_template_columns": null,
       "grid_template_rows": null,
       "height": null,
       "justify_content": null,
       "justify_items": null,
       "left": null,
       "margin": null,
       "max_height": null,
       "max_width": null,
       "min_height": null,
       "min_width": null,
       "object_fit": null,
       "object_position": null,
       "order": null,
       "overflow": null,
       "overflow_x": null,
       "overflow_y": null,
       "padding": null,
       "right": null,
       "top": null,
       "visibility": null,
       "width": null
      }
     },
     "77cc1a243a644fb782cc784af7338edb": {
      "model_module": "@jupyter-widgets/controls",
      "model_module_version": "1.5.0",
      "model_name": "HBoxModel",
      "state": {
       "_dom_classes": [],
       "_model_module": "@jupyter-widgets/controls",
       "_model_module_version": "1.5.0",
       "_model_name": "HBoxModel",
       "_view_count": null,
       "_view_module": "@jupyter-widgets/controls",
       "_view_module_version": "1.5.0",
       "_view_name": "HBoxView",
       "box_style": "",
       "children": [
        "IPY_MODEL_cc77c0316a664b8386d3aecc07c4e12a",
        "IPY_MODEL_99a8164ff2f34998985b38147a809d8f",
        "IPY_MODEL_9fa628142a164ed4bcf0d0b0fcd9062c"
       ],
       "layout": "IPY_MODEL_dc77f3a467994045be739daff4e68c39"
      }
     },
     "78bb0698cb7f4ea2a09fb808c9ef25fb": {
      "model_module": "@jupyter-widgets/controls",
      "model_module_version": "1.5.0",
      "model_name": "FloatProgressModel",
      "state": {
       "_dom_classes": [],
       "_model_module": "@jupyter-widgets/controls",
       "_model_module_version": "1.5.0",
       "_model_name": "FloatProgressModel",
       "_view_count": null,
       "_view_module": "@jupyter-widgets/controls",
       "_view_module_version": "1.5.0",
       "_view_name": "ProgressView",
       "bar_style": "success",
       "description": "",
       "description_tooltip": null,
       "layout": "IPY_MODEL_77c07c0513b147f4bcd3a6c8e56a77cc",
       "max": 52.0,
       "min": 0.0,
       "orientation": "horizontal",
       "style": "IPY_MODEL_680171b805da41b09d2fec22a2848791",
       "value": 52.0
      }
     },
     "8dbd67ecc0b945a8b106dbacec0524bf": {
      "model_module": "@jupyter-widgets/controls",
      "model_module_version": "1.5.0",
      "model_name": "HBoxModel",
      "state": {
       "_dom_classes": [],
       "_model_module": "@jupyter-widgets/controls",
       "_model_module_version": "1.5.0",
       "_model_name": "HBoxModel",
       "_view_count": null,
       "_view_module": "@jupyter-widgets/controls",
       "_view_module_version": "1.5.0",
       "_view_name": "HBoxView",
       "box_style": "",
       "children": [
        "IPY_MODEL_abc1ed8c76414145a22c3b262b0f0118",
        "IPY_MODEL_176485dc6a5240b59c95bac62c9727ba",
        "IPY_MODEL_e80bdd12841245cdae7f456a517d8225"
       ],
       "layout": "IPY_MODEL_d8ac0b0260314405b20724f5517f4f8b"
      }
     },
     "93d5b8fc863941498df7937ff1c02e60": {
      "model_module": "@jupyter-widgets/controls",
      "model_module_version": "1.5.0",
      "model_name": "DescriptionStyleModel",
      "state": {
       "_model_module": "@jupyter-widgets/controls",
       "_model_module_version": "1.5.0",
       "_model_name": "DescriptionStyleModel",
       "_view_count": null,
       "_view_module": "@jupyter-widgets/base",
       "_view_module_version": "1.2.0",
       "_view_name": "StyleView",
       "description_width": ""
      }
     },
     "99a8164ff2f34998985b38147a809d8f": {
      "model_module": "@jupyter-widgets/controls",
      "model_module_version": "1.5.0",
      "model_name": "FloatProgressModel",
      "state": {
       "_dom_classes": [],
       "_model_module": "@jupyter-widgets/controls",
       "_model_module_version": "1.5.0",
       "_model_name": "FloatProgressModel",
       "_view_count": null,
       "_view_module": "@jupyter-widgets/controls",
       "_view_module_version": "1.5.0",
       "_view_name": "ProgressView",
       "bar_style": "success",
       "description": "",
       "description_tooltip": null,
       "layout": "IPY_MODEL_6cc76854731b48d999c03e09e32f42f8",
       "max": 2464616.0,
       "min": 0.0,
       "orientation": "horizontal",
       "style": "IPY_MODEL_c3eb270c7c7e4c5e909b123fecf801a3",
       "value": 2464616.0
      }
     },
     "9a6401cf91704110acd02ddc4ca4fe4d": {
      "model_module": "@jupyter-widgets/controls",
      "model_module_version": "1.5.0",
      "model_name": "HTMLModel",
      "state": {
       "_dom_classes": [],
       "_model_module": "@jupyter-widgets/controls",
       "_model_module_version": "1.5.0",
       "_model_name": "HTMLModel",
       "_view_count": null,
       "_view_module": "@jupyter-widgets/controls",
       "_view_module_version": "1.5.0",
       "_view_name": "HTMLView",
       "description": "",
       "description_tooltip": null,
       "layout": "IPY_MODEL_2048ec22b7574822be457d8f57f28986",
       "placeholder": "​",
       "style": "IPY_MODEL_b3a5040a43c34709bad9ab3446723f5c",
       "value": "tokenizer_config.json: 100%"
      }
     },
     "9fa628142a164ed4bcf0d0b0fcd9062c": {
      "model_module": "@jupyter-widgets/controls",
      "model_module_version": "1.5.0",
      "model_name": "HTMLModel",
      "state": {
       "_dom_classes": [],
       "_model_module": "@jupyter-widgets/controls",
       "_model_module_version": "1.5.0",
       "_model_name": "HTMLModel",
       "_view_count": null,
       "_view_module": "@jupyter-widgets/controls",
       "_view_module_version": "1.5.0",
       "_view_name": "HTMLView",
       "description": "",
       "description_tooltip": null,
       "layout": "IPY_MODEL_76a6867d070e4f9eadf8bfc22ca04c4c",
       "placeholder": "​",
       "style": "IPY_MODEL_d905c4a6922340ef8031bf538c6154ea",
       "value": " 2.46M/2.46M [00:00&lt;00:00, 36.3MB/s]"
      }
     },
     "a67eaf6295fe40828e8f2677510ffbaf": {
      "model_module": "@jupyter-widgets/controls",
      "model_module_version": "1.5.0",
      "model_name": "HBoxModel",
      "state": {
       "_dom_classes": [],
       "_model_module": "@jupyter-widgets/controls",
       "_model_module_version": "1.5.0",
       "_model_name": "HBoxModel",
       "_view_count": null,
       "_view_module": "@jupyter-widgets/controls",
       "_view_module_version": "1.5.0",
       "_view_name": "HBoxView",
       "box_style": "",
       "children": [
        "IPY_MODEL_9a6401cf91704110acd02ddc4ca4fe4d",
        "IPY_MODEL_78bb0698cb7f4ea2a09fb808c9ef25fb",
        "IPY_MODEL_bf55da0c04da424c97934860d4b5ed4f"
       ],
       "layout": "IPY_MODEL_465bc173fd7b4bf9872bd15dd8031d51"
      }
     },
     "abc1ed8c76414145a22c3b262b0f0118": {
      "model_module": "@jupyter-widgets/controls",
      "model_module_version": "1.5.0",
      "model_name": "HTMLModel",
      "state": {
       "_dom_classes": [],
       "_model_module": "@jupyter-widgets/controls",
       "_model_module_version": "1.5.0",
       "_model_name": "HTMLModel",
       "_view_count": null,
       "_view_module": "@jupyter-widgets/controls",
       "_view_module_version": "1.5.0",
       "_view_name": "HTMLView",
       "description": "",
       "description_tooltip": null,
       "layout": "IPY_MODEL_d1caf95a748248ec98a28d6c1ecfaa68",
       "placeholder": "​",
       "style": "IPY_MODEL_93d5b8fc863941498df7937ff1c02e60",
       "value": "config.json: 100%"
      }
     },
     "af698b74db70471bb66ff560037a9154": {
      "model_module": "@jupyter-widgets/base",
      "model_module_version": "1.2.0",
      "model_name": "LayoutModel",
      "state": {
       "_model_module": "@jupyter-widgets/base",
       "_model_module_version": "1.2.0",
       "_model_name": "LayoutModel",
       "_view_count": null,
       "_view_module": "@jupyter-widgets/base",
       "_view_module_version": "1.2.0",
       "_view_name": "LayoutView",
       "align_content": null,
       "align_items": null,
       "align_self": null,
       "border": null,
       "bottom": null,
       "display": null,
       "flex": null,
       "flex_flow": null,
       "grid_area": null,
       "grid_auto_columns": null,
       "grid_auto_flow": null,
       "grid_auto_rows": null,
       "grid_column": null,
       "grid_gap": null,
       "grid_row": null,
       "grid_template_areas": null,
       "grid_template_columns": null,
       "grid_template_rows": null,
       "height": null,
       "justify_content": null,
       "justify_items": null,
       "left": null,
       "margin": null,
       "max_height": null,
       "max_width": null,
       "min_height": null,
       "min_width": null,
       "object_fit": null,
       "object_position": null,
       "order": null,
       "overflow": null,
       "overflow_x": null,
       "overflow_y": null,
       "padding": null,
       "right": null,
       "top": null,
       "visibility": null,
       "width": null
      }
     },
     "b3a5040a43c34709bad9ab3446723f5c": {
      "model_module": "@jupyter-widgets/controls",
      "model_module_version": "1.5.0",
      "model_name": "DescriptionStyleModel",
      "state": {
       "_model_module": "@jupyter-widgets/controls",
       "_model_module_version": "1.5.0",
       "_model_name": "DescriptionStyleModel",
       "_view_count": null,
       "_view_module": "@jupyter-widgets/base",
       "_view_module_version": "1.2.0",
       "_view_name": "StyleView",
       "description_width": ""
      }
     },
     "b82dd0a3679540f2bd7ee2acef902920": {
      "model_module": "@jupyter-widgets/base",
      "model_module_version": "1.2.0",
      "model_name": "LayoutModel",
      "state": {
       "_model_module": "@jupyter-widgets/base",
       "_model_module_version": "1.2.0",
       "_model_name": "LayoutModel",
       "_view_count": null,
       "_view_module": "@jupyter-widgets/base",
       "_view_module_version": "1.2.0",
       "_view_name": "LayoutView",
       "align_content": null,
       "align_items": null,
       "align_self": null,
       "border": null,
       "bottom": null,
       "display": null,
       "flex": null,
       "flex_flow": null,
       "grid_area": null,
       "grid_auto_columns": null,
       "grid_auto_flow": null,
       "grid_auto_rows": null,
       "grid_column": null,
       "grid_gap": null,
       "grid_row": null,
       "grid_template_areas": null,
       "grid_template_columns": null,
       "grid_template_rows": null,
       "height": null,
       "justify_content": null,
       "justify_items": null,
       "left": null,
       "margin": null,
       "max_height": null,
       "max_width": null,
       "min_height": null,
       "min_width": null,
       "object_fit": null,
       "object_position": null,
       "order": null,
       "overflow": null,
       "overflow_x": null,
       "overflow_y": null,
       "padding": null,
       "right": null,
       "top": null,
       "visibility": null,
       "width": null
      }
     },
     "bf55da0c04da424c97934860d4b5ed4f": {
      "model_module": "@jupyter-widgets/controls",
      "model_module_version": "1.5.0",
      "model_name": "HTMLModel",
      "state": {
       "_dom_classes": [],
       "_model_module": "@jupyter-widgets/controls",
       "_model_module_version": "1.5.0",
       "_model_name": "HTMLModel",
       "_view_count": null,
       "_view_module": "@jupyter-widgets/controls",
       "_view_module_version": "1.5.0",
       "_view_name": "HTMLView",
       "description": "",
       "description_tooltip": null,
       "layout": "IPY_MODEL_c7ff83ae7e0344bfb188f36cfed075bf",
       "placeholder": "​",
       "style": "IPY_MODEL_6c883df953a4468db2fc82ea602fa5e3",
       "value": " 52.0/52.0 [00:00&lt;00:00, 4.16kB/s]"
      }
     },
     "c3eb270c7c7e4c5e909b123fecf801a3": {
      "model_module": "@jupyter-widgets/controls",
      "model_module_version": "1.5.0",
      "model_name": "ProgressStyleModel",
      "state": {
       "_model_module": "@jupyter-widgets/controls",
       "_model_module_version": "1.5.0",
       "_model_name": "ProgressStyleModel",
       "_view_count": null,
       "_view_module": "@jupyter-widgets/base",
       "_view_module_version": "1.2.0",
       "_view_name": "StyleView",
       "bar_color": null,
       "description_width": ""
      }
     },
     "c7ff83ae7e0344bfb188f36cfed075bf": {
      "model_module": "@jupyter-widgets/base",
      "model_module_version": "1.2.0",
      "model_name": "LayoutModel",
      "state": {
       "_model_module": "@jupyter-widgets/base",
       "_model_module_version": "1.2.0",
       "_model_name": "LayoutModel",
       "_view_count": null,
       "_view_module": "@jupyter-widgets/base",
       "_view_module_version": "1.2.0",
       "_view_name": "LayoutView",
       "align_content": null,
       "align_items": null,
       "align_self": null,
       "border": null,
       "bottom": null,
       "display": null,
       "flex": null,
       "flex_flow": null,
       "grid_area": null,
       "grid_auto_columns": null,
       "grid_auto_flow": null,
       "grid_auto_rows": null,
       "grid_column": null,
       "grid_gap": null,
       "grid_row": null,
       "grid_template_areas": null,
       "grid_template_columns": null,
       "grid_template_rows": null,
       "height": null,
       "justify_content": null,
       "justify_items": null,
       "left": null,
       "margin": null,
       "max_height": null,
       "max_width": null,
       "min_height": null,
       "min_width": null,
       "object_fit": null,
       "object_position": null,
       "order": null,
       "overflow": null,
       "overflow_x": null,
       "overflow_y": null,
       "padding": null,
       "right": null,
       "top": null,
       "visibility": null,
       "width": null
      }
     },
     "cc77c0316a664b8386d3aecc07c4e12a": {
      "model_module": "@jupyter-widgets/controls",
      "model_module_version": "1.5.0",
      "model_name": "HTMLModel",
      "state": {
       "_dom_classes": [],
       "_model_module": "@jupyter-widgets/controls",
       "_model_module_version": "1.5.0",
       "_model_name": "HTMLModel",
       "_view_count": null,
       "_view_module": "@jupyter-widgets/controls",
       "_view_module_version": "1.5.0",
       "_view_name": "HTMLView",
       "description": "",
       "description_tooltip": null,
       "layout": "IPY_MODEL_1eb5793c3a5e4f46b93c0afadeaee671",
       "placeholder": "​",
       "style": "IPY_MODEL_e45a5ea2bcba4dd193fb782aaed0beac",
       "value": "spm.model: 100%"
      }
     },
     "d1caf95a748248ec98a28d6c1ecfaa68": {
      "model_module": "@jupyter-widgets/base",
      "model_module_version": "1.2.0",
      "model_name": "LayoutModel",
      "state": {
       "_model_module": "@jupyter-widgets/base",
       "_model_module_version": "1.2.0",
       "_model_name": "LayoutModel",
       "_view_count": null,
       "_view_module": "@jupyter-widgets/base",
       "_view_module_version": "1.2.0",
       "_view_name": "LayoutView",
       "align_content": null,
       "align_items": null,
       "align_self": null,
       "border": null,
       "bottom": null,
       "display": null,
       "flex": null,
       "flex_flow": null,
       "grid_area": null,
       "grid_auto_columns": null,
       "grid_auto_flow": null,
       "grid_auto_rows": null,
       "grid_column": null,
       "grid_gap": null,
       "grid_row": null,
       "grid_template_areas": null,
       "grid_template_columns": null,
       "grid_template_rows": null,
       "height": null,
       "justify_content": null,
       "justify_items": null,
       "left": null,
       "margin": null,
       "max_height": null,
       "max_width": null,
       "min_height": null,
       "min_width": null,
       "object_fit": null,
       "object_position": null,
       "order": null,
       "overflow": null,
       "overflow_x": null,
       "overflow_y": null,
       "padding": null,
       "right": null,
       "top": null,
       "visibility": null,
       "width": null
      }
     },
     "d8ac0b0260314405b20724f5517f4f8b": {
      "model_module": "@jupyter-widgets/base",
      "model_module_version": "1.2.0",
      "model_name": "LayoutModel",
      "state": {
       "_model_module": "@jupyter-widgets/base",
       "_model_module_version": "1.2.0",
       "_model_name": "LayoutModel",
       "_view_count": null,
       "_view_module": "@jupyter-widgets/base",
       "_view_module_version": "1.2.0",
       "_view_name": "LayoutView",
       "align_content": null,
       "align_items": null,
       "align_self": null,
       "border": null,
       "bottom": null,
       "display": null,
       "flex": null,
       "flex_flow": null,
       "grid_area": null,
       "grid_auto_columns": null,
       "grid_auto_flow": null,
       "grid_auto_rows": null,
       "grid_column": null,
       "grid_gap": null,
       "grid_row": null,
       "grid_template_areas": null,
       "grid_template_columns": null,
       "grid_template_rows": null,
       "height": null,
       "justify_content": null,
       "justify_items": null,
       "left": null,
       "margin": null,
       "max_height": null,
       "max_width": null,
       "min_height": null,
       "min_width": null,
       "object_fit": null,
       "object_position": null,
       "order": null,
       "overflow": null,
       "overflow_x": null,
       "overflow_y": null,
       "padding": null,
       "right": null,
       "top": null,
       "visibility": null,
       "width": null
      }
     },
     "d905c4a6922340ef8031bf538c6154ea": {
      "model_module": "@jupyter-widgets/controls",
      "model_module_version": "1.5.0",
      "model_name": "DescriptionStyleModel",
      "state": {
       "_model_module": "@jupyter-widgets/controls",
       "_model_module_version": "1.5.0",
       "_model_name": "DescriptionStyleModel",
       "_view_count": null,
       "_view_module": "@jupyter-widgets/base",
       "_view_module_version": "1.2.0",
       "_view_name": "StyleView",
       "description_width": ""
      }
     },
     "dc77f3a467994045be739daff4e68c39": {
      "model_module": "@jupyter-widgets/base",
      "model_module_version": "1.2.0",
      "model_name": "LayoutModel",
      "state": {
       "_model_module": "@jupyter-widgets/base",
       "_model_module_version": "1.2.0",
       "_model_name": "LayoutModel",
       "_view_count": null,
       "_view_module": "@jupyter-widgets/base",
       "_view_module_version": "1.2.0",
       "_view_name": "LayoutView",
       "align_content": null,
       "align_items": null,
       "align_self": null,
       "border": null,
       "bottom": null,
       "display": null,
       "flex": null,
       "flex_flow": null,
       "grid_area": null,
       "grid_auto_columns": null,
       "grid_auto_flow": null,
       "grid_auto_rows": null,
       "grid_column": null,
       "grid_gap": null,
       "grid_row": null,
       "grid_template_areas": null,
       "grid_template_columns": null,
       "grid_template_rows": null,
       "height": null,
       "justify_content": null,
       "justify_items": null,
       "left": null,
       "margin": null,
       "max_height": null,
       "max_width": null,
       "min_height": null,
       "min_width": null,
       "object_fit": null,
       "object_position": null,
       "order": null,
       "overflow": null,
       "overflow_x": null,
       "overflow_y": null,
       "padding": null,
       "right": null,
       "top": null,
       "visibility": null,
       "width": null
      }
     },
     "e45a5ea2bcba4dd193fb782aaed0beac": {
      "model_module": "@jupyter-widgets/controls",
      "model_module_version": "1.5.0",
      "model_name": "DescriptionStyleModel",
      "state": {
       "_model_module": "@jupyter-widgets/controls",
       "_model_module_version": "1.5.0",
       "_model_name": "DescriptionStyleModel",
       "_view_count": null,
       "_view_module": "@jupyter-widgets/base",
       "_view_module_version": "1.2.0",
       "_view_name": "StyleView",
       "description_width": ""
      }
     },
     "e80bdd12841245cdae7f456a517d8225": {
      "model_module": "@jupyter-widgets/controls",
      "model_module_version": "1.5.0",
      "model_name": "HTMLModel",
      "state": {
       "_dom_classes": [],
       "_model_module": "@jupyter-widgets/controls",
       "_model_module_version": "1.5.0",
       "_model_name": "HTMLModel",
       "_view_count": null,
       "_view_module": "@jupyter-widgets/controls",
       "_view_module_version": "1.5.0",
       "_view_name": "HTMLView",
       "description": "",
       "description_tooltip": null,
       "layout": "IPY_MODEL_b82dd0a3679540f2bd7ee2acef902920",
       "placeholder": "​",
       "style": "IPY_MODEL_4013bfcf759c4d20bfea2dcab0e005a8",
       "value": " 579/579 [00:00&lt;00:00, 34.1kB/s]"
      }
     },
     "ea23c2373d4f4db49094bff5129890c1": {
      "model_module": "@jupyter-widgets/controls",
      "model_module_version": "1.5.0",
      "model_name": "ProgressStyleModel",
      "state": {
       "_model_module": "@jupyter-widgets/controls",
       "_model_module_version": "1.5.0",
       "_model_name": "ProgressStyleModel",
       "_view_count": null,
       "_view_module": "@jupyter-widgets/base",
       "_view_module_version": "1.2.0",
       "_view_name": "StyleView",
       "bar_color": null,
       "description_width": ""
      }
     }
    },
    "version_major": 2,
    "version_minor": 0
   }
  }
 },
 "nbformat": 4,
 "nbformat_minor": 5
}
