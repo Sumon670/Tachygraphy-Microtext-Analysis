{
 "cells": [
  {
   "cell_type": "code",
   "execution_count": 1,
   "id": "36a4b825",
   "metadata": {
    "_cell_guid": "b1076dfc-b9ad-4769-8c92-a6c4dae69d19",
    "_uuid": "8f2839f25d086af736a60e9eeb907d3b93b6e0e5",
    "execution": {
     "iopub.execute_input": "2024-11-29T13:48:29.139996Z",
     "iopub.status.busy": "2024-11-29T13:48:29.139712Z",
     "iopub.status.idle": "2024-11-29T13:48:29.837892Z",
     "shell.execute_reply": "2024-11-29T13:48:29.837021Z"
    },
    "papermill": {
     "duration": 0.722279,
     "end_time": "2024-11-29T13:48:29.839731",
     "exception": false,
     "start_time": "2024-11-29T13:48:29.117452",
     "status": "completed"
    },
    "tags": []
   },
   "outputs": [
    {
     "name": "stdout",
     "output_type": "stream",
     "text": [
      "/kaggle/input/dataset-tachygraphy/Tachygraphy_EmotionMoodtags_Dataset.csv\n",
      "/kaggle/input/dataset-tachygraphy/Tachygraphy_dataset_main.csv\n",
      "/kaggle/input/dataset-tachygraphy/Tachygraphy_MicroText-AIO-V2.xlsx\n"
     ]
    }
   ],
   "source": [
    "# This Python 3 environment comes with many helpful analytics libraries installed\n",
    "# It is defined by the kaggle/python Docker image: https://github.com/kaggle/docker-python\n",
    "# For example, here's several helpful packages to load\n",
    "\n",
    "import numpy as np # linear algebra\n",
    "import pandas as pd # data processing, CSV file I/O (e.g. pd.read_csv)\n",
    "\n",
    "# Input data files are available in the read-only \"../input/\" directory\n",
    "# For example, running this (by clicking run or pressing Shift+Enter) will list all files under the input directory\n",
    "\n",
    "import os\n",
    "for dirname, _, filenames in os.walk('/kaggle/input'):\n",
    "    for filename in filenames:\n",
    "        print(os.path.join(dirname, filename))\n",
    "\n",
    "# You can write up to 20GB to the current directory (/kaggle/working/) that gets preserved as output when you create a version using \"Save & Run All\" \n",
    "# You can also write temporary files to /kaggle/temp/, but they won't be saved outside of the current session"
   ]
  },
  {
   "cell_type": "markdown",
   "id": "000f82df",
   "metadata": {
    "papermill": {
     "duration": 0.019095,
     "end_time": "2024-11-29T13:48:29.879420",
     "exception": false,
     "start_time": "2024-11-29T13:48:29.860325",
     "status": "completed"
    },
    "tags": []
   },
   "source": [
    "# DATASET & PREPROCESSING"
   ]
  },
  {
   "cell_type": "code",
   "execution_count": 2,
   "id": "6064a50b",
   "metadata": {
    "execution": {
     "iopub.execute_input": "2024-11-29T13:48:29.918863Z",
     "iopub.status.busy": "2024-11-29T13:48:29.918489Z",
     "iopub.status.idle": "2024-11-29T13:48:30.107996Z",
     "shell.execute_reply": "2024-11-29T13:48:30.107175Z"
    },
    "papermill": {
     "duration": 0.211368,
     "end_time": "2024-11-29T13:48:30.109752",
     "exception": false,
     "start_time": "2024-11-29T13:48:29.898384",
     "status": "completed"
    },
    "tags": []
   },
   "outputs": [
    {
     "data": {
      "text/plain": [
       "'For emoji cleaning'"
      ]
     },
     "execution_count": 2,
     "metadata": {},
     "output_type": "execute_result"
    }
   ],
   "source": [
    "import emoji\n",
    "from bs4 import BeautifulSoup\n",
    "import os\n",
    "import re\n",
    "import string\n",
    "import json\n",
    "\n",
    "'''For emoji cleaning'''"
   ]
  },
  {
   "cell_type": "code",
   "execution_count": 3,
   "id": "c10b210c",
   "metadata": {
    "execution": {
     "iopub.execute_input": "2024-11-29T13:48:30.149776Z",
     "iopub.status.busy": "2024-11-29T13:48:30.149401Z",
     "iopub.status.idle": "2024-11-29T13:48:30.194614Z",
     "shell.execute_reply": "2024-11-29T13:48:30.194048Z"
    },
    "papermill": {
     "duration": 0.066925,
     "end_time": "2024-11-29T13:48:30.196306",
     "exception": false,
     "start_time": "2024-11-29T13:48:30.129381",
     "status": "completed"
    },
    "tags": []
   },
   "outputs": [],
   "source": [
    "dataset = pd.read_csv('/kaggle/input/dataset-tachygraphy/Tachygraphy_EmotionMoodtags_Dataset.csv')"
   ]
  },
  {
   "cell_type": "code",
   "execution_count": 4,
   "id": "b7db0f2b",
   "metadata": {
    "execution": {
     "iopub.execute_input": "2024-11-29T13:48:30.236415Z",
     "iopub.status.busy": "2024-11-29T13:48:30.236178Z",
     "iopub.status.idle": "2024-11-29T13:48:30.239532Z",
     "shell.execute_reply": "2024-11-29T13:48:30.238876Z"
    },
    "papermill": {
     "duration": 0.024831,
     "end_time": "2024-11-29T13:48:30.241091",
     "exception": false,
     "start_time": "2024-11-29T13:48:30.216260",
     "status": "completed"
    },
    "tags": []
   },
   "outputs": [],
   "source": [
    "df=dataset"
   ]
  },
  {
   "cell_type": "code",
   "execution_count": 5,
   "id": "a800713c",
   "metadata": {
    "execution": {
     "iopub.execute_input": "2024-11-29T13:48:30.282606Z",
     "iopub.status.busy": "2024-11-29T13:48:30.282365Z",
     "iopub.status.idle": "2024-11-29T13:48:30.303207Z",
     "shell.execute_reply": "2024-11-29T13:48:30.302553Z"
    },
    "papermill": {
     "duration": 0.043373,
     "end_time": "2024-11-29T13:48:30.304748",
     "exception": false,
     "start_time": "2024-11-29T13:48:30.261375",
     "status": "completed"
    },
    "tags": []
   },
   "outputs": [],
   "source": [
    "contraction_mapping = {\"ain't\": \"is not\", \"aren't\": \"are not\",\"can't\": \"cannot\", \"'cause\": \"because\", \"could've\": \"could have\", \"couldn't\": \"could not\", \n",
    "                       \"didn't\": \"did not\",  \"doesn't\": \"does not\", \"don't\": \"do not\", \"hadn't\": \"had not\", \"hasn't\": \"has not\", \"haven't\": \"have not\", \n",
    "                       \"he'd\": \"he would\",\"he'll\": \"he will\", \"he's\": \"he is\", \"how'd\": \"how did\", \"how'd'y\": \"how do you\", \"how'll\": \"how will\", \n",
    "                       \"how's\": \"how is\",  \"I'd\": \"I would\", \"I'd've\": \"I would have\", \"I'll\": \"I will\", \"I'll've\": \"I will have\",\"I'm\": \"I am\",\n",
    "                       \"I've\": \"I have\", \"i'd\": \"i would\", \"i'd've\": \"i would have\", \"i'll\": \"i will\",  \"i'll've\": \"i will have\",\"i'm\": \"i am\", \n",
    "                       \"i've\": \"i have\", \"isn't\": \"is not\", \"it'd\": \"it would\", \"it'd've\": \"it would have\", \"it'll\": \"it will\", \"it'll've\": \"it will have\",\n",
    "                       \"it's\": \"it is\", \"let's\": \"let us\", \"ma'am\": \"madam\", \"mayn't\": \"may not\", \"might've\": \"might have\",\"mightn't\": \"might not\",\n",
    "                       \"mightn't've\": \"might not have\", \"must've\": \"must have\", \"mustn't\": \"must not\", \"mustn't've\": \"must not have\", \"needn't\": \"need not\", \n",
    "                       \"needn't've\": \"need not have\",\"o'clock\": \"of the clock\", \"oughtn't\": \"ought not\", \"oughtn't've\": \"ought not have\", \"shan't\": \"shall not\",\n",
    "                       \"sha'n't\": \"shall not\", \"shan't've\": \"shall not have\", \"she'd\": \"she would\", \"she'd've\": \"she would have\", \"she'll\": \"she will\", \n",
    "                       \"she'll've\": \"she will have\", \"she's\": \"she is\", \"should've\": \"should have\", \"shouldn't\": \"should not\", \"shouldn't've\": \"should not have\",\n",
    "                       \"so've\": \"so have\",\"so's\": \"so as\", \"this's\": \"this is\",\"that'd\": \"that would\", \"that'd've\": \"that would have\", \"that's\": \"that is\",\n",
    "                       \"there'd\": \"there would\", \"there'd've\": \"there would have\", \"there's\": \"there is\", \"here's\": \"here is\",\"they'd\": \"they would\",\n",
    "                       \"they'd've\": \"they would have\", \"they'll\": \"they will\", \"they'll've\": \"they will have\", \"they're\": \"they are\", \"they've\": \"they have\",\n",
    "                       \"to've\": \"to have\", \"wasn't\": \"was not\", \"we'd\": \"we would\", \"we'd've\": \"we would have\", \"we'll\": \"we will\", \"we'll've\": \"we will have\",\n",
    "                       \"we're\": \"we are\", \"we've\": \"we have\", \"weren't\": \"were not\", \"what'll\": \"what will\", \"what'll've\": \"what will have\", \n",
    "                       \"what're\": \"what are\",  \"what's\": \"what is\", \"what've\": \"what have\", \"when's\": \"when is\", \"when've\": \"when have\", \"where'd\": \"where did\",\n",
    "                       \"where's\": \"where is\", \"where've\": \"where have\", \"who'll\": \"who will\", \"who'll've\": \"who will have\", \"who's\": \"who is\", \n",
    "                       \"who've\": \"who have\", \"why's\": \"why is\", \"why've\": \"why have\", \"will've\": \"will have\", \"won't\": \"will not\", \"won't've\": \"will not have\", \n",
    "                       \"would've\": \"would have\", \"wouldn't\": \"would not\", \"wouldn't've\": \"would not have\", \"y'all\": \"you all\", \"y'all'd\": \"you all would\",\n",
    "                       \"y'all'd've\": \"you all would have\",\"y'all're\": \"you all are\",\"y'all've\": \"you all have\",\"you'd\": \"you would\", \"you'd've\": \"you would have\",\n",
    "                       \"you'll\": \"you will\", \"you'll've\": \"you will have\", \"you're\": \"you are\", \"you've\": \"you have\", 'u.s':'america', 'e.g':'for example'}\n",
    "\n",
    "punct = [',', '.', '\"', ':', ')', '(', '-', '!', '?', '|', ';', \"'\", '$', '&', '/', '[', ']', '>', '%', '=', '#', '*', '+', '\\\\', '•',  '~', '@', '£', \n",
    " '·', '_', '{', '}', '©', '^', '®', '`',  '<', '→', '°', '€', '™', '›',  '♥', '←', '×', '§', '″', '′', 'Â', '█', '½', 'à', '…', \n",
    " '“', '★', '”', '–', '●', 'â', '►', '−', '¢', '²', '¬', '░', '¶', '↑', '±', '¿', '▾', '═', '¦', '║', '―', '¥', '▓', '—', '‹', '─', \n",
    " '▒', '：', '¼', '⊕', '▼', '▪', '†', '■', '’', '▀', '¨', '▄', '♫', '☆', 'é', '¯', '♦', '¤', '▲', 'è', '¸', '¾', 'Ã', '⋅', '‘', '∞', \n",
    " '∙', '）', '↓', '、', '│', '（', '»', '，', '♪', '╩', '╚', '³', '・', '╦', '╣', '╔', '╗', '▬', '❤', 'ï', 'Ø', '¹', '≤', '‡', '√', ]\n",
    "\n",
    "punct_mapping = {\"‘\": \"'\", \"₹\": \"e\", \"´\": \"'\", \"°\": \"\", \"€\": \"e\", \"™\": \"tm\", \"√\": \" sqrt \", \"×\": \"x\", \"²\": \"2\", \"—\": \"-\", \"–\": \"-\", \"’\": \"'\", \"_\": \"-\",\n",
    "                 \"`\": \"'\", '“': '\"', '”': '\"', '“': '\"', \"£\": \"e\", '∞': 'infinity', 'θ': 'theta', '÷': '/', 'α': 'alpha', '•': '.', 'à': 'a', '−': '-', \n",
    "                 'β': 'beta', '∅': '', '³': '3', 'π': 'pi', '!':' '}\n",
    "\n",
    "mispell_dict = {'colour': 'color', 'centre': 'center', 'favourite': 'favorite', 'travelling': 'traveling', 'counselling': 'counseling', 'theatre': 'theater',\n",
    "                'cancelled': 'canceled', 'labour': 'labor', 'organisation': 'organization', 'wwii': 'world war 2', 'citicise': 'criticize', 'youtu ': 'youtube ',\n",
    "                'Qoura': 'Quora', 'sallary': 'salary', 'Whta': 'What', 'narcisist': 'narcissist', 'howdo': 'how do', 'whatare': 'what are', 'howcan': 'how can',\n",
    "                'howmuch': 'how much', 'howmany': 'how many', 'whydo': 'why do', 'doI': 'do I', 'theBest': 'the best', 'howdoes': 'how does', \n",
    "                'mastrubation': 'masturbation', 'mastrubate': 'masturbate', \"mastrubating\": 'masturbating', 'pennis': 'penis', 'Etherium': 'Ethereum', \n",
    "                'narcissit': 'narcissist', 'bigdata': 'big data', '2k17': '2017', '2k18': '2018', 'qouta': 'quota', 'exboyfriend': 'ex boyfriend', \n",
    "                'airhostess': 'air hostess', \"whst\": 'what', 'watsapp': 'whatsapp', 'demonitisation': 'demonetization', 'demonitization': 'demonetization',\n",
    "                'demonetisation': 'demonetization'}\n",
    "\n",
    "def clean_text(text):\n",
    "    '''Clean emoji, Make text lowercase, remove text in square brackets,remove links,remove punctuation\n",
    "    and remove words containing numbers.'''\n",
    "#     text = emoji.demojize(text)\n",
    "#     text = re.sub(r'\\:(.*?)\\:','',text)\n",
    "#     text = str(text).lower()    #Making Text Lowercase\n",
    "#     text = re.sub('\\[.*?\\]', '', text)\n",
    "    #The next 2 lines remove html text\n",
    "    text = BeautifulSoup(text, 'lxml').get_text()\n",
    "    text = re.sub('https?://\\S+|www\\.\\S+', '', text)\n",
    "    text = re.sub('<.*?>+', '', text)\n",
    "    text = re.sub('\\n', '', text)\n",
    "#     text = re.sub('\\w*\\d\\w*', '', text)\n",
    "    # replacing everything with space except (a-z, A-Z, 0-9, \"%\", \".\", \"&\", \",\", \"'\", \"?\", \"!\", \",\", \"'\", \";\", \"-\")\n",
    "    text = re.sub(r\"[^a-zA-Z0-9?.!,¿'%&,';-]+\", \" \", text)\n",
    "    return text\n",
    "\n",
    "def clean_contractions(text, mapping):\n",
    "    '''Clean contraction using contraction mapping'''    \n",
    "    specials = [\"’\", \"‘\", \"´\", \"`\"]\n",
    "    for s in specials:\n",
    "        text = text.replace(s, \"'\")\n",
    "    for word in mapping.keys():\n",
    "        if \"\"+word+\"\" in text:\n",
    "            text = text.replace(\"\"+word+\"\", \"\"+mapping[word]+\"\")\n",
    "    #Remove Punctuations\n",
    "    text = re.sub('[%s]' % re.escape(string.punctuation), '', text)\n",
    "    # creating a space between a word and the punctuation following it\n",
    "    # eg: \"he is a boy.\" => \"he is a boy .\"\n",
    "    text = re.sub(r\"([?.!,¿])\", r\" \\1 \", text)\n",
    "    text = re.sub(r'[\" \"]+', \" \", text)\n",
    "    return text\n",
    "\n",
    "def clean_special_chars(text, punct, mapping):\n",
    "    '''Cleans special characters present(if any)'''   \n",
    "    for p in mapping:\n",
    "        text = text.replace(p, mapping[p])\n",
    "    \n",
    "    for p in punct:\n",
    "        text = text.replace(p, f' {p} ')\n",
    "    \n",
    "    specials = {'\\u200b': ' ', '…': ' ... ', '\\ufeff': '', 'करना': '', 'है': ''}  \n",
    "    for s in specials:\n",
    "        text = text.replace(s, specials[s])\n",
    "    \n",
    "    return text\n",
    "\n",
    "def correct_spelling(x, dic):\n",
    "    '''Corrects common spelling errors'''   \n",
    "    for word in dic.keys():\n",
    "        x = x.replace(word, dic[word])\n",
    "    return x\n",
    "\n",
    "def remove_space(text):\n",
    "    '''Removes awkward spaces'''   \n",
    "    #Removes awkward spaces \n",
    "    text = text.strip()\n",
    "    text = text.split()\n",
    "    return \" \".join(text)\n",
    "\n",
    "def text_preprocessing_pipeline(text):\n",
    "    '''Cleaning and parsing the text.'''\n",
    "#     text = clean_contractions(text, contraction_mapping)\n",
    "    text = clean_text(text)\n",
    "#     text = clean_contractions(text, contraction_mapping)\n",
    "#     text = clean_special_chars(text, punct, punct_mapping)\n",
    "#     text = correct_spelling(text, mispell_dict)\n",
    "    text = remove_space(text)\n",
    "    return text"
   ]
  },
  {
   "cell_type": "code",
   "execution_count": 6,
   "id": "cbed35ce",
   "metadata": {
    "execution": {
     "iopub.execute_input": "2024-11-29T13:48:30.345532Z",
     "iopub.status.busy": "2024-11-29T13:48:30.345310Z",
     "iopub.status.idle": "2024-11-29T13:48:30.356587Z",
     "shell.execute_reply": "2024-11-29T13:48:30.355752Z"
    },
    "papermill": {
     "duration": 0.033504,
     "end_time": "2024-11-29T13:48:30.358231",
     "exception": false,
     "start_time": "2024-11-29T13:48:30.324727",
     "status": "completed"
    },
    "tags": []
   },
   "outputs": [
    {
     "data": {
      "text/plain": [
       "0                                last session of the day \n",
       "1       shanghai is also really exciting precisely  sk...\n",
       "2                                  submit the report asap\n",
       "3                                              happy bday\n",
       "4                                      the ogs  i like it\n",
       "                              ...                        \n",
       "4953      make a pet face  wtf wrong with me tonight haha\n",
       "4954         i dnt care anymore  boyz aint worth d drama \n",
       "4955    no relationship is perfect tho me bae goo from...\n",
       "4956    over here tryna get my nail polishes and shit lol\n",
       "4957                       no one was loved d way i luv u\n",
       "Name: text, Length: 4958, dtype: object"
      ]
     },
     "execution_count": 6,
     "metadata": {},
     "output_type": "execute_result"
    }
   ],
   "source": [
    "df['text']"
   ]
  },
  {
   "cell_type": "code",
   "execution_count": 7,
   "id": "d21b6160",
   "metadata": {
    "execution": {
     "iopub.execute_input": "2024-11-29T13:48:30.397535Z",
     "iopub.status.busy": "2024-11-29T13:48:30.397318Z",
     "iopub.status.idle": "2024-11-29T13:48:30.408125Z",
     "shell.execute_reply": "2024-11-29T13:48:30.407567Z"
    },
    "papermill": {
     "duration": 0.032278,
     "end_time": "2024-11-29T13:48:30.409617",
     "exception": false,
     "start_time": "2024-11-29T13:48:30.377339",
     "status": "completed"
    },
    "tags": []
   },
   "outputs": [],
   "source": [
    "emotion_columns = ['anger', 'disgust', 'fear', 'joy', 'neutral', 'sadness', 'surprise']\n",
    "df[emotion_columns] = df[emotion_columns].astype(float)"
   ]
  },
  {
   "cell_type": "code",
   "execution_count": 8,
   "id": "57568291",
   "metadata": {
    "execution": {
     "iopub.execute_input": "2024-11-29T13:48:30.449085Z",
     "iopub.status.busy": "2024-11-29T13:48:30.448828Z",
     "iopub.status.idle": "2024-11-29T13:48:30.453089Z",
     "shell.execute_reply": "2024-11-29T13:48:30.452287Z"
    },
    "papermill": {
     "duration": 0.025682,
     "end_time": "2024-11-29T13:48:30.454712",
     "exception": false,
     "start_time": "2024-11-29T13:48:30.429030",
     "status": "completed"
    },
    "tags": []
   },
   "outputs": [],
   "source": [
    "df['text'] = df['text'].astype(str)\n",
    "# df['anger'] = df['anger'].astype(float)\n",
    "# df['disgust'] = df['disgust'].astype(float)\n",
    "# df['fear'] = df['fear'].astype(float)\n",
    "# df['joy'] = df['joy'].astype(float)\n",
    "# df['neutral'] = df['neutral'].astype(float)\n",
    "# df['sadness'] = df['sadness'].astype(float)\n",
    "# df['surprise'] = df['surprise'].astype(float)"
   ]
  },
  {
   "cell_type": "code",
   "execution_count": 9,
   "id": "e781b738",
   "metadata": {
    "execution": {
     "iopub.execute_input": "2024-11-29T13:48:30.494233Z",
     "iopub.status.busy": "2024-11-29T13:48:30.494015Z",
     "iopub.status.idle": "2024-11-29T13:48:31.217001Z",
     "shell.execute_reply": "2024-11-29T13:48:31.216349Z"
    },
    "papermill": {
     "duration": 0.745026,
     "end_time": "2024-11-29T13:48:31.218984",
     "exception": false,
     "start_time": "2024-11-29T13:48:30.473958",
     "status": "completed"
    },
    "tags": []
   },
   "outputs": [],
   "source": [
    "df['text'] = df['text'].apply(lambda x: text_preprocessing_pipeline(x))"
   ]
  },
  {
   "cell_type": "code",
   "execution_count": 10,
   "id": "bcc9aa52",
   "metadata": {
    "execution": {
     "iopub.execute_input": "2024-11-29T13:48:31.258660Z",
     "iopub.status.busy": "2024-11-29T13:48:31.258425Z",
     "iopub.status.idle": "2024-11-29T13:48:31.264630Z",
     "shell.execute_reply": "2024-11-29T13:48:31.263836Z"
    },
    "papermill": {
     "duration": 0.027797,
     "end_time": "2024-11-29T13:48:31.266293",
     "exception": false,
     "start_time": "2024-11-29T13:48:31.238496",
     "status": "completed"
    },
    "tags": []
   },
   "outputs": [
    {
     "data": {
      "text/plain": [
       "0                                 last session of the day\n",
       "1       shanghai is also really exciting precisely sky...\n",
       "2                                  submit the report asap\n",
       "3                                              happy bday\n",
       "4                                       the ogs i like it\n",
       "                              ...                        \n",
       "4953       make a pet face wtf wrong with me tonight haha\n",
       "4954           i dnt care anymore boyz aint worth d drama\n",
       "4955    no relationship is perfect tho me bae goo from...\n",
       "4956    over here tryna get my nail polishes and shit lol\n",
       "4957                       no one was loved d way i luv u\n",
       "Name: text, Length: 4958, dtype: object"
      ]
     },
     "execution_count": 10,
     "metadata": {},
     "output_type": "execute_result"
    }
   ],
   "source": [
    "df['text']"
   ]
  },
  {
   "cell_type": "code",
   "execution_count": 11,
   "id": "21e7378e",
   "metadata": {
    "execution": {
     "iopub.execute_input": "2024-11-29T13:48:31.305981Z",
     "iopub.status.busy": "2024-11-29T13:48:31.305730Z",
     "iopub.status.idle": "2024-11-29T13:48:31.311645Z",
     "shell.execute_reply": "2024-11-29T13:48:31.310857Z"
    },
    "papermill": {
     "duration": 0.027619,
     "end_time": "2024-11-29T13:48:31.313227",
     "exception": false,
     "start_time": "2024-11-29T13:48:31.285608",
     "status": "completed"
    },
    "tags": []
   },
   "outputs": [],
   "source": [
    "df.drop(columns=['serial', 'pred', 'label', 'score'], inplace=True)"
   ]
  },
  {
   "cell_type": "code",
   "execution_count": 12,
   "id": "d97b1b30",
   "metadata": {
    "execution": {
     "iopub.execute_input": "2024-11-29T13:48:31.353312Z",
     "iopub.status.busy": "2024-11-29T13:48:31.353097Z",
     "iopub.status.idle": "2024-11-29T13:48:31.356830Z",
     "shell.execute_reply": "2024-11-29T13:48:31.356037Z"
    },
    "papermill": {
     "duration": 0.025501,
     "end_time": "2024-11-29T13:48:31.358400",
     "exception": false,
     "start_time": "2024-11-29T13:48:31.332899",
     "status": "completed"
    },
    "tags": []
   },
   "outputs": [],
   "source": [
    "emotion_label_mapping = {\n",
    "    0: \"anger\", 1: \"disgust\", 2: \"fear\", 3: \"joy\", 4: \"neutral\",\n",
    "    5: \"sadness\", 6: \"surprise\"\n",
    "}"
   ]
  },
  {
   "cell_type": "code",
   "execution_count": 13,
   "id": "bb97d3ad",
   "metadata": {
    "execution": {
     "iopub.execute_input": "2024-11-29T13:48:31.398072Z",
     "iopub.status.busy": "2024-11-29T13:48:31.397798Z",
     "iopub.status.idle": "2024-11-29T13:48:31.401164Z",
     "shell.execute_reply": "2024-11-29T13:48:31.400529Z"
    },
    "papermill": {
     "duration": 0.02481,
     "end_time": "2024-11-29T13:48:31.402694",
     "exception": false,
     "start_time": "2024-11-29T13:48:31.377884",
     "status": "completed"
    },
    "tags": []
   },
   "outputs": [],
   "source": [
    "EMOTION_LABELS = [\n",
    "    \"anger\", \"disgust\", \"fear\", \"joy\", \"neutral\",\n",
    "    \"sadness\", \"surprise\"\n",
    "]"
   ]
  },
  {
   "cell_type": "code",
   "execution_count": 14,
   "id": "e34c7a6a",
   "metadata": {
    "execution": {
     "iopub.execute_input": "2024-11-29T13:48:31.441959Z",
     "iopub.status.busy": "2024-11-29T13:48:31.441709Z",
     "iopub.status.idle": "2024-11-29T13:48:31.445645Z",
     "shell.execute_reply": "2024-11-29T13:48:31.444867Z"
    },
    "papermill": {
     "duration": 0.025239,
     "end_time": "2024-11-29T13:48:31.447168",
     "exception": false,
     "start_time": "2024-11-29T13:48:31.421929",
     "status": "completed"
    },
    "tags": []
   },
   "outputs": [],
   "source": [
    "def test_train_split(dataset, test_ratio=0.1):\n",
    "  test_indices = np.random.rand(len(dataset)) < test_ratio\n",
    "  return dataset[~test_indices], dataset[test_indices]"
   ]
  },
  {
   "cell_type": "code",
   "execution_count": 15,
   "id": "1582a8f2",
   "metadata": {
    "execution": {
     "iopub.execute_input": "2024-11-29T13:48:31.519964Z",
     "iopub.status.busy": "2024-11-29T13:48:31.519659Z",
     "iopub.status.idle": "2024-11-29T13:48:31.526629Z",
     "shell.execute_reply": "2024-11-29T13:48:31.525878Z"
    },
    "papermill": {
     "duration": 0.061994,
     "end_time": "2024-11-29T13:48:31.528201",
     "exception": false,
     "start_time": "2024-11-29T13:48:31.466207",
     "status": "completed"
    },
    "tags": []
   },
   "outputs": [
    {
     "name": "stdout",
     "output_type": "stream",
     "text": [
      "4516 examples in training, 442 examples in testing.\n"
     ]
    }
   ],
   "source": [
    "train_ds_pd, validation_ds_pd = test_train_split(df)\n",
    "print(\"{} examples in training, {} examples in testing.\".format(\n",
    "    len(train_ds_pd), len(validation_ds_pd)))"
   ]
  },
  {
   "cell_type": "code",
   "execution_count": 16,
   "id": "d1449203",
   "metadata": {
    "execution": {
     "iopub.execute_input": "2024-11-29T13:48:31.567639Z",
     "iopub.status.busy": "2024-11-29T13:48:31.567383Z",
     "iopub.status.idle": "2024-11-29T13:48:31.572374Z",
     "shell.execute_reply": "2024-11-29T13:48:31.571754Z"
    },
    "papermill": {
     "duration": 0.026548,
     "end_time": "2024-11-29T13:48:31.574043",
     "exception": false,
     "start_time": "2024-11-29T13:48:31.547495",
     "status": "completed"
    },
    "tags": []
   },
   "outputs": [],
   "source": [
    "train_ds_pd = train_ds_pd.reset_index(drop=True)\n",
    "validation_ds_pd = validation_ds_pd.reset_index(drop=True)"
   ]
  },
  {
   "cell_type": "code",
   "execution_count": 17,
   "id": "e8916d4a",
   "metadata": {
    "execution": {
     "iopub.execute_input": "2024-11-29T13:48:31.615074Z",
     "iopub.status.busy": "2024-11-29T13:48:31.614562Z",
     "iopub.status.idle": "2024-11-29T13:48:34.739075Z",
     "shell.execute_reply": "2024-11-29T13:48:34.738376Z"
    },
    "papermill": {
     "duration": 3.146673,
     "end_time": "2024-11-29T13:48:34.741094",
     "exception": false,
     "start_time": "2024-11-29T13:48:31.594421",
     "status": "completed"
    },
    "tags": []
   },
   "outputs": [],
   "source": [
    "import torch\n",
    "import torch.nn\n",
    "import torch.nn as nn"
   ]
  },
  {
   "cell_type": "markdown",
   "id": "db9a2d67",
   "metadata": {
    "papermill": {
     "duration": 0.019277,
     "end_time": "2024-11-29T13:48:34.780410",
     "exception": false,
     "start_time": "2024-11-29T13:48:34.761133",
     "status": "completed"
    },
    "tags": []
   },
   "source": [
    "### SETTING CUDA"
   ]
  },
  {
   "cell_type": "code",
   "execution_count": 18,
   "id": "26ee31c2",
   "metadata": {
    "execution": {
     "iopub.execute_input": "2024-11-29T13:48:34.820754Z",
     "iopub.status.busy": "2024-11-29T13:48:34.820329Z",
     "iopub.status.idle": "2024-11-29T13:48:34.903068Z",
     "shell.execute_reply": "2024-11-29T13:48:34.902335Z"
    },
    "papermill": {
     "duration": 0.104944,
     "end_time": "2024-11-29T13:48:34.904728",
     "exception": false,
     "start_time": "2024-11-29T13:48:34.799784",
     "status": "completed"
    },
    "tags": []
   },
   "outputs": [],
   "source": [
    "device = 'cuda' if torch.cuda.is_available() else 'cpu'"
   ]
  },
  {
   "cell_type": "code",
   "execution_count": 19,
   "id": "07f07255",
   "metadata": {
    "execution": {
     "iopub.execute_input": "2024-11-29T13:48:34.945216Z",
     "iopub.status.busy": "2024-11-29T13:48:34.944943Z",
     "iopub.status.idle": "2024-11-29T13:48:34.948679Z",
     "shell.execute_reply": "2024-11-29T13:48:34.948049Z"
    },
    "papermill": {
     "duration": 0.025743,
     "end_time": "2024-11-29T13:48:34.950283",
     "exception": false,
     "start_time": "2024-11-29T13:48:34.924540",
     "status": "completed"
    },
    "tags": []
   },
   "outputs": [],
   "source": [
    "device = torch.device(\"cuda\" if torch.cuda.is_available() else \"cpu\")"
   ]
  },
  {
   "cell_type": "code",
   "execution_count": 20,
   "id": "576134ce",
   "metadata": {
    "execution": {
     "iopub.execute_input": "2024-11-29T13:48:34.990103Z",
     "iopub.status.busy": "2024-11-29T13:48:34.989834Z",
     "iopub.status.idle": "2024-11-29T13:48:36.897960Z",
     "shell.execute_reply": "2024-11-29T13:48:36.897214Z"
    },
    "papermill": {
     "duration": 1.930025,
     "end_time": "2024-11-29T13:48:36.899768",
     "exception": false,
     "start_time": "2024-11-29T13:48:34.969743",
     "status": "completed"
    },
    "tags": []
   },
   "outputs": [],
   "source": [
    "from transformers import RobertaTokenizer, RobertaModel\n",
    "from transformers import DebertaV2Model, DebertaV2Tokenizer\n",
    "from torch.utils.data import Dataset, DataLoader"
   ]
  },
  {
   "cell_type": "code",
   "execution_count": 21,
   "id": "91701547",
   "metadata": {
    "execution": {
     "iopub.execute_input": "2024-11-29T13:48:36.941113Z",
     "iopub.status.busy": "2024-11-29T13:48:36.940676Z",
     "iopub.status.idle": "2024-11-29T13:48:38.458328Z",
     "shell.execute_reply": "2024-11-29T13:48:38.457379Z"
    },
    "papermill": {
     "duration": 1.539987,
     "end_time": "2024-11-29T13:48:38.460254",
     "exception": false,
     "start_time": "2024-11-29T13:48:36.920267",
     "status": "completed"
    },
    "tags": []
   },
   "outputs": [
    {
     "data": {
      "application/vnd.jupyter.widget-view+json": {
       "model_id": "c27bfe67bb0743d4968c07a6d8c6e737",
       "version_major": 2,
       "version_minor": 0
      },
      "text/plain": [
       "tokenizer_config.json:   0%|          | 0.00/52.0 [00:00<?, ?B/s]"
      ]
     },
     "metadata": {},
     "output_type": "display_data"
    },
    {
     "data": {
      "application/vnd.jupyter.widget-view+json": {
       "model_id": "91343e06f8124833aac7683f490e0c00",
       "version_major": 2,
       "version_minor": 0
      },
      "text/plain": [
       "spm.model:   0%|          | 0.00/2.46M [00:00<?, ?B/s]"
      ]
     },
     "metadata": {},
     "output_type": "display_data"
    },
    {
     "data": {
      "application/vnd.jupyter.widget-view+json": {
       "model_id": "7e0571fb07024fd1a3da6034907b502e",
       "version_major": 2,
       "version_minor": 0
      },
      "text/plain": [
       "config.json:   0%|          | 0.00/579 [00:00<?, ?B/s]"
      ]
     },
     "metadata": {},
     "output_type": "display_data"
    },
    {
     "name": "stderr",
     "output_type": "stream",
     "text": [
      "/opt/conda/lib/python3.10/site-packages/transformers/tokenization_utils_base.py:1601: FutureWarning: `clean_up_tokenization_spaces` was not set. It will be set to `True` by default. This behavior will be depracted in transformers v4.45, and will be then set to `False` by default. For more details check this issue: https://github.com/huggingface/transformers/issues/31884\n",
      "  warnings.warn(\n"
     ]
    }
   ],
   "source": [
    "# tokenizer = RobertaTokenizer.from_pretrained('roberta-base')\n",
    "tokenizer = DebertaV2Tokenizer.from_pretrained('microsoft/deberta-v3-base')"
   ]
  },
  {
   "cell_type": "code",
   "execution_count": 22,
   "id": "8f92c80c",
   "metadata": {
    "execution": {
     "iopub.execute_input": "2024-11-29T13:48:38.502629Z",
     "iopub.status.busy": "2024-11-29T13:48:38.502345Z",
     "iopub.status.idle": "2024-11-29T13:48:38.505969Z",
     "shell.execute_reply": "2024-11-29T13:48:38.505175Z"
    },
    "papermill": {
     "duration": 0.02635,
     "end_time": "2024-11-29T13:48:38.507500",
     "exception": false,
     "start_time": "2024-11-29T13:48:38.481150",
     "status": "completed"
    },
    "tags": []
   },
   "outputs": [],
   "source": [
    "# !pip install optuna"
   ]
  },
  {
   "cell_type": "markdown",
   "id": "e8cfc661",
   "metadata": {
    "papermill": {
     "duration": 0.019596,
     "end_time": "2024-11-29T13:48:38.547056",
     "exception": false,
     "start_time": "2024-11-29T13:48:38.527460",
     "status": "completed"
    },
    "tags": []
   },
   "source": [
    "## TORCH IMPORTS"
   ]
  },
  {
   "cell_type": "code",
   "execution_count": 23,
   "id": "0cc7fcb6",
   "metadata": {
    "execution": {
     "iopub.execute_input": "2024-11-29T13:48:38.587643Z",
     "iopub.status.busy": "2024-11-29T13:48:38.587406Z",
     "iopub.status.idle": "2024-11-29T13:48:52.891047Z",
     "shell.execute_reply": "2024-11-29T13:48:52.890303Z"
    },
    "papermill": {
     "duration": 14.326396,
     "end_time": "2024-11-29T13:48:52.893105",
     "exception": false,
     "start_time": "2024-11-29T13:48:38.566709",
     "status": "completed"
    },
    "tags": []
   },
   "outputs": [
    {
     "name": "stderr",
     "output_type": "stream",
     "text": [
      "2024-11-29 13:48:40,466\tINFO util.py:124 -- Outdated packages:\n",
      "  ipywidgets==7.7.1 found, needs ipywidgets>=8\n",
      "Run `pip install -U ipywidgets`, then restart the notebook server for rich notebook output.\n",
      "2024-11-29 13:48:40,999\tINFO util.py:124 -- Outdated packages:\n",
      "  ipywidgets==7.7.1 found, needs ipywidgets>=8\n",
      "Run `pip install -U ipywidgets`, then restart the notebook server for rich notebook output.\n"
     ]
    }
   ],
   "source": [
    "from torch.optim import AdamW\n",
    "import torch.optim as optim\n",
    "from torch.utils.data import Dataset, DataLoader\n",
    "from transformers import RobertaTokenizer, RobertaModel\n",
    "from sklearn.model_selection import train_test_split\n",
    "import optuna\n",
    "# from optuna.integration import PyTorchLightningPruner\n",
    "from ray import tune\n",
    "import ray\n",
    "from ray import tune\n",
    "from ray.tune import CLIReporter\n",
    "from ray.tune import CLIReporter\n",
    "from ray.tune.schedulers import ASHAScheduler\n",
    "from ray.tune.schedulers import ASHAScheduler\n",
    "# from ray.tune.integration.pytorch import TuneReportCallback\n",
    "from torch.amp import GradScaler, autocast\n",
    "# from ray.tune.integration.optuna import OptunaSearch\n",
    "from ray.tune.search.optuna import OptunaSearch\n",
    "from ray import tune\n",
    "from ray.tune.search.hyperopt import HyperOptSearch\n",
    "from torch import autocast\n",
    "# from ray import tune\n",
    "# from ray.tune.integration.tensorboard import TensorBoardReporter\n",
    "from ray.tune.logger import TBXLogger\n",
    "from torch.utils.tensorboard import SummaryWriter\n",
    "from ray.train import report\n",
    "# from ray.tune.integration.jupyter import JupyterNotebookReporter\n",
    "from ray.tune import JupyterNotebookReporter\n",
    "# from torch.cuda.amp import GradScaler, autocast\n",
    "from torch.optim.lr_scheduler import StepLR, CosineAnnealingLR\n",
    "from ray.tune.schedulers import HyperBandScheduler, AsyncHyperBandScheduler"
   ]
  },
  {
   "cell_type": "markdown",
   "id": "ec33fdb0",
   "metadata": {
    "papermill": {
     "duration": 0.01948,
     "end_time": "2024-11-29T13:48:52.933384",
     "exception": false,
     "start_time": "2024-11-29T13:48:52.913904",
     "status": "completed"
    },
    "tags": []
   },
   "source": [
    "# DATASET CONFIG & ENCODING"
   ]
  },
  {
   "cell_type": "code",
   "execution_count": 24,
   "id": "7ba5bfc9",
   "metadata": {
    "execution": {
     "iopub.execute_input": "2024-11-29T13:48:52.974624Z",
     "iopub.status.busy": "2024-11-29T13:48:52.973984Z",
     "iopub.status.idle": "2024-11-29T13:48:52.980747Z",
     "shell.execute_reply": "2024-11-29T13:48:52.980080Z"
    },
    "papermill": {
     "duration": 0.028892,
     "end_time": "2024-11-29T13:48:52.982216",
     "exception": false,
     "start_time": "2024-11-29T13:48:52.953324",
     "status": "completed"
    },
    "tags": []
   },
   "outputs": [],
   "source": [
    "class EmotionDataset(Dataset):\n",
    "    def __init__(self, dataframe, tokenizer, max_len):\n",
    "        self.tokenizer = tokenizer\n",
    "        self.data = dataframe\n",
    "        self.max_len = max_len\n",
    "\n",
    "    def __len__(self):\n",
    "        return len(self.data)\n",
    "\n",
    "    def __getitem__(self, index):\n",
    "#         text = self.data.iloc[index, 0]\n",
    "#         labels = self.data.iloc[index, 1:].values.astype(float)\n",
    "        text = str(self.data.iloc[index]['text'])\n",
    "        labels = self.data.iloc[index][['anger', 'disgust', 'fear', 'joy', 'neutral', 'sadness', 'surprise']].values.astype(np.float32)\n",
    "\n",
    "        inputs = self.tokenizer.encode_plus(\n",
    "            text,\n",
    "            None,\n",
    "            add_special_tokens=True,\n",
    "            max_length=self.max_len,\n",
    "            padding='max_length',\n",
    "            truncation=True,\n",
    "            return_token_type_ids=False\n",
    "        )\n",
    "\n",
    "        input_ids = inputs['input_ids']\n",
    "        attention_mask = inputs['attention_mask']\n",
    "\n",
    "        return {\n",
    "            'input_ids': torch.tensor(input_ids, dtype=torch.long),\n",
    "            'attention_mask': torch.tensor(attention_mask, dtype=torch.long),\n",
    "            'labels': torch.tensor(labels, dtype=torch.float)\n",
    "        }"
   ]
  },
  {
   "cell_type": "markdown",
   "id": "f24ca162",
   "metadata": {
    "papermill": {
     "duration": 0.019734,
     "end_time": "2024-11-29T13:48:53.022013",
     "exception": false,
     "start_time": "2024-11-29T13:48:53.002279",
     "status": "completed"
    },
    "tags": []
   },
   "source": [
    "# MODEL DEFINITION"
   ]
  },
  {
   "cell_type": "code",
   "execution_count": 25,
   "id": "ac948e57",
   "metadata": {
    "execution": {
     "iopub.execute_input": "2024-11-29T13:48:53.063804Z",
     "iopub.status.busy": "2024-11-29T13:48:53.063549Z",
     "iopub.status.idle": "2024-11-29T13:48:53.069347Z",
     "shell.execute_reply": "2024-11-29T13:48:53.068605Z"
    },
    "papermill": {
     "duration": 0.029051,
     "end_time": "2024-11-29T13:48:53.070821",
     "exception": false,
     "start_time": "2024-11-29T13:48:53.041770",
     "status": "completed"
    },
    "tags": []
   },
   "outputs": [],
   "source": [
    "\n",
    "class EmotionModel(nn.Module):\n",
    "    def __init__(self, roberta_model, n_classes, dropout_rate):\n",
    "        super(EmotionModel, self).__init__()\n",
    "        self.roberta = roberta_model\n",
    "        self.drop = nn.Dropout(p=dropout_rate)\n",
    "        self.fc1 = nn.Linear(self.roberta.config.hidden_size, 512)\n",
    "        self.relu = nn.ReLU()\n",
    "        self.fc2 = nn.Linear(512, 256)\n",
    "        self.out = nn.Linear(256, n_classes)\n",
    "\n",
    "    def forward(self, input_ids, attention_mask):\n",
    "        output = self.roberta(input_ids=input_ids, attention_mask=attention_mask)\n",
    "#         hidden_states = output.last_hidden_state\n",
    "        \n",
    "        # Extract the [CLS] token representation (first token in the sequence)\n",
    "        cls_token_state = output.last_hidden_state[:, 0, :]\n",
    "        output = self.drop(cls_token_state)\n",
    "        output = self.relu(self.fc1(output))\n",
    "        output = self.drop(output)\n",
    "        output = self.relu(self.fc2(output))\n",
    "#         output = self.drop(output)\n",
    "        return self.out(output)"
   ]
  },
  {
   "cell_type": "markdown",
   "id": "2c64daa7",
   "metadata": {
    "papermill": {
     "duration": 0.019497,
     "end_time": "2024-11-29T13:48:53.109934",
     "exception": false,
     "start_time": "2024-11-29T13:48:53.090437",
     "status": "completed"
    },
    "tags": []
   },
   "source": [
    "## Other Models to try out"
   ]
  },
  {
   "cell_type": "code",
   "execution_count": 26,
   "id": "0684e829",
   "metadata": {
    "execution": {
     "iopub.execute_input": "2024-11-29T13:48:53.152703Z",
     "iopub.status.busy": "2024-11-29T13:48:53.152441Z",
     "iopub.status.idle": "2024-11-29T13:48:53.155854Z",
     "shell.execute_reply": "2024-11-29T13:48:53.155226Z"
    },
    "papermill": {
     "duration": 0.026541,
     "end_time": "2024-11-29T13:48:53.157418",
     "exception": false,
     "start_time": "2024-11-29T13:48:53.130877",
     "status": "completed"
    },
    "tags": []
   },
   "outputs": [],
   "source": [
    "# class EmotionModel(nn.Module):\n",
    "#     def __init__(self, roberta_model, n_classes, dropout_rate):\n",
    "#         super(EmotionModel, self).__init__()\n",
    "#         self.roberta = roberta_model\n",
    "#         self.drop = nn.Dropout(p=dropout_rate)\n",
    "#         self.out = nn.Linear(self.roberta.config.hidden_size, n_classes)\n",
    "\n",
    "#     def forward(self, input_ids, attention_mask):\n",
    "#         output = self.roberta(input_ids=input_ids, attention_mask=attention_mask)\n",
    "#         output = self.drop(output.pooler_output)\n",
    "#         return self.out(output)"
   ]
  },
  {
   "cell_type": "code",
   "execution_count": 27,
   "id": "8e1da77d",
   "metadata": {
    "execution": {
     "iopub.execute_input": "2024-11-29T13:48:53.197860Z",
     "iopub.status.busy": "2024-11-29T13:48:53.197602Z",
     "iopub.status.idle": "2024-11-29T13:48:53.201280Z",
     "shell.execute_reply": "2024-11-29T13:48:53.200589Z"
    },
    "jupyter": {
     "source_hidden": true
    },
    "papermill": {
     "duration": 0.025733,
     "end_time": "2024-11-29T13:48:53.202792",
     "exception": false,
     "start_time": "2024-11-29T13:48:53.177059",
     "status": "completed"
    },
    "tags": []
   },
   "outputs": [],
   "source": [
    "# class EmotionModel(nn.Module):\n",
    "#     def __init__(self, roberta_model, n_classes, dropout_rate):\n",
    "#         super(EmotionModel, self).__init__()\n",
    "#         self.roberta = roberta_model\n",
    "#         self.drop = nn.Dropout(p=dropout_rate)\n",
    "#         self.fc1 = nn.Linear(self.roberta.config.hidden_size, 512)\n",
    "#         self.relu = nn.ReLU()\n",
    "#         self.fc2 = nn.Linear(512, 256)\n",
    "#         self.out = nn.Linear(256, n_classes)\n",
    "\n",
    "#     def forward(self, input_ids, attention_mask):\n",
    "#         # Get the RoBERTa output\n",
    "#         output = self.roberta(input_ids=input_ids, attention_mask=attention_mask)\n",
    "#         # Use the pooled output for classification tasks\n",
    "#         pooled_output = output.pooler_output\n",
    "#         # Pass through the custom layers\n",
    "#         output = self.drop(pooled_output)\n",
    "#         output = self.relu(self.fc1(output))\n",
    "#         output = self.drop(output)\n",
    "#         output = self.relu(self.fc2(output))\n",
    "#         output = self.drop(output)\n",
    "#         return self.out(output)\n"
   ]
  },
  {
   "cell_type": "code",
   "execution_count": 28,
   "id": "0a71b339",
   "metadata": {
    "execution": {
     "iopub.execute_input": "2024-11-29T13:48:53.243217Z",
     "iopub.status.busy": "2024-11-29T13:48:53.242982Z",
     "iopub.status.idle": "2024-11-29T13:48:53.246622Z",
     "shell.execute_reply": "2024-11-29T13:48:53.245916Z"
    },
    "jupyter": {
     "source_hidden": true
    },
    "papermill": {
     "duration": 0.025719,
     "end_time": "2024-11-29T13:48:53.248262",
     "exception": false,
     "start_time": "2024-11-29T13:48:53.222543",
     "status": "completed"
    },
    "tags": []
   },
   "outputs": [],
   "source": [
    "# class EmotionModel(nn.Module):\n",
    "#     def __init__(self, roberta_model, n_classes, dropout_rate, hidden_size):\n",
    "#         super(EmotionModel, self).__init__()\n",
    "#         self.roberta = roberta_model\n",
    "#         self.drop = nn.Dropout(p=dropout_rate)\n",
    "#         self.fc1 = nn.Linear(self.roberta.config.hidden_size, hidden_size)\n",
    "#         self.relu = nn.ReLU()\n",
    "#         self.fc2 = nn.Linear(hidden_size, hidden_size // 2)\n",
    "#         self.out = nn.Linear(hidden_size // 2, n_classes)\n",
    "\n",
    "#     def forward(self, input_ids, attention_mask):\n",
    "#         # Get the RoBERTa output\n",
    "#         output = self.roberta(input_ids=input_ids, attention_mask=attention_mask)\n",
    "#         # Use the pooled output for classification tasks\n",
    "#         pooled_output = output.pooler_output\n",
    "#         # Pass through the custom layers\n",
    "#         output = self.drop(pooled_output)\n",
    "#         output = self.relu(self.fc1(output))\n",
    "#         output = self.drop(output)\n",
    "#         output = self.relu(self.fc2(output))\n",
    "#         output = self.drop(output)\n",
    "#         return self.out(output)\n"
   ]
  },
  {
   "cell_type": "code",
   "execution_count": 29,
   "id": "f18a40a2",
   "metadata": {
    "execution": {
     "iopub.execute_input": "2024-11-29T13:48:53.289033Z",
     "iopub.status.busy": "2024-11-29T13:48:53.288775Z",
     "iopub.status.idle": "2024-11-29T13:48:53.292357Z",
     "shell.execute_reply": "2024-11-29T13:48:53.291584Z"
    },
    "jupyter": {
     "source_hidden": true
    },
    "papermill": {
     "duration": 0.025491,
     "end_time": "2024-11-29T13:48:53.293972",
     "exception": false,
     "start_time": "2024-11-29T13:48:53.268481",
     "status": "completed"
    },
    "tags": []
   },
   "outputs": [],
   "source": [
    "# class RoBERTaEmotionModel(nn.Module):\n",
    "#     def __init__(self, roberta_model_name, num_emotions=7):\n",
    "#         super(RoBERTaEmotionModel, self).__init__()\n",
    "#         self.roberta = RobertaModel.from_pretrained(roberta_model_name)\n",
    "#         self.drop = nn.Dropout(p=0.3)\n",
    "#         self.out = nn.Linear(self.roberta.config.hidden_size, num_emotions)\n",
    "\n",
    "#     def forward(self, input_ids, attention_mask):\n",
    "#         outputs = self.roberta(\n",
    "#             input_ids=input_ids,\n",
    "#             attention_mask=attention_mask\n",
    "#         )\n",
    "#         pooled_output = outputs[1]  # CLS token\n",
    "#         output = self.drop(pooled_output)\n",
    "#         return self.out(output)\n"
   ]
  },
  {
   "cell_type": "markdown",
   "id": "e0969644",
   "metadata": {
    "papermill": {
     "duration": 0.019674,
     "end_time": "2024-11-29T13:48:53.333354",
     "exception": false,
     "start_time": "2024-11-29T13:48:53.313680",
     "status": "completed"
    },
    "tags": []
   },
   "source": [
    "# TRAIN & VALIDATION \n",
    "### OLD"
   ]
  },
  {
   "cell_type": "code",
   "execution_count": 30,
   "id": "75a0e8fa",
   "metadata": {
    "execution": {
     "iopub.execute_input": "2024-11-29T13:48:53.374408Z",
     "iopub.status.busy": "2024-11-29T13:48:53.374126Z",
     "iopub.status.idle": "2024-11-29T13:48:53.378409Z",
     "shell.execute_reply": "2024-11-29T13:48:53.377593Z"
    },
    "jupyter": {
     "source_hidden": true
    },
    "papermill": {
     "duration": 0.026886,
     "end_time": "2024-11-29T13:48:53.380119",
     "exception": false,
     "start_time": "2024-11-29T13:48:53.353233",
     "status": "completed"
    },
    "tags": []
   },
   "outputs": [],
   "source": [
    "# def train_model(model, train_loader, val_loader, loss_fn, optimizer, device, scheduler, scaler, n_epochs):\n",
    "#     for epoch in range(n_epochs):\n",
    "#         model.train()\n",
    "#         train_loss = 0\n",
    "#         correct = 0\n",
    "#         total = 0\n",
    "\n",
    "#         for data in train_loader:\n",
    "#             input_ids = data['input_ids'].to(device)\n",
    "#             attention_mask = data['attention_mask'].to(device)\n",
    "#             labels = data['labels'].to(device)\n",
    "\n",
    "#             optimizer.zero_grad()\n",
    "#             with autocast(device_type=device.type):\n",
    "#                 outputs = model(input_ids=input_ids, attention_mask=attention_mask)\n",
    "#                 loss = loss_fn(outputs, labels)\n",
    "\n",
    "#             scaler.scale(loss).backward()\n",
    "#             scaler.step(optimizer)\n",
    "#             scaler.update()\n",
    "#             if scheduler:\n",
    "#                 scheduler.step()\n",
    "\n",
    "#             train_loss += loss.item()\n",
    "#             _, predicted = torch.max(outputs, 1)\n",
    "#             total += labels.size(0)\n",
    "#             correct += (predicted == torch.argmax(labels, dim=1)).sum().item()\n",
    "\n",
    "#         train_accuracy = correct / total\n",
    "#         val_loss, val_accuracy = eval_model(model, val_loader, loss_fn, device)\n",
    "\n",
    "#         print(f'Epoch {epoch+1}/{n_epochs}, Train Loss: {train_loss/len(train_loader):.4f}, Train Accuracy: {train_accuracy:.4f}, Val Loss: {val_loss:.4f}, Val Accuracy: {val_accuracy:.4f}')\n"
   ]
  },
  {
   "cell_type": "code",
   "execution_count": 31,
   "id": "0a870841",
   "metadata": {
    "execution": {
     "iopub.execute_input": "2024-11-29T13:48:53.421882Z",
     "iopub.status.busy": "2024-11-29T13:48:53.421165Z",
     "iopub.status.idle": "2024-11-29T13:48:53.425078Z",
     "shell.execute_reply": "2024-11-29T13:48:53.424257Z"
    },
    "jupyter": {
     "source_hidden": true
    },
    "papermill": {
     "duration": 0.026558,
     "end_time": "2024-11-29T13:48:53.426640",
     "exception": false,
     "start_time": "2024-11-29T13:48:53.400082",
     "status": "completed"
    },
    "tags": []
   },
   "outputs": [],
   "source": [
    "# def eval_model(model, val_loader, loss_fn, device):\n",
    "#     model.eval()\n",
    "#     val_loss = 0\n",
    "#     correct = 0\n",
    "#     total = 0\n",
    "\n",
    "#     with torch.no_grad():\n",
    "#         for data in val_loader:\n",
    "#             input_ids = data['input_ids'].to(device)\n",
    "#             attention_mask = data['attention_mask'].to(device)\n",
    "#             labels = data['labels'].to(device)\n",
    "\n",
    "#             outputs = model(input_ids=input_ids, attention_mask=attention_mask)\n",
    "#             loss = loss_fn(outputs, labels)\n",
    "#             val_loss += loss.item()\n",
    "\n",
    "#             _, predicted = torch.max(outputs, 1)\n",
    "#             total += labels.size(0)\n",
    "#             correct += (predicted == torch.argmax(labels, dim=1)).sum().item()\n",
    "\n",
    "#     val_accuracy = correct / total\n",
    "#     return val_loss / len(val_loader), val_accuracy\n"
   ]
  },
  {
   "cell_type": "code",
   "execution_count": 32,
   "id": "047f3b58",
   "metadata": {
    "execution": {
     "iopub.execute_input": "2024-11-29T13:48:53.467438Z",
     "iopub.status.busy": "2024-11-29T13:48:53.467219Z",
     "iopub.status.idle": "2024-11-29T13:48:53.471321Z",
     "shell.execute_reply": "2024-11-29T13:48:53.470596Z"
    },
    "jupyter": {
     "source_hidden": true
    },
    "papermill": {
     "duration": 0.026548,
     "end_time": "2024-11-29T13:48:53.472875",
     "exception": false,
     "start_time": "2024-11-29T13:48:53.446327",
     "status": "completed"
    },
    "tags": []
   },
   "outputs": [],
   "source": [
    "# def objective(trial):\n",
    "#     hidden_size = trial.suggest_int('hidden_size', 64, 256)\n",
    "#     dropout_rate = trial.suggest_uniform('dropout_rate', 0.1, 0.5)\n",
    "#     batch_size = trial.suggest_categorical('batch_size', [2, 4, 8, 16])\n",
    "#     learning_rate = trial.suggest_loguniform('lr', 1e-5, 1e-1)\n",
    "#     epochs = 5  # Adjust as needed\n",
    "\n",
    "#     tokenizer = RobertaTokenizer.from_pretrained('roberta-base')\n",
    "    \n",
    "#     # Load your data here\n",
    "# #     data = df  # Replace with your data loading logic\n",
    "# #     train_texts, val_texts, train_labels, val_labels = train_test_split(\n",
    "# #         data.iloc[:, 0],  # Assuming text is in the first column\n",
    "# #         data.iloc[:, 1:],  # Labels are in the remaining columns\n",
    "# #         test_size=0.2\n",
    "# #     )\n",
    "\n",
    "\n",
    "# #     train_dataset = EmotionDataset(pd.DataFrame({'text': train_texts, **pd.DataFrame(train_labels)}), tokenizer, max_len=128)\n",
    "# #     val_dataset = EmotionDataset(pd.DataFrame({'text': val_texts, **pd.DataFrame(val_labels)}), tokenizer, max_len=128)\n",
    "    \n",
    "    \n",
    "#     train_dataset = EmotionDataset(train_ds_pd, tokenizer, max_len=128)\n",
    "#     val_dataset = EmotionDataset(validation_ds_pd, tokenizer, max_len=128)\n",
    "\n",
    "#     train_loader = DataLoader(train_dataset, batch_size=batch_size, shuffle=True)\n",
    "#     val_loader = DataLoader(val_dataset, batch_size=batch_size, shuffle=False)\n",
    "\n",
    "#     model = EmotionClassifier(hidden_size=hidden_size, dropout_rate=dropout_rate).to(device)\n",
    "#     loss_fn = nn.BCEWithLogitsLoss()\n",
    "#     optimizer = optim.AdamW(model.parameters(), lr=learning_rate)\n",
    "#     scheduler = optim.lr_scheduler.OneCycleLR(optimizer, max_lr=learning_rate, steps_per_epoch=len(train_loader), epochs=epochs)\n",
    "#     scaler = GradScaler()\n",
    "\n",
    "#     train_model(model, train_loader, val_loader, loss_fn, optimizer, device, scheduler, scaler, epochs)\n",
    "#     val_loss, val_accuracy = eval_model(model, val_loader, loss_fn, device)\n",
    "    \n",
    "#     return val_loss"
   ]
  },
  {
   "cell_type": "code",
   "execution_count": 33,
   "id": "1f428e34",
   "metadata": {
    "execution": {
     "iopub.execute_input": "2024-11-29T13:48:53.513917Z",
     "iopub.status.busy": "2024-11-29T13:48:53.513635Z",
     "iopub.status.idle": "2024-11-29T13:48:53.517857Z",
     "shell.execute_reply": "2024-11-29T13:48:53.517072Z"
    },
    "jupyter": {
     "source_hidden": true
    },
    "papermill": {
     "duration": 0.026821,
     "end_time": "2024-11-29T13:48:53.519501",
     "exception": false,
     "start_time": "2024-11-29T13:48:53.492680",
     "status": "completed"
    },
    "tags": []
   },
   "outputs": [],
   "source": [
    "# def train_fn(config):\n",
    "#     try:\n",
    "#         hidden_size = config['hidden_size']\n",
    "#         dropout_rate = config['dropout_rate']\n",
    "#         batch_size = config['batch_size']\n",
    "#         learning_rate = config['lr']\n",
    "#         epochs = 5\n",
    "\n",
    "#         tokenizer = RobertaTokenizer.from_pretrained('roberta-base')\n",
    "\n",
    "#         # Load your data here\n",
    "# #         data = pd.read_csv('path_to_your_data.csv')  # Replace with your data loading logic\n",
    "# #         train_texts, val_texts, train_labels, val_labels = train_test_split(\n",
    "# #             data.iloc[:, 0],  # Assuming text is in the first column\n",
    "# #             data.iloc[:, 1:],  # Labels are in the remaining columns\n",
    "# #             test_size=0.2\n",
    "# #         )\n",
    "\n",
    "#         train_dataset = EmotionDataset(train_ds_pd, tokenizer, max_len=128)\n",
    "#         val_dataset = EmotionDataset(validation_ds_pd, tokenizer, max_len=128)\n",
    "\n",
    "#         train_loader = DataLoader(train_dataset, batch_size=batch_size, shuffle=True)\n",
    "#         val_loader = DataLoader(val_dataset, batch_size=batch_size, shuffle=False)\n",
    "\n",
    "#         model = EmotionClassifier(hidden_size=hidden_size, dropout_rate=dropout_rate).to(device)\n",
    "#         loss_fn = nn.BCEWithLogitsLoss()\n",
    "#         optimizer = optim.AdamW(model.parameters(), lr=learning_rate)\n",
    "#         scheduler = optim.lr_scheduler.OneCycleLR(optimizer, max_lr=learning_rate, steps_per_epoch=len(train_loader), epochs=epochs)\n",
    "#         scaler = GradScaler()\n",
    "\n",
    "#         for epoch in range(epochs):\n",
    "#             train_model(model, train_loader, val_loader, loss_fn, optimizer, device, scheduler, scaler, epochs)\n",
    "#             val_loss, val_accuracy = eval_model(model, val_loader, loss_fn, device)\n",
    "#             tune.report(loss=val_loss, accuracy=val_accuracy)\n",
    "    \n",
    "#     except Exception as e:\n",
    "#         print(f\"An error occurred: {e}\")\n",
    "#         raise\n"
   ]
  },
  {
   "cell_type": "code",
   "execution_count": 34,
   "id": "47e5c8e1",
   "metadata": {
    "execution": {
     "iopub.execute_input": "2024-11-29T13:48:53.560471Z",
     "iopub.status.busy": "2024-11-29T13:48:53.560254Z",
     "iopub.status.idle": "2024-11-29T13:48:53.564169Z",
     "shell.execute_reply": "2024-11-29T13:48:53.563362Z"
    },
    "jupyter": {
     "source_hidden": true
    },
    "papermill": {
     "duration": 0.026263,
     "end_time": "2024-11-29T13:48:53.565721",
     "exception": false,
     "start_time": "2024-11-29T13:48:53.539458",
     "status": "completed"
    },
    "tags": []
   },
   "outputs": [],
   "source": [
    "# def tune_model(config):\n",
    "#     tokenizer = RobertaTokenizer.from_pretrained('roberta-base')\n",
    "#     train_df, val_df = train_test_split(df, test_size=0.2)\n",
    "\n",
    "#     train_dataset = EmotionDataset(train_df, tokenizer, config['max_len'])\n",
    "#     val_dataset = EmotionDataset(val_df, tokenizer, config['max_len'])\n",
    "\n",
    "#     train_loader = DataLoader(train_dataset, batch_size=config['batch_size'], shuffle=True)\n",
    "#     val_loader = DataLoader(val_dataset, batch_size=config['batch_size'])\n",
    "\n",
    "#     device = torch.device('cuda' if torch.cuda.is_available() else 'cpu')\n",
    "#     model = RoBERTaEmotionModel('roberta-base').to(device)\n",
    "\n",
    "#     optimizer = optim.AdamW(model.parameters(), lr=config['lr'])\n",
    "#     loss_fn = nn.MSELoss().to(device)\n",
    "#     scaler = GradScaler()\n",
    "\n",
    "#     scheduler = optim.lr_scheduler.OneCycleLR(optimizer, max_lr=config['lr'], steps_per_epoch=len(train_loader), epochs=config['epochs'])\n",
    "\n",
    "#     train_model(model, train_loader, val_loader, loss_fn, optimizer, device, scheduler, scaler, config['epochs'])\n",
    "\n",
    "#     val_loss = eval_model(model, val_loader, loss_fn, device)\n",
    "#     tune.report(val_loss=val_loss)\n",
    "\n",
    "\n"
   ]
  },
  {
   "cell_type": "code",
   "execution_count": 35,
   "id": "9a9970a3",
   "metadata": {
    "execution": {
     "iopub.execute_input": "2024-11-29T13:48:53.606315Z",
     "iopub.status.busy": "2024-11-29T13:48:53.606086Z",
     "iopub.status.idle": "2024-11-29T13:48:53.609637Z",
     "shell.execute_reply": "2024-11-29T13:48:53.608901Z"
    },
    "jupyter": {
     "source_hidden": true
    },
    "papermill": {
     "duration": 0.02579,
     "end_time": "2024-11-29T13:48:53.611199",
     "exception": false,
     "start_time": "2024-11-29T13:48:53.585409",
     "status": "completed"
    },
    "tags": []
   },
   "outputs": [],
   "source": [
    "# config = {\n",
    "#     'max_len': tune.choice([128, 192, 256]),\n",
    "#     'batch_size': tune.choice([8, 16, 32]),\n",
    "#     'lr': tune.loguniform(1e-5, 5e-5),\n",
    "#     'epochs': tune.choice([3, 5, 7])\n",
    "# }\n",
    "\n",
    "# scheduler = ASHAScheduler(\n",
    "#     metric='val_loss',\n",
    "#     mode='min',\n",
    "#     max_t=10,\n",
    "#     grace_period=1,\n",
    "#     reduction_factor=2\n",
    "# )\n",
    "\n",
    "# reporter = CLIReporter(\n",
    "#     metric_columns=['val_loss', 'training_iteration']\n",
    "# )\n",
    "\n",
    "# analysis = tune.run(\n",
    "#     tune_model,\n",
    "#     resources_per_trial={'cpu': 2, 'gpu': 1},\n",
    "#     config=config,\n",
    "#     num_samples=20,\n",
    "#     scheduler=scheduler,\n",
    "#     progress_reporter=reporter\n",
    "# )\n",
    "\n"
   ]
  },
  {
   "cell_type": "code",
   "execution_count": 36,
   "id": "8854794a",
   "metadata": {
    "execution": {
     "iopub.execute_input": "2024-11-29T13:48:53.652018Z",
     "iopub.status.busy": "2024-11-29T13:48:53.651589Z",
     "iopub.status.idle": "2024-11-29T13:48:53.656521Z",
     "shell.execute_reply": "2024-11-29T13:48:53.655872Z"
    },
    "jupyter": {
     "source_hidden": true
    },
    "papermill": {
     "duration": 0.026887,
     "end_time": "2024-11-29T13:48:53.657989",
     "exception": false,
     "start_time": "2024-11-29T13:48:53.631102",
     "status": "completed"
    },
    "tags": []
   },
   "outputs": [],
   "source": [
    "# def train_model(config, train_dataset, val_dataset, device):\n",
    "#     model = EmotionModel(\n",
    "#         roberta_model=RobertaModel.from_pretrained(\"roberta-base\"),\n",
    "#         n_classes=7,\n",
    "#         dropout_rate=config[\"dropout_rate\"]\n",
    "#     )\n",
    "#     model = model.to(device)\n",
    "#     optimizer = optim.Adam(model.parameters(), lr=config[\"lr\"])\n",
    "#     criterion = nn.BCEWithLogitsLoss()\n",
    "    \n",
    "#     train_loader = DataLoader(train_dataset, batch_size=config[\"batch_size\"], shuffle=True)\n",
    "#     val_loader = DataLoader(val_dataset, batch_size=config[\"batch_size\"], shuffle=False)\n",
    "    \n",
    "#     model.train()\n",
    "#     for epoch in range(config[\"epochs\"]):\n",
    "#         total_train_loss = 0.0\n",
    "#         correct_train_preds = 0\n",
    "#         total_train_preds = 0\n",
    "        \n",
    "#         for batch in train_loader:\n",
    "#             input_ids = batch[\"input_ids\"].to(device)\n",
    "#             attention_mask = batch[\"attention_mask\"].to(device)\n",
    "#             labels = batch[\"labels\"].to(device)\n",
    "\n",
    "#             optimizer.zero_grad()\n",
    "#             outputs = model(input_ids=input_ids, attention_mask=attention_mask)\n",
    "#             loss = criterion(outputs, labels)\n",
    "#             loss.backward()\n",
    "#             optimizer.step()\n",
    "            \n",
    "#             total_train_loss += loss.item()\n",
    "#             correct_train_preds += (torch.argmax(outputs, dim=1) == torch.argmax(labels, dim=1)).sum().item()\n",
    "#             total_train_preds += labels.size(0)\n",
    "        \n",
    "#         avg_train_loss = total_train_loss / len(train_loader)\n",
    "#         train_accuracy = correct_train_preds / total_train_preds\n",
    "\n",
    "#         # Validation phase\n",
    "#         model.eval()\n",
    "#         total_val_loss = 0.0\n",
    "#         correct_val_preds = 0\n",
    "#         total_val_preds = 0\n",
    "\n",
    "#         with torch.no_grad():\n",
    "#             for batch in val_loader:\n",
    "#                 input_ids = batch[\"input_ids\"].to(device)\n",
    "#                 attention_mask = batch[\"attention_mask\"].to(device)\n",
    "#                 labels = batch[\"labels\"].to(device)\n",
    "\n",
    "#                 outputs = model(input_ids=input_ids, attention_mask=attention_mask)\n",
    "#                 loss = criterion(outputs, labels)\n",
    "                \n",
    "#                 total_val_loss += loss.item()\n",
    "#                 correct_val_preds += (torch.argmax(outputs, dim=1) == torch.argmax(labels, dim=1)).sum().item()\n",
    "#                 total_val_preds += labels.size(0)\n",
    "\n",
    "#         avg_val_loss = total_val_loss / len(val_loader)\n",
    "#         val_accuracy = correct_val_preds / total_val_preds\n",
    "\n",
    "#         tune.report(loss=avg_val_loss, accuracy=val_accuracy, train_loss=avg_train_loss, train_accuracy=train_accuracy)\n",
    "#         model_save_path = os.path.join(tune.get_trial_dir(), \"checkpoint.pt\")\n",
    "#         torch.save(model.state_dict(), model_save_path)\n",
    "    \n",
    "#     return model\n",
    "\n",
    "# def train_fn(config):\n",
    "#     # Load your data here\n",
    "#     tokenizer = RobertaTokenizer.from_pretrained('roberta-base')\n",
    "\n",
    "#     train_dataset = EmotionDataset(train_ds_pd, tokenizer, max_len=128)\n",
    "#     val_dataset = EmotionDataset(validation_ds_pd, tokenizer, max_len=128)\n",
    "\n",
    "#     device = torch.device(\"cuda\" if torch.cuda.is_available() else \"cpu\")\n",
    "#     train_model(config, train_dataset, val_dataset, device)\n"
   ]
  },
  {
   "cell_type": "markdown",
   "id": "98b8ffad",
   "metadata": {
    "papermill": {
     "duration": 0.01961,
     "end_time": "2024-11-29T13:48:53.697400",
     "exception": false,
     "start_time": "2024-11-29T13:48:53.677790",
     "status": "completed"
    },
    "tags": []
   },
   "source": [
    "## NEW TRAIN & VALIDATION 2.0\n",
    "### Custom metric is a metric for determining the best model free from any overfitting, underfitting. ```custom_metric = (avg_val_loss−val_accuracy) + α × ∣avg_train_loss−avg_val_loss∣ + β × ∣val_accuracy-train_accuracy∣``` This metric balances between low validation loss, high validation accuracy, and penalizing large discrepancies between training and validation loss. Note that, in the model selection we have used ```α = β = 0.5```\n"
   ]
  },
  {
   "cell_type": "markdown",
   "id": "2dc2c316",
   "metadata": {
    "papermill": {
     "duration": 0.01964,
     "end_time": "2024-11-29T13:48:53.736691",
     "exception": false,
     "start_time": "2024-11-29T13:48:53.717051",
     "status": "completed"
    },
    "tags": []
   },
   "source": [
    "### But since, we have probabilistic values as input and output we cannot directly calculate the accuracy, infact we need to rely on loss only. ```custom_metric = avg_val_loss + α × ∣avg_train_loss−avg_val_loss∣```"
   ]
  },
  {
   "cell_type": "code",
   "execution_count": 37,
   "id": "8ee76d1d",
   "metadata": {
    "execution": {
     "iopub.execute_input": "2024-11-29T13:48:53.777042Z",
     "iopub.status.busy": "2024-11-29T13:48:53.776799Z",
     "iopub.status.idle": "2024-11-29T13:48:53.780592Z",
     "shell.execute_reply": "2024-11-29T13:48:53.779886Z"
    },
    "papermill": {
     "duration": 0.025585,
     "end_time": "2024-11-29T13:48:53.782196",
     "exception": false,
     "start_time": "2024-11-29T13:48:53.756611",
     "status": "completed"
    },
    "tags": []
   },
   "outputs": [],
   "source": [
    "# Custom metric calculation function\n",
    "def calculate_custom_metric(avg_val_loss, avg_train_loss, alpha=0.5):\n",
    "    loss_diff = abs(avg_train_loss - avg_val_loss)\n",
    "    custom_metric = avg_val_loss + alpha * loss_diff\n",
    "    return custom_metric"
   ]
  },
  {
   "cell_type": "code",
   "execution_count": 38,
   "id": "e9498517",
   "metadata": {
    "execution": {
     "iopub.execute_input": "2024-11-29T13:48:53.823111Z",
     "iopub.status.busy": "2024-11-29T13:48:53.822357Z",
     "iopub.status.idle": "2024-11-29T13:48:53.826063Z",
     "shell.execute_reply": "2024-11-29T13:48:53.825436Z"
    },
    "papermill": {
     "duration": 0.025747,
     "end_time": "2024-11-29T13:48:53.827652",
     "exception": false,
     "start_time": "2024-11-29T13:48:53.801905",
     "status": "completed"
    },
    "tags": []
   },
   "outputs": [],
   "source": [
    "# # Custom metric calculation function\n",
    "# def calculate_custom_metric(avg_val_loss, val_accuracy, avg_train_loss, train_accuracy, alpha=0.5, beta=0.5):\n",
    "#     loss_diff = abs(avg_train_loss - avg_val_loss)\n",
    "#     accuracy_diff = abs(train_accuracy - val_accuracy)\n",
    "#     custom_metric = avg_val_loss - val_accuracy + alpha * loss_diff + beta * accuracy_diff\n",
    "#     return custom_metric"
   ]
  },
  {
   "cell_type": "markdown",
   "id": "cdecc86d",
   "metadata": {
    "papermill": {
     "duration": 0.019794,
     "end_time": "2024-11-29T13:48:53.867064",
     "exception": false,
     "start_time": "2024-11-29T13:48:53.847270",
     "status": "completed"
    },
    "tags": []
   },
   "source": [
    "### Early Stopping"
   ]
  },
  {
   "cell_type": "code",
   "execution_count": 39,
   "id": "27e39c4c",
   "metadata": {
    "execution": {
     "iopub.execute_input": "2024-11-29T13:48:53.907283Z",
     "iopub.status.busy": "2024-11-29T13:48:53.907049Z",
     "iopub.status.idle": "2024-11-29T13:48:53.912237Z",
     "shell.execute_reply": "2024-11-29T13:48:53.911530Z"
    },
    "papermill": {
     "duration": 0.027104,
     "end_time": "2024-11-29T13:48:53.913759",
     "exception": false,
     "start_time": "2024-11-29T13:48:53.886655",
     "status": "completed"
    },
    "tags": []
   },
   "outputs": [],
   "source": [
    "class EarlyStopping:\n",
    "    def __init__(self, patience=5, verbose=False, delta=0):\n",
    "        \"\"\"\n",
    "        EarlyStopping to stop training when a metric has stopped improving.\n",
    "\n",
    "        Args:\n",
    "            patience (int): How long to wait after last time validation loss improved.\n",
    "            verbose (bool): If True, prints a message for each validation loss improvement.\n",
    "            delta (float): Minimum change to qualify as an improvement.\n",
    "        \"\"\"\n",
    "        self.patience = patience\n",
    "        self.verbose = verbose\n",
    "        self.delta = delta\n",
    "        self.counter = 0\n",
    "        self.best_loss = np.inf\n",
    "        self.early_stop = False\n",
    "\n",
    "    def __call__(self, val_loss, model):\n",
    "        if val_loss < self.best_loss - self.delta:\n",
    "            self.best_loss = val_loss\n",
    "            self.counter = 0\n",
    "#             if self.verbose:\n",
    "#                 print(f'Validation loss improved to {val_loss:.4f}')\n",
    "#             torch.save(model.state_dict(), 'checkpoint.pt')\n",
    "        else:\n",
    "            self.counter += 1\n",
    "#             if self.verbose:\n",
    "#                 print(f'Validation loss did not improve. Patience: {self.patience}, Counter: {self.counter}')\n",
    "        \n",
    "        if self.counter >= self.patience:\n",
    "            self.early_stop = True"
   ]
  },
  {
   "cell_type": "code",
   "execution_count": 40,
   "id": "024f5397",
   "metadata": {
    "execution": {
     "iopub.execute_input": "2024-11-29T13:48:53.954605Z",
     "iopub.status.busy": "2024-11-29T13:48:53.954385Z",
     "iopub.status.idle": "2024-11-29T13:48:53.968179Z",
     "shell.execute_reply": "2024-11-29T13:48:53.967578Z"
    },
    "papermill": {
     "duration": 0.036485,
     "end_time": "2024-11-29T13:48:53.970171",
     "exception": false,
     "start_time": "2024-11-29T13:48:53.933686",
     "status": "completed"
    },
    "tags": []
   },
   "outputs": [],
   "source": [
    "# Define the training function with variable parameters\n",
    "def train_model(config, train_dataset, val_dataset, device):\n",
    "#     model = EmotionModel(\n",
    "#         roberta_model=RobertaModel.from_pretrained(\"roberta-base\"),\n",
    "#         n_classes=7,\n",
    "#         dropout_rate=config[\"dropout_rate\"]\n",
    "#     )\n",
    "    model = EmotionModel(\n",
    "        roberta_model=DebertaV2Model.from_pretrained('microsoft/deberta-v3-base'),\n",
    "        n_classes=7,\n",
    "        dropout_rate=config[\"dropout_rate\"]\n",
    "    )\n",
    "    model = model.to(device)\n",
    "#     optimizer = optim.Adam(model.parameters(), lr=config[\"lr\"])\n",
    "    optimizer = optim.AdamW(model.parameters(), lr=config[\"lr\"], weight_decay=config[\"weight_decay\"])\n",
    "#     criterion = nn.BCEWithLogitsLoss()\n",
    "    criterion = nn.MSELoss()\n",
    "    scaler = GradScaler()  # Initialize GradScaler\n",
    "    \n",
    "    train_loader = DataLoader(train_dataset, batch_size=config[\"batch_size\"], shuffle=True)\n",
    "    val_loader = DataLoader(val_dataset, batch_size=config[\"batch_size\"], shuffle=False)\n",
    "    \n",
    "    scheduler = optim.lr_scheduler.ReduceLROnPlateau(optimizer, mode='min', factor=0.1, patience=2, verbose=True)\n",
    "    \n",
    "    early_stopping = EarlyStopping(patience=3, verbose=True)\n",
    "    \n",
    "    for epoch in range(config[\"epochs\"]):  # Ensure epochs are passed from config\n",
    "        model.train()\n",
    "        total_train_loss = 0.0\n",
    "        correct_train_preds = 0\n",
    "        total_train_preds = 0\n",
    "        \n",
    "        for batch in train_loader:\n",
    "            input_ids = batch[\"input_ids\"].to(device)\n",
    "            attention_mask = batch[\"attention_mask\"].to(device)\n",
    "            labels = batch[\"labels\"].to(device)\n",
    "\n",
    "            optimizer.zero_grad()\n",
    "#             outputs = model(input_ids=input_ids, attention_mask=attention_mask)\n",
    "#             loss = criterion(outputs, labels)\n",
    "#             loss.backward()\n",
    "#             optimizer.step()\n",
    "\n",
    "            with autocast(device_type=device.type):  # Mixed precision\n",
    "                outputs = model(input_ids=input_ids, attention_mask=attention_mask)\n",
    "                outputs = torch.sigmoid(outputs)\n",
    "                loss = criterion(outputs, labels)\n",
    "            \n",
    "            scaler.scale(loss).backward()\n",
    "            scaler.step(optimizer)\n",
    "            scaler.update()\n",
    "            \n",
    "# NOTE: Apply the sigmoid fn to outputs after BCEWithLogitsLoss because the loss fn already comes with sigmoid applied, so passing the sigmoid applied ouput will give erraneous results.\n",
    "# If we use BCELoss then pass the sigmoid applied output.\n",
    "            \n",
    "            total_train_loss += loss.item()\n",
    "#             correct_train_preds += (torch.argmax(outputs, dim=1) == torch.argmax(labels, dim=1)).sum().item()\n",
    "#             total_train_preds += labels.size(0)\n",
    "            correct_train_preds += ((outputs > 0.5) == (labels > 0.5)).sum().item()\n",
    "            total_train_preds += labels.numel()\n",
    "        \n",
    "        avg_train_loss = total_train_loss / len(train_loader)\n",
    "        train_accuracy = correct_train_preds / total_train_preds\n",
    "\n",
    "        # Validation phase\n",
    "        model.eval()\n",
    "        total_val_loss = 0.0\n",
    "        correct_val_preds = 0\n",
    "        total_val_preds = 0\n",
    "\n",
    "        with torch.no_grad():\n",
    "            for batch in val_loader:\n",
    "                input_ids = batch[\"input_ids\"].to(device)\n",
    "                attention_mask = batch[\"attention_mask\"].to(device)\n",
    "                labels = batch[\"labels\"].to(device)\n",
    "\n",
    "#                 outputs = model(input_ids=input_ids, attention_mask=attention_mask)\n",
    "#                 loss = criterion(outputs, labels)\n",
    "                \n",
    "                with autocast(device_type=device.type):\n",
    "                    outputs = model(input_ids=input_ids, attention_mask=attention_mask)\n",
    "                    outputs = torch.sigmoid(outputs)\n",
    "                    loss = criterion(outputs, labels)\n",
    "                    \n",
    "# NOTE: Apply the sigmoid fn to outputs after BCEWithLogitsLoss because the loss fn already comes with sigmoid applied, so passing the sigmoid applied ouput will give erraneous results.\n",
    "# If we use BCELoss then pass the sigmoid applied output.\n",
    "                \n",
    "                total_val_loss += loss.item()\n",
    "#                 correct_val_preds += (torch.argmax(outputs, dim=1) == torch.argmax(labels, dim=1)).sum().item()\n",
    "#                 total_val_preds += labels.size(0)\n",
    "                correct_val_preds += ((outputs > 0.5) == (labels > 0.5)).sum().item()\n",
    "                total_val_preds += labels.numel()\n",
    "\n",
    "        avg_val_loss = total_val_loss / len(val_loader)\n",
    "        val_accuracy = correct_val_preds / total_val_preds\n",
    "#         custom_metric = avg_val_loss - val_accuracy\n",
    "#         custom_metric = calculate_custom_metric(avg_val_loss, val_accuracy, avg_train_loss, train_accuracy)\n",
    "        custom_metric = calculate_custom_metric(avg_val_loss, avg_train_loss)\n",
    "\n",
    "        # Report metrics using ray.train.report\n",
    "        report({\n",
    "            \"loss\": avg_val_loss,\n",
    "            \"accuracy\": val_accuracy,\n",
    "            \"train_loss\": avg_train_loss,\n",
    "            \"train_accuracy\": train_accuracy,\n",
    "            \"custom_metric\": custom_metric,\n",
    "            \"early_stopping_epoch\": epoch + 1,\n",
    "        })\n",
    "        \n",
    "        # Learning rate scheduler step\n",
    "        scheduler.step(avg_val_loss)\n",
    "        \n",
    "        # Check for early stopping\n",
    "        early_stopping(avg_val_loss, model)\n",
    "        if early_stopping.early_stop:\n",
    "#             print(\"Early stopping\")\n",
    "            break\n",
    "    \n",
    "\n",
    "        # Save the model checkpoint after each epoch\n",
    "#         trial_dir = os.path.join(os.environ[\"TUNE_TRIAL_DIR\"], \"checkpoint.pt\")\n",
    "#         torch.save(model.state_dict(), 'checkpoint.pt')\n",
    "#         checkpoint_path = f\"/kaggle/working/checkpoint_epoch_{epoch}.pt\"\n",
    "#         torch.save(model.state_dict(), checkpoint_path)\n",
    "    \n",
    "    return model\n",
    "\n",
    "def train_fn(config):\n",
    "    # Load your data here\n",
    "#     tokenizer = RobertaTokenizer.from_pretrained('roberta-base')\n",
    "    tokenizer = DebertaV2Tokenizer.from_pretrained('microsoft/deberta-v3-base')\n",
    "\n",
    "    train_dataset = EmotionDataset(train_ds_pd, tokenizer, max_len=128)\n",
    "    val_dataset = EmotionDataset(validation_ds_pd, tokenizer, max_len=128)\n",
    "\n",
    "    device = torch.device(\"cuda\" if torch.cuda.is_available() else \"cpu\")\n",
    "    train_model(config, train_dataset, val_dataset, device)"
   ]
  },
  {
   "cell_type": "markdown",
   "id": "46be9603",
   "metadata": {
    "papermill": {
     "duration": 0.019972,
     "end_time": "2024-11-29T13:48:54.014775",
     "exception": false,
     "start_time": "2024-11-29T13:48:53.994803",
     "status": "completed"
    },
    "tags": []
   },
   "source": [
    "## SEARCH SPACE"
   ]
  },
  {
   "cell_type": "code",
   "execution_count": 41,
   "id": "8fa98a36",
   "metadata": {
    "execution": {
     "iopub.execute_input": "2024-11-29T13:48:54.056374Z",
     "iopub.status.busy": "2024-11-29T13:48:54.056113Z",
     "iopub.status.idle": "2024-11-29T13:48:54.060552Z",
     "shell.execute_reply": "2024-11-29T13:48:54.059902Z"
    },
    "papermill": {
     "duration": 0.027568,
     "end_time": "2024-11-29T13:48:54.062095",
     "exception": false,
     "start_time": "2024-11-29T13:48:54.034527",
     "status": "completed"
    },
    "tags": []
   },
   "outputs": [],
   "source": [
    "search_space = {\n",
    "    'dropout_rate': tune.choice([0.2, 0.25, 0.27, 0.3, 0.35, 0.4]),\n",
    "    'batch_size': tune.choice([32, 64]),\n",
    "    'weight_decay': tune.choice([1e-6, 2e-6, 1e-5, 2e-5, 1e-4, 2e-4, 5e-5, 5e-6, 1e-2, 1e-3]),\n",
    "    'lr': tune.choice([1e-6, 1e-5, 2e-5, 1e-4, 2e-4, 2e-6, 3e-6, 5e-6, 3e-5, 5e-5, 2e-7, 1e-7, 5e-7, 1e-3]),\n",
    "    'epochs': tune.choice([5, 7, 10, 12, 15, 20])\n",
    "}"
   ]
  },
  {
   "cell_type": "code",
   "execution_count": 42,
   "id": "0570f98a",
   "metadata": {
    "execution": {
     "iopub.execute_input": "2024-11-29T13:48:54.102531Z",
     "iopub.status.busy": "2024-11-29T13:48:54.101890Z",
     "iopub.status.idle": "2024-11-29T13:48:54.106066Z",
     "shell.execute_reply": "2024-11-29T13:48:54.105163Z"
    },
    "papermill": {
     "duration": 0.026657,
     "end_time": "2024-11-29T13:48:54.108307",
     "exception": false,
     "start_time": "2024-11-29T13:48:54.081650",
     "status": "completed"
    },
    "tags": []
   },
   "outputs": [],
   "source": [
    "# search_space = {\n",
    "#     'hidden_size': tune.choice([32, 64, 128, 256]),\n",
    "#     'dropout_rate': tune.uniform(0.1, 0.5),\n",
    "#     'batch_size': tune.choice([16, 32, 64]),\n",
    "#     'weight_decay': tune.loguniform(1e-6, 1e-1),\n",
    "#     'lr': tune.loguniform(1e-6, 1e-1),\n",
    "#     'epochs': tune.choice([3, 5, 7, 10, 12, 15, 20])\n",
    "# }"
   ]
  },
  {
   "cell_type": "code",
   "execution_count": 43,
   "id": "160ad350",
   "metadata": {
    "execution": {
     "iopub.execute_input": "2024-11-29T13:48:54.175777Z",
     "iopub.status.busy": "2024-11-29T13:48:54.174993Z",
     "iopub.status.idle": "2024-11-29T13:48:54.178899Z",
     "shell.execute_reply": "2024-11-29T13:48:54.178094Z"
    },
    "papermill": {
     "duration": 0.035863,
     "end_time": "2024-11-29T13:48:54.180486",
     "exception": false,
     "start_time": "2024-11-29T13:48:54.144623",
     "status": "completed"
    },
    "tags": []
   },
   "outputs": [],
   "source": [
    "# search_space = {\n",
    "#     'dropout_rate': tune.uniform(0.1, 0.5),\n",
    "#     'batch_size': tune.choice([16, 32, 64]),\n",
    "#     'weight_decay': tune.loguniform(1e-6, 1e-1),\n",
    "#     'lr': tune.loguniform(1e-6, 1e-1),\n",
    "#     'epochs': tune.choice([3, 5, 7, 10, 12, 15, 20])\n",
    "# }"
   ]
  },
  {
   "cell_type": "code",
   "execution_count": 44,
   "id": "5a1bfd93",
   "metadata": {
    "execution": {
     "iopub.execute_input": "2024-11-29T13:48:54.221528Z",
     "iopub.status.busy": "2024-11-29T13:48:54.221272Z",
     "iopub.status.idle": "2024-11-29T13:48:54.224573Z",
     "shell.execute_reply": "2024-11-29T13:48:54.223889Z"
    },
    "papermill": {
     "duration": 0.025282,
     "end_time": "2024-11-29T13:48:54.226136",
     "exception": false,
     "start_time": "2024-11-29T13:48:54.200854",
     "status": "completed"
    },
    "tags": []
   },
   "outputs": [],
   "source": [
    "# search_space = {\n",
    "#     'hidden_size': tune.choice([32, 64, 128, 256]),\n",
    "#     'dropout_rate': tune.uniform(0.1, 0.5),\n",
    "#     'batch_size': tune.choice([16, 32, 64]),\n",
    "#     'weight_decay': tune.loguniform(1e-6, 1e-1),\n",
    "#     'lr': tune.loguniform(1e-6, 1e-1),\n",
    "#     'epochs': tune.randint(3, 21)\n",
    "# }"
   ]
  },
  {
   "cell_type": "code",
   "execution_count": 45,
   "id": "bce2da02",
   "metadata": {
    "execution": {
     "iopub.execute_input": "2024-11-29T13:48:54.266593Z",
     "iopub.status.busy": "2024-11-29T13:48:54.266352Z",
     "iopub.status.idle": "2024-11-29T13:48:54.269781Z",
     "shell.execute_reply": "2024-11-29T13:48:54.269140Z"
    },
    "papermill": {
     "duration": 0.025543,
     "end_time": "2024-11-29T13:48:54.271359",
     "exception": false,
     "start_time": "2024-11-29T13:48:54.245816",
     "status": "completed"
    },
    "tags": []
   },
   "outputs": [],
   "source": [
    "# search_space = {\n",
    "#     'hidden_size': tune.choice([256, 512]),\n",
    "#     'dropout_rate': tune.uniform(0.1, 0.5),\n",
    "#     'batch_size': tune.choice([4, 8, 16]),\n",
    "#     'lr': tune.loguniform(1e-5, 1e-2)\n",
    "# }"
   ]
  },
  {
   "cell_type": "markdown",
   "id": "eca0f9fd",
   "metadata": {
    "papermill": {
     "duration": 0.019607,
     "end_time": "2024-11-29T13:48:54.310655",
     "exception": false,
     "start_time": "2024-11-29T13:48:54.291048",
     "status": "completed"
    },
    "tags": []
   },
   "source": [
    "## SEARCH ALGO"
   ]
  },
  {
   "cell_type": "code",
   "execution_count": 46,
   "id": "2fef072b",
   "metadata": {
    "execution": {
     "iopub.execute_input": "2024-11-29T13:48:54.352229Z",
     "iopub.status.busy": "2024-11-29T13:48:54.351983Z",
     "iopub.status.idle": "2024-11-29T13:48:54.355697Z",
     "shell.execute_reply": "2024-11-29T13:48:54.354883Z"
    },
    "papermill": {
     "duration": 0.026345,
     "end_time": "2024-11-29T13:48:54.357207",
     "exception": false,
     "start_time": "2024-11-29T13:48:54.330862",
     "status": "completed"
    },
    "tags": []
   },
   "outputs": [],
   "source": [
    "optuna_search = OptunaSearch(\n",
    "    metric=\"accuracy\",\n",
    "    mode=\"max\"\n",
    ")"
   ]
  },
  {
   "cell_type": "code",
   "execution_count": 47,
   "id": "df520a09",
   "metadata": {
    "execution": {
     "iopub.execute_input": "2024-11-29T13:48:54.397939Z",
     "iopub.status.busy": "2024-11-29T13:48:54.397279Z",
     "iopub.status.idle": "2024-11-29T13:48:54.400742Z",
     "shell.execute_reply": "2024-11-29T13:48:54.400077Z"
    },
    "papermill": {
     "duration": 0.025499,
     "end_time": "2024-11-29T13:48:54.402301",
     "exception": false,
     "start_time": "2024-11-29T13:48:54.376802",
     "status": "completed"
    },
    "tags": []
   },
   "outputs": [],
   "source": [
    "# optuna_search = OptunaSearch(\n",
    "#     metric=[\n",
    "#         tune.MultiObjective(\"loss\", \"min\"),\n",
    "#         tune.MultiObjective(\"custom_metric\", \"min\"),\n",
    "#         tune.MultiObjective(\"accuracy\", \"max\")\n",
    "#     ],\n",
    "#     mode=[\n",
    "#         \"min\",  # for loss\n",
    "#         \"min\",  # for custom metric\n",
    "#         \"max\"   # for accuracy\n",
    "#     ]\n",
    "# )"
   ]
  },
  {
   "cell_type": "code",
   "execution_count": 48,
   "id": "678c612b",
   "metadata": {
    "execution": {
     "iopub.execute_input": "2024-11-29T13:48:54.443216Z",
     "iopub.status.busy": "2024-11-29T13:48:54.442564Z",
     "iopub.status.idle": "2024-11-29T13:48:54.446192Z",
     "shell.execute_reply": "2024-11-29T13:48:54.445267Z"
    },
    "papermill": {
     "duration": 0.025543,
     "end_time": "2024-11-29T13:48:54.447802",
     "exception": false,
     "start_time": "2024-11-29T13:48:54.422259",
     "status": "completed"
    },
    "tags": []
   },
   "outputs": [],
   "source": [
    "# optuna_search = OptunaSearch(\n",
    "#     metric=\"custom_metric\",\n",
    "#     mode=\"min\"\n",
    "# )"
   ]
  },
  {
   "cell_type": "code",
   "execution_count": 49,
   "id": "05dda16f",
   "metadata": {
    "execution": {
     "iopub.execute_input": "2024-11-29T13:48:54.488466Z",
     "iopub.status.busy": "2024-11-29T13:48:54.488003Z",
     "iopub.status.idle": "2024-11-29T13:48:54.491221Z",
     "shell.execute_reply": "2024-11-29T13:48:54.490667Z"
    },
    "papermill": {
     "duration": 0.025133,
     "end_time": "2024-11-29T13:48:54.492765",
     "exception": false,
     "start_time": "2024-11-29T13:48:54.467632",
     "status": "completed"
    },
    "tags": []
   },
   "outputs": [],
   "source": [
    "# # Setup Optuna for hyperparameter optimization\n",
    "# optuna_search = OptunaSearch(\n",
    "#     metric=\"loss\",\n",
    "#     mode=\"min\"\n",
    "# )"
   ]
  },
  {
   "cell_type": "code",
   "execution_count": 50,
   "id": "43b5457e",
   "metadata": {
    "execution": {
     "iopub.execute_input": "2024-11-29T13:48:54.532934Z",
     "iopub.status.busy": "2024-11-29T13:48:54.532661Z",
     "iopub.status.idle": "2024-11-29T13:48:54.535705Z",
     "shell.execute_reply": "2024-11-29T13:48:54.535079Z"
    },
    "papermill": {
     "duration": 0.024884,
     "end_time": "2024-11-29T13:48:54.537273",
     "exception": false,
     "start_time": "2024-11-29T13:48:54.512389",
     "status": "completed"
    },
    "tags": []
   },
   "outputs": [],
   "source": [
    "# scheduler = ASHAScheduler(\n",
    "#     metric=\"loss\",\n",
    "#     mode=\"min\",\n",
    "#     max_t=15,\n",
    "#     grace_period=1,\n",
    "#     reduction_factor=2\n",
    "# )"
   ]
  },
  {
   "cell_type": "code",
   "execution_count": 51,
   "id": "1f6e9ba6",
   "metadata": {
    "execution": {
     "iopub.execute_input": "2024-11-29T13:48:54.577336Z",
     "iopub.status.busy": "2024-11-29T13:48:54.577096Z",
     "iopub.status.idle": "2024-11-29T13:48:54.580476Z",
     "shell.execute_reply": "2024-11-29T13:48:54.579671Z"
    },
    "papermill": {
     "duration": 0.02532,
     "end_time": "2024-11-29T13:48:54.582062",
     "exception": false,
     "start_time": "2024-11-29T13:48:54.556742",
     "status": "completed"
    },
    "tags": []
   },
   "outputs": [],
   "source": [
    "# scheduler = ASHAScheduler(\n",
    "#     metric=\"accuracy\",\n",
    "#     mode=\"max\",\n",
    "#     max_t=15,\n",
    "#     grace_period=1,\n",
    "#     reduction_factor=2\n",
    "# )"
   ]
  },
  {
   "cell_type": "markdown",
   "id": "cf2af074",
   "metadata": {
    "papermill": {
     "duration": 0.019624,
     "end_time": "2024-11-29T13:48:54.621600",
     "exception": false,
     "start_time": "2024-11-29T13:48:54.601976",
     "status": "completed"
    },
    "tags": []
   },
   "source": [
    "## SCHEDULER ALGO"
   ]
  },
  {
   "cell_type": "code",
   "execution_count": 52,
   "id": "da16be0c",
   "metadata": {
    "execution": {
     "iopub.execute_input": "2024-11-29T13:48:54.662193Z",
     "iopub.status.busy": "2024-11-29T13:48:54.661939Z",
     "iopub.status.idle": "2024-11-29T13:48:54.665574Z",
     "shell.execute_reply": "2024-11-29T13:48:54.664875Z"
    },
    "papermill": {
     "duration": 0.025929,
     "end_time": "2024-11-29T13:48:54.667247",
     "exception": false,
     "start_time": "2024-11-29T13:48:54.641318",
     "status": "completed"
    },
    "tags": []
   },
   "outputs": [],
   "source": [
    "scheduler = ASHAScheduler(\n",
    "    metric='accuracy',\n",
    "    mode='max',\n",
    "    max_t=22,\n",
    "    grace_period=3,\n",
    "    reduction_factor=2\n",
    ")"
   ]
  },
  {
   "cell_type": "code",
   "execution_count": 53,
   "id": "88966735",
   "metadata": {
    "execution": {
     "iopub.execute_input": "2024-11-29T13:48:54.708749Z",
     "iopub.status.busy": "2024-11-29T13:48:54.708512Z",
     "iopub.status.idle": "2024-11-29T13:48:54.711691Z",
     "shell.execute_reply": "2024-11-29T13:48:54.711069Z"
    },
    "papermill": {
     "duration": 0.025159,
     "end_time": "2024-11-29T13:48:54.713183",
     "exception": false,
     "start_time": "2024-11-29T13:48:54.688024",
     "status": "completed"
    },
    "tags": []
   },
   "outputs": [],
   "source": [
    "# scheduler = AsyncHyperBandScheduler(\n",
    "#     metric='accuracy',\n",
    "#     mode='max',\n",
    "#     max_t=22,\n",
    "#     grace_period=3,\n",
    "#     reduction_factor=2\n",
    "# )"
   ]
  },
  {
   "cell_type": "code",
   "execution_count": 54,
   "id": "ee5e68a6",
   "metadata": {
    "execution": {
     "iopub.execute_input": "2024-11-29T13:48:54.753471Z",
     "iopub.status.busy": "2024-11-29T13:48:54.753227Z",
     "iopub.status.idle": "2024-11-29T13:48:54.756471Z",
     "shell.execute_reply": "2024-11-29T13:48:54.755899Z"
    },
    "papermill": {
     "duration": 0.025109,
     "end_time": "2024-11-29T13:48:54.757930",
     "exception": false,
     "start_time": "2024-11-29T13:48:54.732821",
     "status": "completed"
    },
    "tags": []
   },
   "outputs": [],
   "source": [
    "# scheduler = ASHAScheduler(\n",
    "#     metric=[\n",
    "#         tune.MultiObjective(\"loss\", \"min\"),\n",
    "#         tune.MultiObjective(\"custom_metric\", \"min\"),\n",
    "#         tune.MultiObjective(\"accuracy\", \"max\")\n",
    "#     ],\n",
    "#     mode=[\n",
    "#         \"min\",  # for loss\n",
    "#         \"min\",  # for custom metric\n",
    "#         \"max\"   # for accuracy\n",
    "#     ],\n",
    "#     max_t=22,\n",
    "#     grace_period=3,\n",
    "#     reduction_factor=2\n",
    "# )"
   ]
  },
  {
   "cell_type": "code",
   "execution_count": 55,
   "id": "521ed23f",
   "metadata": {
    "execution": {
     "iopub.execute_input": "2024-11-29T13:48:54.798873Z",
     "iopub.status.busy": "2024-11-29T13:48:54.798160Z",
     "iopub.status.idle": "2024-11-29T13:48:54.801376Z",
     "shell.execute_reply": "2024-11-29T13:48:54.800761Z"
    },
    "papermill": {
     "duration": 0.025346,
     "end_time": "2024-11-29T13:48:54.802926",
     "exception": false,
     "start_time": "2024-11-29T13:48:54.777580",
     "status": "completed"
    },
    "tags": []
   },
   "outputs": [],
   "source": [
    "# scheduler = ASHAScheduler(\n",
    "#     metric=\"custom_metric\",\n",
    "#     mode=\"min\",\n",
    "#     max_t=22,\n",
    "#     grace_period=3,\n",
    "#     reduction_factor=2\n",
    "# )"
   ]
  },
  {
   "cell_type": "code",
   "execution_count": 56,
   "id": "385daa72",
   "metadata": {
    "execution": {
     "iopub.execute_input": "2024-11-29T13:48:54.844346Z",
     "iopub.status.busy": "2024-11-29T13:48:54.844093Z",
     "iopub.status.idle": "2024-11-29T13:48:54.847611Z",
     "shell.execute_reply": "2024-11-29T13:48:54.846814Z"
    },
    "papermill": {
     "duration": 0.02645,
     "end_time": "2024-11-29T13:48:54.849250",
     "exception": false,
     "start_time": "2024-11-29T13:48:54.822800",
     "status": "completed"
    },
    "tags": []
   },
   "outputs": [],
   "source": [
    "# scheduler = HyperBandScheduler(\n",
    "#     time_attr='training_iteration',  # The attribute to use for the time dimension (similar to ASHA's `max_t`)\n",
    "#     metric='custom_metric',          # The metric to optimize (similar to ASHA's `metric`)\n",
    "#     mode='min',                      # Optimization mode (minimize `custom_metric`)\n",
    "#     max_t=22,                        # Maximum number of iterations per trial (similar to ASHA's `max_t`)\n",
    "#     reduction_factor=2               # Reduction factor (similar to ASHA)\n",
    "# )"
   ]
  },
  {
   "cell_type": "code",
   "execution_count": 57,
   "id": "4b8346c4",
   "metadata": {
    "execution": {
     "iopub.execute_input": "2024-11-29T13:48:54.890471Z",
     "iopub.status.busy": "2024-11-29T13:48:54.889742Z",
     "iopub.status.idle": "2024-11-29T13:48:54.893700Z",
     "shell.execute_reply": "2024-11-29T13:48:54.892912Z"
    },
    "papermill": {
     "duration": 0.026145,
     "end_time": "2024-11-29T13:48:54.895335",
     "exception": false,
     "start_time": "2024-11-29T13:48:54.869190",
     "status": "completed"
    },
    "tags": []
   },
   "outputs": [],
   "source": [
    "reporter = CLIReporter(\n",
    "    metric_columns=[\"loss\", \"accuracy\", \"custom_metric\", \"training_iteration\", \"train_loss\", \"train_accuracy\", \"early_stopping_epoch\"],\n",
    "    print_intermediate_tables=False\n",
    ")\n",
    "reporter.verbosity = 0"
   ]
  },
  {
   "cell_type": "markdown",
   "id": "d8eefa9d",
   "metadata": {
    "papermill": {
     "duration": 0.019741,
     "end_time": "2024-11-29T13:48:54.935627",
     "exception": false,
     "start_time": "2024-11-29T13:48:54.915886",
     "status": "completed"
    },
    "tags": []
   },
   "source": [
    "## Custom CLI Reporter Class"
   ]
  },
  {
   "cell_type": "code",
   "execution_count": 58,
   "id": "320ce977",
   "metadata": {
    "execution": {
     "iopub.execute_input": "2024-11-29T13:48:54.976173Z",
     "iopub.status.busy": "2024-11-29T13:48:54.975919Z",
     "iopub.status.idle": "2024-11-29T13:48:54.979791Z",
     "shell.execute_reply": "2024-11-29T13:48:54.978994Z"
    },
    "papermill": {
     "duration": 0.02583,
     "end_time": "2024-11-29T13:48:54.981340",
     "exception": false,
     "start_time": "2024-11-29T13:48:54.955510",
     "status": "completed"
    },
    "tags": []
   },
   "outputs": [],
   "source": [
    "# class FinalTableCLIReporter(CLIReporter):\n",
    "#     def __init__(self, *args, **kwargs):\n",
    "#         super().__init__(*args, **kwargs)\n",
    "#         self.results = []\n",
    "\n",
    "#     def _update(self, *args, **kwargs):\n",
    "#         # Collect results without printing intermediate updates\n",
    "#         self.results.append(kwargs)\n",
    "\n",
    "#     def print_table(self):\n",
    "#         # Print only the final results\n",
    "#         if self.results:\n",
    "#             final_results = [result for result in self.results]\n",
    "#             headers = list(final_results[0].keys()) if final_results else []\n",
    "#             table = [headers] + [list(result.values()) for result in final_results]\n",
    "#             for row in table:\n",
    "#                 print(\" | \".join(str(cell) for cell in row))\n",
    "\n",
    "#     def _report(self, *args, **kwargs):\n",
    "#         # Override this to prevent intermediate print\n",
    "#         self._update(*args, **kwargs)\n",
    "\n",
    "#     def _finalize(self):\n",
    "#         # Call this to print the final table\n",
    "#         self.print_table()"
   ]
  },
  {
   "cell_type": "markdown",
   "id": "e212059f",
   "metadata": {
    "papermill": {
     "duration": 0.019797,
     "end_time": "2024-11-29T13:48:55.021051",
     "exception": false,
     "start_time": "2024-11-29T13:48:55.001254",
     "status": "completed"
    },
    "tags": []
   },
   "source": [
    "## REPORTER"
   ]
  },
  {
   "cell_type": "code",
   "execution_count": 59,
   "id": "16f44c81",
   "metadata": {
    "execution": {
     "iopub.execute_input": "2024-11-29T13:48:55.064329Z",
     "iopub.status.busy": "2024-11-29T13:48:55.064082Z",
     "iopub.status.idle": "2024-11-29T13:48:55.067767Z",
     "shell.execute_reply": "2024-11-29T13:48:55.066968Z"
    },
    "papermill": {
     "duration": 0.028303,
     "end_time": "2024-11-29T13:48:55.069534",
     "exception": false,
     "start_time": "2024-11-29T13:48:55.041231",
     "status": "completed"
    },
    "tags": []
   },
   "outputs": [],
   "source": [
    "# To ignore warinings\n",
    "import warnings\n",
    "warnings.filterwarnings('ignore')"
   ]
  },
  {
   "cell_type": "code",
   "execution_count": 60,
   "id": "9c77b8fe",
   "metadata": {
    "execution": {
     "iopub.execute_input": "2024-11-29T13:48:55.115867Z",
     "iopub.status.busy": "2024-11-29T13:48:55.115404Z",
     "iopub.status.idle": "2024-11-29T18:43:42.251234Z",
     "shell.execute_reply": "2024-11-29T18:43:42.250218Z"
    },
    "papermill": {
     "duration": 17687.158952,
     "end_time": "2024-11-29T18:43:42.253566",
     "exception": false,
     "start_time": "2024-11-29T13:48:55.094614",
     "status": "completed"
    },
    "tags": []
   },
   "outputs": [
    {
     "data": {
      "text/html": [
       "<div class=\"tuneStatus\">\n",
       "  <div style=\"display: flex;flex-direction: row\">\n",
       "    <div style=\"display: flex;flex-direction: column;\">\n",
       "      <h3>Tune Status</h3>\n",
       "      <table>\n",
       "<tbody>\n",
       "<tr><td>Current time:</td><td>2024-11-29 18:43:42</td></tr>\n",
       "<tr><td>Running for: </td><td>04:54:34.75        </td></tr>\n",
       "<tr><td>Memory:      </td><td>3.2/31.4 GiB       </td></tr>\n",
       "</tbody>\n",
       "</table>\n",
       "    </div>\n",
       "    <div class=\"vDivider\"></div>\n",
       "    <div class=\"systemInfo\">\n",
       "      <h3>System Info</h3>\n",
       "      Using AsyncHyperBand: num_stopped=60<br>Bracket: Iter 12.000: 0.9149967679379444 | Iter 6.000: 0.9143503555268261 | Iter 3.000: 0.9044925662572721<br>Logical resource usage: 2.0/4 CPUs, 1.0/2 GPUs (0.0/1.0 accelerator_type:T4)\n",
       "    </div>\n",
       "    \n",
       "  </div>\n",
       "  <div class=\"hDivider\"></div>\n",
       "  <div class=\"trialStatus\">\n",
       "    <h3>Trial Status</h3>\n",
       "    <table>\n",
       "<thead>\n",
       "<tr><th>Trial name       </th><th>status    </th><th>loc            </th><th style=\"text-align: right;\">  batch_size</th><th style=\"text-align: right;\">  dropout_rate</th><th style=\"text-align: right;\">  epochs</th><th style=\"text-align: right;\">    lr</th><th style=\"text-align: right;\">  weight_decay</th><th style=\"text-align: right;\">     loss</th><th style=\"text-align: right;\">  accuracy</th><th style=\"text-align: right;\">  custom_metric</th><th style=\"text-align: right;\">  training_iteration</th><th style=\"text-align: right;\">  train_loss</th><th style=\"text-align: right;\">  train_accuracy</th><th style=\"text-align: right;\">  early_stopping_epoch</th></tr>\n",
       "</thead>\n",
       "<tbody>\n",
       "<tr><td>train_fn_de540f6e</td><td>TERMINATED</td><td>172.19.2.2:341 </td><td style=\"text-align: right;\">          64</td><td style=\"text-align: right;\">          0.4 </td><td style=\"text-align: right;\">       5</td><td style=\"text-align: right;\">3e-05 </td><td style=\"text-align: right;\">        2e-05 </td><td style=\"text-align: right;\">0.0350333</td><td style=\"text-align: right;\">  0.913381</td><td style=\"text-align: right;\">      0.0378744</td><td style=\"text-align: right;\">                   5</td><td style=\"text-align: right;\">  0.029351  </td><td style=\"text-align: right;\">        0.928255</td><td style=\"text-align: right;\">                     5</td></tr>\n",
       "<tr><td>train_fn_5ccc8042</td><td>TERMINATED</td><td>172.19.2.2:376 </td><td style=\"text-align: right;\">          32</td><td style=\"text-align: right;\">          0.27</td><td style=\"text-align: right;\">      10</td><td style=\"text-align: right;\">0.0001</td><td style=\"text-align: right;\">        0.0001</td><td style=\"text-align: right;\">0.0511788</td><td style=\"text-align: right;\">  0.896251</td><td style=\"text-align: right;\">      0.0529625</td><td style=\"text-align: right;\">                   3</td><td style=\"text-align: right;\">  0.0547463 </td><td style=\"text-align: right;\">        0.888618</td><td style=\"text-align: right;\">                     3</td></tr>\n",
       "<tr><td>train_fn_f4f11c61</td><td>TERMINATED</td><td>172.19.2.2:482 </td><td style=\"text-align: right;\">          32</td><td style=\"text-align: right;\">          0.2 </td><td style=\"text-align: right;\">       7</td><td style=\"text-align: right;\">0.0001</td><td style=\"text-align: right;\">        1e-05 </td><td style=\"text-align: right;\">0.050289 </td><td style=\"text-align: right;\">  0.896251</td><td style=\"text-align: right;\">      0.052501 </td><td style=\"text-align: right;\">                   3</td><td style=\"text-align: right;\">  0.054713  </td><td style=\"text-align: right;\">        0.888618</td><td style=\"text-align: right;\">                     3</td></tr>\n",
       "<tr><td>train_fn_cc7b2bbd</td><td>TERMINATED</td><td>172.19.2.2:560 </td><td style=\"text-align: right;\">          64</td><td style=\"text-align: right;\">          0.4 </td><td style=\"text-align: right;\">       5</td><td style=\"text-align: right;\">0.001 </td><td style=\"text-align: right;\">        5e-06 </td><td style=\"text-align: right;\">0.0518973</td><td style=\"text-align: right;\">  0.896251</td><td style=\"text-align: right;\">      0.0531873</td><td style=\"text-align: right;\">                   5</td><td style=\"text-align: right;\">  0.0544773 </td><td style=\"text-align: right;\">        0.888618</td><td style=\"text-align: right;\">                     5</td></tr>\n",
       "<tr><td>train_fn_af324419</td><td>TERMINATED</td><td>172.19.2.2:641 </td><td style=\"text-align: right;\">          32</td><td style=\"text-align: right;\">          0.4 </td><td style=\"text-align: right;\">      12</td><td style=\"text-align: right;\">5e-05 </td><td style=\"text-align: right;\">        0.0001</td><td style=\"text-align: right;\">0.0314786</td><td style=\"text-align: right;\">  0.915966</td><td style=\"text-align: right;\">      0.0423468</td><td style=\"text-align: right;\">                  12</td><td style=\"text-align: right;\">  0.00974222</td><td style=\"text-align: right;\">        0.969663</td><td style=\"text-align: right;\">                    12</td></tr>\n",
       "<tr><td>train_fn_109ac776</td><td>TERMINATED</td><td>172.19.2.2:728 </td><td style=\"text-align: right;\">          64</td><td style=\"text-align: right;\">          0.4 </td><td style=\"text-align: right;\">      10</td><td style=\"text-align: right;\">0.001 </td><td style=\"text-align: right;\">        0.0001</td><td style=\"text-align: right;\">0.0505464</td><td style=\"text-align: right;\">  0.896251</td><td style=\"text-align: right;\">      0.0526129</td><td style=\"text-align: right;\">                   6</td><td style=\"text-align: right;\">  0.0546793 </td><td style=\"text-align: right;\">        0.888618</td><td style=\"text-align: right;\">                     6</td></tr>\n",
       "<tr><td>train_fn_01ed111c</td><td>TERMINATED</td><td>172.19.2.2:829 </td><td style=\"text-align: right;\">          64</td><td style=\"text-align: right;\">          0.27</td><td style=\"text-align: right;\">       7</td><td style=\"text-align: right;\">3e-06 </td><td style=\"text-align: right;\">        0.001 </td><td style=\"text-align: right;\">0.0508442</td><td style=\"text-align: right;\">  0.896251</td><td style=\"text-align: right;\">      0.0545136</td><td style=\"text-align: right;\">                   6</td><td style=\"text-align: right;\">  0.0581831 </td><td style=\"text-align: right;\">        0.888618</td><td style=\"text-align: right;\">                     6</td></tr>\n",
       "<tr><td>train_fn_908f2e6c</td><td>TERMINATED</td><td>172.19.2.2:922 </td><td style=\"text-align: right;\">          64</td><td style=\"text-align: right;\">          0.35</td><td style=\"text-align: right;\">      15</td><td style=\"text-align: right;\">3e-05 </td><td style=\"text-align: right;\">        0.001 </td><td style=\"text-align: right;\">0.0368132</td><td style=\"text-align: right;\">  0.912088</td><td style=\"text-align: right;\">      0.0455325</td><td style=\"text-align: right;\">                   7</td><td style=\"text-align: right;\">  0.0193747 </td><td style=\"text-align: right;\">        0.948659</td><td style=\"text-align: right;\">                     7</td></tr>\n",
       "<tr><td>train_fn_f727ef99</td><td>TERMINATED</td><td>172.19.2.2:1001</td><td style=\"text-align: right;\">          64</td><td style=\"text-align: right;\">          0.3 </td><td style=\"text-align: right;\">       5</td><td style=\"text-align: right;\">1e-06 </td><td style=\"text-align: right;\">        0.0002</td><td style=\"text-align: right;\">0.0796937</td><td style=\"text-align: right;\">  0.896251</td><td style=\"text-align: right;\">      0.0907037</td><td style=\"text-align: right;\">                   5</td><td style=\"text-align: right;\">  0.101714  </td><td style=\"text-align: right;\">        0.887701</td><td style=\"text-align: right;\">                     5</td></tr>\n",
       "<tr><td>train_fn_16b7cbd1</td><td>TERMINATED</td><td>172.19.2.2:1098</td><td style=\"text-align: right;\">          32</td><td style=\"text-align: right;\">          0.27</td><td style=\"text-align: right;\">       5</td><td style=\"text-align: right;\">3e-05 </td><td style=\"text-align: right;\">        5e-06 </td><td style=\"text-align: right;\">0.0323154</td><td style=\"text-align: right;\">  0.918552</td><td style=\"text-align: right;\">      0.0378706</td><td style=\"text-align: right;\">                   5</td><td style=\"text-align: right;\">  0.0212051 </td><td style=\"text-align: right;\">        0.943945</td><td style=\"text-align: right;\">                     5</td></tr>\n",
       "<tr><td>train_fn_6c3e629c</td><td>TERMINATED</td><td>172.19.2.2:1169</td><td style=\"text-align: right;\">          32</td><td style=\"text-align: right;\">          0.4 </td><td style=\"text-align: right;\">       7</td><td style=\"text-align: right;\">5e-07 </td><td style=\"text-align: right;\">        2e-06 </td><td style=\"text-align: right;\">0.0758959</td><td style=\"text-align: right;\">  0.896251</td><td style=\"text-align: right;\">      0.0855704</td><td style=\"text-align: right;\">                   6</td><td style=\"text-align: right;\">  0.095245  </td><td style=\"text-align: right;\">        0.884474</td><td style=\"text-align: right;\">                     6</td></tr>\n",
       "<tr><td>train_fn_34225abb</td><td>TERMINATED</td><td>172.19.2.2:1269</td><td style=\"text-align: right;\">          32</td><td style=\"text-align: right;\">          0.35</td><td style=\"text-align: right;\">      10</td><td style=\"text-align: right;\">1e-07 </td><td style=\"text-align: right;\">        0.0002</td><td style=\"text-align: right;\">0.175278 </td><td style=\"text-align: right;\">  0.738203</td><td style=\"text-align: right;\">      0.178973 </td><td style=\"text-align: right;\">                   3</td><td style=\"text-align: right;\">  0.182668  </td><td style=\"text-align: right;\">        0.655479</td><td style=\"text-align: right;\">                     3</td></tr>\n",
       "<tr><td>train_fn_48613c3c</td><td>TERMINATED</td><td>172.19.2.2:1346</td><td style=\"text-align: right;\">          32</td><td style=\"text-align: right;\">          0.25</td><td style=\"text-align: right;\">      20</td><td style=\"text-align: right;\">5e-06 </td><td style=\"text-align: right;\">        1e-06 </td><td style=\"text-align: right;\">0.0385429</td><td style=\"text-align: right;\">  0.910795</td><td style=\"text-align: right;\">      0.0470659</td><td style=\"text-align: right;\">                  12</td><td style=\"text-align: right;\">  0.0214969 </td><td style=\"text-align: right;\">        0.945464</td><td style=\"text-align: right;\">                    12</td></tr>\n",
       "<tr><td>train_fn_d4ef5ae7</td><td>TERMINATED</td><td>172.19.2.2:1428</td><td style=\"text-align: right;\">          32</td><td style=\"text-align: right;\">          0.25</td><td style=\"text-align: right;\">      12</td><td style=\"text-align: right;\">5e-05 </td><td style=\"text-align: right;\">        5e-06 </td><td style=\"text-align: right;\">0.0300592</td><td style=\"text-align: right;\">  0.914027</td><td style=\"text-align: right;\">      0.04111  </td><td style=\"text-align: right;\">                  11</td><td style=\"text-align: right;\">  0.00795752</td><td style=\"text-align: right;\">        0.973175</td><td style=\"text-align: right;\">                    11</td></tr>\n",
       "<tr><td>train_fn_f8e72998</td><td>TERMINATED</td><td>172.19.2.2:1556</td><td style=\"text-align: right;\">          32</td><td style=\"text-align: right;\">          0.25</td><td style=\"text-align: right;\">      12</td><td style=\"text-align: right;\">5e-05 </td><td style=\"text-align: right;\">        5e-06 </td><td style=\"text-align: right;\">0.0300058</td><td style=\"text-align: right;\">  0.914997</td><td style=\"text-align: right;\">      0.0416037</td><td style=\"text-align: right;\">                  12</td><td style=\"text-align: right;\">  0.00681015</td><td style=\"text-align: right;\">        0.974756</td><td style=\"text-align: right;\">                    12</td></tr>\n",
       "<tr><td>train_fn_2a405bc4</td><td>TERMINATED</td><td>172.19.2.2:1631</td><td style=\"text-align: right;\">          32</td><td style=\"text-align: right;\">          0.27</td><td style=\"text-align: right;\">      12</td><td style=\"text-align: right;\">5e-05 </td><td style=\"text-align: right;\">        5e-06 </td><td style=\"text-align: right;\">0.0299406</td><td style=\"text-align: right;\">  0.916936</td><td style=\"text-align: right;\">      0.0410155</td><td style=\"text-align: right;\">                  11</td><td style=\"text-align: right;\">  0.00779094</td><td style=\"text-align: right;\">        0.973554</td><td style=\"text-align: right;\">                    11</td></tr>\n",
       "<tr><td>train_fn_69e9fd94</td><td>TERMINATED</td><td>172.19.2.2:1766</td><td style=\"text-align: right;\">          32</td><td style=\"text-align: right;\">          0.27</td><td style=\"text-align: right;\">      12</td><td style=\"text-align: right;\">2e-07 </td><td style=\"text-align: right;\">        0.01  </td><td style=\"text-align: right;\">0.183209 </td><td style=\"text-align: right;\">  0.460246</td><td style=\"text-align: right;\">      0.189404 </td><td style=\"text-align: right;\">                   3</td><td style=\"text-align: right;\">  0.195599  </td><td style=\"text-align: right;\">        0.387859</td><td style=\"text-align: right;\">                     3</td></tr>\n",
       "<tr><td>train_fn_49e25293</td><td>TERMINATED</td><td>172.19.2.2:1802</td><td style=\"text-align: right;\">          32</td><td style=\"text-align: right;\">          0.27</td><td style=\"text-align: right;\">      20</td><td style=\"text-align: right;\">1e-05 </td><td style=\"text-align: right;\">        0.01  </td><td style=\"text-align: right;\">0.0333446</td><td style=\"text-align: right;\">  0.910795</td><td style=\"text-align: right;\">      0.043279 </td><td style=\"text-align: right;\">                  12</td><td style=\"text-align: right;\">  0.0134758 </td><td style=\"text-align: right;\">        0.962672</td><td style=\"text-align: right;\">                    12</td></tr>\n",
       "<tr><td>train_fn_f90ab6f6</td><td>TERMINATED</td><td>172.19.2.2:1898</td><td style=\"text-align: right;\">          32</td><td style=\"text-align: right;\">          0.27</td><td style=\"text-align: right;\">      20</td><td style=\"text-align: right;\">0.0002</td><td style=\"text-align: right;\">        5e-05 </td><td style=\"text-align: right;\">0.0503676</td><td style=\"text-align: right;\">  0.896251</td><td style=\"text-align: right;\">      0.0524108</td><td style=\"text-align: right;\">                   5</td><td style=\"text-align: right;\">  0.0544539 </td><td style=\"text-align: right;\">        0.888618</td><td style=\"text-align: right;\">                     5</td></tr>\n",
       "<tr><td>train_fn_81042903</td><td>TERMINATED</td><td>172.19.2.2:1997</td><td style=\"text-align: right;\">          32</td><td style=\"text-align: right;\">          0.27</td><td style=\"text-align: right;\">      20</td><td style=\"text-align: right;\">1e-05 </td><td style=\"text-align: right;\">        5e-05 </td><td style=\"text-align: right;\">0.033786 </td><td style=\"text-align: right;\">  0.912411</td><td style=\"text-align: right;\">      0.0437104</td><td style=\"text-align: right;\">                  12</td><td style=\"text-align: right;\">  0.0139371 </td><td style=\"text-align: right;\">        0.961249</td><td style=\"text-align: right;\">                    12</td></tr>\n",
       "<tr><td>train_fn_9c3780ff</td><td>TERMINATED</td><td>172.19.2.2:2090</td><td style=\"text-align: right;\">          32</td><td style=\"text-align: right;\">          0.27</td><td style=\"text-align: right;\">      15</td><td style=\"text-align: right;\">1e-05 </td><td style=\"text-align: right;\">        5e-06 </td><td style=\"text-align: right;\">0.0400354</td><td style=\"text-align: right;\">  0.904977</td><td style=\"text-align: right;\">      0.0473455</td><td style=\"text-align: right;\">                   6</td><td style=\"text-align: right;\">  0.0254151 </td><td style=\"text-align: right;\">        0.935151</td><td style=\"text-align: right;\">                     6</td></tr>\n",
       "<tr><td>train_fn_90248808</td><td>TERMINATED</td><td>172.19.2.2:2196</td><td style=\"text-align: right;\">          32</td><td style=\"text-align: right;\">          0.2 </td><td style=\"text-align: right;\">      15</td><td style=\"text-align: right;\">2e-06 </td><td style=\"text-align: right;\">        5e-06 </td><td style=\"text-align: right;\">0.0487009</td><td style=\"text-align: right;\">  0.896251</td><td style=\"text-align: right;\">      0.0522138</td><td style=\"text-align: right;\">                   6</td><td style=\"text-align: right;\">  0.0557266 </td><td style=\"text-align: right;\">        0.888618</td><td style=\"text-align: right;\">                     6</td></tr>\n",
       "<tr><td>train_fn_fb6accfc</td><td>TERMINATED</td><td>172.19.2.2:2278</td><td style=\"text-align: right;\">          32</td><td style=\"text-align: right;\">          0.3 </td><td style=\"text-align: right;\">       5</td><td style=\"text-align: right;\">2e-06 </td><td style=\"text-align: right;\">        5e-06 </td><td style=\"text-align: right;\">0.0504637</td><td style=\"text-align: right;\">  0.896251</td><td style=\"text-align: right;\">      0.0542055</td><td style=\"text-align: right;\">                   5</td><td style=\"text-align: right;\">  0.0579473 </td><td style=\"text-align: right;\">        0.888618</td><td style=\"text-align: right;\">                     5</td></tr>\n",
       "<tr><td>train_fn_9c022d45</td><td>TERMINATED</td><td>172.19.2.2:2372</td><td style=\"text-align: right;\">          32</td><td style=\"text-align: right;\">          0.3 </td><td style=\"text-align: right;\">      12</td><td style=\"text-align: right;\">2e-06 </td><td style=\"text-align: right;\">        0.0001</td><td style=\"text-align: right;\">0.0503695</td><td style=\"text-align: right;\">  0.896251</td><td style=\"text-align: right;\">      0.0542905</td><td style=\"text-align: right;\">                   6</td><td style=\"text-align: right;\">  0.0582115 </td><td style=\"text-align: right;\">        0.888587</td><td style=\"text-align: right;\">                     6</td></tr>\n",
       "<tr><td>train_fn_46b518e6</td><td>TERMINATED</td><td>172.19.2.2:2448</td><td style=\"text-align: right;\">          32</td><td style=\"text-align: right;\">          0.3 </td><td style=\"text-align: right;\">      12</td><td style=\"text-align: right;\">2e-05 </td><td style=\"text-align: right;\">        0.0001</td><td style=\"text-align: right;\">0.037888 </td><td style=\"text-align: right;\">  0.905624</td><td style=\"text-align: right;\">      0.0506012</td><td style=\"text-align: right;\">                  10</td><td style=\"text-align: right;\">  0.0124617 </td><td style=\"text-align: right;\">        0.964887</td><td style=\"text-align: right;\">                    10</td></tr>\n",
       "<tr><td>train_fn_698a65bc</td><td>TERMINATED</td><td>172.19.2.2:2548</td><td style=\"text-align: right;\">          32</td><td style=\"text-align: right;\">          0.4 </td><td style=\"text-align: right;\">      12</td><td style=\"text-align: right;\">2e-05 </td><td style=\"text-align: right;\">        2e-06 </td><td style=\"text-align: right;\">0.0303713</td><td style=\"text-align: right;\">  0.917582</td><td style=\"text-align: right;\">      0.0402177</td><td style=\"text-align: right;\">                  12</td><td style=\"text-align: right;\">  0.0106785 </td><td style=\"text-align: right;\">        0.970043</td><td style=\"text-align: right;\">                    12</td></tr>\n",
       "<tr><td>train_fn_fe5b5527</td><td>TERMINATED</td><td>172.19.2.2:2648</td><td style=\"text-align: right;\">          32</td><td style=\"text-align: right;\">          0.4 </td><td style=\"text-align: right;\">      12</td><td style=\"text-align: right;\">5e-05 </td><td style=\"text-align: right;\">        2e-06 </td><td style=\"text-align: right;\">0.0313541</td><td style=\"text-align: right;\">  0.91532 </td><td style=\"text-align: right;\">      0.0430757</td><td style=\"text-align: right;\">                  12</td><td style=\"text-align: right;\">  0.00791094</td><td style=\"text-align: right;\">        0.974219</td><td style=\"text-align: right;\">                    12</td></tr>\n",
       "<tr><td>train_fn_29835677</td><td>TERMINATED</td><td>172.19.2.2:2758</td><td style=\"text-align: right;\">          32</td><td style=\"text-align: right;\">          0.4 </td><td style=\"text-align: right;\">      12</td><td style=\"text-align: right;\">5e-05 </td><td style=\"text-align: right;\">        2e-05 </td><td style=\"text-align: right;\">0.0334814</td><td style=\"text-align: right;\">  0.911765</td><td style=\"text-align: right;\">      0.0439654</td><td style=\"text-align: right;\">                  12</td><td style=\"text-align: right;\">  0.0125135 </td><td style=\"text-align: right;\">        0.963843</td><td style=\"text-align: right;\">                    12</td></tr>\n",
       "<tr><td>train_fn_e33e54ea</td><td>TERMINATED</td><td>172.19.2.2:2857</td><td style=\"text-align: right;\">          32</td><td style=\"text-align: right;\">          0.27</td><td style=\"text-align: right;\">      12</td><td style=\"text-align: right;\">2e-05 </td><td style=\"text-align: right;\">        2e-06 </td><td style=\"text-align: right;\">0.0319665</td><td style=\"text-align: right;\">  0.916613</td><td style=\"text-align: right;\">      0.0411225</td><td style=\"text-align: right;\">                   9</td><td style=\"text-align: right;\">  0.0136544 </td><td style=\"text-align: right;\">        0.960743</td><td style=\"text-align: right;\">                     9</td></tr>\n",
       "<tr><td>train_fn_f54a9490</td><td>TERMINATED</td><td>172.19.2.2:2968</td><td style=\"text-align: right;\">          32</td><td style=\"text-align: right;\">          0.27</td><td style=\"text-align: right;\">       5</td><td style=\"text-align: right;\">2e-05 </td><td style=\"text-align: right;\">        2e-06 </td><td style=\"text-align: right;\">0.0410251</td><td style=\"text-align: right;\">  0.902069</td><td style=\"text-align: right;\">      0.0503268</td><td style=\"text-align: right;\">                   5</td><td style=\"text-align: right;\">  0.0224218 </td><td style=\"text-align: right;\">        0.941858</td><td style=\"text-align: right;\">                     5</td></tr>\n",
       "<tr><td>train_fn_503ad4c5</td><td>TERMINATED</td><td>172.19.2.2:3052</td><td style=\"text-align: right;\">          32</td><td style=\"text-align: right;\">          0.27</td><td style=\"text-align: right;\">       5</td><td style=\"text-align: right;\">3e-05 </td><td style=\"text-align: right;\">        2e-06 </td><td style=\"text-align: right;\">0.0322252</td><td style=\"text-align: right;\">  0.919845</td><td style=\"text-align: right;\">      0.0376601</td><td style=\"text-align: right;\">                   5</td><td style=\"text-align: right;\">  0.0213554 </td><td style=\"text-align: right;\">        0.94404 </td><td style=\"text-align: right;\">                     5</td></tr>\n",
       "<tr><td>train_fn_fed786e8</td><td>TERMINATED</td><td>172.19.2.2:3140</td><td style=\"text-align: right;\">          64</td><td style=\"text-align: right;\">          0.2 </td><td style=\"text-align: right;\">       5</td><td style=\"text-align: right;\">3e-05 </td><td style=\"text-align: right;\">        1e-06 </td><td style=\"text-align: right;\">0.033461 </td><td style=\"text-align: right;\">  0.915643</td><td style=\"text-align: right;\">      0.0365665</td><td style=\"text-align: right;\">                   5</td><td style=\"text-align: right;\">  0.0272499 </td><td style=\"text-align: right;\">        0.931672</td><td style=\"text-align: right;\">                     5</td></tr>\n",
       "<tr><td>train_fn_ae2bc71f</td><td>TERMINATED</td><td>172.19.2.2:3222</td><td style=\"text-align: right;\">          64</td><td style=\"text-align: right;\">          0.35</td><td style=\"text-align: right;\">       5</td><td style=\"text-align: right;\">3e-05 </td><td style=\"text-align: right;\">        1e-06 </td><td style=\"text-align: right;\">0.0373205</td><td style=\"text-align: right;\">  0.911441</td><td style=\"text-align: right;\">      0.0417144</td><td style=\"text-align: right;\">                   5</td><td style=\"text-align: right;\">  0.0285326 </td><td style=\"text-align: right;\">        0.929236</td><td style=\"text-align: right;\">                     5</td></tr>\n",
       "<tr><td>train_fn_6681de2f</td><td>TERMINATED</td><td>172.19.2.2:3307</td><td style=\"text-align: right;\">          32</td><td style=\"text-align: right;\">          0.27</td><td style=\"text-align: right;\">       5</td><td style=\"text-align: right;\">3e-05 </td><td style=\"text-align: right;\">        2e-06 </td><td style=\"text-align: right;\">0.032462 </td><td style=\"text-align: right;\">  0.917906</td><td style=\"text-align: right;\">      0.0385028</td><td style=\"text-align: right;\">                   5</td><td style=\"text-align: right;\">  0.0203802 </td><td style=\"text-align: right;\">        0.945274</td><td style=\"text-align: right;\">                     5</td></tr>\n",
       "<tr><td>train_fn_da2e9004</td><td>TERMINATED</td><td>172.19.2.2:3390</td><td style=\"text-align: right;\">          32</td><td style=\"text-align: right;\">          0.27</td><td style=\"text-align: right;\">       5</td><td style=\"text-align: right;\">3e-05 </td><td style=\"text-align: right;\">        2e-06 </td><td style=\"text-align: right;\">0.0342558</td><td style=\"text-align: right;\">  0.916613</td><td style=\"text-align: right;\">      0.0417494</td><td style=\"text-align: right;\">                   5</td><td style=\"text-align: right;\">  0.0192687 </td><td style=\"text-align: right;\">        0.948248</td><td style=\"text-align: right;\">                     5</td></tr>\n",
       "<tr><td>train_fn_552a4070</td><td>TERMINATED</td><td>172.19.2.2:3478</td><td style=\"text-align: right;\">          32</td><td style=\"text-align: right;\">          0.27</td><td style=\"text-align: right;\">       5</td><td style=\"text-align: right;\">3e-05 </td><td style=\"text-align: right;\">        1e-05 </td><td style=\"text-align: right;\">0.0369745</td><td style=\"text-align: right;\">  0.902715</td><td style=\"text-align: right;\">      0.0446231</td><td style=\"text-align: right;\">                   5</td><td style=\"text-align: right;\">  0.0216771 </td><td style=\"text-align: right;\">        0.941193</td><td style=\"text-align: right;\">                     5</td></tr>\n",
       "<tr><td>train_fn_b20e2045</td><td>TERMINATED</td><td>172.19.2.2:3561</td><td style=\"text-align: right;\">          32</td><td style=\"text-align: right;\">          0.27</td><td style=\"text-align: right;\">       5</td><td style=\"text-align: right;\">3e-05 </td><td style=\"text-align: right;\">        2e-06 </td><td style=\"text-align: right;\">0.0366559</td><td style=\"text-align: right;\">  0.913058</td><td style=\"text-align: right;\">      0.0447022</td><td style=\"text-align: right;\">                   5</td><td style=\"text-align: right;\">  0.0205632 </td><td style=\"text-align: right;\">        0.946634</td><td style=\"text-align: right;\">                     5</td></tr>\n",
       "<tr><td>train_fn_92270e1f</td><td>TERMINATED</td><td>172.19.2.2:3649</td><td style=\"text-align: right;\">          32</td><td style=\"text-align: right;\">          0.27</td><td style=\"text-align: right;\">       5</td><td style=\"text-align: right;\">3e-05 </td><td style=\"text-align: right;\">        1e-05 </td><td style=\"text-align: right;\">0.0332854</td><td style=\"text-align: right;\">  0.911765</td><td style=\"text-align: right;\">      0.0390837</td><td style=\"text-align: right;\">                   5</td><td style=\"text-align: right;\">  0.0216887 </td><td style=\"text-align: right;\">        0.942901</td><td style=\"text-align: right;\">                     5</td></tr>\n",
       "<tr><td>train_fn_95f7641c</td><td>TERMINATED</td><td>172.19.2.2:3731</td><td style=\"text-align: right;\">          32</td><td style=\"text-align: right;\">          0.4 </td><td style=\"text-align: right;\">       5</td><td style=\"text-align: right;\">0.0001</td><td style=\"text-align: right;\">        2e-06 </td><td style=\"text-align: right;\">0.0353802</td><td style=\"text-align: right;\">  0.907563</td><td style=\"text-align: right;\">      0.0417099</td><td style=\"text-align: right;\">                   5</td><td style=\"text-align: right;\">  0.0227207 </td><td style=\"text-align: right;\">        0.941351</td><td style=\"text-align: right;\">                     5</td></tr>\n",
       "<tr><td>train_fn_3c6e9283</td><td>TERMINATED</td><td>172.19.2.2:3820</td><td style=\"text-align: right;\">          32</td><td style=\"text-align: right;\">          0.4 </td><td style=\"text-align: right;\">       5</td><td style=\"text-align: right;\">0.0001</td><td style=\"text-align: right;\">        2e-06 </td><td style=\"text-align: right;\">0.0502097</td><td style=\"text-align: right;\">  0.896251</td><td style=\"text-align: right;\">      0.0526491</td><td style=\"text-align: right;\">                   3</td><td style=\"text-align: right;\">  0.0550886 </td><td style=\"text-align: right;\">        0.888618</td><td style=\"text-align: right;\">                     3</td></tr>\n",
       "<tr><td>train_fn_389be36f</td><td>TERMINATED</td><td>172.19.2.2:3902</td><td style=\"text-align: right;\">          32</td><td style=\"text-align: right;\">          0.4 </td><td style=\"text-align: right;\">      10</td><td style=\"text-align: right;\">0.0001</td><td style=\"text-align: right;\">        2e-06 </td><td style=\"text-align: right;\">0.0504594</td><td style=\"text-align: right;\">  0.896251</td><td style=\"text-align: right;\">      0.0527196</td><td style=\"text-align: right;\">                   3</td><td style=\"text-align: right;\">  0.0549799 </td><td style=\"text-align: right;\">        0.888618</td><td style=\"text-align: right;\">                     3</td></tr>\n",
       "<tr><td>train_fn_6cc479ef</td><td>TERMINATED</td><td>172.19.2.2:3978</td><td style=\"text-align: right;\">          64</td><td style=\"text-align: right;\">          0.2 </td><td style=\"text-align: right;\">      10</td><td style=\"text-align: right;\">3e-06 </td><td style=\"text-align: right;\">        2e-05 </td><td style=\"text-align: right;\">0.0582743</td><td style=\"text-align: right;\">  0.896251</td><td style=\"text-align: right;\">      0.0678617</td><td style=\"text-align: right;\">                   3</td><td style=\"text-align: right;\">  0.0774491 </td><td style=\"text-align: right;\">        0.888587</td><td style=\"text-align: right;\">                     3</td></tr>\n",
       "<tr><td>train_fn_53fb32b2</td><td>TERMINATED</td><td>172.19.2.2:4062</td><td style=\"text-align: right;\">          64</td><td style=\"text-align: right;\">          0.2 </td><td style=\"text-align: right;\">      10</td><td style=\"text-align: right;\">3e-06 </td><td style=\"text-align: right;\">        2e-05 </td><td style=\"text-align: right;\">0.060927 </td><td style=\"text-align: right;\">  0.896251</td><td style=\"text-align: right;\">      0.0721981</td><td style=\"text-align: right;\">                   3</td><td style=\"text-align: right;\">  0.0834691 </td><td style=\"text-align: right;\">        0.887479</td><td style=\"text-align: right;\">                     3</td></tr>\n",
       "<tr><td>train_fn_5f388356</td><td>TERMINATED</td><td>172.19.2.2:4136</td><td style=\"text-align: right;\">          32</td><td style=\"text-align: right;\">          0.27</td><td style=\"text-align: right;\">       7</td><td style=\"text-align: right;\">3e-06 </td><td style=\"text-align: right;\">        2e-05 </td><td style=\"text-align: right;\">0.0505731</td><td style=\"text-align: right;\">  0.896251</td><td style=\"text-align: right;\">      0.0563868</td><td style=\"text-align: right;\">                   3</td><td style=\"text-align: right;\">  0.0622004 </td><td style=\"text-align: right;\">        0.88865 </td><td style=\"text-align: right;\">                     3</td></tr>\n",
       "<tr><td>train_fn_6d6c1b59</td><td>TERMINATED</td><td>172.19.2.2:4220</td><td style=\"text-align: right;\">          32</td><td style=\"text-align: right;\">          0.27</td><td style=\"text-align: right;\">       7</td><td style=\"text-align: right;\">1e-06 </td><td style=\"text-align: right;\">        0.001 </td><td style=\"text-align: right;\">0.0797273</td><td style=\"text-align: right;\">  0.896251</td><td style=\"text-align: right;\">      0.0949112</td><td style=\"text-align: right;\">                   3</td><td style=\"text-align: right;\">  0.110095  </td><td style=\"text-align: right;\">        0.874415</td><td style=\"text-align: right;\">                     3</td></tr>\n",
       "<tr><td>train_fn_c65f797e</td><td>TERMINATED</td><td>172.19.2.2:4296</td><td style=\"text-align: right;\">          32</td><td style=\"text-align: right;\">          0.27</td><td style=\"text-align: right;\">       7</td><td style=\"text-align: right;\">1e-06 </td><td style=\"text-align: right;\">        0.001 </td><td style=\"text-align: right;\">0.0742184</td><td style=\"text-align: right;\">  0.896251</td><td style=\"text-align: right;\">      0.0857546</td><td style=\"text-align: right;\">                   3</td><td style=\"text-align: right;\">  0.0972908 </td><td style=\"text-align: right;\">        0.888587</td><td style=\"text-align: right;\">                     3</td></tr>\n",
       "<tr><td>train_fn_82a633fc</td><td>TERMINATED</td><td>172.19.2.2:4379</td><td style=\"text-align: right;\">          32</td><td style=\"text-align: right;\">          0.27</td><td style=\"text-align: right;\">       5</td><td style=\"text-align: right;\">5e-07 </td><td style=\"text-align: right;\">        0.001 </td><td style=\"text-align: right;\">0.116065 </td><td style=\"text-align: right;\">  0.896251</td><td style=\"text-align: right;\">      0.129645 </td><td style=\"text-align: right;\">                   3</td><td style=\"text-align: right;\">  0.143225  </td><td style=\"text-align: right;\">        0.824244</td><td style=\"text-align: right;\">                     3</td></tr>\n",
       "<tr><td>train_fn_826f9e17</td><td>TERMINATED</td><td>172.19.2.2:4455</td><td style=\"text-align: right;\">          32</td><td style=\"text-align: right;\">          0.35</td><td style=\"text-align: right;\">       5</td><td style=\"text-align: right;\">0.001 </td><td style=\"text-align: right;\">        5e-06 </td><td style=\"text-align: right;\">0.0506621</td><td style=\"text-align: right;\">  0.896251</td><td style=\"text-align: right;\">      0.0527283</td><td style=\"text-align: right;\">                   3</td><td style=\"text-align: right;\">  0.0547944 </td><td style=\"text-align: right;\">        0.888618</td><td style=\"text-align: right;\">                     3</td></tr>\n",
       "<tr><td>train_fn_7e91e652</td><td>TERMINATED</td><td>172.19.2.2:4539</td><td style=\"text-align: right;\">          32</td><td style=\"text-align: right;\">          0.35</td><td style=\"text-align: right;\">      12</td><td style=\"text-align: right;\">0.001 </td><td style=\"text-align: right;\">        5e-06 </td><td style=\"text-align: right;\">0.0511426</td><td style=\"text-align: right;\">  0.896251</td><td style=\"text-align: right;\">      0.052896 </td><td style=\"text-align: right;\">                   3</td><td style=\"text-align: right;\">  0.0546493 </td><td style=\"text-align: right;\">        0.888618</td><td style=\"text-align: right;\">                     3</td></tr>\n",
       "<tr><td>train_fn_9c379fb2</td><td>TERMINATED</td><td>172.19.2.2:4615</td><td style=\"text-align: right;\">          32</td><td style=\"text-align: right;\">          0.35</td><td style=\"text-align: right;\">      12</td><td style=\"text-align: right;\">0.001 </td><td style=\"text-align: right;\">        5e-06 </td><td style=\"text-align: right;\">0.0505771</td><td style=\"text-align: right;\">  0.896251</td><td style=\"text-align: right;\">      0.0526241</td><td style=\"text-align: right;\">                   3</td><td style=\"text-align: right;\">  0.0546712 </td><td style=\"text-align: right;\">        0.888618</td><td style=\"text-align: right;\">                     3</td></tr>\n",
       "<tr><td>train_fn_d1c65aca</td><td>TERMINATED</td><td>172.19.2.2:4698</td><td style=\"text-align: right;\">          32</td><td style=\"text-align: right;\">          0.25</td><td style=\"text-align: right;\">      12</td><td style=\"text-align: right;\">1e-07 </td><td style=\"text-align: right;\">        0.0002</td><td style=\"text-align: right;\">0.179929 </td><td style=\"text-align: right;\">  0.782482</td><td style=\"text-align: right;\">      0.182062 </td><td style=\"text-align: right;\">                   3</td><td style=\"text-align: right;\">  0.184195  </td><td style=\"text-align: right;\">        0.670537</td><td style=\"text-align: right;\">                     3</td></tr>\n",
       "<tr><td>train_fn_02af8ae3</td><td>TERMINATED</td><td>172.19.2.2:4774</td><td style=\"text-align: right;\">          32</td><td style=\"text-align: right;\">          0.25</td><td style=\"text-align: right;\">      15</td><td style=\"text-align: right;\">1e-07 </td><td style=\"text-align: right;\">        0.0002</td><td style=\"text-align: right;\">0.184704 </td><td style=\"text-align: right;\">  0.473174</td><td style=\"text-align: right;\">      0.188709 </td><td style=\"text-align: right;\">                   3</td><td style=\"text-align: right;\">  0.192714  </td><td style=\"text-align: right;\">        0.438979</td><td style=\"text-align: right;\">                     3</td></tr>\n",
       "<tr><td>train_fn_47fe5fd4</td><td>TERMINATED</td><td>172.19.2.2:4858</td><td style=\"text-align: right;\">          64</td><td style=\"text-align: right;\">          0.25</td><td style=\"text-align: right;\">      12</td><td style=\"text-align: right;\">1e-07 </td><td style=\"text-align: right;\">        0.01  </td><td style=\"text-align: right;\">0.192361 </td><td style=\"text-align: right;\">  0.348739</td><td style=\"text-align: right;\">      0.195502 </td><td style=\"text-align: right;\">                   3</td><td style=\"text-align: right;\">  0.198644  </td><td style=\"text-align: right;\">        0.33636 </td><td style=\"text-align: right;\">                     3</td></tr>\n",
       "<tr><td>train_fn_c2590652</td><td>TERMINATED</td><td>172.19.2.2:4935</td><td style=\"text-align: right;\">          32</td><td style=\"text-align: right;\">          0.27</td><td style=\"text-align: right;\">      12</td><td style=\"text-align: right;\">2e-05 </td><td style=\"text-align: right;\">        2e-06 </td><td style=\"text-align: right;\">0.0306743</td><td style=\"text-align: right;\">  0.916936</td><td style=\"text-align: right;\">      0.0414976</td><td style=\"text-align: right;\">                  12</td><td style=\"text-align: right;\">  0.0090277 </td><td style=\"text-align: right;\">        0.96979 </td><td style=\"text-align: right;\">                    12</td></tr>\n",
       "<tr><td>train_fn_e41060ac</td><td>TERMINATED</td><td>172.19.2.2:5016</td><td style=\"text-align: right;\">          32</td><td style=\"text-align: right;\">          0.27</td><td style=\"text-align: right;\">      12</td><td style=\"text-align: right;\">2e-05 </td><td style=\"text-align: right;\">        2e-06 </td><td style=\"text-align: right;\">0.0332299</td><td style=\"text-align: right;\">  0.912734</td><td style=\"text-align: right;\">      0.0402099</td><td style=\"text-align: right;\">                   6</td><td style=\"text-align: right;\">  0.0192698 </td><td style=\"text-align: right;\">        0.948754</td><td style=\"text-align: right;\">                     6</td></tr>\n",
       "<tr><td>train_fn_458f3eff</td><td>TERMINATED</td><td>172.19.2.2:5121</td><td style=\"text-align: right;\">          32</td><td style=\"text-align: right;\">          0.27</td><td style=\"text-align: right;\">      12</td><td style=\"text-align: right;\">2e-05 </td><td style=\"text-align: right;\">        2e-06 </td><td style=\"text-align: right;\">0.0344052</td><td style=\"text-align: right;\">  0.914997</td><td style=\"text-align: right;\">      0.0429152</td><td style=\"text-align: right;\">                   7</td><td style=\"text-align: right;\">  0.0173852 </td><td style=\"text-align: right;\">        0.95527 </td><td style=\"text-align: right;\">                     7</td></tr>\n",
       "<tr><td>train_fn_a3aa277b</td><td>TERMINATED</td><td>172.19.2.2:5215</td><td style=\"text-align: right;\">          32</td><td style=\"text-align: right;\">          0.27</td><td style=\"text-align: right;\">      12</td><td style=\"text-align: right;\">2e-05 </td><td style=\"text-align: right;\">        2e-06 </td><td style=\"text-align: right;\">0.0319244</td><td style=\"text-align: right;\">  0.91435 </td><td style=\"text-align: right;\">      0.042559 </td><td style=\"text-align: right;\">                  12</td><td style=\"text-align: right;\">  0.0106552 </td><td style=\"text-align: right;\">        0.968335</td><td style=\"text-align: right;\">                    12</td></tr>\n",
       "<tr><td>train_fn_20ede2c3</td><td>TERMINATED</td><td>172.19.2.2:5303</td><td style=\"text-align: right;\">          32</td><td style=\"text-align: right;\">          0.27</td><td style=\"text-align: right;\">      20</td><td style=\"text-align: right;\">5e-06 </td><td style=\"text-align: right;\">        2e-06 </td><td style=\"text-align: right;\">0.0492642</td><td style=\"text-align: right;\">  0.896251</td><td style=\"text-align: right;\">      0.0526206</td><td style=\"text-align: right;\">                   3</td><td style=\"text-align: right;\">  0.055977  </td><td style=\"text-align: right;\">        0.888618</td><td style=\"text-align: right;\">                     3</td></tr>\n",
       "<tr><td>train_fn_06ee8403</td><td>TERMINATED</td><td>172.19.2.2:5391</td><td style=\"text-align: right;\">          32</td><td style=\"text-align: right;\">          0.27</td><td style=\"text-align: right;\">      20</td><td style=\"text-align: right;\">0.0002</td><td style=\"text-align: right;\">        5e-05 </td><td style=\"text-align: right;\">0.0504541</td><td style=\"text-align: right;\">  0.896251</td><td style=\"text-align: right;\">      0.0525395</td><td style=\"text-align: right;\">                   3</td><td style=\"text-align: right;\">  0.0546249 </td><td style=\"text-align: right;\">        0.888618</td><td style=\"text-align: right;\">                     3</td></tr>\n",
       "<tr><td>train_fn_8740179d</td><td>TERMINATED</td><td>172.19.2.2:5479</td><td style=\"text-align: right;\">          32</td><td style=\"text-align: right;\">          0.27</td><td style=\"text-align: right;\">       5</td><td style=\"text-align: right;\">2e-07 </td><td style=\"text-align: right;\">        5e-05 </td><td style=\"text-align: right;\">0.165938 </td><td style=\"text-align: right;\">  0.617647</td><td style=\"text-align: right;\">      0.17098  </td><td style=\"text-align: right;\">                   3</td><td style=\"text-align: right;\">  0.176023  </td><td style=\"text-align: right;\">        0.619638</td><td style=\"text-align: right;\">                     3</td></tr>\n",
       "<tr><td>train_fn_96617005</td><td>TERMINATED</td><td>172.19.2.2:5567</td><td style=\"text-align: right;\">          32</td><td style=\"text-align: right;\">          0.27</td><td style=\"text-align: right;\">      15</td><td style=\"text-align: right;\">2e-07 </td><td style=\"text-align: right;\">        5e-06 </td><td style=\"text-align: right;\">0.173896 </td><td style=\"text-align: right;\">  0.683581</td><td style=\"text-align: right;\">      0.178364 </td><td style=\"text-align: right;\">                   3</td><td style=\"text-align: right;\">  0.182833  </td><td style=\"text-align: right;\">        0.602208</td><td style=\"text-align: right;\">                     3</td></tr>\n",
       "<tr><td>train_fn_e1f9289e</td><td>TERMINATED</td><td>172.19.2.2:5637</td><td style=\"text-align: right;\">          32</td><td style=\"text-align: right;\">          0.4 </td><td style=\"text-align: right;\">      15</td><td style=\"text-align: right;\">2e-07 </td><td style=\"text-align: right;\">        5e-06 </td><td style=\"text-align: right;\">0.180237 </td><td style=\"text-align: right;\">  0.669037</td><td style=\"text-align: right;\">      0.18407  </td><td style=\"text-align: right;\">                   3</td><td style=\"text-align: right;\">  0.187902  </td><td style=\"text-align: right;\">        0.54027 </td><td style=\"text-align: right;\">                     3</td></tr>\n",
       "<tr><td>train_fn_9bf381ec</td><td>TERMINATED</td><td>172.19.2.2:5727</td><td style=\"text-align: right;\">          32</td><td style=\"text-align: right;\">          0.4 </td><td style=\"text-align: right;\">      15</td><td style=\"text-align: right;\">5e-05 </td><td style=\"text-align: right;\">        5e-06 </td><td style=\"text-align: right;\">0.0375738</td><td style=\"text-align: right;\">  0.908209</td><td style=\"text-align: right;\">      0.0448638</td><td style=\"text-align: right;\">                   6</td><td style=\"text-align: right;\">  0.0229937 </td><td style=\"text-align: right;\">        0.939517</td><td style=\"text-align: right;\">                     6</td></tr>\n",
       "<tr><td>train_fn_752b526f</td><td>TERMINATED</td><td>172.19.2.2:5797</td><td style=\"text-align: right;\">          32</td><td style=\"text-align: right;\">          0.27</td><td style=\"text-align: right;\">      12</td><td style=\"text-align: right;\">2e-05 </td><td style=\"text-align: right;\">        2e-06 </td><td style=\"text-align: right;\">0.0335976</td><td style=\"text-align: right;\">  0.906917</td><td style=\"text-align: right;\">      0.0403624</td><td style=\"text-align: right;\">                   6</td><td style=\"text-align: right;\">  0.020068  </td><td style=\"text-align: right;\">        0.946444</td><td style=\"text-align: right;\">                     6</td></tr>\n",
       "<tr><td>train_fn_8f4423f1</td><td>TERMINATED</td><td>172.19.2.2:5903</td><td style=\"text-align: right;\">          32</td><td style=\"text-align: right;\">          0.27</td><td style=\"text-align: right;\">      12</td><td style=\"text-align: right;\">2e-05 </td><td style=\"text-align: right;\">        2e-06 </td><td style=\"text-align: right;\">0.0303013</td><td style=\"text-align: right;\">  0.914674</td><td style=\"text-align: right;\">      0.0413572</td><td style=\"text-align: right;\">                  12</td><td style=\"text-align: right;\">  0.00818952</td><td style=\"text-align: right;\">        0.971878</td><td style=\"text-align: right;\">                    12</td></tr>\n",
       "<tr><td>train_fn_798b884e</td><td>TERMINATED</td><td>172.19.2.2:5973</td><td style=\"text-align: right;\">          32</td><td style=\"text-align: right;\">          0.27</td><td style=\"text-align: right;\">      12</td><td style=\"text-align: right;\">2e-05 </td><td style=\"text-align: right;\">        2e-06 </td><td style=\"text-align: right;\">0.0363925</td><td style=\"text-align: right;\">  0.909825</td><td style=\"text-align: right;\">      0.0440184</td><td style=\"text-align: right;\">                   6</td><td style=\"text-align: right;\">  0.0211408 </td><td style=\"text-align: right;\">        0.944167</td><td style=\"text-align: right;\">                     6</td></tr>\n",
       "<tr><td>train_fn_89a266a4</td><td>TERMINATED</td><td>172.19.2.2:6081</td><td style=\"text-align: right;\">          32</td><td style=\"text-align: right;\">          0.3 </td><td style=\"text-align: right;\">      12</td><td style=\"text-align: right;\">2e-05 </td><td style=\"text-align: right;\">        2e-06 </td><td style=\"text-align: right;\">0.0321174</td><td style=\"text-align: right;\">  0.910149</td><td style=\"text-align: right;\">      0.0432112</td><td style=\"text-align: right;\">                  12</td><td style=\"text-align: right;\">  0.00992985</td><td style=\"text-align: right;\">        0.969031</td><td style=\"text-align: right;\">                    12</td></tr>\n",
       "<tr><td>train_fn_8a2c6b66</td><td>TERMINATED</td><td>172.19.2.2:6185</td><td style=\"text-align: right;\">          32</td><td style=\"text-align: right;\">          0.3 </td><td style=\"text-align: right;\">      12</td><td style=\"text-align: right;\">3e-05 </td><td style=\"text-align: right;\">        2e-06 </td><td style=\"text-align: right;\">0.0298463</td><td style=\"text-align: right;\">  0.915966</td><td style=\"text-align: right;\">      0.0408968</td><td style=\"text-align: right;\">                  12</td><td style=\"text-align: right;\">  0.00774546</td><td style=\"text-align: right;\">        0.973206</td><td style=\"text-align: right;\">                    12</td></tr>\n",
       "<tr><td>train_fn_9f492ec8</td><td>TERMINATED</td><td>172.19.2.2:6291</td><td style=\"text-align: right;\">          32</td><td style=\"text-align: right;\">          0.3 </td><td style=\"text-align: right;\">      12</td><td style=\"text-align: right;\">3e-05 </td><td style=\"text-align: right;\">        0.0001</td><td style=\"text-align: right;\">0.0292649</td><td style=\"text-align: right;\">  0.919522</td><td style=\"text-align: right;\">      0.0395046</td><td style=\"text-align: right;\">                  11</td><td style=\"text-align: right;\">  0.00878543</td><td style=\"text-align: right;\">        0.971498</td><td style=\"text-align: right;\">                    11</td></tr>\n",
       "<tr><td>train_fn_0bceb13d</td><td>TERMINATED</td><td>172.19.2.2:6395</td><td style=\"text-align: right;\">          64</td><td style=\"text-align: right;\">          0.27</td><td style=\"text-align: right;\">       5</td><td style=\"text-align: right;\">3e-05 </td><td style=\"text-align: right;\">        1e-05 </td><td style=\"text-align: right;\">0.0381824</td><td style=\"text-align: right;\">  0.909179</td><td style=\"text-align: right;\">      0.0437851</td><td style=\"text-align: right;\">                   5</td><td style=\"text-align: right;\">  0.026977  </td><td style=\"text-align: right;\">        0.930786</td><td style=\"text-align: right;\">                     5</td></tr>\n",
       "<tr><td>train_fn_145d0de8</td><td>TERMINATED</td><td>172.19.2.2:6491</td><td style=\"text-align: right;\">          64</td><td style=\"text-align: right;\">          0.27</td><td style=\"text-align: right;\">       5</td><td style=\"text-align: right;\">3e-05 </td><td style=\"text-align: right;\">        0.0001</td><td style=\"text-align: right;\">0.0397822</td><td style=\"text-align: right;\">  0.898836</td><td style=\"text-align: right;\">      0.0412599</td><td style=\"text-align: right;\">                   3</td><td style=\"text-align: right;\">  0.0427376 </td><td style=\"text-align: right;\">        0.90241 </td><td style=\"text-align: right;\">                     3</td></tr>\n",
       "<tr><td>train_fn_2e014c67</td><td>TERMINATED</td><td>172.19.2.2:6565</td><td style=\"text-align: right;\">          32</td><td style=\"text-align: right;\">          0.27</td><td style=\"text-align: right;\">       5</td><td style=\"text-align: right;\">5e-05 </td><td style=\"text-align: right;\">        0.0001</td><td style=\"text-align: right;\">0.0329717</td><td style=\"text-align: right;\">  0.916613</td><td style=\"text-align: right;\">      0.0398331</td><td style=\"text-align: right;\">                   5</td><td style=\"text-align: right;\">  0.0192488 </td><td style=\"text-align: right;\">        0.947646</td><td style=\"text-align: right;\">                     5</td></tr>\n",
       "<tr><td>train_fn_6929203f</td><td>TERMINATED</td><td>172.19.2.2:6649</td><td style=\"text-align: right;\">          32</td><td style=\"text-align: right;\">          0.4 </td><td style=\"text-align: right;\">       5</td><td style=\"text-align: right;\">3e-05 </td><td style=\"text-align: right;\">        0.0001</td><td style=\"text-align: right;\">0.0362603</td><td style=\"text-align: right;\">  0.913381</td><td style=\"text-align: right;\">      0.0418776</td><td style=\"text-align: right;\">                   5</td><td style=\"text-align: right;\">  0.0250257 </td><td style=\"text-align: right;\">        0.936069</td><td style=\"text-align: right;\">                     5</td></tr>\n",
       "<tr><td>train_fn_c2817ead</td><td>TERMINATED</td><td>172.19.2.2:6737</td><td style=\"text-align: right;\">          32</td><td style=\"text-align: right;\">          0.3 </td><td style=\"text-align: right;\">      12</td><td style=\"text-align: right;\">3e-05 </td><td style=\"text-align: right;\">        0.0001</td><td style=\"text-align: right;\">0.02941  </td><td style=\"text-align: right;\">  0.920168</td><td style=\"text-align: right;\">      0.0407794</td><td style=\"text-align: right;\">                  12</td><td style=\"text-align: right;\">  0.0066714 </td><td style=\"text-align: right;\">        0.97618 </td><td style=\"text-align: right;\">                    12</td></tr>\n",
       "<tr><td>train_fn_d4b242b7</td><td>TERMINATED</td><td>172.19.2.2:6819</td><td style=\"text-align: right;\">          32</td><td style=\"text-align: right;\">          0.3 </td><td style=\"text-align: right;\">      12</td><td style=\"text-align: right;\">3e-05 </td><td style=\"text-align: right;\">        0.0001</td><td style=\"text-align: right;\">0.0287138</td><td style=\"text-align: right;\">  0.9234  </td><td style=\"text-align: right;\">      0.0393177</td><td style=\"text-align: right;\">                  12</td><td style=\"text-align: right;\">  0.0075058 </td><td style=\"text-align: right;\">        0.973839</td><td style=\"text-align: right;\">                    12</td></tr>\n",
       "<tr><td>train_fn_914959a0</td><td>TERMINATED</td><td>172.19.2.2:6946</td><td style=\"text-align: right;\">          32</td><td style=\"text-align: right;\">          0.3 </td><td style=\"text-align: right;\">      12</td><td style=\"text-align: right;\">3e-05 </td><td style=\"text-align: right;\">        1e-06 </td><td style=\"text-align: right;\">0.0280731</td><td style=\"text-align: right;\">  0.91629 </td><td style=\"text-align: right;\">      0.0387016</td><td style=\"text-align: right;\">                  12</td><td style=\"text-align: right;\">  0.00681608</td><td style=\"text-align: right;\">        0.97637 </td><td style=\"text-align: right;\">                    12</td></tr>\n",
       "<tr><td>train_fn_9a44fe65</td><td>TERMINATED</td><td>172.19.2.2:7029</td><td style=\"text-align: right;\">          32</td><td style=\"text-align: right;\">          0.3 </td><td style=\"text-align: right;\">      12</td><td style=\"text-align: right;\">3e-05 </td><td style=\"text-align: right;\">        0.0001</td><td style=\"text-align: right;\">0.0502192</td><td style=\"text-align: right;\">  0.896251</td><td style=\"text-align: right;\">      0.0524912</td><td style=\"text-align: right;\">                   3</td><td style=\"text-align: right;\">  0.0547631 </td><td style=\"text-align: right;\">        0.888618</td><td style=\"text-align: right;\">                     3</td></tr>\n",
       "<tr><td>train_fn_7e5865c1</td><td>TERMINATED</td><td>172.19.2.2:7118</td><td style=\"text-align: right;\">          32</td><td style=\"text-align: right;\">          0.3 </td><td style=\"text-align: right;\">      12</td><td style=\"text-align: right;\">3e-05 </td><td style=\"text-align: right;\">        0.0001</td><td style=\"text-align: right;\">0.0295725</td><td style=\"text-align: right;\">  0.91435 </td><td style=\"text-align: right;\">      0.0407399</td><td style=\"text-align: right;\">                  12</td><td style=\"text-align: right;\">  0.00723747</td><td style=\"text-align: right;\">        0.972827</td><td style=\"text-align: right;\">                    12</td></tr>\n",
       "<tr><td>train_fn_eba5b8f9</td><td>TERMINATED</td><td>172.19.2.2:7227</td><td style=\"text-align: right;\">          32</td><td style=\"text-align: right;\">          0.3 </td><td style=\"text-align: right;\">      12</td><td style=\"text-align: right;\">3e-05 </td><td style=\"text-align: right;\">        0.0001</td><td style=\"text-align: right;\">0.0297765</td><td style=\"text-align: right;\">  0.914997</td><td style=\"text-align: right;\">      0.0400712</td><td style=\"text-align: right;\">                  10</td><td style=\"text-align: right;\">  0.00918716</td><td style=\"text-align: right;\">        0.970929</td><td style=\"text-align: right;\">                    10</td></tr>\n",
       "<tr><td>train_fn_2b6b2342</td><td>TERMINATED</td><td>172.19.2.2:7328</td><td style=\"text-align: right;\">          32</td><td style=\"text-align: right;\">          0.3 </td><td style=\"text-align: right;\">      12</td><td style=\"text-align: right;\">3e-05 </td><td style=\"text-align: right;\">        0.0001</td><td style=\"text-align: right;\">0.0339783</td><td style=\"text-align: right;\">  0.911765</td><td style=\"text-align: right;\">      0.041056 </td><td style=\"text-align: right;\">                   6</td><td style=\"text-align: right;\">  0.0198229 </td><td style=\"text-align: right;\">        0.947045</td><td style=\"text-align: right;\">                     6</td></tr>\n",
       "<tr><td>train_fn_9f6a9839</td><td>TERMINATED</td><td>172.19.2.2:7427</td><td style=\"text-align: right;\">          32</td><td style=\"text-align: right;\">          0.3 </td><td style=\"text-align: right;\">      10</td><td style=\"text-align: right;\">3e-05 </td><td style=\"text-align: right;\">        0.0001</td><td style=\"text-align: right;\">0.0329649</td><td style=\"text-align: right;\">  0.913381</td><td style=\"text-align: right;\">      0.0406532</td><td style=\"text-align: right;\">                   6</td><td style=\"text-align: right;\">  0.0175884 </td><td style=\"text-align: right;\">        0.954732</td><td style=\"text-align: right;\">                     6</td></tr>\n",
       "<tr><td>train_fn_29d71365</td><td>TERMINATED</td><td>172.19.2.2:7505</td><td style=\"text-align: right;\">          32</td><td style=\"text-align: right;\">          0.3 </td><td style=\"text-align: right;\">      10</td><td style=\"text-align: right;\">5e-07 </td><td style=\"text-align: right;\">        0.0001</td><td style=\"text-align: right;\">0.111515 </td><td style=\"text-align: right;\">  0.896251</td><td style=\"text-align: right;\">      0.127684 </td><td style=\"text-align: right;\">                   3</td><td style=\"text-align: right;\">  0.143853  </td><td style=\"text-align: right;\">        0.858566</td><td style=\"text-align: right;\">                     3</td></tr>\n",
       "<tr><td>train_fn_a8a0f427</td><td>TERMINATED</td><td>172.19.2.2:7594</td><td style=\"text-align: right;\">          32</td><td style=\"text-align: right;\">          0.3 </td><td style=\"text-align: right;\">      10</td><td style=\"text-align: right;\">1e-05 </td><td style=\"text-align: right;\">        0.0001</td><td style=\"text-align: right;\">0.0358254</td><td style=\"text-align: right;\">  0.906917</td><td style=\"text-align: right;\">      0.0404488</td><td style=\"text-align: right;\">                   6</td><td style=\"text-align: right;\">  0.0265785 </td><td style=\"text-align: right;\">        0.933664</td><td style=\"text-align: right;\">                     6</td></tr>\n",
       "<tr><td>train_fn_01a33d3f</td><td>TERMINATED</td><td>172.19.2.2:7674</td><td style=\"text-align: right;\">          32</td><td style=\"text-align: right;\">          0.3 </td><td style=\"text-align: right;\">      12</td><td style=\"text-align: right;\">1e-05 </td><td style=\"text-align: right;\">        0.01  </td><td style=\"text-align: right;\">0.0353014</td><td style=\"text-align: right;\">  0.910795</td><td style=\"text-align: right;\">      0.045574 </td><td style=\"text-align: right;\">                  12</td><td style=\"text-align: right;\">  0.014756  </td><td style=\"text-align: right;\">        0.960142</td><td style=\"text-align: right;\">                    12</td></tr>\n",
       "<tr><td>train_fn_848bacfa</td><td>TERMINATED</td><td>172.19.2.2:7770</td><td style=\"text-align: right;\">          32</td><td style=\"text-align: right;\">          0.3 </td><td style=\"text-align: right;\">      12</td><td style=\"text-align: right;\">1e-05 </td><td style=\"text-align: right;\">        0.01  </td><td style=\"text-align: right;\">0.0395372</td><td style=\"text-align: right;\">  0.912411</td><td style=\"text-align: right;\">      0.046006 </td><td style=\"text-align: right;\">                   6</td><td style=\"text-align: right;\">  0.0265996 </td><td style=\"text-align: right;\">        0.933981</td><td style=\"text-align: right;\">                     6</td></tr>\n",
       "<tr><td>train_fn_82ab1f61</td><td>TERMINATED</td><td>172.19.2.2:7875</td><td style=\"text-align: right;\">          32</td><td style=\"text-align: right;\">          0.3 </td><td style=\"text-align: right;\">      12</td><td style=\"text-align: right;\">3e-05 </td><td style=\"text-align: right;\">        0.01  </td><td style=\"text-align: right;\">0.0331978</td><td style=\"text-align: right;\">  0.912088</td><td style=\"text-align: right;\">      0.0408057</td><td style=\"text-align: right;\">                   6</td><td style=\"text-align: right;\">  0.0179821 </td><td style=\"text-align: right;\">        0.952708</td><td style=\"text-align: right;\">                     6</td></tr>\n",
       "<tr><td>train_fn_02a53601</td><td>TERMINATED</td><td>172.19.2.2:7955</td><td style=\"text-align: right;\">          32</td><td style=\"text-align: right;\">          0.2 </td><td style=\"text-align: right;\">      12</td><td style=\"text-align: right;\">2e-06 </td><td style=\"text-align: right;\">        5e-06 </td><td style=\"text-align: right;\">0.0535997</td><td style=\"text-align: right;\">  0.896251</td><td style=\"text-align: right;\">      0.0608401</td><td style=\"text-align: right;\">                   3</td><td style=\"text-align: right;\">  0.0680806 </td><td style=\"text-align: right;\">        0.888618</td><td style=\"text-align: right;\">                     3</td></tr>\n",
       "<tr><td>train_fn_b51b1859</td><td>TERMINATED</td><td>172.19.2.2:8044</td><td style=\"text-align: right;\">          32</td><td style=\"text-align: right;\">          0.2 </td><td style=\"text-align: right;\">       7</td><td style=\"text-align: right;\">2e-06 </td><td style=\"text-align: right;\">        5e-06 </td><td style=\"text-align: right;\">0.0547537</td><td style=\"text-align: right;\">  0.896251</td><td style=\"text-align: right;\">      0.0626595</td><td style=\"text-align: right;\">                   3</td><td style=\"text-align: right;\">  0.0705653 </td><td style=\"text-align: right;\">        0.888587</td><td style=\"text-align: right;\">                     3</td></tr>\n",
       "<tr><td>train_fn_d65ce0c6</td><td>TERMINATED</td><td>172.19.2.2:8123</td><td style=\"text-align: right;\">          32</td><td style=\"text-align: right;\">          0.4 </td><td style=\"text-align: right;\">       7</td><td style=\"text-align: right;\">0.0002</td><td style=\"text-align: right;\">        1e-06 </td><td style=\"text-align: right;\">0.0506597</td><td style=\"text-align: right;\">  0.896251</td><td style=\"text-align: right;\">      0.0527322</td><td style=\"text-align: right;\">                   3</td><td style=\"text-align: right;\">  0.0548048 </td><td style=\"text-align: right;\">        0.888618</td><td style=\"text-align: right;\">                     3</td></tr>\n",
       "<tr><td>train_fn_db7fb288</td><td>TERMINATED</td><td>172.19.2.2:8203</td><td style=\"text-align: right;\">          32</td><td style=\"text-align: right;\">          0.4 </td><td style=\"text-align: right;\">       7</td><td style=\"text-align: right;\">5e-06 </td><td style=\"text-align: right;\">        1e-05 </td><td style=\"text-align: right;\">0.0498755</td><td style=\"text-align: right;\">  0.896251</td><td style=\"text-align: right;\">      0.054428 </td><td style=\"text-align: right;\">                   3</td><td style=\"text-align: right;\">  0.0589805 </td><td style=\"text-align: right;\">        0.888618</td><td style=\"text-align: right;\">                     3</td></tr>\n",
       "<tr><td>train_fn_bc37b902</td><td>TERMINATED</td><td>172.19.2.2:8282</td><td style=\"text-align: right;\">          32</td><td style=\"text-align: right;\">          0.4 </td><td style=\"text-align: right;\">       5</td><td style=\"text-align: right;\">5e-06 </td><td style=\"text-align: right;\">        0.0002</td><td style=\"text-align: right;\">0.0500147</td><td style=\"text-align: right;\">  0.896251</td><td style=\"text-align: right;\">      0.0538655</td><td style=\"text-align: right;\">                   3</td><td style=\"text-align: right;\">  0.0577163 </td><td style=\"text-align: right;\">        0.888523</td><td style=\"text-align: right;\">                     3</td></tr>\n",
       "<tr><td>train_fn_efcb6b91</td><td>TERMINATED</td><td>172.19.2.2:8363</td><td style=\"text-align: right;\">          32</td><td style=\"text-align: right;\">          0.27</td><td style=\"text-align: right;\">       5</td><td style=\"text-align: right;\">5e-06 </td><td style=\"text-align: right;\">        0.0002</td><td style=\"text-align: right;\">0.0481083</td><td style=\"text-align: right;\">  0.896251</td><td style=\"text-align: right;\">      0.0519877</td><td style=\"text-align: right;\">                   3</td><td style=\"text-align: right;\">  0.055867  </td><td style=\"text-align: right;\">        0.888618</td><td style=\"text-align: right;\">                     3</td></tr>\n",
       "<tr><td>train_fn_ebf013a7</td><td>TERMINATED</td><td>172.19.2.2:8442</td><td style=\"text-align: right;\">          32</td><td style=\"text-align: right;\">          0.27</td><td style=\"text-align: right;\">       5</td><td style=\"text-align: right;\">5e-05 </td><td style=\"text-align: right;\">        0.0002</td><td style=\"text-align: right;\">0.0404782</td><td style=\"text-align: right;\">  0.904008</td><td style=\"text-align: right;\">      0.0425597</td><td style=\"text-align: right;\">                   3</td><td style=\"text-align: right;\">  0.0446412 </td><td style=\"text-align: right;\">        0.896368</td><td style=\"text-align: right;\">                     3</td></tr>\n",
       "<tr><td>train_fn_0ba1ccdb</td><td>TERMINATED</td><td>172.19.2.2:8523</td><td style=\"text-align: right;\">          32</td><td style=\"text-align: right;\">          0.27</td><td style=\"text-align: right;\">      12</td><td style=\"text-align: right;\">5e-05 </td><td style=\"text-align: right;\">        2e-06 </td><td style=\"text-align: right;\">0.027122 </td><td style=\"text-align: right;\">  0.923723</td><td style=\"text-align: right;\">      0.0371339</td><td style=\"text-align: right;\">                  12</td><td style=\"text-align: right;\">  0.00709802</td><td style=\"text-align: right;\">        0.975452</td><td style=\"text-align: right;\">                    12</td></tr>\n",
       "<tr><td>train_fn_40ecab1f</td><td>TERMINATED</td><td>172.19.2.2:8602</td><td style=\"text-align: right;\">          32</td><td style=\"text-align: right;\">          0.27</td><td style=\"text-align: right;\">      12</td><td style=\"text-align: right;\">5e-05 </td><td style=\"text-align: right;\">        2e-06 </td><td style=\"text-align: right;\">0.0503289</td><td style=\"text-align: right;\">  0.896251</td><td style=\"text-align: right;\">      0.0523273</td><td style=\"text-align: right;\">                   3</td><td style=\"text-align: right;\">  0.0543257 </td><td style=\"text-align: right;\">        0.888618</td><td style=\"text-align: right;\">                     3</td></tr>\n",
       "<tr><td>train_fn_ff7091ec</td><td>TERMINATED</td><td>172.19.2.2:8691</td><td style=\"text-align: right;\">          32</td><td style=\"text-align: right;\">          0.27</td><td style=\"text-align: right;\">      12</td><td style=\"text-align: right;\">2e-05 </td><td style=\"text-align: right;\">        2e-06 </td><td style=\"text-align: right;\">0.0335598</td><td style=\"text-align: right;\">  0.914997</td><td style=\"text-align: right;\">      0.0452415</td><td style=\"text-align: right;\">                  11</td><td style=\"text-align: right;\">  0.0101963 </td><td style=\"text-align: right;\">        0.970391</td><td style=\"text-align: right;\">                    11</td></tr>\n",
       "<tr><td>train_fn_f5ee23f8</td><td>TERMINATED</td><td>172.19.2.2:8805</td><td style=\"text-align: right;\">          32</td><td style=\"text-align: right;\">          0.27</td><td style=\"text-align: right;\">      12</td><td style=\"text-align: right;\">2e-05 </td><td style=\"text-align: right;\">        2e-06 </td><td style=\"text-align: right;\">0.0315285</td><td style=\"text-align: right;\">  0.920814</td><td style=\"text-align: right;\">      0.0412147</td><td style=\"text-align: right;\">                   9</td><td style=\"text-align: right;\">  0.012156  </td><td style=\"text-align: right;\">        0.965298</td><td style=\"text-align: right;\">                     9</td></tr>\n",
       "<tr><td>train_fn_277dbe25</td><td>TERMINATED</td><td>172.19.2.2:8895</td><td style=\"text-align: right;\">          32</td><td style=\"text-align: right;\">          0.27</td><td style=\"text-align: right;\">      12</td><td style=\"text-align: right;\">5e-05 </td><td style=\"text-align: right;\">        2e-06 </td><td style=\"text-align: right;\">0.0479035</td><td style=\"text-align: right;\">  0.89819 </td><td style=\"text-align: right;\">      0.0499326</td><td style=\"text-align: right;\">                   3</td><td style=\"text-align: right;\">  0.0519618 </td><td style=\"text-align: right;\">        0.888587</td><td style=\"text-align: right;\">                     3</td></tr>\n",
       "<tr><td>train_fn_5420120b</td><td>TERMINATED</td><td>172.19.2.2:8984</td><td style=\"text-align: right;\">          64</td><td style=\"text-align: right;\">          0.35</td><td style=\"text-align: right;\">      12</td><td style=\"text-align: right;\">5e-05 </td><td style=\"text-align: right;\">        2e-06 </td><td style=\"text-align: right;\">0.0357222</td><td style=\"text-align: right;\">  0.905947</td><td style=\"text-align: right;\">      0.0438642</td><td style=\"text-align: right;\">                   6</td><td style=\"text-align: right;\">  0.019438  </td><td style=\"text-align: right;\">        0.949639</td><td style=\"text-align: right;\">                     6</td></tr>\n",
       "<tr><td>train_fn_5c80e3d6</td><td>TERMINATED</td><td>172.19.2.2:9069</td><td style=\"text-align: right;\">          64</td><td style=\"text-align: right;\">          0.35</td><td style=\"text-align: right;\">      20</td><td style=\"text-align: right;\">1e-06 </td><td style=\"text-align: right;\">        2e-06 </td><td style=\"text-align: right;\">0.125828 </td><td style=\"text-align: right;\">  0.833872</td><td style=\"text-align: right;\">      0.141865 </td><td style=\"text-align: right;\">                   3</td><td style=\"text-align: right;\">  0.157902  </td><td style=\"text-align: right;\">        0.763001</td><td style=\"text-align: right;\">                     3</td></tr>\n",
       "</tbody>\n",
       "</table>\n",
       "  </div>\n",
       "</div>\n",
       "<style>\n",
       ".tuneStatus {\n",
       "  color: var(--jp-ui-font-color1);\n",
       "}\n",
       ".tuneStatus .systemInfo {\n",
       "  display: flex;\n",
       "  flex-direction: column;\n",
       "}\n",
       ".tuneStatus td {\n",
       "  white-space: nowrap;\n",
       "}\n",
       ".tuneStatus .trialStatus {\n",
       "  display: flex;\n",
       "  flex-direction: column;\n",
       "}\n",
       ".tuneStatus h3 {\n",
       "  font-weight: bold;\n",
       "}\n",
       ".tuneStatus .hDivider {\n",
       "  border-bottom-width: var(--jp-border-width);\n",
       "  border-bottom-color: var(--jp-border-color0);\n",
       "  border-bottom-style: solid;\n",
       "}\n",
       ".tuneStatus .vDivider {\n",
       "  border-left-width: var(--jp-border-width);\n",
       "  border-left-color: var(--jp-border-color0);\n",
       "  border-left-style: solid;\n",
       "  margin: 0.5em 1em 0.5em 1em;\n",
       "}\n",
       "</style>\n"
      ],
      "text/plain": [
       "<IPython.core.display.HTML object>"
      ]
     },
     "metadata": {},
     "output_type": "display_data"
    },
    {
     "name": "stderr",
     "output_type": "stream",
     "text": [
      "2024-11-29 13:48:59,034\tINFO worker.py:1753 -- Started a local Ray instance.\n",
      "2024-11-29 13:49:00,153\tINFO tune.py:253 -- Initializing Ray automatically. For cluster usage or custom Ray initialization, call `ray.init(...)` before `tune.run(...)`.\n",
      "2024-11-29 13:49:00,157\tINFO tune.py:616 -- [output] This uses the legacy output and progress reporter, as Jupyter notebooks are not supported by the new engine, yet. For more information, please see https://github.com/ray-project/ray/issues/36949\n",
      "[I 2024-11-29 13:49:00,198] A new study created in memory with name: optuna\n",
      "\u001b[36m(train_fn pid=341)\u001b[0m /opt/conda/lib/python3.10/site-packages/transformers/tokenization_utils_base.py:1601: FutureWarning: `clean_up_tokenization_spaces` was not set. It will be set to `True` by default. This behavior will be depracted in transformers v4.45, and will be then set to `False` by default. For more details check this issue: https://github.com/huggingface/transformers/issues/31884\n",
      "\u001b[36m(train_fn pid=341)\u001b[0m   warnings.warn(\n"
     ]
    },
    {
     "data": {
      "text/html": [
       "<div class=\"trialProgress\">\n",
       "  <h3>Trial Progress</h3>\n",
       "  <table>\n",
       "<thead>\n",
       "<tr><th>Trial name       </th><th style=\"text-align: right;\">  accuracy</th><th style=\"text-align: right;\">  custom_metric</th><th style=\"text-align: right;\">  early_stopping_epoch</th><th style=\"text-align: right;\">     loss</th><th style=\"text-align: right;\">  train_accuracy</th><th style=\"text-align: right;\">  train_loss</th></tr>\n",
       "</thead>\n",
       "<tbody>\n",
       "<tr><td>train_fn_01a33d3f</td><td style=\"text-align: right;\">  0.910795</td><td style=\"text-align: right;\">      0.045574 </td><td style=\"text-align: right;\">                    12</td><td style=\"text-align: right;\">0.0353014</td><td style=\"text-align: right;\">        0.960142</td><td style=\"text-align: right;\">  0.014756  </td></tr>\n",
       "<tr><td>train_fn_01ed111c</td><td style=\"text-align: right;\">  0.896251</td><td style=\"text-align: right;\">      0.0545136</td><td style=\"text-align: right;\">                     6</td><td style=\"text-align: right;\">0.0508442</td><td style=\"text-align: right;\">        0.888618</td><td style=\"text-align: right;\">  0.0581831 </td></tr>\n",
       "<tr><td>train_fn_02a53601</td><td style=\"text-align: right;\">  0.896251</td><td style=\"text-align: right;\">      0.0608401</td><td style=\"text-align: right;\">                     3</td><td style=\"text-align: right;\">0.0535997</td><td style=\"text-align: right;\">        0.888618</td><td style=\"text-align: right;\">  0.0680806 </td></tr>\n",
       "<tr><td>train_fn_02af8ae3</td><td style=\"text-align: right;\">  0.473174</td><td style=\"text-align: right;\">      0.188709 </td><td style=\"text-align: right;\">                     3</td><td style=\"text-align: right;\">0.184704 </td><td style=\"text-align: right;\">        0.438979</td><td style=\"text-align: right;\">  0.192714  </td></tr>\n",
       "<tr><td>train_fn_06ee8403</td><td style=\"text-align: right;\">  0.896251</td><td style=\"text-align: right;\">      0.0525395</td><td style=\"text-align: right;\">                     3</td><td style=\"text-align: right;\">0.0504541</td><td style=\"text-align: right;\">        0.888618</td><td style=\"text-align: right;\">  0.0546249 </td></tr>\n",
       "<tr><td>train_fn_0ba1ccdb</td><td style=\"text-align: right;\">  0.923723</td><td style=\"text-align: right;\">      0.0371339</td><td style=\"text-align: right;\">                    12</td><td style=\"text-align: right;\">0.027122 </td><td style=\"text-align: right;\">        0.975452</td><td style=\"text-align: right;\">  0.00709802</td></tr>\n",
       "<tr><td>train_fn_0bceb13d</td><td style=\"text-align: right;\">  0.909179</td><td style=\"text-align: right;\">      0.0437851</td><td style=\"text-align: right;\">                     5</td><td style=\"text-align: right;\">0.0381824</td><td style=\"text-align: right;\">        0.930786</td><td style=\"text-align: right;\">  0.026977  </td></tr>\n",
       "<tr><td>train_fn_109ac776</td><td style=\"text-align: right;\">  0.896251</td><td style=\"text-align: right;\">      0.0526129</td><td style=\"text-align: right;\">                     6</td><td style=\"text-align: right;\">0.0505464</td><td style=\"text-align: right;\">        0.888618</td><td style=\"text-align: right;\">  0.0546793 </td></tr>\n",
       "<tr><td>train_fn_145d0de8</td><td style=\"text-align: right;\">  0.898836</td><td style=\"text-align: right;\">      0.0412599</td><td style=\"text-align: right;\">                     3</td><td style=\"text-align: right;\">0.0397822</td><td style=\"text-align: right;\">        0.90241 </td><td style=\"text-align: right;\">  0.0427376 </td></tr>\n",
       "<tr><td>train_fn_16b7cbd1</td><td style=\"text-align: right;\">  0.918552</td><td style=\"text-align: right;\">      0.0378706</td><td style=\"text-align: right;\">                     5</td><td style=\"text-align: right;\">0.0323154</td><td style=\"text-align: right;\">        0.943945</td><td style=\"text-align: right;\">  0.0212051 </td></tr>\n",
       "<tr><td>train_fn_20ede2c3</td><td style=\"text-align: right;\">  0.896251</td><td style=\"text-align: right;\">      0.0526206</td><td style=\"text-align: right;\">                     3</td><td style=\"text-align: right;\">0.0492642</td><td style=\"text-align: right;\">        0.888618</td><td style=\"text-align: right;\">  0.055977  </td></tr>\n",
       "<tr><td>train_fn_277dbe25</td><td style=\"text-align: right;\">  0.89819 </td><td style=\"text-align: right;\">      0.0499326</td><td style=\"text-align: right;\">                     3</td><td style=\"text-align: right;\">0.0479035</td><td style=\"text-align: right;\">        0.888587</td><td style=\"text-align: right;\">  0.0519618 </td></tr>\n",
       "<tr><td>train_fn_29835677</td><td style=\"text-align: right;\">  0.911765</td><td style=\"text-align: right;\">      0.0439654</td><td style=\"text-align: right;\">                    12</td><td style=\"text-align: right;\">0.0334814</td><td style=\"text-align: right;\">        0.963843</td><td style=\"text-align: right;\">  0.0125135 </td></tr>\n",
       "<tr><td>train_fn_29d71365</td><td style=\"text-align: right;\">  0.896251</td><td style=\"text-align: right;\">      0.127684 </td><td style=\"text-align: right;\">                     3</td><td style=\"text-align: right;\">0.111515 </td><td style=\"text-align: right;\">        0.858566</td><td style=\"text-align: right;\">  0.143853  </td></tr>\n",
       "<tr><td>train_fn_2a405bc4</td><td style=\"text-align: right;\">  0.916936</td><td style=\"text-align: right;\">      0.0410155</td><td style=\"text-align: right;\">                    11</td><td style=\"text-align: right;\">0.0299406</td><td style=\"text-align: right;\">        0.973554</td><td style=\"text-align: right;\">  0.00779094</td></tr>\n",
       "<tr><td>train_fn_2b6b2342</td><td style=\"text-align: right;\">  0.911765</td><td style=\"text-align: right;\">      0.041056 </td><td style=\"text-align: right;\">                     6</td><td style=\"text-align: right;\">0.0339783</td><td style=\"text-align: right;\">        0.947045</td><td style=\"text-align: right;\">  0.0198229 </td></tr>\n",
       "<tr><td>train_fn_2e014c67</td><td style=\"text-align: right;\">  0.916613</td><td style=\"text-align: right;\">      0.0398331</td><td style=\"text-align: right;\">                     5</td><td style=\"text-align: right;\">0.0329717</td><td style=\"text-align: right;\">        0.947646</td><td style=\"text-align: right;\">  0.0192488 </td></tr>\n",
       "<tr><td>train_fn_34225abb</td><td style=\"text-align: right;\">  0.738203</td><td style=\"text-align: right;\">      0.178973 </td><td style=\"text-align: right;\">                     3</td><td style=\"text-align: right;\">0.175278 </td><td style=\"text-align: right;\">        0.655479</td><td style=\"text-align: right;\">  0.182668  </td></tr>\n",
       "<tr><td>train_fn_389be36f</td><td style=\"text-align: right;\">  0.896251</td><td style=\"text-align: right;\">      0.0527196</td><td style=\"text-align: right;\">                     3</td><td style=\"text-align: right;\">0.0504594</td><td style=\"text-align: right;\">        0.888618</td><td style=\"text-align: right;\">  0.0549799 </td></tr>\n",
       "<tr><td>train_fn_3c6e9283</td><td style=\"text-align: right;\">  0.896251</td><td style=\"text-align: right;\">      0.0526491</td><td style=\"text-align: right;\">                     3</td><td style=\"text-align: right;\">0.0502097</td><td style=\"text-align: right;\">        0.888618</td><td style=\"text-align: right;\">  0.0550886 </td></tr>\n",
       "<tr><td>train_fn_40ecab1f</td><td style=\"text-align: right;\">  0.896251</td><td style=\"text-align: right;\">      0.0523273</td><td style=\"text-align: right;\">                     3</td><td style=\"text-align: right;\">0.0503289</td><td style=\"text-align: right;\">        0.888618</td><td style=\"text-align: right;\">  0.0543257 </td></tr>\n",
       "<tr><td>train_fn_458f3eff</td><td style=\"text-align: right;\">  0.914997</td><td style=\"text-align: right;\">      0.0429152</td><td style=\"text-align: right;\">                     7</td><td style=\"text-align: right;\">0.0344052</td><td style=\"text-align: right;\">        0.95527 </td><td style=\"text-align: right;\">  0.0173852 </td></tr>\n",
       "<tr><td>train_fn_46b518e6</td><td style=\"text-align: right;\">  0.905624</td><td style=\"text-align: right;\">      0.0506012</td><td style=\"text-align: right;\">                    10</td><td style=\"text-align: right;\">0.037888 </td><td style=\"text-align: right;\">        0.964887</td><td style=\"text-align: right;\">  0.0124617 </td></tr>\n",
       "<tr><td>train_fn_47fe5fd4</td><td style=\"text-align: right;\">  0.348739</td><td style=\"text-align: right;\">      0.195502 </td><td style=\"text-align: right;\">                     3</td><td style=\"text-align: right;\">0.192361 </td><td style=\"text-align: right;\">        0.33636 </td><td style=\"text-align: right;\">  0.198644  </td></tr>\n",
       "<tr><td>train_fn_48613c3c</td><td style=\"text-align: right;\">  0.910795</td><td style=\"text-align: right;\">      0.0470659</td><td style=\"text-align: right;\">                    12</td><td style=\"text-align: right;\">0.0385429</td><td style=\"text-align: right;\">        0.945464</td><td style=\"text-align: right;\">  0.0214969 </td></tr>\n",
       "<tr><td>train_fn_49e25293</td><td style=\"text-align: right;\">  0.910795</td><td style=\"text-align: right;\">      0.043279 </td><td style=\"text-align: right;\">                    12</td><td style=\"text-align: right;\">0.0333446</td><td style=\"text-align: right;\">        0.962672</td><td style=\"text-align: right;\">  0.0134758 </td></tr>\n",
       "<tr><td>train_fn_503ad4c5</td><td style=\"text-align: right;\">  0.919845</td><td style=\"text-align: right;\">      0.0376601</td><td style=\"text-align: right;\">                     5</td><td style=\"text-align: right;\">0.0322252</td><td style=\"text-align: right;\">        0.94404 </td><td style=\"text-align: right;\">  0.0213554 </td></tr>\n",
       "<tr><td>train_fn_53fb32b2</td><td style=\"text-align: right;\">  0.896251</td><td style=\"text-align: right;\">      0.0721981</td><td style=\"text-align: right;\">                     3</td><td style=\"text-align: right;\">0.060927 </td><td style=\"text-align: right;\">        0.887479</td><td style=\"text-align: right;\">  0.0834691 </td></tr>\n",
       "<tr><td>train_fn_5420120b</td><td style=\"text-align: right;\">  0.905947</td><td style=\"text-align: right;\">      0.0438642</td><td style=\"text-align: right;\">                     6</td><td style=\"text-align: right;\">0.0357222</td><td style=\"text-align: right;\">        0.949639</td><td style=\"text-align: right;\">  0.019438  </td></tr>\n",
       "<tr><td>train_fn_552a4070</td><td style=\"text-align: right;\">  0.902715</td><td style=\"text-align: right;\">      0.0446231</td><td style=\"text-align: right;\">                     5</td><td style=\"text-align: right;\">0.0369745</td><td style=\"text-align: right;\">        0.941193</td><td style=\"text-align: right;\">  0.0216771 </td></tr>\n",
       "<tr><td>train_fn_5c80e3d6</td><td style=\"text-align: right;\">  0.833872</td><td style=\"text-align: right;\">      0.141865 </td><td style=\"text-align: right;\">                     3</td><td style=\"text-align: right;\">0.125828 </td><td style=\"text-align: right;\">        0.763001</td><td style=\"text-align: right;\">  0.157902  </td></tr>\n",
       "<tr><td>train_fn_5ccc8042</td><td style=\"text-align: right;\">  0.896251</td><td style=\"text-align: right;\">      0.0529625</td><td style=\"text-align: right;\">                     3</td><td style=\"text-align: right;\">0.0511788</td><td style=\"text-align: right;\">        0.888618</td><td style=\"text-align: right;\">  0.0547463 </td></tr>\n",
       "<tr><td>train_fn_5f388356</td><td style=\"text-align: right;\">  0.896251</td><td style=\"text-align: right;\">      0.0563868</td><td style=\"text-align: right;\">                     3</td><td style=\"text-align: right;\">0.0505731</td><td style=\"text-align: right;\">        0.88865 </td><td style=\"text-align: right;\">  0.0622004 </td></tr>\n",
       "<tr><td>train_fn_6681de2f</td><td style=\"text-align: right;\">  0.917906</td><td style=\"text-align: right;\">      0.0385028</td><td style=\"text-align: right;\">                     5</td><td style=\"text-align: right;\">0.032462 </td><td style=\"text-align: right;\">        0.945274</td><td style=\"text-align: right;\">  0.0203802 </td></tr>\n",
       "<tr><td>train_fn_6929203f</td><td style=\"text-align: right;\">  0.913381</td><td style=\"text-align: right;\">      0.0418776</td><td style=\"text-align: right;\">                     5</td><td style=\"text-align: right;\">0.0362603</td><td style=\"text-align: right;\">        0.936069</td><td style=\"text-align: right;\">  0.0250257 </td></tr>\n",
       "<tr><td>train_fn_698a65bc</td><td style=\"text-align: right;\">  0.917582</td><td style=\"text-align: right;\">      0.0402177</td><td style=\"text-align: right;\">                    12</td><td style=\"text-align: right;\">0.0303713</td><td style=\"text-align: right;\">        0.970043</td><td style=\"text-align: right;\">  0.0106785 </td></tr>\n",
       "<tr><td>train_fn_69e9fd94</td><td style=\"text-align: right;\">  0.460246</td><td style=\"text-align: right;\">      0.189404 </td><td style=\"text-align: right;\">                     3</td><td style=\"text-align: right;\">0.183209 </td><td style=\"text-align: right;\">        0.387859</td><td style=\"text-align: right;\">  0.195599  </td></tr>\n",
       "<tr><td>train_fn_6c3e629c</td><td style=\"text-align: right;\">  0.896251</td><td style=\"text-align: right;\">      0.0855704</td><td style=\"text-align: right;\">                     6</td><td style=\"text-align: right;\">0.0758959</td><td style=\"text-align: right;\">        0.884474</td><td style=\"text-align: right;\">  0.095245  </td></tr>\n",
       "<tr><td>train_fn_6cc479ef</td><td style=\"text-align: right;\">  0.896251</td><td style=\"text-align: right;\">      0.0678617</td><td style=\"text-align: right;\">                     3</td><td style=\"text-align: right;\">0.0582743</td><td style=\"text-align: right;\">        0.888587</td><td style=\"text-align: right;\">  0.0774491 </td></tr>\n",
       "<tr><td>train_fn_6d6c1b59</td><td style=\"text-align: right;\">  0.896251</td><td style=\"text-align: right;\">      0.0949112</td><td style=\"text-align: right;\">                     3</td><td style=\"text-align: right;\">0.0797273</td><td style=\"text-align: right;\">        0.874415</td><td style=\"text-align: right;\">  0.110095  </td></tr>\n",
       "<tr><td>train_fn_752b526f</td><td style=\"text-align: right;\">  0.906917</td><td style=\"text-align: right;\">      0.0403624</td><td style=\"text-align: right;\">                     6</td><td style=\"text-align: right;\">0.0335976</td><td style=\"text-align: right;\">        0.946444</td><td style=\"text-align: right;\">  0.020068  </td></tr>\n",
       "<tr><td>train_fn_798b884e</td><td style=\"text-align: right;\">  0.909825</td><td style=\"text-align: right;\">      0.0440184</td><td style=\"text-align: right;\">                     6</td><td style=\"text-align: right;\">0.0363925</td><td style=\"text-align: right;\">        0.944167</td><td style=\"text-align: right;\">  0.0211408 </td></tr>\n",
       "<tr><td>train_fn_7e5865c1</td><td style=\"text-align: right;\">  0.91435 </td><td style=\"text-align: right;\">      0.0407399</td><td style=\"text-align: right;\">                    12</td><td style=\"text-align: right;\">0.0295725</td><td style=\"text-align: right;\">        0.972827</td><td style=\"text-align: right;\">  0.00723747</td></tr>\n",
       "<tr><td>train_fn_7e91e652</td><td style=\"text-align: right;\">  0.896251</td><td style=\"text-align: right;\">      0.052896 </td><td style=\"text-align: right;\">                     3</td><td style=\"text-align: right;\">0.0511426</td><td style=\"text-align: right;\">        0.888618</td><td style=\"text-align: right;\">  0.0546493 </td></tr>\n",
       "<tr><td>train_fn_81042903</td><td style=\"text-align: right;\">  0.912411</td><td style=\"text-align: right;\">      0.0437104</td><td style=\"text-align: right;\">                    12</td><td style=\"text-align: right;\">0.033786 </td><td style=\"text-align: right;\">        0.961249</td><td style=\"text-align: right;\">  0.0139371 </td></tr>\n",
       "<tr><td>train_fn_826f9e17</td><td style=\"text-align: right;\">  0.896251</td><td style=\"text-align: right;\">      0.0527283</td><td style=\"text-align: right;\">                     3</td><td style=\"text-align: right;\">0.0506621</td><td style=\"text-align: right;\">        0.888618</td><td style=\"text-align: right;\">  0.0547944 </td></tr>\n",
       "<tr><td>train_fn_82a633fc</td><td style=\"text-align: right;\">  0.896251</td><td style=\"text-align: right;\">      0.129645 </td><td style=\"text-align: right;\">                     3</td><td style=\"text-align: right;\">0.116065 </td><td style=\"text-align: right;\">        0.824244</td><td style=\"text-align: right;\">  0.143225  </td></tr>\n",
       "<tr><td>train_fn_82ab1f61</td><td style=\"text-align: right;\">  0.912088</td><td style=\"text-align: right;\">      0.0408057</td><td style=\"text-align: right;\">                     6</td><td style=\"text-align: right;\">0.0331978</td><td style=\"text-align: right;\">        0.952708</td><td style=\"text-align: right;\">  0.0179821 </td></tr>\n",
       "<tr><td>train_fn_848bacfa</td><td style=\"text-align: right;\">  0.912411</td><td style=\"text-align: right;\">      0.046006 </td><td style=\"text-align: right;\">                     6</td><td style=\"text-align: right;\">0.0395372</td><td style=\"text-align: right;\">        0.933981</td><td style=\"text-align: right;\">  0.0265996 </td></tr>\n",
       "<tr><td>train_fn_8740179d</td><td style=\"text-align: right;\">  0.617647</td><td style=\"text-align: right;\">      0.17098  </td><td style=\"text-align: right;\">                     3</td><td style=\"text-align: right;\">0.165938 </td><td style=\"text-align: right;\">        0.619638</td><td style=\"text-align: right;\">  0.176023  </td></tr>\n",
       "<tr><td>train_fn_89a266a4</td><td style=\"text-align: right;\">  0.910149</td><td style=\"text-align: right;\">      0.0432112</td><td style=\"text-align: right;\">                    12</td><td style=\"text-align: right;\">0.0321174</td><td style=\"text-align: right;\">        0.969031</td><td style=\"text-align: right;\">  0.00992985</td></tr>\n",
       "<tr><td>train_fn_8a2c6b66</td><td style=\"text-align: right;\">  0.915966</td><td style=\"text-align: right;\">      0.0408968</td><td style=\"text-align: right;\">                    12</td><td style=\"text-align: right;\">0.0298463</td><td style=\"text-align: right;\">        0.973206</td><td style=\"text-align: right;\">  0.00774546</td></tr>\n",
       "<tr><td>train_fn_8f4423f1</td><td style=\"text-align: right;\">  0.914674</td><td style=\"text-align: right;\">      0.0413572</td><td style=\"text-align: right;\">                    12</td><td style=\"text-align: right;\">0.0303013</td><td style=\"text-align: right;\">        0.971878</td><td style=\"text-align: right;\">  0.00818952</td></tr>\n",
       "<tr><td>train_fn_90248808</td><td style=\"text-align: right;\">  0.896251</td><td style=\"text-align: right;\">      0.0522138</td><td style=\"text-align: right;\">                     6</td><td style=\"text-align: right;\">0.0487009</td><td style=\"text-align: right;\">        0.888618</td><td style=\"text-align: right;\">  0.0557266 </td></tr>\n",
       "<tr><td>train_fn_908f2e6c</td><td style=\"text-align: right;\">  0.912088</td><td style=\"text-align: right;\">      0.0455325</td><td style=\"text-align: right;\">                     7</td><td style=\"text-align: right;\">0.0368132</td><td style=\"text-align: right;\">        0.948659</td><td style=\"text-align: right;\">  0.0193747 </td></tr>\n",
       "<tr><td>train_fn_914959a0</td><td style=\"text-align: right;\">  0.91629 </td><td style=\"text-align: right;\">      0.0387016</td><td style=\"text-align: right;\">                    12</td><td style=\"text-align: right;\">0.0280731</td><td style=\"text-align: right;\">        0.97637 </td><td style=\"text-align: right;\">  0.00681608</td></tr>\n",
       "<tr><td>train_fn_92270e1f</td><td style=\"text-align: right;\">  0.911765</td><td style=\"text-align: right;\">      0.0390837</td><td style=\"text-align: right;\">                     5</td><td style=\"text-align: right;\">0.0332854</td><td style=\"text-align: right;\">        0.942901</td><td style=\"text-align: right;\">  0.0216887 </td></tr>\n",
       "<tr><td>train_fn_95f7641c</td><td style=\"text-align: right;\">  0.907563</td><td style=\"text-align: right;\">      0.0417099</td><td style=\"text-align: right;\">                     5</td><td style=\"text-align: right;\">0.0353802</td><td style=\"text-align: right;\">        0.941351</td><td style=\"text-align: right;\">  0.0227207 </td></tr>\n",
       "<tr><td>train_fn_96617005</td><td style=\"text-align: right;\">  0.683581</td><td style=\"text-align: right;\">      0.178364 </td><td style=\"text-align: right;\">                     3</td><td style=\"text-align: right;\">0.173896 </td><td style=\"text-align: right;\">        0.602208</td><td style=\"text-align: right;\">  0.182833  </td></tr>\n",
       "<tr><td>train_fn_9a44fe65</td><td style=\"text-align: right;\">  0.896251</td><td style=\"text-align: right;\">      0.0524912</td><td style=\"text-align: right;\">                     3</td><td style=\"text-align: right;\">0.0502192</td><td style=\"text-align: right;\">        0.888618</td><td style=\"text-align: right;\">  0.0547631 </td></tr>\n",
       "<tr><td>train_fn_9bf381ec</td><td style=\"text-align: right;\">  0.908209</td><td style=\"text-align: right;\">      0.0448638</td><td style=\"text-align: right;\">                     6</td><td style=\"text-align: right;\">0.0375738</td><td style=\"text-align: right;\">        0.939517</td><td style=\"text-align: right;\">  0.0229937 </td></tr>\n",
       "<tr><td>train_fn_9c022d45</td><td style=\"text-align: right;\">  0.896251</td><td style=\"text-align: right;\">      0.0542905</td><td style=\"text-align: right;\">                     6</td><td style=\"text-align: right;\">0.0503695</td><td style=\"text-align: right;\">        0.888587</td><td style=\"text-align: right;\">  0.0582115 </td></tr>\n",
       "<tr><td>train_fn_9c3780ff</td><td style=\"text-align: right;\">  0.904977</td><td style=\"text-align: right;\">      0.0473455</td><td style=\"text-align: right;\">                     6</td><td style=\"text-align: right;\">0.0400354</td><td style=\"text-align: right;\">        0.935151</td><td style=\"text-align: right;\">  0.0254151 </td></tr>\n",
       "<tr><td>train_fn_9c379fb2</td><td style=\"text-align: right;\">  0.896251</td><td style=\"text-align: right;\">      0.0526241</td><td style=\"text-align: right;\">                     3</td><td style=\"text-align: right;\">0.0505771</td><td style=\"text-align: right;\">        0.888618</td><td style=\"text-align: right;\">  0.0546712 </td></tr>\n",
       "<tr><td>train_fn_9f492ec8</td><td style=\"text-align: right;\">  0.919522</td><td style=\"text-align: right;\">      0.0395046</td><td style=\"text-align: right;\">                    11</td><td style=\"text-align: right;\">0.0292649</td><td style=\"text-align: right;\">        0.971498</td><td style=\"text-align: right;\">  0.00878543</td></tr>\n",
       "<tr><td>train_fn_9f6a9839</td><td style=\"text-align: right;\">  0.913381</td><td style=\"text-align: right;\">      0.0406532</td><td style=\"text-align: right;\">                     6</td><td style=\"text-align: right;\">0.0329649</td><td style=\"text-align: right;\">        0.954732</td><td style=\"text-align: right;\">  0.0175884 </td></tr>\n",
       "<tr><td>train_fn_a3aa277b</td><td style=\"text-align: right;\">  0.91435 </td><td style=\"text-align: right;\">      0.042559 </td><td style=\"text-align: right;\">                    12</td><td style=\"text-align: right;\">0.0319244</td><td style=\"text-align: right;\">        0.968335</td><td style=\"text-align: right;\">  0.0106552 </td></tr>\n",
       "<tr><td>train_fn_a8a0f427</td><td style=\"text-align: right;\">  0.906917</td><td style=\"text-align: right;\">      0.0404488</td><td style=\"text-align: right;\">                     6</td><td style=\"text-align: right;\">0.0358254</td><td style=\"text-align: right;\">        0.933664</td><td style=\"text-align: right;\">  0.0265785 </td></tr>\n",
       "<tr><td>train_fn_ae2bc71f</td><td style=\"text-align: right;\">  0.911441</td><td style=\"text-align: right;\">      0.0417144</td><td style=\"text-align: right;\">                     5</td><td style=\"text-align: right;\">0.0373205</td><td style=\"text-align: right;\">        0.929236</td><td style=\"text-align: right;\">  0.0285326 </td></tr>\n",
       "<tr><td>train_fn_af324419</td><td style=\"text-align: right;\">  0.915966</td><td style=\"text-align: right;\">      0.0423468</td><td style=\"text-align: right;\">                    12</td><td style=\"text-align: right;\">0.0314786</td><td style=\"text-align: right;\">        0.969663</td><td style=\"text-align: right;\">  0.00974222</td></tr>\n",
       "<tr><td>train_fn_b20e2045</td><td style=\"text-align: right;\">  0.913058</td><td style=\"text-align: right;\">      0.0447022</td><td style=\"text-align: right;\">                     5</td><td style=\"text-align: right;\">0.0366559</td><td style=\"text-align: right;\">        0.946634</td><td style=\"text-align: right;\">  0.0205632 </td></tr>\n",
       "<tr><td>train_fn_b51b1859</td><td style=\"text-align: right;\">  0.896251</td><td style=\"text-align: right;\">      0.0626595</td><td style=\"text-align: right;\">                     3</td><td style=\"text-align: right;\">0.0547537</td><td style=\"text-align: right;\">        0.888587</td><td style=\"text-align: right;\">  0.0705653 </td></tr>\n",
       "<tr><td>train_fn_bc37b902</td><td style=\"text-align: right;\">  0.896251</td><td style=\"text-align: right;\">      0.0538655</td><td style=\"text-align: right;\">                     3</td><td style=\"text-align: right;\">0.0500147</td><td style=\"text-align: right;\">        0.888523</td><td style=\"text-align: right;\">  0.0577163 </td></tr>\n",
       "<tr><td>train_fn_c2590652</td><td style=\"text-align: right;\">  0.916936</td><td style=\"text-align: right;\">      0.0414976</td><td style=\"text-align: right;\">                    12</td><td style=\"text-align: right;\">0.0306743</td><td style=\"text-align: right;\">        0.96979 </td><td style=\"text-align: right;\">  0.0090277 </td></tr>\n",
       "<tr><td>train_fn_c2817ead</td><td style=\"text-align: right;\">  0.920168</td><td style=\"text-align: right;\">      0.0407794</td><td style=\"text-align: right;\">                    12</td><td style=\"text-align: right;\">0.02941  </td><td style=\"text-align: right;\">        0.97618 </td><td style=\"text-align: right;\">  0.0066714 </td></tr>\n",
       "<tr><td>train_fn_c65f797e</td><td style=\"text-align: right;\">  0.896251</td><td style=\"text-align: right;\">      0.0857546</td><td style=\"text-align: right;\">                     3</td><td style=\"text-align: right;\">0.0742184</td><td style=\"text-align: right;\">        0.888587</td><td style=\"text-align: right;\">  0.0972908 </td></tr>\n",
       "<tr><td>train_fn_cc7b2bbd</td><td style=\"text-align: right;\">  0.896251</td><td style=\"text-align: right;\">      0.0531873</td><td style=\"text-align: right;\">                     5</td><td style=\"text-align: right;\">0.0518973</td><td style=\"text-align: right;\">        0.888618</td><td style=\"text-align: right;\">  0.0544773 </td></tr>\n",
       "<tr><td>train_fn_d1c65aca</td><td style=\"text-align: right;\">  0.782482</td><td style=\"text-align: right;\">      0.182062 </td><td style=\"text-align: right;\">                     3</td><td style=\"text-align: right;\">0.179929 </td><td style=\"text-align: right;\">        0.670537</td><td style=\"text-align: right;\">  0.184195  </td></tr>\n",
       "<tr><td>train_fn_d4b242b7</td><td style=\"text-align: right;\">  0.9234  </td><td style=\"text-align: right;\">      0.0393177</td><td style=\"text-align: right;\">                    12</td><td style=\"text-align: right;\">0.0287138</td><td style=\"text-align: right;\">        0.973839</td><td style=\"text-align: right;\">  0.0075058 </td></tr>\n",
       "<tr><td>train_fn_d4ef5ae7</td><td style=\"text-align: right;\">  0.914027</td><td style=\"text-align: right;\">      0.04111  </td><td style=\"text-align: right;\">                    11</td><td style=\"text-align: right;\">0.0300592</td><td style=\"text-align: right;\">        0.973175</td><td style=\"text-align: right;\">  0.00795752</td></tr>\n",
       "<tr><td>train_fn_d65ce0c6</td><td style=\"text-align: right;\">  0.896251</td><td style=\"text-align: right;\">      0.0527322</td><td style=\"text-align: right;\">                     3</td><td style=\"text-align: right;\">0.0506597</td><td style=\"text-align: right;\">        0.888618</td><td style=\"text-align: right;\">  0.0548048 </td></tr>\n",
       "<tr><td>train_fn_da2e9004</td><td style=\"text-align: right;\">  0.916613</td><td style=\"text-align: right;\">      0.0417494</td><td style=\"text-align: right;\">                     5</td><td style=\"text-align: right;\">0.0342558</td><td style=\"text-align: right;\">        0.948248</td><td style=\"text-align: right;\">  0.0192687 </td></tr>\n",
       "<tr><td>train_fn_db7fb288</td><td style=\"text-align: right;\">  0.896251</td><td style=\"text-align: right;\">      0.054428 </td><td style=\"text-align: right;\">                     3</td><td style=\"text-align: right;\">0.0498755</td><td style=\"text-align: right;\">        0.888618</td><td style=\"text-align: right;\">  0.0589805 </td></tr>\n",
       "<tr><td>train_fn_de540f6e</td><td style=\"text-align: right;\">  0.913381</td><td style=\"text-align: right;\">      0.0378744</td><td style=\"text-align: right;\">                     5</td><td style=\"text-align: right;\">0.0350333</td><td style=\"text-align: right;\">        0.928255</td><td style=\"text-align: right;\">  0.029351  </td></tr>\n",
       "<tr><td>train_fn_e1f9289e</td><td style=\"text-align: right;\">  0.669037</td><td style=\"text-align: right;\">      0.18407  </td><td style=\"text-align: right;\">                     3</td><td style=\"text-align: right;\">0.180237 </td><td style=\"text-align: right;\">        0.54027 </td><td style=\"text-align: right;\">  0.187902  </td></tr>\n",
       "<tr><td>train_fn_e33e54ea</td><td style=\"text-align: right;\">  0.916613</td><td style=\"text-align: right;\">      0.0411225</td><td style=\"text-align: right;\">                     9</td><td style=\"text-align: right;\">0.0319665</td><td style=\"text-align: right;\">        0.960743</td><td style=\"text-align: right;\">  0.0136544 </td></tr>\n",
       "<tr><td>train_fn_e41060ac</td><td style=\"text-align: right;\">  0.912734</td><td style=\"text-align: right;\">      0.0402099</td><td style=\"text-align: right;\">                     6</td><td style=\"text-align: right;\">0.0332299</td><td style=\"text-align: right;\">        0.948754</td><td style=\"text-align: right;\">  0.0192698 </td></tr>\n",
       "<tr><td>train_fn_eba5b8f9</td><td style=\"text-align: right;\">  0.914997</td><td style=\"text-align: right;\">      0.0400712</td><td style=\"text-align: right;\">                    10</td><td style=\"text-align: right;\">0.0297765</td><td style=\"text-align: right;\">        0.970929</td><td style=\"text-align: right;\">  0.00918716</td></tr>\n",
       "<tr><td>train_fn_ebf013a7</td><td style=\"text-align: right;\">  0.904008</td><td style=\"text-align: right;\">      0.0425597</td><td style=\"text-align: right;\">                     3</td><td style=\"text-align: right;\">0.0404782</td><td style=\"text-align: right;\">        0.896368</td><td style=\"text-align: right;\">  0.0446412 </td></tr>\n",
       "<tr><td>train_fn_efcb6b91</td><td style=\"text-align: right;\">  0.896251</td><td style=\"text-align: right;\">      0.0519877</td><td style=\"text-align: right;\">                     3</td><td style=\"text-align: right;\">0.0481083</td><td style=\"text-align: right;\">        0.888618</td><td style=\"text-align: right;\">  0.055867  </td></tr>\n",
       "<tr><td>train_fn_f4f11c61</td><td style=\"text-align: right;\">  0.896251</td><td style=\"text-align: right;\">      0.052501 </td><td style=\"text-align: right;\">                     3</td><td style=\"text-align: right;\">0.050289 </td><td style=\"text-align: right;\">        0.888618</td><td style=\"text-align: right;\">  0.054713  </td></tr>\n",
       "<tr><td>train_fn_f54a9490</td><td style=\"text-align: right;\">  0.902069</td><td style=\"text-align: right;\">      0.0503268</td><td style=\"text-align: right;\">                     5</td><td style=\"text-align: right;\">0.0410251</td><td style=\"text-align: right;\">        0.941858</td><td style=\"text-align: right;\">  0.0224218 </td></tr>\n",
       "<tr><td>train_fn_f5ee23f8</td><td style=\"text-align: right;\">  0.920814</td><td style=\"text-align: right;\">      0.0412147</td><td style=\"text-align: right;\">                     9</td><td style=\"text-align: right;\">0.0315285</td><td style=\"text-align: right;\">        0.965298</td><td style=\"text-align: right;\">  0.012156  </td></tr>\n",
       "<tr><td>train_fn_f727ef99</td><td style=\"text-align: right;\">  0.896251</td><td style=\"text-align: right;\">      0.0907037</td><td style=\"text-align: right;\">                     5</td><td style=\"text-align: right;\">0.0796937</td><td style=\"text-align: right;\">        0.887701</td><td style=\"text-align: right;\">  0.101714  </td></tr>\n",
       "<tr><td>train_fn_f8e72998</td><td style=\"text-align: right;\">  0.914997</td><td style=\"text-align: right;\">      0.0416037</td><td style=\"text-align: right;\">                    12</td><td style=\"text-align: right;\">0.0300058</td><td style=\"text-align: right;\">        0.974756</td><td style=\"text-align: right;\">  0.00681015</td></tr>\n",
       "<tr><td>train_fn_f90ab6f6</td><td style=\"text-align: right;\">  0.896251</td><td style=\"text-align: right;\">      0.0524108</td><td style=\"text-align: right;\">                     5</td><td style=\"text-align: right;\">0.0503676</td><td style=\"text-align: right;\">        0.888618</td><td style=\"text-align: right;\">  0.0544539 </td></tr>\n",
       "<tr><td>train_fn_fb6accfc</td><td style=\"text-align: right;\">  0.896251</td><td style=\"text-align: right;\">      0.0542055</td><td style=\"text-align: right;\">                     5</td><td style=\"text-align: right;\">0.0504637</td><td style=\"text-align: right;\">        0.888618</td><td style=\"text-align: right;\">  0.0579473 </td></tr>\n",
       "<tr><td>train_fn_fe5b5527</td><td style=\"text-align: right;\">  0.91532 </td><td style=\"text-align: right;\">      0.0430757</td><td style=\"text-align: right;\">                    12</td><td style=\"text-align: right;\">0.0313541</td><td style=\"text-align: right;\">        0.974219</td><td style=\"text-align: right;\">  0.00791094</td></tr>\n",
       "<tr><td>train_fn_fed786e8</td><td style=\"text-align: right;\">  0.915643</td><td style=\"text-align: right;\">      0.0365665</td><td style=\"text-align: right;\">                     5</td><td style=\"text-align: right;\">0.033461 </td><td style=\"text-align: right;\">        0.931672</td><td style=\"text-align: right;\">  0.0272499 </td></tr>\n",
       "<tr><td>train_fn_ff7091ec</td><td style=\"text-align: right;\">  0.914997</td><td style=\"text-align: right;\">      0.0452415</td><td style=\"text-align: right;\">                    11</td><td style=\"text-align: right;\">0.0335598</td><td style=\"text-align: right;\">        0.970391</td><td style=\"text-align: right;\">  0.0101963 </td></tr>\n",
       "</tbody>\n",
       "</table>\n",
       "</div>\n",
       "<style>\n",
       ".trialProgress {\n",
       "  display: flex;\n",
       "  flex-direction: column;\n",
       "  color: var(--jp-ui-font-color1);\n",
       "}\n",
       ".trialProgress h3 {\n",
       "  font-weight: bold;\n",
       "}\n",
       ".trialProgress td {\n",
       "  white-space: nowrap;\n",
       "}\n",
       "</style>\n"
      ],
      "text/plain": [
       "<IPython.core.display.HTML object>"
      ]
     },
     "metadata": {},
     "output_type": "display_data"
    },
    {
     "name": "stderr",
     "output_type": "stream",
     "text": [
      "\u001b[36m(train_fn pid=482)\u001b[0m /opt/conda/lib/python3.10/site-packages/transformers/tokenization_utils_base.py:1601: FutureWarning: `clean_up_tokenization_spaces` was not set. It will be set to `True` by default. This behavior will be depracted in transformers v4.45, and will be then set to `False` by default. For more details check this issue: https://github.com/huggingface/transformers/issues/31884\u001b[32m [repeated 2x across cluster] (Ray deduplicates logs by default. Set RAY_DEDUP_LOGS=0 to disable log deduplication, or see https://docs.ray.io/en/master/ray-observability/user-guides/configure-logging.html#log-deduplication for more options.)\u001b[0m\n",
      "\u001b[36m(train_fn pid=482)\u001b[0m   warnings.warn(\u001b[32m [repeated 2x across cluster]\u001b[0m\n",
      "\u001b[36m(train_fn pid=560)\u001b[0m /opt/conda/lib/python3.10/site-packages/transformers/tokenization_utils_base.py:1601: FutureWarning: `clean_up_tokenization_spaces` was not set. It will be set to `True` by default. This behavior will be depracted in transformers v4.45, and will be then set to `False` by default. For more details check this issue: https://github.com/huggingface/transformers/issues/31884\n",
      "\u001b[36m(train_fn pid=560)\u001b[0m   warnings.warn(\n",
      "\u001b[36m(train_fn pid=641)\u001b[0m /opt/conda/lib/python3.10/site-packages/transformers/tokenization_utils_base.py:1601: FutureWarning: `clean_up_tokenization_spaces` was not set. It will be set to `True` by default. This behavior will be depracted in transformers v4.45, and will be then set to `False` by default. For more details check this issue: https://github.com/huggingface/transformers/issues/31884\n",
      "\u001b[36m(train_fn pid=641)\u001b[0m   warnings.warn(\n",
      "\u001b[36m(train_fn pid=728)\u001b[0m /opt/conda/lib/python3.10/site-packages/transformers/tokenization_utils_base.py:1601: FutureWarning: `clean_up_tokenization_spaces` was not set. It will be set to `True` by default. This behavior will be depracted in transformers v4.45, and will be then set to `False` by default. For more details check this issue: https://github.com/huggingface/transformers/issues/31884\n",
      "\u001b[36m(train_fn pid=728)\u001b[0m   warnings.warn(\n",
      "\u001b[36m(train_fn pid=829)\u001b[0m /opt/conda/lib/python3.10/site-packages/transformers/tokenization_utils_base.py:1601: FutureWarning: `clean_up_tokenization_spaces` was not set. It will be set to `True` by default. This behavior will be depracted in transformers v4.45, and will be then set to `False` by default. For more details check this issue: https://github.com/huggingface/transformers/issues/31884\n",
      "\u001b[36m(train_fn pid=829)\u001b[0m   warnings.warn(\n",
      "\u001b[36m(train_fn pid=922)\u001b[0m /opt/conda/lib/python3.10/site-packages/transformers/tokenization_utils_base.py:1601: FutureWarning: `clean_up_tokenization_spaces` was not set. It will be set to `True` by default. This behavior will be depracted in transformers v4.45, and will be then set to `False` by default. For more details check this issue: https://github.com/huggingface/transformers/issues/31884\n",
      "\u001b[36m(train_fn pid=922)\u001b[0m   warnings.warn(\n",
      "\u001b[36m(train_fn pid=1001)\u001b[0m /opt/conda/lib/python3.10/site-packages/transformers/tokenization_utils_base.py:1601: FutureWarning: `clean_up_tokenization_spaces` was not set. It will be set to `True` by default. This behavior will be depracted in transformers v4.45, and will be then set to `False` by default. For more details check this issue: https://github.com/huggingface/transformers/issues/31884\n",
      "\u001b[36m(train_fn pid=1001)\u001b[0m   warnings.warn(\n",
      "\u001b[36m(train_fn pid=1098)\u001b[0m /opt/conda/lib/python3.10/site-packages/transformers/tokenization_utils_base.py:1601: FutureWarning: `clean_up_tokenization_spaces` was not set. It will be set to `True` by default. This behavior will be depracted in transformers v4.45, and will be then set to `False` by default. For more details check this issue: https://github.com/huggingface/transformers/issues/31884\n",
      "\u001b[36m(train_fn pid=1098)\u001b[0m   warnings.warn(\n",
      "\u001b[36m(train_fn pid=1169)\u001b[0m /opt/conda/lib/python3.10/site-packages/transformers/tokenization_utils_base.py:1601: FutureWarning: `clean_up_tokenization_spaces` was not set. It will be set to `True` by default. This behavior will be depracted in transformers v4.45, and will be then set to `False` by default. For more details check this issue: https://github.com/huggingface/transformers/issues/31884\n",
      "\u001b[36m(train_fn pid=1169)\u001b[0m   warnings.warn(\n",
      "\u001b[36m(train_fn pid=1269)\u001b[0m /opt/conda/lib/python3.10/site-packages/transformers/tokenization_utils_base.py:1601: FutureWarning: `clean_up_tokenization_spaces` was not set. It will be set to `True` by default. This behavior will be depracted in transformers v4.45, and will be then set to `False` by default. For more details check this issue: https://github.com/huggingface/transformers/issues/31884\n",
      "\u001b[36m(train_fn pid=1269)\u001b[0m   warnings.warn(\n",
      "\u001b[36m(train_fn pid=1346)\u001b[0m /opt/conda/lib/python3.10/site-packages/transformers/tokenization_utils_base.py:1601: FutureWarning: `clean_up_tokenization_spaces` was not set. It will be set to `True` by default. This behavior will be depracted in transformers v4.45, and will be then set to `False` by default. For more details check this issue: https://github.com/huggingface/transformers/issues/31884\n",
      "\u001b[36m(train_fn pid=1346)\u001b[0m   warnings.warn(\n",
      "\u001b[36m(train_fn pid=1428)\u001b[0m /opt/conda/lib/python3.10/site-packages/transformers/tokenization_utils_base.py:1601: FutureWarning: `clean_up_tokenization_spaces` was not set. It will be set to `True` by default. This behavior will be depracted in transformers v4.45, and will be then set to `False` by default. For more details check this issue: https://github.com/huggingface/transformers/issues/31884\n",
      "\u001b[36m(train_fn pid=1428)\u001b[0m   warnings.warn(\n",
      "\u001b[36m(train_fn pid=1556)\u001b[0m /opt/conda/lib/python3.10/site-packages/transformers/tokenization_utils_base.py:1601: FutureWarning: `clean_up_tokenization_spaces` was not set. It will be set to `True` by default. This behavior will be depracted in transformers v4.45, and will be then set to `False` by default. For more details check this issue: https://github.com/huggingface/transformers/issues/31884\n",
      "\u001b[36m(train_fn pid=1556)\u001b[0m   warnings.warn(\n",
      "\u001b[36m(train_fn pid=1631)\u001b[0m /opt/conda/lib/python3.10/site-packages/transformers/tokenization_utils_base.py:1601: FutureWarning: `clean_up_tokenization_spaces` was not set. It will be set to `True` by default. This behavior will be depracted in transformers v4.45, and will be then set to `False` by default. For more details check this issue: https://github.com/huggingface/transformers/issues/31884\n",
      "\u001b[36m(train_fn pid=1631)\u001b[0m   warnings.warn(\n",
      "\u001b[36m(train_fn pid=1766)\u001b[0m /opt/conda/lib/python3.10/site-packages/transformers/tokenization_utils_base.py:1601: FutureWarning: `clean_up_tokenization_spaces` was not set. It will be set to `True` by default. This behavior will be depracted in transformers v4.45, and will be then set to `False` by default. For more details check this issue: https://github.com/huggingface/transformers/issues/31884\n",
      "\u001b[36m(train_fn pid=1766)\u001b[0m   warnings.warn(\n",
      "\u001b[36m(train_fn pid=1802)\u001b[0m /opt/conda/lib/python3.10/site-packages/transformers/tokenization_utils_base.py:1601: FutureWarning: `clean_up_tokenization_spaces` was not set. It will be set to `True` by default. This behavior will be depracted in transformers v4.45, and will be then set to `False` by default. For more details check this issue: https://github.com/huggingface/transformers/issues/31884\n",
      "\u001b[36m(train_fn pid=1802)\u001b[0m   warnings.warn(\n",
      "\u001b[36m(train_fn pid=1898)\u001b[0m /opt/conda/lib/python3.10/site-packages/transformers/tokenization_utils_base.py:1601: FutureWarning: `clean_up_tokenization_spaces` was not set. It will be set to `True` by default. This behavior will be depracted in transformers v4.45, and will be then set to `False` by default. For more details check this issue: https://github.com/huggingface/transformers/issues/31884\n",
      "\u001b[36m(train_fn pid=1898)\u001b[0m   warnings.warn(\n",
      "\u001b[36m(train_fn pid=1997)\u001b[0m /opt/conda/lib/python3.10/site-packages/transformers/tokenization_utils_base.py:1601: FutureWarning: `clean_up_tokenization_spaces` was not set. It will be set to `True` by default. This behavior will be depracted in transformers v4.45, and will be then set to `False` by default. For more details check this issue: https://github.com/huggingface/transformers/issues/31884\n",
      "\u001b[36m(train_fn pid=1997)\u001b[0m   warnings.warn(\n",
      "\u001b[36m(train_fn pid=2090)\u001b[0m /opt/conda/lib/python3.10/site-packages/transformers/tokenization_utils_base.py:1601: FutureWarning: `clean_up_tokenization_spaces` was not set. It will be set to `True` by default. This behavior will be depracted in transformers v4.45, and will be then set to `False` by default. For more details check this issue: https://github.com/huggingface/transformers/issues/31884\n",
      "\u001b[36m(train_fn pid=2090)\u001b[0m   warnings.warn(\n",
      "\u001b[36m(train_fn pid=2196)\u001b[0m /opt/conda/lib/python3.10/site-packages/transformers/tokenization_utils_base.py:1601: FutureWarning: `clean_up_tokenization_spaces` was not set. It will be set to `True` by default. This behavior will be depracted in transformers v4.45, and will be then set to `False` by default. For more details check this issue: https://github.com/huggingface/transformers/issues/31884\n",
      "\u001b[36m(train_fn pid=2196)\u001b[0m   warnings.warn(\n",
      "\u001b[36m(train_fn pid=2278)\u001b[0m /opt/conda/lib/python3.10/site-packages/transformers/tokenization_utils_base.py:1601: FutureWarning: `clean_up_tokenization_spaces` was not set. It will be set to `True` by default. This behavior will be depracted in transformers v4.45, and will be then set to `False` by default. For more details check this issue: https://github.com/huggingface/transformers/issues/31884\n",
      "\u001b[36m(train_fn pid=2278)\u001b[0m   warnings.warn(\n",
      "\u001b[36m(train_fn pid=2372)\u001b[0m /opt/conda/lib/python3.10/site-packages/transformers/tokenization_utils_base.py:1601: FutureWarning: `clean_up_tokenization_spaces` was not set. It will be set to `True` by default. This behavior will be depracted in transformers v4.45, and will be then set to `False` by default. For more details check this issue: https://github.com/huggingface/transformers/issues/31884\n",
      "\u001b[36m(train_fn pid=2372)\u001b[0m   warnings.warn(\n",
      "\u001b[36m(train_fn pid=2448)\u001b[0m /opt/conda/lib/python3.10/site-packages/transformers/tokenization_utils_base.py:1601: FutureWarning: `clean_up_tokenization_spaces` was not set. It will be set to `True` by default. This behavior will be depracted in transformers v4.45, and will be then set to `False` by default. For more details check this issue: https://github.com/huggingface/transformers/issues/31884\n",
      "\u001b[36m(train_fn pid=2448)\u001b[0m   warnings.warn(\n",
      "\u001b[36m(train_fn pid=2548)\u001b[0m /opt/conda/lib/python3.10/site-packages/transformers/tokenization_utils_base.py:1601: FutureWarning: `clean_up_tokenization_spaces` was not set. It will be set to `True` by default. This behavior will be depracted in transformers v4.45, and will be then set to `False` by default. For more details check this issue: https://github.com/huggingface/transformers/issues/31884\n",
      "\u001b[36m(train_fn pid=2548)\u001b[0m   warnings.warn(\n",
      "\u001b[36m(train_fn pid=2648)\u001b[0m /opt/conda/lib/python3.10/site-packages/transformers/tokenization_utils_base.py:1601: FutureWarning: `clean_up_tokenization_spaces` was not set. It will be set to `True` by default. This behavior will be depracted in transformers v4.45, and will be then set to `False` by default. For more details check this issue: https://github.com/huggingface/transformers/issues/31884\n",
      "\u001b[36m(train_fn pid=2648)\u001b[0m   warnings.warn(\n",
      "\u001b[36m(train_fn pid=2758)\u001b[0m /opt/conda/lib/python3.10/site-packages/transformers/tokenization_utils_base.py:1601: FutureWarning: `clean_up_tokenization_spaces` was not set. It will be set to `True` by default. This behavior will be depracted in transformers v4.45, and will be then set to `False` by default. For more details check this issue: https://github.com/huggingface/transformers/issues/31884\n",
      "\u001b[36m(train_fn pid=2758)\u001b[0m   warnings.warn(\n",
      "\u001b[36m(train_fn pid=2857)\u001b[0m /opt/conda/lib/python3.10/site-packages/transformers/tokenization_utils_base.py:1601: FutureWarning: `clean_up_tokenization_spaces` was not set. It will be set to `True` by default. This behavior will be depracted in transformers v4.45, and will be then set to `False` by default. For more details check this issue: https://github.com/huggingface/transformers/issues/31884\n",
      "\u001b[36m(train_fn pid=2857)\u001b[0m   warnings.warn(\n",
      "\u001b[36m(train_fn pid=2968)\u001b[0m /opt/conda/lib/python3.10/site-packages/transformers/tokenization_utils_base.py:1601: FutureWarning: `clean_up_tokenization_spaces` was not set. It will be set to `True` by default. This behavior will be depracted in transformers v4.45, and will be then set to `False` by default. For more details check this issue: https://github.com/huggingface/transformers/issues/31884\n",
      "\u001b[36m(train_fn pid=2968)\u001b[0m   warnings.warn(\n",
      "\u001b[36m(train_fn pid=3052)\u001b[0m /opt/conda/lib/python3.10/site-packages/transformers/tokenization_utils_base.py:1601: FutureWarning: `clean_up_tokenization_spaces` was not set. It will be set to `True` by default. This behavior will be depracted in transformers v4.45, and will be then set to `False` by default. For more details check this issue: https://github.com/huggingface/transformers/issues/31884\n",
      "\u001b[36m(train_fn pid=3052)\u001b[0m   warnings.warn(\n",
      "\u001b[36m(train_fn pid=3140)\u001b[0m /opt/conda/lib/python3.10/site-packages/transformers/tokenization_utils_base.py:1601: FutureWarning: `clean_up_tokenization_spaces` was not set. It will be set to `True` by default. This behavior will be depracted in transformers v4.45, and will be then set to `False` by default. For more details check this issue: https://github.com/huggingface/transformers/issues/31884\n",
      "\u001b[36m(train_fn pid=3140)\u001b[0m   warnings.warn(\n",
      "\u001b[36m(train_fn pid=3222)\u001b[0m /opt/conda/lib/python3.10/site-packages/transformers/tokenization_utils_base.py:1601: FutureWarning: `clean_up_tokenization_spaces` was not set. It will be set to `True` by default. This behavior will be depracted in transformers v4.45, and will be then set to `False` by default. For more details check this issue: https://github.com/huggingface/transformers/issues/31884\n",
      "\u001b[36m(train_fn pid=3222)\u001b[0m   warnings.warn(\n",
      "\u001b[36m(train_fn pid=3307)\u001b[0m /opt/conda/lib/python3.10/site-packages/transformers/tokenization_utils_base.py:1601: FutureWarning: `clean_up_tokenization_spaces` was not set. It will be set to `True` by default. This behavior will be depracted in transformers v4.45, and will be then set to `False` by default. For more details check this issue: https://github.com/huggingface/transformers/issues/31884\n",
      "\u001b[36m(train_fn pid=3307)\u001b[0m   warnings.warn(\n",
      "\u001b[36m(train_fn pid=3390)\u001b[0m /opt/conda/lib/python3.10/site-packages/transformers/tokenization_utils_base.py:1601: FutureWarning: `clean_up_tokenization_spaces` was not set. It will be set to `True` by default. This behavior will be depracted in transformers v4.45, and will be then set to `False` by default. For more details check this issue: https://github.com/huggingface/transformers/issues/31884\n",
      "\u001b[36m(train_fn pid=3390)\u001b[0m   warnings.warn(\n",
      "\u001b[36m(train_fn pid=3478)\u001b[0m /opt/conda/lib/python3.10/site-packages/transformers/tokenization_utils_base.py:1601: FutureWarning: `clean_up_tokenization_spaces` was not set. It will be set to `True` by default. This behavior will be depracted in transformers v4.45, and will be then set to `False` by default. For more details check this issue: https://github.com/huggingface/transformers/issues/31884\n",
      "\u001b[36m(train_fn pid=3478)\u001b[0m   warnings.warn(\n",
      "\u001b[36m(train_fn pid=3561)\u001b[0m /opt/conda/lib/python3.10/site-packages/transformers/tokenization_utils_base.py:1601: FutureWarning: `clean_up_tokenization_spaces` was not set. It will be set to `True` by default. This behavior will be depracted in transformers v4.45, and will be then set to `False` by default. For more details check this issue: https://github.com/huggingface/transformers/issues/31884\n",
      "\u001b[36m(train_fn pid=3561)\u001b[0m   warnings.warn(\n",
      "\u001b[36m(train_fn pid=3649)\u001b[0m /opt/conda/lib/python3.10/site-packages/transformers/tokenization_utils_base.py:1601: FutureWarning: `clean_up_tokenization_spaces` was not set. It will be set to `True` by default. This behavior will be depracted in transformers v4.45, and will be then set to `False` by default. For more details check this issue: https://github.com/huggingface/transformers/issues/31884\n",
      "\u001b[36m(train_fn pid=3649)\u001b[0m   warnings.warn(\n",
      "\u001b[36m(train_fn pid=3731)\u001b[0m /opt/conda/lib/python3.10/site-packages/transformers/tokenization_utils_base.py:1601: FutureWarning: `clean_up_tokenization_spaces` was not set. It will be set to `True` by default. This behavior will be depracted in transformers v4.45, and will be then set to `False` by default. For more details check this issue: https://github.com/huggingface/transformers/issues/31884\n",
      "\u001b[36m(train_fn pid=3731)\u001b[0m   warnings.warn(\n",
      "\u001b[36m(train_fn pid=3820)\u001b[0m /opt/conda/lib/python3.10/site-packages/transformers/tokenization_utils_base.py:1601: FutureWarning: `clean_up_tokenization_spaces` was not set. It will be set to `True` by default. This behavior will be depracted in transformers v4.45, and will be then set to `False` by default. For more details check this issue: https://github.com/huggingface/transformers/issues/31884\n",
      "\u001b[36m(train_fn pid=3820)\u001b[0m   warnings.warn(\n",
      "\u001b[36m(train_fn pid=3902)\u001b[0m /opt/conda/lib/python3.10/site-packages/transformers/tokenization_utils_base.py:1601: FutureWarning: `clean_up_tokenization_spaces` was not set. It will be set to `True` by default. This behavior will be depracted in transformers v4.45, and will be then set to `False` by default. For more details check this issue: https://github.com/huggingface/transformers/issues/31884\n",
      "\u001b[36m(train_fn pid=3902)\u001b[0m   warnings.warn(\n",
      "\u001b[36m(train_fn pid=3978)\u001b[0m /opt/conda/lib/python3.10/site-packages/transformers/tokenization_utils_base.py:1601: FutureWarning: `clean_up_tokenization_spaces` was not set. It will be set to `True` by default. This behavior will be depracted in transformers v4.45, and will be then set to `False` by default. For more details check this issue: https://github.com/huggingface/transformers/issues/31884\n",
      "\u001b[36m(train_fn pid=3978)\u001b[0m   warnings.warn(\n",
      "\u001b[36m(train_fn pid=4062)\u001b[0m /opt/conda/lib/python3.10/site-packages/transformers/tokenization_utils_base.py:1601: FutureWarning: `clean_up_tokenization_spaces` was not set. It will be set to `True` by default. This behavior will be depracted in transformers v4.45, and will be then set to `False` by default. For more details check this issue: https://github.com/huggingface/transformers/issues/31884\n",
      "\u001b[36m(train_fn pid=4062)\u001b[0m   warnings.warn(\n",
      "\u001b[36m(train_fn pid=4136)\u001b[0m /opt/conda/lib/python3.10/site-packages/transformers/tokenization_utils_base.py:1601: FutureWarning: `clean_up_tokenization_spaces` was not set. It will be set to `True` by default. This behavior will be depracted in transformers v4.45, and will be then set to `False` by default. For more details check this issue: https://github.com/huggingface/transformers/issues/31884\n",
      "\u001b[36m(train_fn pid=4136)\u001b[0m   warnings.warn(\n",
      "\u001b[36m(train_fn pid=4220)\u001b[0m /opt/conda/lib/python3.10/site-packages/transformers/tokenization_utils_base.py:1601: FutureWarning: `clean_up_tokenization_spaces` was not set. It will be set to `True` by default. This behavior will be depracted in transformers v4.45, and will be then set to `False` by default. For more details check this issue: https://github.com/huggingface/transformers/issues/31884\n",
      "\u001b[36m(train_fn pid=4220)\u001b[0m   warnings.warn(\n",
      "\u001b[36m(train_fn pid=4296)\u001b[0m /opt/conda/lib/python3.10/site-packages/transformers/tokenization_utils_base.py:1601: FutureWarning: `clean_up_tokenization_spaces` was not set. It will be set to `True` by default. This behavior will be depracted in transformers v4.45, and will be then set to `False` by default. For more details check this issue: https://github.com/huggingface/transformers/issues/31884\n",
      "\u001b[36m(train_fn pid=4296)\u001b[0m   warnings.warn(\n",
      "\u001b[36m(train_fn pid=4379)\u001b[0m /opt/conda/lib/python3.10/site-packages/transformers/tokenization_utils_base.py:1601: FutureWarning: `clean_up_tokenization_spaces` was not set. It will be set to `True` by default. This behavior will be depracted in transformers v4.45, and will be then set to `False` by default. For more details check this issue: https://github.com/huggingface/transformers/issues/31884\n",
      "\u001b[36m(train_fn pid=4379)\u001b[0m   warnings.warn(\n",
      "\u001b[36m(train_fn pid=4455)\u001b[0m /opt/conda/lib/python3.10/site-packages/transformers/tokenization_utils_base.py:1601: FutureWarning: `clean_up_tokenization_spaces` was not set. It will be set to `True` by default. This behavior will be depracted in transformers v4.45, and will be then set to `False` by default. For more details check this issue: https://github.com/huggingface/transformers/issues/31884\n",
      "\u001b[36m(train_fn pid=4455)\u001b[0m   warnings.warn(\n",
      "\u001b[36m(train_fn pid=4539)\u001b[0m /opt/conda/lib/python3.10/site-packages/transformers/tokenization_utils_base.py:1601: FutureWarning: `clean_up_tokenization_spaces` was not set. It will be set to `True` by default. This behavior will be depracted in transformers v4.45, and will be then set to `False` by default. For more details check this issue: https://github.com/huggingface/transformers/issues/31884\n",
      "\u001b[36m(train_fn pid=4539)\u001b[0m   warnings.warn(\n",
      "\u001b[36m(train_fn pid=4615)\u001b[0m /opt/conda/lib/python3.10/site-packages/transformers/tokenization_utils_base.py:1601: FutureWarning: `clean_up_tokenization_spaces` was not set. It will be set to `True` by default. This behavior will be depracted in transformers v4.45, and will be then set to `False` by default. For more details check this issue: https://github.com/huggingface/transformers/issues/31884\n",
      "\u001b[36m(train_fn pid=4615)\u001b[0m   warnings.warn(\n",
      "\u001b[36m(train_fn pid=4698)\u001b[0m /opt/conda/lib/python3.10/site-packages/transformers/tokenization_utils_base.py:1601: FutureWarning: `clean_up_tokenization_spaces` was not set. It will be set to `True` by default. This behavior will be depracted in transformers v4.45, and will be then set to `False` by default. For more details check this issue: https://github.com/huggingface/transformers/issues/31884\n",
      "\u001b[36m(train_fn pid=4698)\u001b[0m   warnings.warn(\n",
      "\u001b[36m(train_fn pid=4774)\u001b[0m /opt/conda/lib/python3.10/site-packages/transformers/tokenization_utils_base.py:1601: FutureWarning: `clean_up_tokenization_spaces` was not set. It will be set to `True` by default. This behavior will be depracted in transformers v4.45, and will be then set to `False` by default. For more details check this issue: https://github.com/huggingface/transformers/issues/31884\n",
      "\u001b[36m(train_fn pid=4774)\u001b[0m   warnings.warn(\n",
      "\u001b[36m(train_fn pid=4858)\u001b[0m /opt/conda/lib/python3.10/site-packages/transformers/tokenization_utils_base.py:1601: FutureWarning: `clean_up_tokenization_spaces` was not set. It will be set to `True` by default. This behavior will be depracted in transformers v4.45, and will be then set to `False` by default. For more details check this issue: https://github.com/huggingface/transformers/issues/31884\n",
      "\u001b[36m(train_fn pid=4858)\u001b[0m   warnings.warn(\n",
      "\u001b[36m(train_fn pid=4935)\u001b[0m /opt/conda/lib/python3.10/site-packages/transformers/tokenization_utils_base.py:1601: FutureWarning: `clean_up_tokenization_spaces` was not set. It will be set to `True` by default. This behavior will be depracted in transformers v4.45, and will be then set to `False` by default. For more details check this issue: https://github.com/huggingface/transformers/issues/31884\n",
      "\u001b[36m(train_fn pid=4935)\u001b[0m   warnings.warn(\n",
      "\u001b[36m(train_fn pid=5016)\u001b[0m /opt/conda/lib/python3.10/site-packages/transformers/tokenization_utils_base.py:1601: FutureWarning: `clean_up_tokenization_spaces` was not set. It will be set to `True` by default. This behavior will be depracted in transformers v4.45, and will be then set to `False` by default. For more details check this issue: https://github.com/huggingface/transformers/issues/31884\n",
      "\u001b[36m(train_fn pid=5016)\u001b[0m   warnings.warn(\n",
      "\u001b[36m(train_fn pid=5121)\u001b[0m /opt/conda/lib/python3.10/site-packages/transformers/tokenization_utils_base.py:1601: FutureWarning: `clean_up_tokenization_spaces` was not set. It will be set to `True` by default. This behavior will be depracted in transformers v4.45, and will be then set to `False` by default. For more details check this issue: https://github.com/huggingface/transformers/issues/31884\n",
      "\u001b[36m(train_fn pid=5121)\u001b[0m   warnings.warn(\n",
      "\u001b[36m(train_fn pid=5215)\u001b[0m /opt/conda/lib/python3.10/site-packages/transformers/tokenization_utils_base.py:1601: FutureWarning: `clean_up_tokenization_spaces` was not set. It will be set to `True` by default. This behavior will be depracted in transformers v4.45, and will be then set to `False` by default. For more details check this issue: https://github.com/huggingface/transformers/issues/31884\n",
      "\u001b[36m(train_fn pid=5215)\u001b[0m   warnings.warn(\n",
      "\u001b[36m(train_fn pid=5303)\u001b[0m /opt/conda/lib/python3.10/site-packages/transformers/tokenization_utils_base.py:1601: FutureWarning: `clean_up_tokenization_spaces` was not set. It will be set to `True` by default. This behavior will be depracted in transformers v4.45, and will be then set to `False` by default. For more details check this issue: https://github.com/huggingface/transformers/issues/31884\n",
      "\u001b[36m(train_fn pid=5303)\u001b[0m   warnings.warn(\n",
      "\u001b[36m(train_fn pid=5391)\u001b[0m /opt/conda/lib/python3.10/site-packages/transformers/tokenization_utils_base.py:1601: FutureWarning: `clean_up_tokenization_spaces` was not set. It will be set to `True` by default. This behavior will be depracted in transformers v4.45, and will be then set to `False` by default. For more details check this issue: https://github.com/huggingface/transformers/issues/31884\n",
      "\u001b[36m(train_fn pid=5391)\u001b[0m   warnings.warn(\n",
      "\u001b[36m(train_fn pid=5479)\u001b[0m /opt/conda/lib/python3.10/site-packages/transformers/tokenization_utils_base.py:1601: FutureWarning: `clean_up_tokenization_spaces` was not set. It will be set to `True` by default. This behavior will be depracted in transformers v4.45, and will be then set to `False` by default. For more details check this issue: https://github.com/huggingface/transformers/issues/31884\n",
      "\u001b[36m(train_fn pid=5479)\u001b[0m   warnings.warn(\n",
      "\u001b[36m(train_fn pid=5567)\u001b[0m /opt/conda/lib/python3.10/site-packages/transformers/tokenization_utils_base.py:1601: FutureWarning: `clean_up_tokenization_spaces` was not set. It will be set to `True` by default. This behavior will be depracted in transformers v4.45, and will be then set to `False` by default. For more details check this issue: https://github.com/huggingface/transformers/issues/31884\n",
      "\u001b[36m(train_fn pid=5567)\u001b[0m   warnings.warn(\n",
      "\u001b[36m(train_fn pid=5637)\u001b[0m /opt/conda/lib/python3.10/site-packages/transformers/tokenization_utils_base.py:1601: FutureWarning: `clean_up_tokenization_spaces` was not set. It will be set to `True` by default. This behavior will be depracted in transformers v4.45, and will be then set to `False` by default. For more details check this issue: https://github.com/huggingface/transformers/issues/31884\n",
      "\u001b[36m(train_fn pid=5637)\u001b[0m   warnings.warn(\n",
      "\u001b[36m(train_fn pid=5727)\u001b[0m /opt/conda/lib/python3.10/site-packages/transformers/tokenization_utils_base.py:1601: FutureWarning: `clean_up_tokenization_spaces` was not set. It will be set to `True` by default. This behavior will be depracted in transformers v4.45, and will be then set to `False` by default. For more details check this issue: https://github.com/huggingface/transformers/issues/31884\n",
      "\u001b[36m(train_fn pid=5727)\u001b[0m   warnings.warn(\n",
      "\u001b[36m(train_fn pid=5797)\u001b[0m /opt/conda/lib/python3.10/site-packages/transformers/tokenization_utils_base.py:1601: FutureWarning: `clean_up_tokenization_spaces` was not set. It will be set to `True` by default. This behavior will be depracted in transformers v4.45, and will be then set to `False` by default. For more details check this issue: https://github.com/huggingface/transformers/issues/31884\n",
      "\u001b[36m(train_fn pid=5797)\u001b[0m   warnings.warn(\n",
      "\u001b[36m(train_fn pid=5903)\u001b[0m /opt/conda/lib/python3.10/site-packages/transformers/tokenization_utils_base.py:1601: FutureWarning: `clean_up_tokenization_spaces` was not set. It will be set to `True` by default. This behavior will be depracted in transformers v4.45, and will be then set to `False` by default. For more details check this issue: https://github.com/huggingface/transformers/issues/31884\n",
      "\u001b[36m(train_fn pid=5903)\u001b[0m   warnings.warn(\n",
      "\u001b[36m(train_fn pid=5973)\u001b[0m /opt/conda/lib/python3.10/site-packages/transformers/tokenization_utils_base.py:1601: FutureWarning: `clean_up_tokenization_spaces` was not set. It will be set to `True` by default. This behavior will be depracted in transformers v4.45, and will be then set to `False` by default. For more details check this issue: https://github.com/huggingface/transformers/issues/31884\n",
      "\u001b[36m(train_fn pid=5973)\u001b[0m   warnings.warn(\n",
      "\u001b[36m(train_fn pid=6081)\u001b[0m /opt/conda/lib/python3.10/site-packages/transformers/tokenization_utils_base.py:1601: FutureWarning: `clean_up_tokenization_spaces` was not set. It will be set to `True` by default. This behavior will be depracted in transformers v4.45, and will be then set to `False` by default. For more details check this issue: https://github.com/huggingface/transformers/issues/31884\n",
      "\u001b[36m(train_fn pid=6081)\u001b[0m   warnings.warn(\n",
      "\u001b[36m(train_fn pid=6185)\u001b[0m /opt/conda/lib/python3.10/site-packages/transformers/tokenization_utils_base.py:1601: FutureWarning: `clean_up_tokenization_spaces` was not set. It will be set to `True` by default. This behavior will be depracted in transformers v4.45, and will be then set to `False` by default. For more details check this issue: https://github.com/huggingface/transformers/issues/31884\n",
      "\u001b[36m(train_fn pid=6185)\u001b[0m   warnings.warn(\n",
      "\u001b[36m(train_fn pid=6291)\u001b[0m /opt/conda/lib/python3.10/site-packages/transformers/tokenization_utils_base.py:1601: FutureWarning: `clean_up_tokenization_spaces` was not set. It will be set to `True` by default. This behavior will be depracted in transformers v4.45, and will be then set to `False` by default. For more details check this issue: https://github.com/huggingface/transformers/issues/31884\n",
      "\u001b[36m(train_fn pid=6291)\u001b[0m   warnings.warn(\n",
      "\u001b[36m(train_fn pid=6395)\u001b[0m /opt/conda/lib/python3.10/site-packages/transformers/tokenization_utils_base.py:1601: FutureWarning: `clean_up_tokenization_spaces` was not set. It will be set to `True` by default. This behavior will be depracted in transformers v4.45, and will be then set to `False` by default. For more details check this issue: https://github.com/huggingface/transformers/issues/31884\n",
      "\u001b[36m(train_fn pid=6395)\u001b[0m   warnings.warn(\n",
      "\u001b[36m(train_fn pid=6491)\u001b[0m /opt/conda/lib/python3.10/site-packages/transformers/tokenization_utils_base.py:1601: FutureWarning: `clean_up_tokenization_spaces` was not set. It will be set to `True` by default. This behavior will be depracted in transformers v4.45, and will be then set to `False` by default. For more details check this issue: https://github.com/huggingface/transformers/issues/31884\n",
      "\u001b[36m(train_fn pid=6491)\u001b[0m   warnings.warn(\n",
      "\u001b[36m(train_fn pid=6565)\u001b[0m /opt/conda/lib/python3.10/site-packages/transformers/tokenization_utils_base.py:1601: FutureWarning: `clean_up_tokenization_spaces` was not set. It will be set to `True` by default. This behavior will be depracted in transformers v4.45, and will be then set to `False` by default. For more details check this issue: https://github.com/huggingface/transformers/issues/31884\n",
      "\u001b[36m(train_fn pid=6565)\u001b[0m   warnings.warn(\n",
      "\u001b[36m(train_fn pid=6649)\u001b[0m /opt/conda/lib/python3.10/site-packages/transformers/tokenization_utils_base.py:1601: FutureWarning: `clean_up_tokenization_spaces` was not set. It will be set to `True` by default. This behavior will be depracted in transformers v4.45, and will be then set to `False` by default. For more details check this issue: https://github.com/huggingface/transformers/issues/31884\n",
      "\u001b[36m(train_fn pid=6649)\u001b[0m   warnings.warn(\n",
      "\u001b[36m(train_fn pid=6737)\u001b[0m /opt/conda/lib/python3.10/site-packages/transformers/tokenization_utils_base.py:1601: FutureWarning: `clean_up_tokenization_spaces` was not set. It will be set to `True` by default. This behavior will be depracted in transformers v4.45, and will be then set to `False` by default. For more details check this issue: https://github.com/huggingface/transformers/issues/31884\n",
      "\u001b[36m(train_fn pid=6737)\u001b[0m   warnings.warn(\n",
      "\u001b[36m(train_fn pid=6819)\u001b[0m /opt/conda/lib/python3.10/site-packages/transformers/tokenization_utils_base.py:1601: FutureWarning: `clean_up_tokenization_spaces` was not set. It will be set to `True` by default. This behavior will be depracted in transformers v4.45, and will be then set to `False` by default. For more details check this issue: https://github.com/huggingface/transformers/issues/31884\n",
      "\u001b[36m(train_fn pid=6819)\u001b[0m   warnings.warn(\n",
      "\u001b[36m(train_fn pid=6946)\u001b[0m /opt/conda/lib/python3.10/site-packages/transformers/tokenization_utils_base.py:1601: FutureWarning: `clean_up_tokenization_spaces` was not set. It will be set to `True` by default. This behavior will be depracted in transformers v4.45, and will be then set to `False` by default. For more details check this issue: https://github.com/huggingface/transformers/issues/31884\n",
      "\u001b[36m(train_fn pid=6946)\u001b[0m   warnings.warn(\n",
      "\u001b[36m(train_fn pid=7029)\u001b[0m /opt/conda/lib/python3.10/site-packages/transformers/tokenization_utils_base.py:1601: FutureWarning: `clean_up_tokenization_spaces` was not set. It will be set to `True` by default. This behavior will be depracted in transformers v4.45, and will be then set to `False` by default. For more details check this issue: https://github.com/huggingface/transformers/issues/31884\n",
      "\u001b[36m(train_fn pid=7029)\u001b[0m   warnings.warn(\n",
      "\u001b[36m(train_fn pid=7118)\u001b[0m /opt/conda/lib/python3.10/site-packages/transformers/tokenization_utils_base.py:1601: FutureWarning: `clean_up_tokenization_spaces` was not set. It will be set to `True` by default. This behavior will be depracted in transformers v4.45, and will be then set to `False` by default. For more details check this issue: https://github.com/huggingface/transformers/issues/31884\n",
      "\u001b[36m(train_fn pid=7118)\u001b[0m   warnings.warn(\n",
      "\u001b[36m(train_fn pid=7227)\u001b[0m /opt/conda/lib/python3.10/site-packages/transformers/tokenization_utils_base.py:1601: FutureWarning: `clean_up_tokenization_spaces` was not set. It will be set to `True` by default. This behavior will be depracted in transformers v4.45, and will be then set to `False` by default. For more details check this issue: https://github.com/huggingface/transformers/issues/31884\n",
      "\u001b[36m(train_fn pid=7227)\u001b[0m   warnings.warn(\n",
      "\u001b[36m(train_fn pid=7328)\u001b[0m /opt/conda/lib/python3.10/site-packages/transformers/tokenization_utils_base.py:1601: FutureWarning: `clean_up_tokenization_spaces` was not set. It will be set to `True` by default. This behavior will be depracted in transformers v4.45, and will be then set to `False` by default. For more details check this issue: https://github.com/huggingface/transformers/issues/31884\n",
      "\u001b[36m(train_fn pid=7328)\u001b[0m   warnings.warn(\n",
      "\u001b[36m(train_fn pid=7427)\u001b[0m /opt/conda/lib/python3.10/site-packages/transformers/tokenization_utils_base.py:1601: FutureWarning: `clean_up_tokenization_spaces` was not set. It will be set to `True` by default. This behavior will be depracted in transformers v4.45, and will be then set to `False` by default. For more details check this issue: https://github.com/huggingface/transformers/issues/31884\n",
      "\u001b[36m(train_fn pid=7427)\u001b[0m   warnings.warn(\n",
      "\u001b[36m(train_fn pid=7505)\u001b[0m /opt/conda/lib/python3.10/site-packages/transformers/tokenization_utils_base.py:1601: FutureWarning: `clean_up_tokenization_spaces` was not set. It will be set to `True` by default. This behavior will be depracted in transformers v4.45, and will be then set to `False` by default. For more details check this issue: https://github.com/huggingface/transformers/issues/31884\n",
      "\u001b[36m(train_fn pid=7505)\u001b[0m   warnings.warn(\n",
      "\u001b[36m(train_fn pid=7594)\u001b[0m /opt/conda/lib/python3.10/site-packages/transformers/tokenization_utils_base.py:1601: FutureWarning: `clean_up_tokenization_spaces` was not set. It will be set to `True` by default. This behavior will be depracted in transformers v4.45, and will be then set to `False` by default. For more details check this issue: https://github.com/huggingface/transformers/issues/31884\n",
      "\u001b[36m(train_fn pid=7594)\u001b[0m   warnings.warn(\n",
      "\u001b[36m(train_fn pid=7674)\u001b[0m /opt/conda/lib/python3.10/site-packages/transformers/tokenization_utils_base.py:1601: FutureWarning: `clean_up_tokenization_spaces` was not set. It will be set to `True` by default. This behavior will be depracted in transformers v4.45, and will be then set to `False` by default. For more details check this issue: https://github.com/huggingface/transformers/issues/31884\n",
      "\u001b[36m(train_fn pid=7674)\u001b[0m   warnings.warn(\n",
      "\u001b[36m(train_fn pid=7770)\u001b[0m /opt/conda/lib/python3.10/site-packages/transformers/tokenization_utils_base.py:1601: FutureWarning: `clean_up_tokenization_spaces` was not set. It will be set to `True` by default. This behavior will be depracted in transformers v4.45, and will be then set to `False` by default. For more details check this issue: https://github.com/huggingface/transformers/issues/31884\n",
      "\u001b[36m(train_fn pid=7770)\u001b[0m   warnings.warn(\n",
      "\u001b[36m(train_fn pid=7875)\u001b[0m /opt/conda/lib/python3.10/site-packages/transformers/tokenization_utils_base.py:1601: FutureWarning: `clean_up_tokenization_spaces` was not set. It will be set to `True` by default. This behavior will be depracted in transformers v4.45, and will be then set to `False` by default. For more details check this issue: https://github.com/huggingface/transformers/issues/31884\n",
      "\u001b[36m(train_fn pid=7875)\u001b[0m   warnings.warn(\n",
      "\u001b[36m(train_fn pid=7955)\u001b[0m /opt/conda/lib/python3.10/site-packages/transformers/tokenization_utils_base.py:1601: FutureWarning: `clean_up_tokenization_spaces` was not set. It will be set to `True` by default. This behavior will be depracted in transformers v4.45, and will be then set to `False` by default. For more details check this issue: https://github.com/huggingface/transformers/issues/31884\n",
      "\u001b[36m(train_fn pid=7955)\u001b[0m   warnings.warn(\n",
      "\u001b[36m(train_fn pid=8044)\u001b[0m /opt/conda/lib/python3.10/site-packages/transformers/tokenization_utils_base.py:1601: FutureWarning: `clean_up_tokenization_spaces` was not set. It will be set to `True` by default. This behavior will be depracted in transformers v4.45, and will be then set to `False` by default. For more details check this issue: https://github.com/huggingface/transformers/issues/31884\n",
      "\u001b[36m(train_fn pid=8044)\u001b[0m   warnings.warn(\n",
      "\u001b[36m(train_fn pid=8123)\u001b[0m /opt/conda/lib/python3.10/site-packages/transformers/tokenization_utils_base.py:1601: FutureWarning: `clean_up_tokenization_spaces` was not set. It will be set to `True` by default. This behavior will be depracted in transformers v4.45, and will be then set to `False` by default. For more details check this issue: https://github.com/huggingface/transformers/issues/31884\n",
      "\u001b[36m(train_fn pid=8123)\u001b[0m   warnings.warn(\n",
      "\u001b[36m(train_fn pid=8203)\u001b[0m /opt/conda/lib/python3.10/site-packages/transformers/tokenization_utils_base.py:1601: FutureWarning: `clean_up_tokenization_spaces` was not set. It will be set to `True` by default. This behavior will be depracted in transformers v4.45, and will be then set to `False` by default. For more details check this issue: https://github.com/huggingface/transformers/issues/31884\n",
      "\u001b[36m(train_fn pid=8203)\u001b[0m   warnings.warn(\n",
      "\u001b[36m(train_fn pid=8282)\u001b[0m /opt/conda/lib/python3.10/site-packages/transformers/tokenization_utils_base.py:1601: FutureWarning: `clean_up_tokenization_spaces` was not set. It will be set to `True` by default. This behavior will be depracted in transformers v4.45, and will be then set to `False` by default. For more details check this issue: https://github.com/huggingface/transformers/issues/31884\n",
      "\u001b[36m(train_fn pid=8282)\u001b[0m   warnings.warn(\n",
      "\u001b[36m(train_fn pid=8363)\u001b[0m /opt/conda/lib/python3.10/site-packages/transformers/tokenization_utils_base.py:1601: FutureWarning: `clean_up_tokenization_spaces` was not set. It will be set to `True` by default. This behavior will be depracted in transformers v4.45, and will be then set to `False` by default. For more details check this issue: https://github.com/huggingface/transformers/issues/31884\n",
      "\u001b[36m(train_fn pid=8363)\u001b[0m   warnings.warn(\n",
      "\u001b[36m(train_fn pid=8442)\u001b[0m /opt/conda/lib/python3.10/site-packages/transformers/tokenization_utils_base.py:1601: FutureWarning: `clean_up_tokenization_spaces` was not set. It will be set to `True` by default. This behavior will be depracted in transformers v4.45, and will be then set to `False` by default. For more details check this issue: https://github.com/huggingface/transformers/issues/31884\n",
      "\u001b[36m(train_fn pid=8442)\u001b[0m   warnings.warn(\n",
      "\u001b[36m(train_fn pid=8523)\u001b[0m /opt/conda/lib/python3.10/site-packages/transformers/tokenization_utils_base.py:1601: FutureWarning: `clean_up_tokenization_spaces` was not set. It will be set to `True` by default. This behavior will be depracted in transformers v4.45, and will be then set to `False` by default. For more details check this issue: https://github.com/huggingface/transformers/issues/31884\n",
      "\u001b[36m(train_fn pid=8523)\u001b[0m   warnings.warn(\n",
      "\u001b[36m(train_fn pid=8602)\u001b[0m /opt/conda/lib/python3.10/site-packages/transformers/tokenization_utils_base.py:1601: FutureWarning: `clean_up_tokenization_spaces` was not set. It will be set to `True` by default. This behavior will be depracted in transformers v4.45, and will be then set to `False` by default. For more details check this issue: https://github.com/huggingface/transformers/issues/31884\n",
      "\u001b[36m(train_fn pid=8602)\u001b[0m   warnings.warn(\n",
      "\u001b[36m(train_fn pid=8691)\u001b[0m /opt/conda/lib/python3.10/site-packages/transformers/tokenization_utils_base.py:1601: FutureWarning: `clean_up_tokenization_spaces` was not set. It will be set to `True` by default. This behavior will be depracted in transformers v4.45, and will be then set to `False` by default. For more details check this issue: https://github.com/huggingface/transformers/issues/31884\n",
      "\u001b[36m(train_fn pid=8691)\u001b[0m   warnings.warn(\n",
      "\u001b[36m(train_fn pid=8805)\u001b[0m /opt/conda/lib/python3.10/site-packages/transformers/tokenization_utils_base.py:1601: FutureWarning: `clean_up_tokenization_spaces` was not set. It will be set to `True` by default. This behavior will be depracted in transformers v4.45, and will be then set to `False` by default. For more details check this issue: https://github.com/huggingface/transformers/issues/31884\n",
      "\u001b[36m(train_fn pid=8805)\u001b[0m   warnings.warn(\n",
      "\u001b[36m(train_fn pid=8895)\u001b[0m /opt/conda/lib/python3.10/site-packages/transformers/tokenization_utils_base.py:1601: FutureWarning: `clean_up_tokenization_spaces` was not set. It will be set to `True` by default. This behavior will be depracted in transformers v4.45, and will be then set to `False` by default. For more details check this issue: https://github.com/huggingface/transformers/issues/31884\n",
      "\u001b[36m(train_fn pid=8895)\u001b[0m   warnings.warn(\n",
      "\u001b[36m(train_fn pid=8984)\u001b[0m /opt/conda/lib/python3.10/site-packages/transformers/tokenization_utils_base.py:1601: FutureWarning: `clean_up_tokenization_spaces` was not set. It will be set to `True` by default. This behavior will be depracted in transformers v4.45, and will be then set to `False` by default. For more details check this issue: https://github.com/huggingface/transformers/issues/31884\n",
      "\u001b[36m(train_fn pid=8984)\u001b[0m   warnings.warn(\n",
      "\u001b[36m(train_fn pid=9069)\u001b[0m /opt/conda/lib/python3.10/site-packages/transformers/tokenization_utils_base.py:1601: FutureWarning: `clean_up_tokenization_spaces` was not set. It will be set to `True` by default. This behavior will be depracted in transformers v4.45, and will be then set to `False` by default. For more details check this issue: https://github.com/huggingface/transformers/issues/31884\n",
      "\u001b[36m(train_fn pid=9069)\u001b[0m   warnings.warn(\n",
      "2024-11-29 18:43:42,092\tINFO tune.py:1009 -- Wrote the latest version of all result files and experiment state to '/root/ray_results/train_fn_2024-11-29_13-49-00' in 0.0488s.\n",
      "2024-11-29 18:43:42,123\tINFO tune.py:1041 -- Total run time: 17681.97 seconds (17674.70 seconds for the tuning loop).\n"
     ]
    }
   ],
   "source": [
    "# %load_ext tensorboard\n",
    "# %tensorboard --logdir /kaggle/working/tensorboard_logs\n",
    "\n",
    "\n",
    "# ray.init(ignore_reinit_error=True)\n",
    "# reporter = CLIReporter(\n",
    "#     metric_columns=[\"loss\", \"accuracy\", \"custom_metric\", \"training_iteration\", \"train_loss\", \"train_accuracy\", \"early_stopping_epoch\"],\n",
    "#     print_intermediate_tables=False\n",
    "# )\n",
    "\n",
    "reporter = JupyterNotebookReporter(\n",
    "    metric_columns=[\"loss\", \"accuracy\", \"custom_metric\", \"training_iteration\", \"train_loss\", \"train_accuracy\", \"early_stopping_epoch\"],\n",
    "    print_intermediate_tables=False,\n",
    ")\n",
    "\n",
    "# tuner = tune.run(\n",
    "#     train_fn,\n",
    "#     config=search_space,\n",
    "#     num_samples=25,\n",
    "#     progress_reporter=reporter,\n",
    "#     resources_per_trial={\"cpu\": 4, \"gpu\": 2},  # Adjust resources as needed\n",
    "#     scheduler=ASHAScheduler(\n",
    "#         metric=\"accuracy\",\n",
    "#         mode=\"max\",\n",
    "#         max_t=15,\n",
    "#         grace_period=1,\n",
    "#         reduction_factor=2\n",
    "#     )\n",
    "# )\n",
    "\n",
    "# reporter = TensorBoardReporter(\n",
    "#     metric_columns=[\"loss\", \"accuracy\", \"training_iteration\", \"train_loss\", \"train_accuracy\"]\n",
    "# )\n",
    "\n",
    "\n",
    "result = tune.run(\n",
    "    train_fn,\n",
    "    resources_per_trial={\"cpu\": 2, \"gpu\": 1},\n",
    "    config=search_space,\n",
    "    num_samples=100,\n",
    "    scheduler=scheduler,\n",
    "    progress_reporter=reporter,\n",
    "    search_alg=optuna_search\n",
    ")"
   ]
  },
  {
   "cell_type": "markdown",
   "id": "7891fecf",
   "metadata": {
    "papermill": {
     "duration": 0.051568,
     "end_time": "2024-11-29T18:43:42.334071",
     "exception": false,
     "start_time": "2024-11-29T18:43:42.282503",
     "status": "completed"
    },
    "tags": []
   },
   "source": [
    "## REPORTER RESULTS"
   ]
  },
  {
   "cell_type": "code",
   "execution_count": 61,
   "id": "331944d3",
   "metadata": {
    "execution": {
     "iopub.execute_input": "2024-11-29T18:43:42.390717Z",
     "iopub.status.busy": "2024-11-29T18:43:42.389732Z",
     "iopub.status.idle": "2024-11-29T18:43:42.397110Z",
     "shell.execute_reply": "2024-11-29T18:43:42.396298Z"
    },
    "papermill": {
     "duration": 0.03624,
     "end_time": "2024-11-29T18:43:42.398770",
     "exception": false,
     "start_time": "2024-11-29T18:43:42.362530",
     "status": "completed"
    },
    "tags": []
   },
   "outputs": [
    {
     "name": "stdout",
     "output_type": "stream",
     "text": [
      "Best trial config: {'dropout_rate': 0.27, 'batch_size': 32, 'weight_decay': 2e-06, 'lr': 5e-05, 'epochs': 12}\n",
      "Best trial final validation loss: 0.02712196870041745\n",
      "Best trial final validation accuracy: 0.9237233354880414\n",
      "Best trial final training loss: 0.007098021731764393\n",
      "Best trial final training accuracy: 0.975452359863343\n",
      "Best trial final custom_metric: 0.03713394218474397\n",
      "Best trial final Early Stopping Epoch: 12\n",
      "NOTE: Both the accuracy are based on converting values > 0.5 to 1 and values < 0.5 to 0, hence, rely on the loss, MSE here.\n"
     ]
    }
   ],
   "source": [
    "# best_trial = result.get_best_trial(\"loss\", \"min\", \"last\")\n",
    "best_trial = result.get_best_trial(\"accuracy\", \"max\", \"last\")\n",
    "# best_checkpoint_dir = best_trial.checkpoint.value\n",
    "print(f\"Best trial config: {best_trial.config}\")\n",
    "print(f\"Best trial final validation loss: {best_trial.last_result['loss']}\")\n",
    "print(f\"Best trial final validation accuracy: {best_trial.last_result['accuracy']}\")\n",
    "print(f\"Best trial final training loss: {best_trial.last_result['train_loss']}\")\n",
    "print(f\"Best trial final training accuracy: {best_trial.last_result['train_accuracy']}\")\n",
    "print(f\"Best trial final custom_metric: {best_trial.last_result['custom_metric']}\")\n",
    "print(f\"Best trial final Early Stopping Epoch: {best_trial.last_result['early_stopping_epoch']}\")\n",
    "print(f\"NOTE: Both the accuracy are based on converting values > 0.5 to 1 and values < 0.5 to 0, hence, rely on the loss, MSE here.\")\n",
    "\n",
    "\n",
    "# print(\"\\nModel Parameters:\")\n",
    "# for name, param in best_model.named_parameters():\n",
    "#     print(f\"{name}: {param.size()}\")"
   ]
  },
  {
   "cell_type": "markdown",
   "id": "e0ffc20b",
   "metadata": {
    "papermill": {
     "duration": 0.02591,
     "end_time": "2024-11-29T18:43:42.450862",
     "exception": false,
     "start_time": "2024-11-29T18:43:42.424952",
     "status": "completed"
    },
    "tags": []
   },
   "source": [
    "## Function to Train the Model with the Best Configuration"
   ]
  },
  {
   "cell_type": "code",
   "execution_count": 62,
   "id": "e41ac48d",
   "metadata": {
    "execution": {
     "iopub.execute_input": "2024-11-29T18:43:42.505118Z",
     "iopub.status.busy": "2024-11-29T18:43:42.504790Z",
     "iopub.status.idle": "2024-11-29T18:43:42.520340Z",
     "shell.execute_reply": "2024-11-29T18:43:42.519734Z"
    },
    "papermill": {
     "duration": 0.044895,
     "end_time": "2024-11-29T18:43:42.521830",
     "exception": false,
     "start_time": "2024-11-29T18:43:42.476935",
     "status": "completed"
    },
    "tags": []
   },
   "outputs": [],
   "source": [
    "def train_best_model(config, device, train_dataset = train_ds_pd, val_dataset = validation_ds_pd):\n",
    "    \n",
    "    print(f\"\"\"\n",
    "    Tuning Model with:\n",
    "    {config}\n",
    "    \"\"\")\n",
    "    \n",
    "#     model = EmotionModel(\n",
    "#         roberta_model=RobertaModel.from_pretrained(\"roberta-base\"),\n",
    "#         n_classes=7,\n",
    "#         dropout_rate=config[\"dropout_rate\"]\n",
    "#     )\n",
    "    model = EmotionModel(\n",
    "        roberta_model=DebertaV2Model.from_pretrained('microsoft/deberta-v3-base'),\n",
    "        n_classes=7,\n",
    "        dropout_rate=config[\"dropout_rate\"]\n",
    "    )\n",
    "    model = model.to(device)\n",
    "    optimizer = optim.AdamW(model.parameters(), lr=config[\"lr\"], weight_decay=config[\"weight_decay\"])\n",
    "#     criterion = nn.BCEWithLogitsLoss()\n",
    "    criterion = nn.MSELoss()\n",
    "    scaler = GradScaler()\n",
    "    \n",
    "    ## DATASET ENCODING\n",
    "    \n",
    "    train_dataset = EmotionDataset(train_ds_pd, tokenizer, max_len=128)\n",
    "    val_dataset = EmotionDataset(validation_ds_pd, tokenizer, max_len=128)\n",
    "\n",
    "    train_loader = DataLoader(train_dataset, batch_size=config[\"batch_size\"], shuffle=True)\n",
    "    val_loader = DataLoader(val_dataset, batch_size=config[\"batch_size\"], shuffle=False)\n",
    "    \n",
    "    scheduler = optim.lr_scheduler.ReduceLROnPlateau(optimizer, mode='min', factor=0.1, patience=2, verbose=True)\n",
    "    \n",
    "    early_stopping = EarlyStopping(patience=5, verbose=True)\n",
    "\n",
    "    best_val_loss = float(\"inf\")\n",
    "    best_model_path = None\n",
    "    \n",
    "    # Early stopping parameters\n",
    "    patience = 5\n",
    "    best_val_loss = float('inf')\n",
    "    epochs_since_improvement = 0\n",
    "\n",
    "    \n",
    "    ### Running for config epochs +patience+1 for introducing noise. \n",
    "    \n",
    "    for epoch in range((config[\"epochs\"]+patience+1)):\n",
    "        model.train()\n",
    "        total_train_loss = 0.0\n",
    "        correct_train_preds = 0\n",
    "        total_train_preds = 0\n",
    "        \n",
    "        for batch in train_loader:\n",
    "            input_ids = batch[\"input_ids\"].to(device)\n",
    "            attention_mask = batch[\"attention_mask\"].to(device)\n",
    "            labels = batch[\"labels\"].to(device)\n",
    "\n",
    "            optimizer.zero_grad()\n",
    "#             outputs = model(input_ids=input_ids, attention_mask=attention_mask)\n",
    "#             loss = criterion(outputs, labels)\n",
    "#             loss.backward()\n",
    "#             optimizer.step()\n",
    "\n",
    "            with autocast(device_type=device.type):\n",
    "                outputs = model(input_ids=input_ids, attention_mask=attention_mask)\n",
    "                outputs = torch.sigmoid(outputs)\n",
    "                loss = criterion(outputs, labels)\n",
    "            \n",
    "            scaler.scale(loss).backward()\n",
    "            scaler.step(optimizer)\n",
    "            scaler.update()\n",
    "            \n",
    "# NOTE: Apply the sigmoid fn to outputs after BCEWithLogitsLoss because the loss fn already comes with sigmoid applied, so passing the sigmoid applied ouput will give erraneous results.\n",
    "# If we use BCELoss then pass the sigmoid applied output.\n",
    "            \n",
    "            total_train_loss += loss.item()\n",
    "#             correct_train_preds += (torch.argmax(outputs, dim=1) == torch.argmax(labels, dim=1)).sum().item()\n",
    "#             total_train_preds += labels.size(0)\n",
    "            correct_train_preds += ((outputs > 0.5) == (labels > 0.5)).sum().item()\n",
    "            total_train_preds += labels.numel()\n",
    "        \n",
    "        avg_train_loss = total_train_loss / len(train_loader)\n",
    "        train_accuracy = correct_train_preds / total_train_preds\n",
    "\n",
    "        # Validation phase\n",
    "        model.eval()\n",
    "        total_val_loss = 0.0\n",
    "        correct_val_preds = 0\n",
    "        total_val_preds = 0\n",
    "\n",
    "        with torch.no_grad():\n",
    "            for batch in val_loader:\n",
    "                input_ids = batch[\"input_ids\"].to(device)\n",
    "                attention_mask = batch[\"attention_mask\"].to(device)\n",
    "                labels = batch[\"labels\"].to(device)\n",
    "\n",
    "#                 outputs = model(input_ids=input_ids, attention_mask=attention_mask)\n",
    "#                 loss = criterion(outputs, labels)\n",
    "\n",
    "                with autocast(device_type=device.type):\n",
    "                    outputs = model(input_ids=input_ids, attention_mask=attention_mask)\n",
    "                    outputs = torch.sigmoid(outputs)\n",
    "                    loss = criterion(outputs, labels)\n",
    "                    \n",
    "# NOTE: Apply the sigmoid fn to outputs after BCEWithLogitsLoss because the loss fn already comes with sigmoid applied, so passing the sigmoid applied ouput will give erraneous results.\n",
    "# If we use BCELoss then pass the sigmoid applied output.\n",
    "                \n",
    "                total_val_loss += loss.item()\n",
    "#                 correct_val_preds += (torch.argmax(outputs, dim=1) == torch.argmax(labels, dim=1)).sum().item()\n",
    "#                 total_val_preds += labels.size(0)\n",
    "                correct_val_preds += ((outputs > 0.5) == (labels > 0.5)).sum().item()\n",
    "                total_val_preds += labels.numel()\n",
    "\n",
    "        avg_val_loss = total_val_loss / len(val_loader)\n",
    "        val_accuracy = correct_val_preds / total_val_preds\n",
    "\n",
    "        # Save the model checkpoint after each epoch\n",
    "        checkpoint_path = f\"/kaggle/working/best_checkpoint.pt\"\n",
    "#         torch.save(model.state_dict(), checkpoint_path)\n",
    "\n",
    "#         # Save the best model based on validation loss\n",
    "#         if avg_val_loss < best_val_loss:\n",
    "#             best_val_loss = avg_val_loss\n",
    "#             best_model_path = checkpoint_path\n",
    "\n",
    "        # Learning rate scheduler step\n",
    "        scheduler.step(avg_val_loss)\n",
    "\n",
    "        if avg_val_loss < best_val_loss:\n",
    "            best_val_loss = avg_val_loss\n",
    "            epochs_since_improvement = 0\n",
    "            best_model_path = checkpoint_path\n",
    "            # Save the model checkpoint with the best validation loss\n",
    "#             checkpoint_path = f\"/kaggle/working/best_checkpoint.pt\"\n",
    "#             torch.save(model.state_dict(), checkpoint_path)\n",
    "            torch.save({\n",
    "                'model_state_dict': model.state_dict(),\n",
    "                'config': config  # Save configuration\n",
    "            }, checkpoint_path)\n",
    "    \n",
    "        else:\n",
    "            epochs_since_improvement += 1\n",
    "\n",
    "        early_stopping(avg_val_loss, model)\n",
    "        if early_stopping.early_stop:\n",
    "            print(f\"Early stopping at epoch {epoch+1}\")\n",
    "            print(f\"Best Model Epoch Saved: {epoch - patience+1}\")\n",
    "#             print(\"Early stopping\")\n",
    "            break\n",
    "        \n",
    "#         if epochs_since_improvement >= patience:\n",
    "#             print(f\"Early stopping at epoch {epoch + 1}\")\n",
    "#             print(f\"Best Model Epoch Saved: {epoch - patience}\")\n",
    "#             break\n",
    "            \n",
    "        custom_metric = calculate_custom_metric(avg_val_loss, avg_train_loss)        \n",
    "#         custom_metric = calculate_custom_metric(avg_val_loss, val_accuracy, avg_train_loss, train_accuracy)\n",
    "        print(f\"\"\"\n",
    "        Validation Loss: {avg_val_loss},\n",
    "        Training Loss: {avg_train_loss},\n",
    "        Argmax Binary Validation Accuracy: {val_accuracy},\n",
    "        Argmax Binary Training Accuracy: {train_accuracy},\n",
    "        Custom Metric: {custom_metric},\n",
    "        Epochs: {epoch+1}\n",
    "        \"\"\")\n",
    "    \n",
    "    print(f\"Best Validation Loss: {best_val_loss}, Best Validation accuracy: {val_accuracy}\")\n",
    "    \n",
    "    return model, best_model_path"
   ]
  },
  {
   "cell_type": "markdown",
   "id": "1c9955c3",
   "metadata": {
    "papermill": {
     "duration": 0.025975,
     "end_time": "2024-11-29T18:43:42.574238",
     "exception": false,
     "start_time": "2024-11-29T18:43:42.548263",
     "status": "completed"
    },
    "tags": []
   },
   "source": [
    "# BEST MODEL AFTER FINAL TRAINING & VALIDATION"
   ]
  },
  {
   "cell_type": "code",
   "execution_count": 63,
   "id": "58c7ec39",
   "metadata": {
    "execution": {
     "iopub.execute_input": "2024-11-29T18:43:42.628759Z",
     "iopub.status.busy": "2024-11-29T18:43:42.628512Z",
     "iopub.status.idle": "2024-11-29T19:00:59.477554Z",
     "shell.execute_reply": "2024-11-29T19:00:59.476663Z"
    },
    "papermill": {
     "duration": 1036.905708,
     "end_time": "2024-11-29T19:00:59.507025",
     "exception": false,
     "start_time": "2024-11-29T18:43:42.601317",
     "status": "completed"
    },
    "tags": []
   },
   "outputs": [
    {
     "name": "stdout",
     "output_type": "stream",
     "text": [
      "\n",
      "    Tuning Model with:\n",
      "    {'dropout_rate': 0.27, 'batch_size': 32, 'weight_decay': 2e-06, 'lr': 5e-05, 'epochs': 12}\n",
      "    \n",
      "\n",
      "        Validation Loss: 0.04935679371867861,\n",
      "        Training Loss: 0.06670709872539614,\n",
      "        Argmax Binary Validation Accuracy: 0.8962508080155139,\n",
      "        Argmax Binary Training Accuracy: 0.8784638744780463,\n",
      "        Custom Metric: 0.058031946222037376,\n",
      "        Epochs: 1\n",
      "        \n",
      "\n",
      "        Validation Loss: 0.04059630020388535,\n",
      "        Training Loss: 0.052316734698456775,\n",
      "        Argmax Binary Validation Accuracy: 0.9033613445378151,\n",
      "        Argmax Binary Training Accuracy: 0.8883335442237125,\n",
      "        Custom Metric: 0.04645651745117106,\n",
      "        Epochs: 2\n",
      "        \n",
      "\n",
      "        Validation Loss: 0.03736577129789761,\n",
      "        Training Loss: 0.03861217776602003,\n",
      "        Argmax Binary Validation Accuracy: 0.9124111182934712,\n",
      "        Argmax Binary Training Accuracy: 0.9083892192838162,\n",
      "        Custom Metric: 0.03798897453195882,\n",
      "        Epochs: 3\n",
      "        \n",
      "\n",
      "        Validation Loss: 0.04248645236449582,\n",
      "        Training Loss: 0.030159671043216343,\n",
      "        Argmax Binary Validation Accuracy: 0.9010989010989011,\n",
      "        Argmax Binary Training Accuracy: 0.9241110970517525,\n",
      "        Custom Metric: 0.048649843025135565,\n",
      "        Epochs: 4\n",
      "        \n",
      "\n",
      "        Validation Loss: 0.036504060828260014,\n",
      "        Training Loss: 0.02436392218477919,\n",
      "        Argmax Binary Validation Accuracy: 0.9072398190045249,\n",
      "        Argmax Binary Training Accuracy: 0.9361002151081868,\n",
      "        Custom Metric: 0.042574130150000424,\n",
      "        Epochs: 5\n",
      "        \n",
      "\n",
      "        Validation Loss: 0.03418291453272104,\n",
      "        Training Loss: 0.020710302811955482,\n",
      "        Argmax Binary Validation Accuracy: 0.9111182934712346,\n",
      "        Argmax Binary Training Accuracy: 0.9461913197519929,\n",
      "        Custom Metric: 0.04091922039310382,\n",
      "        Epochs: 6\n",
      "        \n",
      "\n",
      "        Validation Loss: 0.03831439305629049,\n",
      "        Training Loss: 0.016622903196036185,\n",
      "        Argmax Binary Validation Accuracy: 0.9069166127989657,\n",
      "        Argmax Binary Training Accuracy: 0.9544160445400481,\n",
      "        Custom Metric: 0.04916013798641764,\n",
      "        Epochs: 7\n",
      "        \n",
      "\n",
      "        Validation Loss: 0.030385308366801058,\n",
      "        Training Loss: 0.014329497076072534,\n",
      "        Argmax Binary Validation Accuracy: 0.9169360051712993,\n",
      "        Argmax Binary Training Accuracy: 0.9601417183348095,\n",
      "        Custom Metric: 0.03841321401216532,\n",
      "        Epochs: 8\n",
      "        \n",
      "\n",
      "        Validation Loss: 0.03131072090140411,\n",
      "        Training Loss: 0.011785985718310719,\n",
      "        Argmax Binary Validation Accuracy: 0.9159663865546218,\n",
      "        Argmax Binary Training Accuracy: 0.9665000632671138,\n",
      "        Custom Metric: 0.041073088492950806,\n",
      "        Epochs: 9\n",
      "        \n",
      "\n",
      "        Validation Loss: 0.03082786327494042,\n",
      "        Training Loss: 0.010848343634689358,\n",
      "        Argmax Binary Validation Accuracy: 0.9169360051712993,\n",
      "        Argmax Binary Training Accuracy: 0.9681766417816019,\n",
      "        Custom Metric: 0.04081762309506595,\n",
      "        Epochs: 10\n",
      "        \n",
      "\n",
      "        Validation Loss: 0.0287569242396525,\n",
      "        Training Loss: 0.00878706822191483,\n",
      "        Argmax Binary Validation Accuracy: 0.9195216548157724,\n",
      "        Argmax Binary Training Accuracy: 0.9724155384031381,\n",
      "        Custom Metric: 0.038741852248521336,\n",
      "        Epochs: 11\n",
      "        \n",
      "\n",
      "        Validation Loss: 0.028545369261077473,\n",
      "        Training Loss: 0.007610115307894811,\n",
      "        Argmax Binary Validation Accuracy: 0.9195216548157724,\n",
      "        Argmax Binary Training Accuracy: 0.9739972162469948,\n",
      "        Custom Metric: 0.0390129962376688,\n",
      "        Epochs: 12\n",
      "        \n",
      "\n",
      "        Validation Loss: 0.028920617486749376,\n",
      "        Training Loss: 0.0068851636466898125,\n",
      "        Argmax Binary Validation Accuracy: 0.9195216548157724,\n",
      "        Argmax Binary Training Accuracy: 0.9762748323421485,\n",
      "        Custom Metric: 0.03993834440677916,\n",
      "        Epochs: 13\n",
      "        \n",
      "\n",
      "        Validation Loss: 0.027106768052492822,\n",
      "        Training Loss: 0.006128876099467907,\n",
      "        Argmax Binary Validation Accuracy: 0.9201680672268907,\n",
      "        Argmax Binary Training Accuracy: 0.977065671264077,\n",
      "        Custom Metric: 0.03759571402900528,\n",
      "        Epochs: 14\n",
      "        \n",
      "\n",
      "        Validation Loss: 0.027051438045288836,\n",
      "        Training Loss: 0.005185029269392852,\n",
      "        Argmax Binary Validation Accuracy: 0.9214608920491273,\n",
      "        Argmax Binary Training Accuracy: 0.9801973933949133,\n",
      "        Custom Metric: 0.03798464243323683,\n",
      "        Epochs: 15\n",
      "        \n",
      "\n",
      "        Validation Loss: 0.027716866162206446,\n",
      "        Training Loss: 0.004669801304182431,\n",
      "        Argmax Binary Validation Accuracy: 0.9195216548157724,\n",
      "        Argmax Binary Training Accuracy: 0.979881057826142,\n",
      "        Custom Metric: 0.03924039859121845,\n",
      "        Epochs: 16\n",
      "        \n",
      "\n",
      "        Validation Loss: 0.02609484296824251,\n",
      "        Training Loss: 0.004453688290980185,\n",
      "        Argmax Binary Validation Accuracy: 0.9217840982546864,\n",
      "        Argmax Binary Training Accuracy: 0.981747437681893,\n",
      "        Custom Metric: 0.03691542030687367,\n",
      "        Epochs: 17\n",
      "        \n",
      "\n",
      "        Validation Loss: 0.027342431247234344,\n",
      "        Training Loss: 0.004149098406729459,\n",
      "        Argmax Binary Validation Accuracy: 0.920814479638009,\n",
      "        Argmax Binary Training Accuracy: 0.9807984309755788,\n",
      "        Custom Metric: 0.03893909766748679,\n",
      "        Epochs: 18\n",
      "        \n",
      "Best Validation Loss: 0.02609484296824251, Best Validation accuracy: 0.920814479638009\n"
     ]
    }
   ],
   "source": [
    "best_config = best_trial.config\n",
    "\n",
    "device = torch.device(\"cuda\" if torch.cuda.is_available() else \"cpu\")\n",
    "\n",
    "# Train the model with the best configuration\n",
    "best_model, best_model_path = train_best_model(best_config, device, train_ds_pd, validation_ds_pd)\n"
   ]
  },
  {
   "cell_type": "markdown",
   "id": "b196680d",
   "metadata": {
    "papermill": {
     "duration": 0.028719,
     "end_time": "2024-11-29T19:00:59.564219",
     "exception": false,
     "start_time": "2024-11-29T19:00:59.535500",
     "status": "completed"
    },
    "tags": []
   },
   "source": [
    "# Save the best model\n"
   ]
  },
  {
   "cell_type": "code",
   "execution_count": 64,
   "id": "987dd702",
   "metadata": {
    "execution": {
     "iopub.execute_input": "2024-11-29T19:00:59.619821Z",
     "iopub.status.busy": "2024-11-29T19:00:59.619211Z",
     "iopub.status.idle": "2024-11-29T19:01:00.824350Z",
     "shell.execute_reply": "2024-11-29T19:01:00.823376Z"
    },
    "papermill": {
     "duration": 1.234623,
     "end_time": "2024-11-29T19:01:00.826021",
     "exception": false,
     "start_time": "2024-11-29T19:00:59.591398",
     "status": "completed"
    },
    "tags": []
   },
   "outputs": [
    {
     "name": "stdout",
     "output_type": "stream",
     "text": [
      "Best model saved at: /kaggle/working/final_best_model.pt\n"
     ]
    }
   ],
   "source": [
    "# Save the best model\n",
    "#### Comment when wanting to select the model which is stopped early to avoid over or under fitting\n",
    "\n",
    "# final_model_path = \"/kaggle/working/final_best_model.pt\"\n",
    "# torch.save(best_model.state_dict(), final_model_path) \n",
    "\n",
    "#### Comment when wanting to select the model which is stopped early to avoid over or under fitting\n",
    "\n",
    "final_model_path = \"/kaggle/working/final_best_model.pt\"\n",
    "# torch.save(best_model.state_dict(), final_model_path)\n",
    "torch.save({'model_state_dict': best_model.state_dict(),'config': best_config}, final_model_path)\n",
    "\n",
    "print(f\"Best model saved at: {final_model_path}\")"
   ]
  },
  {
   "cell_type": "code",
   "execution_count": 65,
   "id": "d28e8038",
   "metadata": {
    "execution": {
     "iopub.execute_input": "2024-11-29T19:01:00.883244Z",
     "iopub.status.busy": "2024-11-29T19:01:00.882955Z",
     "iopub.status.idle": "2024-11-29T19:01:00.886532Z",
     "shell.execute_reply": "2024-11-29T19:01:00.885772Z"
    },
    "papermill": {
     "duration": 0.033555,
     "end_time": "2024-11-29T19:01:00.888190",
     "exception": false,
     "start_time": "2024-11-29T19:01:00.854635",
     "status": "completed"
    },
    "tags": []
   },
   "outputs": [],
   "source": [
    "# best_model = EmotionModel(\n",
    "#     roberta_model=RobertaModel.from_pretrained(\"roberta-base\"),\n",
    "#     n_classes=7,\n",
    "#     dropout_rate=best_trial.config[\"dropout_rate\"]\n",
    "# )"
   ]
  },
  {
   "cell_type": "code",
   "execution_count": 66,
   "id": "e9877e6a",
   "metadata": {
    "execution": {
     "iopub.execute_input": "2024-11-29T19:01:00.944307Z",
     "iopub.status.busy": "2024-11-29T19:01:00.943482Z",
     "iopub.status.idle": "2024-11-29T19:01:00.947653Z",
     "shell.execute_reply": "2024-11-29T19:01:00.946817Z"
    },
    "papermill": {
     "duration": 0.033923,
     "end_time": "2024-11-29T19:01:00.949186",
     "exception": false,
     "start_time": "2024-11-29T19:01:00.915263",
     "status": "completed"
    },
    "tags": []
   },
   "outputs": [],
   "source": [
    "# kaggle_working_dir = '/kaggle/working'\n",
    "# best_model_path = os.path.join(kaggle_working_dir, \"checkpoint.pt\")\n",
    "# best_model.load_state_dict(torch.load(best_model_path))\n",
    "# best_model.eval()"
   ]
  },
  {
   "cell_type": "code",
   "execution_count": 67,
   "id": "30273eb5",
   "metadata": {
    "execution": {
     "iopub.execute_input": "2024-11-29T19:01:01.005991Z",
     "iopub.status.busy": "2024-11-29T19:01:01.005387Z",
     "iopub.status.idle": "2024-11-29T19:01:01.009039Z",
     "shell.execute_reply": "2024-11-29T19:01:01.008321Z"
    },
    "papermill": {
     "duration": 0.033628,
     "end_time": "2024-11-29T19:01:01.010552",
     "exception": false,
     "start_time": "2024-11-29T19:01:00.976924",
     "status": "completed"
    },
    "tags": []
   },
   "outputs": [],
   "source": [
    "# # best_config = result.get_best_config(metric='accuracy', mode='max')\n",
    "# # best_trial = result.get_best_trial(metric='accuracy', mode='max')\n",
    "\n",
    "# best_config = result.get_best_config(metric='custom_metric', mode='min')\n",
    "# best_trial = result.get_best_trial(metric='custom_metric', mode='min')\n",
    "\n",
    "# print(f\"Best trial config: {best_trial.config}\")\n",
    "# print(f\"Best trial final validation loss: {best_trial.last_result['loss']}\")\n",
    "# print(f\"Best trial final validation accuracy: {best_trial.last_result['accuracy']}\")\n",
    "\n",
    "# print(\"\\nModel Parameters:\")\n",
    "# for name, param in best_model.named_parameters():\n",
    "#     print(f\"{name}: {param.size()}\")"
   ]
  },
  {
   "cell_type": "code",
   "execution_count": 68,
   "id": "15f6c248",
   "metadata": {
    "execution": {
     "iopub.execute_input": "2024-11-29T19:01:01.067139Z",
     "iopub.status.busy": "2024-11-29T19:01:01.066510Z",
     "iopub.status.idle": "2024-11-29T19:01:01.070085Z",
     "shell.execute_reply": "2024-11-29T19:01:01.069315Z"
    },
    "papermill": {
     "duration": 0.033382,
     "end_time": "2024-11-29T19:01:01.071589",
     "exception": false,
     "start_time": "2024-11-29T19:01:01.038207",
     "status": "completed"
    },
    "tags": []
   },
   "outputs": [],
   "source": [
    "# best_trial = tuner.get_best_trial(\"loss\", \"min\", \"last\")\n",
    "# print(f\"Best trial config: {best_trial.config}\")\n",
    "# print(f\"Best trial final validation loss: {best_trial.last_result['loss']}\")\n",
    "# print(f\"Best trial final validation accuracy: {best_trial.last_result['accuracy']}\")"
   ]
  },
  {
   "cell_type": "code",
   "execution_count": 69,
   "id": "0bb9c7b7",
   "metadata": {
    "execution": {
     "iopub.execute_input": "2024-11-29T19:01:01.127052Z",
     "iopub.status.busy": "2024-11-29T19:01:01.126784Z",
     "iopub.status.idle": "2024-11-29T19:01:01.130428Z",
     "shell.execute_reply": "2024-11-29T19:01:01.129623Z"
    },
    "papermill": {
     "duration": 0.032954,
     "end_time": "2024-11-29T19:01:01.131899",
     "exception": false,
     "start_time": "2024-11-29T19:01:01.098945",
     "status": "completed"
    },
    "tags": []
   },
   "outputs": [],
   "source": [
    "# # Load the best model\n",
    "# best_model = EmotionModel(\n",
    "#     roberta_model=RobertaModel.from_pretrained(\"roberta-base\"),\n",
    "#     n_classes=7,\n",
    "#     dropout_rate=best_trial.config[\"dropout_rate\"]\n",
    "# )\n",
    "\n",
    "# best_model_path = os.path.join(best_checkpoint_dir, \"checkpoint.pt\")\n",
    "# best_model.load_state_dict(torch.load(best_model_path))\n",
    "# best_model.eval()\n",
    "\n",
    "# print(f\"Best trial config: {best_trial.config}\")\n",
    "# print(f\"Best trial final validation loss: {best_trial.last_result['loss']}\")\n",
    "# print(f\"Best trial final validation accuracy: {best_trial.last_result['accuracy']}\")"
   ]
  },
  {
   "cell_type": "code",
   "execution_count": 70,
   "id": "a331fe58",
   "metadata": {
    "execution": {
     "iopub.execute_input": "2024-11-29T19:01:01.188339Z",
     "iopub.status.busy": "2024-11-29T19:01:01.188093Z",
     "iopub.status.idle": "2024-11-29T19:01:01.191465Z",
     "shell.execute_reply": "2024-11-29T19:01:01.190714Z"
    },
    "papermill": {
     "duration": 0.033851,
     "end_time": "2024-11-29T19:01:01.193033",
     "exception": false,
     "start_time": "2024-11-29T19:01:01.159182",
     "status": "completed"
    },
    "tags": []
   },
   "outputs": [],
   "source": [
    "# # Save the best model\n",
    "# best_model = EmotionClassifier(hidden_size=best_config['hidden_size'], dropout_rate=best_config['dropout_rate']).to(device)\n",
    "# checkpoint_path = \"best_model.pth\"\n",
    "# torch.save(best_model.state_dict(), checkpoint_path)\n",
    "# print(f\"Best model saved to {checkpoint_path}\")"
   ]
  },
  {
   "cell_type": "code",
   "execution_count": 71,
   "id": "a96d1095",
   "metadata": {
    "execution": {
     "iopub.execute_input": "2024-11-29T19:01:01.249911Z",
     "iopub.status.busy": "2024-11-29T19:01:01.249642Z",
     "iopub.status.idle": "2024-11-29T19:01:01.253181Z",
     "shell.execute_reply": "2024-11-29T19:01:01.252354Z"
    },
    "papermill": {
     "duration": 0.034274,
     "end_time": "2024-11-29T19:01:01.254735",
     "exception": false,
     "start_time": "2024-11-29T19:01:01.220461",
     "status": "completed"
    },
    "tags": []
   },
   "outputs": [],
   "source": [
    "# # Save the best model\n",
    "# best_model = EmotionClassifier(hidden_size=best_config['hidden_size'], dropout_rate=best_config['dropout_rate']).to(device)\n",
    "# bestmodel_path = f\"/kaggle/working/bestmodel.pt\"\n",
    "# torch.save(best_model.state_dict(), checkpoint_path)\n",
    "# print(f\"Best model saved to {bestmodel_path}\")"
   ]
  },
  {
   "cell_type": "markdown",
   "id": "13a2846d",
   "metadata": {
    "papermill": {
     "duration": 0.028751,
     "end_time": "2024-11-29T19:01:01.312248",
     "exception": false,
     "start_time": "2024-11-29T19:01:01.283497",
     "status": "completed"
    },
    "tags": []
   },
   "source": [
    "# Load the best model"
   ]
  },
  {
   "cell_type": "code",
   "execution_count": 72,
   "id": "1b59925f",
   "metadata": {
    "execution": {
     "iopub.execute_input": "2024-11-29T19:01:01.369064Z",
     "iopub.status.busy": "2024-11-29T19:01:01.368428Z",
     "iopub.status.idle": "2024-11-29T19:01:03.141673Z",
     "shell.execute_reply": "2024-11-29T19:01:03.140783Z"
    },
    "papermill": {
     "duration": 1.80301,
     "end_time": "2024-11-29T19:01:03.143298",
     "exception": false,
     "start_time": "2024-11-29T19:01:01.340288",
     "status": "completed"
    },
    "tags": []
   },
   "outputs": [
    {
     "name": "stdout",
     "output_type": "stream",
     "text": [
      "Loaded model from /kaggle/working/final_best_model.pt for inference.\n"
     ]
    }
   ],
   "source": [
    "# Load the best model\n",
    "final_model_path = \"/kaggle/working/final_best_model.pt\"\n",
    "# final_model_path = \"/kaggle/input/tachygraphy-lv2-emotion-moodtags-v1/transformers/default/1/final_best_model.pt\"\n",
    "\n",
    "\n",
    "checkpoint = torch.load(final_model_path)\n",
    "config = checkpoint['config']\n",
    "\n",
    "# loaded_model = EmotionModel(\n",
    "#     roberta_model=RobertaModel.from_pretrained(\"roberta-base\"),\n",
    "#     n_classes=7,\n",
    "#     dropout_rate=config[\"dropout_rate\"]\n",
    "# )\n",
    "loaded_model = EmotionModel(\n",
    "    roberta_model=DebertaV2Model.from_pretrained('microsoft/deberta-v3-base'),\n",
    "    n_classes=7,\n",
    "    dropout_rate=config[\"dropout_rate\"]\n",
    ")\n",
    "loaded_model.load_state_dict(checkpoint['model_state_dict'])\n",
    "loaded_model = loaded_model.to(device)\n",
    "loaded_model.eval()\n",
    "\n",
    "print(f\"Loaded model from {final_model_path} for inference.\")\n"
   ]
  },
  {
   "cell_type": "markdown",
   "id": "5130d675",
   "metadata": {
    "papermill": {
     "duration": 0.027581,
     "end_time": "2024-11-29T19:01:03.199695",
     "exception": false,
     "start_time": "2024-11-29T19:01:03.172114",
     "status": "completed"
    },
    "tags": []
   },
   "source": [
    "# PREDICT ON RANDOM INPUT"
   ]
  },
  {
   "cell_type": "markdown",
   "id": "84cdce6e",
   "metadata": {
    "papermill": {
     "duration": 0.028458,
     "end_time": "2024-11-29T19:01:03.255868",
     "exception": false,
     "start_time": "2024-11-29T19:01:03.227410",
     "status": "completed"
    },
    "tags": []
   },
   "source": [
    "## Prediction Function"
   ]
  },
  {
   "cell_type": "code",
   "execution_count": 73,
   "id": "a1042785",
   "metadata": {
    "execution": {
     "iopub.execute_input": "2024-11-29T19:01:03.312545Z",
     "iopub.status.busy": "2024-11-29T19:01:03.312238Z",
     "iopub.status.idle": "2024-11-29T19:01:03.317822Z",
     "shell.execute_reply": "2024-11-29T19:01:03.317059Z"
    },
    "papermill": {
     "duration": 0.035903,
     "end_time": "2024-11-29T19:01:03.319478",
     "exception": false,
     "start_time": "2024-11-29T19:01:03.283575",
     "status": "completed"
    },
    "tags": []
   },
   "outputs": [],
   "source": [
    "def predict(text, model, tokenizer, device, max_len=128):\n",
    "    inputs = tokenizer.encode_plus(\n",
    "        text,\n",
    "        None,\n",
    "        add_special_tokens=True,\n",
    "        max_length=max_len,\n",
    "        padding='max_length',\n",
    "        truncation=True,\n",
    "        return_token_type_ids=False,\n",
    "        return_tensors='pt'\n",
    "    )\n",
    "    input_ids = inputs['input_ids']\n",
    "    attention_mask = inputs['attention_mask']\n",
    "    \n",
    "    input_ids = input_ids.to(device)\n",
    "    attention_mask = attention_mask.to(device)\n",
    "    \n",
    "    with torch.no_grad():\n",
    "        outputs = model(input_ids=input_ids, attention_mask=attention_mask)\n",
    "    \n",
    "    return torch.sigmoid(outputs).cpu().numpy()"
   ]
  },
  {
   "cell_type": "code",
   "execution_count": 74,
   "id": "4628507b",
   "metadata": {
    "execution": {
     "iopub.execute_input": "2024-11-29T19:01:03.376506Z",
     "iopub.status.busy": "2024-11-29T19:01:03.375815Z",
     "iopub.status.idle": "2024-11-29T19:01:03.383382Z",
     "shell.execute_reply": "2024-11-29T19:01:03.382548Z"
    },
    "papermill": {
     "duration": 0.037167,
     "end_time": "2024-11-29T19:01:03.385029",
     "exception": false,
     "start_time": "2024-11-29T19:01:03.347862",
     "status": "completed"
    },
    "tags": []
   },
   "outputs": [],
   "source": [
    "best_model = loaded_model\n",
    "best_model = best_model.to(device)"
   ]
  },
  {
   "cell_type": "code",
   "execution_count": 75,
   "id": "2eca2217",
   "metadata": {
    "execution": {
     "iopub.execute_input": "2024-11-29T19:01:03.441505Z",
     "iopub.status.busy": "2024-11-29T19:01:03.440893Z",
     "iopub.status.idle": "2024-11-29T19:01:03.874218Z",
     "shell.execute_reply": "2024-11-29T19:01:03.873261Z"
    },
    "papermill": {
     "duration": 0.463728,
     "end_time": "2024-11-29T19:01:03.876152",
     "exception": false,
     "start_time": "2024-11-29T19:01:03.412424",
     "status": "completed"
    },
    "tags": []
   },
   "outputs": [],
   "source": [
    "import matplotlib.pyplot as plt\n",
    "import plotly.express as px"
   ]
  },
  {
   "cell_type": "markdown",
   "id": "f4907586",
   "metadata": {
    "papermill": {
     "duration": 0.027996,
     "end_time": "2024-11-29T19:01:03.933033",
     "exception": false,
     "start_time": "2024-11-29T19:01:03.905037",
     "status": "completed"
    },
    "tags": []
   },
   "source": [
    "## Samples & Random Predictions"
   ]
  },
  {
   "cell_type": "code",
   "execution_count": 76,
   "id": "84620691",
   "metadata": {
    "execution": {
     "iopub.execute_input": "2024-11-29T19:01:03.996444Z",
     "iopub.status.busy": "2024-11-29T19:01:03.995780Z",
     "iopub.status.idle": "2024-11-29T19:01:05.601594Z",
     "shell.execute_reply": "2024-11-29T19:01:05.600759Z"
    },
    "papermill": {
     "duration": 1.642226,
     "end_time": "2024-11-29T19:01:05.603362",
     "exception": false,
     "start_time": "2024-11-29T19:01:03.961136",
     "status": "completed"
    },
    "tags": []
   },
   "outputs": [
    {
     "name": "stdout",
     "output_type": "stream",
     "text": [
      "Predicted emotions for 'hey! hru, wanna ply valo toni8?': [[0.01522723 0.00806822 0.02226685 0.26780015 0.2287963  0.12956041\n",
      "  0.3424514 ]]\n"
     ]
    },
    {
     "data": {
      "text/html": [
       "        <script type=\"text/javascript\">\n",
       "        window.PlotlyConfig = {MathJaxConfig: 'local'};\n",
       "        if (window.MathJax && window.MathJax.Hub && window.MathJax.Hub.Config) {window.MathJax.Hub.Config({SVG: {font: \"STIX-Web\"}});}\n",
       "        if (typeof require !== 'undefined') {\n",
       "        require.undef(\"plotly\");\n",
       "        requirejs.config({\n",
       "            paths: {\n",
       "                'plotly': ['https://cdn.plot.ly/plotly-2.32.0.min']\n",
       "            }\n",
       "        });\n",
       "        require(['plotly'], function(Plotly) {\n",
       "            window._Plotly = Plotly;\n",
       "        });\n",
       "        }\n",
       "        </script>\n",
       "        "
      ]
     },
     "metadata": {},
     "output_type": "display_data"
    },
    {
     "data": {
      "text/html": [
       "<div>                            <div id=\"51391c2b-6130-4059-9f29-a8b26cbc77f9\" class=\"plotly-graph-div\" style=\"height:525px; width:100%;\"></div>            <script type=\"text/javascript\">                require([\"plotly\"], function(Plotly) {                    window.PLOTLYENV=window.PLOTLYENV || {};                                    if (document.getElementById(\"51391c2b-6130-4059-9f29-a8b26cbc77f9\")) {                    Plotly.newPlot(                        \"51391c2b-6130-4059-9f29-a8b26cbc77f9\",                        [{\"hovertemplate\":\"r=%{r}\\u003cbr\\u003etheta=%{theta}\\u003cextra\\u003e\\u003c\\u002fextra\\u003e\",\"legendgroup\":\"\",\"line\":{\"color\":\"#636efa\",\"dash\":\"solid\"},\"marker\":{\"symbol\":\"circle\"},\"mode\":\"lines\",\"name\":\"\",\"r\":[0.015227235,0.008068224,0.022266848,0.26780015,0.2287963,0.12956041,0.3424514,0.015227235],\"showlegend\":false,\"subplot\":\"polar\",\"theta\":[\"anger\",\"disgust\",\"fear\",\"joy\",\"neutral\",\"sadness\",\"surprise\",\"anger\"],\"type\":\"scatterpolar\"}],                        {\"template\":{\"data\":{\"histogram2dcontour\":[{\"type\":\"histogram2dcontour\",\"colorbar\":{\"outlinewidth\":0,\"ticks\":\"\"},\"colorscale\":[[0.0,\"#0d0887\"],[0.1111111111111111,\"#46039f\"],[0.2222222222222222,\"#7201a8\"],[0.3333333333333333,\"#9c179e\"],[0.4444444444444444,\"#bd3786\"],[0.5555555555555556,\"#d8576b\"],[0.6666666666666666,\"#ed7953\"],[0.7777777777777778,\"#fb9f3a\"],[0.8888888888888888,\"#fdca26\"],[1.0,\"#f0f921\"]]}],\"choropleth\":[{\"type\":\"choropleth\",\"colorbar\":{\"outlinewidth\":0,\"ticks\":\"\"}}],\"histogram2d\":[{\"type\":\"histogram2d\",\"colorbar\":{\"outlinewidth\":0,\"ticks\":\"\"},\"colorscale\":[[0.0,\"#0d0887\"],[0.1111111111111111,\"#46039f\"],[0.2222222222222222,\"#7201a8\"],[0.3333333333333333,\"#9c179e\"],[0.4444444444444444,\"#bd3786\"],[0.5555555555555556,\"#d8576b\"],[0.6666666666666666,\"#ed7953\"],[0.7777777777777778,\"#fb9f3a\"],[0.8888888888888888,\"#fdca26\"],[1.0,\"#f0f921\"]]}],\"heatmap\":[{\"type\":\"heatmap\",\"colorbar\":{\"outlinewidth\":0,\"ticks\":\"\"},\"colorscale\":[[0.0,\"#0d0887\"],[0.1111111111111111,\"#46039f\"],[0.2222222222222222,\"#7201a8\"],[0.3333333333333333,\"#9c179e\"],[0.4444444444444444,\"#bd3786\"],[0.5555555555555556,\"#d8576b\"],[0.6666666666666666,\"#ed7953\"],[0.7777777777777778,\"#fb9f3a\"],[0.8888888888888888,\"#fdca26\"],[1.0,\"#f0f921\"]]}],\"heatmapgl\":[{\"type\":\"heatmapgl\",\"colorbar\":{\"outlinewidth\":0,\"ticks\":\"\"},\"colorscale\":[[0.0,\"#0d0887\"],[0.1111111111111111,\"#46039f\"],[0.2222222222222222,\"#7201a8\"],[0.3333333333333333,\"#9c179e\"],[0.4444444444444444,\"#bd3786\"],[0.5555555555555556,\"#d8576b\"],[0.6666666666666666,\"#ed7953\"],[0.7777777777777778,\"#fb9f3a\"],[0.8888888888888888,\"#fdca26\"],[1.0,\"#f0f921\"]]}],\"contourcarpet\":[{\"type\":\"contourcarpet\",\"colorbar\":{\"outlinewidth\":0,\"ticks\":\"\"}}],\"contour\":[{\"type\":\"contour\",\"colorbar\":{\"outlinewidth\":0,\"ticks\":\"\"},\"colorscale\":[[0.0,\"#0d0887\"],[0.1111111111111111,\"#46039f\"],[0.2222222222222222,\"#7201a8\"],[0.3333333333333333,\"#9c179e\"],[0.4444444444444444,\"#bd3786\"],[0.5555555555555556,\"#d8576b\"],[0.6666666666666666,\"#ed7953\"],[0.7777777777777778,\"#fb9f3a\"],[0.8888888888888888,\"#fdca26\"],[1.0,\"#f0f921\"]]}],\"surface\":[{\"type\":\"surface\",\"colorbar\":{\"outlinewidth\":0,\"ticks\":\"\"},\"colorscale\":[[0.0,\"#0d0887\"],[0.1111111111111111,\"#46039f\"],[0.2222222222222222,\"#7201a8\"],[0.3333333333333333,\"#9c179e\"],[0.4444444444444444,\"#bd3786\"],[0.5555555555555556,\"#d8576b\"],[0.6666666666666666,\"#ed7953\"],[0.7777777777777778,\"#fb9f3a\"],[0.8888888888888888,\"#fdca26\"],[1.0,\"#f0f921\"]]}],\"mesh3d\":[{\"type\":\"mesh3d\",\"colorbar\":{\"outlinewidth\":0,\"ticks\":\"\"}}],\"scatter\":[{\"fillpattern\":{\"fillmode\":\"overlay\",\"size\":10,\"solidity\":0.2},\"type\":\"scatter\"}],\"parcoords\":[{\"type\":\"parcoords\",\"line\":{\"colorbar\":{\"outlinewidth\":0,\"ticks\":\"\"}}}],\"scatterpolargl\":[{\"type\":\"scatterpolargl\",\"marker\":{\"colorbar\":{\"outlinewidth\":0,\"ticks\":\"\"}}}],\"bar\":[{\"error_x\":{\"color\":\"#2a3f5f\"},\"error_y\":{\"color\":\"#2a3f5f\"},\"marker\":{\"line\":{\"color\":\"#E5ECF6\",\"width\":0.5},\"pattern\":{\"fillmode\":\"overlay\",\"size\":10,\"solidity\":0.2}},\"type\":\"bar\"}],\"scattergeo\":[{\"type\":\"scattergeo\",\"marker\":{\"colorbar\":{\"outlinewidth\":0,\"ticks\":\"\"}}}],\"scatterpolar\":[{\"type\":\"scatterpolar\",\"marker\":{\"colorbar\":{\"outlinewidth\":0,\"ticks\":\"\"}}}],\"histogram\":[{\"marker\":{\"pattern\":{\"fillmode\":\"overlay\",\"size\":10,\"solidity\":0.2}},\"type\":\"histogram\"}],\"scattergl\":[{\"type\":\"scattergl\",\"marker\":{\"colorbar\":{\"outlinewidth\":0,\"ticks\":\"\"}}}],\"scatter3d\":[{\"type\":\"scatter3d\",\"line\":{\"colorbar\":{\"outlinewidth\":0,\"ticks\":\"\"}},\"marker\":{\"colorbar\":{\"outlinewidth\":0,\"ticks\":\"\"}}}],\"scattermapbox\":[{\"type\":\"scattermapbox\",\"marker\":{\"colorbar\":{\"outlinewidth\":0,\"ticks\":\"\"}}}],\"scatterternary\":[{\"type\":\"scatterternary\",\"marker\":{\"colorbar\":{\"outlinewidth\":0,\"ticks\":\"\"}}}],\"scattercarpet\":[{\"type\":\"scattercarpet\",\"marker\":{\"colorbar\":{\"outlinewidth\":0,\"ticks\":\"\"}}}],\"carpet\":[{\"aaxis\":{\"endlinecolor\":\"#2a3f5f\",\"gridcolor\":\"white\",\"linecolor\":\"white\",\"minorgridcolor\":\"white\",\"startlinecolor\":\"#2a3f5f\"},\"baxis\":{\"endlinecolor\":\"#2a3f5f\",\"gridcolor\":\"white\",\"linecolor\":\"white\",\"minorgridcolor\":\"white\",\"startlinecolor\":\"#2a3f5f\"},\"type\":\"carpet\"}],\"table\":[{\"cells\":{\"fill\":{\"color\":\"#EBF0F8\"},\"line\":{\"color\":\"white\"}},\"header\":{\"fill\":{\"color\":\"#C8D4E3\"},\"line\":{\"color\":\"white\"}},\"type\":\"table\"}],\"barpolar\":[{\"marker\":{\"line\":{\"color\":\"#E5ECF6\",\"width\":0.5},\"pattern\":{\"fillmode\":\"overlay\",\"size\":10,\"solidity\":0.2}},\"type\":\"barpolar\"}],\"pie\":[{\"automargin\":true,\"type\":\"pie\"}]},\"layout\":{\"autotypenumbers\":\"strict\",\"colorway\":[\"#636efa\",\"#EF553B\",\"#00cc96\",\"#ab63fa\",\"#FFA15A\",\"#19d3f3\",\"#FF6692\",\"#B6E880\",\"#FF97FF\",\"#FECB52\"],\"font\":{\"color\":\"#2a3f5f\"},\"hovermode\":\"closest\",\"hoverlabel\":{\"align\":\"left\"},\"paper_bgcolor\":\"white\",\"plot_bgcolor\":\"#E5ECF6\",\"polar\":{\"bgcolor\":\"#E5ECF6\",\"angularaxis\":{\"gridcolor\":\"white\",\"linecolor\":\"white\",\"ticks\":\"\"},\"radialaxis\":{\"gridcolor\":\"white\",\"linecolor\":\"white\",\"ticks\":\"\"}},\"ternary\":{\"bgcolor\":\"#E5ECF6\",\"aaxis\":{\"gridcolor\":\"white\",\"linecolor\":\"white\",\"ticks\":\"\"},\"baxis\":{\"gridcolor\":\"white\",\"linecolor\":\"white\",\"ticks\":\"\"},\"caxis\":{\"gridcolor\":\"white\",\"linecolor\":\"white\",\"ticks\":\"\"}},\"coloraxis\":{\"colorbar\":{\"outlinewidth\":0,\"ticks\":\"\"}},\"colorscale\":{\"sequential\":[[0.0,\"#0d0887\"],[0.1111111111111111,\"#46039f\"],[0.2222222222222222,\"#7201a8\"],[0.3333333333333333,\"#9c179e\"],[0.4444444444444444,\"#bd3786\"],[0.5555555555555556,\"#d8576b\"],[0.6666666666666666,\"#ed7953\"],[0.7777777777777778,\"#fb9f3a\"],[0.8888888888888888,\"#fdca26\"],[1.0,\"#f0f921\"]],\"sequentialminus\":[[0.0,\"#0d0887\"],[0.1111111111111111,\"#46039f\"],[0.2222222222222222,\"#7201a8\"],[0.3333333333333333,\"#9c179e\"],[0.4444444444444444,\"#bd3786\"],[0.5555555555555556,\"#d8576b\"],[0.6666666666666666,\"#ed7953\"],[0.7777777777777778,\"#fb9f3a\"],[0.8888888888888888,\"#fdca26\"],[1.0,\"#f0f921\"]],\"diverging\":[[0,\"#8e0152\"],[0.1,\"#c51b7d\"],[0.2,\"#de77ae\"],[0.3,\"#f1b6da\"],[0.4,\"#fde0ef\"],[0.5,\"#f7f7f7\"],[0.6,\"#e6f5d0\"],[0.7,\"#b8e186\"],[0.8,\"#7fbc41\"],[0.9,\"#4d9221\"],[1,\"#276419\"]]},\"xaxis\":{\"gridcolor\":\"white\",\"linecolor\":\"white\",\"ticks\":\"\",\"title\":{\"standoff\":15},\"zerolinecolor\":\"white\",\"automargin\":true,\"zerolinewidth\":2},\"yaxis\":{\"gridcolor\":\"white\",\"linecolor\":\"white\",\"ticks\":\"\",\"title\":{\"standoff\":15},\"zerolinecolor\":\"white\",\"automargin\":true,\"zerolinewidth\":2},\"scene\":{\"xaxis\":{\"backgroundcolor\":\"#E5ECF6\",\"gridcolor\":\"white\",\"linecolor\":\"white\",\"showbackground\":true,\"ticks\":\"\",\"zerolinecolor\":\"white\",\"gridwidth\":2},\"yaxis\":{\"backgroundcolor\":\"#E5ECF6\",\"gridcolor\":\"white\",\"linecolor\":\"white\",\"showbackground\":true,\"ticks\":\"\",\"zerolinecolor\":\"white\",\"gridwidth\":2},\"zaxis\":{\"backgroundcolor\":\"#E5ECF6\",\"gridcolor\":\"white\",\"linecolor\":\"white\",\"showbackground\":true,\"ticks\":\"\",\"zerolinecolor\":\"white\",\"gridwidth\":2}},\"shapedefaults\":{\"line\":{\"color\":\"#2a3f5f\"}},\"annotationdefaults\":{\"arrowcolor\":\"#2a3f5f\",\"arrowhead\":0,\"arrowwidth\":1},\"geo\":{\"bgcolor\":\"white\",\"landcolor\":\"#E5ECF6\",\"subunitcolor\":\"white\",\"showland\":true,\"showlakes\":true,\"lakecolor\":\"white\"},\"title\":{\"x\":0.05},\"mapbox\":{\"style\":\"light\"}}},\"polar\":{\"domain\":{\"x\":[0.0,1.0],\"y\":[0.0,1.0]},\"angularaxis\":{\"direction\":\"clockwise\",\"rotation\":90}},\"legend\":{\"tracegroupgap\":0},\"margin\":{\"t\":60}},                        {\"responsive\": true}                    ).then(function(){\n",
       "                            \n",
       "var gd = document.getElementById('51391c2b-6130-4059-9f29-a8b26cbc77f9');\n",
       "var x = new MutationObserver(function (mutations, observer) {{\n",
       "        var display = window.getComputedStyle(gd).display;\n",
       "        if (!display || display === 'none') {{\n",
       "            console.log([gd, 'removed!']);\n",
       "            Plotly.purge(gd);\n",
       "            observer.disconnect();\n",
       "        }}\n",
       "}});\n",
       "\n",
       "// Listen for the removal of the full notebook cells\n",
       "var notebookContainer = gd.closest('#notebook-container');\n",
       "if (notebookContainer) {{\n",
       "    x.observe(notebookContainer, {childList: true});\n",
       "}}\n",
       "\n",
       "// Listen for the clearing of the current output cell\n",
       "var outputEl = gd.closest('.output');\n",
       "if (outputEl) {{\n",
       "    x.observe(outputEl, {childList: true});\n",
       "}}\n",
       "\n",
       "                        })                };                });            </script>        </div>"
      ]
     },
     "metadata": {},
     "output_type": "display_data"
    },
    {
     "data": {
      "image/png": "[encoded data removed]",
      "text/plain": [
       "<Figure size 1500x500 with 1 Axes>"
      ]
     },
     "metadata": {},
     "output_type": "display_data"
    }
   ],
   "source": [
    "sample_text = \"hey! hru, wanna ply valo toni8?\"\n",
    "predictions = predict(sample_text, best_model, tokenizer, device, max_len=128)\n",
    "print(f\"Predicted emotions for '{sample_text}': {predictions}\")\n",
    "\n",
    "\n",
    "predictions_array = predictions.squeeze()  # Remove unnecessary dimensions\n",
    "\n",
    "emotion_moodtags = []\n",
    "for items in predictions_array:\n",
    "    emotion_moodtags.append(items)\n",
    "\n",
    "fig = px.line_polar(pd.DataFrame(dict(r=emotion_moodtags, theta=EMOTION_LABELS)), r='r', theta='theta', line_close=True)\n",
    "fig.show()\n",
    "\n",
    "\n",
    "\n",
    "    \n",
    "# Since predictions are probabilistic values, normalize to ensure they sum up to 1\n",
    "normalized_predictions = predictions_array / predictions_array.sum()  # Normalize the values\n",
    "\n",
    "\n",
    "## Horizontal Stacked Bar Plot\n",
    "\n",
    "fig, ax = plt.subplots(figsize=(15, 5))\n",
    "\n",
    "left = 0\n",
    "for i in range(len(normalized_predictions)):\n",
    "    ax.barh(0, normalized_predictions[i], color=plt.cm.tab10(i), left=left, label=EMOTION_LABELS[i])\n",
    "    left += normalized_predictions[i]\n",
    "\n",
    "# Add legend\n",
    "ax.set_xlim(0, 1)\n",
    "ax.set_yticks([])\n",
    "ax.set_xticks(np.arange(0, 1.1, 0.1))\n",
    "ax.legend(loc='upper center', bbox_to_anchor=(0.5, -0.05), ncol=len(EMOTION_LABELS))\n",
    "\n",
    "# Add title\n",
    "plt.title('Emotion Prediction Distribution')\n",
    "\n",
    "plt.show()"
   ]
  },
  {
   "cell_type": "code",
   "execution_count": 77,
   "id": "fa2c3e78",
   "metadata": {
    "execution": {
     "iopub.execute_input": "2024-11-29T19:01:05.663538Z",
     "iopub.status.busy": "2024-11-29T19:01:05.663247Z",
     "iopub.status.idle": "2024-11-29T19:01:05.978082Z",
     "shell.execute_reply": "2024-11-29T19:01:05.977187Z"
    },
    "papermill": {
     "duration": 0.347109,
     "end_time": "2024-11-29T19:01:05.979969",
     "exception": false,
     "start_time": "2024-11-29T19:01:05.632860",
     "status": "completed"
    },
    "tags": []
   },
   "outputs": [
    {
     "name": "stdout",
     "output_type": "stream",
     "text": [
      "Predicted emotions for 'what a badass char is arthur, he is the best game char ever made, i luv rdr2': [[4.6330285e-03 6.1160052e-04 3.1421054e-03 9.5957112e-01 9.3753338e-03\n",
      "  1.2255819e-02 2.5350360e-02]]\n"
     ]
    },
    {
     "data": {
      "text/html": [
       "<div>                            <div id=\"674a837b-161a-49a3-8e58-46a2faf8d5ea\" class=\"plotly-graph-div\" style=\"height:525px; width:100%;\"></div>            <script type=\"text/javascript\">                require([\"plotly\"], function(Plotly) {                    window.PLOTLYENV=window.PLOTLYENV || {};                                    if (document.getElementById(\"674a837b-161a-49a3-8e58-46a2faf8d5ea\")) {                    Plotly.newPlot(                        \"674a837b-161a-49a3-8e58-46a2faf8d5ea\",                        [{\"hovertemplate\":\"r=%{r}\\u003cbr\\u003etheta=%{theta}\\u003cextra\\u003e\\u003c\\u002fextra\\u003e\",\"legendgroup\":\"\",\"line\":{\"color\":\"#636efa\",\"dash\":\"solid\"},\"marker\":{\"symbol\":\"circle\"},\"mode\":\"lines\",\"name\":\"\",\"r\":[0.0046330285,0.0006116005,0.0031421054,0.9595711,0.009375334,0.012255819,0.02535036,0.0046330285],\"showlegend\":false,\"subplot\":\"polar\",\"theta\":[\"anger\",\"disgust\",\"fear\",\"joy\",\"neutral\",\"sadness\",\"surprise\",\"anger\"],\"type\":\"scatterpolar\"}],                        {\"template\":{\"data\":{\"histogram2dcontour\":[{\"type\":\"histogram2dcontour\",\"colorbar\":{\"outlinewidth\":0,\"ticks\":\"\"},\"colorscale\":[[0.0,\"#0d0887\"],[0.1111111111111111,\"#46039f\"],[0.2222222222222222,\"#7201a8\"],[0.3333333333333333,\"#9c179e\"],[0.4444444444444444,\"#bd3786\"],[0.5555555555555556,\"#d8576b\"],[0.6666666666666666,\"#ed7953\"],[0.7777777777777778,\"#fb9f3a\"],[0.8888888888888888,\"#fdca26\"],[1.0,\"#f0f921\"]]}],\"choropleth\":[{\"type\":\"choropleth\",\"colorbar\":{\"outlinewidth\":0,\"ticks\":\"\"}}],\"histogram2d\":[{\"type\":\"histogram2d\",\"colorbar\":{\"outlinewidth\":0,\"ticks\":\"\"},\"colorscale\":[[0.0,\"#0d0887\"],[0.1111111111111111,\"#46039f\"],[0.2222222222222222,\"#7201a8\"],[0.3333333333333333,\"#9c179e\"],[0.4444444444444444,\"#bd3786\"],[0.5555555555555556,\"#d8576b\"],[0.6666666666666666,\"#ed7953\"],[0.7777777777777778,\"#fb9f3a\"],[0.8888888888888888,\"#fdca26\"],[1.0,\"#f0f921\"]]}],\"heatmap\":[{\"type\":\"heatmap\",\"colorbar\":{\"outlinewidth\":0,\"ticks\":\"\"},\"colorscale\":[[0.0,\"#0d0887\"],[0.1111111111111111,\"#46039f\"],[0.2222222222222222,\"#7201a8\"],[0.3333333333333333,\"#9c179e\"],[0.4444444444444444,\"#bd3786\"],[0.5555555555555556,\"#d8576b\"],[0.6666666666666666,\"#ed7953\"],[0.7777777777777778,\"#fb9f3a\"],[0.8888888888888888,\"#fdca26\"],[1.0,\"#f0f921\"]]}],\"heatmapgl\":[{\"type\":\"heatmapgl\",\"colorbar\":{\"outlinewidth\":0,\"ticks\":\"\"},\"colorscale\":[[0.0,\"#0d0887\"],[0.1111111111111111,\"#46039f\"],[0.2222222222222222,\"#7201a8\"],[0.3333333333333333,\"#9c179e\"],[0.4444444444444444,\"#bd3786\"],[0.5555555555555556,\"#d8576b\"],[0.6666666666666666,\"#ed7953\"],[0.7777777777777778,\"#fb9f3a\"],[0.8888888888888888,\"#fdca26\"],[1.0,\"#f0f921\"]]}],\"contourcarpet\":[{\"type\":\"contourcarpet\",\"colorbar\":{\"outlinewidth\":0,\"ticks\":\"\"}}],\"contour\":[{\"type\":\"contour\",\"colorbar\":{\"outlinewidth\":0,\"ticks\":\"\"},\"colorscale\":[[0.0,\"#0d0887\"],[0.1111111111111111,\"#46039f\"],[0.2222222222222222,\"#7201a8\"],[0.3333333333333333,\"#9c179e\"],[0.4444444444444444,\"#bd3786\"],[0.5555555555555556,\"#d8576b\"],[0.6666666666666666,\"#ed7953\"],[0.7777777777777778,\"#fb9f3a\"],[0.8888888888888888,\"#fdca26\"],[1.0,\"#f0f921\"]]}],\"surface\":[{\"type\":\"surface\",\"colorbar\":{\"outlinewidth\":0,\"ticks\":\"\"},\"colorscale\":[[0.0,\"#0d0887\"],[0.1111111111111111,\"#46039f\"],[0.2222222222222222,\"#7201a8\"],[0.3333333333333333,\"#9c179e\"],[0.4444444444444444,\"#bd3786\"],[0.5555555555555556,\"#d8576b\"],[0.6666666666666666,\"#ed7953\"],[0.7777777777777778,\"#fb9f3a\"],[0.8888888888888888,\"#fdca26\"],[1.0,\"#f0f921\"]]}],\"mesh3d\":[{\"type\":\"mesh3d\",\"colorbar\":{\"outlinewidth\":0,\"ticks\":\"\"}}],\"scatter\":[{\"fillpattern\":{\"fillmode\":\"overlay\",\"size\":10,\"solidity\":0.2},\"type\":\"scatter\"}],\"parcoords\":[{\"type\":\"parcoords\",\"line\":{\"colorbar\":{\"outlinewidth\":0,\"ticks\":\"\"}}}],\"scatterpolargl\":[{\"type\":\"scatterpolargl\",\"marker\":{\"colorbar\":{\"outlinewidth\":0,\"ticks\":\"\"}}}],\"bar\":[{\"error_x\":{\"color\":\"#2a3f5f\"},\"error_y\":{\"color\":\"#2a3f5f\"},\"marker\":{\"line\":{\"color\":\"#E5ECF6\",\"width\":0.5},\"pattern\":{\"fillmode\":\"overlay\",\"size\":10,\"solidity\":0.2}},\"type\":\"bar\"}],\"scattergeo\":[{\"type\":\"scattergeo\",\"marker\":{\"colorbar\":{\"outlinewidth\":0,\"ticks\":\"\"}}}],\"scatterpolar\":[{\"type\":\"scatterpolar\",\"marker\":{\"colorbar\":{\"outlinewidth\":0,\"ticks\":\"\"}}}],\"histogram\":[{\"marker\":{\"pattern\":{\"fillmode\":\"overlay\",\"size\":10,\"solidity\":0.2}},\"type\":\"histogram\"}],\"scattergl\":[{\"type\":\"scattergl\",\"marker\":{\"colorbar\":{\"outlinewidth\":0,\"ticks\":\"\"}}}],\"scatter3d\":[{\"type\":\"scatter3d\",\"line\":{\"colorbar\":{\"outlinewidth\":0,\"ticks\":\"\"}},\"marker\":{\"colorbar\":{\"outlinewidth\":0,\"ticks\":\"\"}}}],\"scattermapbox\":[{\"type\":\"scattermapbox\",\"marker\":{\"colorbar\":{\"outlinewidth\":0,\"ticks\":\"\"}}}],\"scatterternary\":[{\"type\":\"scatterternary\",\"marker\":{\"colorbar\":{\"outlinewidth\":0,\"ticks\":\"\"}}}],\"scattercarpet\":[{\"type\":\"scattercarpet\",\"marker\":{\"colorbar\":{\"outlinewidth\":0,\"ticks\":\"\"}}}],\"carpet\":[{\"aaxis\":{\"endlinecolor\":\"#2a3f5f\",\"gridcolor\":\"white\",\"linecolor\":\"white\",\"minorgridcolor\":\"white\",\"startlinecolor\":\"#2a3f5f\"},\"baxis\":{\"endlinecolor\":\"#2a3f5f\",\"gridcolor\":\"white\",\"linecolor\":\"white\",\"minorgridcolor\":\"white\",\"startlinecolor\":\"#2a3f5f\"},\"type\":\"carpet\"}],\"table\":[{\"cells\":{\"fill\":{\"color\":\"#EBF0F8\"},\"line\":{\"color\":\"white\"}},\"header\":{\"fill\":{\"color\":\"#C8D4E3\"},\"line\":{\"color\":\"white\"}},\"type\":\"table\"}],\"barpolar\":[{\"marker\":{\"line\":{\"color\":\"#E5ECF6\",\"width\":0.5},\"pattern\":{\"fillmode\":\"overlay\",\"size\":10,\"solidity\":0.2}},\"type\":\"barpolar\"}],\"pie\":[{\"automargin\":true,\"type\":\"pie\"}]},\"layout\":{\"autotypenumbers\":\"strict\",\"colorway\":[\"#636efa\",\"#EF553B\",\"#00cc96\",\"#ab63fa\",\"#FFA15A\",\"#19d3f3\",\"#FF6692\",\"#B6E880\",\"#FF97FF\",\"#FECB52\"],\"font\":{\"color\":\"#2a3f5f\"},\"hovermode\":\"closest\",\"hoverlabel\":{\"align\":\"left\"},\"paper_bgcolor\":\"white\",\"plot_bgcolor\":\"#E5ECF6\",\"polar\":{\"bgcolor\":\"#E5ECF6\",\"angularaxis\":{\"gridcolor\":\"white\",\"linecolor\":\"white\",\"ticks\":\"\"},\"radialaxis\":{\"gridcolor\":\"white\",\"linecolor\":\"white\",\"ticks\":\"\"}},\"ternary\":{\"bgcolor\":\"#E5ECF6\",\"aaxis\":{\"gridcolor\":\"white\",\"linecolor\":\"white\",\"ticks\":\"\"},\"baxis\":{\"gridcolor\":\"white\",\"linecolor\":\"white\",\"ticks\":\"\"},\"caxis\":{\"gridcolor\":\"white\",\"linecolor\":\"white\",\"ticks\":\"\"}},\"coloraxis\":{\"colorbar\":{\"outlinewidth\":0,\"ticks\":\"\"}},\"colorscale\":{\"sequential\":[[0.0,\"#0d0887\"],[0.1111111111111111,\"#46039f\"],[0.2222222222222222,\"#7201a8\"],[0.3333333333333333,\"#9c179e\"],[0.4444444444444444,\"#bd3786\"],[0.5555555555555556,\"#d8576b\"],[0.6666666666666666,\"#ed7953\"],[0.7777777777777778,\"#fb9f3a\"],[0.8888888888888888,\"#fdca26\"],[1.0,\"#f0f921\"]],\"sequentialminus\":[[0.0,\"#0d0887\"],[0.1111111111111111,\"#46039f\"],[0.2222222222222222,\"#7201a8\"],[0.3333333333333333,\"#9c179e\"],[0.4444444444444444,\"#bd3786\"],[0.5555555555555556,\"#d8576b\"],[0.6666666666666666,\"#ed7953\"],[0.7777777777777778,\"#fb9f3a\"],[0.8888888888888888,\"#fdca26\"],[1.0,\"#f0f921\"]],\"diverging\":[[0,\"#8e0152\"],[0.1,\"#c51b7d\"],[0.2,\"#de77ae\"],[0.3,\"#f1b6da\"],[0.4,\"#fde0ef\"],[0.5,\"#f7f7f7\"],[0.6,\"#e6f5d0\"],[0.7,\"#b8e186\"],[0.8,\"#7fbc41\"],[0.9,\"#4d9221\"],[1,\"#276419\"]]},\"xaxis\":{\"gridcolor\":\"white\",\"linecolor\":\"white\",\"ticks\":\"\",\"title\":{\"standoff\":15},\"zerolinecolor\":\"white\",\"automargin\":true,\"zerolinewidth\":2},\"yaxis\":{\"gridcolor\":\"white\",\"linecolor\":\"white\",\"ticks\":\"\",\"title\":{\"standoff\":15},\"zerolinecolor\":\"white\",\"automargin\":true,\"zerolinewidth\":2},\"scene\":{\"xaxis\":{\"backgroundcolor\":\"#E5ECF6\",\"gridcolor\":\"white\",\"linecolor\":\"white\",\"showbackground\":true,\"ticks\":\"\",\"zerolinecolor\":\"white\",\"gridwidth\":2},\"yaxis\":{\"backgroundcolor\":\"#E5ECF6\",\"gridcolor\":\"white\",\"linecolor\":\"white\",\"showbackground\":true,\"ticks\":\"\",\"zerolinecolor\":\"white\",\"gridwidth\":2},\"zaxis\":{\"backgroundcolor\":\"#E5ECF6\",\"gridcolor\":\"white\",\"linecolor\":\"white\",\"showbackground\":true,\"ticks\":\"\",\"zerolinecolor\":\"white\",\"gridwidth\":2}},\"shapedefaults\":{\"line\":{\"color\":\"#2a3f5f\"}},\"annotationdefaults\":{\"arrowcolor\":\"#2a3f5f\",\"arrowhead\":0,\"arrowwidth\":1},\"geo\":{\"bgcolor\":\"white\",\"landcolor\":\"#E5ECF6\",\"subunitcolor\":\"white\",\"showland\":true,\"showlakes\":true,\"lakecolor\":\"white\"},\"title\":{\"x\":0.05},\"mapbox\":{\"style\":\"light\"}}},\"polar\":{\"domain\":{\"x\":[0.0,1.0],\"y\":[0.0,1.0]},\"angularaxis\":{\"direction\":\"clockwise\",\"rotation\":90}},\"legend\":{\"tracegroupgap\":0},\"margin\":{\"t\":60}},                        {\"responsive\": true}                    ).then(function(){\n",
       "                            \n",
       "var gd = document.getElementById('674a837b-161a-49a3-8e58-46a2faf8d5ea');\n",
       "var x = new MutationObserver(function (mutations, observer) {{\n",
       "        var display = window.getComputedStyle(gd).display;\n",
       "        if (!display || display === 'none') {{\n",
       "            console.log([gd, 'removed!']);\n",
       "            Plotly.purge(gd);\n",
       "            observer.disconnect();\n",
       "        }}\n",
       "}});\n",
       "\n",
       "// Listen for the removal of the full notebook cells\n",
       "var notebookContainer = gd.closest('#notebook-container');\n",
       "if (notebookContainer) {{\n",
       "    x.observe(notebookContainer, {childList: true});\n",
       "}}\n",
       "\n",
       "// Listen for the clearing of the current output cell\n",
       "var outputEl = gd.closest('.output');\n",
       "if (outputEl) {{\n",
       "    x.observe(outputEl, {childList: true});\n",
       "}}\n",
       "\n",
       "                        })                };                });            </script>        </div>"
      ]
     },
     "metadata": {},
     "output_type": "display_data"
    },
    {
     "data": {
      "image/png": "[encoded data removed]",
      "text/plain": [
       "<Figure size 1500x500 with 1 Axes>"
      ]
     },
     "metadata": {},
     "output_type": "display_data"
    }
   ],
   "source": [
    "sample_text = \"what a badass char is arthur, he is the best game char ever made, i luv rdr2\"\n",
    "predictions = predict(sample_text, best_model, tokenizer, device, max_len=128)\n",
    "print(f\"Predicted emotions for '{sample_text}': {predictions}\")\n",
    "\n",
    "predictions_array = predictions.squeeze()  # Remove unnecessary dimensions\n",
    "\n",
    "\n",
    "emotion_moodtags = []\n",
    "for items in predictions_array:\n",
    "    emotion_moodtags.append(items)\n",
    "\n",
    "fig = px.line_polar(pd.DataFrame(dict(r=emotion_moodtags, theta=EMOTION_LABELS)), r='r', theta='theta', line_close=True)\n",
    "fig.show()\n",
    "\n",
    "# fig = px.line_polar(pd.DataFrame(dict(r=emotion_moodtags, theta=EMOTION_LABELS)), r='r', theta='theta', line_close=True)\n",
    "# fig.show()\n",
    "\n",
    "    \n",
    "# Since predictions are probabilistic values, normalize to ensure they sum up to 1\n",
    "normalized_predictions = predictions_array / predictions_array.sum()  # Normalize the values\n",
    "\n",
    "## Horizontal Stacked Bar Plot\n",
    "\n",
    "fig, ax = plt.subplots(figsize=(15, 5))\n",
    "\n",
    "left = 0\n",
    "for i in range(len(normalized_predictions)):\n",
    "    ax.barh(0, normalized_predictions[i], color=plt.cm.tab10(i), left=left, label=EMOTION_LABELS[i])\n",
    "    left += normalized_predictions[i]\n",
    "\n",
    "# Add legend\n",
    "ax.set_xlim(0, 1)\n",
    "ax.set_yticks([])\n",
    "ax.set_xticks(np.arange(0, 1.1, 0.1))\n",
    "ax.legend(loc='upper center', bbox_to_anchor=(0.5, -0.05), ncol=len(EMOTION_LABELS))\n",
    "\n",
    "# Add title\n",
    "plt.title('Emotion Prediction Distribution')\n",
    "\n",
    "plt.show()\n"
   ]
  },
  {
   "cell_type": "code",
   "execution_count": 78,
   "id": "48c1c611",
   "metadata": {
    "execution": {
     "iopub.execute_input": "2024-11-29T19:01:06.043315Z",
     "iopub.status.busy": "2024-11-29T19:01:06.043013Z",
     "iopub.status.idle": "2024-11-29T19:01:06.285760Z",
     "shell.execute_reply": "2024-11-29T19:01:06.284678Z"
    },
    "papermill": {
     "duration": 0.27613,
     "end_time": "2024-11-29T19:01:06.288961",
     "exception": false,
     "start_time": "2024-11-29T19:01:06.012831",
     "status": "completed"
    },
    "tags": []
   },
   "outputs": [
    {
     "name": "stdout",
     "output_type": "stream",
     "text": [
      "Predicted emotions for 'I don't no fr y hes sooo sad.': [[0.01092991 0.00377975 0.00377853 0.00980998 0.01115605 0.96646357\n",
      "  0.01316012]]\n"
     ]
    },
    {
     "data": {
      "text/html": [
       "<div>                            <div id=\"b8197b13-696a-4da1-b0cf-469a7d3455ef\" class=\"plotly-graph-div\" style=\"height:525px; width:100%;\"></div>            <script type=\"text/javascript\">                require([\"plotly\"], function(Plotly) {                    window.PLOTLYENV=window.PLOTLYENV || {};                                    if (document.getElementById(\"b8197b13-696a-4da1-b0cf-469a7d3455ef\")) {                    Plotly.newPlot(                        \"b8197b13-696a-4da1-b0cf-469a7d3455ef\",                        [{\"hovertemplate\":\"r=%{r}\\u003cbr\\u003etheta=%{theta}\\u003cextra\\u003e\\u003c\\u002fextra\\u003e\",\"legendgroup\":\"\",\"line\":{\"color\":\"#636efa\",\"dash\":\"solid\"},\"marker\":{\"symbol\":\"circle\"},\"mode\":\"lines\",\"name\":\"\",\"r\":[0.010929913,0.003779747,0.0037785303,0.009809984,0.011156048,0.96646357,0.013160117,0.010929913],\"showlegend\":false,\"subplot\":\"polar\",\"theta\":[\"anger\",\"disgust\",\"fear\",\"joy\",\"neutral\",\"sadness\",\"surprise\",\"anger\"],\"type\":\"scatterpolar\"}],                        {\"template\":{\"data\":{\"histogram2dcontour\":[{\"type\":\"histogram2dcontour\",\"colorbar\":{\"outlinewidth\":0,\"ticks\":\"\"},\"colorscale\":[[0.0,\"#0d0887\"],[0.1111111111111111,\"#46039f\"],[0.2222222222222222,\"#7201a8\"],[0.3333333333333333,\"#9c179e\"],[0.4444444444444444,\"#bd3786\"],[0.5555555555555556,\"#d8576b\"],[0.6666666666666666,\"#ed7953\"],[0.7777777777777778,\"#fb9f3a\"],[0.8888888888888888,\"#fdca26\"],[1.0,\"#f0f921\"]]}],\"choropleth\":[{\"type\":\"choropleth\",\"colorbar\":{\"outlinewidth\":0,\"ticks\":\"\"}}],\"histogram2d\":[{\"type\":\"histogram2d\",\"colorbar\":{\"outlinewidth\":0,\"ticks\":\"\"},\"colorscale\":[[0.0,\"#0d0887\"],[0.1111111111111111,\"#46039f\"],[0.2222222222222222,\"#7201a8\"],[0.3333333333333333,\"#9c179e\"],[0.4444444444444444,\"#bd3786\"],[0.5555555555555556,\"#d8576b\"],[0.6666666666666666,\"#ed7953\"],[0.7777777777777778,\"#fb9f3a\"],[0.8888888888888888,\"#fdca26\"],[1.0,\"#f0f921\"]]}],\"heatmap\":[{\"type\":\"heatmap\",\"colorbar\":{\"outlinewidth\":0,\"ticks\":\"\"},\"colorscale\":[[0.0,\"#0d0887\"],[0.1111111111111111,\"#46039f\"],[0.2222222222222222,\"#7201a8\"],[0.3333333333333333,\"#9c179e\"],[0.4444444444444444,\"#bd3786\"],[0.5555555555555556,\"#d8576b\"],[0.6666666666666666,\"#ed7953\"],[0.7777777777777778,\"#fb9f3a\"],[0.8888888888888888,\"#fdca26\"],[1.0,\"#f0f921\"]]}],\"heatmapgl\":[{\"type\":\"heatmapgl\",\"colorbar\":{\"outlinewidth\":0,\"ticks\":\"\"},\"colorscale\":[[0.0,\"#0d0887\"],[0.1111111111111111,\"#46039f\"],[0.2222222222222222,\"#7201a8\"],[0.3333333333333333,\"#9c179e\"],[0.4444444444444444,\"#bd3786\"],[0.5555555555555556,\"#d8576b\"],[0.6666666666666666,\"#ed7953\"],[0.7777777777777778,\"#fb9f3a\"],[0.8888888888888888,\"#fdca26\"],[1.0,\"#f0f921\"]]}],\"contourcarpet\":[{\"type\":\"contourcarpet\",\"colorbar\":{\"outlinewidth\":0,\"ticks\":\"\"}}],\"contour\":[{\"type\":\"contour\",\"colorbar\":{\"outlinewidth\":0,\"ticks\":\"\"},\"colorscale\":[[0.0,\"#0d0887\"],[0.1111111111111111,\"#46039f\"],[0.2222222222222222,\"#7201a8\"],[0.3333333333333333,\"#9c179e\"],[0.4444444444444444,\"#bd3786\"],[0.5555555555555556,\"#d8576b\"],[0.6666666666666666,\"#ed7953\"],[0.7777777777777778,\"#fb9f3a\"],[0.8888888888888888,\"#fdca26\"],[1.0,\"#f0f921\"]]}],\"surface\":[{\"type\":\"surface\",\"colorbar\":{\"outlinewidth\":0,\"ticks\":\"\"},\"colorscale\":[[0.0,\"#0d0887\"],[0.1111111111111111,\"#46039f\"],[0.2222222222222222,\"#7201a8\"],[0.3333333333333333,\"#9c179e\"],[0.4444444444444444,\"#bd3786\"],[0.5555555555555556,\"#d8576b\"],[0.6666666666666666,\"#ed7953\"],[0.7777777777777778,\"#fb9f3a\"],[0.8888888888888888,\"#fdca26\"],[1.0,\"#f0f921\"]]}],\"mesh3d\":[{\"type\":\"mesh3d\",\"colorbar\":{\"outlinewidth\":0,\"ticks\":\"\"}}],\"scatter\":[{\"fillpattern\":{\"fillmode\":\"overlay\",\"size\":10,\"solidity\":0.2},\"type\":\"scatter\"}],\"parcoords\":[{\"type\":\"parcoords\",\"line\":{\"colorbar\":{\"outlinewidth\":0,\"ticks\":\"\"}}}],\"scatterpolargl\":[{\"type\":\"scatterpolargl\",\"marker\":{\"colorbar\":{\"outlinewidth\":0,\"ticks\":\"\"}}}],\"bar\":[{\"error_x\":{\"color\":\"#2a3f5f\"},\"error_y\":{\"color\":\"#2a3f5f\"},\"marker\":{\"line\":{\"color\":\"#E5ECF6\",\"width\":0.5},\"pattern\":{\"fillmode\":\"overlay\",\"size\":10,\"solidity\":0.2}},\"type\":\"bar\"}],\"scattergeo\":[{\"type\":\"scattergeo\",\"marker\":{\"colorbar\":{\"outlinewidth\":0,\"ticks\":\"\"}}}],\"scatterpolar\":[{\"type\":\"scatterpolar\",\"marker\":{\"colorbar\":{\"outlinewidth\":0,\"ticks\":\"\"}}}],\"histogram\":[{\"marker\":{\"pattern\":{\"fillmode\":\"overlay\",\"size\":10,\"solidity\":0.2}},\"type\":\"histogram\"}],\"scattergl\":[{\"type\":\"scattergl\",\"marker\":{\"colorbar\":{\"outlinewidth\":0,\"ticks\":\"\"}}}],\"scatter3d\":[{\"type\":\"scatter3d\",\"line\":{\"colorbar\":{\"outlinewidth\":0,\"ticks\":\"\"}},\"marker\":{\"colorbar\":{\"outlinewidth\":0,\"ticks\":\"\"}}}],\"scattermapbox\":[{\"type\":\"scattermapbox\",\"marker\":{\"colorbar\":{\"outlinewidth\":0,\"ticks\":\"\"}}}],\"scatterternary\":[{\"type\":\"scatterternary\",\"marker\":{\"colorbar\":{\"outlinewidth\":0,\"ticks\":\"\"}}}],\"scattercarpet\":[{\"type\":\"scattercarpet\",\"marker\":{\"colorbar\":{\"outlinewidth\":0,\"ticks\":\"\"}}}],\"carpet\":[{\"aaxis\":{\"endlinecolor\":\"#2a3f5f\",\"gridcolor\":\"white\",\"linecolor\":\"white\",\"minorgridcolor\":\"white\",\"startlinecolor\":\"#2a3f5f\"},\"baxis\":{\"endlinecolor\":\"#2a3f5f\",\"gridcolor\":\"white\",\"linecolor\":\"white\",\"minorgridcolor\":\"white\",\"startlinecolor\":\"#2a3f5f\"},\"type\":\"carpet\"}],\"table\":[{\"cells\":{\"fill\":{\"color\":\"#EBF0F8\"},\"line\":{\"color\":\"white\"}},\"header\":{\"fill\":{\"color\":\"#C8D4E3\"},\"line\":{\"color\":\"white\"}},\"type\":\"table\"}],\"barpolar\":[{\"marker\":{\"line\":{\"color\":\"#E5ECF6\",\"width\":0.5},\"pattern\":{\"fillmode\":\"overlay\",\"size\":10,\"solidity\":0.2}},\"type\":\"barpolar\"}],\"pie\":[{\"automargin\":true,\"type\":\"pie\"}]},\"layout\":{\"autotypenumbers\":\"strict\",\"colorway\":[\"#636efa\",\"#EF553B\",\"#00cc96\",\"#ab63fa\",\"#FFA15A\",\"#19d3f3\",\"#FF6692\",\"#B6E880\",\"#FF97FF\",\"#FECB52\"],\"font\":{\"color\":\"#2a3f5f\"},\"hovermode\":\"closest\",\"hoverlabel\":{\"align\":\"left\"},\"paper_bgcolor\":\"white\",\"plot_bgcolor\":\"#E5ECF6\",\"polar\":{\"bgcolor\":\"#E5ECF6\",\"angularaxis\":{\"gridcolor\":\"white\",\"linecolor\":\"white\",\"ticks\":\"\"},\"radialaxis\":{\"gridcolor\":\"white\",\"linecolor\":\"white\",\"ticks\":\"\"}},\"ternary\":{\"bgcolor\":\"#E5ECF6\",\"aaxis\":{\"gridcolor\":\"white\",\"linecolor\":\"white\",\"ticks\":\"\"},\"baxis\":{\"gridcolor\":\"white\",\"linecolor\":\"white\",\"ticks\":\"\"},\"caxis\":{\"gridcolor\":\"white\",\"linecolor\":\"white\",\"ticks\":\"\"}},\"coloraxis\":{\"colorbar\":{\"outlinewidth\":0,\"ticks\":\"\"}},\"colorscale\":{\"sequential\":[[0.0,\"#0d0887\"],[0.1111111111111111,\"#46039f\"],[0.2222222222222222,\"#7201a8\"],[0.3333333333333333,\"#9c179e\"],[0.4444444444444444,\"#bd3786\"],[0.5555555555555556,\"#d8576b\"],[0.6666666666666666,\"#ed7953\"],[0.7777777777777778,\"#fb9f3a\"],[0.8888888888888888,\"#fdca26\"],[1.0,\"#f0f921\"]],\"sequentialminus\":[[0.0,\"#0d0887\"],[0.1111111111111111,\"#46039f\"],[0.2222222222222222,\"#7201a8\"],[0.3333333333333333,\"#9c179e\"],[0.4444444444444444,\"#bd3786\"],[0.5555555555555556,\"#d8576b\"],[0.6666666666666666,\"#ed7953\"],[0.7777777777777778,\"#fb9f3a\"],[0.8888888888888888,\"#fdca26\"],[1.0,\"#f0f921\"]],\"diverging\":[[0,\"#8e0152\"],[0.1,\"#c51b7d\"],[0.2,\"#de77ae\"],[0.3,\"#f1b6da\"],[0.4,\"#fde0ef\"],[0.5,\"#f7f7f7\"],[0.6,\"#e6f5d0\"],[0.7,\"#b8e186\"],[0.8,\"#7fbc41\"],[0.9,\"#4d9221\"],[1,\"#276419\"]]},\"xaxis\":{\"gridcolor\":\"white\",\"linecolor\":\"white\",\"ticks\":\"\",\"title\":{\"standoff\":15},\"zerolinecolor\":\"white\",\"automargin\":true,\"zerolinewidth\":2},\"yaxis\":{\"gridcolor\":\"white\",\"linecolor\":\"white\",\"ticks\":\"\",\"title\":{\"standoff\":15},\"zerolinecolor\":\"white\",\"automargin\":true,\"zerolinewidth\":2},\"scene\":{\"xaxis\":{\"backgroundcolor\":\"#E5ECF6\",\"gridcolor\":\"white\",\"linecolor\":\"white\",\"showbackground\":true,\"ticks\":\"\",\"zerolinecolor\":\"white\",\"gridwidth\":2},\"yaxis\":{\"backgroundcolor\":\"#E5ECF6\",\"gridcolor\":\"white\",\"linecolor\":\"white\",\"showbackground\":true,\"ticks\":\"\",\"zerolinecolor\":\"white\",\"gridwidth\":2},\"zaxis\":{\"backgroundcolor\":\"#E5ECF6\",\"gridcolor\":\"white\",\"linecolor\":\"white\",\"showbackground\":true,\"ticks\":\"\",\"zerolinecolor\":\"white\",\"gridwidth\":2}},\"shapedefaults\":{\"line\":{\"color\":\"#2a3f5f\"}},\"annotationdefaults\":{\"arrowcolor\":\"#2a3f5f\",\"arrowhead\":0,\"arrowwidth\":1},\"geo\":{\"bgcolor\":\"white\",\"landcolor\":\"#E5ECF6\",\"subunitcolor\":\"white\",\"showland\":true,\"showlakes\":true,\"lakecolor\":\"white\"},\"title\":{\"x\":0.05},\"mapbox\":{\"style\":\"light\"}}},\"polar\":{\"domain\":{\"x\":[0.0,1.0],\"y\":[0.0,1.0]},\"angularaxis\":{\"direction\":\"clockwise\",\"rotation\":90}},\"legend\":{\"tracegroupgap\":0},\"margin\":{\"t\":60}},                        {\"responsive\": true}                    ).then(function(){\n",
       "                            \n",
       "var gd = document.getElementById('b8197b13-696a-4da1-b0cf-469a7d3455ef');\n",
       "var x = new MutationObserver(function (mutations, observer) {{\n",
       "        var display = window.getComputedStyle(gd).display;\n",
       "        if (!display || display === 'none') {{\n",
       "            console.log([gd, 'removed!']);\n",
       "            Plotly.purge(gd);\n",
       "            observer.disconnect();\n",
       "        }}\n",
       "}});\n",
       "\n",
       "// Listen for the removal of the full notebook cells\n",
       "var notebookContainer = gd.closest('#notebook-container');\n",
       "if (notebookContainer) {{\n",
       "    x.observe(notebookContainer, {childList: true});\n",
       "}}\n",
       "\n",
       "// Listen for the clearing of the current output cell\n",
       "var outputEl = gd.closest('.output');\n",
       "if (outputEl) {{\n",
       "    x.observe(outputEl, {childList: true});\n",
       "}}\n",
       "\n",
       "                        })                };                });            </script>        </div>"
      ]
     },
     "metadata": {},
     "output_type": "display_data"
    },
    {
     "data": {
      "image/png": "[encoded data removed]",
      "text/plain": [
       "<Figure size 1500x500 with 1 Axes>"
      ]
     },
     "metadata": {},
     "output_type": "display_data"
    }
   ],
   "source": [
    "sample_text = \"I don't no fr y hes sooo sad.\"\n",
    "predictions = predict(sample_text, best_model, tokenizer, device, max_len=128)\n",
    "print(f\"Predicted emotions for '{sample_text}': {predictions}\")\n",
    "\n",
    "predictions_array = predictions.squeeze()  # Remove unnecessary dimensions\n",
    "\n",
    "\n",
    "emotion_moodtags = []\n",
    "for items in predictions_array:\n",
    "    emotion_moodtags.append(items)\n",
    "\n",
    "fig = px.line_polar(pd.DataFrame(dict(r=emotion_moodtags, theta=EMOTION_LABELS)), r='r', theta='theta', line_close=True)\n",
    "fig.show()\n",
    "\n",
    "# fig = px.line_polar(pd.DataFrame(dict(r=emotion_moodtags, theta=EMOTION_LABELS)), r='r', theta='theta', line_close=True)\n",
    "# fig.show()\n",
    "\n",
    "    \n",
    "# Since predictions are probabilistic values, normalize to ensure they sum up to 1\n",
    "normalized_predictions = predictions_array / predictions_array.sum()  # Normalize the values\n",
    "\n",
    "## Horizontal Stacked Bar Plot\n",
    "\n",
    "fig, ax = plt.subplots(figsize=(15, 5))\n",
    "\n",
    "left = 0\n",
    "for i in range(len(normalized_predictions)):\n",
    "    ax.barh(0, normalized_predictions[i], color=plt.cm.tab10(i), left=left, label=EMOTION_LABELS[i])\n",
    "    left += normalized_predictions[i]\n",
    "\n",
    "# Add legend\n",
    "ax.set_xlim(0, 1)\n",
    "ax.set_yticks([])\n",
    "ax.set_xticks(np.arange(0, 1.1, 0.1))\n",
    "ax.legend(loc='upper center', bbox_to_anchor=(0.5, -0.05), ncol=len(EMOTION_LABELS))\n",
    "\n",
    "# Add title\n",
    "plt.title('Emotion Prediction Distribution')\n",
    "\n",
    "plt.show()\n"
   ]
  },
  {
   "cell_type": "code",
   "execution_count": 79,
   "id": "785c253c",
   "metadata": {
    "execution": {
     "iopub.execute_input": "2024-11-29T19:01:06.396047Z",
     "iopub.status.busy": "2024-11-29T19:01:06.395447Z",
     "iopub.status.idle": "2024-11-29T19:01:06.399395Z",
     "shell.execute_reply": "2024-11-29T19:01:06.398522Z"
    },
    "papermill": {
     "duration": 0.036722,
     "end_time": "2024-11-29T19:01:06.400956",
     "exception": false,
     "start_time": "2024-11-29T19:01:06.364234",
     "status": "completed"
    },
    "tags": []
   },
   "outputs": [],
   "source": [
    "# tokenizer = RobertaTokenizer.from_pretrained('roberta-base')\n",
    "# sample_text = \"hey! hru, wanna ply valo toni8?\"\n",
    "# predictions = predict(sample_text, best_model, tokenizer, max_len=128, device=device)\n",
    "# print(f\"Predictions: {predictions}\")"
   ]
  },
  {
   "cell_type": "code",
   "execution_count": 80,
   "id": "e128afac",
   "metadata": {
    "execution": {
     "iopub.execute_input": "2024-11-29T19:01:06.462626Z",
     "iopub.status.busy": "2024-11-29T19:01:06.462352Z",
     "iopub.status.idle": "2024-11-29T19:01:06.465655Z",
     "shell.execute_reply": "2024-11-29T19:01:06.464922Z"
    },
    "papermill": {
     "duration": 0.035674,
     "end_time": "2024-11-29T19:01:06.467263",
     "exception": false,
     "start_time": "2024-11-29T19:01:06.431589",
     "status": "completed"
    },
    "tags": []
   },
   "outputs": [],
   "source": [
    "# tokenizer = RobertaTokenizer.from_pretrained('roberta-base')\n",
    "# sample_text = \"hey! hru, wanna ply valo toni8?\"\n",
    "# predictions = predict(sample_text, best_model, tokenizer, max_len=128, device=device)\n",
    "# print(f\"Predictions: {predictions}\")"
   ]
  },
  {
   "cell_type": "code",
   "execution_count": 81,
   "id": "95bab602",
   "metadata": {
    "execution": {
     "iopub.execute_input": "2024-11-29T19:01:06.529019Z",
     "iopub.status.busy": "2024-11-29T19:01:06.528510Z",
     "iopub.status.idle": "2024-11-29T19:01:06.532167Z",
     "shell.execute_reply": "2024-11-29T19:01:06.531298Z"
    },
    "papermill": {
     "duration": 0.036518,
     "end_time": "2024-11-29T19:01:06.533689",
     "exception": false,
     "start_time": "2024-11-29T19:01:06.497171",
     "status": "completed"
    },
    "tags": []
   },
   "outputs": [],
   "source": [
    "# sample_text = \"hey! hru, wanna ply valo toni8?\"\n",
    "# best_model = RoBERTaEmotionModel('roberta-base').to(device)\n",
    "# best_model.load_state_dict(torch.load(\"best_model.pth\"))  # Assuming best model is saved during training\n",
    "# predicted_emotions = predict_emotions(best_model, sample_text, tokenizer, best_params['max_len'], device)\n",
    "# print(predicted_emotions)"
   ]
  }
 ],
 "metadata": {
  "kaggle": {
   "accelerator": "nvidiaTeslaT4",
   "dataSources": [
    {
     "datasetId": 5557640,
     "sourceId": 9500773,
     "sourceType": "datasetVersion"
    }
   ],
   "dockerImageVersionId": 30762,
   "isGpuEnabled": true,
   "isInternetEnabled": true,
   "language": "python",
   "sourceType": "notebook"
  },
  "kernelspec": {
   "display_name": "Python 3",
   "language": "python",
   "name": "python3"
  },
  "language_info": {
   "codemirror_mode": {
    "name": "ipython",
    "version": 3
   },
   "file_extension": ".py",
   "mimetype": "text/x-python",
   "name": "python",
   "nbconvert_exporter": "python",
   "pygments_lexer": "ipython3",
   "version": "3.10.14"
  },
  "papermill": {
   "default_parameters": {},
   "duration": 18765.118187,
   "end_time": "2024-11-29T19:01:11.884670",
   "environment_variables": {},
   "exception": null,
   "input_path": "__notebook__.ipynb",
   "output_path": "__notebook__.ipynb",
   "parameters": {},
   "start_time": "2024-11-29T13:48:26.766483",
   "version": "2.6.0"
  },
  "widgets": {
   "application/vnd.jupyter.widget-state+json": {
    "state": {
     "05cb6bbd56db48ddb5705477d08f8970": {
      "model_module": "@jupyter-widgets/base",
      "model_module_version": "1.2.0",
      "model_name": "LayoutModel",
      "state": {
       "_model_module": "@jupyter-widgets/base",
       "_model_module_version": "1.2.0",
       "_model_name": "LayoutModel",
       "_view_count": null,
       "_view_module": "@jupyter-widgets/base",
       "_view_module_version": "1.2.0",
       "_view_name": "LayoutView",
       "align_content": null,
       "align_items": null,
       "align_self": null,
       "border": null,
       "bottom": null,
       "display": null,
       "flex": null,
       "flex_flow": null,
       "grid_area": null,
       "grid_auto_columns": null,
       "grid_auto_flow": null,
       "grid_auto_rows": null,
       "grid_column": null,
       "grid_gap": null,
       "grid_row": null,
       "grid_template_areas": null,
       "grid_template_columns": null,
       "grid_template_rows": null,
       "height": null,
       "justify_content": null,
       "justify_items": null,
       "left": null,
       "margin": null,
       "max_height": null,
       "max_width": null,
       "min_height": null,
       "min_width": null,
       "object_fit": null,
       "object_position": null,
       "order": null,
       "overflow": null,
       "overflow_x": null,
       "overflow_y": null,
       "padding": null,
       "right": null,
       "top": null,
       "visibility": null,
       "width": null
      }
     },
     "0f092c681db749728e5a96fe9a0e4a2e": {
      "model_module": "@jupyter-widgets/controls",
      "model_module_version": "1.5.0",
      "model_name": "HTMLModel",
      "state": {
       "_dom_classes": [],
       "_model_module": "@jupyter-widgets/controls",
       "_model_module_version": "1.5.0",
       "_model_name": "HTMLModel",
       "_view_count": null,
       "_view_module": "@jupyter-widgets/controls",
       "_view_module_version": "1.5.0",
       "_view_name": "HTMLView",
       "description": "",
       "description_tooltip": null,
       "layout": "IPY_MODEL_a7bbe9719c3948b18d14885c8fff0109",
       "placeholder": "​",
       "style": "IPY_MODEL_45648441641d4e04859aa3b4141c4023",
       "value": " 579/579 [00:00&lt;00:00, 60.4kB/s]"
      }
     },
     "157ec83f46e249cc9ff0cf80d51bb72a": {
      "model_module": "@jupyter-widgets/controls",
      "model_module_version": "1.5.0",
      "model_name": "HTMLModel",
      "state": {
       "_dom_classes": [],
       "_model_module": "@jupyter-widgets/controls",
       "_model_module_version": "1.5.0",
       "_model_name": "HTMLModel",
       "_view_count": null,
       "_view_module": "@jupyter-widgets/controls",
       "_view_module_version": "1.5.0",
       "_view_name": "HTMLView",
       "description": "",
       "description_tooltip": null,
       "layout": "IPY_MODEL_487131017c8842a98ec76662b7f480a6",
       "placeholder": "​",
       "style": "IPY_MODEL_794b6c917f5a4110b4ae34bb34cb36ce",
       "value": "tokenizer_config.json: 100%"
      }
     },
     "176637c20ba143bc83f17b9ebd7e0778": {
      "model_module": "@jupyter-widgets/controls",
      "model_module_version": "1.5.0",
      "model_name": "HTMLModel",
      "state": {
       "_dom_classes": [],
       "_model_module": "@jupyter-widgets/controls",
       "_model_module_version": "1.5.0",
       "_model_name": "HTMLModel",
       "_view_count": null,
       "_view_module": "@jupyter-widgets/controls",
       "_view_module_version": "1.5.0",
       "_view_name": "HTMLView",
       "description": "",
       "description_tooltip": null,
       "layout": "IPY_MODEL_5f430b4863a049fd882e20c073d5e654",
       "placeholder": "​",
       "style": "IPY_MODEL_e4fcff00dc78461daa8be7f25ac29ae4",
       "value": "config.json: 100%"
      }
     },
     "313d466891354fbe927c93b95d0dc87e": {
      "model_module": "@jupyter-widgets/controls",
      "model_module_version": "1.5.0",
      "model_name": "DescriptionStyleModel",
      "state": {
       "_model_module": "@jupyter-widgets/controls",
       "_model_module_version": "1.5.0",
       "_model_name": "DescriptionStyleModel",
       "_view_count": null,
       "_view_module": "@jupyter-widgets/base",
       "_view_module_version": "1.2.0",
       "_view_name": "StyleView",
       "description_width": ""
      }
     },
     "3bdc49ad53ff44e9b9a77f7eb63cc837": {
      "model_module": "@jupyter-widgets/controls",
      "model_module_version": "1.5.0",
      "model_name": "HTMLModel",
      "state": {
       "_dom_classes": [],
       "_model_module": "@jupyter-widgets/controls",
       "_model_module_version": "1.5.0",
       "_model_name": "HTMLModel",
       "_view_count": null,
       "_view_module": "@jupyter-widgets/controls",
       "_view_module_version": "1.5.0",
       "_view_name": "HTMLView",
       "description": "",
       "description_tooltip": null,
       "layout": "IPY_MODEL_c0f40cdb37fc49f2b8c30e6a2c896c42",
       "placeholder": "​",
       "style": "IPY_MODEL_313d466891354fbe927c93b95d0dc87e",
       "value": "spm.model: 100%"
      }
     },
     "45648441641d4e04859aa3b4141c4023": {
      "model_module": "@jupyter-widgets/controls",
      "model_module_version": "1.5.0",
      "model_name": "DescriptionStyleModel",
      "state": {
       "_model_module": "@jupyter-widgets/controls",
       "_model_module_version": "1.5.0",
       "_model_name": "DescriptionStyleModel",
       "_view_count": null,
       "_view_module": "@jupyter-widgets/base",
       "_view_module_version": "1.2.0",
       "_view_name": "StyleView",
       "description_width": ""
      }
     },
     "487131017c8842a98ec76662b7f480a6": {
      "model_module": "@jupyter-widgets/base",
      "model_module_version": "1.2.0",
      "model_name": "LayoutModel",
      "state": {
       "_model_module": "@jupyter-widgets/base",
       "_model_module_version": "1.2.0",
       "_model_name": "LayoutModel",
       "_view_count": null,
       "_view_module": "@jupyter-widgets/base",
       "_view_module_version": "1.2.0",
       "_view_name": "LayoutView",
       "align_content": null,
       "align_items": null,
       "align_self": null,
       "border": null,
       "bottom": null,
       "display": null,
       "flex": null,
       "flex_flow": null,
       "grid_area": null,
       "grid_auto_columns": null,
       "grid_auto_flow": null,
       "grid_auto_rows": null,
       "grid_column": null,
       "grid_gap": null,
       "grid_row": null,
       "grid_template_areas": null,
       "grid_template_columns": null,
       "grid_template_rows": null,
       "height": null,
       "justify_content": null,
       "justify_items": null,
       "left": null,
       "margin": null,
       "max_height": null,
       "max_width": null,
       "min_height": null,
       "min_width": null,
       "object_fit": null,
       "object_position": null,
       "order": null,
       "overflow": null,
       "overflow_x": null,
       "overflow_y": null,
       "padding": null,
       "right": null,
       "top": null,
       "visibility": null,
       "width": null
      }
     },
     "5f430b4863a049fd882e20c073d5e654": {
      "model_module": "@jupyter-widgets/base",
      "model_module_version": "1.2.0",
      "model_name": "LayoutModel",
      "state": {
       "_model_module": "@jupyter-widgets/base",
       "_model_module_version": "1.2.0",
       "_model_name": "LayoutModel",
       "_view_count": null,
       "_view_module": "@jupyter-widgets/base",
       "_view_module_version": "1.2.0",
       "_view_name": "LayoutView",
       "align_content": null,
       "align_items": null,
       "align_self": null,
       "border": null,
       "bottom": null,
       "display": null,
       "flex": null,
       "flex_flow": null,
       "grid_area": null,
       "grid_auto_columns": null,
       "grid_auto_flow": null,
       "grid_auto_rows": null,
       "grid_column": null,
       "grid_gap": null,
       "grid_row": null,
       "grid_template_areas": null,
       "grid_template_columns": null,
       "grid_template_rows": null,
       "height": null,
       "justify_content": null,
       "justify_items": null,
       "left": null,
       "margin": null,
       "max_height": null,
       "max_width": null,
       "min_height": null,
       "min_width": null,
       "object_fit": null,
       "object_position": null,
       "order": null,
       "overflow": null,
       "overflow_x": null,
       "overflow_y": null,
       "padding": null,
       "right": null,
       "top": null,
       "visibility": null,
       "width": null
      }
     },
     "6845965154514afebce9778049b8d311": {
      "model_module": "@jupyter-widgets/controls",
      "model_module_version": "1.5.0",
      "model_name": "FloatProgressModel",
      "state": {
       "_dom_classes": [],
       "_model_module": "@jupyter-widgets/controls",
       "_model_module_version": "1.5.0",
       "_model_name": "FloatProgressModel",
       "_view_count": null,
       "_view_module": "@jupyter-widgets/controls",
       "_view_module_version": "1.5.0",
       "_view_name": "ProgressView",
       "bar_style": "success",
       "description": "",
       "description_tooltip": null,
       "layout": "IPY_MODEL_be78e7a15b5f4db6bc9326e6154627e5",
       "max": 2464616.0,
       "min": 0.0,
       "orientation": "horizontal",
       "style": "IPY_MODEL_eab1c90ae51848dc911908dfda737957",
       "value": 2464616.0
      }
     },
     "6d8ef6bcfa594878b0ac8dd15fe5ec15": {
      "model_module": "@jupyter-widgets/controls",
      "model_module_version": "1.5.0",
      "model_name": "HTMLModel",
      "state": {
       "_dom_classes": [],
       "_model_module": "@jupyter-widgets/controls",
       "_model_module_version": "1.5.0",
       "_model_name": "HTMLModel",
       "_view_count": null,
       "_view_module": "@jupyter-widgets/controls",
       "_view_module_version": "1.5.0",
       "_view_name": "HTMLView",
       "description": "",
       "description_tooltip": null,
       "layout": "IPY_MODEL_fe73d2e1856c44269ea0157b545e39eb",
       "placeholder": "​",
       "style": "IPY_MODEL_dc2a9774443c482999f424e3435e1422",
       "value": " 52.0/52.0 [00:00&lt;00:00, 4.97kB/s]"
      }
     },
     "73740f0fa51241a88092f5d83ab90f90": {
      "model_module": "@jupyter-widgets/base",
      "model_module_version": "1.2.0",
      "model_name": "LayoutModel",
      "state": {
       "_model_module": "@jupyter-widgets/base",
       "_model_module_version": "1.2.0",
       "_model_name": "LayoutModel",
       "_view_count": null,
       "_view_module": "@jupyter-widgets/base",
       "_view_module_version": "1.2.0",
       "_view_name": "LayoutView",
       "align_content": null,
       "align_items": null,
       "align_self": null,
       "border": null,
       "bottom": null,
       "display": null,
       "flex": null,
       "flex_flow": null,
       "grid_area": null,
       "grid_auto_columns": null,
       "grid_auto_flow": null,
       "grid_auto_rows": null,
       "grid_column": null,
       "grid_gap": null,
       "grid_row": null,
       "grid_template_areas": null,
       "grid_template_columns": null,
       "grid_template_rows": null,
       "height": null,
       "justify_content": null,
       "justify_items": null,
       "left": null,
       "margin": null,
       "max_height": null,
       "max_width": null,
       "min_height": null,
       "min_width": null,
       "object_fit": null,
       "object_position": null,
       "order": null,
       "overflow": null,
       "overflow_x": null,
       "overflow_y": null,
       "padding": null,
       "right": null,
       "top": null,
       "visibility": null,
       "width": null
      }
     },
     "794b6c917f5a4110b4ae34bb34cb36ce": {
      "model_module": "@jupyter-widgets/controls",
      "model_module_version": "1.5.0",
      "model_name": "DescriptionStyleModel",
      "state": {
       "_model_module": "@jupyter-widgets/controls",
       "_model_module_version": "1.5.0",
       "_model_name": "DescriptionStyleModel",
       "_view_count": null,
       "_view_module": "@jupyter-widgets/base",
       "_view_module_version": "1.2.0",
       "_view_name": "StyleView",
       "description_width": ""
      }
     },
     "7e0571fb07024fd1a3da6034907b502e": {
      "model_module": "@jupyter-widgets/controls",
      "model_module_version": "1.5.0",
      "model_name": "HBoxModel",
      "state": {
       "_dom_classes": [],
       "_model_module": "@jupyter-widgets/controls",
       "_model_module_version": "1.5.0",
       "_model_name": "HBoxModel",
       "_view_count": null,
       "_view_module": "@jupyter-widgets/controls",
       "_view_module_version": "1.5.0",
       "_view_name": "HBoxView",
       "box_style": "",
       "children": [
        "IPY_MODEL_176637c20ba143bc83f17b9ebd7e0778",
        "IPY_MODEL_888f4f6ae6c040e7bf3bc49417db56eb",
        "IPY_MODEL_0f092c681db749728e5a96fe9a0e4a2e"
       ],
       "layout": "IPY_MODEL_73740f0fa51241a88092f5d83ab90f90"
      }
     },
     "888f4f6ae6c040e7bf3bc49417db56eb": {
      "model_module": "@jupyter-widgets/controls",
      "model_module_version": "1.5.0",
      "model_name": "FloatProgressModel",
      "state": {
       "_dom_classes": [],
       "_model_module": "@jupyter-widgets/controls",
       "_model_module_version": "1.5.0",
       "_model_name": "FloatProgressModel",
       "_view_count": null,
       "_view_module": "@jupyter-widgets/controls",
       "_view_module_version": "1.5.0",
       "_view_name": "ProgressView",
       "bar_style": "success",
       "description": "",
       "description_tooltip": null,
       "layout": "IPY_MODEL_b190c7d804f64519b7d866f822e0f8ec",
       "max": 579.0,
       "min": 0.0,
       "orientation": "horizontal",
       "style": "IPY_MODEL_d67bba220e5f433693b6282bec2eba78",
       "value": 579.0
      }
     },
     "91343e06f8124833aac7683f490e0c00": {
      "model_module": "@jupyter-widgets/controls",
      "model_module_version": "1.5.0",
      "model_name": "HBoxModel",
      "state": {
       "_dom_classes": [],
       "_model_module": "@jupyter-widgets/controls",
       "_model_module_version": "1.5.0",
       "_model_name": "HBoxModel",
       "_view_count": null,
       "_view_module": "@jupyter-widgets/controls",
       "_view_module_version": "1.5.0",
       "_view_name": "HBoxView",
       "box_style": "",
       "children": [
        "IPY_MODEL_3bdc49ad53ff44e9b9a77f7eb63cc837",
        "IPY_MODEL_6845965154514afebce9778049b8d311",
        "IPY_MODEL_e0e0c877d4e548fdbb3d85aff69fe778"
       ],
       "layout": "IPY_MODEL_05cb6bbd56db48ddb5705477d08f8970"
      }
     },
     "a7bbe9719c3948b18d14885c8fff0109": {
      "model_module": "@jupyter-widgets/base",
      "model_module_version": "1.2.0",
      "model_name": "LayoutModel",
      "state": {
       "_model_module": "@jupyter-widgets/base",
       "_model_module_version": "1.2.0",
       "_model_name": "LayoutModel",
       "_view_count": null,
       "_view_module": "@jupyter-widgets/base",
       "_view_module_version": "1.2.0",
       "_view_name": "LayoutView",
       "align_content": null,
       "align_items": null,
       "align_self": null,
       "border": null,
       "bottom": null,
       "display": null,
       "flex": null,
       "flex_flow": null,
       "grid_area": null,
       "grid_auto_columns": null,
       "grid_auto_flow": null,
       "grid_auto_rows": null,
       "grid_column": null,
       "grid_gap": null,
       "grid_row": null,
       "grid_template_areas": null,
       "grid_template_columns": null,
       "grid_template_rows": null,
       "height": null,
       "justify_content": null,
       "justify_items": null,
       "left": null,
       "margin": null,
       "max_height": null,
       "max_width": null,
       "min_height": null,
       "min_width": null,
       "object_fit": null,
       "object_position": null,
       "order": null,
       "overflow": null,
       "overflow_x": null,
       "overflow_y": null,
       "padding": null,
       "right": null,
       "top": null,
       "visibility": null,
       "width": null
      }
     },
     "af6790fcc2814fc79686aa915f774263": {
      "model_module": "@jupyter-widgets/base",
      "model_module_version": "1.2.0",
      "model_name": "LayoutModel",
      "state": {
       "_model_module": "@jupyter-widgets/base",
       "_model_module_version": "1.2.0",
       "_model_name": "LayoutModel",
       "_view_count": null,
       "_view_module": "@jupyter-widgets/base",
       "_view_module_version": "1.2.0",
       "_view_name": "LayoutView",
       "align_content": null,
       "align_items": null,
       "align_self": null,
       "border": null,
       "bottom": null,
       "display": null,
       "flex": null,
       "flex_flow": null,
       "grid_area": null,
       "grid_auto_columns": null,
       "grid_auto_flow": null,
       "grid_auto_rows": null,
       "grid_column": null,
       "grid_gap": null,
       "grid_row": null,
       "grid_template_areas": null,
       "grid_template_columns": null,
       "grid_template_rows": null,
       "height": null,
       "justify_content": null,
       "justify_items": null,
       "left": null,
       "margin": null,
       "max_height": null,
       "max_width": null,
       "min_height": null,
       "min_width": null,
       "object_fit": null,
       "object_position": null,
       "order": null,
       "overflow": null,
       "overflow_x": null,
       "overflow_y": null,
       "padding": null,
       "right": null,
       "top": null,
       "visibility": null,
       "width": null
      }
     },
     "b099215b968d4eadb54a083609d2ccc1": {
      "model_module": "@jupyter-widgets/base",
      "model_module_version": "1.2.0",
      "model_name": "LayoutModel",
      "state": {
       "_model_module": "@jupyter-widgets/base",
       "_model_module_version": "1.2.0",
       "_model_name": "LayoutModel",
       "_view_count": null,
       "_view_module": "@jupyter-widgets/base",
       "_view_module_version": "1.2.0",
       "_view_name": "LayoutView",
       "align_content": null,
       "align_items": null,
       "align_self": null,
       "border": null,
       "bottom": null,
       "display": null,
       "flex": null,
       "flex_flow": null,
       "grid_area": null,
       "grid_auto_columns": null,
       "grid_auto_flow": null,
       "grid_auto_rows": null,
       "grid_column": null,
       "grid_gap": null,
       "grid_row": null,
       "grid_template_areas": null,
       "grid_template_columns": null,
       "grid_template_rows": null,
       "height": null,
       "justify_content": null,
       "justify_items": null,
       "left": null,
       "margin": null,
       "max_height": null,
       "max_width": null,
       "min_height": null,
       "min_width": null,
       "object_fit": null,
       "object_position": null,
       "order": null,
       "overflow": null,
       "overflow_x": null,
       "overflow_y": null,
       "padding": null,
       "right": null,
       "top": null,
       "visibility": null,
       "width": null
      }
     },
     "b190c7d804f64519b7d866f822e0f8ec": {
      "model_module": "@jupyter-widgets/base",
      "model_module_version": "1.2.0",
      "model_name": "LayoutModel",
      "state": {
       "_model_module": "@jupyter-widgets/base",
       "_model_module_version": "1.2.0",
       "_model_name": "LayoutModel",
       "_view_count": null,
       "_view_module": "@jupyter-widgets/base",
       "_view_module_version": "1.2.0",
       "_view_name": "LayoutView",
       "align_content": null,
       "align_items": null,
       "align_self": null,
       "border": null,
       "bottom": null,
       "display": null,
       "flex": null,
       "flex_flow": null,
       "grid_area": null,
       "grid_auto_columns": null,
       "grid_auto_flow": null,
       "grid_auto_rows": null,
       "grid_column": null,
       "grid_gap": null,
       "grid_row": null,
       "grid_template_areas": null,
       "grid_template_columns": null,
       "grid_template_rows": null,
       "height": null,
       "justify_content": null,
       "justify_items": null,
       "left": null,
       "margin": null,
       "max_height": null,
       "max_width": null,
       "min_height": null,
       "min_width": null,
       "object_fit": null,
       "object_position": null,
       "order": null,
       "overflow": null,
       "overflow_x": null,
       "overflow_y": null,
       "padding": null,
       "right": null,
       "top": null,
       "visibility": null,
       "width": null
      }
     },
     "b39fb516d80240ca9744c498feba8e4f": {
      "model_module": "@jupyter-widgets/base",
      "model_module_version": "1.2.0",
      "model_name": "LayoutModel",
      "state": {
       "_model_module": "@jupyter-widgets/base",
       "_model_module_version": "1.2.0",
       "_model_name": "LayoutModel",
       "_view_count": null,
       "_view_module": "@jupyter-widgets/base",
       "_view_module_version": "1.2.0",
       "_view_name": "LayoutView",
       "align_content": null,
       "align_items": null,
       "align_self": null,
       "border": null,
       "bottom": null,
       "display": null,
       "flex": null,
       "flex_flow": null,
       "grid_area": null,
       "grid_auto_columns": null,
       "grid_auto_flow": null,
       "grid_auto_rows": null,
       "grid_column": null,
       "grid_gap": null,
       "grid_row": null,
       "grid_template_areas": null,
       "grid_template_columns": null,
       "grid_template_rows": null,
       "height": null,
       "justify_content": null,
       "justify_items": null,
       "left": null,
       "margin": null,
       "max_height": null,
       "max_width": null,
       "min_height": null,
       "min_width": null,
       "object_fit": null,
       "object_position": null,
       "order": null,
       "overflow": null,
       "overflow_x": null,
       "overflow_y": null,
       "padding": null,
       "right": null,
       "top": null,
       "visibility": null,
       "width": null
      }
     },
     "be78e7a15b5f4db6bc9326e6154627e5": {
      "model_module": "@jupyter-widgets/base",
      "model_module_version": "1.2.0",
      "model_name": "LayoutModel",
      "state": {
       "_model_module": "@jupyter-widgets/base",
       "_model_module_version": "1.2.0",
       "_model_name": "LayoutModel",
       "_view_count": null,
       "_view_module": "@jupyter-widgets/base",
       "_view_module_version": "1.2.0",
       "_view_name": "LayoutView",
       "align_content": null,
       "align_items": null,
       "align_self": null,
       "border": null,
       "bottom": null,
       "display": null,
       "flex": null,
       "flex_flow": null,
       "grid_area": null,
       "grid_auto_columns": null,
       "grid_auto_flow": null,
       "grid_auto_rows": null,
       "grid_column": null,
       "grid_gap": null,
       "grid_row": null,
       "grid_template_areas": null,
       "grid_template_columns": null,
       "grid_template_rows": null,
       "height": null,
       "justify_content": null,
       "justify_items": null,
       "left": null,
       "margin": null,
       "max_height": null,
       "max_width": null,
       "min_height": null,
       "min_width": null,
       "object_fit": null,
       "object_position": null,
       "order": null,
       "overflow": null,
       "overflow_x": null,
       "overflow_y": null,
       "padding": null,
       "right": null,
       "top": null,
       "visibility": null,
       "width": null
      }
     },
     "c0f40cdb37fc49f2b8c30e6a2c896c42": {
      "model_module": "@jupyter-widgets/base",
      "model_module_version": "1.2.0",
      "model_name": "LayoutModel",
      "state": {
       "_model_module": "@jupyter-widgets/base",
       "_model_module_version": "1.2.0",
       "_model_name": "LayoutModel",
       "_view_count": null,
       "_view_module": "@jupyter-widgets/base",
       "_view_module_version": "1.2.0",
       "_view_name": "LayoutView",
       "align_content": null,
       "align_items": null,
       "align_self": null,
       "border": null,
       "bottom": null,
       "display": null,
       "flex": null,
       "flex_flow": null,
       "grid_area": null,
       "grid_auto_columns": null,
       "grid_auto_flow": null,
       "grid_auto_rows": null,
       "grid_column": null,
       "grid_gap": null,
       "grid_row": null,
       "grid_template_areas": null,
       "grid_template_columns": null,
       "grid_template_rows": null,
       "height": null,
       "justify_content": null,
       "justify_items": null,
       "left": null,
       "margin": null,
       "max_height": null,
       "max_width": null,
       "min_height": null,
       "min_width": null,
       "object_fit": null,
       "object_position": null,
       "order": null,
       "overflow": null,
       "overflow_x": null,
       "overflow_y": null,
       "padding": null,
       "right": null,
       "top": null,
       "visibility": null,
       "width": null
      }
     },
     "c27bfe67bb0743d4968c07a6d8c6e737": {
      "model_module": "@jupyter-widgets/controls",
      "model_module_version": "1.5.0",
      "model_name": "HBoxModel",
      "state": {
       "_dom_classes": [],
       "_model_module": "@jupyter-widgets/controls",
       "_model_module_version": "1.5.0",
       "_model_name": "HBoxModel",
       "_view_count": null,
       "_view_module": "@jupyter-widgets/controls",
       "_view_module_version": "1.5.0",
       "_view_name": "HBoxView",
       "box_style": "",
       "children": [
        "IPY_MODEL_157ec83f46e249cc9ff0cf80d51bb72a",
        "IPY_MODEL_d2ff87c7df6a499fb866640e9c41b119",
        "IPY_MODEL_6d8ef6bcfa594878b0ac8dd15fe5ec15"
       ],
       "layout": "IPY_MODEL_b099215b968d4eadb54a083609d2ccc1"
      }
     },
     "d2ff87c7df6a499fb866640e9c41b119": {
      "model_module": "@jupyter-widgets/controls",
      "model_module_version": "1.5.0",
      "model_name": "FloatProgressModel",
      "state": {
       "_dom_classes": [],
       "_model_module": "@jupyter-widgets/controls",
       "_model_module_version": "1.5.0",
       "_model_name": "FloatProgressModel",
       "_view_count": null,
       "_view_module": "@jupyter-widgets/controls",
       "_view_module_version": "1.5.0",
       "_view_name": "ProgressView",
       "bar_style": "success",
       "description": "",
       "description_tooltip": null,
       "layout": "IPY_MODEL_af6790fcc2814fc79686aa915f774263",
       "max": 52.0,
       "min": 0.0,
       "orientation": "horizontal",
       "style": "IPY_MODEL_d9904fe5a31044e8bb68e14a17d0c854",
       "value": 52.0
      }
     },
     "d67bba220e5f433693b6282bec2eba78": {
      "model_module": "@jupyter-widgets/controls",
      "model_module_version": "1.5.0",
      "model_name": "ProgressStyleModel",
      "state": {
       "_model_module": "@jupyter-widgets/controls",
       "_model_module_version": "1.5.0",
       "_model_name": "ProgressStyleModel",
       "_view_count": null,
       "_view_module": "@jupyter-widgets/base",
       "_view_module_version": "1.2.0",
       "_view_name": "StyleView",
       "bar_color": null,
       "description_width": ""
      }
     },
     "d9904fe5a31044e8bb68e14a17d0c854": {
      "model_module": "@jupyter-widgets/controls",
      "model_module_version": "1.5.0",
      "model_name": "ProgressStyleModel",
      "state": {
       "_model_module": "@jupyter-widgets/controls",
       "_model_module_version": "1.5.0",
       "_model_name": "ProgressStyleModel",
       "_view_count": null,
       "_view_module": "@jupyter-widgets/base",
       "_view_module_version": "1.2.0",
       "_view_name": "StyleView",
       "bar_color": null,
       "description_width": ""
      }
     },
     "dc2a9774443c482999f424e3435e1422": {
      "model_module": "@jupyter-widgets/controls",
      "model_module_version": "1.5.0",
      "model_name": "DescriptionStyleModel",
      "state": {
       "_model_module": "@jupyter-widgets/controls",
       "_model_module_version": "1.5.0",
       "_model_name": "DescriptionStyleModel",
       "_view_count": null,
       "_view_module": "@jupyter-widgets/base",
       "_view_module_version": "1.2.0",
       "_view_name": "StyleView",
       "description_width": ""
      }
     },
     "e0e0c877d4e548fdbb3d85aff69fe778": {
      "model_module": "@jupyter-widgets/controls",
      "model_module_version": "1.5.0",
      "model_name": "HTMLModel",
      "state": {
       "_dom_classes": [],
       "_model_module": "@jupyter-widgets/controls",
       "_model_module_version": "1.5.0",
       "_model_name": "HTMLModel",
       "_view_count": null,
       "_view_module": "@jupyter-widgets/controls",
       "_view_module_version": "1.5.0",
       "_view_name": "HTMLView",
       "description": "",
       "description_tooltip": null,
       "layout": "IPY_MODEL_b39fb516d80240ca9744c498feba8e4f",
       "placeholder": "​",
       "style": "IPY_MODEL_f74b5168299545598181efe3d5281727",
       "value": " 2.46M/2.46M [00:00&lt;00:00, 34.6MB/s]"
      }
     },
     "e4fcff00dc78461daa8be7f25ac29ae4": {
      "model_module": "@jupyter-widgets/controls",
      "model_module_version": "1.5.0",
      "model_name": "DescriptionStyleModel",
      "state": {
       "_model_module": "@jupyter-widgets/controls",
       "_model_module_version": "1.5.0",
       "_model_name": "DescriptionStyleModel",
       "_view_count": null,
       "_view_module": "@jupyter-widgets/base",
       "_view_module_version": "1.2.0",
       "_view_name": "StyleView",
       "description_width": ""
      }
     },
     "eab1c90ae51848dc911908dfda737957": {
      "model_module": "@jupyter-widgets/controls",
      "model_module_version": "1.5.0",
      "model_name": "ProgressStyleModel",
      "state": {
       "_model_module": "@jupyter-widgets/controls",
       "_model_module_version": "1.5.0",
       "_model_name": "ProgressStyleModel",
       "_view_count": null,
       "_view_module": "@jupyter-widgets/base",
       "_view_module_version": "1.2.0",
       "_view_name": "StyleView",
       "bar_color": null,
       "description_width": ""
      }
     },
     "f74b5168299545598181efe3d5281727": {
      "model_module": "@jupyter-widgets/controls",
      "model_module_version": "1.5.0",
      "model_name": "DescriptionStyleModel",
      "state": {
       "_model_module": "@jupyter-widgets/controls",
       "_model_module_version": "1.5.0",
       "_model_name": "DescriptionStyleModel",
       "_view_count": null,
       "_view_module": "@jupyter-widgets/base",
       "_view_module_version": "1.2.0",
       "_view_name": "StyleView",
       "description_width": ""
      }
     },
     "fe73d2e1856c44269ea0157b545e39eb": {
      "model_module": "@jupyter-widgets/base",
      "model_module_version": "1.2.0",
      "model_name": "LayoutModel",
      "state": {
       "_model_module": "@jupyter-widgets/base",
       "_model_module_version": "1.2.0",
       "_model_name": "LayoutModel",
       "_view_count": null,
       "_view_module": "@jupyter-widgets/base",
       "_view_module_version": "1.2.0",
       "_view_name": "LayoutView",
       "align_content": null,
       "align_items": null,
       "align_self": null,
       "border": null,
       "bottom": null,
       "display": null,
       "flex": null,
       "flex_flow": null,
       "grid_area": null,
       "grid_auto_columns": null,
       "grid_auto_flow": null,
       "grid_auto_rows": null,
       "grid_column": null,
       "grid_gap": null,
       "grid_row": null,
       "grid_template_areas": null,
       "grid_template_columns": null,
       "grid_template_rows": null,
       "height": null,
       "justify_content": null,
       "justify_items": null,
       "left": null,
       "margin": null,
       "max_height": null,
       "max_width": null,
       "min_height": null,
       "min_width": null,
       "object_fit": null,
       "object_position": null,
       "order": null,
       "overflow": null,
       "overflow_x": null,
       "overflow_y": null,
       "padding": null,
       "right": null,
       "top": null,
       "visibility": null,
       "width": null
      }
     }
    },
    "version_major": 2,
    "version_minor": 0
   }
  }
 },
 "nbformat": 4,
 "nbformat_minor": 5
}
