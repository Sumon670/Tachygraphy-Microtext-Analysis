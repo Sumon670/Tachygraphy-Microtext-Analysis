{
 "cells": [
  {
   "cell_type": "code",
   "execution_count": 1,
   "id": "c3a4c39a",
   "metadata": {
    "_cell_guid": "b1076dfc-b9ad-4769-8c92-a6c4dae69d19",
    "_uuid": "8f2839f25d086af736a60e9eeb907d3b93b6e0e5",
    "execution": {
     "iopub.execute_input": "2024-08-20T17:48:48.519283Z",
     "iopub.status.busy": "2024-08-20T17:48:48.518947Z",
     "iopub.status.idle": "2024-08-20T17:48:49.409171Z",
     "shell.execute_reply": "2024-08-20T17:48:49.408222Z"
    },
    "papermill": {
     "duration": 0.910588,
     "end_time": "2024-08-20T17:48:49.411417",
     "exception": false,
     "start_time": "2024-08-20T17:48:48.500829",
     "status": "completed"
    },
    "tags": []
   },
   "outputs": [
    {
     "name": "stdout",
     "output_type": "stream",
     "text": [
      "/kaggle/input/dataset-tachygraphy/Tachygraphy_dataset_main.csv\n"
     ]
    }
   ],
   "source": [
    "# This Python 3 environment comes with many helpful analytics libraries installed\n",
    "# It is defined by the kaggle/python Docker image: https://github.com/kaggle/docker-python\n",
    "# For example, here's several helpful packages to load\n",
    "\n",
    "import numpy as np # linear algebra\n",
    "import pandas as pd # data processing, CSV file I/O (e.g. pd.read_csv)\n",
    "\n",
    "# Input data files are available in the read-only \"../input/\" directory\n",
    "# For example, running this (by clicking run or pressing Shift+Enter) will list all files under the input directory\n",
    "\n",
    "import os\n",
    "for dirname, _, filenames in os.walk('/kaggle/input'):\n",
    "    for filename in filenames:\n",
    "        print(os.path.join(dirname, filename))\n",
    "\n",
    "# You can write up to 20GB to the current directory (/kaggle/working/) that gets preserved as output when you create a version using \"Save & Run All\" \n",
    "# You can also write temporary files to /kaggle/temp/, but they won't be saved outside of the current session"
   ]
  },
  {
   "cell_type": "code",
   "execution_count": 2,
   "id": "4910aa3d",
   "metadata": {
    "execution": {
     "iopub.execute_input": "2024-08-20T17:48:49.446784Z",
     "iopub.status.busy": "2024-08-20T17:48:49.446349Z",
     "iopub.status.idle": "2024-08-20T17:48:49.450490Z",
     "shell.execute_reply": "2024-08-20T17:48:49.449736Z"
    },
    "papermill": {
     "duration": 0.023644,
     "end_time": "2024-08-20T17:48:49.452396",
     "exception": false,
     "start_time": "2024-08-20T17:48:49.428752",
     "status": "completed"
    },
    "tags": []
   },
   "outputs": [],
   "source": [
    "# To ignore warinings\n",
    "import warnings\n",
    "warnings.filterwarnings('ignore')"
   ]
  },
  {
   "cell_type": "code",
   "execution_count": 3,
   "id": "4cf27668",
   "metadata": {
    "execution": {
     "iopub.execute_input": "2024-08-20T17:48:49.487834Z",
     "iopub.status.busy": "2024-08-20T17:48:49.487582Z",
     "iopub.status.idle": "2024-08-20T17:48:54.094692Z",
     "shell.execute_reply": "2024-08-20T17:48:54.093684Z"
    },
    "papermill": {
     "duration": 4.626987,
     "end_time": "2024-08-20T17:48:54.096986",
     "exception": false,
     "start_time": "2024-08-20T17:48:49.469999",
     "status": "completed"
    },
    "tags": []
   },
   "outputs": [],
   "source": [
    "import torch\n",
    "device = torch.device(\"cuda\" if torch.cuda.is_available() else \"cpu\")"
   ]
  },
  {
   "cell_type": "code",
   "execution_count": 4,
   "id": "59248352",
   "metadata": {
    "execution": {
     "iopub.execute_input": "2024-08-20T17:48:54.132878Z",
     "iopub.status.busy": "2024-08-20T17:48:54.132066Z",
     "iopub.status.idle": "2024-08-20T17:48:56.060439Z",
     "shell.execute_reply": "2024-08-20T17:48:56.059528Z"
    },
    "papermill": {
     "duration": 1.948683,
     "end_time": "2024-08-20T17:48:56.062849",
     "exception": false,
     "start_time": "2024-08-20T17:48:54.114166",
     "status": "completed"
    },
    "tags": []
   },
   "outputs": [],
   "source": [
    "import numpy as np\n",
    "import pandas as pd\n",
    "import re\n",
    "from nltk.corpus import stopwords\n",
    "from nltk.stem.porter import PorterStemmer\n",
    "from sklearn.feature_extraction.text import TfidfVectorizer"
   ]
  },
  {
   "cell_type": "code",
   "execution_count": 5,
   "id": "770a31c7",
   "metadata": {
    "execution": {
     "iopub.execute_input": "2024-08-20T17:48:56.098994Z",
     "iopub.status.busy": "2024-08-20T17:48:56.098708Z",
     "iopub.status.idle": "2024-08-20T17:48:56.199043Z",
     "shell.execute_reply": "2024-08-20T17:48:56.198167Z"
    },
    "papermill": {
     "duration": 0.120234,
     "end_time": "2024-08-20T17:48:56.201018",
     "exception": false,
     "start_time": "2024-08-20T17:48:56.080784",
     "status": "completed"
    },
    "tags": []
   },
   "outputs": [
    {
     "name": "stdout",
     "output_type": "stream",
     "text": [
      "[nltk_data] Downloading package stopwords to /usr/share/nltk_data...\n",
      "[nltk_data]   Package stopwords is already up-to-date!\n"
     ]
    },
    {
     "data": {
      "text/plain": [
       "True"
      ]
     },
     "execution_count": 5,
     "metadata": {},
     "output_type": "execute_result"
    }
   ],
   "source": [
    "import nltk\n",
    "nltk.download('stopwords')"
   ]
  },
  {
   "cell_type": "markdown",
   "id": "73a93cdb",
   "metadata": {
    "papermill": {
     "duration": 0.016838,
     "end_time": "2024-08-20T17:48:56.234824",
     "exception": false,
     "start_time": "2024-08-20T17:48:56.217986",
     "status": "completed"
    },
    "tags": []
   },
   "source": [
    "# DATASET"
   ]
  },
  {
   "cell_type": "code",
   "execution_count": 6,
   "id": "ac832a92",
   "metadata": {
    "execution": {
     "iopub.execute_input": "2024-08-20T17:48:56.269481Z",
     "iopub.status.busy": "2024-08-20T17:48:56.269196Z",
     "iopub.status.idle": "2024-08-20T17:48:56.311703Z",
     "shell.execute_reply": "2024-08-20T17:48:56.310868Z"
    },
    "papermill": {
     "duration": 0.062164,
     "end_time": "2024-08-20T17:48:56.313649",
     "exception": false,
     "start_time": "2024-08-20T17:48:56.251485",
     "status": "completed"
    },
    "tags": []
   },
   "outputs": [
    {
     "data": {
      "text/plain": [
       "(4958, 3)"
      ]
     },
     "execution_count": 6,
     "metadata": {},
     "output_type": "execute_result"
    }
   ],
   "source": [
    "df=pd.read_csv(\"/kaggle/input/dataset-tachygraphy/Tachygraphy_dataset_main.csv\")\n",
    "df.shape"
   ]
  },
  {
   "cell_type": "code",
   "execution_count": 7,
   "id": "65624b32",
   "metadata": {
    "execution": {
     "iopub.execute_input": "2024-08-20T17:48:56.348807Z",
     "iopub.status.busy": "2024-08-20T17:48:56.348516Z",
     "iopub.status.idle": "2024-08-20T17:48:56.364224Z",
     "shell.execute_reply": "2024-08-20T17:48:56.363337Z"
    },
    "papermill": {
     "duration": 0.035891,
     "end_time": "2024-08-20T17:48:56.366532",
     "exception": false,
     "start_time": "2024-08-20T17:48:56.330641",
     "status": "completed"
    },
    "tags": []
   },
   "outputs": [
    {
     "data": {
      "text/html": [
       "<div>\n",
       "<style scoped>\n",
       "    .dataframe tbody tr th:only-of-type {\n",
       "        vertical-align: middle;\n",
       "    }\n",
       "\n",
       "    .dataframe tbody tr th {\n",
       "        vertical-align: top;\n",
       "    }\n",
       "\n",
       "    .dataframe thead th {\n",
       "        text-align: right;\n",
       "    }\n",
       "</style>\n",
       "<table border=\"1\" class=\"dataframe\">\n",
       "  <thead>\n",
       "    <tr style=\"text-align: right;\">\n",
       "      <th></th>\n",
       "      <th>Text</th>\n",
       "      <th>Meaning</th>\n",
       "      <th>Sentiment</th>\n",
       "    </tr>\n",
       "  </thead>\n",
       "  <tbody>\n",
       "    <tr>\n",
       "      <th>0</th>\n",
       "      <td>Last session of the day http://twitpic.com/67ezh</td>\n",
       "      <td>Last session of the day http://twitpic.com/67ezh</td>\n",
       "      <td>neutral</td>\n",
       "    </tr>\n",
       "    <tr>\n",
       "      <th>1</th>\n",
       "      <td>Shanghai is also really exciting (precisely --...</td>\n",
       "      <td>Shanghai is also really exciting (precisely --...</td>\n",
       "      <td>positive</td>\n",
       "    </tr>\n",
       "    <tr>\n",
       "      <th>2</th>\n",
       "      <td>submit the report ASAP!</td>\n",
       "      <td>submit the report as soon as possilbe</td>\n",
       "      <td>negative</td>\n",
       "    </tr>\n",
       "    <tr>\n",
       "      <th>3</th>\n",
       "      <td>happy bday!</td>\n",
       "      <td>Happy Birthday!</td>\n",
       "      <td>positive</td>\n",
       "    </tr>\n",
       "    <tr>\n",
       "      <th>4</th>\n",
       "      <td>The OGs - I like it!!</td>\n",
       "      <td>The original gangsters - i like it!</td>\n",
       "      <td>positive</td>\n",
       "    </tr>\n",
       "  </tbody>\n",
       "</table>\n",
       "</div>"
      ],
      "text/plain": [
       "                                                Text  \\\n",
       "0   Last session of the day http://twitpic.com/67ezh   \n",
       "1  Shanghai is also really exciting (precisely --...   \n",
       "2                            submit the report ASAP!   \n",
       "3                                        happy bday!   \n",
       "4                              The OGs - I like it!!   \n",
       "\n",
       "                                             Meaning Sentiment  \n",
       "0   Last session of the day http://twitpic.com/67ezh   neutral  \n",
       "1  Shanghai is also really exciting (precisely --...  positive  \n",
       "2              submit the report as soon as possilbe  negative  \n",
       "3                                    Happy Birthday!  positive  \n",
       "4                The original gangsters - i like it!  positive  "
      ]
     },
     "execution_count": 7,
     "metadata": {},
     "output_type": "execute_result"
    }
   ],
   "source": [
    "df.head()"
   ]
  },
  {
   "cell_type": "code",
   "execution_count": 8,
   "id": "00f04f27",
   "metadata": {
    "execution": {
     "iopub.execute_input": "2024-08-20T17:48:56.402666Z",
     "iopub.status.busy": "2024-08-20T17:48:56.402368Z",
     "iopub.status.idle": "2024-08-20T17:48:56.406217Z",
     "shell.execute_reply": "2024-08-20T17:48:56.405363Z"
    },
    "papermill": {
     "duration": 0.024046,
     "end_time": "2024-08-20T17:48:56.407999",
     "exception": false,
     "start_time": "2024-08-20T17:48:56.383953",
     "status": "completed"
    },
    "tags": []
   },
   "outputs": [],
   "source": [
    "# df.drop(columns=['Sentiment.1'],inplace=True)"
   ]
  },
  {
   "cell_type": "markdown",
   "id": "96fefa16",
   "metadata": {
    "papermill": {
     "duration": 0.016891,
     "end_time": "2024-08-20T17:48:56.442189",
     "exception": false,
     "start_time": "2024-08-20T17:48:56.425298",
     "status": "completed"
    },
    "tags": []
   },
   "source": [
    "## PREPROCESSING"
   ]
  },
  {
   "cell_type": "code",
   "execution_count": 9,
   "id": "642f7444",
   "metadata": {
    "execution": {
     "iopub.execute_input": "2024-08-20T17:48:56.478054Z",
     "iopub.status.busy": "2024-08-20T17:48:56.477810Z",
     "iopub.status.idle": "2024-08-20T17:48:56.486512Z",
     "shell.execute_reply": "2024-08-20T17:48:56.485686Z"
    },
    "papermill": {
     "duration": 0.029097,
     "end_time": "2024-08-20T17:48:56.488498",
     "exception": false,
     "start_time": "2024-08-20T17:48:56.459401",
     "status": "completed"
    },
    "tags": []
   },
   "outputs": [],
   "source": [
    "df=df.drop('Meaning',axis=1)"
   ]
  },
  {
   "cell_type": "code",
   "execution_count": 10,
   "id": "e32a1de1",
   "metadata": {
    "execution": {
     "iopub.execute_input": "2024-08-20T17:48:56.523488Z",
     "iopub.status.busy": "2024-08-20T17:48:56.523238Z",
     "iopub.status.idle": "2024-08-20T17:48:56.528278Z",
     "shell.execute_reply": "2024-08-20T17:48:56.527460Z"
    },
    "papermill": {
     "duration": 0.024681,
     "end_time": "2024-08-20T17:48:56.530235",
     "exception": false,
     "start_time": "2024-08-20T17:48:56.505554",
     "status": "completed"
    },
    "tags": []
   },
   "outputs": [
    {
     "data": {
      "text/plain": [
       "(4958, 2)"
      ]
     },
     "execution_count": 10,
     "metadata": {},
     "output_type": "execute_result"
    }
   ],
   "source": [
    "df.shape"
   ]
  },
  {
   "cell_type": "code",
   "execution_count": 11,
   "id": "623e8ae5",
   "metadata": {
    "execution": {
     "iopub.execute_input": "2024-08-20T17:48:56.565425Z",
     "iopub.status.busy": "2024-08-20T17:48:56.565185Z",
     "iopub.status.idle": "2024-08-20T17:48:56.569489Z",
     "shell.execute_reply": "2024-08-20T17:48:56.568741Z"
    },
    "papermill": {
     "duration": 0.023844,
     "end_time": "2024-08-20T17:48:56.571278",
     "exception": false,
     "start_time": "2024-08-20T17:48:56.547434",
     "status": "completed"
    },
    "tags": []
   },
   "outputs": [],
   "source": [
    "df = df.rename(columns={'Text': 'tweet'})"
   ]
  },
  {
   "cell_type": "code",
   "execution_count": 12,
   "id": "0269574a",
   "metadata": {
    "execution": {
     "iopub.execute_input": "2024-08-20T17:48:56.607140Z",
     "iopub.status.busy": "2024-08-20T17:48:56.606896Z",
     "iopub.status.idle": "2024-08-20T17:48:56.611265Z",
     "shell.execute_reply": "2024-08-20T17:48:56.610458Z"
    },
    "papermill": {
     "duration": 0.024744,
     "end_time": "2024-08-20T17:48:56.613102",
     "exception": false,
     "start_time": "2024-08-20T17:48:56.588358",
     "status": "completed"
    },
    "tags": []
   },
   "outputs": [],
   "source": [
    "df = df.rename(columns={'Sentiment': 'class'})"
   ]
  },
  {
   "cell_type": "code",
   "execution_count": 13,
   "id": "fdb38f58",
   "metadata": {
    "execution": {
     "iopub.execute_input": "2024-08-20T17:48:56.648818Z",
     "iopub.status.busy": "2024-08-20T17:48:56.648551Z",
     "iopub.status.idle": "2024-08-20T17:48:56.665428Z",
     "shell.execute_reply": "2024-08-20T17:48:56.664612Z"
    },
    "papermill": {
     "duration": 0.036993,
     "end_time": "2024-08-20T17:48:56.667537",
     "exception": false,
     "start_time": "2024-08-20T17:48:56.630544",
     "status": "completed"
    },
    "tags": []
   },
   "outputs": [
    {
     "data": {
      "text/plain": [
       "class\n",
       "neutral     1743\n",
       "positive    1643\n",
       "negative    1572\n",
       "Name: count, dtype: int64"
      ]
     },
     "execution_count": 13,
     "metadata": {},
     "output_type": "execute_result"
    }
   ],
   "source": [
    "df['class'] = df['class'].str.lower()\n",
    "sentiment_counts = df['class'].value_counts()\n",
    "sentiment_counts"
   ]
  },
  {
   "cell_type": "code",
   "execution_count": 14,
   "id": "b60e8a72",
   "metadata": {
    "execution": {
     "iopub.execute_input": "2024-08-20T17:48:56.703507Z",
     "iopub.status.busy": "2024-08-20T17:48:56.703254Z",
     "iopub.status.idle": "2024-08-20T17:48:56.708975Z",
     "shell.execute_reply": "2024-08-20T17:48:56.708290Z"
    },
    "papermill": {
     "duration": 0.02583,
     "end_time": "2024-08-20T17:48:56.710985",
     "exception": false,
     "start_time": "2024-08-20T17:48:56.685155",
     "status": "completed"
    },
    "tags": []
   },
   "outputs": [],
   "source": [
    "df = df[df['class'] != \"neutral\"]  ###droping neutral columns"
   ]
  },
  {
   "cell_type": "code",
   "execution_count": 15,
   "id": "0ed0e9c4",
   "metadata": {
    "execution": {
     "iopub.execute_input": "2024-08-20T17:48:56.747489Z",
     "iopub.status.busy": "2024-08-20T17:48:56.747235Z",
     "iopub.status.idle": "2024-08-20T17:48:56.753341Z",
     "shell.execute_reply": "2024-08-20T17:48:56.752587Z"
    },
    "papermill": {
     "duration": 0.026042,
     "end_time": "2024-08-20T17:48:56.755194",
     "exception": false,
     "start_time": "2024-08-20T17:48:56.729152",
     "status": "completed"
    },
    "tags": []
   },
   "outputs": [],
   "source": [
    "from sklearn.preprocessing import LabelEncoder\n",
    "label_encoder = LabelEncoder()\n",
    "label_encoder.fit(df['class'])\n",
    "encoded_labels = label_encoder.transform(df['class'])\n",
    "df['class'] = encoded_labels"
   ]
  },
  {
   "cell_type": "code",
   "execution_count": 16,
   "id": "7f3883c9",
   "metadata": {
    "execution": {
     "iopub.execute_input": "2024-08-20T17:48:56.790607Z",
     "iopub.status.busy": "2024-08-20T17:48:56.790160Z",
     "iopub.status.idle": "2024-08-20T17:48:56.798380Z",
     "shell.execute_reply": "2024-08-20T17:48:56.797592Z"
    },
    "papermill": {
     "duration": 0.027838,
     "end_time": "2024-08-20T17:48:56.800195",
     "exception": false,
     "start_time": "2024-08-20T17:48:56.772357",
     "status": "completed"
    },
    "tags": []
   },
   "outputs": [
    {
     "data": {
      "text/html": [
       "<div>\n",
       "<style scoped>\n",
       "    .dataframe tbody tr th:only-of-type {\n",
       "        vertical-align: middle;\n",
       "    }\n",
       "\n",
       "    .dataframe tbody tr th {\n",
       "        vertical-align: top;\n",
       "    }\n",
       "\n",
       "    .dataframe thead th {\n",
       "        text-align: right;\n",
       "    }\n",
       "</style>\n",
       "<table border=\"1\" class=\"dataframe\">\n",
       "  <thead>\n",
       "    <tr style=\"text-align: right;\">\n",
       "      <th></th>\n",
       "      <th>tweet</th>\n",
       "      <th>class</th>\n",
       "    </tr>\n",
       "  </thead>\n",
       "  <tbody>\n",
       "    <tr>\n",
       "      <th>1</th>\n",
       "      <td>Shanghai is also really exciting (precisely --...</td>\n",
       "      <td>1</td>\n",
       "    </tr>\n",
       "    <tr>\n",
       "      <th>2</th>\n",
       "      <td>submit the report ASAP!</td>\n",
       "      <td>0</td>\n",
       "    </tr>\n",
       "    <tr>\n",
       "      <th>3</th>\n",
       "      <td>happy bday!</td>\n",
       "      <td>1</td>\n",
       "    </tr>\n",
       "    <tr>\n",
       "      <th>4</th>\n",
       "      <td>The OGs - I like it!!</td>\n",
       "      <td>1</td>\n",
       "    </tr>\n",
       "    <tr>\n",
       "      <th>5</th>\n",
       "      <td>that`s great!! weee!! visitors!</td>\n",
       "      <td>1</td>\n",
       "    </tr>\n",
       "  </tbody>\n",
       "</table>\n",
       "</div>"
      ],
      "text/plain": [
       "                                               tweet  class\n",
       "1  Shanghai is also really exciting (precisely --...      1\n",
       "2                            submit the report ASAP!      0\n",
       "3                                        happy bday!      1\n",
       "4                              The OGs - I like it!!      1\n",
       "5                    that`s great!! weee!! visitors!      1"
      ]
     },
     "execution_count": 16,
     "metadata": {},
     "output_type": "execute_result"
    }
   ],
   "source": [
    "df.head()"
   ]
  },
  {
   "cell_type": "code",
   "execution_count": 17,
   "id": "1ab9ff7e",
   "metadata": {
    "execution": {
     "iopub.execute_input": "2024-08-20T17:48:56.836810Z",
     "iopub.status.busy": "2024-08-20T17:48:56.836489Z",
     "iopub.status.idle": "2024-08-20T17:48:56.844471Z",
     "shell.execute_reply": "2024-08-20T17:48:56.843600Z"
    },
    "papermill": {
     "duration": 0.028557,
     "end_time": "2024-08-20T17:48:56.846822",
     "exception": false,
     "start_time": "2024-08-20T17:48:56.818265",
     "status": "completed"
    },
    "tags": []
   },
   "outputs": [
    {
     "data": {
      "text/plain": [
       "tweet    1\n",
       "class    0\n",
       "dtype: int64"
      ]
     },
     "execution_count": 17,
     "metadata": {},
     "output_type": "execute_result"
    }
   ],
   "source": [
    "df.isnull().sum()"
   ]
  },
  {
   "cell_type": "code",
   "execution_count": 18,
   "id": "0c37f81c",
   "metadata": {
    "execution": {
     "iopub.execute_input": "2024-08-20T17:48:56.884301Z",
     "iopub.status.busy": "2024-08-20T17:48:56.884051Z",
     "iopub.status.idle": "2024-08-20T17:48:56.888675Z",
     "shell.execute_reply": "2024-08-20T17:48:56.887828Z"
    },
    "papermill": {
     "duration": 0.024915,
     "end_time": "2024-08-20T17:48:56.890549",
     "exception": false,
     "start_time": "2024-08-20T17:48:56.865634",
     "status": "completed"
    },
    "tags": []
   },
   "outputs": [],
   "source": [
    "df=df.fillna('')"
   ]
  },
  {
   "cell_type": "code",
   "execution_count": 19,
   "id": "c0ae02b5",
   "metadata": {
    "execution": {
     "iopub.execute_input": "2024-08-20T17:48:56.969915Z",
     "iopub.status.busy": "2024-08-20T17:48:56.969306Z",
     "iopub.status.idle": "2024-08-20T17:48:56.978314Z",
     "shell.execute_reply": "2024-08-20T17:48:56.977469Z"
    },
    "papermill": {
     "duration": 0.070869,
     "end_time": "2024-08-20T17:48:56.980155",
     "exception": false,
     "start_time": "2024-08-20T17:48:56.909286",
     "status": "completed"
    },
    "tags": []
   },
   "outputs": [
    {
     "data": {
      "text/html": [
       "<div>\n",
       "<style scoped>\n",
       "    .dataframe tbody tr th:only-of-type {\n",
       "        vertical-align: middle;\n",
       "    }\n",
       "\n",
       "    .dataframe tbody tr th {\n",
       "        vertical-align: top;\n",
       "    }\n",
       "\n",
       "    .dataframe thead th {\n",
       "        text-align: right;\n",
       "    }\n",
       "</style>\n",
       "<table border=\"1\" class=\"dataframe\">\n",
       "  <thead>\n",
       "    <tr style=\"text-align: right;\">\n",
       "      <th></th>\n",
       "      <th>tweet</th>\n",
       "      <th>class</th>\n",
       "    </tr>\n",
       "  </thead>\n",
       "  <tbody>\n",
       "    <tr>\n",
       "      <th>1</th>\n",
       "      <td>Shanghai is also really exciting (precisely --...</td>\n",
       "      <td>1</td>\n",
       "    </tr>\n",
       "    <tr>\n",
       "      <th>2</th>\n",
       "      <td>submit the report ASAP!</td>\n",
       "      <td>0</td>\n",
       "    </tr>\n",
       "    <tr>\n",
       "      <th>3</th>\n",
       "      <td>happy bday!</td>\n",
       "      <td>1</td>\n",
       "    </tr>\n",
       "    <tr>\n",
       "      <th>4</th>\n",
       "      <td>The OGs - I like it!!</td>\n",
       "      <td>1</td>\n",
       "    </tr>\n",
       "    <tr>\n",
       "      <th>5</th>\n",
       "      <td>that`s great!! weee!! visitors!</td>\n",
       "      <td>1</td>\n",
       "    </tr>\n",
       "  </tbody>\n",
       "</table>\n",
       "</div>"
      ],
      "text/plain": [
       "                                               tweet  class\n",
       "1  Shanghai is also really exciting (precisely --...      1\n",
       "2                            submit the report ASAP!      0\n",
       "3                                        happy bday!      1\n",
       "4                              The OGs - I like it!!      1\n",
       "5                    that`s great!! weee!! visitors!      1"
      ]
     },
     "execution_count": 19,
     "metadata": {},
     "output_type": "execute_result"
    }
   ],
   "source": [
    "df.head()"
   ]
  },
  {
   "cell_type": "code",
   "execution_count": 20,
   "id": "f2b92286",
   "metadata": {
    "execution": {
     "iopub.execute_input": "2024-08-20T17:48:57.017178Z",
     "iopub.status.busy": "2024-08-20T17:48:57.016910Z",
     "iopub.status.idle": "2024-08-20T17:48:57.218121Z",
     "shell.execute_reply": "2024-08-20T17:48:57.217416Z"
    },
    "papermill": {
     "duration": 0.222858,
     "end_time": "2024-08-20T17:48:57.220978",
     "exception": false,
     "start_time": "2024-08-20T17:48:56.998120",
     "status": "completed"
    },
    "tags": []
   },
   "outputs": [],
   "source": [
    "import re\n",
    "from bs4 import BeautifulSoup\n",
    "\n",
    "def text_cleaning(text):\n",
    "    text = str(text)\n",
    "    soup = BeautifulSoup(text, \"html.parser\")    ###removing html tages\n",
    "    text = re.sub(r'\\[[^]]*\\]', '', soup.get_text())      ##removing text within square brackets\n",
    "    pattern = r\"[^a-zA-Z0-9\\s,']\"                  # Removing unwanted characters\n",
    "    text = re.sub(pattern, '', text)\n",
    "    url_pattern = r'http\\S+|www\\S+'            ###removing urls\n",
    "    text = re.sub(url_pattern, '', text)\n",
    "    return text"
   ]
  },
  {
   "cell_type": "code",
   "execution_count": 21,
   "id": "4d3ef8cd",
   "metadata": {
    "execution": {
     "iopub.execute_input": "2024-08-20T17:48:57.259381Z",
     "iopub.status.busy": "2024-08-20T17:48:57.258969Z",
     "iopub.status.idle": "2024-08-20T17:48:57.444329Z",
     "shell.execute_reply": "2024-08-20T17:48:57.443456Z"
    },
    "papermill": {
     "duration": 0.206434,
     "end_time": "2024-08-20T17:48:57.446467",
     "exception": false,
     "start_time": "2024-08-20T17:48:57.240033",
     "status": "completed"
    },
    "tags": []
   },
   "outputs": [],
   "source": [
    "df['tweet'] = df['tweet'].apply(text_cleaning).tolist()"
   ]
  },
  {
   "cell_type": "code",
   "execution_count": 22,
   "id": "b7b1d788",
   "metadata": {
    "execution": {
     "iopub.execute_input": "2024-08-20T17:48:57.483650Z",
     "iopub.status.busy": "2024-08-20T17:48:57.483268Z",
     "iopub.status.idle": "2024-08-20T17:48:57.492833Z",
     "shell.execute_reply": "2024-08-20T17:48:57.491990Z"
    },
    "papermill": {
     "duration": 0.030373,
     "end_time": "2024-08-20T17:48:57.494760",
     "exception": false,
     "start_time": "2024-08-20T17:48:57.464387",
     "status": "completed"
    },
    "tags": []
   },
   "outputs": [
    {
     "data": {
      "text/html": [
       "<div>\n",
       "<style scoped>\n",
       "    .dataframe tbody tr th:only-of-type {\n",
       "        vertical-align: middle;\n",
       "    }\n",
       "\n",
       "    .dataframe tbody tr th {\n",
       "        vertical-align: top;\n",
       "    }\n",
       "\n",
       "    .dataframe thead th {\n",
       "        text-align: right;\n",
       "    }\n",
       "</style>\n",
       "<table border=\"1\" class=\"dataframe\">\n",
       "  <thead>\n",
       "    <tr style=\"text-align: right;\">\n",
       "      <th></th>\n",
       "      <th>tweet</th>\n",
       "      <th>class</th>\n",
       "    </tr>\n",
       "  </thead>\n",
       "  <tbody>\n",
       "    <tr>\n",
       "      <th>1</th>\n",
       "      <td>Shanghai is also really exciting precisely  sk...</td>\n",
       "      <td>1</td>\n",
       "    </tr>\n",
       "    <tr>\n",
       "      <th>2</th>\n",
       "      <td>submit the report ASAP</td>\n",
       "      <td>0</td>\n",
       "    </tr>\n",
       "    <tr>\n",
       "      <th>3</th>\n",
       "      <td>happy bday</td>\n",
       "      <td>1</td>\n",
       "    </tr>\n",
       "    <tr>\n",
       "      <th>4</th>\n",
       "      <td>The OGs  I like it</td>\n",
       "      <td>1</td>\n",
       "    </tr>\n",
       "    <tr>\n",
       "      <th>5</th>\n",
       "      <td>thats great weee visitors</td>\n",
       "      <td>1</td>\n",
       "    </tr>\n",
       "    <tr>\n",
       "      <th>6</th>\n",
       "      <td>I THINK EVERYONE HATES ME ON HERE lol</td>\n",
       "      <td>0</td>\n",
       "    </tr>\n",
       "    <tr>\n",
       "      <th>7</th>\n",
       "      <td>soooooo wish i could, but im in school and mys...</td>\n",
       "      <td>0</td>\n",
       "    </tr>\n",
       "    <tr>\n",
       "      <th>10</th>\n",
       "      <td>My bike was put on holdshould have known that ...</td>\n",
       "      <td>0</td>\n",
       "    </tr>\n",
       "    <tr>\n",
       "      <th>13</th>\n",
       "      <td>Im in VA for the weekend, my youngest son turn...</td>\n",
       "      <td>0</td>\n",
       "    </tr>\n",
       "    <tr>\n",
       "      <th>14</th>\n",
       "      <td>Its coming out the socket I feel like my phone...</td>\n",
       "      <td>0</td>\n",
       "    </tr>\n",
       "  </tbody>\n",
       "</table>\n",
       "</div>"
      ],
      "text/plain": [
       "                                                tweet  class\n",
       "1   Shanghai is also really exciting precisely  sk...      1\n",
       "2                              submit the report ASAP      0\n",
       "3                                          happy bday      1\n",
       "4                                  The OGs  I like it      1\n",
       "5                           thats great weee visitors      1\n",
       "6               I THINK EVERYONE HATES ME ON HERE lol      0\n",
       "7   soooooo wish i could, but im in school and mys...      0\n",
       "10  My bike was put on holdshould have known that ...      0\n",
       "13  Im in VA for the weekend, my youngest son turn...      0\n",
       "14  Its coming out the socket I feel like my phone...      0"
      ]
     },
     "execution_count": 22,
     "metadata": {},
     "output_type": "execute_result"
    }
   ],
   "source": [
    "df.head(10)"
   ]
  },
  {
   "cell_type": "code",
   "execution_count": 23,
   "id": "de04f240",
   "metadata": {
    "execution": {
     "iopub.execute_input": "2024-08-20T17:48:57.532033Z",
     "iopub.status.busy": "2024-08-20T17:48:57.531770Z",
     "iopub.status.idle": "2024-08-20T17:48:57.539231Z",
     "shell.execute_reply": "2024-08-20T17:48:57.538476Z"
    },
    "papermill": {
     "duration": 0.028223,
     "end_time": "2024-08-20T17:48:57.541050",
     "exception": false,
     "start_time": "2024-08-20T17:48:57.512827",
     "status": "completed"
    },
    "tags": []
   },
   "outputs": [],
   "source": [
    "lens=[len(i.split()) for i in df['tweet']]"
   ]
  },
  {
   "cell_type": "code",
   "execution_count": 24,
   "id": "a6e3413d",
   "metadata": {
    "execution": {
     "iopub.execute_input": "2024-08-20T17:48:57.578622Z",
     "iopub.status.busy": "2024-08-20T17:48:57.578349Z",
     "iopub.status.idle": "2024-08-20T17:48:57.878358Z",
     "shell.execute_reply": "2024-08-20T17:48:57.877477Z"
    },
    "papermill": {
     "duration": 0.321172,
     "end_time": "2024-08-20T17:48:57.880427",
     "exception": false,
     "start_time": "2024-08-20T17:48:57.559255",
     "status": "completed"
    },
    "tags": []
   },
   "outputs": [
    {
     "data": {
      "text/plain": [
       "(array([135., 493., 641., 585., 429., 438., 237., 174.,  74.,   9.]),\n",
       " array([ 0. ,  3.2,  6.4,  9.6, 12.8, 16. , 19.2, 22.4, 25.6, 28.8, 32. ]),\n",
       " <BarContainer object of 10 artists>)"
      ]
     },
     "execution_count": 24,
     "metadata": {},
     "output_type": "execute_result"
    },
    {
     "data": {
      "image/png": "[encoded data removed]",
      "text/plain": [
       "<Figure size 640x480 with 1 Axes>"
      ]
     },
     "metadata": {},
     "output_type": "display_data"
    }
   ],
   "source": [
    "import matplotlib.pyplot as plt\n",
    "plt.hist(lens)"
   ]
  },
  {
   "cell_type": "code",
   "execution_count": 25,
   "id": "a0b1a901",
   "metadata": {
    "execution": {
     "iopub.execute_input": "2024-08-20T17:48:57.919608Z",
     "iopub.status.busy": "2024-08-20T17:48:57.918960Z",
     "iopub.status.idle": "2024-08-20T17:48:59.147643Z",
     "shell.execute_reply": "2024-08-20T17:48:59.146741Z"
    },
    "papermill": {
     "duration": 1.251016,
     "end_time": "2024-08-20T17:48:59.150174",
     "exception": false,
     "start_time": "2024-08-20T17:48:57.899158",
     "status": "completed"
    },
    "tags": []
   },
   "outputs": [],
   "source": [
    "import torch\n",
    "import torch.nn as nn\n",
    "\n",
    "import transformers\n",
    "from transformers import AutoModel, BertTokenizerFast, AutoModelForSequenceClassification, AutoTokenizer\n",
    "from transformers import AutoModel, AdamW, get_linear_schedule_with_warmup"
   ]
  },
  {
   "cell_type": "code",
   "execution_count": 26,
   "id": "00e2fa0c",
   "metadata": {
    "execution": {
     "iopub.execute_input": "2024-08-20T17:48:59.195458Z",
     "iopub.status.busy": "2024-08-20T17:48:59.195147Z",
     "iopub.status.idle": "2024-08-20T17:48:59.209050Z",
     "shell.execute_reply": "2024-08-20T17:48:59.208341Z"
    },
    "papermill": {
     "duration": 0.036789,
     "end_time": "2024-08-20T17:48:59.210989",
     "exception": false,
     "start_time": "2024-08-20T17:48:59.174200",
     "status": "completed"
    },
    "tags": []
   },
   "outputs": [],
   "source": [
    "# split into train, validation and test sets in the ration 70 : 15 : 15\n",
    "from sklearn.model_selection import train_test_split\n",
    "\n",
    "train_text, temp_text, train_labels, temp_labels = train_test_split(df['tweet'], df['class'], \n",
    "                                                                    random_state=2021, \n",
    "                                                                    test_size=0.2, \n",
    "                                                                    stratify=df['class'])\n",
    "\n",
    "\n",
    "val_text, test_text, val_labels, test_labels = train_test_split(temp_text, temp_labels, \n",
    "                                                                random_state=2021, \n",
    "                                                                test_size=0.5, \n",
    "                                                                stratify=temp_labels)"
   ]
  },
  {
   "cell_type": "code",
   "execution_count": 27,
   "id": "dd53606d",
   "metadata": {
    "execution": {
     "iopub.execute_input": "2024-08-20T17:48:59.250678Z",
     "iopub.status.busy": "2024-08-20T17:48:59.250192Z",
     "iopub.status.idle": "2024-08-20T17:49:03.093687Z",
     "shell.execute_reply": "2024-08-20T17:49:03.092809Z"
    },
    "papermill": {
     "duration": 3.865094,
     "end_time": "2024-08-20T17:49:03.096187",
     "exception": false,
     "start_time": "2024-08-20T17:48:59.231093",
     "status": "completed"
    },
    "tags": []
   },
   "outputs": [
    {
     "data": {
      "application/vnd.jupyter.widget-view+json": {
       "model_id": "d19a3674cf3b4fffa7d54ef659c0ec9b",
       "version_major": 2,
       "version_minor": 0
      },
      "text/plain": [
       "config.json:   0%|          | 0.00/570 [00:00<?, ?B/s]"
      ]
     },
     "metadata": {},
     "output_type": "display_data"
    },
    {
     "data": {
      "application/vnd.jupyter.widget-view+json": {
       "model_id": "a473430a608a4a3f8ac768353c916688",
       "version_major": 2,
       "version_minor": 0
      },
      "text/plain": [
       "model.safetensors:   0%|          | 0.00/440M [00:00<?, ?B/s]"
      ]
     },
     "metadata": {},
     "output_type": "display_data"
    }
   ],
   "source": [
    "bert = AutoModel.from_pretrained('bert-base-uncased')"
   ]
  },
  {
   "cell_type": "code",
   "execution_count": 28,
   "id": "cc15aa52",
   "metadata": {
    "execution": {
     "iopub.execute_input": "2024-08-20T17:49:03.138421Z",
     "iopub.status.busy": "2024-08-20T17:49:03.137705Z",
     "iopub.status.idle": "2024-08-20T17:49:03.746126Z",
     "shell.execute_reply": "2024-08-20T17:49:03.745323Z"
    },
    "papermill": {
     "duration": 0.632048,
     "end_time": "2024-08-20T17:49:03.748329",
     "exception": false,
     "start_time": "2024-08-20T17:49:03.116281",
     "status": "completed"
    },
    "tags": []
   },
   "outputs": [
    {
     "data": {
      "application/vnd.jupyter.widget-view+json": {
       "model_id": "b4575b8f8dc349df8180c8228f0f7fbf",
       "version_major": 2,
       "version_minor": 0
      },
      "text/plain": [
       "tokenizer_config.json:   0%|          | 0.00/48.0 [00:00<?, ?B/s]"
      ]
     },
     "metadata": {},
     "output_type": "display_data"
    },
    {
     "data": {
      "application/vnd.jupyter.widget-view+json": {
       "model_id": "05c938b6493f407bb042532c2ebe111e",
       "version_major": 2,
       "version_minor": 0
      },
      "text/plain": [
       "vocab.txt:   0%|          | 0.00/232k [00:00<?, ?B/s]"
      ]
     },
     "metadata": {},
     "output_type": "display_data"
    },
    {
     "data": {
      "application/vnd.jupyter.widget-view+json": {
       "model_id": "bfd8e8d9a94f4703af015b2d4ebbe255",
       "version_major": 2,
       "version_minor": 0
      },
      "text/plain": [
       "tokenizer.json:   0%|          | 0.00/466k [00:00<?, ?B/s]"
      ]
     },
     "metadata": {},
     "output_type": "display_data"
    }
   ],
   "source": [
    "tokenizer = BertTokenizerFast.from_pretrained('bert-base-uncased')"
   ]
  },
  {
   "cell_type": "code",
   "execution_count": 29,
   "id": "6ba6c23b",
   "metadata": {
    "execution": {
     "iopub.execute_input": "2024-08-20T17:49:03.789491Z",
     "iopub.status.busy": "2024-08-20T17:49:03.789211Z",
     "iopub.status.idle": "2024-08-20T17:49:04.058173Z",
     "shell.execute_reply": "2024-08-20T17:49:04.057317Z"
    },
    "papermill": {
     "duration": 0.291488,
     "end_time": "2024-08-20T17:49:04.060204",
     "exception": false,
     "start_time": "2024-08-20T17:49:03.768716",
     "status": "completed"
    },
    "tags": []
   },
   "outputs": [
    {
     "data": {
      "text/plain": [
       "(array([192., 469., 502., 424., 315., 268., 194., 145.,  55.,   8.]),\n",
       " array([ 1. ,  4.1,  7.2, 10.3, 13.4, 16.5, 19.6, 22.7, 25.8, 28.9, 32. ]),\n",
       " <BarContainer object of 10 artists>)"
      ]
     },
     "execution_count": 29,
     "metadata": {},
     "output_type": "execute_result"
    },
    {
     "data": {
      "image/png": "[encoded data removed]",
      "text/plain": [
       "<Figure size 640x480 with 1 Axes>"
      ]
     },
     "metadata": {},
     "output_type": "display_data"
    }
   ],
   "source": [
    "train_lens=[len(i.split()) for i in train_text]\n",
    "plt.hist(train_lens)"
   ]
  },
  {
   "cell_type": "code",
   "execution_count": 30,
   "id": "2076a4ca",
   "metadata": {
    "execution": {
     "iopub.execute_input": "2024-08-20T17:49:04.100953Z",
     "iopub.status.busy": "2024-08-20T17:49:04.100676Z",
     "iopub.status.idle": "2024-08-20T17:49:04.116106Z",
     "shell.execute_reply": "2024-08-20T17:49:04.114933Z"
    },
    "papermill": {
     "duration": 0.038318,
     "end_time": "2024-08-20T17:49:04.118311",
     "exception": false,
     "start_time": "2024-08-20T17:49:04.079993",
     "status": "completed"
    },
    "tags": []
   },
   "outputs": [
    {
     "name": "stdout",
     "output_type": "stream",
     "text": [
      "count    3215.000000\n",
      "mean       12.223328\n",
      "std         6.223879\n",
      "min         0.000000\n",
      "25%         7.000000\n",
      "50%        11.000000\n",
      "75%        17.000000\n",
      "max        32.000000\n",
      "Name: tweet, dtype: float64\n"
     ]
    }
   ],
   "source": [
    "import pandas as pd\n",
    "\n",
    "sequence_lengths = df['tweet'].apply(lambda x: len(x.split()))\n",
    "print(sequence_lengths.describe())\n"
   ]
  },
  {
   "cell_type": "code",
   "execution_count": 31,
   "id": "d4e6602b",
   "metadata": {
    "execution": {
     "iopub.execute_input": "2024-08-20T17:49:04.160527Z",
     "iopub.status.busy": "2024-08-20T17:49:04.160063Z",
     "iopub.status.idle": "2024-08-20T17:49:04.163813Z",
     "shell.execute_reply": "2024-08-20T17:49:04.162978Z"
    },
    "papermill": {
     "duration": 0.026274,
     "end_time": "2024-08-20T17:49:04.165610",
     "exception": false,
     "start_time": "2024-08-20T17:49:04.139336",
     "status": "completed"
    },
    "tags": []
   },
   "outputs": [],
   "source": [
    "pad_len = 128"
   ]
  },
  {
   "cell_type": "markdown",
   "id": "835c4a6c",
   "metadata": {
    "papermill": {
     "duration": 0.020612,
     "end_time": "2024-08-20T17:49:04.207158",
     "exception": false,
     "start_time": "2024-08-20T17:49:04.186546",
     "status": "completed"
    },
    "tags": []
   },
   "source": [
    "## ENCODING"
   ]
  },
  {
   "cell_type": "code",
   "execution_count": 32,
   "id": "255c45db",
   "metadata": {
    "execution": {
     "iopub.execute_input": "2024-08-20T17:49:04.248873Z",
     "iopub.status.busy": "2024-08-20T17:49:04.248447Z",
     "iopub.status.idle": "2024-08-20T17:49:04.424375Z",
     "shell.execute_reply": "2024-08-20T17:49:04.423615Z"
    },
    "papermill": {
     "duration": 0.199589,
     "end_time": "2024-08-20T17:49:04.426599",
     "exception": false,
     "start_time": "2024-08-20T17:49:04.227010",
     "status": "completed"
    },
    "tags": []
   },
   "outputs": [],
   "source": [
    "# tokenizing and encoding sequences \n",
    "tokens_train = tokenizer.batch_encode_plus(\n",
    "    train_text.tolist(),\n",
    "    max_length = pad_len,\n",
    "    pad_to_max_length=True,\n",
    "    add_special_tokens=True,\n",
    "    truncation=True,\n",
    "    return_token_type_ids=True\n",
    ")\n",
    "\n",
    "tokens_val = tokenizer.batch_encode_plus(\n",
    "    val_text.tolist(),\n",
    "    max_length = pad_len,\n",
    "    pad_to_max_length=True,\n",
    "    add_special_tokens=True,\n",
    "    truncation=True,\n",
    "    return_token_type_ids=True\n",
    ")\n",
    "\n",
    "tokens_test = tokenizer.batch_encode_plus(\n",
    "    test_text.tolist(),\n",
    "    max_length = pad_len,\n",
    "    pad_to_max_length=True,\n",
    "    add_special_tokens=True,\n",
    "    truncation=True,\n",
    "    return_token_type_ids=True\n",
    ")"
   ]
  },
  {
   "cell_type": "code",
   "execution_count": 33,
   "id": "f55c2426",
   "metadata": {
    "execution": {
     "iopub.execute_input": "2024-08-20T17:49:04.467733Z",
     "iopub.status.busy": "2024-08-20T17:49:04.467359Z",
     "iopub.status.idle": "2024-08-20T17:49:04.864136Z",
     "shell.execute_reply": "2024-08-20T17:49:04.863323Z"
    },
    "papermill": {
     "duration": 0.41919,
     "end_time": "2024-08-20T17:49:04.866108",
     "exception": false,
     "start_time": "2024-08-20T17:49:04.446918",
     "status": "completed"
    },
    "tags": []
   },
   "outputs": [],
   "source": [
    "train_seq = torch.tensor(tokens_train['input_ids'])\n",
    "train_mask = torch.tensor(tokens_train['attention_mask'])\n",
    "train_token_type_ids = torch.tensor(tokens_train[\"token_type_ids\"])\n",
    "train_y = torch.tensor(train_labels.tolist())\n",
    "\n",
    "val_seq = torch.tensor(tokens_val['input_ids'])\n",
    "val_mask = torch.tensor(tokens_val['attention_mask'])\n",
    "val_token_type_ids = torch.tensor(tokens_val[\"token_type_ids\"])\n",
    "val_y = torch.tensor(val_labels.tolist())\n",
    "\n",
    "test_seq = torch.tensor(tokens_test['input_ids'])\n",
    "test_mask = torch.tensor(tokens_test['attention_mask'])\n",
    "test_token_type_ids = torch.tensor(tokens_test[\"token_type_ids\"])\n",
    "test_y = torch.tensor(test_labels.tolist())"
   ]
  },
  {
   "cell_type": "code",
   "execution_count": 34,
   "id": "3f7efc52",
   "metadata": {
    "execution": {
     "iopub.execute_input": "2024-08-20T17:49:04.908912Z",
     "iopub.status.busy": "2024-08-20T17:49:04.908367Z",
     "iopub.status.idle": "2024-08-20T17:49:04.914413Z",
     "shell.execute_reply": "2024-08-20T17:49:04.913532Z"
    },
    "papermill": {
     "duration": 0.029693,
     "end_time": "2024-08-20T17:49:04.916413",
     "exception": false,
     "start_time": "2024-08-20T17:49:04.886720",
     "status": "completed"
    },
    "tags": []
   },
   "outputs": [],
   "source": [
    "from torch.utils.data import TensorDataset, DataLoader, RandomSampler, SequentialSampler\n",
    "batch_size = 64  ##batch size can be adjusted or modified\n",
    "train_data = TensorDataset(train_seq, train_mask, train_token_type_ids, train_y)\n",
    "train_sampler = RandomSampler(train_data)\n",
    "train_dataloader = DataLoader(train_data, sampler=train_sampler, batch_size=batch_size)\n",
    "val_data = TensorDataset(val_seq, val_mask, val_token_type_ids, val_y)\n",
    "val_sampler = SequentialSampler(val_data)\n",
    "val_dataloader = DataLoader(val_data, sampler = val_sampler, batch_size=batch_size)"
   ]
  },
  {
   "cell_type": "code",
   "execution_count": 35,
   "id": "a6290288",
   "metadata": {
    "execution": {
     "iopub.execute_input": "2024-08-20T17:49:04.957430Z",
     "iopub.status.busy": "2024-08-20T17:49:04.956723Z",
     "iopub.status.idle": "2024-08-20T17:49:04.960099Z",
     "shell.execute_reply": "2024-08-20T17:49:04.959440Z"
    },
    "papermill": {
     "duration": 0.025749,
     "end_time": "2024-08-20T17:49:04.961919",
     "exception": false,
     "start_time": "2024-08-20T17:49:04.936170",
     "status": "completed"
    },
    "tags": []
   },
   "outputs": [],
   "source": [
    "# for param in bert.parameters():\n",
    "#     param.requires_grad = False"
   ]
  },
  {
   "cell_type": "code",
   "execution_count": 36,
   "id": "cf0ae300",
   "metadata": {
    "execution": {
     "iopub.execute_input": "2024-08-20T17:49:05.001813Z",
     "iopub.status.busy": "2024-08-20T17:49:05.001542Z",
     "iopub.status.idle": "2024-08-20T17:49:05.006913Z",
     "shell.execute_reply": "2024-08-20T17:49:05.006128Z"
    },
    "papermill": {
     "duration": 0.027322,
     "end_time": "2024-08-20T17:49:05.008756",
     "exception": false,
     "start_time": "2024-08-20T17:49:04.981434",
     "status": "completed"
    },
    "tags": []
   },
   "outputs": [],
   "source": [
    "for name, param in bert.named_parameters():\n",
    "    if \"layer.11\" in name or \"layer.10\" in name:  # Fine-tune last two layers\n",
    "        param.requires_grad = True\n",
    "    else:\n",
    "        param.requires_grad = False"
   ]
  },
  {
   "cell_type": "markdown",
   "id": "bc51be52",
   "metadata": {
    "papermill": {
     "duration": 0.019438,
     "end_time": "2024-08-20T17:49:05.047926",
     "exception": false,
     "start_time": "2024-08-20T17:49:05.028488",
     "status": "completed"
    },
    "tags": []
   },
   "source": [
    "# MODEL"
   ]
  },
  {
   "cell_type": "code",
   "execution_count": 37,
   "id": "e3f20572",
   "metadata": {
    "execution": {
     "iopub.execute_input": "2024-08-20T17:49:05.088134Z",
     "iopub.status.busy": "2024-08-20T17:49:05.087875Z",
     "iopub.status.idle": "2024-08-20T17:49:05.098148Z",
     "shell.execute_reply": "2024-08-20T17:49:05.097337Z"
    },
    "papermill": {
     "duration": 0.03244,
     "end_time": "2024-08-20T17:49:05.099936",
     "exception": false,
     "start_time": "2024-08-20T17:49:05.067496",
     "status": "completed"
    },
    "tags": []
   },
   "outputs": [],
   "source": [
    "import torch.nn as nn\n",
    "\n",
    "##model building\n",
    "class SentimentClassifier(nn.Module):\n",
    "     \n",
    "    def __init__(self, n_classes):\n",
    "        super(SentimentClassifier, self).__init__()\n",
    "        self.bert = BertModel.from_pretrained(MODEL_NAME)\n",
    "        self.drop = nn.Dropout(p=0.3)\n",
    "        self.out = nn.Linear(self.bert.config.hidden_size, n_classes)\n",
    "    \n",
    "    # Forward propagaion\n",
    "    def forward(self, input_ids, attention_mask, token_type_ids):\n",
    "        _, pooled_output = self.bert(\n",
    "          input_ids=input_ids,\n",
    "          attention_mask=attention_mask,\n",
    "            token_type_ids=token_type_ids\n",
    "        ) \n",
    "        output = self.drop(pooled_output)  ##drop out layer\n",
    "        return self.out(output)\n",
    "\n",
    "    \n",
    "class BERT_architecture(nn.Module):\n",
    "\n",
    "    def __init__(self, bert):\n",
    "        super(BERT_architecture, self).__init__()\n",
    "        self.bert = bert\n",
    "        \n",
    "        self.dropout = nn.Dropout(0.3)  # Increased dropout for regularization\n",
    "        self.layer_norm = nn.LayerNorm(768)  # Layer normalization\n",
    "        \n",
    "        self.fc1 = nn.Linear(768, 256)  # Dense layer\n",
    "        self.fc2 = nn.Linear(256, 2)  # Output layer with 2 classes\n",
    "        \n",
    "        self.relu = nn.ReLU()\n",
    "        self.softmax = nn.LogSoftmax(dim=1)\n",
    "\n",
    "    def forward(self, sent_id, mask, token_type_ids):\n",
    "        _, cls_hs = self.bert(sent_id, attention_mask=mask, token_type_ids=token_type_ids, return_dict=False)\n",
    "        x = self.layer_norm(cls_hs)\n",
    "        x = self.fc1(x)\n",
    "        x = self.relu(x)\n",
    "        x = self.dropout(x)\n",
    "        x = self.fc2(x)\n",
    "        x = self.softmax(x)\n",
    "        return x"
   ]
  },
  {
   "cell_type": "code",
   "execution_count": 38,
   "id": "56f52eca",
   "metadata": {
    "execution": {
     "iopub.execute_input": "2024-08-20T17:49:05.140944Z",
     "iopub.status.busy": "2024-08-20T17:49:05.140690Z",
     "iopub.status.idle": "2024-08-20T17:49:05.152464Z",
     "shell.execute_reply": "2024-08-20T17:49:05.151682Z"
    },
    "papermill": {
     "duration": 0.03478,
     "end_time": "2024-08-20T17:49:05.154381",
     "exception": false,
     "start_time": "2024-08-20T17:49:05.119601",
     "status": "completed"
    },
    "tags": []
   },
   "outputs": [],
   "source": [
    "model = BERT_architecture(bert)"
   ]
  },
  {
   "cell_type": "code",
   "execution_count": 39,
   "id": "52137943",
   "metadata": {
    "execution": {
     "iopub.execute_input": "2024-08-20T17:49:05.196156Z",
     "iopub.status.busy": "2024-08-20T17:49:05.195906Z",
     "iopub.status.idle": "2024-08-20T17:49:05.511353Z",
     "shell.execute_reply": "2024-08-20T17:49:05.510474Z"
    },
    "papermill": {
     "duration": 0.339354,
     "end_time": "2024-08-20T17:49:05.513445",
     "exception": false,
     "start_time": "2024-08-20T17:49:05.174091",
     "status": "completed"
    },
    "tags": []
   },
   "outputs": [
    {
     "data": {
      "text/plain": [
       "BERT_architecture(\n",
       "  (bert): BertModel(\n",
       "    (embeddings): BertEmbeddings(\n",
       "      (word_embeddings): Embedding(30522, 768, padding_idx=0)\n",
       "      (position_embeddings): Embedding(512, 768)\n",
       "      (token_type_embeddings): Embedding(2, 768)\n",
       "      (LayerNorm): LayerNorm((768,), eps=1e-12, elementwise_affine=True)\n",
       "      (dropout): Dropout(p=0.1, inplace=False)\n",
       "    )\n",
       "    (encoder): BertEncoder(\n",
       "      (layer): ModuleList(\n",
       "        (0-11): 12 x BertLayer(\n",
       "          (attention): BertAttention(\n",
       "            (self): BertSdpaSelfAttention(\n",
       "              (query): Linear(in_features=768, out_features=768, bias=True)\n",
       "              (key): Linear(in_features=768, out_features=768, bias=True)\n",
       "              (value): Linear(in_features=768, out_features=768, bias=True)\n",
       "              (dropout): Dropout(p=0.1, inplace=False)\n",
       "            )\n",
       "            (output): BertSelfOutput(\n",
       "              (dense): Linear(in_features=768, out_features=768, bias=True)\n",
       "              (LayerNorm): LayerNorm((768,), eps=1e-12, elementwise_affine=True)\n",
       "              (dropout): Dropout(p=0.1, inplace=False)\n",
       "            )\n",
       "          )\n",
       "          (intermediate): BertIntermediate(\n",
       "            (dense): Linear(in_features=768, out_features=3072, bias=True)\n",
       "            (intermediate_act_fn): GELUActivation()\n",
       "          )\n",
       "          (output): BertOutput(\n",
       "            (dense): Linear(in_features=3072, out_features=768, bias=True)\n",
       "            (LayerNorm): LayerNorm((768,), eps=1e-12, elementwise_affine=True)\n",
       "            (dropout): Dropout(p=0.1, inplace=False)\n",
       "          )\n",
       "        )\n",
       "      )\n",
       "    )\n",
       "    (pooler): BertPooler(\n",
       "      (dense): Linear(in_features=768, out_features=768, bias=True)\n",
       "      (activation): Tanh()\n",
       "    )\n",
       "  )\n",
       "  (dropout): Dropout(p=0.3, inplace=False)\n",
       "  (layer_norm): LayerNorm((768,), eps=1e-05, elementwise_affine=True)\n",
       "  (fc1): Linear(in_features=768, out_features=256, bias=True)\n",
       "  (fc2): Linear(in_features=256, out_features=2, bias=True)\n",
       "  (relu): ReLU()\n",
       "  (softmax): LogSoftmax(dim=1)\n",
       ")"
      ]
     },
     "execution_count": 39,
     "metadata": {},
     "output_type": "execute_result"
    }
   ],
   "source": [
    "test_seq = test_seq.to(device)\n",
    "test_mask = test_mask.to(device)\n",
    "test_token_type_ids = test_token_type_ids.to(device)\n",
    "model.to(device)"
   ]
  },
  {
   "cell_type": "code",
   "execution_count": 40,
   "id": "1e1214ef",
   "metadata": {
    "execution": {
     "iopub.execute_input": "2024-08-20T17:49:05.554978Z",
     "iopub.status.busy": "2024-08-20T17:49:05.554299Z",
     "iopub.status.idle": "2024-08-20T17:49:06.205907Z",
     "shell.execute_reply": "2024-08-20T17:49:06.205009Z"
    },
    "papermill": {
     "duration": 0.674655,
     "end_time": "2024-08-20T17:49:06.208286",
     "exception": false,
     "start_time": "2024-08-20T17:49:05.533631",
     "status": "completed"
    },
    "tags": []
   },
   "outputs": [],
   "source": [
    "from transformers import AdamW\n",
    "# optimizer = AdamW(model.parameters(),lr = 1e-3)  ## learning rate needs to be adjusted.\n",
    "optimizer = AdamW(model.parameters(), lr=1e-5, eps=1e-8, weight_decay=0.01)"
   ]
  },
  {
   "cell_type": "code",
   "execution_count": 41,
   "id": "ba038341",
   "metadata": {
    "execution": {
     "iopub.execute_input": "2024-08-20T17:49:06.250956Z",
     "iopub.status.busy": "2024-08-20T17:49:06.250108Z",
     "iopub.status.idle": "2024-08-20T17:49:06.258194Z",
     "shell.execute_reply": "2024-08-20T17:49:06.257224Z"
    },
    "papermill": {
     "duration": 0.03145,
     "end_time": "2024-08-20T17:49:06.260132",
     "exception": false,
     "start_time": "2024-08-20T17:49:06.228682",
     "status": "completed"
    },
    "tags": []
   },
   "outputs": [
    {
     "name": "stdout",
     "output_type": "stream",
     "text": [
      "Class weights are [1.02225755 0.97869102] for [0 1]\n"
     ]
    }
   ],
   "source": [
    "from sklearn.utils.class_weight import compute_class_weight\n",
    "import torch\n",
    "import torch.nn as nn\n",
    "\n",
    "# Compute the class weights for three classes\n",
    "class_weights = compute_class_weight(class_weight=\"balanced\",\n",
    "                                     classes=np.unique(train_labels),\n",
    "                                     y=train_labels)\n",
    "print(\"Class weights are {} for {}\".format(class_weights, np.unique(train_labels)))"
   ]
  },
  {
   "cell_type": "code",
   "execution_count": 42,
   "id": "5c50ee88",
   "metadata": {
    "execution": {
     "iopub.execute_input": "2024-08-20T17:49:06.303067Z",
     "iopub.status.busy": "2024-08-20T17:49:06.302394Z",
     "iopub.status.idle": "2024-08-20T17:49:06.311152Z",
     "shell.execute_reply": "2024-08-20T17:49:06.310271Z"
    },
    "papermill": {
     "duration": 0.031514,
     "end_time": "2024-08-20T17:49:06.313307",
     "exception": false,
     "start_time": "2024-08-20T17:49:06.281793",
     "status": "completed"
    },
    "tags": []
   },
   "outputs": [
    {
     "data": {
      "text/plain": [
       "class\n",
       "1    1314\n",
       "0    1258\n",
       "Name: count, dtype: int64"
      ]
     },
     "execution_count": 42,
     "metadata": {},
     "output_type": "execute_result"
    }
   ],
   "source": [
    "pd.value_counts(train_labels)"
   ]
  },
  {
   "cell_type": "code",
   "execution_count": 43,
   "id": "32deda41",
   "metadata": {
    "execution": {
     "iopub.execute_input": "2024-08-20T17:49:06.356531Z",
     "iopub.status.busy": "2024-08-20T17:49:06.356046Z",
     "iopub.status.idle": "2024-08-20T17:49:06.359834Z",
     "shell.execute_reply": "2024-08-20T17:49:06.359017Z"
    },
    "papermill": {
     "duration": 0.027051,
     "end_time": "2024-08-20T17:49:06.361677",
     "exception": false,
     "start_time": "2024-08-20T17:49:06.334626",
     "status": "completed"
    },
    "tags": []
   },
   "outputs": [],
   "source": [
    "# weights = torch.tensor(class_weights, dtype=torch.float)\n",
    "\n",
    "# weights = weights.to(device)\n",
    "# cross_entropy = nn.CrossEntropyLoss()\n",
    "\n",
    "epochs = 12 ##increase the no of epochs for better accuracy \n"
   ]
  },
  {
   "cell_type": "markdown",
   "id": "eaf8ad80",
   "metadata": {
    "papermill": {
     "duration": 0.019812,
     "end_time": "2024-08-20T17:49:06.401525",
     "exception": false,
     "start_time": "2024-08-20T17:49:06.381713",
     "status": "completed"
    },
    "tags": []
   },
   "source": [
    "## HYPERPARAMS SETUP"
   ]
  },
  {
   "cell_type": "code",
   "execution_count": 44,
   "id": "f479bf0b",
   "metadata": {
    "execution": {
     "iopub.execute_input": "2024-08-20T17:49:06.442473Z",
     "iopub.status.busy": "2024-08-20T17:49:06.442011Z",
     "iopub.status.idle": "2024-08-20T17:49:06.450176Z",
     "shell.execute_reply": "2024-08-20T17:49:06.449525Z"
    },
    "papermill": {
     "duration": 0.030614,
     "end_time": "2024-08-20T17:49:06.452004",
     "exception": false,
     "start_time": "2024-08-20T17:49:06.421390",
     "status": "completed"
    },
    "tags": []
   },
   "outputs": [],
   "source": [
    "total_steps = len(train_dataloader) * epochs\n",
    "\n",
    "scheduler = get_linear_schedule_with_warmup(optimizer, num_warmup_steps=0, num_training_steps=total_steps)\n",
    "\n",
    "# Loss function\n",
    "weights = torch.tensor(class_weights, dtype=torch.float).to(device)\n",
    "cross_entropy = nn.CrossEntropyLoss(weight=weights)"
   ]
  },
  {
   "cell_type": "code",
   "execution_count": 45,
   "id": "48265b45",
   "metadata": {
    "execution": {
     "iopub.execute_input": "2024-08-20T17:49:06.492729Z",
     "iopub.status.busy": "2024-08-20T17:49:06.492462Z",
     "iopub.status.idle": "2024-08-20T17:49:06.496240Z",
     "shell.execute_reply": "2024-08-20T17:49:06.495418Z"
    },
    "papermill": {
     "duration": 0.026163,
     "end_time": "2024-08-20T17:49:06.498074",
     "exception": false,
     "start_time": "2024-08-20T17:49:06.471911",
     "status": "completed"
    },
    "tags": []
   },
   "outputs": [],
   "source": [
    "from torch.cuda.amp import GradScaler, autocast"
   ]
  },
  {
   "cell_type": "markdown",
   "id": "dcbc005a",
   "metadata": {
    "papermill": {
     "duration": 0.01968,
     "end_time": "2024-08-20T17:49:06.538327",
     "exception": false,
     "start_time": "2024-08-20T17:49:06.518647",
     "status": "completed"
    },
    "tags": []
   },
   "source": [
    "## EARLY STOPPING SETUP"
   ]
  },
  {
   "cell_type": "code",
   "execution_count": 46,
   "id": "d082a615",
   "metadata": {
    "execution": {
     "iopub.execute_input": "2024-08-20T17:49:06.579219Z",
     "iopub.status.busy": "2024-08-20T17:49:06.578745Z",
     "iopub.status.idle": "2024-08-20T17:49:06.584495Z",
     "shell.execute_reply": "2024-08-20T17:49:06.583707Z"
    },
    "papermill": {
     "duration": 0.028265,
     "end_time": "2024-08-20T17:49:06.586392",
     "exception": false,
     "start_time": "2024-08-20T17:49:06.558127",
     "status": "completed"
    },
    "tags": []
   },
   "outputs": [],
   "source": [
    "class EarlyStopping:\n",
    "    def __init__(self, patience, delta=0):  # Increased patience\n",
    "        self.patience = patience\n",
    "        self.delta = delta\n",
    "        self.best_loss = float('inf')\n",
    "        self.counter = 0\n",
    "        self.early_stop = False\n",
    "\n",
    "    def __call__(self, valid_loss):\n",
    "        if valid_loss < self.best_loss - self.delta:\n",
    "            self.best_loss = valid_loss\n",
    "            self.counter = 0\n",
    "        else:\n",
    "            self.counter += 1\n",
    "            if self.counter >= self.patience:\n",
    "                self.early_stop = True"
   ]
  },
  {
   "cell_type": "code",
   "execution_count": 47,
   "id": "aaf62a11",
   "metadata": {
    "execution": {
     "iopub.execute_input": "2024-08-20T17:49:06.627440Z",
     "iopub.status.busy": "2024-08-20T17:49:06.627188Z",
     "iopub.status.idle": "2024-08-20T17:49:06.630813Z",
     "shell.execute_reply": "2024-08-20T17:49:06.630014Z"
    },
    "papermill": {
     "duration": 0.026207,
     "end_time": "2024-08-20T17:49:06.632667",
     "exception": false,
     "start_time": "2024-08-20T17:49:06.606460",
     "status": "completed"
    },
    "tags": []
   },
   "outputs": [],
   "source": [
    "early_stopping = EarlyStopping(patience=3)"
   ]
  },
  {
   "cell_type": "code",
   "execution_count": 48,
   "id": "1eaf5925",
   "metadata": {
    "execution": {
     "iopub.execute_input": "2024-08-20T17:49:06.679747Z",
     "iopub.status.busy": "2024-08-20T17:49:06.679360Z",
     "iopub.status.idle": "2024-08-20T17:49:06.683995Z",
     "shell.execute_reply": "2024-08-20T17:49:06.683001Z"
    },
    "papermill": {
     "duration": 0.03338,
     "end_time": "2024-08-20T17:49:06.685994",
     "exception": false,
     "start_time": "2024-08-20T17:49:06.652614",
     "status": "completed"
    },
    "tags": []
   },
   "outputs": [],
   "source": [
    "# Gradient Scaler\n",
    "scaler = GradScaler()"
   ]
  },
  {
   "cell_type": "markdown",
   "id": "1f62b627",
   "metadata": {
    "papermill": {
     "duration": 0.022043,
     "end_time": "2024-08-20T17:49:06.728875",
     "exception": false,
     "start_time": "2024-08-20T17:49:06.706832",
     "status": "completed"
    },
    "tags": []
   },
   "source": [
    "## FUNCTIONS"
   ]
  },
  {
   "cell_type": "code",
   "execution_count": 49,
   "id": "b9d3f1f7",
   "metadata": {
    "execution": {
     "iopub.execute_input": "2024-08-20T17:49:06.792976Z",
     "iopub.status.busy": "2024-08-20T17:49:06.792321Z",
     "iopub.status.idle": "2024-08-20T17:49:06.803806Z",
     "shell.execute_reply": "2024-08-20T17:49:06.802925Z"
    },
    "papermill": {
     "duration": 0.045567,
     "end_time": "2024-08-20T17:49:06.806067",
     "exception": false,
     "start_time": "2024-08-20T17:49:06.760500",
     "status": "completed"
    },
    "tags": []
   },
   "outputs": [],
   "source": [
    "def train():\n",
    "    model.train()\n",
    "    total_loss, total_accuracy = 0, 0\n",
    "    total_preds, total_labels = [], []\n",
    "\n",
    "    for step, batch in enumerate(train_dataloader, 0):\n",
    "        batch = [r.to(device) for r in batch]\n",
    "        sent_id, mask, token_type_ids, labels = batch\n",
    "\n",
    "        optimizer.zero_grad()\n",
    "\n",
    "        with autocast():\n",
    "            preds = model(sent_id, mask, token_type_ids)\n",
    "            loss = cross_entropy(preds, labels)\n",
    "        \n",
    "        # Accumulate the loss\n",
    "        total_loss += loss.item()\n",
    "\n",
    "        # Perform backward pass with mixed precision\n",
    "        scaler.scale(loss).backward()\n",
    "        scaler.unscale_(optimizer)\n",
    "        torch.nn.utils.clip_grad_norm_(model.parameters(), 1.0)\n",
    "        scaler.step(optimizer)\n",
    "        scaler.update()\n",
    "        scheduler.step()\n",
    "\n",
    "        preds = preds.detach().cpu().numpy()\n",
    "        total_preds.append(preds)\n",
    "        total_labels.append(labels.detach().cpu().numpy())\n",
    "\n",
    "    avg_loss = total_loss / len(train_dataloader)\n",
    "    total_preds = np.concatenate(total_preds, axis=0)\n",
    "    total_labels = np.concatenate(total_labels, axis=0)\n",
    "    return avg_loss, total_preds, total_labels"
   ]
  },
  {
   "cell_type": "code",
   "execution_count": 50,
   "id": "44318741",
   "metadata": {
    "execution": {
     "iopub.execute_input": "2024-08-20T17:49:06.859212Z",
     "iopub.status.busy": "2024-08-20T17:49:06.858122Z",
     "iopub.status.idle": "2024-08-20T17:49:06.863837Z",
     "shell.execute_reply": "2024-08-20T17:49:06.862907Z"
    },
    "jupyter": {
     "source_hidden": true
    },
    "papermill": {
     "duration": 0.034668,
     "end_time": "2024-08-20T17:49:06.866102",
     "exception": false,
     "start_time": "2024-08-20T17:49:06.831434",
     "status": "completed"
    },
    "tags": []
   },
   "outputs": [],
   "source": [
    "# def train():\n",
    "#     model.train()\n",
    "#     total_loss, total_accuracy = 0, 0\n",
    "#     total_preds, total_labels = [], []\n",
    "\n",
    "#     for step, batch in enumerate(train_dataloader, 0):\n",
    "#         batch = [r.to(device) for r in batch]\n",
    "#         sent_id, mask, token_type_ids, labels = batch\n",
    "\n",
    "#         model.zero_grad()\n",
    "#         preds = model(sent_id, mask, token_type_ids)\n",
    "#         loss = cross_entropy(preds, labels)\n",
    "#         total_loss = total_loss + loss.item()\n",
    "#         loss.backward()\n",
    "#         torch.nn.utils.clip_grad_norm_(model.parameters(), 1.0)\n",
    "#         optimizer.step()\n",
    "#         scheduler.step()\n",
    "\n",
    "#         preds = preds.detach().cpu().numpy()\n",
    "#         total_preds.append(preds)\n",
    "#         total_labels.append(labels.detach().cpu().numpy())\n",
    "\n",
    "#     avg_loss = total_loss / len(train_dataloader)\n",
    "#     total_preds = np.concatenate(total_preds, axis=0)\n",
    "#     total_labels = np.concatenate(total_labels, axis=0)\n",
    "#     return avg_loss, total_preds, total_labels"
   ]
  },
  {
   "cell_type": "code",
   "execution_count": 51,
   "id": "6607b3d8",
   "metadata": {
    "execution": {
     "iopub.execute_input": "2024-08-20T17:49:06.916229Z",
     "iopub.status.busy": "2024-08-20T17:49:06.915404Z",
     "iopub.status.idle": "2024-08-20T17:49:06.927389Z",
     "shell.execute_reply": "2024-08-20T17:49:06.926526Z"
    },
    "papermill": {
     "duration": 0.039046,
     "end_time": "2024-08-20T17:49:06.929356",
     "exception": false,
     "start_time": "2024-08-20T17:49:06.890310",
     "status": "completed"
    },
    "tags": []
   },
   "outputs": [],
   "source": [
    "def evaluate():\n",
    "    model.eval()\n",
    "    total_loss, total_accuracy = 0, 0\n",
    "    total_preds, total_labels = [], []\n",
    "\n",
    "    for step, batch in enumerate(val_dataloader):\n",
    "        batch = [t.to(device) for t in batch]\n",
    "        sent_id, mask, token_type_ids, labels = batch\n",
    "\n",
    "        with torch.no_grad(), autocast():\n",
    "            preds = model(sent_id, mask, token_type_ids)\n",
    "            loss = cross_entropy(preds, labels)\n",
    "        \n",
    "        total_loss += loss.item()\n",
    "        preds = preds.detach().cpu().numpy()\n",
    "        total_preds.append(preds)\n",
    "        total_labels.append(labels.detach().cpu().numpy())\n",
    "\n",
    "    avg_loss = total_loss / len(val_dataloader)\n",
    "    total_preds = np.concatenate(total_preds, axis=0)\n",
    "    total_labels = np.concatenate(total_labels, axis=0)\n",
    "    return avg_loss, total_preds, total_labels"
   ]
  },
  {
   "cell_type": "code",
   "execution_count": 52,
   "id": "68b7cf6c",
   "metadata": {
    "execution": {
     "iopub.execute_input": "2024-08-20T17:49:06.970919Z",
     "iopub.status.busy": "2024-08-20T17:49:06.970628Z",
     "iopub.status.idle": "2024-08-20T17:49:06.975131Z",
     "shell.execute_reply": "2024-08-20T17:49:06.974296Z"
    },
    "jupyter": {
     "source_hidden": true
    },
    "papermill": {
     "duration": 0.027704,
     "end_time": "2024-08-20T17:49:06.977151",
     "exception": false,
     "start_time": "2024-08-20T17:49:06.949447",
     "status": "completed"
    },
    "tags": []
   },
   "outputs": [],
   "source": [
    "# def evaluate():\n",
    "#     model.eval()\n",
    "#     total_loss, total_accuracy = 0, 0\n",
    "#     total_preds, total_labels = [], []\n",
    "\n",
    "#     for step, batch in enumerate(val_dataloader):\n",
    "#         batch = [t.to(device) for t in batch]\n",
    "#         sent_id, mask, token_type_ids, labels = batch\n",
    "\n",
    "#         with torch.no_grad():\n",
    "#             preds = model(sent_id, mask, token_type_ids)\n",
    "#             loss = cross_entropy(preds, labels)\n",
    "#             total_loss = total_loss + loss.item()\n",
    "#             preds = preds.detach().cpu().numpy()\n",
    "#             total_preds.append(preds)\n",
    "#             total_labels.append(labels.detach().cpu().numpy())\n",
    "\n",
    "#     avg_loss = total_loss / len(val_dataloader)\n",
    "#     total_preds = np.concatenate(total_preds, axis=0)\n",
    "#     total_labels = np.concatenate(total_labels, axis=0)\n",
    "#     return avg_loss, total_preds, total_labels\n"
   ]
  },
  {
   "cell_type": "code",
   "execution_count": 53,
   "id": "65dac8ea",
   "metadata": {
    "execution": {
     "iopub.execute_input": "2024-08-20T17:49:07.020479Z",
     "iopub.status.busy": "2024-08-20T17:49:07.019682Z",
     "iopub.status.idle": "2024-08-20T17:49:07.025276Z",
     "shell.execute_reply": "2024-08-20T17:49:07.024194Z"
    },
    "papermill": {
     "duration": 0.029569,
     "end_time": "2024-08-20T17:49:07.027396",
     "exception": false,
     "start_time": "2024-08-20T17:49:06.997827",
     "status": "completed"
    },
    "tags": []
   },
   "outputs": [],
   "source": [
    "def calculate_accuracy(preds, labels):\n",
    "    preds_flat = np.argmax(preds, axis=1).flatten()\n",
    "    labels_flat = labels.flatten()\n",
    "    accuracy = np.sum(preds_flat == labels_flat) / len(labels_flat)\n",
    "    return accuracy"
   ]
  },
  {
   "cell_type": "code",
   "execution_count": 54,
   "id": "0c915159",
   "metadata": {
    "execution": {
     "iopub.execute_input": "2024-08-20T17:49:07.098704Z",
     "iopub.status.busy": "2024-08-20T17:49:07.098394Z",
     "iopub.status.idle": "2024-08-20T17:49:07.105450Z",
     "shell.execute_reply": "2024-08-20T17:49:07.104611Z"
    },
    "jupyter": {
     "source_hidden": true
    },
    "papermill": {
     "duration": 0.046449,
     "end_time": "2024-08-20T17:49:07.108139",
     "exception": false,
     "start_time": "2024-08-20T17:49:07.061690",
     "status": "completed"
    },
    "tags": []
   },
   "outputs": [],
   "source": [
    "# def train():\n",
    "#     model.train()\n",
    "#     total_loss, total_accuracy = 0, 0\n",
    "#     total_preds, total_labels = [], []\n",
    "\n",
    "#     for step, batch in enumerate(train_dataloader, 0):\n",
    "#         if step % 50 == 0 and not step == 0:\n",
    "#             print('  Batch {:>5,}  of  {:>5,}.'.format(step, len(train_dataloader)))\n",
    "\n",
    "# #         sent_id = batch[:,0].to(device, dtype = torch.long)\n",
    "# #         mask = data[:,1].to(device, dtype = torch.long)\n",
    "# #         token_type_ids = data[:,2].to(device, dtype = torch.long)\n",
    "# #         labels = data[:,3].to(device, dtype = torch.float)\n",
    "        \n",
    "# #         token_type_ids = batch['token_type_ids'].to(device)\n",
    "#         batch = [r.to(device) for r in batch]\n",
    "#         sent_id, mask, token_type_ids, labels = batch\n",
    "\n",
    "#         model.zero_grad()\n",
    "#         preds = model(sent_id, mask, token_type_ids)\n",
    "#         loss = cross_entropy(preds, labels)\n",
    "#         total_loss = total_loss + loss.item()\n",
    "#         loss.backward()\n",
    "#         torch.nn.utils.clip_grad_norm_(model.parameters(), 1.0)\n",
    "#         optimizer.step()\n",
    "\n",
    "#         preds = preds.detach().cpu().numpy()\n",
    "#         total_preds.append(preds)\n",
    "#         total_labels.append(labels.detach().cpu().numpy())\n",
    "\n",
    "#     avg_loss = total_loss / len(train_dataloader)\n",
    "#     total_preds = np.concatenate(total_preds, axis=0)\n",
    "#     total_labels = np.concatenate(total_labels, axis=0)\n",
    "#     return avg_loss, total_preds, total_labels\n",
    "\n",
    "# def evaluate():\n",
    "#     print(\"\\nEvaluating after the test: \")\n",
    "#     model.eval()\n",
    "#     total_loss, total_accuracy = 0, 0\n",
    "#     total_preds, total_labels = [], []\n",
    "\n",
    "#     for step, batch in enumerate(val_dataloader):\n",
    "#         if step % 50 == 0 and not step == 0:\n",
    "#             print('  Batch {:>5,}  of  {:>5,}.'.format(step, len(val_dataloader)))\n",
    "            \n",
    "# #         sent_id = batch[:,0].to(device, dtype = torch.long)\n",
    "# #         mask = data[:,1].to(device, dtype = torch.long)\n",
    "# #         token_type_ids = data[:,2].to(device, dtype = torch.long)\n",
    "# #         labels = data[:,3].to(device, dtype = torch.float)\n",
    "\n",
    "# #         token_type_ids = batch['token_type_ids'].to(device)\n",
    "#         batch = [t.to(device) for t in batch]\n",
    "#         sent_id, mask, token_type_ids, labels = batch\n",
    "\n",
    "#         with torch.no_grad():\n",
    "#             preds = model(sent_id, mask, token_type_ids)\n",
    "#             loss = cross_entropy(preds, labels)\n",
    "#             total_loss = total_loss + loss.item()\n",
    "#             preds = preds.detach().cpu().numpy()\n",
    "#             total_preds.append(preds)\n",
    "#             total_labels.append(labels.detach().cpu().numpy())\n",
    "\n",
    "#     avg_loss = total_loss / len(val_dataloader)\n",
    "#     total_preds = np.concatenate(total_preds, axis=0)\n",
    "#     total_labels = np.concatenate(total_labels, axis=0)\n",
    "#     return avg_loss, total_preds, total_labels\n",
    "\n",
    "# def calculate_accuracy(preds, labels):\n",
    "\n",
    "#     preds_flat = np.argmax(preds, axis=1).flatten()\n",
    "#     labels_flat = labels.flatten()\n",
    "#     accuracy = np.sum(preds_flat == labels_flat) / len(labels_flat)\n",
    "#     return accuracy\n"
   ]
  },
  {
   "cell_type": "code",
   "execution_count": 55,
   "id": "e36f7ac3",
   "metadata": {
    "execution": {
     "iopub.execute_input": "2024-08-20T17:49:07.165261Z",
     "iopub.status.busy": "2024-08-20T17:49:07.164484Z",
     "iopub.status.idle": "2024-08-20T17:49:07.169846Z",
     "shell.execute_reply": "2024-08-20T17:49:07.168691Z"
    },
    "jupyter": {
     "source_hidden": true
    },
    "papermill": {
     "duration": 0.03901,
     "end_time": "2024-08-20T17:49:07.171702",
     "exception": false,
     "start_time": "2024-08-20T17:49:07.132692",
     "status": "completed"
    },
    "tags": []
   },
   "outputs": [],
   "source": [
    "# best_valid_loss = float('inf')\n",
    "# train_losses = []\n",
    "# valid_losses = []\n",
    "# train_accuracies = []\n",
    "# valid_accuracies = []\n",
    "\n",
    "# for epoch in range(epochs):\n",
    "#     print('\\n Epoch {:} / {:}'.format(epoch + 1, epochs))\n",
    "    \n",
    "#     train_loss, train_preds, train_labels = train()\n",
    "#     valid_loss, valid_preds, valid_labels = evaluate()\n",
    "#     train_accuracy = calculate_accuracy(train_preds, train_labels)\n",
    "#     valid_accuracy = calculate_accuracy(valid_preds, valid_labels)\n",
    "\n",
    "#     if valid_loss < best_valid_loss:\n",
    "#         best_valid_loss = valid_loss\n",
    "#         torch.save(model.state_dict(), 'saved_weights.pt')\n",
    "    \n",
    "#     train_losses.append(train_loss)\n",
    "#     valid_losses.append(valid_loss)\n",
    "#     train_accuracies.append(train_accuracy)\n",
    "#     valid_accuracies.append(valid_accuracy)\n",
    "    \n",
    "#     print('\\nTraining Loss: {}'.format(train_loss))\n",
    "#     print('Validation Loss: {}'.format(valid_loss))\n",
    "#     print('Training Accuracy: {:.2f}%'.format(train_accuracy * 100))\n",
    "#     print('Validation Accuracy: {:.2f}%'.format(valid_accuracy * 100))\n"
   ]
  },
  {
   "cell_type": "code",
   "execution_count": 56,
   "id": "5dd4c8ba",
   "metadata": {
    "execution": {
     "iopub.execute_input": "2024-08-20T17:49:07.218106Z",
     "iopub.status.busy": "2024-08-20T17:49:07.217274Z",
     "iopub.status.idle": "2024-08-20T17:50:29.099000Z",
     "shell.execute_reply": "2024-08-20T17:50:29.098066Z"
    },
    "papermill": {
     "duration": 81.906327,
     "end_time": "2024-08-20T17:50:29.101162",
     "exception": false,
     "start_time": "2024-08-20T17:49:07.194835",
     "status": "completed"
    },
    "tags": []
   },
   "outputs": [
    {
     "name": "stdout",
     "output_type": "stream",
     "text": [
      "\n",
      " Epoch 1 / 12\n",
      "\n",
      "Training Loss: 0.699885557337505\n",
      "Validation Loss: 0.6727660497029623\n",
      "Training Accuracy: 51.44%\n",
      "Validation Accuracy: 63.24%\n",
      "\n",
      " Epoch 2 / 12\n",
      "\n",
      "Training Loss: 0.6615283809057096\n",
      "Validation Loss: 0.6097430288791656\n",
      "Training Accuracy: 58.94%\n",
      "Validation Accuracy: 67.60%\n",
      "\n",
      " Epoch 3 / 12\n",
      "\n",
      "Training Loss: 0.5860796876069976\n",
      "Validation Loss: 0.5164223313331604\n",
      "Training Accuracy: 71.46%\n",
      "Validation Accuracy: 72.90%\n",
      "\n",
      " Epoch 4 / 12\n",
      "\n",
      "Training Loss: 0.5069224078480791\n",
      "Validation Loss: 0.4597894524534543\n",
      "Training Accuracy: 77.02%\n",
      "Validation Accuracy: 77.88%\n",
      "\n",
      " Epoch 5 / 12\n",
      "\n",
      "Training Loss: 0.4572915107738681\n",
      "Validation Loss: 0.4123656128843625\n",
      "Training Accuracy: 79.90%\n",
      "Validation Accuracy: 81.62%\n",
      "\n",
      " Epoch 6 / 12\n",
      "\n",
      "Training Loss: 0.42098350568515497\n",
      "Validation Loss: 0.3877389853199323\n",
      "Training Accuracy: 81.73%\n",
      "Validation Accuracy: 82.55%\n",
      "\n",
      " Epoch 7 / 12\n",
      "\n",
      "Training Loss: 0.4028414545989618\n",
      "Validation Loss: 0.37571259836355847\n",
      "Training Accuracy: 82.15%\n",
      "Validation Accuracy: 83.49%\n",
      "\n",
      " Epoch 8 / 12\n",
      "\n",
      "Training Loss: 0.3942945043488247\n",
      "Validation Loss: 0.3720620883007844\n",
      "Training Accuracy: 82.93%\n",
      "Validation Accuracy: 82.87%\n",
      "\n",
      " Epoch 9 / 12\n",
      "\n",
      "Training Loss: 0.3716458154887688\n",
      "Validation Loss: 0.3649214704831441\n",
      "Training Accuracy: 84.14%\n",
      "Validation Accuracy: 82.87%\n",
      "\n",
      " Epoch 10 / 12\n",
      "\n",
      "Training Loss: 0.37646370326600426\n",
      "Validation Loss: 0.3673747206727664\n",
      "Training Accuracy: 84.10%\n",
      "Validation Accuracy: 82.87%\n",
      "\n",
      " Epoch 11 / 12\n",
      "\n",
      "Training Loss: 0.3560687270833225\n",
      "Validation Loss: 0.3677907648185889\n",
      "Training Accuracy: 84.95%\n",
      "Validation Accuracy: 82.55%\n",
      "\n",
      " Epoch 12 / 12\n",
      "Early stopping triggered\n"
     ]
    }
   ],
   "source": [
    "best_valid_loss = float('inf')\n",
    "train_losses = []\n",
    "valid_losses = []\n",
    "train_accuracies = []\n",
    "valid_accuracies = []\n",
    "\n",
    "\n",
    "for epoch in range(epochs):\n",
    "    print('\\n Epoch {:} / {:}'.format(epoch + 1, epochs))\n",
    "    \n",
    "    train_loss, train_preds, train_labels = train()\n",
    "    valid_loss, valid_preds, valid_labels = evaluate()\n",
    "    train_accuracy = calculate_accuracy(train_preds, train_labels)\n",
    "    valid_accuracy = calculate_accuracy(valid_preds, valid_labels)\n",
    "\n",
    "    if valid_loss < best_valid_loss:\n",
    "        best_valid_loss = valid_loss\n",
    "        torch.save(model.state_dict(), 'saved_weights.pt')\n",
    "    \n",
    "    train_losses.append(train_loss)\n",
    "    valid_losses.append(valid_loss)\n",
    "    train_accuracies.append(train_accuracy)\n",
    "    valid_accuracies.append(valid_accuracy)\n",
    "\n",
    "    early_stopping(valid_loss)\n",
    "    if early_stopping.early_stop:\n",
    "        print(\"Early stopping triggered\")\n",
    "        break\n",
    "    \n",
    "    print('\\nTraining Loss: {}'.format(train_loss))\n",
    "    print('Validation Loss: {}'.format(valid_loss))\n",
    "    print('Training Accuracy: {:.2f}%'.format(train_accuracy * 100))\n",
    "    print('Validation Accuracy: {:.2f}%'.format(valid_accuracy * 100))"
   ]
  },
  {
   "cell_type": "markdown",
   "id": "9a04ec5b",
   "metadata": {
    "papermill": {
     "duration": 0.021788,
     "end_time": "2024-08-20T17:50:29.144796",
     "exception": false,
     "start_time": "2024-08-20T17:50:29.123008",
     "status": "completed"
    },
    "tags": []
   },
   "source": [
    "# CLASSIFICATION REPORT"
   ]
  },
  {
   "cell_type": "code",
   "execution_count": 57,
   "id": "ba76bffd",
   "metadata": {
    "execution": {
     "iopub.execute_input": "2024-08-20T17:50:29.195541Z",
     "iopub.status.busy": "2024-08-20T17:50:29.195182Z",
     "iopub.status.idle": "2024-08-20T17:50:31.220642Z",
     "shell.execute_reply": "2024-08-20T17:50:31.219154Z"
    },
    "papermill": {
     "duration": 2.055191,
     "end_time": "2024-08-20T17:50:31.223811",
     "exception": false,
     "start_time": "2024-08-20T17:50:29.168620",
     "status": "completed"
    },
    "tags": []
   },
   "outputs": [
    {
     "name": "stdout",
     "output_type": "stream",
     "text": [
      "              precision    recall  f1-score   support\n",
      "\n",
      "           0       0.82      0.80      0.81       157\n",
      "           1       0.82      0.84      0.83       165\n",
      "\n",
      "    accuracy                           0.82       322\n",
      "   macro avg       0.82      0.82      0.82       322\n",
      "weighted avg       0.82      0.82      0.82       322\n",
      "\n"
     ]
    }
   ],
   "source": [
    "from sklearn.metrics import classification_report\n",
    "with torch.no_grad():\n",
    "  preds = model(test_seq.to(device), test_mask.to(device), test_token_type_ids.to(device))\n",
    "  preds = preds.detach().cpu().numpy()\n",
    "pred = np.argmax(preds, axis = 1)\n",
    "print(classification_report(test_y, pred))"
   ]
  },
  {
   "cell_type": "code",
   "execution_count": 58,
   "id": "a53faf83",
   "metadata": {
    "execution": {
     "iopub.execute_input": "2024-08-20T17:50:31.286281Z",
     "iopub.status.busy": "2024-08-20T17:50:31.285968Z",
     "iopub.status.idle": "2024-08-20T17:50:31.356860Z",
     "shell.execute_reply": "2024-08-20T17:50:31.355813Z"
    },
    "papermill": {
     "duration": 0.104911,
     "end_time": "2024-08-20T17:50:31.358960",
     "exception": false,
     "start_time": "2024-08-20T17:50:31.254049",
     "status": "completed"
    },
    "tags": []
   },
   "outputs": [
    {
     "name": "stderr",
     "output_type": "stream",
     "text": [
      "Truncation was not explicitly activated but `max_length` is provided a specific value, please use `truncation=True` to explicitly truncate examples to max length. Defaulting to 'longest_first' truncation strategy. If you encode pairs of sequences (GLUE-style) with the tokenizer you can select this strategy more precisely by providing a specific strategy to `truncation`.\n"
     ]
    },
    {
     "name": "stdout",
     "output_type": "stream",
     "text": [
      "Predicted sentiment: Negative\n"
     ]
    }
   ],
   "source": [
    "def predict_user_input(input_text, model, tokenizer, device):\n",
    "    inputs = tokenizer.encode_plus(\n",
    "        input_text,\n",
    "        add_special_tokens=True,\n",
    "        max_length=max_seq_len,\n",
    "        pad_to_max_length=True,\n",
    "        return_attention_mask=True,\n",
    "        return_token_type_ids=True,\n",
    "        return_tensors='pt',\n",
    "    )\n",
    "    input_ids = inputs['input_ids'].to(device)\n",
    "    attention_mask = inputs['attention_mask'].to(device)\n",
    "    token_type_ids = inputs['token_type_ids'].to(device)\n",
    "\n",
    "    with torch.no_grad():\n",
    "        outputs = model(input_ids, attention_mask, token_type_ids)\n",
    "        preds = torch.argmax(outputs, dim=1)\n",
    "    \n",
    "    return preds.item()\n",
    "max_seq_len=128\n",
    "input_text = \"I been told you that yo folks dont care about you . Im starving and my dad deadass didnt make me a plate\"\n",
    "predicted_class = predict_user_input(input_text, model, tokenizer, device)\n",
    "if(predicted_class==0):\n",
    "    print('Predicted sentiment: Negative')\n",
    "else:\n",
    "    print('Predicted sentiment: Positive')"
   ]
  },
  {
   "cell_type": "code",
   "execution_count": 59,
   "id": "9c6d8cbb",
   "metadata": {
    "execution": {
     "iopub.execute_input": "2024-08-20T17:50:31.403657Z",
     "iopub.status.busy": "2024-08-20T17:50:31.403311Z",
     "iopub.status.idle": "2024-08-20T17:50:31.419628Z",
     "shell.execute_reply": "2024-08-20T17:50:31.418740Z"
    },
    "papermill": {
     "duration": 0.040641,
     "end_time": "2024-08-20T17:50:31.421429",
     "exception": false,
     "start_time": "2024-08-20T17:50:31.380788",
     "status": "completed"
    },
    "tags": []
   },
   "outputs": [
    {
     "name": "stdout",
     "output_type": "stream",
     "text": [
      "Predicted sentiment: Positive\n"
     ]
    }
   ],
   "source": [
    "input_text = \"what a badass character Arthur is, rckstr is the bst\"\n",
    "predicted_class = predict_user_input(input_text, model, tokenizer, device)\n",
    "if(predicted_class==0):\n",
    "    print('Predicted sentiment: Negative')\n",
    "else:\n",
    "    print('Predicted sentiment: Positive')"
   ]
  },
  {
   "cell_type": "code",
   "execution_count": null,
   "id": "0d79b0fa",
   "metadata": {
    "papermill": {
     "duration": 0.021736,
     "end_time": "2024-08-20T17:50:31.464797",
     "exception": false,
     "start_time": "2024-08-20T17:50:31.443061",
     "status": "completed"
    },
    "tags": []
   },
   "outputs": [],
   "source": []
  }
 ],
 "metadata": {
  "kaggle": {
   "accelerator": "nvidiaTeslaT4",
   "dataSources": [
    {
     "datasetId": 5557640,
     "sourceId": 9193227,
     "sourceType": "datasetVersion"
    }
   ],
   "dockerImageVersionId": 30747,
   "isGpuEnabled": true,
   "isInternetEnabled": true,
   "language": "python",
   "sourceType": "notebook"
  },
  "kernelspec": {
   "display_name": "Python 3",
   "language": "python",
   "name": "python3"
  },
  "language_info": {
   "codemirror_mode": {
    "name": "ipython",
    "version": 3
   },
   "file_extension": ".py",
   "mimetype": "text/x-python",
   "name": "python",
   "nbconvert_exporter": "python",
   "pygments_lexer": "ipython3",
   "version": "3.10.13"
  },
  "papermill": {
   "default_parameters": {},
   "duration": 108.389419,
   "end_time": "2024-08-20T17:50:33.891811",
   "environment_variables": {},
   "exception": null,
   "input_path": "__notebook__.ipynb",
   "output_path": "__notebook__.ipynb",
   "parameters": {},
   "start_time": "2024-08-20T17:48:45.502392",
   "version": "2.5.0"
  },
  "widgets": {
   "application/vnd.jupyter.widget-state+json": {
    "state": {
     "0195149ae2b94ebbacf4f02b170454b2": {
      "model_module": "@jupyter-widgets/base",
      "model_module_version": "1.2.0",
      "model_name": "LayoutModel",
      "state": {
       "_model_module": "@jupyter-widgets/base",
       "_model_module_version": "1.2.0",
       "_model_name": "LayoutModel",
       "_view_count": null,
       "_view_module": "@jupyter-widgets/base",
       "_view_module_version": "1.2.0",
       "_view_name": "LayoutView",
       "align_content": null,
       "align_items": null,
       "align_self": null,
       "border": null,
       "bottom": null,
       "display": null,
       "flex": null,
       "flex_flow": null,
       "grid_area": null,
       "grid_auto_columns": null,
       "grid_auto_flow": null,
       "grid_auto_rows": null,
       "grid_column": null,
       "grid_gap": null,
       "grid_row": null,
       "grid_template_areas": null,
       "grid_template_columns": null,
       "grid_template_rows": null,
       "height": null,
       "justify_content": null,
       "justify_items": null,
       "left": null,
       "margin": null,
       "max_height": null,
       "max_width": null,
       "min_height": null,
       "min_width": null,
       "object_fit": null,
       "object_position": null,
       "order": null,
       "overflow": null,
       "overflow_x": null,
       "overflow_y": null,
       "padding": null,
       "right": null,
       "top": null,
       "visibility": null,
       "width": null
      }
     },
     "056cf741f3524f0d8852b2827f68e7b6": {
      "model_module": "@jupyter-widgets/controls",
      "model_module_version": "1.5.0",
      "model_name": "DescriptionStyleModel",
      "state": {
       "_model_module": "@jupyter-widgets/controls",
       "_model_module_version": "1.5.0",
       "_model_name": "DescriptionStyleModel",
       "_view_count": null,
       "_view_module": "@jupyter-widgets/base",
       "_view_module_version": "1.2.0",
       "_view_name": "StyleView",
       "description_width": ""
      }
     },
     "05c938b6493f407bb042532c2ebe111e": {
      "model_module": "@jupyter-widgets/controls",
      "model_module_version": "1.5.0",
      "model_name": "HBoxModel",
      "state": {
       "_dom_classes": [],
       "_model_module": "@jupyter-widgets/controls",
       "_model_module_version": "1.5.0",
       "_model_name": "HBoxModel",
       "_view_count": null,
       "_view_module": "@jupyter-widgets/controls",
       "_view_module_version": "1.5.0",
       "_view_name": "HBoxView",
       "box_style": "",
       "children": [
        "IPY_MODEL_20b7036d34374577b4aeeb1e0e77c033",
        "IPY_MODEL_d7333374b6914217804071ca3d7de2ff",
        "IPY_MODEL_1774d91fbcca449a9a284ddfae2c09f6"
       ],
       "layout": "IPY_MODEL_0195149ae2b94ebbacf4f02b170454b2"
      }
     },
     "0dc633693b754630b70ebd4cc62d9962": {
      "model_module": "@jupyter-widgets/controls",
      "model_module_version": "1.5.0",
      "model_name": "HTMLModel",
      "state": {
       "_dom_classes": [],
       "_model_module": "@jupyter-widgets/controls",
       "_model_module_version": "1.5.0",
       "_model_name": "HTMLModel",
       "_view_count": null,
       "_view_module": "@jupyter-widgets/controls",
       "_view_module_version": "1.5.0",
       "_view_name": "HTMLView",
       "description": "",
       "description_tooltip": null,
       "layout": "IPY_MODEL_b19565f04d8b4715a24e73d9abfd4f6f",
       "placeholder": "​",
       "style": "IPY_MODEL_8170a7fb8bc949b49517fc11002a98e2",
       "value": "tokenizer_config.json: 100%"
      }
     },
     "0e4d7cedf12b4841958617c3abaf80af": {
      "model_module": "@jupyter-widgets/controls",
      "model_module_version": "1.5.0",
      "model_name": "FloatProgressModel",
      "state": {
       "_dom_classes": [],
       "_model_module": "@jupyter-widgets/controls",
       "_model_module_version": "1.5.0",
       "_model_name": "FloatProgressModel",
       "_view_count": null,
       "_view_module": "@jupyter-widgets/controls",
       "_view_module_version": "1.5.0",
       "_view_name": "ProgressView",
       "bar_style": "success",
       "description": "",
       "description_tooltip": null,
       "layout": "IPY_MODEL_2e8bd0e818b14154b24eeab1c07eaa10",
       "max": 48.0,
       "min": 0.0,
       "orientation": "horizontal",
       "style": "IPY_MODEL_f5a4c48b8c284691b5901a8ff9cfb090",
       "value": 48.0
      }
     },
     "119039a6d4934fd594baecdde602d3b7": {
      "model_module": "@jupyter-widgets/base",
      "model_module_version": "1.2.0",
      "model_name": "LayoutModel",
      "state": {
       "_model_module": "@jupyter-widgets/base",
       "_model_module_version": "1.2.0",
       "_model_name": "LayoutModel",
       "_view_count": null,
       "_view_module": "@jupyter-widgets/base",
       "_view_module_version": "1.2.0",
       "_view_name": "LayoutView",
       "align_content": null,
       "align_items": null,
       "align_self": null,
       "border": null,
       "bottom": null,
       "display": null,
       "flex": null,
       "flex_flow": null,
       "grid_area": null,
       "grid_auto_columns": null,
       "grid_auto_flow": null,
       "grid_auto_rows": null,
       "grid_column": null,
       "grid_gap": null,
       "grid_row": null,
       "grid_template_areas": null,
       "grid_template_columns": null,
       "grid_template_rows": null,
       "height": null,
       "justify_content": null,
       "justify_items": null,
       "left": null,
       "margin": null,
       "max_height": null,
       "max_width": null,
       "min_height": null,
       "min_width": null,
       "object_fit": null,
       "object_position": null,
       "order": null,
       "overflow": null,
       "overflow_x": null,
       "overflow_y": null,
       "padding": null,
       "right": null,
       "top": null,
       "visibility": null,
       "width": null
      }
     },
     "11e90bcd061e4e5487f50b02773520a6": {
      "model_module": "@jupyter-widgets/base",
      "model_module_version": "1.2.0",
      "model_name": "LayoutModel",
      "state": {
       "_model_module": "@jupyter-widgets/base",
       "_model_module_version": "1.2.0",
       "_model_name": "LayoutModel",
       "_view_count": null,
       "_view_module": "@jupyter-widgets/base",
       "_view_module_version": "1.2.0",
       "_view_name": "LayoutView",
       "align_content": null,
       "align_items": null,
       "align_self": null,
       "border": null,
       "bottom": null,
       "display": null,
       "flex": null,
       "flex_flow": null,
       "grid_area": null,
       "grid_auto_columns": null,
       "grid_auto_flow": null,
       "grid_auto_rows": null,
       "grid_column": null,
       "grid_gap": null,
       "grid_row": null,
       "grid_template_areas": null,
       "grid_template_columns": null,
       "grid_template_rows": null,
       "height": null,
       "justify_content": null,
       "justify_items": null,
       "left": null,
       "margin": null,
       "max_height": null,
       "max_width": null,
       "min_height": null,
       "min_width": null,
       "object_fit": null,
       "object_position": null,
       "order": null,
       "overflow": null,
       "overflow_x": null,
       "overflow_y": null,
       "padding": null,
       "right": null,
       "top": null,
       "visibility": null,
       "width": null
      }
     },
     "1774d91fbcca449a9a284ddfae2c09f6": {
      "model_module": "@jupyter-widgets/controls",
      "model_module_version": "1.5.0",
      "model_name": "HTMLModel",
      "state": {
       "_dom_classes": [],
       "_model_module": "@jupyter-widgets/controls",
       "_model_module_version": "1.5.0",
       "_model_name": "HTMLModel",
       "_view_count": null,
       "_view_module": "@jupyter-widgets/controls",
       "_view_module_version": "1.5.0",
       "_view_name": "HTMLView",
       "description": "",
       "description_tooltip": null,
       "layout": "IPY_MODEL_b4007440c3204dadb114d65fb2b433c5",
       "placeholder": "​",
       "style": "IPY_MODEL_de3279defb374dc6931303bfcd9b455c",
       "value": " 232k/232k [00:00&lt;00:00, 4.37MB/s]"
      }
     },
     "20b7036d34374577b4aeeb1e0e77c033": {
      "model_module": "@jupyter-widgets/controls",
      "model_module_version": "1.5.0",
      "model_name": "HTMLModel",
      "state": {
       "_dom_classes": [],
       "_model_module": "@jupyter-widgets/controls",
       "_model_module_version": "1.5.0",
       "_model_name": "HTMLModel",
       "_view_count": null,
       "_view_module": "@jupyter-widgets/controls",
       "_view_module_version": "1.5.0",
       "_view_name": "HTMLView",
       "description": "",
       "description_tooltip": null,
       "layout": "IPY_MODEL_11e90bcd061e4e5487f50b02773520a6",
       "placeholder": "​",
       "style": "IPY_MODEL_a44b46c980b44640bda4b9887de6284f",
       "value": "vocab.txt: 100%"
      }
     },
     "285e9144f1b14f529ef1e41e78afadf7": {
      "model_module": "@jupyter-widgets/controls",
      "model_module_version": "1.5.0",
      "model_name": "FloatProgressModel",
      "state": {
       "_dom_classes": [],
       "_model_module": "@jupyter-widgets/controls",
       "_model_module_version": "1.5.0",
       "_model_name": "FloatProgressModel",
       "_view_count": null,
       "_view_module": "@jupyter-widgets/controls",
       "_view_module_version": "1.5.0",
       "_view_name": "ProgressView",
       "bar_style": "success",
       "description": "",
       "description_tooltip": null,
       "layout": "IPY_MODEL_38724d5565c744f18c5d68baf5a0e8c6",
       "max": 466062.0,
       "min": 0.0,
       "orientation": "horizontal",
       "style": "IPY_MODEL_89ba7d23b86b4b15bcec02a04c8e6a6d",
       "value": 466062.0
      }
     },
     "2e8bd0e818b14154b24eeab1c07eaa10": {
      "model_module": "@jupyter-widgets/base",
      "model_module_version": "1.2.0",
      "model_name": "LayoutModel",
      "state": {
       "_model_module": "@jupyter-widgets/base",
       "_model_module_version": "1.2.0",
       "_model_name": "LayoutModel",
       "_view_count": null,
       "_view_module": "@jupyter-widgets/base",
       "_view_module_version": "1.2.0",
       "_view_name": "LayoutView",
       "align_content": null,
       "align_items": null,
       "align_self": null,
       "border": null,
       "bottom": null,
       "display": null,
       "flex": null,
       "flex_flow": null,
       "grid_area": null,
       "grid_auto_columns": null,
       "grid_auto_flow": null,
       "grid_auto_rows": null,
       "grid_column": null,
       "grid_gap": null,
       "grid_row": null,
       "grid_template_areas": null,
       "grid_template_columns": null,
       "grid_template_rows": null,
       "height": null,
       "justify_content": null,
       "justify_items": null,
       "left": null,
       "margin": null,
       "max_height": null,
       "max_width": null,
       "min_height": null,
       "min_width": null,
       "object_fit": null,
       "object_position": null,
       "order": null,
       "overflow": null,
       "overflow_x": null,
       "overflow_y": null,
       "padding": null,
       "right": null,
       "top": null,
       "visibility": null,
       "width": null
      }
     },
     "31adc5fbb46e45ffbe0baeb002f5f55b": {
      "model_module": "@jupyter-widgets/controls",
      "model_module_version": "1.5.0",
      "model_name": "ProgressStyleModel",
      "state": {
       "_model_module": "@jupyter-widgets/controls",
       "_model_module_version": "1.5.0",
       "_model_name": "ProgressStyleModel",
       "_view_count": null,
       "_view_module": "@jupyter-widgets/base",
       "_view_module_version": "1.2.0",
       "_view_name": "StyleView",
       "bar_color": null,
       "description_width": ""
      }
     },
     "359537eb4423432ea75eaf89657c800f": {
      "model_module": "@jupyter-widgets/base",
      "model_module_version": "1.2.0",
      "model_name": "LayoutModel",
      "state": {
       "_model_module": "@jupyter-widgets/base",
       "_model_module_version": "1.2.0",
       "_model_name": "LayoutModel",
       "_view_count": null,
       "_view_module": "@jupyter-widgets/base",
       "_view_module_version": "1.2.0",
       "_view_name": "LayoutView",
       "align_content": null,
       "align_items": null,
       "align_self": null,
       "border": null,
       "bottom": null,
       "display": null,
       "flex": null,
       "flex_flow": null,
       "grid_area": null,
       "grid_auto_columns": null,
       "grid_auto_flow": null,
       "grid_auto_rows": null,
       "grid_column": null,
       "grid_gap": null,
       "grid_row": null,
       "grid_template_areas": null,
       "grid_template_columns": null,
       "grid_template_rows": null,
       "height": null,
       "justify_content": null,
       "justify_items": null,
       "left": null,
       "margin": null,
       "max_height": null,
       "max_width": null,
       "min_height": null,
       "min_width": null,
       "object_fit": null,
       "object_position": null,
       "order": null,
       "overflow": null,
       "overflow_x": null,
       "overflow_y": null,
       "padding": null,
       "right": null,
       "top": null,
       "visibility": null,
       "width": null
      }
     },
     "3864d7ccf5ff413a92cc87eeae9ddd8b": {
      "model_module": "@jupyter-widgets/controls",
      "model_module_version": "1.5.0",
      "model_name": "HTMLModel",
      "state": {
       "_dom_classes": [],
       "_model_module": "@jupyter-widgets/controls",
       "_model_module_version": "1.5.0",
       "_model_name": "HTMLModel",
       "_view_count": null,
       "_view_module": "@jupyter-widgets/controls",
       "_view_module_version": "1.5.0",
       "_view_name": "HTMLView",
       "description": "",
       "description_tooltip": null,
       "layout": "IPY_MODEL_c7eae746658f4992ae8e4c89c8dc41d0",
       "placeholder": "​",
       "style": "IPY_MODEL_056cf741f3524f0d8852b2827f68e7b6",
       "value": " 570/570 [00:00&lt;00:00, 48.3kB/s]"
      }
     },
     "38724d5565c744f18c5d68baf5a0e8c6": {
      "model_module": "@jupyter-widgets/base",
      "model_module_version": "1.2.0",
      "model_name": "LayoutModel",
      "state": {
       "_model_module": "@jupyter-widgets/base",
       "_model_module_version": "1.2.0",
       "_model_name": "LayoutModel",
       "_view_count": null,
       "_view_module": "@jupyter-widgets/base",
       "_view_module_version": "1.2.0",
       "_view_name": "LayoutView",
       "align_content": null,
       "align_items": null,
       "align_self": null,
       "border": null,
       "bottom": null,
       "display": null,
       "flex": null,
       "flex_flow": null,
       "grid_area": null,
       "grid_auto_columns": null,
       "grid_auto_flow": null,
       "grid_auto_rows": null,
       "grid_column": null,
       "grid_gap": null,
       "grid_row": null,
       "grid_template_areas": null,
       "grid_template_columns": null,
       "grid_template_rows": null,
       "height": null,
       "justify_content": null,
       "justify_items": null,
       "left": null,
       "margin": null,
       "max_height": null,
       "max_width": null,
       "min_height": null,
       "min_width": null,
       "object_fit": null,
       "object_position": null,
       "order": null,
       "overflow": null,
       "overflow_x": null,
       "overflow_y": null,
       "padding": null,
       "right": null,
       "top": null,
       "visibility": null,
       "width": null
      }
     },
     "3eadd640d14748ada05997893eedcfd0": {
      "model_module": "@jupyter-widgets/controls",
      "model_module_version": "1.5.0",
      "model_name": "HTMLModel",
      "state": {
       "_dom_classes": [],
       "_model_module": "@jupyter-widgets/controls",
       "_model_module_version": "1.5.0",
       "_model_name": "HTMLModel",
       "_view_count": null,
       "_view_module": "@jupyter-widgets/controls",
       "_view_module_version": "1.5.0",
       "_view_name": "HTMLView",
       "description": "",
       "description_tooltip": null,
       "layout": "IPY_MODEL_48caf737a3844b7ba6182902eb2c3e45",
       "placeholder": "​",
       "style": "IPY_MODEL_b76c94de378a487c82e0052b614dd419",
       "value": " 466k/466k [00:00&lt;00:00, 17.5MB/s]"
      }
     },
     "48caf737a3844b7ba6182902eb2c3e45": {
      "model_module": "@jupyter-widgets/base",
      "model_module_version": "1.2.0",
      "model_name": "LayoutModel",
      "state": {
       "_model_module": "@jupyter-widgets/base",
       "_model_module_version": "1.2.0",
       "_model_name": "LayoutModel",
       "_view_count": null,
       "_view_module": "@jupyter-widgets/base",
       "_view_module_version": "1.2.0",
       "_view_name": "LayoutView",
       "align_content": null,
       "align_items": null,
       "align_self": null,
       "border": null,
       "bottom": null,
       "display": null,
       "flex": null,
       "flex_flow": null,
       "grid_area": null,
       "grid_auto_columns": null,
       "grid_auto_flow": null,
       "grid_auto_rows": null,
       "grid_column": null,
       "grid_gap": null,
       "grid_row": null,
       "grid_template_areas": null,
       "grid_template_columns": null,
       "grid_template_rows": null,
       "height": null,
       "justify_content": null,
       "justify_items": null,
       "left": null,
       "margin": null,
       "max_height": null,
       "max_width": null,
       "min_height": null,
       "min_width": null,
       "object_fit": null,
       "object_position": null,
       "order": null,
       "overflow": null,
       "overflow_x": null,
       "overflow_y": null,
       "padding": null,
       "right": null,
       "top": null,
       "visibility": null,
       "width": null
      }
     },
     "610a095bae314465ac4d1a754f920b11": {
      "model_module": "@jupyter-widgets/base",
      "model_module_version": "1.2.0",
      "model_name": "LayoutModel",
      "state": {
       "_model_module": "@jupyter-widgets/base",
       "_model_module_version": "1.2.0",
       "_model_name": "LayoutModel",
       "_view_count": null,
       "_view_module": "@jupyter-widgets/base",
       "_view_module_version": "1.2.0",
       "_view_name": "LayoutView",
       "align_content": null,
       "align_items": null,
       "align_self": null,
       "border": null,
       "bottom": null,
       "display": null,
       "flex": null,
       "flex_flow": null,
       "grid_area": null,
       "grid_auto_columns": null,
       "grid_auto_flow": null,
       "grid_auto_rows": null,
       "grid_column": null,
       "grid_gap": null,
       "grid_row": null,
       "grid_template_areas": null,
       "grid_template_columns": null,
       "grid_template_rows": null,
       "height": null,
       "justify_content": null,
       "justify_items": null,
       "left": null,
       "margin": null,
       "max_height": null,
       "max_width": null,
       "min_height": null,
       "min_width": null,
       "object_fit": null,
       "object_position": null,
       "order": null,
       "overflow": null,
       "overflow_x": null,
       "overflow_y": null,
       "padding": null,
       "right": null,
       "top": null,
       "visibility": null,
       "width": null
      }
     },
     "62c148c9bca84705af09748516c65e41": {
      "model_module": "@jupyter-widgets/base",
      "model_module_version": "1.2.0",
      "model_name": "LayoutModel",
      "state": {
       "_model_module": "@jupyter-widgets/base",
       "_model_module_version": "1.2.0",
       "_model_name": "LayoutModel",
       "_view_count": null,
       "_view_module": "@jupyter-widgets/base",
       "_view_module_version": "1.2.0",
       "_view_name": "LayoutView",
       "align_content": null,
       "align_items": null,
       "align_self": null,
       "border": null,
       "bottom": null,
       "display": null,
       "flex": null,
       "flex_flow": null,
       "grid_area": null,
       "grid_auto_columns": null,
       "grid_auto_flow": null,
       "grid_auto_rows": null,
       "grid_column": null,
       "grid_gap": null,
       "grid_row": null,
       "grid_template_areas": null,
       "grid_template_columns": null,
       "grid_template_rows": null,
       "height": null,
       "justify_content": null,
       "justify_items": null,
       "left": null,
       "margin": null,
       "max_height": null,
       "max_width": null,
       "min_height": null,
       "min_width": null,
       "object_fit": null,
       "object_position": null,
       "order": null,
       "overflow": null,
       "overflow_x": null,
       "overflow_y": null,
       "padding": null,
       "right": null,
       "top": null,
       "visibility": null,
       "width": null
      }
     },
     "6c930be825d947e4ace022fbca6ab2ad": {
      "model_module": "@jupyter-widgets/controls",
      "model_module_version": "1.5.0",
      "model_name": "DescriptionStyleModel",
      "state": {
       "_model_module": "@jupyter-widgets/controls",
       "_model_module_version": "1.5.0",
       "_model_name": "DescriptionStyleModel",
       "_view_count": null,
       "_view_module": "@jupyter-widgets/base",
       "_view_module_version": "1.2.0",
       "_view_name": "StyleView",
       "description_width": ""
      }
     },
     "73d3bf79163944beb8307f00a58cc768": {
      "model_module": "@jupyter-widgets/controls",
      "model_module_version": "1.5.0",
      "model_name": "HTMLModel",
      "state": {
       "_dom_classes": [],
       "_model_module": "@jupyter-widgets/controls",
       "_model_module_version": "1.5.0",
       "_model_name": "HTMLModel",
       "_view_count": null,
       "_view_module": "@jupyter-widgets/controls",
       "_view_module_version": "1.5.0",
       "_view_name": "HTMLView",
       "description": "",
       "description_tooltip": null,
       "layout": "IPY_MODEL_da0eb4c467b142af99b43099180c28ed",
       "placeholder": "​",
       "style": "IPY_MODEL_ba394bd13bd045f9b85a184e35c90be8",
       "value": "tokenizer.json: 100%"
      }
     },
     "742e3d936baf444685ab0fb06cad597e": {
      "model_module": "@jupyter-widgets/controls",
      "model_module_version": "1.5.0",
      "model_name": "DescriptionStyleModel",
      "state": {
       "_model_module": "@jupyter-widgets/controls",
       "_model_module_version": "1.5.0",
       "_model_name": "DescriptionStyleModel",
       "_view_count": null,
       "_view_module": "@jupyter-widgets/base",
       "_view_module_version": "1.2.0",
       "_view_name": "StyleView",
       "description_width": ""
      }
     },
     "7cc58b85b6b940d59de6378c68670625": {
      "model_module": "@jupyter-widgets/controls",
      "model_module_version": "1.5.0",
      "model_name": "HTMLModel",
      "state": {
       "_dom_classes": [],
       "_model_module": "@jupyter-widgets/controls",
       "_model_module_version": "1.5.0",
       "_model_name": "HTMLModel",
       "_view_count": null,
       "_view_module": "@jupyter-widgets/controls",
       "_view_module_version": "1.5.0",
       "_view_name": "HTMLView",
       "description": "",
       "description_tooltip": null,
       "layout": "IPY_MODEL_ab6f67f5ae15452ab563ddfd8b13f8a3",
       "placeholder": "​",
       "style": "IPY_MODEL_c37a790abf3445c5999f5a725e60731c",
       "value": "config.json: 100%"
      }
     },
     "816905e9f41f4abe8b53ae107565998d": {
      "model_module": "@jupyter-widgets/base",
      "model_module_version": "1.2.0",
      "model_name": "LayoutModel",
      "state": {
       "_model_module": "@jupyter-widgets/base",
       "_model_module_version": "1.2.0",
       "_model_name": "LayoutModel",
       "_view_count": null,
       "_view_module": "@jupyter-widgets/base",
       "_view_module_version": "1.2.0",
       "_view_name": "LayoutView",
       "align_content": null,
       "align_items": null,
       "align_self": null,
       "border": null,
       "bottom": null,
       "display": null,
       "flex": null,
       "flex_flow": null,
       "grid_area": null,
       "grid_auto_columns": null,
       "grid_auto_flow": null,
       "grid_auto_rows": null,
       "grid_column": null,
       "grid_gap": null,
       "grid_row": null,
       "grid_template_areas": null,
       "grid_template_columns": null,
       "grid_template_rows": null,
       "height": null,
       "justify_content": null,
       "justify_items": null,
       "left": null,
       "margin": null,
       "max_height": null,
       "max_width": null,
       "min_height": null,
       "min_width": null,
       "object_fit": null,
       "object_position": null,
       "order": null,
       "overflow": null,
       "overflow_x": null,
       "overflow_y": null,
       "padding": null,
       "right": null,
       "top": null,
       "visibility": null,
       "width": null
      }
     },
     "8170a7fb8bc949b49517fc11002a98e2": {
      "model_module": "@jupyter-widgets/controls",
      "model_module_version": "1.5.0",
      "model_name": "DescriptionStyleModel",
      "state": {
       "_model_module": "@jupyter-widgets/controls",
       "_model_module_version": "1.5.0",
       "_model_name": "DescriptionStyleModel",
       "_view_count": null,
       "_view_module": "@jupyter-widgets/base",
       "_view_module_version": "1.2.0",
       "_view_name": "StyleView",
       "description_width": ""
      }
     },
     "846f51eaaa1d4dac824fc67a75cc080a": {
      "model_module": "@jupyter-widgets/base",
      "model_module_version": "1.2.0",
      "model_name": "LayoutModel",
      "state": {
       "_model_module": "@jupyter-widgets/base",
       "_model_module_version": "1.2.0",
       "_model_name": "LayoutModel",
       "_view_count": null,
       "_view_module": "@jupyter-widgets/base",
       "_view_module_version": "1.2.0",
       "_view_name": "LayoutView",
       "align_content": null,
       "align_items": null,
       "align_self": null,
       "border": null,
       "bottom": null,
       "display": null,
       "flex": null,
       "flex_flow": null,
       "grid_area": null,
       "grid_auto_columns": null,
       "grid_auto_flow": null,
       "grid_auto_rows": null,
       "grid_column": null,
       "grid_gap": null,
       "grid_row": null,
       "grid_template_areas": null,
       "grid_template_columns": null,
       "grid_template_rows": null,
       "height": null,
       "justify_content": null,
       "justify_items": null,
       "left": null,
       "margin": null,
       "max_height": null,
       "max_width": null,
       "min_height": null,
       "min_width": null,
       "object_fit": null,
       "object_position": null,
       "order": null,
       "overflow": null,
       "overflow_x": null,
       "overflow_y": null,
       "padding": null,
       "right": null,
       "top": null,
       "visibility": null,
       "width": null
      }
     },
     "86ccf2c32dc3495f80ea7740e94e51a8": {
      "model_module": "@jupyter-widgets/controls",
      "model_module_version": "1.5.0",
      "model_name": "HTMLModel",
      "state": {
       "_dom_classes": [],
       "_model_module": "@jupyter-widgets/controls",
       "_model_module_version": "1.5.0",
       "_model_name": "HTMLModel",
       "_view_count": null,
       "_view_module": "@jupyter-widgets/controls",
       "_view_module_version": "1.5.0",
       "_view_name": "HTMLView",
       "description": "",
       "description_tooltip": null,
       "layout": "IPY_MODEL_816905e9f41f4abe8b53ae107565998d",
       "placeholder": "​",
       "style": "IPY_MODEL_e1678b49f52b47caa9dccb17f75b6561",
       "value": " 48.0/48.0 [00:00&lt;00:00, 4.29kB/s]"
      }
     },
     "89ba7d23b86b4b15bcec02a04c8e6a6d": {
      "model_module": "@jupyter-widgets/controls",
      "model_module_version": "1.5.0",
      "model_name": "ProgressStyleModel",
      "state": {
       "_model_module": "@jupyter-widgets/controls",
       "_model_module_version": "1.5.0",
       "_model_name": "ProgressStyleModel",
       "_view_count": null,
       "_view_module": "@jupyter-widgets/base",
       "_view_module_version": "1.2.0",
       "_view_name": "StyleView",
       "bar_color": null,
       "description_width": ""
      }
     },
     "95bc35c0d6f8409d9871d8dc89b3e418": {
      "model_module": "@jupyter-widgets/controls",
      "model_module_version": "1.5.0",
      "model_name": "FloatProgressModel",
      "state": {
       "_dom_classes": [],
       "_model_module": "@jupyter-widgets/controls",
       "_model_module_version": "1.5.0",
       "_model_name": "FloatProgressModel",
       "_view_count": null,
       "_view_module": "@jupyter-widgets/controls",
       "_view_module_version": "1.5.0",
       "_view_name": "ProgressView",
       "bar_style": "success",
       "description": "",
       "description_tooltip": null,
       "layout": "IPY_MODEL_d9e6ef8290984081844d861314e63948",
       "max": 440449768.0,
       "min": 0.0,
       "orientation": "horizontal",
       "style": "IPY_MODEL_e9f024002385428885b07328857135fa",
       "value": 440449768.0
      }
     },
     "a3b056384f9d45af9950f334a50a801b": {
      "model_module": "@jupyter-widgets/base",
      "model_module_version": "1.2.0",
      "model_name": "LayoutModel",
      "state": {
       "_model_module": "@jupyter-widgets/base",
       "_model_module_version": "1.2.0",
       "_model_name": "LayoutModel",
       "_view_count": null,
       "_view_module": "@jupyter-widgets/base",
       "_view_module_version": "1.2.0",
       "_view_name": "LayoutView",
       "align_content": null,
       "align_items": null,
       "align_self": null,
       "border": null,
       "bottom": null,
       "display": null,
       "flex": null,
       "flex_flow": null,
       "grid_area": null,
       "grid_auto_columns": null,
       "grid_auto_flow": null,
       "grid_auto_rows": null,
       "grid_column": null,
       "grid_gap": null,
       "grid_row": null,
       "grid_template_areas": null,
       "grid_template_columns": null,
       "grid_template_rows": null,
       "height": null,
       "justify_content": null,
       "justify_items": null,
       "left": null,
       "margin": null,
       "max_height": null,
       "max_width": null,
       "min_height": null,
       "min_width": null,
       "object_fit": null,
       "object_position": null,
       "order": null,
       "overflow": null,
       "overflow_x": null,
       "overflow_y": null,
       "padding": null,
       "right": null,
       "top": null,
       "visibility": null,
       "width": null
      }
     },
     "a44b46c980b44640bda4b9887de6284f": {
      "model_module": "@jupyter-widgets/controls",
      "model_module_version": "1.5.0",
      "model_name": "DescriptionStyleModel",
      "state": {
       "_model_module": "@jupyter-widgets/controls",
       "_model_module_version": "1.5.0",
       "_model_name": "DescriptionStyleModel",
       "_view_count": null,
       "_view_module": "@jupyter-widgets/base",
       "_view_module_version": "1.2.0",
       "_view_name": "StyleView",
       "description_width": ""
      }
     },
     "a473430a608a4a3f8ac768353c916688": {
      "model_module": "@jupyter-widgets/controls",
      "model_module_version": "1.5.0",
      "model_name": "HBoxModel",
      "state": {
       "_dom_classes": [],
       "_model_module": "@jupyter-widgets/controls",
       "_model_module_version": "1.5.0",
       "_model_name": "HBoxModel",
       "_view_count": null,
       "_view_module": "@jupyter-widgets/controls",
       "_view_module_version": "1.5.0",
       "_view_name": "HBoxView",
       "box_style": "",
       "children": [
        "IPY_MODEL_b15191ca364f4a2e80e4f4bf45bfefb6",
        "IPY_MODEL_95bc35c0d6f8409d9871d8dc89b3e418",
        "IPY_MODEL_ac6f6f7c2a27416384cb9496bab3540e"
       ],
       "layout": "IPY_MODEL_e3ecf6218d184f4189cc4f7eebb029ed"
      }
     },
     "a5b846d84a85467d968deab775aab6c8": {
      "model_module": "@jupyter-widgets/controls",
      "model_module_version": "1.5.0",
      "model_name": "ProgressStyleModel",
      "state": {
       "_model_module": "@jupyter-widgets/controls",
       "_model_module_version": "1.5.0",
       "_model_name": "ProgressStyleModel",
       "_view_count": null,
       "_view_module": "@jupyter-widgets/base",
       "_view_module_version": "1.2.0",
       "_view_name": "StyleView",
       "bar_color": null,
       "description_width": ""
      }
     },
     "ab6f67f5ae15452ab563ddfd8b13f8a3": {
      "model_module": "@jupyter-widgets/base",
      "model_module_version": "1.2.0",
      "model_name": "LayoutModel",
      "state": {
       "_model_module": "@jupyter-widgets/base",
       "_model_module_version": "1.2.0",
       "_model_name": "LayoutModel",
       "_view_count": null,
       "_view_module": "@jupyter-widgets/base",
       "_view_module_version": "1.2.0",
       "_view_name": "LayoutView",
       "align_content": null,
       "align_items": null,
       "align_self": null,
       "border": null,
       "bottom": null,
       "display": null,
       "flex": null,
       "flex_flow": null,
       "grid_area": null,
       "grid_auto_columns": null,
       "grid_auto_flow": null,
       "grid_auto_rows": null,
       "grid_column": null,
       "grid_gap": null,
       "grid_row": null,
       "grid_template_areas": null,
       "grid_template_columns": null,
       "grid_template_rows": null,
       "height": null,
       "justify_content": null,
       "justify_items": null,
       "left": null,
       "margin": null,
       "max_height": null,
       "max_width": null,
       "min_height": null,
       "min_width": null,
       "object_fit": null,
       "object_position": null,
       "order": null,
       "overflow": null,
       "overflow_x": null,
       "overflow_y": null,
       "padding": null,
       "right": null,
       "top": null,
       "visibility": null,
       "width": null
      }
     },
     "ac6f6f7c2a27416384cb9496bab3540e": {
      "model_module": "@jupyter-widgets/controls",
      "model_module_version": "1.5.0",
      "model_name": "HTMLModel",
      "state": {
       "_dom_classes": [],
       "_model_module": "@jupyter-widgets/controls",
       "_model_module_version": "1.5.0",
       "_model_name": "HTMLModel",
       "_view_count": null,
       "_view_module": "@jupyter-widgets/controls",
       "_view_module_version": "1.5.0",
       "_view_name": "HTMLView",
       "description": "",
       "description_tooltip": null,
       "layout": "IPY_MODEL_119039a6d4934fd594baecdde602d3b7",
       "placeholder": "​",
       "style": "IPY_MODEL_742e3d936baf444685ab0fb06cad597e",
       "value": " 440M/440M [00:02&lt;00:00, 198MB/s]"
      }
     },
     "b15191ca364f4a2e80e4f4bf45bfefb6": {
      "model_module": "@jupyter-widgets/controls",
      "model_module_version": "1.5.0",
      "model_name": "HTMLModel",
      "state": {
       "_dom_classes": [],
       "_model_module": "@jupyter-widgets/controls",
       "_model_module_version": "1.5.0",
       "_model_name": "HTMLModel",
       "_view_count": null,
       "_view_module": "@jupyter-widgets/controls",
       "_view_module_version": "1.5.0",
       "_view_name": "HTMLView",
       "description": "",
       "description_tooltip": null,
       "layout": "IPY_MODEL_62c148c9bca84705af09748516c65e41",
       "placeholder": "​",
       "style": "IPY_MODEL_6c930be825d947e4ace022fbca6ab2ad",
       "value": "model.safetensors: 100%"
      }
     },
     "b19565f04d8b4715a24e73d9abfd4f6f": {
      "model_module": "@jupyter-widgets/base",
      "model_module_version": "1.2.0",
      "model_name": "LayoutModel",
      "state": {
       "_model_module": "@jupyter-widgets/base",
       "_model_module_version": "1.2.0",
       "_model_name": "LayoutModel",
       "_view_count": null,
       "_view_module": "@jupyter-widgets/base",
       "_view_module_version": "1.2.0",
       "_view_name": "LayoutView",
       "align_content": null,
       "align_items": null,
       "align_self": null,
       "border": null,
       "bottom": null,
       "display": null,
       "flex": null,
       "flex_flow": null,
       "grid_area": null,
       "grid_auto_columns": null,
       "grid_auto_flow": null,
       "grid_auto_rows": null,
       "grid_column": null,
       "grid_gap": null,
       "grid_row": null,
       "grid_template_areas": null,
       "grid_template_columns": null,
       "grid_template_rows": null,
       "height": null,
       "justify_content": null,
       "justify_items": null,
       "left": null,
       "margin": null,
       "max_height": null,
       "max_width": null,
       "min_height": null,
       "min_width": null,
       "object_fit": null,
       "object_position": null,
       "order": null,
       "overflow": null,
       "overflow_x": null,
       "overflow_y": null,
       "padding": null,
       "right": null,
       "top": null,
       "visibility": null,
       "width": null
      }
     },
     "b4007440c3204dadb114d65fb2b433c5": {
      "model_module": "@jupyter-widgets/base",
      "model_module_version": "1.2.0",
      "model_name": "LayoutModel",
      "state": {
       "_model_module": "@jupyter-widgets/base",
       "_model_module_version": "1.2.0",
       "_model_name": "LayoutModel",
       "_view_count": null,
       "_view_module": "@jupyter-widgets/base",
       "_view_module_version": "1.2.0",
       "_view_name": "LayoutView",
       "align_content": null,
       "align_items": null,
       "align_self": null,
       "border": null,
       "bottom": null,
       "display": null,
       "flex": null,
       "flex_flow": null,
       "grid_area": null,
       "grid_auto_columns": null,
       "grid_auto_flow": null,
       "grid_auto_rows": null,
       "grid_column": null,
       "grid_gap": null,
       "grid_row": null,
       "grid_template_areas": null,
       "grid_template_columns": null,
       "grid_template_rows": null,
       "height": null,
       "justify_content": null,
       "justify_items": null,
       "left": null,
       "margin": null,
       "max_height": null,
       "max_width": null,
       "min_height": null,
       "min_width": null,
       "object_fit": null,
       "object_position": null,
       "order": null,
       "overflow": null,
       "overflow_x": null,
       "overflow_y": null,
       "padding": null,
       "right": null,
       "top": null,
       "visibility": null,
       "width": null
      }
     },
     "b4575b8f8dc349df8180c8228f0f7fbf": {
      "model_module": "@jupyter-widgets/controls",
      "model_module_version": "1.5.0",
      "model_name": "HBoxModel",
      "state": {
       "_dom_classes": [],
       "_model_module": "@jupyter-widgets/controls",
       "_model_module_version": "1.5.0",
       "_model_name": "HBoxModel",
       "_view_count": null,
       "_view_module": "@jupyter-widgets/controls",
       "_view_module_version": "1.5.0",
       "_view_name": "HBoxView",
       "box_style": "",
       "children": [
        "IPY_MODEL_0dc633693b754630b70ebd4cc62d9962",
        "IPY_MODEL_0e4d7cedf12b4841958617c3abaf80af",
        "IPY_MODEL_86ccf2c32dc3495f80ea7740e94e51a8"
       ],
       "layout": "IPY_MODEL_eb3afe968f1f4b9a847ccae2a6f871a4"
      }
     },
     "b76c94de378a487c82e0052b614dd419": {
      "model_module": "@jupyter-widgets/controls",
      "model_module_version": "1.5.0",
      "model_name": "DescriptionStyleModel",
      "state": {
       "_model_module": "@jupyter-widgets/controls",
       "_model_module_version": "1.5.0",
       "_model_name": "DescriptionStyleModel",
       "_view_count": null,
       "_view_module": "@jupyter-widgets/base",
       "_view_module_version": "1.2.0",
       "_view_name": "StyleView",
       "description_width": ""
      }
     },
     "ba394bd13bd045f9b85a184e35c90be8": {
      "model_module": "@jupyter-widgets/controls",
      "model_module_version": "1.5.0",
      "model_name": "DescriptionStyleModel",
      "state": {
       "_model_module": "@jupyter-widgets/controls",
       "_model_module_version": "1.5.0",
       "_model_name": "DescriptionStyleModel",
       "_view_count": null,
       "_view_module": "@jupyter-widgets/base",
       "_view_module_version": "1.2.0",
       "_view_name": "StyleView",
       "description_width": ""
      }
     },
     "bfd8e8d9a94f4703af015b2d4ebbe255": {
      "model_module": "@jupyter-widgets/controls",
      "model_module_version": "1.5.0",
      "model_name": "HBoxModel",
      "state": {
       "_dom_classes": [],
       "_model_module": "@jupyter-widgets/controls",
       "_model_module_version": "1.5.0",
       "_model_name": "HBoxModel",
       "_view_count": null,
       "_view_module": "@jupyter-widgets/controls",
       "_view_module_version": "1.5.0",
       "_view_name": "HBoxView",
       "box_style": "",
       "children": [
        "IPY_MODEL_73d3bf79163944beb8307f00a58cc768",
        "IPY_MODEL_285e9144f1b14f529ef1e41e78afadf7",
        "IPY_MODEL_3eadd640d14748ada05997893eedcfd0"
       ],
       "layout": "IPY_MODEL_a3b056384f9d45af9950f334a50a801b"
      }
     },
     "c2ff4d3c87304965a29ef2461afa980a": {
      "model_module": "@jupyter-widgets/controls",
      "model_module_version": "1.5.0",
      "model_name": "FloatProgressModel",
      "state": {
       "_dom_classes": [],
       "_model_module": "@jupyter-widgets/controls",
       "_model_module_version": "1.5.0",
       "_model_name": "FloatProgressModel",
       "_view_count": null,
       "_view_module": "@jupyter-widgets/controls",
       "_view_module_version": "1.5.0",
       "_view_name": "ProgressView",
       "bar_style": "success",
       "description": "",
       "description_tooltip": null,
       "layout": "IPY_MODEL_359537eb4423432ea75eaf89657c800f",
       "max": 570.0,
       "min": 0.0,
       "orientation": "horizontal",
       "style": "IPY_MODEL_a5b846d84a85467d968deab775aab6c8",
       "value": 570.0
      }
     },
     "c37a790abf3445c5999f5a725e60731c": {
      "model_module": "@jupyter-widgets/controls",
      "model_module_version": "1.5.0",
      "model_name": "DescriptionStyleModel",
      "state": {
       "_model_module": "@jupyter-widgets/controls",
       "_model_module_version": "1.5.0",
       "_model_name": "DescriptionStyleModel",
       "_view_count": null,
       "_view_module": "@jupyter-widgets/base",
       "_view_module_version": "1.2.0",
       "_view_name": "StyleView",
       "description_width": ""
      }
     },
     "c7eae746658f4992ae8e4c89c8dc41d0": {
      "model_module": "@jupyter-widgets/base",
      "model_module_version": "1.2.0",
      "model_name": "LayoutModel",
      "state": {
       "_model_module": "@jupyter-widgets/base",
       "_model_module_version": "1.2.0",
       "_model_name": "LayoutModel",
       "_view_count": null,
       "_view_module": "@jupyter-widgets/base",
       "_view_module_version": "1.2.0",
       "_view_name": "LayoutView",
       "align_content": null,
       "align_items": null,
       "align_self": null,
       "border": null,
       "bottom": null,
       "display": null,
       "flex": null,
       "flex_flow": null,
       "grid_area": null,
       "grid_auto_columns": null,
       "grid_auto_flow": null,
       "grid_auto_rows": null,
       "grid_column": null,
       "grid_gap": null,
       "grid_row": null,
       "grid_template_areas": null,
       "grid_template_columns": null,
       "grid_template_rows": null,
       "height": null,
       "justify_content": null,
       "justify_items": null,
       "left": null,
       "margin": null,
       "max_height": null,
       "max_width": null,
       "min_height": null,
       "min_width": null,
       "object_fit": null,
       "object_position": null,
       "order": null,
       "overflow": null,
       "overflow_x": null,
       "overflow_y": null,
       "padding": null,
       "right": null,
       "top": null,
       "visibility": null,
       "width": null
      }
     },
     "d19a3674cf3b4fffa7d54ef659c0ec9b": {
      "model_module": "@jupyter-widgets/controls",
      "model_module_version": "1.5.0",
      "model_name": "HBoxModel",
      "state": {
       "_dom_classes": [],
       "_model_module": "@jupyter-widgets/controls",
       "_model_module_version": "1.5.0",
       "_model_name": "HBoxModel",
       "_view_count": null,
       "_view_module": "@jupyter-widgets/controls",
       "_view_module_version": "1.5.0",
       "_view_name": "HBoxView",
       "box_style": "",
       "children": [
        "IPY_MODEL_7cc58b85b6b940d59de6378c68670625",
        "IPY_MODEL_c2ff4d3c87304965a29ef2461afa980a",
        "IPY_MODEL_3864d7ccf5ff413a92cc87eeae9ddd8b"
       ],
       "layout": "IPY_MODEL_846f51eaaa1d4dac824fc67a75cc080a"
      }
     },
     "d7333374b6914217804071ca3d7de2ff": {
      "model_module": "@jupyter-widgets/controls",
      "model_module_version": "1.5.0",
      "model_name": "FloatProgressModel",
      "state": {
       "_dom_classes": [],
       "_model_module": "@jupyter-widgets/controls",
       "_model_module_version": "1.5.0",
       "_model_name": "FloatProgressModel",
       "_view_count": null,
       "_view_module": "@jupyter-widgets/controls",
       "_view_module_version": "1.5.0",
       "_view_name": "ProgressView",
       "bar_style": "success",
       "description": "",
       "description_tooltip": null,
       "layout": "IPY_MODEL_610a095bae314465ac4d1a754f920b11",
       "max": 231508.0,
       "min": 0.0,
       "orientation": "horizontal",
       "style": "IPY_MODEL_31adc5fbb46e45ffbe0baeb002f5f55b",
       "value": 231508.0
      }
     },
     "d9e6ef8290984081844d861314e63948": {
      "model_module": "@jupyter-widgets/base",
      "model_module_version": "1.2.0",
      "model_name": "LayoutModel",
      "state": {
       "_model_module": "@jupyter-widgets/base",
       "_model_module_version": "1.2.0",
       "_model_name": "LayoutModel",
       "_view_count": null,
       "_view_module": "@jupyter-widgets/base",
       "_view_module_version": "1.2.0",
       "_view_name": "LayoutView",
       "align_content": null,
       "align_items": null,
       "align_self": null,
       "border": null,
       "bottom": null,
       "display": null,
       "flex": null,
       "flex_flow": null,
       "grid_area": null,
       "grid_auto_columns": null,
       "grid_auto_flow": null,
       "grid_auto_rows": null,
       "grid_column": null,
       "grid_gap": null,
       "grid_row": null,
       "grid_template_areas": null,
       "grid_template_columns": null,
       "grid_template_rows": null,
       "height": null,
       "justify_content": null,
       "justify_items": null,
       "left": null,
       "margin": null,
       "max_height": null,
       "max_width": null,
       "min_height": null,
       "min_width": null,
       "object_fit": null,
       "object_position": null,
       "order": null,
       "overflow": null,
       "overflow_x": null,
       "overflow_y": null,
       "padding": null,
       "right": null,
       "top": null,
       "visibility": null,
       "width": null
      }
     },
     "da0eb4c467b142af99b43099180c28ed": {
      "model_module": "@jupyter-widgets/base",
      "model_module_version": "1.2.0",
      "model_name": "LayoutModel",
      "state": {
       "_model_module": "@jupyter-widgets/base",
       "_model_module_version": "1.2.0",
       "_model_name": "LayoutModel",
       "_view_count": null,
       "_view_module": "@jupyter-widgets/base",
       "_view_module_version": "1.2.0",
       "_view_name": "LayoutView",
       "align_content": null,
       "align_items": null,
       "align_self": null,
       "border": null,
       "bottom": null,
       "display": null,
       "flex": null,
       "flex_flow": null,
       "grid_area": null,
       "grid_auto_columns": null,
       "grid_auto_flow": null,
       "grid_auto_rows": null,
       "grid_column": null,
       "grid_gap": null,
       "grid_row": null,
       "grid_template_areas": null,
       "grid_template_columns": null,
       "grid_template_rows": null,
       "height": null,
       "justify_content": null,
       "justify_items": null,
       "left": null,
       "margin": null,
       "max_height": null,
       "max_width": null,
       "min_height": null,
       "min_width": null,
       "object_fit": null,
       "object_position": null,
       "order": null,
       "overflow": null,
       "overflow_x": null,
       "overflow_y": null,
       "padding": null,
       "right": null,
       "top": null,
       "visibility": null,
       "width": null
      }
     },
     "de3279defb374dc6931303bfcd9b455c": {
      "model_module": "@jupyter-widgets/controls",
      "model_module_version": "1.5.0",
      "model_name": "DescriptionStyleModel",
      "state": {
       "_model_module": "@jupyter-widgets/controls",
       "_model_module_version": "1.5.0",
       "_model_name": "DescriptionStyleModel",
       "_view_count": null,
       "_view_module": "@jupyter-widgets/base",
       "_view_module_version": "1.2.0",
       "_view_name": "StyleView",
       "description_width": ""
      }
     },
     "e1678b49f52b47caa9dccb17f75b6561": {
      "model_module": "@jupyter-widgets/controls",
      "model_module_version": "1.5.0",
      "model_name": "DescriptionStyleModel",
      "state": {
       "_model_module": "@jupyter-widgets/controls",
       "_model_module_version": "1.5.0",
       "_model_name": "DescriptionStyleModel",
       "_view_count": null,
       "_view_module": "@jupyter-widgets/base",
       "_view_module_version": "1.2.0",
       "_view_name": "StyleView",
       "description_width": ""
      }
     },
     "e3ecf6218d184f4189cc4f7eebb029ed": {
      "model_module": "@jupyter-widgets/base",
      "model_module_version": "1.2.0",
      "model_name": "LayoutModel",
      "state": {
       "_model_module": "@jupyter-widgets/base",
       "_model_module_version": "1.2.0",
       "_model_name": "LayoutModel",
       "_view_count": null,
       "_view_module": "@jupyter-widgets/base",
       "_view_module_version": "1.2.0",
       "_view_name": "LayoutView",
       "align_content": null,
       "align_items": null,
       "align_self": null,
       "border": null,
       "bottom": null,
       "display": null,
       "flex": null,
       "flex_flow": null,
       "grid_area": null,
       "grid_auto_columns": null,
       "grid_auto_flow": null,
       "grid_auto_rows": null,
       "grid_column": null,
       "grid_gap": null,
       "grid_row": null,
       "grid_template_areas": null,
       "grid_template_columns": null,
       "grid_template_rows": null,
       "height": null,
       "justify_content": null,
       "justify_items": null,
       "left": null,
       "margin": null,
       "max_height": null,
       "max_width": null,
       "min_height": null,
       "min_width": null,
       "object_fit": null,
       "object_position": null,
       "order": null,
       "overflow": null,
       "overflow_x": null,
       "overflow_y": null,
       "padding": null,
       "right": null,
       "top": null,
       "visibility": null,
       "width": null
      }
     },
     "e9f024002385428885b07328857135fa": {
      "model_module": "@jupyter-widgets/controls",
      "model_module_version": "1.5.0",
      "model_name": "ProgressStyleModel",
      "state": {
       "_model_module": "@jupyter-widgets/controls",
       "_model_module_version": "1.5.0",
       "_model_name": "ProgressStyleModel",
       "_view_count": null,
       "_view_module": "@jupyter-widgets/base",
       "_view_module_version": "1.2.0",
       "_view_name": "StyleView",
       "bar_color": null,
       "description_width": ""
      }
     },
     "eb3afe968f1f4b9a847ccae2a6f871a4": {
      "model_module": "@jupyter-widgets/base",
      "model_module_version": "1.2.0",
      "model_name": "LayoutModel",
      "state": {
       "_model_module": "@jupyter-widgets/base",
       "_model_module_version": "1.2.0",
       "_model_name": "LayoutModel",
       "_view_count": null,
       "_view_module": "@jupyter-widgets/base",
       "_view_module_version": "1.2.0",
       "_view_name": "LayoutView",
       "align_content": null,
       "align_items": null,
       "align_self": null,
       "border": null,
       "bottom": null,
       "display": null,
       "flex": null,
       "flex_flow": null,
       "grid_area": null,
       "grid_auto_columns": null,
       "grid_auto_flow": null,
       "grid_auto_rows": null,
       "grid_column": null,
       "grid_gap": null,
       "grid_row": null,
       "grid_template_areas": null,
       "grid_template_columns": null,
       "grid_template_rows": null,
       "height": null,
       "justify_content": null,
       "justify_items": null,
       "left": null,
       "margin": null,
       "max_height": null,
       "max_width": null,
       "min_height": null,
       "min_width": null,
       "object_fit": null,
       "object_position": null,
       "order": null,
       "overflow": null,
       "overflow_x": null,
       "overflow_y": null,
       "padding": null,
       "right": null,
       "top": null,
       "visibility": null,
       "width": null
      }
     },
     "f5a4c48b8c284691b5901a8ff9cfb090": {
      "model_module": "@jupyter-widgets/controls",
      "model_module_version": "1.5.0",
      "model_name": "ProgressStyleModel",
      "state": {
       "_model_module": "@jupyter-widgets/controls",
       "_model_module_version": "1.5.0",
       "_model_name": "ProgressStyleModel",
       "_view_count": null,
       "_view_module": "@jupyter-widgets/base",
       "_view_module_version": "1.2.0",
       "_view_name": "StyleView",
       "bar_color": null,
       "description_width": ""
      }
     }
    },
    "version_major": 2,
    "version_minor": 0
   }
  }
 },
 "nbformat": 4,
 "nbformat_minor": 5
}
