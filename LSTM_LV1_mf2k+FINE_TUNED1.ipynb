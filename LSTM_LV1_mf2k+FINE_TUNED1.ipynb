{
 "cells": [
  {
   "cell_type": "code",
   "execution_count": 1,
   "id": "1afb7f31",
   "metadata": {
    "_cell_guid": "b1076dfc-b9ad-4769-8c92-a6c4dae69d19",
    "_uuid": "8f2839f25d086af736a60e9eeb907d3b93b6e0e5",
    "execution": {
     "iopub.execute_input": "2024-08-22T04:58:08.063371Z",
     "iopub.status.busy": "2024-08-22T04:58:08.063054Z",
     "iopub.status.idle": "2024-08-22T04:58:09.309424Z",
     "shell.execute_reply": "2024-08-22T04:58:09.307745Z"
    },
    "papermill": {
     "duration": 1.263035,
     "end_time": "2024-08-22T04:58:09.311981",
     "exception": false,
     "start_time": "2024-08-22T04:58:08.048946",
     "status": "completed"
    },
    "tags": []
   },
   "outputs": [
    {
     "name": "stdout",
     "output_type": "stream",
     "text": [
      "/kaggle/input/dataset-tachygraphy/Tachygraphy_dataset_main.csv\n"
     ]
    }
   ],
   "source": [
    "# This Python 3 environment comes with many helpful analytics libraries installed\n",
    "# It is defined by the kaggle/python Docker image: https://github.com/kaggle/docker-python\n",
    "# For example, here's several helpful packages to load\n",
    "\n",
    "import numpy as np # linear algebra\n",
    "import pandas as pd # data processing, CSV file I/O (e.g. pd.read_csv)\n",
    "\n",
    "# Input data files are available in the read-only \"../input/\" directory\n",
    "# For example, running this (by clicking run or pressing Shift+Enter) will list all files under the input directory\n",
    "\n",
    "import os\n",
    "for dirname, _, filenames in os.walk('/kaggle/input'):\n",
    "    for filename in filenames:\n",
    "        print(os.path.join(dirname, filename))\n",
    "\n",
    "# You can write up to 20GB to the current directory (/kaggle/working/) that gets preserved as output when you create a version using \"Save & Run All\" \n",
    "# You can also write temporary files to /kaggle/temp/, but they won't be saved outside of the current session"
   ]
  },
  {
   "cell_type": "markdown",
   "id": "a41a66b9",
   "metadata": {
    "papermill": {
     "duration": 0.01251,
     "end_time": "2024-08-22T04:58:09.337531",
     "exception": false,
     "start_time": "2024-08-22T04:58:09.325021",
     "status": "completed"
    },
    "tags": []
   },
   "source": [
    "**Text Preprocessing**"
   ]
  },
  {
   "cell_type": "code",
   "execution_count": 2,
   "id": "2c516982",
   "metadata": {
    "execution": {
     "iopub.execute_input": "2024-08-22T04:58:09.363680Z",
     "iopub.status.busy": "2024-08-22T04:58:09.363263Z",
     "iopub.status.idle": "2024-08-22T04:58:09.367524Z",
     "shell.execute_reply": "2024-08-22T04:58:09.366591Z"
    },
    "papermill": {
     "duration": 0.019448,
     "end_time": "2024-08-22T04:58:09.369515",
     "exception": false,
     "start_time": "2024-08-22T04:58:09.350067",
     "status": "completed"
    },
    "tags": []
   },
   "outputs": [],
   "source": [
    "# To ignore warinings\n",
    "import warnings\n",
    "warnings.filterwarnings('ignore')"
   ]
  },
  {
   "cell_type": "code",
   "execution_count": 3,
   "id": "f5df8849",
   "metadata": {
    "execution": {
     "iopub.execute_input": "2024-08-22T04:58:09.397102Z",
     "iopub.status.busy": "2024-08-22T04:58:09.396829Z",
     "iopub.status.idle": "2024-08-22T04:58:09.447464Z",
     "shell.execute_reply": "2024-08-22T04:58:09.446565Z"
    },
    "papermill": {
     "duration": 0.066295,
     "end_time": "2024-08-22T04:58:09.449695",
     "exception": false,
     "start_time": "2024-08-22T04:58:09.383400",
     "status": "completed"
    },
    "tags": []
   },
   "outputs": [
    {
     "data": {
      "text/plain": [
       "(4958, 3)"
      ]
     },
     "execution_count": 3,
     "metadata": {},
     "output_type": "execute_result"
    }
   ],
   "source": [
    "df=pd.read_csv(\"/kaggle/input/dataset-tachygraphy/Tachygraphy_dataset_main.csv\")\n",
    "df.shape"
   ]
  },
  {
   "cell_type": "code",
   "execution_count": 4,
   "id": "ef197e48",
   "metadata": {
    "execution": {
     "iopub.execute_input": "2024-08-22T04:58:09.479601Z",
     "iopub.status.busy": "2024-08-22T04:58:09.479358Z",
     "iopub.status.idle": "2024-08-22T04:58:09.503121Z",
     "shell.execute_reply": "2024-08-22T04:58:09.502262Z"
    },
    "papermill": {
     "duration": 0.040831,
     "end_time": "2024-08-22T04:58:09.504974",
     "exception": false,
     "start_time": "2024-08-22T04:58:09.464143",
     "status": "completed"
    },
    "tags": []
   },
   "outputs": [
    {
     "data": {
      "text/html": [
       "<div>\n",
       "<style scoped>\n",
       "    .dataframe tbody tr th:only-of-type {\n",
       "        vertical-align: middle;\n",
       "    }\n",
       "\n",
       "    .dataframe tbody tr th {\n",
       "        vertical-align: top;\n",
       "    }\n",
       "\n",
       "    .dataframe thead th {\n",
       "        text-align: right;\n",
       "    }\n",
       "</style>\n",
       "<table border=\"1\" class=\"dataframe\">\n",
       "  <thead>\n",
       "    <tr style=\"text-align: right;\">\n",
       "      <th></th>\n",
       "      <th>Text</th>\n",
       "      <th>Meaning</th>\n",
       "      <th>Sentiment</th>\n",
       "    </tr>\n",
       "  </thead>\n",
       "  <tbody>\n",
       "    <tr>\n",
       "      <th>0</th>\n",
       "      <td>Last session of the day http://twitpic.com/67ezh</td>\n",
       "      <td>Last session of the day http://twitpic.com/67ezh</td>\n",
       "      <td>neutral</td>\n",
       "    </tr>\n",
       "    <tr>\n",
       "      <th>1</th>\n",
       "      <td>Shanghai is also really exciting (precisely --...</td>\n",
       "      <td>Shanghai is also really exciting (precisely --...</td>\n",
       "      <td>positive</td>\n",
       "    </tr>\n",
       "    <tr>\n",
       "      <th>2</th>\n",
       "      <td>submit the report ASAP!</td>\n",
       "      <td>submit the report as soon as possilbe</td>\n",
       "      <td>negative</td>\n",
       "    </tr>\n",
       "    <tr>\n",
       "      <th>3</th>\n",
       "      <td>happy bday!</td>\n",
       "      <td>Happy Birthday!</td>\n",
       "      <td>positive</td>\n",
       "    </tr>\n",
       "    <tr>\n",
       "      <th>4</th>\n",
       "      <td>The OGs - I like it!!</td>\n",
       "      <td>The original gangsters - i like it!</td>\n",
       "      <td>positive</td>\n",
       "    </tr>\n",
       "  </tbody>\n",
       "</table>\n",
       "</div>"
      ],
      "text/plain": [
       "                                                Text  \\\n",
       "0   Last session of the day http://twitpic.com/67ezh   \n",
       "1  Shanghai is also really exciting (precisely --...   \n",
       "2                            submit the report ASAP!   \n",
       "3                                        happy bday!   \n",
       "4                              The OGs - I like it!!   \n",
       "\n",
       "                                             Meaning Sentiment  \n",
       "0   Last session of the day http://twitpic.com/67ezh   neutral  \n",
       "1  Shanghai is also really exciting (precisely --...  positive  \n",
       "2              submit the report as soon as possilbe  negative  \n",
       "3                                    Happy Birthday!  positive  \n",
       "4                The original gangsters - i like it!  positive  "
      ]
     },
     "execution_count": 4,
     "metadata": {},
     "output_type": "execute_result"
    }
   ],
   "source": [
    "df.head()"
   ]
  },
  {
   "cell_type": "code",
   "execution_count": 5,
   "id": "aee8e00f",
   "metadata": {
    "execution": {
     "iopub.execute_input": "2024-08-22T04:58:09.532503Z",
     "iopub.status.busy": "2024-08-22T04:58:09.532027Z",
     "iopub.status.idle": "2024-08-22T04:58:09.567587Z",
     "shell.execute_reply": "2024-08-22T04:58:09.566759Z"
    },
    "papermill": {
     "duration": 0.051493,
     "end_time": "2024-08-22T04:58:09.569674",
     "exception": false,
     "start_time": "2024-08-22T04:58:09.518181",
     "status": "completed"
    },
    "tags": []
   },
   "outputs": [
    {
     "data": {
      "text/plain": [
       "class\n",
       "neutral     1743\n",
       "positive    1643\n",
       "negative    1572\n",
       "Name: count, dtype: int64"
      ]
     },
     "execution_count": 5,
     "metadata": {},
     "output_type": "execute_result"
    }
   ],
   "source": [
    "df=df.drop('Meaning',axis=1)\n",
    "df = df.rename(columns={'Text': 'tweet'})\n",
    "df = df.rename(columns={'Sentiment': 'class'})\n",
    "df['class'] = df['class'].str.lower()\n",
    "sentiment_counts = df['class'].value_counts()\n",
    "sentiment_counts"
   ]
  },
  {
   "cell_type": "code",
   "execution_count": 6,
   "id": "c7269a55",
   "metadata": {
    "execution": {
     "iopub.execute_input": "2024-08-22T04:58:09.597254Z",
     "iopub.status.busy": "2024-08-22T04:58:09.596997Z",
     "iopub.status.idle": "2024-08-22T04:58:09.606217Z",
     "shell.execute_reply": "2024-08-22T04:58:09.605414Z"
    },
    "papermill": {
     "duration": 0.024756,
     "end_time": "2024-08-22T04:58:09.608140",
     "exception": false,
     "start_time": "2024-08-22T04:58:09.583384",
     "status": "completed"
    },
    "tags": []
   },
   "outputs": [
    {
     "data": {
      "text/plain": [
       "tweet    1\n",
       "class    0\n",
       "dtype: int64"
      ]
     },
     "execution_count": 6,
     "metadata": {},
     "output_type": "execute_result"
    }
   ],
   "source": [
    "df.isnull().sum()"
   ]
  },
  {
   "cell_type": "code",
   "execution_count": 7,
   "id": "5637eeb5",
   "metadata": {
    "execution": {
     "iopub.execute_input": "2024-08-22T04:58:09.636114Z",
     "iopub.status.busy": "2024-08-22T04:58:09.635854Z",
     "iopub.status.idle": "2024-08-22T04:58:09.641799Z",
     "shell.execute_reply": "2024-08-22T04:58:09.640978Z"
    },
    "papermill": {
     "duration": 0.021674,
     "end_time": "2024-08-22T04:58:09.643653",
     "exception": false,
     "start_time": "2024-08-22T04:58:09.621979",
     "status": "completed"
    },
    "tags": []
   },
   "outputs": [],
   "source": [
    "df=df.fillna('')"
   ]
  },
  {
   "cell_type": "code",
   "execution_count": 8,
   "id": "99304ca1",
   "metadata": {
    "execution": {
     "iopub.execute_input": "2024-08-22T04:58:09.671014Z",
     "iopub.status.busy": "2024-08-22T04:58:09.670752Z",
     "iopub.status.idle": "2024-08-22T04:58:09.932312Z",
     "shell.execute_reply": "2024-08-22T04:58:09.931627Z"
    },
    "papermill": {
     "duration": 0.27754,
     "end_time": "2024-08-22T04:58:09.934363",
     "exception": false,
     "start_time": "2024-08-22T04:58:09.656823",
     "status": "completed"
    },
    "tags": []
   },
   "outputs": [],
   "source": [
    "import re\n",
    "from bs4 import BeautifulSoup\n",
    "\n",
    "def text_cleaning(text):\n",
    "    text = str(text)\n",
    "    soup = BeautifulSoup(text, \"html.parser\")    ###removing html tages\n",
    "    text = re.sub(r'\\[[^]]*\\]', '', soup.get_text())      ##removing text within square brackets\n",
    "    pattern = r\"[^a-zA-Z0-9\\s,']\"                  # Removing unwanted characters\n",
    "    text = re.sub(pattern, '', text)\n",
    "    url_pattern = r'http\\S+|www\\S+'            ###removing urls\n",
    "    text = re.sub(url_pattern, '', text)\n",
    "    return text"
   ]
  },
  {
   "cell_type": "code",
   "execution_count": 9,
   "id": "a5850c9d",
   "metadata": {
    "execution": {
     "iopub.execute_input": "2024-08-22T04:58:09.961925Z",
     "iopub.status.busy": "2024-08-22T04:58:09.961558Z",
     "iopub.status.idle": "2024-08-22T04:58:10.242022Z",
     "shell.execute_reply": "2024-08-22T04:58:10.241329Z"
    },
    "papermill": {
     "duration": 0.296151,
     "end_time": "2024-08-22T04:58:10.243956",
     "exception": false,
     "start_time": "2024-08-22T04:58:09.947805",
     "status": "completed"
    },
    "tags": []
   },
   "outputs": [],
   "source": [
    "df['tweet']=df['tweet'].apply(text_cleaning).tolist()"
   ]
  },
  {
   "cell_type": "code",
   "execution_count": 10,
   "id": "bb0384db",
   "metadata": {
    "execution": {
     "iopub.execute_input": "2024-08-22T04:58:10.271023Z",
     "iopub.status.busy": "2024-08-22T04:58:10.270759Z",
     "iopub.status.idle": "2024-08-22T04:58:30.349854Z",
     "shell.execute_reply": "2024-08-22T04:58:30.349048Z"
    },
    "papermill": {
     "duration": 20.095369,
     "end_time": "2024-08-22T04:58:30.352345",
     "exception": false,
     "start_time": "2024-08-22T04:58:10.256976",
     "status": "completed"
    },
    "tags": []
   },
   "outputs": [
    {
     "name": "stderr",
     "output_type": "stream",
     "text": [
      "2024-08-22 04:58:15.827885: E external/local_xla/xla/stream_executor/cuda/cuda_dnn.cc:9261] Unable to register cuDNN factory: Attempting to register factory for plugin cuDNN when one has already been registered\n",
      "2024-08-22 04:58:15.827993: E external/local_xla/xla/stream_executor/cuda/cuda_fft.cc:607] Unable to register cuFFT factory: Attempting to register factory for plugin cuFFT when one has already been registered\n",
      "2024-08-22 04:58:16.138203: E external/local_xla/xla/stream_executor/cuda/cuda_blas.cc:1515] Unable to register cuBLAS factory: Attempting to register factory for plugin cuBLAS when one has already been registered\n"
     ]
    }
   ],
   "source": [
    "from sklearn.feature_extraction.text import CountVectorizer\n",
    "from keras.models import Sequential\n",
    "from keras.layers import Dense, Embedding, LSTM, SpatialDropout1D\n",
    "from sklearn.model_selection import train_test_split\n",
    "import re"
   ]
  },
  {
   "cell_type": "code",
   "execution_count": 11,
   "id": "d89cb219",
   "metadata": {
    "execution": {
     "iopub.execute_input": "2024-08-22T04:58:30.381453Z",
     "iopub.status.busy": "2024-08-22T04:58:30.380875Z",
     "iopub.status.idle": "2024-08-22T04:58:30.451316Z",
     "shell.execute_reply": "2024-08-22T04:58:30.450423Z"
    },
    "papermill": {
     "duration": 0.086734,
     "end_time": "2024-08-22T04:58:30.453353",
     "exception": false,
     "start_time": "2024-08-22T04:58:30.366619",
     "status": "completed"
    },
    "tags": []
   },
   "outputs": [],
   "source": [
    "import tensorflow as tf\n",
    "from tensorflow.keras.preprocessing.text import Tokenizer\n",
    "from tensorflow.keras.preprocessing.sequence import pad_sequences\n",
    "from tensorflow.keras.utils import to_categorical"
   ]
  },
  {
   "cell_type": "code",
   "execution_count": 12,
   "id": "b742ef2f",
   "metadata": {
    "execution": {
     "iopub.execute_input": "2024-08-22T04:58:30.480770Z",
     "iopub.status.busy": "2024-08-22T04:58:30.480510Z",
     "iopub.status.idle": "2024-08-22T04:58:30.485087Z",
     "shell.execute_reply": "2024-08-22T04:58:30.484223Z"
    },
    "papermill": {
     "duration": 0.020526,
     "end_time": "2024-08-22T04:58:30.487049",
     "exception": false,
     "start_time": "2024-08-22T04:58:30.466523",
     "status": "completed"
    },
    "tags": []
   },
   "outputs": [],
   "source": [
    "import tensorflow as tf\n",
    "from tensorflow.keras.preprocessing.text import Tokenizer\n",
    "from tensorflow.keras.preprocessing.sequence import pad_sequences\n",
    "from tensorflow.keras.utils import to_categorical"
   ]
  },
  {
   "cell_type": "code",
   "execution_count": 13,
   "id": "f976f15f",
   "metadata": {
    "execution": {
     "iopub.execute_input": "2024-08-22T04:58:30.514315Z",
     "iopub.status.busy": "2024-08-22T04:58:30.513987Z",
     "iopub.status.idle": "2024-08-22T04:58:30.519743Z",
     "shell.execute_reply": "2024-08-22T04:58:30.518944Z"
    },
    "papermill": {
     "duration": 0.021596,
     "end_time": "2024-08-22T04:58:30.521600",
     "exception": false,
     "start_time": "2024-08-22T04:58:30.500004",
     "status": "completed"
    },
    "tags": []
   },
   "outputs": [
    {
     "data": {
      "text/plain": [
       "dtype('O')"
      ]
     },
     "execution_count": 13,
     "metadata": {},
     "output_type": "execute_result"
    }
   ],
   "source": [
    "df['tweet'].dtype"
   ]
  },
  {
   "cell_type": "code",
   "execution_count": 14,
   "id": "6c663af8",
   "metadata": {
    "execution": {
     "iopub.execute_input": "2024-08-22T04:58:30.549044Z",
     "iopub.status.busy": "2024-08-22T04:58:30.548801Z",
     "iopub.status.idle": "2024-08-22T04:58:30.554152Z",
     "shell.execute_reply": "2024-08-22T04:58:30.553353Z"
    },
    "papermill": {
     "duration": 0.021401,
     "end_time": "2024-08-22T04:58:30.556124",
     "exception": false,
     "start_time": "2024-08-22T04:58:30.534723",
     "status": "completed"
    },
    "tags": []
   },
   "outputs": [
    {
     "data": {
      "text/plain": [
       "dtype('O')"
      ]
     },
     "execution_count": 14,
     "metadata": {},
     "output_type": "execute_result"
    }
   ],
   "source": [
    "df['class'].dtype"
   ]
  },
  {
   "cell_type": "code",
   "execution_count": 15,
   "id": "69a897a9",
   "metadata": {
    "execution": {
     "iopub.execute_input": "2024-08-22T04:58:30.583919Z",
     "iopub.status.busy": "2024-08-22T04:58:30.583659Z",
     "iopub.status.idle": "2024-08-22T04:58:30.592713Z",
     "shell.execute_reply": "2024-08-22T04:58:30.592034Z"
    },
    "papermill": {
     "duration": 0.024848,
     "end_time": "2024-08-22T04:58:30.594645",
     "exception": false,
     "start_time": "2024-08-22T04:58:30.569797",
     "status": "completed"
    },
    "tags": []
   },
   "outputs": [
    {
     "data": {
      "text/html": [
       "<div>\n",
       "<style scoped>\n",
       "    .dataframe tbody tr th:only-of-type {\n",
       "        vertical-align: middle;\n",
       "    }\n",
       "\n",
       "    .dataframe tbody tr th {\n",
       "        vertical-align: top;\n",
       "    }\n",
       "\n",
       "    .dataframe thead th {\n",
       "        text-align: right;\n",
       "    }\n",
       "</style>\n",
       "<table border=\"1\" class=\"dataframe\">\n",
       "  <thead>\n",
       "    <tr style=\"text-align: right;\">\n",
       "      <th></th>\n",
       "      <th>tweet</th>\n",
       "      <th>class</th>\n",
       "    </tr>\n",
       "  </thead>\n",
       "  <tbody>\n",
       "    <tr>\n",
       "      <th>4948</th>\n",
       "      <td>time flies by when you're facetiming the bae</td>\n",
       "      <td>positive</td>\n",
       "    </tr>\n",
       "    <tr>\n",
       "      <th>4949</th>\n",
       "      <td>U dont know how I feel about this</td>\n",
       "      <td>negative</td>\n",
       "    </tr>\n",
       "    <tr>\n",
       "      <th>4950</th>\n",
       "      <td>come to my job I'll give you a baconator lol</td>\n",
       "      <td>positive</td>\n",
       "    </tr>\n",
       "    <tr>\n",
       "      <th>4951</th>\n",
       "      <td>Rihanna just made Maya Angelou her avi  you're...</td>\n",
       "      <td>negative</td>\n",
       "    </tr>\n",
       "    <tr>\n",
       "      <th>4952</th>\n",
       "      <td>im the lil bitch in the theaters tryna hold ba...</td>\n",
       "      <td>negative</td>\n",
       "    </tr>\n",
       "    <tr>\n",
       "      <th>4953</th>\n",
       "      <td>make a pet face  wtf wrong with me tonight haha</td>\n",
       "      <td>negative</td>\n",
       "    </tr>\n",
       "    <tr>\n",
       "      <th>4954</th>\n",
       "      <td>I dnt care anymore  Boyz ain't worth d drama</td>\n",
       "      <td>negative</td>\n",
       "    </tr>\n",
       "    <tr>\n",
       "      <th>4955</th>\n",
       "      <td>No relationship is perfect tho me bae goo from...</td>\n",
       "      <td>negative</td>\n",
       "    </tr>\n",
       "    <tr>\n",
       "      <th>4956</th>\n",
       "      <td>Over here tryna get my nail polishes and shit lol</td>\n",
       "      <td>negative</td>\n",
       "    </tr>\n",
       "    <tr>\n",
       "      <th>4957</th>\n",
       "      <td>No one was loved d way i luv U</td>\n",
       "      <td>positive</td>\n",
       "    </tr>\n",
       "  </tbody>\n",
       "</table>\n",
       "</div>"
      ],
      "text/plain": [
       "                                                  tweet     class\n",
       "4948       time flies by when you're facetiming the bae  positive\n",
       "4949                  U dont know how I feel about this  negative\n",
       "4950       come to my job I'll give you a baconator lol  positive\n",
       "4951  Rihanna just made Maya Angelou her avi  you're...  negative\n",
       "4952  im the lil bitch in the theaters tryna hold ba...  negative\n",
       "4953    make a pet face  wtf wrong with me tonight haha  negative\n",
       "4954      I dnt care anymore  Boyz ain't worth d drama   negative\n",
       "4955  No relationship is perfect tho me bae goo from...  negative\n",
       "4956  Over here tryna get my nail polishes and shit lol  negative\n",
       "4957                     No one was loved d way i luv U  positive"
      ]
     },
     "execution_count": 15,
     "metadata": {},
     "output_type": "execute_result"
    }
   ],
   "source": [
    "df.tail(10)"
   ]
  },
  {
   "cell_type": "code",
   "execution_count": 16,
   "id": "fe9f2b87",
   "metadata": {
    "execution": {
     "iopub.execute_input": "2024-08-22T04:58:30.622417Z",
     "iopub.status.busy": "2024-08-22T04:58:30.622144Z",
     "iopub.status.idle": "2024-08-22T04:58:31.219429Z",
     "shell.execute_reply": "2024-08-22T04:58:31.218704Z"
    },
    "papermill": {
     "duration": 0.6135,
     "end_time": "2024-08-22T04:58:31.221548",
     "exception": false,
     "start_time": "2024-08-22T04:58:30.608048",
     "status": "completed"
    },
    "tags": []
   },
   "outputs": [
    {
     "name": "stdout",
     "output_type": "stream",
     "text": [
      "3286\n",
      "3144\n"
     ]
    }
   ],
   "source": [
    "df = df[df['class'] != \"neutral\"]  ###droping neutral columns\n",
    "df['tweet'] = df['tweet'].apply(lambda x: x.lower())\n",
    "\n",
    "print(df[ df['class'] == 'positive'].size)\n",
    "print(df[ df['class'] == 'negative'].size)\n",
    "\n",
    "for idx,row in df.iterrows():\n",
    "    row[0] = row[0].replace('rt',' ')\n",
    "    \n",
    "max_fatures = 2000\n",
    "tokenizer = Tokenizer(num_words=max_fatures, split=' ')\n",
    "tokenizer.fit_on_texts(df['tweet'].values)\n",
    "X = tokenizer.texts_to_sequences(df['tweet'].values)\n",
    "X = pad_sequences(X)"
   ]
  },
  {
   "cell_type": "code",
   "execution_count": 17,
   "id": "d8e49985",
   "metadata": {
    "execution": {
     "iopub.execute_input": "2024-08-22T04:58:31.251093Z",
     "iopub.status.busy": "2024-08-22T04:58:31.250830Z",
     "iopub.status.idle": "2024-08-22T04:58:31.685591Z",
     "shell.execute_reply": "2024-08-22T04:58:31.684849Z"
    },
    "papermill": {
     "duration": 0.452227,
     "end_time": "2024-08-22T04:58:31.687843",
     "exception": false,
     "start_time": "2024-08-22T04:58:31.235616",
     "status": "completed"
    },
    "tags": []
   },
   "outputs": [],
   "source": [
    "from tensorflow.keras.models import Sequential\n",
    "from tensorflow.keras.layers import Embedding, SpatialDropout1D, LSTM, Dense, Dropout, Bidirectional\n",
    "from tensorflow.keras.callbacks import EarlyStopping, ModelCheckpoint, ReduceLROnPlateau\n",
    "from tensorflow.keras.optimizers import Adam\n",
    "from tensorflow.keras.regularizers import l2\n",
    "from tensorflow.keras.layers import Embedding\n",
    "from tensorflow.keras.initializers import Constant\n",
    "from tensorflow.keras.optimizers import RMSprop\n",
    "from keras_tuner import RandomSearch"
   ]
  },
  {
   "cell_type": "code",
   "execution_count": 18,
   "id": "257d0044",
   "metadata": {
    "execution": {
     "iopub.execute_input": "2024-08-22T04:58:31.716894Z",
     "iopub.status.busy": "2024-08-22T04:58:31.716604Z",
     "iopub.status.idle": "2024-08-22T05:01:33.414692Z",
     "shell.execute_reply": "2024-08-22T05:01:33.413564Z"
    },
    "papermill": {
     "duration": 181.714688,
     "end_time": "2024-08-22T05:01:33.416802",
     "exception": false,
     "start_time": "2024-08-22T04:58:31.702114",
     "status": "completed"
    },
    "tags": []
   },
   "outputs": [
    {
     "name": "stdout",
     "output_type": "stream",
     "text": [
      "--2024-08-22 04:58:32--  http://nlp.stanford.edu/data/glove.6B.zip\r\n",
      "Resolving nlp.stanford.edu (nlp.stanford.edu)... 171.64.67.140\r\n",
      "Connecting to nlp.stanford.edu (nlp.stanford.edu)|171.64.67.140|:80... connected.\r\n",
      "HTTP request sent, awaiting response... 302 Found\r\n",
      "Location: https://nlp.stanford.edu/data/glove.6B.zip [following]\r\n",
      "--2024-08-22 04:58:32--  https://nlp.stanford.edu/data/glove.6B.zip\r\n",
      "Connecting to nlp.stanford.edu (nlp.stanford.edu)|171.64.67.140|:443... connected.\r\n",
      "HTTP request sent, awaiting response... 301 Moved Permanently\r\n",
      "Location: https://downloads.cs.stanford.edu/nlp/data/glove.6B.zip [following]\r\n",
      "--2024-08-22 04:58:33--  https://downloads.cs.stanford.edu/nlp/data/glove.6B.zip\r\n",
      "Resolving downloads.cs.stanford.edu (downloads.cs.stanford.edu)... 171.64.64.22\r\n",
      "Connecting to downloads.cs.stanford.edu (downloads.cs.stanford.edu)|171.64.64.22|:443... connected.\r\n",
      "HTTP request sent, awaiting response... 200 OK\r\n",
      "Length: 862182613 (822M) [application/zip]\r\n",
      "Saving to: 'glove.6B.zip'\r\n",
      "\r\n",
      "glove.6B.zip        100%[===================>] 822.24M  5.02MB/s    in 2m 39s  \r\n",
      "\r\n",
      "2024-08-22 05:01:12 (5.17 MB/s) - 'glove.6B.zip' saved [862182613/862182613]\r\n",
      "\r\n",
      "Archive:  glove.6B.zip\r\n",
      "  inflating: glove.6B.50d.txt        \r\n",
      "  inflating: glove.6B.100d.txt       \r\n",
      "  inflating: glove.6B.200d.txt       \r\n",
      "  inflating: glove.6B.300d.txt       \r\n"
     ]
    }
   ],
   "source": [
    "!wget http://nlp.stanford.edu/data/glove.6B.zip\n",
    "!unzip glove.6B.zip"
   ]
  },
  {
   "cell_type": "code",
   "execution_count": 19,
   "id": "b312835e",
   "metadata": {
    "execution": {
     "iopub.execute_input": "2024-08-22T05:01:33.565662Z",
     "iopub.status.busy": "2024-08-22T05:01:33.565314Z",
     "iopub.status.idle": "2024-08-22T05:01:45.299507Z",
     "shell.execute_reply": "2024-08-22T05:01:45.298494Z"
    },
    "papermill": {
     "duration": 11.810758,
     "end_time": "2024-08-22T05:01:45.301866",
     "exception": false,
     "start_time": "2024-08-22T05:01:33.491108",
     "status": "completed"
    },
    "tags": []
   },
   "outputs": [],
   "source": [
    "embedding_index = {}\n",
    "with open('glove.6B.100d.txt', encoding='utf-8') as f:\n",
    "    for line in f:\n",
    "        values = line.split()\n",
    "        word = values[0]\n",
    "        coefs = np.asarray(values[1:], dtype='float32')\n",
    "        embedding_index[word] = coefs\n"
   ]
  },
  {
   "cell_type": "code",
   "execution_count": 20,
   "id": "1cca28e7",
   "metadata": {
    "execution": {
     "iopub.execute_input": "2024-08-22T05:01:45.450447Z",
     "iopub.status.busy": "2024-08-22T05:01:45.450127Z",
     "iopub.status.idle": "2024-08-22T05:01:45.454021Z",
     "shell.execute_reply": "2024-08-22T05:01:45.453267Z"
    },
    "jupyter": {
     "source_hidden": true
    },
    "papermill": {
     "duration": 0.080414,
     "end_time": "2024-08-22T05:01:45.456016",
     "exception": false,
     "start_time": "2024-08-22T05:01:45.375602",
     "status": "completed"
    },
    "tags": []
   },
   "outputs": [],
   "source": [
    "# max_features = 5000  \n",
    "# embed_dim = 128 \n",
    "# lstm_out = 64  \n",
    "# batch_size = 32\n",
    "# epochs = 20\n",
    "# learning_rate = 0.001"
   ]
  },
  {
   "cell_type": "code",
   "execution_count": 21,
   "id": "0dae5e54",
   "metadata": {
    "execution": {
     "iopub.execute_input": "2024-08-22T05:01:45.603146Z",
     "iopub.status.busy": "2024-08-22T05:01:45.602900Z",
     "iopub.status.idle": "2024-08-22T05:01:45.607055Z",
     "shell.execute_reply": "2024-08-22T05:01:45.606326Z"
    },
    "papermill": {
     "duration": 0.07934,
     "end_time": "2024-08-22T05:01:45.608788",
     "exception": false,
     "start_time": "2024-08-22T05:01:45.529448",
     "status": "completed"
    },
    "tags": []
   },
   "outputs": [],
   "source": [
    "max_features = 5000  \n",
    "embed_dim = 128 \n",
    "lstm_out = 64  \n",
    "batch_size = 64\n",
    "epochs = 20\n",
    "initial_learning_rate = 0.0005"
   ]
  },
  {
   "cell_type": "code",
   "execution_count": 22,
   "id": "8e726047",
   "metadata": {
    "execution": {
     "iopub.execute_input": "2024-08-22T05:01:45.756237Z",
     "iopub.status.busy": "2024-08-22T05:01:45.755975Z",
     "iopub.status.idle": "2024-08-22T05:01:45.773540Z",
     "shell.execute_reply": "2024-08-22T05:01:45.772687Z"
    },
    "papermill": {
     "duration": 0.092883,
     "end_time": "2024-08-22T05:01:45.775347",
     "exception": false,
     "start_time": "2024-08-22T05:01:45.682464",
     "status": "completed"
    },
    "tags": []
   },
   "outputs": [],
   "source": [
    "embedding_dim = 100\n",
    "embedding_matrix = np.zeros((max_features, embedding_dim))\n",
    "for word, i in tokenizer.word_index.items():\n",
    "    if i < max_features:\n",
    "        embedding_vector = embedding_index.get(word)\n",
    "        if embedding_vector is not None:\n",
    "            embedding_matrix[i] = embedding_vector"
   ]
  },
  {
   "cell_type": "code",
   "execution_count": 23,
   "id": "db3edba1",
   "metadata": {
    "execution": {
     "iopub.execute_input": "2024-08-22T05:01:45.922186Z",
     "iopub.status.busy": "2024-08-22T05:01:45.921922Z",
     "iopub.status.idle": "2024-08-22T05:01:45.926245Z",
     "shell.execute_reply": "2024-08-22T05:01:45.925398Z"
    },
    "papermill": {
     "duration": 0.079703,
     "end_time": "2024-08-22T05:01:45.928059",
     "exception": false,
     "start_time": "2024-08-22T05:01:45.848356",
     "status": "completed"
    },
    "tags": []
   },
   "outputs": [],
   "source": [
    "# # from tensorflow.keras.models import Sequential\n",
    "# # from tensorflow.keras.layers import Embedding, SpatialDropout1D, LSTM, Dense\n",
    "\n",
    "\n",
    "# # Model\n",
    "# model = Sequential()\n",
    "# model.add(Embedding(max_features, embedding_dim, embeddings_initializer=Constant(embedding_matrix),\n",
    "#                     input_length=X.shape[1], trainable=True))\n",
    "# model.add(SpatialDropout1D(0.3))\n",
    "# model.add(Bidirectional(LSTM(128, return_sequences=True)))\n",
    "# model.add(LSTM(64, dropout=0.4, recurrent_dropout=0.4))\n",
    "# model.add(Dense(64, activation='relu', kernel_regularizer=tf.keras.regularizers.l2(0.01)))\n",
    "# model.add(Dropout(0.4))\n",
    "# model.add(Dense(2, activation='softmax'))  # Assuming 2 classes for classification\n",
    "\n",
    "# # model.compile(loss='categorical_crossentropy', optimizer='adam', metrics=['accuracy'])\n",
    "# # print(model.summary())"
   ]
  },
  {
   "cell_type": "code",
   "execution_count": 24,
   "id": "4e843b68",
   "metadata": {
    "execution": {
     "iopub.execute_input": "2024-08-22T05:01:46.077297Z",
     "iopub.status.busy": "2024-08-22T05:01:46.077008Z",
     "iopub.status.idle": "2024-08-22T05:01:46.081583Z",
     "shell.execute_reply": "2024-08-22T05:01:46.080744Z"
    },
    "papermill": {
     "duration": 0.08161,
     "end_time": "2024-08-22T05:01:46.083531",
     "exception": false,
     "start_time": "2024-08-22T05:01:46.001921",
     "status": "completed"
    },
    "tags": []
   },
   "outputs": [],
   "source": [
    "tf.random.set_seed(42)"
   ]
  },
  {
   "cell_type": "code",
   "execution_count": 25,
   "id": "2115568e",
   "metadata": {
    "execution": {
     "iopub.execute_input": "2024-08-22T05:01:46.233116Z",
     "iopub.status.busy": "2024-08-22T05:01:46.232667Z",
     "iopub.status.idle": "2024-08-22T05:01:46.236430Z",
     "shell.execute_reply": "2024-08-22T05:01:46.235596Z"
    },
    "papermill": {
     "duration": 0.081333,
     "end_time": "2024-08-22T05:01:46.238352",
     "exception": false,
     "start_time": "2024-08-22T05:01:46.157019",
     "status": "completed"
    },
    "tags": []
   },
   "outputs": [],
   "source": [
    "# optimizer = Adam(learning_rate=initial_learning_rate)"
   ]
  },
  {
   "cell_type": "code",
   "execution_count": 26,
   "id": "4b039bec",
   "metadata": {
    "execution": {
     "iopub.execute_input": "2024-08-22T05:01:46.391849Z",
     "iopub.status.busy": "2024-08-22T05:01:46.391054Z",
     "iopub.status.idle": "2024-08-22T05:01:46.395674Z",
     "shell.execute_reply": "2024-08-22T05:01:46.394727Z"
    },
    "papermill": {
     "duration": 0.084441,
     "end_time": "2024-08-22T05:01:46.397685",
     "exception": false,
     "start_time": "2024-08-22T05:01:46.313244",
     "status": "completed"
    },
    "tags": []
   },
   "outputs": [],
   "source": [
    "# model.compile(loss='categorical_crossentropy', optimizer=RMSprop(learning_rate=0.001), metrics=['accuracy'])"
   ]
  },
  {
   "cell_type": "code",
   "execution_count": 27,
   "id": "013eda04",
   "metadata": {
    "execution": {
     "iopub.execute_input": "2024-08-22T05:01:46.551468Z",
     "iopub.status.busy": "2024-08-22T05:01:46.551193Z",
     "iopub.status.idle": "2024-08-22T05:01:46.554624Z",
     "shell.execute_reply": "2024-08-22T05:01:46.553778Z"
    },
    "papermill": {
     "duration": 0.080987,
     "end_time": "2024-08-22T05:01:46.556518",
     "exception": false,
     "start_time": "2024-08-22T05:01:46.475531",
     "status": "completed"
    },
    "tags": []
   },
   "outputs": [],
   "source": [
    "# print(model.summary())"
   ]
  },
  {
   "cell_type": "code",
   "execution_count": 28,
   "id": "97faa5ae",
   "metadata": {
    "execution": {
     "iopub.execute_input": "2024-08-22T05:01:46.703728Z",
     "iopub.status.busy": "2024-08-22T05:01:46.703483Z",
     "iopub.status.idle": "2024-08-22T05:01:46.707006Z",
     "shell.execute_reply": "2024-08-22T05:01:46.706192Z"
    },
    "papermill": {
     "duration": 0.079121,
     "end_time": "2024-08-22T05:01:46.708782",
     "exception": false,
     "start_time": "2024-08-22T05:01:46.629661",
     "status": "completed"
    },
    "tags": []
   },
   "outputs": [],
   "source": [
    "# early_stopping = EarlyStopping(monitor='val_loss', patience=5, verbose=1, restore_best_weights=True)\n",
    "# reduce_lr = ReduceLROnPlateau(monitor='val_loss', factor=0.1, patience=2, min_lr=0.00001, verbose=1)\n",
    "# model_checkpoint = ModelCheckpoint('best_model.keras', save_best_only=True, monitor='val_loss', mode='min')\n"
   ]
  },
  {
   "cell_type": "code",
   "execution_count": 29,
   "id": "0d1b52c8",
   "metadata": {
    "execution": {
     "iopub.execute_input": "2024-08-22T05:01:46.858859Z",
     "iopub.status.busy": "2024-08-22T05:01:46.858599Z",
     "iopub.status.idle": "2024-08-22T05:01:46.872368Z",
     "shell.execute_reply": "2024-08-22T05:01:46.871528Z"
    },
    "papermill": {
     "duration": 0.091537,
     "end_time": "2024-08-22T05:01:46.874236",
     "exception": false,
     "start_time": "2024-08-22T05:01:46.782699",
     "status": "completed"
    },
    "tags": []
   },
   "outputs": [
    {
     "name": "stdout",
     "output_type": "stream",
     "text": [
      "(2572, 29) (2572, 2)\n",
      "(643, 29) (643, 2)\n"
     ]
    }
   ],
   "source": [
    "Y = pd.get_dummies(df['class']).values\n",
    "X_train, X_test, Y_train, Y_test = train_test_split(X,Y, test_size = 0.2, random_state = 42)\n",
    "print(X_train.shape,Y_train.shape)\n",
    "print(X_test.shape,Y_test.shape)"
   ]
  },
  {
   "cell_type": "code",
   "execution_count": 30,
   "id": "c518aab6",
   "metadata": {
    "execution": {
     "iopub.execute_input": "2024-08-22T05:01:47.021639Z",
     "iopub.status.busy": "2024-08-22T05:01:47.021374Z",
     "iopub.status.idle": "2024-08-22T05:01:47.025871Z",
     "shell.execute_reply": "2024-08-22T05:01:47.025077Z"
    },
    "papermill": {
     "duration": 0.080602,
     "end_time": "2024-08-22T05:01:47.027652",
     "exception": false,
     "start_time": "2024-08-22T05:01:46.947050",
     "status": "completed"
    },
    "tags": []
   },
   "outputs": [],
   "source": [
    "validation_size = 500\n",
    "\n",
    "X_validate = X_test[-validation_size:]\n",
    "Y_validate = Y_test[-validation_size:]\n",
    "X_test = X_test[:-validation_size]\n",
    "Y_test = Y_test[:-validation_size]"
   ]
  },
  {
   "cell_type": "markdown",
   "id": "85db389a",
   "metadata": {
    "papermill": {
     "duration": 0.073392,
     "end_time": "2024-08-22T05:01:47.176248",
     "exception": false,
     "start_time": "2024-08-22T05:01:47.102856",
     "status": "completed"
    },
    "tags": []
   },
   "source": [
    "# MODEL"
   ]
  },
  {
   "cell_type": "code",
   "execution_count": 31,
   "id": "55122485",
   "metadata": {
    "execution": {
     "iopub.execute_input": "2024-08-22T05:01:47.327552Z",
     "iopub.status.busy": "2024-08-22T05:01:47.327221Z",
     "iopub.status.idle": "2024-08-22T05:01:47.337506Z",
     "shell.execute_reply": "2024-08-22T05:01:47.336684Z"
    },
    "papermill": {
     "duration": 0.089096,
     "end_time": "2024-08-22T05:01:47.339277",
     "exception": false,
     "start_time": "2024-08-22T05:01:47.250181",
     "status": "completed"
    },
    "tags": []
   },
   "outputs": [],
   "source": [
    "# Define the hyperparameter tuning function\n",
    "def build_model(hp):\n",
    "    model = Sequential()\n",
    "    \n",
    "    # Embedding layer with pre-trained GloVe embeddings\n",
    "    model.add(Embedding(max_features,\n",
    "                        embedding_dim,\n",
    "                        embeddings_initializer=Constant(embedding_matrix),\n",
    "                        input_length=X.shape[1],\n",
    "                        trainable=True))\n",
    "    \n",
    "    # Tuning SpatialDropout1D rate\n",
    "    model.add(SpatialDropout1D(hp.Float('spatial_dropout', min_value=0.1, max_value=0.5, step=0.1)))\n",
    "    \n",
    "    # Bidirectional LSTM layer with tunable units\n",
    "    model.add(Bidirectional(LSTM(units=hp.Int('lstm_units_1', min_value=64, max_value=128, step=32), \n",
    "                                 return_sequences=True)))\n",
    "    \n",
    "    # Second LSTM layer with dropout and recurrent dropout\n",
    "    model.add(LSTM(units=hp.Int('lstm_units_2', min_value=32, max_value=64, step=32),\n",
    "                   dropout=hp.Float('dropout', min_value=0.2, max_value=0.5, step=0.1),\n",
    "                   recurrent_dropout=hp.Float('recurrent_dropout', min_value=0.2, max_value=0.5, step=0.1)))\n",
    "    \n",
    "    # Dense layer with L2 regularization\n",
    "    model.add(Dense(units=hp.Int('dense_units', min_value=32, max_value=64, step=16),\n",
    "                    activation='relu',\n",
    "                    kernel_regularizer=tf.keras.regularizers.l2(0.01)))\n",
    "    \n",
    "    # Dropout layer\n",
    "    model.add(Dropout(hp.Float('dropout_dense', min_value=0.2, max_value=0.5, step=0.1)))\n",
    "    \n",
    "    # Output layer\n",
    "    model.add(Dense(2, activation='softmax'))\n",
    "    \n",
    "    # Compile the model\n",
    "#     model.compile(\n",
    "#         optimizer=hp.Choice('optimizer', values=['adam', 'rmsprop']),\n",
    "#         loss='categorical_crossentropy',\n",
    "#         metrics=['accuracy']\n",
    "#     )\n",
    "    \n",
    "    model.compile(optimizer=tf.keras.optimizers.Adam(hp.Float('learning_rate', min_value=1e-4, max_value=1e-2, sampling='LOG')),\n",
    "                  loss='categorical_crossentropy',\n",
    "                  metrics=['accuracy'])\n",
    "    \n",
    "    return model"
   ]
  },
  {
   "cell_type": "code",
   "execution_count": 32,
   "id": "3f527614",
   "metadata": {
    "execution": {
     "iopub.execute_input": "2024-08-22T05:01:47.509453Z",
     "iopub.status.busy": "2024-08-22T05:01:47.508623Z",
     "iopub.status.idle": "2024-08-22T05:01:48.667938Z",
     "shell.execute_reply": "2024-08-22T05:01:48.667176Z"
    },
    "papermill": {
     "duration": 1.251303,
     "end_time": "2024-08-22T05:01:48.670132",
     "exception": false,
     "start_time": "2024-08-22T05:01:47.418829",
     "status": "completed"
    },
    "tags": []
   },
   "outputs": [],
   "source": [
    "# Instantiate the RandomSearch tuner\n",
    "tuner = RandomSearch(\n",
    "    build_model,\n",
    "    objective='val_accuracy',\n",
    "    max_trials=20,  # Number of different models to try\n",
    "    executions_per_trial=4,  # Number of times to train each model\n",
    "    directory='my_dir',\n",
    "    project_name='lstm_hyperparameter_tuning'\n",
    ")"
   ]
  },
  {
   "cell_type": "code",
   "execution_count": 33,
   "id": "4e6e0b6f",
   "metadata": {
    "execution": {
     "iopub.execute_input": "2024-08-22T05:01:48.819077Z",
     "iopub.status.busy": "2024-08-22T05:01:48.818793Z",
     "iopub.status.idle": "2024-08-22T05:01:48.824014Z",
     "shell.execute_reply": "2024-08-22T05:01:48.823174Z"
    },
    "papermill": {
     "duration": 0.081908,
     "end_time": "2024-08-22T05:01:48.826240",
     "exception": false,
     "start_time": "2024-08-22T05:01:48.744332",
     "status": "completed"
    },
    "tags": []
   },
   "outputs": [
    {
     "name": "stdout",
     "output_type": "stream",
     "text": [
      "Search space summary\n",
      "Default search space size: 8\n",
      "spatial_dropout (Float)\n",
      "{'default': 0.1, 'conditions': [], 'min_value': 0.1, 'max_value': 0.5, 'step': 0.1, 'sampling': 'linear'}\n",
      "lstm_units_1 (Int)\n",
      "{'default': None, 'conditions': [], 'min_value': 64, 'max_value': 128, 'step': 32, 'sampling': 'linear'}\n",
      "lstm_units_2 (Int)\n",
      "{'default': None, 'conditions': [], 'min_value': 32, 'max_value': 64, 'step': 32, 'sampling': 'linear'}\n",
      "dropout (Float)\n",
      "{'default': 0.2, 'conditions': [], 'min_value': 0.2, 'max_value': 0.5, 'step': 0.1, 'sampling': 'linear'}\n",
      "recurrent_dropout (Float)\n",
      "{'default': 0.2, 'conditions': [], 'min_value': 0.2, 'max_value': 0.5, 'step': 0.1, 'sampling': 'linear'}\n",
      "dense_units (Int)\n",
      "{'default': None, 'conditions': [], 'min_value': 32, 'max_value': 64, 'step': 16, 'sampling': 'linear'}\n",
      "dropout_dense (Float)\n",
      "{'default': 0.2, 'conditions': [], 'min_value': 0.2, 'max_value': 0.5, 'step': 0.1, 'sampling': 'linear'}\n",
      "learning_rate (Float)\n",
      "{'default': 0.0001, 'conditions': [], 'min_value': 0.0001, 'max_value': 0.01, 'step': None, 'sampling': 'log'}\n"
     ]
    }
   ],
   "source": [
    "\n",
    "# Display search space summary\n",
    "tuner.search_space_summary()"
   ]
  },
  {
   "cell_type": "code",
   "execution_count": 34,
   "id": "2c143011",
   "metadata": {
    "execution": {
     "iopub.execute_input": "2024-08-22T05:01:48.973274Z",
     "iopub.status.busy": "2024-08-22T05:01:48.973023Z",
     "iopub.status.idle": "2024-08-22T05:01:48.976886Z",
     "shell.execute_reply": "2024-08-22T05:01:48.976154Z"
    },
    "papermill": {
     "duration": 0.079306,
     "end_time": "2024-08-22T05:01:48.978667",
     "exception": false,
     "start_time": "2024-08-22T05:01:48.899361",
     "status": "completed"
    },
    "tags": []
   },
   "outputs": [],
   "source": [
    "# batch_size = 32\n",
    "# model.fit(X_train, Y_train, epochs = 20, batch_size=batch_size, verbose = 2)\n",
    "\n",
    "# Training\n",
    "# history = model.fit(X_train, Y_train,\n",
    "#                     epochs=epochs,\n",
    "#                     batch_size=batch_size,\n",
    "#                     validation_data=(X_test, Y_test),\n",
    "#                     verbose=2,\n",
    "#                     callbacks=[early_stopping, reduce_lr, model_checkpoint])"
   ]
  },
  {
   "cell_type": "code",
   "execution_count": 35,
   "id": "fd237ae0",
   "metadata": {
    "execution": {
     "iopub.execute_input": "2024-08-22T05:01:49.127437Z",
     "iopub.status.busy": "2024-08-22T05:01:49.127128Z",
     "iopub.status.idle": "2024-08-22T05:42:39.834421Z",
     "shell.execute_reply": "2024-08-22T05:42:39.833403Z"
    },
    "papermill": {
     "duration": 2450.78447,
     "end_time": "2024-08-22T05:42:39.836857",
     "exception": false,
     "start_time": "2024-08-22T05:01:49.052387",
     "status": "completed"
    },
    "tags": []
   },
   "outputs": [
    {
     "name": "stdout",
     "output_type": "stream",
     "text": [
      "Trial 20 Complete [00h 01m 16s]\n",
      "val_accuracy: 0.7622377574443817\n",
      "\n",
      "Best val_accuracy So Far: 0.8041958212852478\n",
      "Total elapsed time: 00h 40m 51s\n"
     ]
    }
   ],
   "source": [
    "# Perform hyperparameter tuning\n",
    "tuner.search(X_train, Y_train, \n",
    "             epochs=20, \n",
    "             validation_data=(X_test, Y_test), \n",
    "             batch_size=64, \n",
    "             callbacks=[tf.keras.callbacks.EarlyStopping(monitor='val_loss', patience=3)])\n"
   ]
  },
  {
   "cell_type": "markdown",
   "id": "70a49e3c",
   "metadata": {
    "papermill": {
     "duration": 0.074782,
     "end_time": "2024-08-22T05:42:39.988060",
     "exception": false,
     "start_time": "2024-08-22T05:42:39.913278",
     "status": "completed"
    },
    "tags": []
   },
   "source": [
    "## BEST HYPERPARAMS AS PERR TUNER"
   ]
  },
  {
   "cell_type": "code",
   "execution_count": 36,
   "id": "031475b9",
   "metadata": {
    "execution": {
     "iopub.execute_input": "2024-08-22T05:42:40.135039Z",
     "iopub.status.busy": "2024-08-22T05:42:40.134743Z",
     "iopub.status.idle": "2024-08-22T05:42:40.141250Z",
     "shell.execute_reply": "2024-08-22T05:42:40.140313Z"
    },
    "papermill": {
     "duration": 0.08191,
     "end_time": "2024-08-22T05:42:40.143048",
     "exception": false,
     "start_time": "2024-08-22T05:42:40.061138",
     "status": "completed"
    },
    "tags": []
   },
   "outputs": [
    {
     "name": "stdout",
     "output_type": "stream",
     "text": [
      "\n",
      "The hyperparameter search is complete. \n",
      "Optimal SpatialDropout1D rate: 0.2\n",
      "Optimal LSTM units for first layer: 128\n",
      "Optimal LSTM units for second layer: 64\n",
      "Optimal dropout rate for second LSTM layer: 0.4\n",
      "Optimal recurrent dropout rate for second LSTM layer: 0.4\n",
      "Optimal dense layer units: 32\n",
      "Optimal dropout rate for dense layer: 0.4\n",
      "Optimal learning rate: 0.0005398544425690063\n",
      "\n"
     ]
    }
   ],
   "source": [
    "# Display best hyperparameters\n",
    "best_hps = tuner.get_best_hyperparameters(num_trials=3)[0]\n",
    "print(f\"\"\"\n",
    "The hyperparameter search is complete. \n",
    "Optimal SpatialDropout1D rate: {best_hps.get('spatial_dropout')}\n",
    "Optimal LSTM units for first layer: {best_hps.get('lstm_units_1')}\n",
    "Optimal LSTM units for second layer: {best_hps.get('lstm_units_2')}\n",
    "Optimal dropout rate for second LSTM layer: {best_hps.get('dropout')}\n",
    "Optimal recurrent dropout rate for second LSTM layer: {best_hps.get('recurrent_dropout')}\n",
    "Optimal dense layer units: {best_hps.get('dense_units')}\n",
    "Optimal dropout rate for dense layer: {best_hps.get('dropout_dense')}\n",
    "Optimal learning rate: {best_hps.get('learning_rate')}\n",
    "\"\"\")\n"
   ]
  },
  {
   "cell_type": "markdown",
   "id": "51a91c9a",
   "metadata": {
    "papermill": {
     "duration": 0.073945,
     "end_time": "2024-08-22T05:42:40.290522",
     "exception": false,
     "start_time": "2024-08-22T05:42:40.216577",
     "status": "completed"
    },
    "tags": []
   },
   "source": [
    "## SECOND BEST HYPERPARAMS AS PER TUNER"
   ]
  },
  {
   "cell_type": "code",
   "execution_count": 37,
   "id": "458448bd",
   "metadata": {
    "execution": {
     "iopub.execute_input": "2024-08-22T05:42:40.439257Z",
     "iopub.status.busy": "2024-08-22T05:42:40.438975Z",
     "iopub.status.idle": "2024-08-22T05:42:40.444572Z",
     "shell.execute_reply": "2024-08-22T05:42:40.443697Z"
    },
    "papermill": {
     "duration": 0.081632,
     "end_time": "2024-08-22T05:42:40.446431",
     "exception": false,
     "start_time": "2024-08-22T05:42:40.364799",
     "status": "completed"
    },
    "tags": []
   },
   "outputs": [
    {
     "name": "stdout",
     "output_type": "stream",
     "text": [
      "\n",
      "The hyperparameter search is complete. \n",
      "Optimal SpatialDropout1D rate: 0.4\n",
      "Optimal LSTM units for first layer: 96\n",
      "Optimal LSTM units for second layer: 32\n",
      "Optimal dropout rate for second LSTM layer: 0.2\n",
      "Optimal recurrent dropout rate for second LSTM layer: 0.4\n",
      "Optimal dense layer units: 64\n",
      "Optimal dropout rate for dense layer: 0.2\n",
      "Optimal learning rate: 0.00570468065049874\n",
      "\n"
     ]
    }
   ],
   "source": [
    "# Display 2nd best hyperparameters\n",
    "best_hps2 = tuner.get_best_hyperparameters(num_trials=3)[1]\n",
    "print(f\"\"\"\n",
    "The hyperparameter search is complete. \n",
    "Optimal SpatialDropout1D rate: {best_hps2.get('spatial_dropout')}\n",
    "Optimal LSTM units for first layer: {best_hps2.get('lstm_units_1')}\n",
    "Optimal LSTM units for second layer: {best_hps2.get('lstm_units_2')}\n",
    "Optimal dropout rate for second LSTM layer: {best_hps2.get('dropout')}\n",
    "Optimal recurrent dropout rate for second LSTM layer: {best_hps2.get('recurrent_dropout')}\n",
    "Optimal dense layer units: {best_hps2.get('dense_units')}\n",
    "Optimal dropout rate for dense layer: {best_hps2.get('dropout_dense')}\n",
    "Optimal learning rate: {best_hps2.get('learning_rate')}\n",
    "\"\"\")"
   ]
  },
  {
   "cell_type": "code",
   "execution_count": 38,
   "id": "dc0cd732",
   "metadata": {
    "execution": {
     "iopub.execute_input": "2024-08-22T05:42:40.594664Z",
     "iopub.status.busy": "2024-08-22T05:42:40.594407Z",
     "iopub.status.idle": "2024-08-22T05:42:40.598272Z",
     "shell.execute_reply": "2024-08-22T05:42:40.597439Z"
    },
    "papermill": {
     "duration": 0.079639,
     "end_time": "2024-08-22T05:42:40.600126",
     "exception": false,
     "start_time": "2024-08-22T05:42:40.520487",
     "status": "completed"
    },
    "tags": []
   },
   "outputs": [],
   "source": [
    "# # Display best hyperparameters\n",
    "# best_hps = tuner.get_best_hyperparameters(num_trials=1)[0]\n",
    "# print(f\"\"\"\n",
    "# The hyperparameter search is complete. \n",
    "# Optimal dropout rate: {best_hps.get('dropout_rate')}\n",
    "# Optimal LSTM units: {best_hps.get('lstm_units')}\n",
    "# Optimal dense layer units: {best_hps.get('dense_units')}\n",
    "# Optimal optimizer: {best_hps.get('optimizer')}\n",
    "# \"\"\")"
   ]
  },
  {
   "cell_type": "code",
   "execution_count": 39,
   "id": "eacbccab",
   "metadata": {
    "execution": {
     "iopub.execute_input": "2024-08-22T05:42:40.749273Z",
     "iopub.status.busy": "2024-08-22T05:42:40.749004Z",
     "iopub.status.idle": "2024-08-22T05:43:11.939630Z",
     "shell.execute_reply": "2024-08-22T05:43:11.938728Z"
    },
    "papermill": {
     "duration": 31.268547,
     "end_time": "2024-08-22T05:43:11.941740",
     "exception": false,
     "start_time": "2024-08-22T05:42:40.673193",
     "status": "completed"
    },
    "tags": []
   },
   "outputs": [
    {
     "name": "stdout",
     "output_type": "stream",
     "text": [
      "Epoch 1/20\n",
      "\u001b[1m41/41\u001b[0m \u001b[32m━━━━━━━━━━━━━━━━━━━━\u001b[0m\u001b[37m\u001b[0m \u001b[1m6s\u001b[0m 61ms/step - accuracy: 0.5112 - loss: 1.0962 - val_accuracy: 0.6154 - val_loss: 1.0088\n",
      "Epoch 2/20\n",
      "\u001b[1m41/41\u001b[0m \u001b[32m━━━━━━━━━━━━━━━━━━━━\u001b[0m\u001b[37m\u001b[0m \u001b[1m2s\u001b[0m 50ms/step - accuracy: 0.6011 - loss: 0.9892 - val_accuracy: 0.6713 - val_loss: 0.8920\n",
      "Epoch 3/20\n",
      "\u001b[1m41/41\u001b[0m \u001b[32m━━━━━━━━━━━━━━━━━━━━\u001b[0m\u001b[37m\u001b[0m \u001b[1m2s\u001b[0m 47ms/step - accuracy: 0.6761 - loss: 0.8729 - val_accuracy: 0.7273 - val_loss: 0.8013\n",
      "Epoch 4/20\n",
      "\u001b[1m41/41\u001b[0m \u001b[32m━━━━━━━━━━━━━━━━━━━━\u001b[0m\u001b[37m\u001b[0m \u001b[1m2s\u001b[0m 47ms/step - accuracy: 0.7433 - loss: 0.7497 - val_accuracy: 0.7203 - val_loss: 0.7330\n",
      "Epoch 5/20\n",
      "\u001b[1m41/41\u001b[0m \u001b[32m━━━━━━━━━━━━━━━━━━━━\u001b[0m\u001b[37m\u001b[0m \u001b[1m2s\u001b[0m 45ms/step - accuracy: 0.7731 - loss: 0.6860 - val_accuracy: 0.7413 - val_loss: 0.6946\n",
      "Epoch 6/20\n",
      "\u001b[1m41/41\u001b[0m \u001b[32m━━━━━━━━━━━━━━━━━━━━\u001b[0m\u001b[37m\u001b[0m \u001b[1m2s\u001b[0m 44ms/step - accuracy: 0.8013 - loss: 0.6075 - val_accuracy: 0.7552 - val_loss: 0.6556\n",
      "Epoch 7/20\n",
      "\u001b[1m41/41\u001b[0m \u001b[32m━━━━━━━━━━━━━━━━━━━━\u001b[0m\u001b[37m\u001b[0m \u001b[1m2s\u001b[0m 46ms/step - accuracy: 0.8077 - loss: 0.5657 - val_accuracy: 0.7762 - val_loss: 0.6140\n",
      "Epoch 8/20\n",
      "\u001b[1m41/41\u001b[0m \u001b[32m━━━━━━━━━━━━━━━━━━━━\u001b[0m\u001b[37m\u001b[0m \u001b[1m2s\u001b[0m 45ms/step - accuracy: 0.8218 - loss: 0.5204 - val_accuracy: 0.7552 - val_loss: 0.6013\n",
      "Epoch 9/20\n",
      "\u001b[1m41/41\u001b[0m \u001b[32m━━━━━━━━━━━━━━━━━━━━\u001b[0m\u001b[37m\u001b[0m \u001b[1m2s\u001b[0m 45ms/step - accuracy: 0.8527 - loss: 0.4548 - val_accuracy: 0.7832 - val_loss: 0.5910\n",
      "Epoch 10/20\n",
      "\u001b[1m41/41\u001b[0m \u001b[32m━━━━━━━━━━━━━━━━━━━━\u001b[0m\u001b[37m\u001b[0m \u001b[1m2s\u001b[0m 46ms/step - accuracy: 0.8564 - loss: 0.4370 - val_accuracy: 0.7972 - val_loss: 0.5755\n",
      "Epoch 11/20\n",
      "\u001b[1m41/41\u001b[0m \u001b[32m━━━━━━━━━━━━━━━━━━━━\u001b[0m\u001b[37m\u001b[0m \u001b[1m2s\u001b[0m 45ms/step - accuracy: 0.8490 - loss: 0.4129 - val_accuracy: 0.7552 - val_loss: 0.5600\n",
      "Epoch 12/20\n",
      "\u001b[1m41/41\u001b[0m \u001b[32m━━━━━━━━━━━━━━━━━━━━\u001b[0m\u001b[37m\u001b[0m \u001b[1m2s\u001b[0m 44ms/step - accuracy: 0.8811 - loss: 0.3758 - val_accuracy: 0.7832 - val_loss: 0.5721\n",
      "Epoch 13/20\n",
      "\u001b[1m41/41\u001b[0m \u001b[32m━━━━━━━━━━━━━━━━━━━━\u001b[0m\u001b[37m\u001b[0m \u001b[1m2s\u001b[0m 44ms/step - accuracy: 0.8816 - loss: 0.3484 - val_accuracy: 0.7622 - val_loss: 0.5802\n",
      "Epoch 14/20\n",
      "\u001b[1m41/41\u001b[0m \u001b[32m━━━━━━━━━━━━━━━━━━━━\u001b[0m\u001b[37m\u001b[0m \u001b[1m2s\u001b[0m 47ms/step - accuracy: 0.8844 - loss: 0.3262 - val_accuracy: 0.7832 - val_loss: 0.5856\n"
     ]
    }
   ],
   "source": [
    "# Build the model with the best hyperparameters\n",
    "model = tuner.hypermodel.build(best_hps)\n",
    "\n",
    "# Train the final model\n",
    "history = model.fit(X_train, Y_train, \n",
    "                    epochs=20, \n",
    "                    validation_data=(X_test, Y_test), \n",
    "                    batch_size=64, \n",
    "                    callbacks=[tf.keras.callbacks.EarlyStopping(monitor='val_loss', patience=3)])"
   ]
  },
  {
   "cell_type": "code",
   "execution_count": 40,
   "id": "aa82fc61",
   "metadata": {
    "execution": {
     "iopub.execute_input": "2024-08-22T05:43:12.147188Z",
     "iopub.status.busy": "2024-08-22T05:43:12.146901Z",
     "iopub.status.idle": "2024-08-22T05:43:12.287004Z",
     "shell.execute_reply": "2024-08-22T05:43:12.286175Z"
    },
    "papermill": {
     "duration": 0.24452,
     "end_time": "2024-08-22T05:43:12.288837",
     "exception": false,
     "start_time": "2024-08-22T05:43:12.044317",
     "status": "completed"
    },
    "tags": []
   },
   "outputs": [
    {
     "name": "stdout",
     "output_type": "stream",
     "text": [
      "\u001b[1m5/5\u001b[0m \u001b[32m━━━━━━━━━━━━━━━━━━━━\u001b[0m\u001b[37m\u001b[0m \u001b[1m0s\u001b[0m 15ms/step - accuracy: 0.7771 - loss: 0.5897\n",
      "Test accuracy: 0.7832\n"
     ]
    }
   ],
   "source": [
    "# Evaluate the model\n",
    "test_loss, test_acc = model.evaluate(X_test, Y_test)\n",
    "print(f\"Test accuracy: {test_acc:.4f}\")"
   ]
  },
  {
   "cell_type": "code",
   "execution_count": 41,
   "id": "e7b11a5f",
   "metadata": {
    "execution": {
     "iopub.execute_input": "2024-08-22T05:43:12.494808Z",
     "iopub.status.busy": "2024-08-22T05:43:12.494477Z",
     "iopub.status.idle": "2024-08-22T05:43:27.720620Z",
     "shell.execute_reply": "2024-08-22T05:43:27.719847Z"
    },
    "papermill": {
     "duration": 15.331243,
     "end_time": "2024-08-22T05:43:27.722736",
     "exception": false,
     "start_time": "2024-08-22T05:43:12.391493",
     "status": "completed"
    },
    "tags": []
   },
   "outputs": [
    {
     "name": "stdout",
     "output_type": "stream",
     "text": [
      "Epoch 1/20\n",
      "\u001b[1m41/41\u001b[0m \u001b[32m━━━━━━━━━━━━━━━━━━━━\u001b[0m\u001b[37m\u001b[0m \u001b[1m6s\u001b[0m 56ms/step - accuracy: 0.5215 - loss: 0.9661 - val_accuracy: 0.6154 - val_loss: 0.6738\n",
      "Epoch 2/20\n",
      "\u001b[1m41/41\u001b[0m \u001b[32m━━━━━━━━━━━━━━━━━━━━\u001b[0m\u001b[37m\u001b[0m \u001b[1m2s\u001b[0m 42ms/step - accuracy: 0.7029 - loss: 0.6064 - val_accuracy: 0.7483 - val_loss: 0.5595\n",
      "Epoch 3/20\n",
      "\u001b[1m41/41\u001b[0m \u001b[32m━━━━━━━━━━━━━━━━━━━━\u001b[0m\u001b[37m\u001b[0m \u001b[1m2s\u001b[0m 43ms/step - accuracy: 0.8216 - loss: 0.4432 - val_accuracy: 0.7692 - val_loss: 0.4598\n",
      "Epoch 4/20\n",
      "\u001b[1m41/41\u001b[0m \u001b[32m━━━━━━━━━━━━━━━━━━━━\u001b[0m\u001b[37m\u001b[0m \u001b[1m2s\u001b[0m 42ms/step - accuracy: 0.8744 - loss: 0.3285 - val_accuracy: 0.7762 - val_loss: 0.4982\n",
      "Epoch 5/20\n",
      "\u001b[1m41/41\u001b[0m \u001b[32m━━━━━━━━━━━━━━━━━━━━\u001b[0m\u001b[37m\u001b[0m \u001b[1m2s\u001b[0m 43ms/step - accuracy: 0.8982 - loss: 0.2880 - val_accuracy: 0.7832 - val_loss: 0.5796\n",
      "Epoch 6/20\n",
      "\u001b[1m41/41\u001b[0m \u001b[32m━━━━━━━━━━━━━━━━━━━━\u001b[0m\u001b[37m\u001b[0m \u001b[1m2s\u001b[0m 44ms/step - accuracy: 0.9144 - loss: 0.2185 - val_accuracy: 0.7762 - val_loss: 0.6853\n"
     ]
    }
   ],
   "source": [
    "# Build the model with the 2nd best hyperparameters\n",
    "model2 = tuner.hypermodel.build(best_hps2)\n",
    "\n",
    "# Train the final model\n",
    "history = model2.fit(X_train, Y_train, \n",
    "                    epochs=20, \n",
    "                    validation_data=(X_test, Y_test), \n",
    "                    batch_size=64, \n",
    "                    callbacks=[tf.keras.callbacks.EarlyStopping(monitor='val_loss', patience=3)])"
   ]
  },
  {
   "cell_type": "code",
   "execution_count": 42,
   "id": "a8e31c12",
   "metadata": {
    "execution": {
     "iopub.execute_input": "2024-08-22T05:43:27.952209Z",
     "iopub.status.busy": "2024-08-22T05:43:27.951479Z",
     "iopub.status.idle": "2024-08-22T05:43:28.085091Z",
     "shell.execute_reply": "2024-08-22T05:43:28.084236Z"
    },
    "papermill": {
     "duration": 0.250231,
     "end_time": "2024-08-22T05:43:28.087182",
     "exception": false,
     "start_time": "2024-08-22T05:43:27.836951",
     "status": "completed"
    },
    "tags": []
   },
   "outputs": [
    {
     "name": "stdout",
     "output_type": "stream",
     "text": [
      "\u001b[1m5/5\u001b[0m \u001b[32m━━━━━━━━━━━━━━━━━━━━\u001b[0m\u001b[37m\u001b[0m \u001b[1m0s\u001b[0m 14ms/step - accuracy: 0.7852 - loss: 0.6830\n",
      "Test accuracy: 0.7762\n"
     ]
    }
   ],
   "source": [
    "# Evaluate the 2nd model\n",
    "test_loss, test_acc = model2.evaluate(X_test, Y_test)\n",
    "print(f\"Test accuracy: {test_acc:.4f}\")"
   ]
  },
  {
   "cell_type": "code",
   "execution_count": 43,
   "id": "53a80e6c",
   "metadata": {
    "execution": {
     "iopub.execute_input": "2024-08-22T05:43:28.315518Z",
     "iopub.status.busy": "2024-08-22T05:43:28.315201Z",
     "iopub.status.idle": "2024-08-22T05:43:28.422254Z",
     "shell.execute_reply": "2024-08-22T05:43:28.421339Z"
    },
    "papermill": {
     "duration": 0.22265,
     "end_time": "2024-08-22T05:43:28.424187",
     "exception": false,
     "start_time": "2024-08-22T05:43:28.201537",
     "status": "completed"
    },
    "tags": []
   },
   "outputs": [
    {
     "name": "stdout",
     "output_type": "stream",
     "text": [
      "3/3 - 0s - 19ms/step - accuracy: 0.7832 - loss: 0.5856\n",
      "loss_score: 0.59\n",
      "accuracy: 0.78\n"
     ]
    }
   ],
   "source": [
    "score,acc = model.evaluate(X_test, Y_test,verbose = 2, batch_size = batch_size)\n",
    "print(\"loss_score: %.2f\" % (score))\n",
    "print(\"accuracy: %.2f\" % (acc))"
   ]
  },
  {
   "cell_type": "code",
   "execution_count": 44,
   "id": "ef15c044",
   "metadata": {
    "execution": {
     "iopub.execute_input": "2024-08-22T05:43:28.652674Z",
     "iopub.status.busy": "2024-08-22T05:43:28.652361Z",
     "iopub.status.idle": "2024-08-22T05:44:00.607161Z",
     "shell.execute_reply": "2024-08-22T05:44:00.606165Z"
    },
    "papermill": {
     "duration": 32.071077,
     "end_time": "2024-08-22T05:44:00.609143",
     "exception": false,
     "start_time": "2024-08-22T05:43:28.538066",
     "status": "completed"
    },
    "tags": []
   },
   "outputs": [
    {
     "name": "stdout",
     "output_type": "stream",
     "text": [
      "1/1 - 1s - 1s/step\n",
      "1/1 - 0s - 27ms/step\n",
      "1/1 - 0s - 27ms/step\n",
      "1/1 - 0s - 27ms/step\n",
      "1/1 - 0s - 27ms/step\n",
      "1/1 - 0s - 27ms/step\n",
      "1/1 - 0s - 26ms/step\n",
      "1/1 - 0s - 27ms/step\n",
      "1/1 - 0s - 25ms/step\n",
      "1/1 - 0s - 25ms/step\n",
      "1/1 - 0s - 25ms/step\n",
      "1/1 - 0s - 24ms/step\n",
      "1/1 - 0s - 23ms/step\n",
      "1/1 - 0s - 26ms/step\n",
      "1/1 - 0s - 26ms/step\n",
      "1/1 - 0s - 26ms/step\n",
      "1/1 - 0s - 27ms/step\n",
      "1/1 - 0s - 26ms/step\n",
      "1/1 - 0s - 26ms/step\n",
      "1/1 - 0s - 27ms/step\n",
      "1/1 - 0s - 27ms/step\n",
      "1/1 - 0s - 26ms/step\n",
      "1/1 - 0s - 23ms/step\n",
      "1/1 - 0s - 27ms/step\n",
      "1/1 - 0s - 28ms/step\n",
      "1/1 - 0s - 26ms/step\n",
      "1/1 - 0s - 26ms/step\n",
      "1/1 - 0s - 27ms/step\n",
      "1/1 - 0s - 27ms/step\n",
      "1/1 - 0s - 26ms/step\n",
      "1/1 - 0s - 28ms/step\n",
      "1/1 - 0s - 26ms/step\n",
      "1/1 - 0s - 26ms/step\n",
      "1/1 - 0s - 28ms/step\n",
      "1/1 - 0s - 27ms/step\n",
      "1/1 - 0s - 27ms/step\n",
      "1/1 - 0s - 27ms/step\n",
      "1/1 - 0s - 23ms/step\n",
      "1/1 - 0s - 25ms/step\n",
      "1/1 - 0s - 25ms/step\n",
      "1/1 - 0s - 25ms/step\n",
      "1/1 - 0s - 25ms/step\n",
      "1/1 - 0s - 27ms/step\n",
      "1/1 - 0s - 27ms/step\n",
      "1/1 - 0s - 27ms/step\n",
      "1/1 - 0s - 25ms/step\n",
      "1/1 - 0s - 27ms/step\n",
      "1/1 - 0s - 25ms/step\n",
      "1/1 - 0s - 23ms/step\n",
      "1/1 - 0s - 24ms/step\n",
      "1/1 - 0s - 25ms/step\n",
      "1/1 - 0s - 26ms/step\n",
      "1/1 - 0s - 25ms/step\n",
      "1/1 - 0s - 25ms/step\n",
      "1/1 - 0s - 27ms/step\n",
      "1/1 - 0s - 27ms/step\n",
      "1/1 - 0s - 26ms/step\n",
      "1/1 - 0s - 26ms/step\n",
      "1/1 - 0s - 26ms/step\n",
      "1/1 - 0s - 27ms/step\n",
      "1/1 - 0s - 26ms/step\n",
      "1/1 - 0s - 28ms/step\n",
      "1/1 - 0s - 25ms/step\n",
      "1/1 - 0s - 25ms/step\n",
      "1/1 - 0s - 26ms/step\n",
      "1/1 - 0s - 27ms/step\n",
      "1/1 - 0s - 25ms/step\n",
      "1/1 - 0s - 28ms/step\n",
      "1/1 - 0s - 27ms/step\n",
      "1/1 - 0s - 26ms/step\n",
      "1/1 - 0s - 25ms/step\n",
      "1/1 - 0s - 26ms/step\n",
      "1/1 - 0s - 27ms/step\n",
      "1/1 - 0s - 27ms/step\n",
      "1/1 - 0s - 26ms/step\n",
      "1/1 - 0s - 26ms/step\n",
      "1/1 - 0s - 24ms/step\n",
      "1/1 - 0s - 25ms/step\n",
      "1/1 - 0s - 27ms/step\n",
      "1/1 - 0s - 24ms/step\n",
      "1/1 - 0s - 27ms/step\n",
      "1/1 - 0s - 26ms/step\n",
      "1/1 - 0s - 26ms/step\n",
      "1/1 - 0s - 25ms/step\n",
      "1/1 - 0s - 27ms/step\n",
      "1/1 - 0s - 26ms/step\n",
      "1/1 - 0s - 26ms/step\n",
      "1/1 - 0s - 23ms/step\n",
      "1/1 - 0s - 25ms/step\n",
      "1/1 - 0s - 26ms/step\n",
      "1/1 - 0s - 27ms/step\n",
      "1/1 - 0s - 27ms/step\n",
      "1/1 - 0s - 27ms/step\n",
      "1/1 - 0s - 27ms/step\n",
      "1/1 - 0s - 24ms/step\n",
      "1/1 - 0s - 25ms/step\n",
      "1/1 - 0s - 26ms/step\n",
      "1/1 - 0s - 27ms/step\n",
      "1/1 - 0s - 25ms/step\n",
      "1/1 - 0s - 26ms/step\n",
      "1/1 - 0s - 26ms/step\n",
      "1/1 - 0s - 26ms/step\n",
      "1/1 - 0s - 25ms/step\n",
      "1/1 - 0s - 27ms/step\n",
      "1/1 - 0s - 26ms/step\n",
      "1/1 - 0s - 27ms/step\n",
      "1/1 - 0s - 25ms/step\n",
      "1/1 - 0s - 25ms/step\n",
      "1/1 - 0s - 23ms/step\n",
      "1/1 - 0s - 22ms/step\n",
      "1/1 - 0s - 25ms/step\n",
      "1/1 - 0s - 26ms/step\n",
      "1/1 - 0s - 25ms/step\n",
      "1/1 - 0s - 25ms/step\n",
      "1/1 - 0s - 27ms/step\n",
      "1/1 - 0s - 28ms/step\n",
      "1/1 - 0s - 27ms/step\n",
      "1/1 - 0s - 28ms/step\n",
      "1/1 - 0s - 26ms/step\n",
      "1/1 - 0s - 25ms/step\n",
      "1/1 - 0s - 26ms/step\n",
      "1/1 - 0s - 26ms/step\n",
      "1/1 - 0s - 23ms/step\n",
      "1/1 - 0s - 31ms/step\n",
      "1/1 - 0s - 25ms/step\n",
      "1/1 - 0s - 29ms/step\n",
      "1/1 - 0s - 34ms/step\n",
      "1/1 - 0s - 26ms/step\n",
      "1/1 - 0s - 27ms/step\n",
      "1/1 - 0s - 27ms/step\n",
      "1/1 - 0s - 27ms/step\n",
      "1/1 - 0s - 28ms/step\n",
      "1/1 - 0s - 26ms/step\n",
      "1/1 - 0s - 28ms/step\n",
      "1/1 - 0s - 27ms/step\n",
      "1/1 - 0s - 24ms/step\n",
      "1/1 - 0s - 24ms/step\n",
      "1/1 - 0s - 24ms/step\n",
      "1/1 - 0s - 26ms/step\n",
      "1/1 - 0s - 26ms/step\n",
      "1/1 - 0s - 28ms/step\n",
      "1/1 - 0s - 27ms/step\n",
      "1/1 - 0s - 25ms/step\n",
      "1/1 - 0s - 27ms/step\n",
      "1/1 - 0s - 24ms/step\n",
      "1/1 - 0s - 26ms/step\n",
      "1/1 - 0s - 25ms/step\n",
      "1/1 - 0s - 25ms/step\n",
      "1/1 - 0s - 26ms/step\n",
      "1/1 - 0s - 23ms/step\n",
      "1/1 - 0s - 28ms/step\n",
      "1/1 - 0s - 27ms/step\n",
      "1/1 - 0s - 27ms/step\n",
      "1/1 - 0s - 26ms/step\n",
      "1/1 - 0s - 27ms/step\n",
      "1/1 - 0s - 26ms/step\n",
      "1/1 - 0s - 24ms/step\n",
      "1/1 - 0s - 26ms/step\n",
      "1/1 - 0s - 25ms/step\n",
      "1/1 - 0s - 26ms/step\n",
      "1/1 - 0s - 25ms/step\n",
      "1/1 - 0s - 27ms/step\n",
      "1/1 - 0s - 27ms/step\n",
      "1/1 - 0s - 28ms/step\n",
      "1/1 - 0s - 25ms/step\n",
      "1/1 - 0s - 26ms/step\n",
      "1/1 - 0s - 27ms/step\n",
      "1/1 - 0s - 27ms/step\n",
      "1/1 - 0s - 26ms/step\n",
      "1/1 - 0s - 26ms/step\n",
      "1/1 - 0s - 26ms/step\n",
      "1/1 - 0s - 24ms/step\n",
      "1/1 - 0s - 26ms/step\n",
      "1/1 - 0s - 26ms/step\n",
      "1/1 - 0s - 26ms/step\n",
      "1/1 - 0s - 27ms/step\n",
      "1/1 - 0s - 25ms/step\n",
      "1/1 - 0s - 27ms/step\n",
      "1/1 - 0s - 27ms/step\n",
      "1/1 - 0s - 26ms/step\n",
      "1/1 - 0s - 26ms/step\n",
      "1/1 - 0s - 26ms/step\n",
      "1/1 - 0s - 25ms/step\n",
      "1/1 - 0s - 27ms/step\n",
      "1/1 - 0s - 25ms/step\n",
      "1/1 - 0s - 25ms/step\n",
      "1/1 - 0s - 26ms/step\n",
      "1/1 - 0s - 27ms/step\n",
      "1/1 - 0s - 28ms/step\n",
      "1/1 - 0s - 27ms/step\n",
      "1/1 - 0s - 23ms/step\n",
      "1/1 - 0s - 26ms/step\n",
      "1/1 - 0s - 28ms/step\n",
      "1/1 - 0s - 27ms/step\n",
      "1/1 - 0s - 27ms/step\n",
      "1/1 - 0s - 25ms/step\n",
      "1/1 - 0s - 25ms/step\n",
      "1/1 - 0s - 27ms/step\n",
      "1/1 - 0s - 27ms/step\n",
      "1/1 - 0s - 25ms/step\n",
      "1/1 - 0s - 26ms/step\n",
      "1/1 - 0s - 27ms/step\n",
      "1/1 - 0s - 28ms/step\n",
      "1/1 - 0s - 25ms/step\n",
      "1/1 - 0s - 27ms/step\n",
      "1/1 - 0s - 26ms/step\n",
      "1/1 - 0s - 26ms/step\n",
      "1/1 - 0s - 26ms/step\n",
      "1/1 - 0s - 26ms/step\n",
      "1/1 - 0s - 25ms/step\n",
      "1/1 - 0s - 27ms/step\n",
      "1/1 - 0s - 26ms/step\n",
      "1/1 - 0s - 26ms/step\n",
      "1/1 - 0s - 24ms/step\n",
      "1/1 - 0s - 27ms/step\n",
      "1/1 - 0s - 26ms/step\n",
      "1/1 - 0s - 28ms/step\n",
      "1/1 - 0s - 25ms/step\n",
      "1/1 - 0s - 27ms/step\n",
      "1/1 - 0s - 25ms/step\n",
      "1/1 - 0s - 23ms/step\n",
      "1/1 - 0s - 25ms/step\n",
      "1/1 - 0s - 26ms/step\n",
      "1/1 - 0s - 28ms/step\n",
      "1/1 - 0s - 27ms/step\n",
      "1/1 - 0s - 28ms/step\n",
      "1/1 - 0s - 26ms/step\n",
      "1/1 - 0s - 27ms/step\n",
      "1/1 - 0s - 26ms/step\n",
      "1/1 - 0s - 26ms/step\n",
      "1/1 - 0s - 26ms/step\n",
      "1/1 - 0s - 26ms/step\n",
      "1/1 - 0s - 26ms/step\n",
      "1/1 - 0s - 24ms/step\n",
      "1/1 - 0s - 28ms/step\n",
      "1/1 - 0s - 27ms/step\n",
      "1/1 - 0s - 27ms/step\n",
      "1/1 - 0s - 28ms/step\n",
      "1/1 - 0s - 27ms/step\n",
      "1/1 - 0s - 26ms/step\n",
      "1/1 - 0s - 27ms/step\n",
      "1/1 - 0s - 26ms/step\n",
      "1/1 - 0s - 26ms/step\n",
      "1/1 - 0s - 26ms/step\n",
      "1/1 - 0s - 26ms/step\n",
      "1/1 - 0s - 26ms/step\n",
      "1/1 - 0s - 27ms/step\n",
      "1/1 - 0s - 33ms/step\n",
      "1/1 - 0s - 38ms/step\n",
      "1/1 - 0s - 32ms/step\n",
      "1/1 - 0s - 37ms/step\n",
      "1/1 - 0s - 28ms/step\n",
      "1/1 - 0s - 34ms/step\n",
      "1/1 - 0s - 28ms/step\n",
      "1/1 - 0s - 32ms/step\n",
      "1/1 - 0s - 26ms/step\n",
      "1/1 - 0s - 28ms/step\n",
      "1/1 - 0s - 28ms/step\n",
      "1/1 - 0s - 28ms/step\n",
      "1/1 - 0s - 25ms/step\n",
      "1/1 - 0s - 28ms/step\n",
      "1/1 - 0s - 30ms/step\n",
      "1/1 - 0s - 29ms/step\n",
      "1/1 - 0s - 31ms/step\n",
      "1/1 - 0s - 26ms/step\n",
      "1/1 - 0s - 26ms/step\n",
      "1/1 - 0s - 26ms/step\n",
      "1/1 - 0s - 26ms/step\n",
      "1/1 - 0s - 25ms/step\n",
      "1/1 - 0s - 25ms/step\n",
      "1/1 - 0s - 26ms/step\n",
      "1/1 - 0s - 24ms/step\n",
      "1/1 - 0s - 27ms/step\n",
      "1/1 - 0s - 29ms/step\n",
      "1/1 - 0s - 26ms/step\n",
      "1/1 - 0s - 25ms/step\n",
      "1/1 - 0s - 24ms/step\n",
      "1/1 - 0s - 27ms/step\n",
      "1/1 - 0s - 27ms/step\n",
      "1/1 - 0s - 25ms/step\n",
      "1/1 - 0s - 26ms/step\n",
      "1/1 - 0s - 25ms/step\n",
      "1/1 - 0s - 28ms/step\n",
      "1/1 - 0s - 26ms/step\n",
      "1/1 - 0s - 26ms/step\n",
      "1/1 - 0s - 28ms/step\n",
      "1/1 - 0s - 26ms/step\n",
      "1/1 - 0s - 35ms/step\n",
      "1/1 - 0s - 30ms/step\n",
      "1/1 - 0s - 27ms/step\n",
      "1/1 - 0s - 25ms/step\n",
      "1/1 - 0s - 26ms/step\n",
      "1/1 - 0s - 24ms/step\n",
      "1/1 - 0s - 27ms/step\n",
      "1/1 - 0s - 26ms/step\n",
      "1/1 - 0s - 28ms/step\n",
      "1/1 - 0s - 26ms/step\n",
      "1/1 - 0s - 27ms/step\n",
      "1/1 - 0s - 26ms/step\n",
      "1/1 - 0s - 25ms/step\n",
      "1/1 - 0s - 27ms/step\n",
      "1/1 - 0s - 25ms/step\n",
      "1/1 - 0s - 26ms/step\n",
      "1/1 - 0s - 26ms/step\n",
      "1/1 - 0s - 27ms/step\n",
      "1/1 - 0s - 27ms/step\n",
      "1/1 - 0s - 23ms/step\n",
      "1/1 - 0s - 26ms/step\n",
      "1/1 - 0s - 27ms/step\n",
      "1/1 - 0s - 29ms/step\n",
      "1/1 - 0s - 27ms/step\n",
      "1/1 - 0s - 26ms/step\n",
      "1/1 - 0s - 26ms/step\n",
      "1/1 - 0s - 26ms/step\n",
      "1/1 - 0s - 26ms/step\n",
      "1/1 - 0s - 26ms/step\n",
      "1/1 - 0s - 24ms/step\n",
      "1/1 - 0s - 26ms/step\n",
      "1/1 - 0s - 28ms/step\n",
      "1/1 - 0s - 26ms/step\n",
      "1/1 - 0s - 31ms/step\n",
      "1/1 - 0s - 27ms/step\n",
      "1/1 - 0s - 26ms/step\n",
      "1/1 - 0s - 26ms/step\n",
      "1/1 - 0s - 25ms/step\n",
      "1/1 - 0s - 27ms/step\n",
      "1/1 - 0s - 28ms/step\n",
      "1/1 - 0s - 29ms/step\n",
      "1/1 - 0s - 30ms/step\n",
      "1/1 - 0s - 26ms/step\n",
      "1/1 - 0s - 27ms/step\n",
      "1/1 - 0s - 29ms/step\n",
      "1/1 - 0s - 26ms/step\n",
      "1/1 - 0s - 27ms/step\n",
      "1/1 - 0s - 26ms/step\n",
      "1/1 - 0s - 25ms/step\n",
      "1/1 - 0s - 26ms/step\n",
      "1/1 - 0s - 27ms/step\n",
      "1/1 - 0s - 25ms/step\n",
      "1/1 - 0s - 26ms/step\n",
      "1/1 - 0s - 26ms/step\n",
      "1/1 - 0s - 25ms/step\n",
      "1/1 - 0s - 27ms/step\n",
      "1/1 - 0s - 26ms/step\n",
      "1/1 - 0s - 27ms/step\n",
      "1/1 - 0s - 26ms/step\n",
      "1/1 - 0s - 26ms/step\n",
      "1/1 - 0s - 26ms/step\n",
      "1/1 - 0s - 24ms/step\n",
      "1/1 - 0s - 25ms/step\n",
      "1/1 - 0s - 26ms/step\n",
      "1/1 - 0s - 25ms/step\n",
      "1/1 - 0s - 24ms/step\n",
      "1/1 - 0s - 27ms/step\n",
      "1/1 - 0s - 25ms/step\n",
      "1/1 - 0s - 27ms/step\n",
      "1/1 - 0s - 25ms/step\n",
      "1/1 - 0s - 27ms/step\n",
      "1/1 - 0s - 28ms/step\n",
      "1/1 - 0s - 27ms/step\n",
      "1/1 - 0s - 27ms/step\n",
      "1/1 - 0s - 27ms/step\n",
      "1/1 - 0s - 25ms/step\n",
      "1/1 - 0s - 27ms/step\n",
      "1/1 - 0s - 26ms/step\n",
      "1/1 - 0s - 26ms/step\n",
      "1/1 - 0s - 28ms/step\n",
      "1/1 - 0s - 27ms/step\n",
      "1/1 - 0s - 29ms/step\n",
      "1/1 - 0s - 28ms/step\n",
      "1/1 - 0s - 27ms/step\n",
      "1/1 - 0s - 27ms/step\n",
      "1/1 - 0s - 26ms/step\n",
      "1/1 - 0s - 25ms/step\n",
      "1/1 - 0s - 26ms/step\n",
      "1/1 - 0s - 26ms/step\n",
      "1/1 - 0s - 25ms/step\n",
      "1/1 - 0s - 25ms/step\n",
      "1/1 - 0s - 26ms/step\n",
      "1/1 - 0s - 25ms/step\n",
      "1/1 - 0s - 23ms/step\n",
      "1/1 - 0s - 25ms/step\n",
      "1/1 - 0s - 26ms/step\n",
      "1/1 - 0s - 27ms/step\n",
      "1/1 - 0s - 25ms/step\n",
      "1/1 - 0s - 26ms/step\n",
      "1/1 - 0s - 25ms/step\n",
      "1/1 - 0s - 26ms/step\n",
      "1/1 - 0s - 26ms/step\n",
      "1/1 - 0s - 26ms/step\n",
      "1/1 - 0s - 26ms/step\n",
      "1/1 - 0s - 27ms/step\n",
      "1/1 - 0s - 27ms/step\n",
      "1/1 - 0s - 28ms/step\n",
      "1/1 - 0s - 26ms/step\n",
      "1/1 - 0s - 28ms/step\n",
      "1/1 - 0s - 27ms/step\n",
      "1/1 - 0s - 26ms/step\n",
      "1/1 - 0s - 27ms/step\n",
      "1/1 - 0s - 27ms/step\n",
      "1/1 - 0s - 26ms/step\n",
      "1/1 - 0s - 25ms/step\n",
      "1/1 - 0s - 27ms/step\n",
      "1/1 - 0s - 28ms/step\n",
      "1/1 - 0s - 27ms/step\n",
      "1/1 - 0s - 27ms/step\n",
      "1/1 - 0s - 26ms/step\n",
      "1/1 - 0s - 26ms/step\n",
      "1/1 - 0s - 27ms/step\n",
      "1/1 - 0s - 26ms/step\n",
      "1/1 - 0s - 33ms/step\n",
      "1/1 - 0s - 32ms/step\n",
      "1/1 - 0s - 28ms/step\n",
      "1/1 - 0s - 26ms/step\n",
      "1/1 - 0s - 28ms/step\n",
      "1/1 - 0s - 30ms/step\n",
      "1/1 - 0s - 28ms/step\n",
      "1/1 - 0s - 29ms/step\n",
      "1/1 - 0s - 27ms/step\n",
      "1/1 - 0s - 26ms/step\n",
      "1/1 - 0s - 28ms/step\n",
      "1/1 - 0s - 27ms/step\n",
      "1/1 - 0s - 28ms/step\n",
      "1/1 - 0s - 26ms/step\n",
      "1/1 - 0s - 25ms/step\n",
      "1/1 - 0s - 25ms/step\n",
      "1/1 - 0s - 29ms/step\n",
      "1/1 - 0s - 27ms/step\n",
      "1/1 - 0s - 27ms/step\n",
      "1/1 - 0s - 26ms/step\n",
      "1/1 - 0s - 26ms/step\n",
      "1/1 - 0s - 30ms/step\n",
      "1/1 - 0s - 30ms/step\n",
      "1/1 - 0s - 27ms/step\n",
      "1/1 - 0s - 27ms/step\n",
      "1/1 - 0s - 26ms/step\n",
      "1/1 - 0s - 25ms/step\n",
      "1/1 - 0s - 25ms/step\n",
      "1/1 - 0s - 27ms/step\n",
      "1/1 - 0s - 25ms/step\n",
      "1/1 - 0s - 26ms/step\n",
      "1/1 - 0s - 30ms/step\n",
      "1/1 - 0s - 28ms/step\n",
      "1/1 - 0s - 27ms/step\n",
      "1/1 - 0s - 27ms/step\n",
      "1/1 - 0s - 27ms/step\n",
      "1/1 - 0s - 41ms/step\n",
      "1/1 - 0s - 26ms/step\n",
      "1/1 - 0s - 37ms/step\n",
      "1/1 - 0s - 27ms/step\n",
      "1/1 - 0s - 27ms/step\n",
      "1/1 - 0s - 26ms/step\n",
      "1/1 - 0s - 27ms/step\n",
      "1/1 - 0s - 26ms/step\n",
      "1/1 - 0s - 29ms/step\n",
      "1/1 - 0s - 23ms/step\n",
      "1/1 - 0s - 29ms/step\n",
      "1/1 - 0s - 27ms/step\n",
      "1/1 - 0s - 27ms/step\n",
      "1/1 - 0s - 25ms/step\n",
      "1/1 - 0s - 25ms/step\n",
      "1/1 - 0s - 25ms/step\n",
      "1/1 - 0s - 26ms/step\n",
      "1/1 - 0s - 27ms/step\n",
      "1/1 - 0s - 26ms/step\n",
      "1/1 - 0s - 26ms/step\n",
      "1/1 - 0s - 26ms/step\n",
      "1/1 - 0s - 26ms/step\n",
      "1/1 - 0s - 23ms/step\n",
      "1/1 - 0s - 26ms/step\n",
      "1/1 - 0s - 27ms/step\n",
      "1/1 - 0s - 26ms/step\n",
      "1/1 - 0s - 26ms/step\n",
      "1/1 - 0s - 26ms/step\n",
      "1/1 - 0s - 26ms/step\n",
      "1/1 - 0s - 27ms/step\n",
      "1/1 - 0s - 26ms/step\n",
      "1/1 - 0s - 25ms/step\n",
      "1/1 - 0s - 26ms/step\n",
      "1/1 - 0s - 25ms/step\n",
      "1/1 - 0s - 25ms/step\n",
      "1/1 - 0s - 26ms/step\n",
      "1/1 - 0s - 26ms/step\n",
      "1/1 - 0s - 27ms/step\n",
      "1/1 - 0s - 25ms/step\n",
      "1/1 - 0s - 26ms/step\n",
      "1/1 - 0s - 27ms/step\n",
      "1/1 - 0s - 27ms/step\n",
      "1/1 - 0s - 26ms/step\n",
      "1/1 - 0s - 27ms/step\n",
      "1/1 - 0s - 28ms/step\n",
      "1/1 - 0s - 29ms/step\n",
      "1/1 - 0s - 28ms/step\n",
      "1/1 - 0s - 27ms/step\n",
      "1/1 - 0s - 26ms/step\n",
      "1/1 - 0s - 27ms/step\n",
      "1/1 - 0s - 27ms/step\n",
      "1/1 - 0s - 26ms/step\n",
      "1/1 - 0s - 27ms/step\n",
      "1/1 - 0s - 27ms/step\n",
      "pos_acc 79.8507462686567 %\n",
      "neg_acc 81.89655172413794 %\n"
     ]
    }
   ],
   "source": [
    "pos_cnt, neg_cnt, pos_correct, neg_correct = 0, 0, 0, 0\n",
    "for x in range(len(X_validate)):\n",
    "    \n",
    "    result = model.predict(X_validate[x].reshape(1,X_test.shape[1]),batch_size=1,verbose = 2)[0]\n",
    "   \n",
    "    if np.argmax(result) == np.argmax(Y_validate[x]):\n",
    "        if np.argmax(Y_validate[x]) == 0:\n",
    "            neg_correct += 1\n",
    "        else:\n",
    "            pos_correct += 1\n",
    "       \n",
    "    if np.argmax(Y_validate[x]) == 0:\n",
    "        neg_cnt += 1\n",
    "    else:\n",
    "        pos_cnt += 1\n",
    "\n",
    "\n",
    "\n",
    "print(\"pos_acc\", pos_correct/pos_cnt*100, \"%\")\n",
    "print(\"neg_acc\", neg_correct/neg_cnt*100, \"%\")"
   ]
  },
  {
   "cell_type": "code",
   "execution_count": 45,
   "id": "78c2f8ba",
   "metadata": {
    "execution": {
     "iopub.execute_input": "2024-08-22T05:44:00.913566Z",
     "iopub.status.busy": "2024-08-22T05:44:00.913221Z",
     "iopub.status.idle": "2024-08-22T05:44:01.318338Z",
     "shell.execute_reply": "2024-08-22T05:44:01.317344Z"
    },
    "papermill": {
     "duration": 0.559435,
     "end_time": "2024-08-22T05:44:01.320347",
     "exception": false,
     "start_time": "2024-08-22T05:44:00.760912",
     "status": "completed"
    },
    "tags": []
   },
   "outputs": [
    {
     "name": "stdout",
     "output_type": "stream",
     "text": [
      "[[   0    0    0    0    0    0    0    1   79  477    7   18  559 1000\n",
      "    39  275   55    7   10 1913    6    5  458  165  118   13    4 1562]]\n",
      "1/1 - 0s - 358ms/step\n",
      "negative\n"
     ]
    }
   ],
   "source": [
    "twt = ['I been told you that yo folks dont care about you . Im starving and my dad deadass didnt make me a plate']\n",
    "twt = tokenizer.texts_to_sequences(twt)\n",
    "twt = pad_sequences(twt, maxlen=28, dtype='int32', value=0)\n",
    "print(twt)\n",
    "sentiment = model.predict(twt,batch_size=1,verbose = 2)[0]\n",
    "if(np.argmax(sentiment) == 0):\n",
    "    print(\"negative\")\n",
    "elif (np.argmax(sentiment) == 1):\n",
    "    print(\"positive\")"
   ]
  },
  {
   "cell_type": "code",
   "execution_count": 46,
   "id": "dddac160",
   "metadata": {
    "execution": {
     "iopub.execute_input": "2024-08-22T05:44:01.629839Z",
     "iopub.status.busy": "2024-08-22T05:44:01.629474Z",
     "iopub.status.idle": "2024-08-22T05:44:03.226404Z",
     "shell.execute_reply": "2024-08-22T05:44:03.225605Z"
    },
    "papermill": {
     "duration": 1.755133,
     "end_time": "2024-08-22T05:44:03.229441",
     "exception": false,
     "start_time": "2024-08-22T05:44:01.474308",
     "status": "completed"
    },
    "tags": []
   },
   "outputs": [],
   "source": [
    "model.save('lstm_model.h5')"
   ]
  },
  {
   "cell_type": "code",
   "execution_count": null,
   "id": "42ffa461",
   "metadata": {
    "papermill": {
     "duration": 0.153156,
     "end_time": "2024-08-22T05:44:03.535243",
     "exception": false,
     "start_time": "2024-08-22T05:44:03.382087",
     "status": "completed"
    },
    "tags": []
   },
   "outputs": [],
   "source": [
    "\n"
   ]
  }
 ],
 "metadata": {
  "kaggle": {
   "accelerator": "nvidiaTeslaT4",
   "dataSources": [
    {
     "datasetId": 5557640,
     "sourceId": 9193227,
     "sourceType": "datasetVersion"
    }
   ],
   "dockerImageVersionId": 30747,
   "isGpuEnabled": true,
   "isInternetEnabled": true,
   "language": "python",
   "sourceType": "notebook"
  },
  "kernelspec": {
   "display_name": "Python 3",
   "language": "python",
   "name": "python3"
  },
  "language_info": {
   "codemirror_mode": {
    "name": "ipython",
    "version": 3
   },
   "file_extension": ".py",
   "mimetype": "text/x-python",
   "name": "python",
   "nbconvert_exporter": "python",
   "pygments_lexer": "ipython3",
   "version": "3.10.13"
  },
  "papermill": {
   "default_parameters": {},
   "duration": 2763.083968,
   "end_time": "2024-08-22T05:44:07.181275",
   "environment_variables": {},
   "exception": null,
   "input_path": "__notebook__.ipynb",
   "output_path": "__notebook__.ipynb",
   "parameters": {},
   "start_time": "2024-08-22T04:58:04.097307",
   "version": "2.5.0"
  }
 },
 "nbformat": 4,
 "nbformat_minor": 5
}
