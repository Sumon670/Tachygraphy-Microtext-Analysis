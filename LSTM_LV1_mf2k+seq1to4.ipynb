{
 "cells": [
  {
   "cell_type": "code",
   "execution_count": 1,
   "id": "ae8d5833",
   "metadata": {
    "_cell_guid": "b1076dfc-b9ad-4769-8c92-a6c4dae69d19",
    "_uuid": "8f2839f25d086af736a60e9eeb907d3b93b6e0e5",
    "execution": {
     "iopub.execute_input": "2024-08-22T04:14:42.192466Z",
     "iopub.status.busy": "2024-08-22T04:14:42.192181Z",
     "iopub.status.idle": "2024-08-22T04:14:43.447348Z",
     "shell.execute_reply": "2024-08-22T04:14:43.446103Z"
    },
    "papermill": {
     "duration": 1.266576,
     "end_time": "2024-08-22T04:14:43.450027",
     "exception": false,
     "start_time": "2024-08-22T04:14:42.183451",
     "status": "completed"
    },
    "tags": []
   },
   "outputs": [
    {
     "name": "stdout",
     "output_type": "stream",
     "text": [
      "/kaggle/input/dataset-tachygraphy/Tachygraphy_dataset_main.csv\n"
     ]
    }
   ],
   "source": [
    "# This Python 3 environment comes with many helpful analytics libraries installed\n",
    "# It is defined by the kaggle/python Docker image: https://github.com/kaggle/docker-python\n",
    "# For example, here's several helpful packages to load\n",
    "\n",
    "import numpy as np # linear algebra\n",
    "import pandas as pd # data processing, CSV file I/O (e.g. pd.read_csv)\n",
    "\n",
    "# Input data files are available in the read-only \"../input/\" directory\n",
    "# For example, running this (by clicking run or pressing Shift+Enter) will list all files under the input directory\n",
    "\n",
    "import os\n",
    "for dirname, _, filenames in os.walk('/kaggle/input'):\n",
    "    for filename in filenames:\n",
    "        print(os.path.join(dirname, filename))\n",
    "\n",
    "# You can write up to 20GB to the current directory (/kaggle/working/) that gets preserved as output when you create a version using \"Save & Run All\" \n",
    "# You can also write temporary files to /kaggle/temp/, but they won't be saved outside of the current session"
   ]
  },
  {
   "cell_type": "markdown",
   "id": "38822456",
   "metadata": {
    "papermill": {
     "duration": 0.009542,
     "end_time": "2024-08-22T04:14:43.469758",
     "exception": false,
     "start_time": "2024-08-22T04:14:43.460216",
     "status": "completed"
    },
    "tags": []
   },
   "source": [
    "**Text Preprocessing**"
   ]
  },
  {
   "cell_type": "code",
   "execution_count": 2,
   "id": "c932a789",
   "metadata": {
    "execution": {
     "iopub.execute_input": "2024-08-22T04:14:43.486449Z",
     "iopub.status.busy": "2024-08-22T04:14:43.486040Z",
     "iopub.status.idle": "2024-08-22T04:14:43.490382Z",
     "shell.execute_reply": "2024-08-22T04:14:43.489424Z"
    },
    "papermill": {
     "duration": 0.014858,
     "end_time": "2024-08-22T04:14:43.492672",
     "exception": false,
     "start_time": "2024-08-22T04:14:43.477814",
     "status": "completed"
    },
    "tags": []
   },
   "outputs": [],
   "source": [
    "import numpy as np\n",
    "import pandas as pd"
   ]
  },
  {
   "cell_type": "code",
   "execution_count": 3,
   "id": "387b08ad",
   "metadata": {
    "execution": {
     "iopub.execute_input": "2024-08-22T04:14:43.512641Z",
     "iopub.status.busy": "2024-08-22T04:14:43.512006Z",
     "iopub.status.idle": "2024-08-22T04:14:43.570167Z",
     "shell.execute_reply": "2024-08-22T04:14:43.569229Z"
    },
    "papermill": {
     "duration": 0.06976,
     "end_time": "2024-08-22T04:14:43.572425",
     "exception": false,
     "start_time": "2024-08-22T04:14:43.502665",
     "status": "completed"
    },
    "tags": []
   },
   "outputs": [
    {
     "data": {
      "text/plain": [
       "(4958, 3)"
      ]
     },
     "execution_count": 3,
     "metadata": {},
     "output_type": "execute_result"
    }
   ],
   "source": [
    "df=pd.read_csv(\"/kaggle/input/dataset-tachygraphy/Tachygraphy_dataset_main.csv\")\n",
    "df.shape"
   ]
  },
  {
   "cell_type": "code",
   "execution_count": 4,
   "id": "09459d76",
   "metadata": {
    "execution": {
     "iopub.execute_input": "2024-08-22T04:14:43.590667Z",
     "iopub.status.busy": "2024-08-22T04:14:43.590365Z",
     "iopub.status.idle": "2024-08-22T04:14:43.614580Z",
     "shell.execute_reply": "2024-08-22T04:14:43.613665Z"
    },
    "papermill": {
     "duration": 0.03588,
     "end_time": "2024-08-22T04:14:43.616461",
     "exception": false,
     "start_time": "2024-08-22T04:14:43.580581",
     "status": "completed"
    },
    "tags": []
   },
   "outputs": [
    {
     "data": {
      "text/html": [
       "<div>\n",
       "<style scoped>\n",
       "    .dataframe tbody tr th:only-of-type {\n",
       "        vertical-align: middle;\n",
       "    }\n",
       "\n",
       "    .dataframe tbody tr th {\n",
       "        vertical-align: top;\n",
       "    }\n",
       "\n",
       "    .dataframe thead th {\n",
       "        text-align: right;\n",
       "    }\n",
       "</style>\n",
       "<table border=\"1\" class=\"dataframe\">\n",
       "  <thead>\n",
       "    <tr style=\"text-align: right;\">\n",
       "      <th></th>\n",
       "      <th>Text</th>\n",
       "      <th>Meaning</th>\n",
       "      <th>Sentiment</th>\n",
       "    </tr>\n",
       "  </thead>\n",
       "  <tbody>\n",
       "    <tr>\n",
       "      <th>0</th>\n",
       "      <td>Last session of the day http://twitpic.com/67ezh</td>\n",
       "      <td>Last session of the day http://twitpic.com/67ezh</td>\n",
       "      <td>neutral</td>\n",
       "    </tr>\n",
       "    <tr>\n",
       "      <th>1</th>\n",
       "      <td>Shanghai is also really exciting (precisely --...</td>\n",
       "      <td>Shanghai is also really exciting (precisely --...</td>\n",
       "      <td>positive</td>\n",
       "    </tr>\n",
       "    <tr>\n",
       "      <th>2</th>\n",
       "      <td>submit the report ASAP!</td>\n",
       "      <td>submit the report as soon as possilbe</td>\n",
       "      <td>negative</td>\n",
       "    </tr>\n",
       "    <tr>\n",
       "      <th>3</th>\n",
       "      <td>happy bday!</td>\n",
       "      <td>Happy Birthday!</td>\n",
       "      <td>positive</td>\n",
       "    </tr>\n",
       "    <tr>\n",
       "      <th>4</th>\n",
       "      <td>The OGs - I like it!!</td>\n",
       "      <td>The original gangsters - i like it!</td>\n",
       "      <td>positive</td>\n",
       "    </tr>\n",
       "  </tbody>\n",
       "</table>\n",
       "</div>"
      ],
      "text/plain": [
       "                                                Text  \\\n",
       "0   Last session of the day http://twitpic.com/67ezh   \n",
       "1  Shanghai is also really exciting (precisely --...   \n",
       "2                            submit the report ASAP!   \n",
       "3                                        happy bday!   \n",
       "4                              The OGs - I like it!!   \n",
       "\n",
       "                                             Meaning Sentiment  \n",
       "0   Last session of the day http://twitpic.com/67ezh   neutral  \n",
       "1  Shanghai is also really exciting (precisely --...  positive  \n",
       "2              submit the report as soon as possilbe  negative  \n",
       "3                                    Happy Birthday!  positive  \n",
       "4                The original gangsters - i like it!  positive  "
      ]
     },
     "execution_count": 4,
     "metadata": {},
     "output_type": "execute_result"
    }
   ],
   "source": [
    "df.head()"
   ]
  },
  {
   "cell_type": "code",
   "execution_count": 5,
   "id": "831d1641",
   "metadata": {
    "execution": {
     "iopub.execute_input": "2024-08-22T04:14:43.633002Z",
     "iopub.status.busy": "2024-08-22T04:14:43.632326Z",
     "iopub.status.idle": "2024-08-22T04:14:43.664586Z",
     "shell.execute_reply": "2024-08-22T04:14:43.663706Z"
    },
    "papermill": {
     "duration": 0.042704,
     "end_time": "2024-08-22T04:14:43.666654",
     "exception": false,
     "start_time": "2024-08-22T04:14:43.623950",
     "status": "completed"
    },
    "tags": []
   },
   "outputs": [
    {
     "data": {
      "text/plain": [
       "class\n",
       "neutral     1743\n",
       "positive    1643\n",
       "negative    1572\n",
       "Name: count, dtype: int64"
      ]
     },
     "execution_count": 5,
     "metadata": {},
     "output_type": "execute_result"
    }
   ],
   "source": [
    "df=df.drop('Meaning',axis=1)\n",
    "df = df.rename(columns={'Text': 'tweet'})\n",
    "df = df.rename(columns={'Sentiment': 'class'})\n",
    "df['class'] = df['class'].str.lower()\n",
    "sentiment_counts = df['class'].value_counts()\n",
    "sentiment_counts"
   ]
  },
  {
   "cell_type": "code",
   "execution_count": 6,
   "id": "95dab7da",
   "metadata": {
    "execution": {
     "iopub.execute_input": "2024-08-22T04:14:43.683567Z",
     "iopub.status.busy": "2024-08-22T04:14:43.682878Z",
     "iopub.status.idle": "2024-08-22T04:14:43.693564Z",
     "shell.execute_reply": "2024-08-22T04:14:43.692745Z"
    },
    "papermill": {
     "duration": 0.021154,
     "end_time": "2024-08-22T04:14:43.695465",
     "exception": false,
     "start_time": "2024-08-22T04:14:43.674311",
     "status": "completed"
    },
    "tags": []
   },
   "outputs": [
    {
     "data": {
      "text/plain": [
       "tweet    1\n",
       "class    0\n",
       "dtype: int64"
      ]
     },
     "execution_count": 6,
     "metadata": {},
     "output_type": "execute_result"
    }
   ],
   "source": [
    "df.isnull().sum()"
   ]
  },
  {
   "cell_type": "code",
   "execution_count": 7,
   "id": "1d551c0b",
   "metadata": {
    "execution": {
     "iopub.execute_input": "2024-08-22T04:14:43.712494Z",
     "iopub.status.busy": "2024-08-22T04:14:43.711766Z",
     "iopub.status.idle": "2024-08-22T04:14:43.718415Z",
     "shell.execute_reply": "2024-08-22T04:14:43.717558Z"
    },
    "papermill": {
     "duration": 0.017295,
     "end_time": "2024-08-22T04:14:43.720508",
     "exception": false,
     "start_time": "2024-08-22T04:14:43.703213",
     "status": "completed"
    },
    "tags": []
   },
   "outputs": [],
   "source": [
    "df=df.fillna('')"
   ]
  },
  {
   "cell_type": "code",
   "execution_count": 8,
   "id": "4cf7a259",
   "metadata": {
    "execution": {
     "iopub.execute_input": "2024-08-22T04:14:43.738719Z",
     "iopub.status.busy": "2024-08-22T04:14:43.738348Z",
     "iopub.status.idle": "2024-08-22T04:14:43.996703Z",
     "shell.execute_reply": "2024-08-22T04:14:43.995821Z"
    },
    "papermill": {
     "duration": 0.269497,
     "end_time": "2024-08-22T04:14:43.998879",
     "exception": false,
     "start_time": "2024-08-22T04:14:43.729382",
     "status": "completed"
    },
    "tags": []
   },
   "outputs": [],
   "source": [
    "import re\n",
    "from bs4 import BeautifulSoup\n",
    "\n",
    "def text_cleaning(text):\n",
    "    text = str(text)\n",
    "    soup = BeautifulSoup(text, \"html.parser\")    ###removing html tages\n",
    "    text = re.sub(r'\\[[^]]*\\]', '', soup.get_text())      ##removing text within square brackets\n",
    "    pattern = r\"[^a-zA-Z0-9\\s,']\"                  # Removing unwanted characters\n",
    "    text = re.sub(pattern, '', text)\n",
    "    url_pattern = r'http\\S+|www\\S+'            ###removing urls\n",
    "    text = re.sub(url_pattern, '', text)\n",
    "    return text"
   ]
  },
  {
   "cell_type": "code",
   "execution_count": 9,
   "id": "fb1ad1a5",
   "metadata": {
    "execution": {
     "iopub.execute_input": "2024-08-22T04:14:44.016420Z",
     "iopub.status.busy": "2024-08-22T04:14:44.015547Z",
     "iopub.status.idle": "2024-08-22T04:14:44.301957Z",
     "shell.execute_reply": "2024-08-22T04:14:44.301164Z"
    },
    "papermill": {
     "duration": 0.297547,
     "end_time": "2024-08-22T04:14:44.304299",
     "exception": false,
     "start_time": "2024-08-22T04:14:44.006752",
     "status": "completed"
    },
    "tags": []
   },
   "outputs": [
    {
     "name": "stderr",
     "output_type": "stream",
     "text": [
      "/tmp/ipykernel_24/2827669698.py:6: MarkupResemblesLocatorWarning: The input looks more like a filename than markup. You may want to open this file and pass the filehandle into Beautiful Soup.\n",
      "  soup = BeautifulSoup(text, \"html.parser\")    ###removing html tages\n"
     ]
    }
   ],
   "source": [
    "df['tweet']=df['tweet'].apply(text_cleaning).tolist()"
   ]
  },
  {
   "cell_type": "code",
   "execution_count": 10,
   "id": "ae33bb4b",
   "metadata": {
    "execution": {
     "iopub.execute_input": "2024-08-22T04:14:44.324594Z",
     "iopub.status.busy": "2024-08-22T04:14:44.324246Z",
     "iopub.status.idle": "2024-08-22T04:15:04.912035Z",
     "shell.execute_reply": "2024-08-22T04:15:04.911150Z"
    },
    "papermill": {
     "duration": 20.599228,
     "end_time": "2024-08-22T04:15:04.914455",
     "exception": false,
     "start_time": "2024-08-22T04:14:44.315227",
     "status": "completed"
    },
    "tags": []
   },
   "outputs": [
    {
     "name": "stderr",
     "output_type": "stream",
     "text": [
      "2024-08-22 04:14:49.992072: E external/local_xla/xla/stream_executor/cuda/cuda_dnn.cc:9261] Unable to register cuDNN factory: Attempting to register factory for plugin cuDNN when one has already been registered\n",
      "2024-08-22 04:14:49.992179: E external/local_xla/xla/stream_executor/cuda/cuda_fft.cc:607] Unable to register cuFFT factory: Attempting to register factory for plugin cuFFT when one has already been registered\n",
      "2024-08-22 04:14:50.301246: E external/local_xla/xla/stream_executor/cuda/cuda_blas.cc:1515] Unable to register cuBLAS factory: Attempting to register factory for plugin cuBLAS when one has already been registered\n"
     ]
    }
   ],
   "source": [
    "from sklearn.feature_extraction.text import CountVectorizer\n",
    "from keras.models import Sequential\n",
    "from keras.layers import Dense, Embedding, LSTM, SpatialDropout1D\n",
    "from sklearn.model_selection import train_test_split\n",
    "import re"
   ]
  },
  {
   "cell_type": "code",
   "execution_count": 11,
   "id": "744b1bc9",
   "metadata": {
    "execution": {
     "iopub.execute_input": "2024-08-22T04:15:04.934473Z",
     "iopub.status.busy": "2024-08-22T04:15:04.933858Z",
     "iopub.status.idle": "2024-08-22T04:15:04.991452Z",
     "shell.execute_reply": "2024-08-22T04:15:04.990684Z"
    },
    "papermill": {
     "duration": 0.069709,
     "end_time": "2024-08-22T04:15:04.993557",
     "exception": false,
     "start_time": "2024-08-22T04:15:04.923848",
     "status": "completed"
    },
    "tags": []
   },
   "outputs": [],
   "source": [
    "import tensorflow as tf\n",
    "from tensorflow.keras.preprocessing.text import Tokenizer\n",
    "from tensorflow.keras.preprocessing.sequence import pad_sequences\n",
    "from tensorflow.keras.utils import to_categorical"
   ]
  },
  {
   "cell_type": "code",
   "execution_count": 12,
   "id": "66f4180d",
   "metadata": {
    "execution": {
     "iopub.execute_input": "2024-08-22T04:15:05.011350Z",
     "iopub.status.busy": "2024-08-22T04:15:05.011042Z",
     "iopub.status.idle": "2024-08-22T04:15:05.015789Z",
     "shell.execute_reply": "2024-08-22T04:15:05.014874Z"
    },
    "papermill": {
     "duration": 0.015891,
     "end_time": "2024-08-22T04:15:05.017747",
     "exception": false,
     "start_time": "2024-08-22T04:15:05.001856",
     "status": "completed"
    },
    "tags": []
   },
   "outputs": [],
   "source": [
    "import tensorflow as tf\n",
    "from tensorflow.keras.preprocessing.text import Tokenizer\n",
    "from tensorflow.keras.preprocessing.sequence import pad_sequences\n",
    "from tensorflow.keras.utils import to_categorical"
   ]
  },
  {
   "cell_type": "code",
   "execution_count": 13,
   "id": "4825efa7",
   "metadata": {
    "execution": {
     "iopub.execute_input": "2024-08-22T04:15:05.035358Z",
     "iopub.status.busy": "2024-08-22T04:15:05.035062Z",
     "iopub.status.idle": "2024-08-22T04:15:05.040765Z",
     "shell.execute_reply": "2024-08-22T04:15:05.039958Z"
    },
    "papermill": {
     "duration": 0.016642,
     "end_time": "2024-08-22T04:15:05.042650",
     "exception": false,
     "start_time": "2024-08-22T04:15:05.026008",
     "status": "completed"
    },
    "tags": []
   },
   "outputs": [
    {
     "data": {
      "text/plain": [
       "dtype('O')"
      ]
     },
     "execution_count": 13,
     "metadata": {},
     "output_type": "execute_result"
    }
   ],
   "source": [
    "df['tweet'].dtype"
   ]
  },
  {
   "cell_type": "code",
   "execution_count": 14,
   "id": "0a293651",
   "metadata": {
    "execution": {
     "iopub.execute_input": "2024-08-22T04:15:05.060183Z",
     "iopub.status.busy": "2024-08-22T04:15:05.059941Z",
     "iopub.status.idle": "2024-08-22T04:15:05.065512Z",
     "shell.execute_reply": "2024-08-22T04:15:05.064649Z"
    },
    "papermill": {
     "duration": 0.016374,
     "end_time": "2024-08-22T04:15:05.067309",
     "exception": false,
     "start_time": "2024-08-22T04:15:05.050935",
     "status": "completed"
    },
    "tags": []
   },
   "outputs": [
    {
     "data": {
      "text/plain": [
       "dtype('O')"
      ]
     },
     "execution_count": 14,
     "metadata": {},
     "output_type": "execute_result"
    }
   ],
   "source": [
    "df['class'].dtype"
   ]
  },
  {
   "cell_type": "code",
   "execution_count": 15,
   "id": "1f389761",
   "metadata": {
    "execution": {
     "iopub.execute_input": "2024-08-22T04:15:05.085100Z",
     "iopub.status.busy": "2024-08-22T04:15:05.084808Z",
     "iopub.status.idle": "2024-08-22T04:15:05.093955Z",
     "shell.execute_reply": "2024-08-22T04:15:05.093175Z"
    },
    "papermill": {
     "duration": 0.020092,
     "end_time": "2024-08-22T04:15:05.095931",
     "exception": false,
     "start_time": "2024-08-22T04:15:05.075839",
     "status": "completed"
    },
    "tags": []
   },
   "outputs": [
    {
     "data": {
      "text/html": [
       "<div>\n",
       "<style scoped>\n",
       "    .dataframe tbody tr th:only-of-type {\n",
       "        vertical-align: middle;\n",
       "    }\n",
       "\n",
       "    .dataframe tbody tr th {\n",
       "        vertical-align: top;\n",
       "    }\n",
       "\n",
       "    .dataframe thead th {\n",
       "        text-align: right;\n",
       "    }\n",
       "</style>\n",
       "<table border=\"1\" class=\"dataframe\">\n",
       "  <thead>\n",
       "    <tr style=\"text-align: right;\">\n",
       "      <th></th>\n",
       "      <th>tweet</th>\n",
       "      <th>class</th>\n",
       "    </tr>\n",
       "  </thead>\n",
       "  <tbody>\n",
       "    <tr>\n",
       "      <th>4948</th>\n",
       "      <td>time flies by when you're facetiming the bae</td>\n",
       "      <td>positive</td>\n",
       "    </tr>\n",
       "    <tr>\n",
       "      <th>4949</th>\n",
       "      <td>U dont know how I feel about this</td>\n",
       "      <td>negative</td>\n",
       "    </tr>\n",
       "    <tr>\n",
       "      <th>4950</th>\n",
       "      <td>come to my job I'll give you a baconator lol</td>\n",
       "      <td>positive</td>\n",
       "    </tr>\n",
       "    <tr>\n",
       "      <th>4951</th>\n",
       "      <td>Rihanna just made Maya Angelou her avi  you're...</td>\n",
       "      <td>negative</td>\n",
       "    </tr>\n",
       "    <tr>\n",
       "      <th>4952</th>\n",
       "      <td>im the lil bitch in the theaters tryna hold ba...</td>\n",
       "      <td>negative</td>\n",
       "    </tr>\n",
       "    <tr>\n",
       "      <th>4953</th>\n",
       "      <td>make a pet face  wtf wrong with me tonight haha</td>\n",
       "      <td>negative</td>\n",
       "    </tr>\n",
       "    <tr>\n",
       "      <th>4954</th>\n",
       "      <td>I dnt care anymore  Boyz ain't worth d drama</td>\n",
       "      <td>negative</td>\n",
       "    </tr>\n",
       "    <tr>\n",
       "      <th>4955</th>\n",
       "      <td>No relationship is perfect tho me bae goo from...</td>\n",
       "      <td>negative</td>\n",
       "    </tr>\n",
       "    <tr>\n",
       "      <th>4956</th>\n",
       "      <td>Over here tryna get my nail polishes and shit lol</td>\n",
       "      <td>negative</td>\n",
       "    </tr>\n",
       "    <tr>\n",
       "      <th>4957</th>\n",
       "      <td>No one was loved d way i luv U</td>\n",
       "      <td>positive</td>\n",
       "    </tr>\n",
       "  </tbody>\n",
       "</table>\n",
       "</div>"
      ],
      "text/plain": [
       "                                                  tweet     class\n",
       "4948       time flies by when you're facetiming the bae  positive\n",
       "4949                  U dont know how I feel about this  negative\n",
       "4950       come to my job I'll give you a baconator lol  positive\n",
       "4951  Rihanna just made Maya Angelou her avi  you're...  negative\n",
       "4952  im the lil bitch in the theaters tryna hold ba...  negative\n",
       "4953    make a pet face  wtf wrong with me tonight haha  negative\n",
       "4954      I dnt care anymore  Boyz ain't worth d drama   negative\n",
       "4955  No relationship is perfect tho me bae goo from...  negative\n",
       "4956  Over here tryna get my nail polishes and shit lol  negative\n",
       "4957                     No one was loved d way i luv U  positive"
      ]
     },
     "execution_count": 15,
     "metadata": {},
     "output_type": "execute_result"
    }
   ],
   "source": [
    "df.tail(10)"
   ]
  },
  {
   "cell_type": "code",
   "execution_count": 16,
   "id": "ef381eb7",
   "metadata": {
    "execution": {
     "iopub.execute_input": "2024-08-22T04:15:05.113516Z",
     "iopub.status.busy": "2024-08-22T04:15:05.113251Z",
     "iopub.status.idle": "2024-08-22T04:15:05.669772Z",
     "shell.execute_reply": "2024-08-22T04:15:05.669013Z"
    },
    "papermill": {
     "duration": 0.567602,
     "end_time": "2024-08-22T04:15:05.671840",
     "exception": false,
     "start_time": "2024-08-22T04:15:05.104238",
     "status": "completed"
    },
    "tags": []
   },
   "outputs": [
    {
     "name": "stdout",
     "output_type": "stream",
     "text": [
      "3286\n",
      "3144\n"
     ]
    },
    {
     "name": "stderr",
     "output_type": "stream",
     "text": [
      "/tmp/ipykernel_24/1180210649.py:8: FutureWarning: Series.__getitem__ treating keys as positions is deprecated. In a future version, integer keys will always be treated as labels (consistent with DataFrame behavior). To access a value by position, use `ser.iloc[pos]`\n",
      "  row[0] = row[0].replace('rt',' ')\n",
      "/tmp/ipykernel_24/1180210649.py:8: FutureWarning: Series.__setitem__ treating keys as positions is deprecated. In a future version, integer keys will always be treated as labels (consistent with DataFrame behavior). To set a value by position, use `ser.iloc[pos] = value`\n",
      "  row[0] = row[0].replace('rt',' ')\n"
     ]
    }
   ],
   "source": [
    "df = df[df['class'] != \"neutral\"]  ###droping neutral columns\n",
    "df['tweet'] = df['tweet'].apply(lambda x: x.lower())\n",
    "\n",
    "print(df[ df['class'] == 'positive'].size)\n",
    "print(df[ df['class'] == 'negative'].size)\n",
    "\n",
    "for idx,row in df.iterrows():\n",
    "    row[0] = row[0].replace('rt',' ')\n",
    "    \n",
    "max_fatures = 2000\n",
    "tokenizer = Tokenizer(num_words=max_fatures, split=' ')\n",
    "tokenizer.fit_on_texts(df['tweet'].values)\n",
    "X = tokenizer.texts_to_sequences(df['tweet'].values)\n",
    "X = pad_sequences(X)"
   ]
  },
  {
   "cell_type": "code",
   "execution_count": 17,
   "id": "d4606593",
   "metadata": {
    "execution": {
     "iopub.execute_input": "2024-08-22T04:15:05.690656Z",
     "iopub.status.busy": "2024-08-22T04:15:05.690371Z",
     "iopub.status.idle": "2024-08-22T04:15:06.806795Z",
     "shell.execute_reply": "2024-08-22T04:15:06.805769Z"
    },
    "papermill": {
     "duration": 1.128821,
     "end_time": "2024-08-22T04:15:06.809494",
     "exception": false,
     "start_time": "2024-08-22T04:15:05.680673",
     "status": "completed"
    },
    "tags": []
   },
   "outputs": [
    {
     "name": "stderr",
     "output_type": "stream",
     "text": [
      "/opt/conda/lib/python3.10/site-packages/keras/src/layers/core/embedding.py:90: UserWarning: Argument `input_length` is deprecated. Just remove it.\n",
      "  warnings.warn(\n"
     ]
    },
    {
     "data": {
      "text/html": [
       "<pre style=\"white-space:pre;overflow-x:auto;line-height:normal;font-family:Menlo,'DejaVu Sans Mono',consolas,'Courier New',monospace\"><span style=\"font-weight: bold\">Model: \"sequential\"</span>\n",
       "</pre>\n"
      ],
      "text/plain": [
       "\u001b[1mModel: \"sequential\"\u001b[0m\n"
      ]
     },
     "metadata": {},
     "output_type": "display_data"
    },
    {
     "data": {
      "text/html": [
       "<pre style=\"white-space:pre;overflow-x:auto;line-height:normal;font-family:Menlo,'DejaVu Sans Mono',consolas,'Courier New',monospace\">┏━━━━━━━━━━━━━━━━━━━━━━━━━━━━━━━━━┳━━━━━━━━━━━━━━━━━━━━━━━━┳━━━━━━━━━━━━━━━┓\n",
       "┃<span style=\"font-weight: bold\"> Layer (type)                    </span>┃<span style=\"font-weight: bold\"> Output Shape           </span>┃<span style=\"font-weight: bold\">       Param # </span>┃\n",
       "┡━━━━━━━━━━━━━━━━━━━━━━━━━━━━━━━━━╇━━━━━━━━━━━━━━━━━━━━━━━━╇━━━━━━━━━━━━━━━┩\n",
       "│ embedding (<span style=\"color: #0087ff; text-decoration-color: #0087ff\">Embedding</span>)           │ ?                      │   <span style=\"color: #00af00; text-decoration-color: #00af00\">0</span> (unbuilt) │\n",
       "├─────────────────────────────────┼────────────────────────┼───────────────┤\n",
       "│ spatial_dropout1d               │ ?                      │   <span style=\"color: #00af00; text-decoration-color: #00af00\">0</span> (unbuilt) │\n",
       "│ (<span style=\"color: #0087ff; text-decoration-color: #0087ff\">SpatialDropout1D</span>)              │                        │               │\n",
       "├─────────────────────────────────┼────────────────────────┼───────────────┤\n",
       "│ lstm (<span style=\"color: #0087ff; text-decoration-color: #0087ff\">LSTM</span>)                     │ ?                      │   <span style=\"color: #00af00; text-decoration-color: #00af00\">0</span> (unbuilt) │\n",
       "├─────────────────────────────────┼────────────────────────┼───────────────┤\n",
       "│ dense (<span style=\"color: #0087ff; text-decoration-color: #0087ff\">Dense</span>)                   │ ?                      │   <span style=\"color: #00af00; text-decoration-color: #00af00\">0</span> (unbuilt) │\n",
       "└─────────────────────────────────┴────────────────────────┴───────────────┘\n",
       "</pre>\n"
      ],
      "text/plain": [
       "┏━━━━━━━━━━━━━━━━━━━━━━━━━━━━━━━━━┳━━━━━━━━━━━━━━━━━━━━━━━━┳━━━━━━━━━━━━━━━┓\n",
       "┃\u001b[1m \u001b[0m\u001b[1mLayer (type)                   \u001b[0m\u001b[1m \u001b[0m┃\u001b[1m \u001b[0m\u001b[1mOutput Shape          \u001b[0m\u001b[1m \u001b[0m┃\u001b[1m \u001b[0m\u001b[1m      Param #\u001b[0m\u001b[1m \u001b[0m┃\n",
       "┡━━━━━━━━━━━━━━━━━━━━━━━━━━━━━━━━━╇━━━━━━━━━━━━━━━━━━━━━━━━╇━━━━━━━━━━━━━━━┩\n",
       "│ embedding (\u001b[38;5;33mEmbedding\u001b[0m)           │ ?                      │   \u001b[38;5;34m0\u001b[0m (unbuilt) │\n",
       "├─────────────────────────────────┼────────────────────────┼───────────────┤\n",
       "│ spatial_dropout1d               │ ?                      │   \u001b[38;5;34m0\u001b[0m (unbuilt) │\n",
       "│ (\u001b[38;5;33mSpatialDropout1D\u001b[0m)              │                        │               │\n",
       "├─────────────────────────────────┼────────────────────────┼───────────────┤\n",
       "│ lstm (\u001b[38;5;33mLSTM\u001b[0m)                     │ ?                      │   \u001b[38;5;34m0\u001b[0m (unbuilt) │\n",
       "├─────────────────────────────────┼────────────────────────┼───────────────┤\n",
       "│ dense (\u001b[38;5;33mDense\u001b[0m)                   │ ?                      │   \u001b[38;5;34m0\u001b[0m (unbuilt) │\n",
       "└─────────────────────────────────┴────────────────────────┴───────────────┘\n"
      ]
     },
     "metadata": {},
     "output_type": "display_data"
    },
    {
     "data": {
      "text/html": [
       "<pre style=\"white-space:pre;overflow-x:auto;line-height:normal;font-family:Menlo,'DejaVu Sans Mono',consolas,'Courier New',monospace\"><span style=\"font-weight: bold\"> Total params: </span><span style=\"color: #00af00; text-decoration-color: #00af00\">0</span> (0.00 B)\n",
       "</pre>\n"
      ],
      "text/plain": [
       "\u001b[1m Total params: \u001b[0m\u001b[38;5;34m0\u001b[0m (0.00 B)\n"
      ]
     },
     "metadata": {},
     "output_type": "display_data"
    },
    {
     "data": {
      "text/html": [
       "<pre style=\"white-space:pre;overflow-x:auto;line-height:normal;font-family:Menlo,'DejaVu Sans Mono',consolas,'Courier New',monospace\"><span style=\"font-weight: bold\"> Trainable params: </span><span style=\"color: #00af00; text-decoration-color: #00af00\">0</span> (0.00 B)\n",
       "</pre>\n"
      ],
      "text/plain": [
       "\u001b[1m Trainable params: \u001b[0m\u001b[38;5;34m0\u001b[0m (0.00 B)\n"
      ]
     },
     "metadata": {},
     "output_type": "display_data"
    },
    {
     "data": {
      "text/html": [
       "<pre style=\"white-space:pre;overflow-x:auto;line-height:normal;font-family:Menlo,'DejaVu Sans Mono',consolas,'Courier New',monospace\"><span style=\"font-weight: bold\"> Non-trainable params: </span><span style=\"color: #00af00; text-decoration-color: #00af00\">0</span> (0.00 B)\n",
       "</pre>\n"
      ],
      "text/plain": [
       "\u001b[1m Non-trainable params: \u001b[0m\u001b[38;5;34m0\u001b[0m (0.00 B)\n"
      ]
     },
     "metadata": {},
     "output_type": "display_data"
    },
    {
     "name": "stdout",
     "output_type": "stream",
     "text": [
      "None\n"
     ]
    }
   ],
   "source": [
    "from tensorflow.keras.models import Sequential\n",
    "from tensorflow.keras.layers import Embedding, SpatialDropout1D, LSTM, Dense\n",
    "\n",
    "max_features = 2000  \n",
    "\n",
    "embed_dim = 128 \n",
    "lstm_out = 64  \n",
    "\n",
    "model = Sequential()\n",
    "model.add(Embedding(max_features, embed_dim, input_length=X.shape[1]))\n",
    "model.add(SpatialDropout1D(0.2))\n",
    "model.add(LSTM(lstm_out, dropout=0.2, recurrent_dropout=0.2))\n",
    "model.add(Dense(2, activation='softmax'))  # Assuming 2 classes for classification\n",
    "\n",
    "model.compile(loss='categorical_crossentropy', optimizer='adam', metrics=['accuracy'])\n",
    "print(model.summary())"
   ]
  },
  {
   "cell_type": "code",
   "execution_count": 18,
   "id": "f5c3c794",
   "metadata": {
    "execution": {
     "iopub.execute_input": "2024-08-22T04:15:06.832363Z",
     "iopub.status.busy": "2024-08-22T04:15:06.831786Z",
     "iopub.status.idle": "2024-08-22T04:15:06.848549Z",
     "shell.execute_reply": "2024-08-22T04:15:06.847544Z"
    },
    "papermill": {
     "duration": 0.030059,
     "end_time": "2024-08-22T04:15:06.850417",
     "exception": false,
     "start_time": "2024-08-22T04:15:06.820358",
     "status": "completed"
    },
    "tags": []
   },
   "outputs": [
    {
     "data": {
      "text/html": [
       "<pre style=\"white-space:pre;overflow-x:auto;line-height:normal;font-family:Menlo,'DejaVu Sans Mono',consolas,'Courier New',monospace\"><span style=\"font-weight: bold\">Model: \"sequential\"</span>\n",
       "</pre>\n"
      ],
      "text/plain": [
       "\u001b[1mModel: \"sequential\"\u001b[0m\n"
      ]
     },
     "metadata": {},
     "output_type": "display_data"
    },
    {
     "data": {
      "text/html": [
       "<pre style=\"white-space:pre;overflow-x:auto;line-height:normal;font-family:Menlo,'DejaVu Sans Mono',consolas,'Courier New',monospace\">┏━━━━━━━━━━━━━━━━━━━━━━━━━━━━━━━━━┳━━━━━━━━━━━━━━━━━━━━━━━━┳━━━━━━━━━━━━━━━┓\n",
       "┃<span style=\"font-weight: bold\"> Layer (type)                    </span>┃<span style=\"font-weight: bold\"> Output Shape           </span>┃<span style=\"font-weight: bold\">       Param # </span>┃\n",
       "┡━━━━━━━━━━━━━━━━━━━━━━━━━━━━━━━━━╇━━━━━━━━━━━━━━━━━━━━━━━━╇━━━━━━━━━━━━━━━┩\n",
       "│ embedding (<span style=\"color: #0087ff; text-decoration-color: #0087ff\">Embedding</span>)           │ ?                      │   <span style=\"color: #00af00; text-decoration-color: #00af00\">0</span> (unbuilt) │\n",
       "├─────────────────────────────────┼────────────────────────┼───────────────┤\n",
       "│ spatial_dropout1d               │ ?                      │   <span style=\"color: #00af00; text-decoration-color: #00af00\">0</span> (unbuilt) │\n",
       "│ (<span style=\"color: #0087ff; text-decoration-color: #0087ff\">SpatialDropout1D</span>)              │                        │               │\n",
       "├─────────────────────────────────┼────────────────────────┼───────────────┤\n",
       "│ lstm (<span style=\"color: #0087ff; text-decoration-color: #0087ff\">LSTM</span>)                     │ ?                      │   <span style=\"color: #00af00; text-decoration-color: #00af00\">0</span> (unbuilt) │\n",
       "├─────────────────────────────────┼────────────────────────┼───────────────┤\n",
       "│ dense (<span style=\"color: #0087ff; text-decoration-color: #0087ff\">Dense</span>)                   │ ?                      │   <span style=\"color: #00af00; text-decoration-color: #00af00\">0</span> (unbuilt) │\n",
       "└─────────────────────────────────┴────────────────────────┴───────────────┘\n",
       "</pre>\n"
      ],
      "text/plain": [
       "┏━━━━━━━━━━━━━━━━━━━━━━━━━━━━━━━━━┳━━━━━━━━━━━━━━━━━━━━━━━━┳━━━━━━━━━━━━━━━┓\n",
       "┃\u001b[1m \u001b[0m\u001b[1mLayer (type)                   \u001b[0m\u001b[1m \u001b[0m┃\u001b[1m \u001b[0m\u001b[1mOutput Shape          \u001b[0m\u001b[1m \u001b[0m┃\u001b[1m \u001b[0m\u001b[1m      Param #\u001b[0m\u001b[1m \u001b[0m┃\n",
       "┡━━━━━━━━━━━━━━━━━━━━━━━━━━━━━━━━━╇━━━━━━━━━━━━━━━━━━━━━━━━╇━━━━━━━━━━━━━━━┩\n",
       "│ embedding (\u001b[38;5;33mEmbedding\u001b[0m)           │ ?                      │   \u001b[38;5;34m0\u001b[0m (unbuilt) │\n",
       "├─────────────────────────────────┼────────────────────────┼───────────────┤\n",
       "│ spatial_dropout1d               │ ?                      │   \u001b[38;5;34m0\u001b[0m (unbuilt) │\n",
       "│ (\u001b[38;5;33mSpatialDropout1D\u001b[0m)              │                        │               │\n",
       "├─────────────────────────────────┼────────────────────────┼───────────────┤\n",
       "│ lstm (\u001b[38;5;33mLSTM\u001b[0m)                     │ ?                      │   \u001b[38;5;34m0\u001b[0m (unbuilt) │\n",
       "├─────────────────────────────────┼────────────────────────┼───────────────┤\n",
       "│ dense (\u001b[38;5;33mDense\u001b[0m)                   │ ?                      │   \u001b[38;5;34m0\u001b[0m (unbuilt) │\n",
       "└─────────────────────────────────┴────────────────────────┴───────────────┘\n"
      ]
     },
     "metadata": {},
     "output_type": "display_data"
    },
    {
     "data": {
      "text/html": [
       "<pre style=\"white-space:pre;overflow-x:auto;line-height:normal;font-family:Menlo,'DejaVu Sans Mono',consolas,'Courier New',monospace\"><span style=\"font-weight: bold\"> Total params: </span><span style=\"color: #00af00; text-decoration-color: #00af00\">0</span> (0.00 B)\n",
       "</pre>\n"
      ],
      "text/plain": [
       "\u001b[1m Total params: \u001b[0m\u001b[38;5;34m0\u001b[0m (0.00 B)\n"
      ]
     },
     "metadata": {},
     "output_type": "display_data"
    },
    {
     "data": {
      "text/html": [
       "<pre style=\"white-space:pre;overflow-x:auto;line-height:normal;font-family:Menlo,'DejaVu Sans Mono',consolas,'Courier New',monospace\"><span style=\"font-weight: bold\"> Trainable params: </span><span style=\"color: #00af00; text-decoration-color: #00af00\">0</span> (0.00 B)\n",
       "</pre>\n"
      ],
      "text/plain": [
       "\u001b[1m Trainable params: \u001b[0m\u001b[38;5;34m0\u001b[0m (0.00 B)\n"
      ]
     },
     "metadata": {},
     "output_type": "display_data"
    },
    {
     "data": {
      "text/html": [
       "<pre style=\"white-space:pre;overflow-x:auto;line-height:normal;font-family:Menlo,'DejaVu Sans Mono',consolas,'Courier New',monospace\"><span style=\"font-weight: bold\"> Non-trainable params: </span><span style=\"color: #00af00; text-decoration-color: #00af00\">0</span> (0.00 B)\n",
       "</pre>\n"
      ],
      "text/plain": [
       "\u001b[1m Non-trainable params: \u001b[0m\u001b[38;5;34m0\u001b[0m (0.00 B)\n"
      ]
     },
     "metadata": {},
     "output_type": "display_data"
    },
    {
     "name": "stdout",
     "output_type": "stream",
     "text": [
      "None\n"
     ]
    }
   ],
   "source": [
    "print(model.summary())"
   ]
  },
  {
   "cell_type": "code",
   "execution_count": 19,
   "id": "1983e4dd",
   "metadata": {
    "execution": {
     "iopub.execute_input": "2024-08-22T04:15:06.872531Z",
     "iopub.status.busy": "2024-08-22T04:15:06.872286Z",
     "iopub.status.idle": "2024-08-22T04:15:06.884590Z",
     "shell.execute_reply": "2024-08-22T04:15:06.883787Z"
    },
    "papermill": {
     "duration": 0.025222,
     "end_time": "2024-08-22T04:15:06.886410",
     "exception": false,
     "start_time": "2024-08-22T04:15:06.861188",
     "status": "completed"
    },
    "tags": []
   },
   "outputs": [
    {
     "name": "stdout",
     "output_type": "stream",
     "text": [
      "(2572, 29) (2572, 2)\n",
      "(643, 29) (643, 2)\n"
     ]
    }
   ],
   "source": [
    "Y = pd.get_dummies(df['class']).values\n",
    "X_train, X_test, Y_train, Y_test = train_test_split(X,Y, test_size = 0.2, random_state = 42)\n",
    "print(X_train.shape,Y_train.shape)\n",
    "print(X_test.shape,Y_test.shape)"
   ]
  },
  {
   "cell_type": "code",
   "execution_count": 20,
   "id": "08ab61f6",
   "metadata": {
    "execution": {
     "iopub.execute_input": "2024-08-22T04:15:06.908373Z",
     "iopub.status.busy": "2024-08-22T04:15:06.908098Z",
     "iopub.status.idle": "2024-08-22T04:15:44.457701Z",
     "shell.execute_reply": "2024-08-22T04:15:44.456818Z"
    },
    "papermill": {
     "duration": 37.562607,
     "end_time": "2024-08-22T04:15:44.459619",
     "exception": false,
     "start_time": "2024-08-22T04:15:06.897012",
     "status": "completed"
    },
    "tags": []
   },
   "outputs": [
    {
     "name": "stdout",
     "output_type": "stream",
     "text": [
      "Epoch 1/10\n",
      "81/81 - 9s - 113ms/step - accuracy: 0.6003 - loss: 0.6654\n",
      "Epoch 2/10\n",
      "81/81 - 3s - 36ms/step - accuracy: 0.8005 - loss: 0.4360\n",
      "Epoch 3/10\n",
      "81/81 - 3s - 35ms/step - accuracy: 0.8659 - loss: 0.3031\n",
      "Epoch 4/10\n",
      "81/81 - 3s - 35ms/step - accuracy: 0.9063 - loss: 0.2286\n",
      "Epoch 5/10\n",
      "81/81 - 3s - 36ms/step - accuracy: 0.9288 - loss: 0.1810\n",
      "Epoch 6/10\n",
      "81/81 - 3s - 35ms/step - accuracy: 0.9432 - loss: 0.1465\n",
      "Epoch 7/10\n",
      "81/81 - 3s - 37ms/step - accuracy: 0.9565 - loss: 0.1198\n",
      "Epoch 8/10\n",
      "81/81 - 3s - 36ms/step - accuracy: 0.9677 - loss: 0.0908\n",
      "Epoch 9/10\n",
      "81/81 - 5s - 63ms/step - accuracy: 0.9705 - loss: 0.0761\n",
      "Epoch 10/10\n",
      "81/81 - 3s - 36ms/step - accuracy: 0.9685 - loss: 0.0785\n"
     ]
    },
    {
     "data": {
      "text/plain": [
       "<keras.src.callbacks.history.History at 0x7ae06a6390c0>"
      ]
     },
     "execution_count": 20,
     "metadata": {},
     "output_type": "execute_result"
    }
   ],
   "source": [
    "batch_size = 32\n",
    "model.fit(X_train, Y_train, epochs = 10, batch_size=batch_size, verbose = 2)"
   ]
  },
  {
   "cell_type": "code",
   "execution_count": 21,
   "id": "1f4ac0df",
   "metadata": {
    "execution": {
     "iopub.execute_input": "2024-08-22T04:15:44.484671Z",
     "iopub.status.busy": "2024-08-22T04:15:44.484390Z",
     "iopub.status.idle": "2024-08-22T04:15:44.883235Z",
     "shell.execute_reply": "2024-08-22T04:15:44.882335Z"
    },
    "papermill": {
     "duration": 0.413565,
     "end_time": "2024-08-22T04:15:44.885129",
     "exception": false,
     "start_time": "2024-08-22T04:15:44.471564",
     "status": "completed"
    },
    "tags": []
   },
   "outputs": [
    {
     "name": "stdout",
     "output_type": "stream",
     "text": [
      "5/5 - 0s - 69ms/step - accuracy: 0.7552 - loss: 0.9878\n",
      "loss_score: 0.99\n",
      "accuracy: 0.76\n"
     ]
    }
   ],
   "source": [
    "validation_size = 500\n",
    "\n",
    "X_validate = X_test[-validation_size:]\n",
    "Y_validate = Y_test[-validation_size:]\n",
    "X_test = X_test[:-validation_size]\n",
    "Y_test = Y_test[:-validation_size]\n",
    "score,acc = model.evaluate(X_test, Y_test,verbose = 2, batch_size = batch_size)\n",
    "print(\"loss_score: %.2f\" % (score))\n",
    "print(\"accuracy: %.2f\" % (acc))"
   ]
  },
  {
   "cell_type": "code",
   "execution_count": 22,
   "id": "0b83480a",
   "metadata": {
    "execution": {
     "iopub.execute_input": "2024-08-22T04:15:44.910665Z",
     "iopub.status.busy": "2024-08-22T04:15:44.910390Z",
     "iopub.status.idle": "2024-08-22T04:16:15.811886Z",
     "shell.execute_reply": "2024-08-22T04:16:15.810794Z"
    },
    "papermill": {
     "duration": 30.916432,
     "end_time": "2024-08-22T04:16:15.813929",
     "exception": false,
     "start_time": "2024-08-22T04:15:44.897497",
     "status": "completed"
    },
    "tags": []
   },
   "outputs": [
    {
     "name": "stdout",
     "output_type": "stream",
     "text": [
      "1/1 - 0s - 237ms/step\n",
      "1/1 - 0s - 27ms/step\n",
      "1/1 - 0s - 24ms/step\n",
      "1/1 - 0s - 25ms/step\n",
      "1/1 - 0s - 25ms/step\n",
      "1/1 - 0s - 24ms/step\n",
      "1/1 - 0s - 25ms/step\n",
      "1/1 - 0s - 24ms/step\n",
      "1/1 - 0s - 27ms/step\n",
      "1/1 - 0s - 25ms/step\n",
      "1/1 - 0s - 30ms/step\n",
      "1/1 - 0s - 32ms/step\n",
      "1/1 - 0s - 27ms/step\n",
      "1/1 - 0s - 28ms/step\n",
      "1/1 - 0s - 28ms/step\n",
      "1/1 - 0s - 28ms/step\n",
      "1/1 - 0s - 28ms/step\n",
      "1/1 - 0s - 31ms/step\n",
      "1/1 - 0s - 27ms/step\n",
      "1/1 - 0s - 27ms/step\n",
      "1/1 - 0s - 32ms/step\n",
      "1/1 - 0s - 29ms/step\n",
      "1/1 - 0s - 27ms/step\n",
      "1/1 - 0s - 27ms/step\n",
      "1/1 - 0s - 27ms/step\n",
      "1/1 - 0s - 26ms/step\n",
      "1/1 - 0s - 27ms/step\n",
      "1/1 - 0s - 26ms/step\n",
      "1/1 - 0s - 25ms/step\n",
      "1/1 - 0s - 25ms/step\n",
      "1/1 - 0s - 26ms/step\n",
      "1/1 - 0s - 25ms/step\n",
      "1/1 - 0s - 24ms/step\n",
      "1/1 - 0s - 25ms/step\n",
      "1/1 - 0s - 26ms/step\n",
      "1/1 - 0s - 26ms/step\n",
      "1/1 - 0s - 25ms/step\n",
      "1/1 - 0s - 26ms/step\n",
      "1/1 - 0s - 25ms/step\n",
      "1/1 - 0s - 26ms/step\n",
      "1/1 - 0s - 27ms/step\n",
      "1/1 - 0s - 26ms/step\n",
      "1/1 - 0s - 26ms/step\n",
      "1/1 - 0s - 25ms/step\n",
      "1/1 - 0s - 25ms/step\n",
      "1/1 - 0s - 26ms/step\n",
      "1/1 - 0s - 26ms/step\n",
      "1/1 - 0s - 25ms/step\n",
      "1/1 - 0s - 25ms/step\n",
      "1/1 - 0s - 26ms/step\n",
      "1/1 - 0s - 25ms/step\n",
      "1/1 - 0s - 24ms/step\n",
      "1/1 - 0s - 28ms/step\n",
      "1/1 - 0s - 28ms/step\n",
      "1/1 - 0s - 25ms/step\n",
      "1/1 - 0s - 27ms/step\n",
      "1/1 - 0s - 25ms/step\n",
      "1/1 - 0s - 25ms/step\n",
      "1/1 - 0s - 26ms/step\n",
      "1/1 - 0s - 25ms/step\n",
      "1/1 - 0s - 26ms/step\n",
      "1/1 - 0s - 26ms/step\n",
      "1/1 - 0s - 25ms/step\n",
      "1/1 - 0s - 25ms/step\n",
      "1/1 - 0s - 25ms/step\n",
      "1/1 - 0s - 25ms/step\n",
      "1/1 - 0s - 24ms/step\n",
      "1/1 - 0s - 27ms/step\n",
      "1/1 - 0s - 25ms/step\n",
      "1/1 - 0s - 26ms/step\n",
      "1/1 - 0s - 24ms/step\n",
      "1/1 - 0s - 24ms/step\n",
      "1/1 - 0s - 26ms/step\n",
      "1/1 - 0s - 24ms/step\n",
      "1/1 - 0s - 26ms/step\n",
      "1/1 - 0s - 26ms/step\n",
      "1/1 - 0s - 26ms/step\n",
      "1/1 - 0s - 27ms/step\n",
      "1/1 - 0s - 26ms/step\n",
      "1/1 - 0s - 28ms/step\n",
      "1/1 - 0s - 25ms/step\n",
      "1/1 - 0s - 28ms/step\n",
      "1/1 - 0s - 25ms/step\n",
      "1/1 - 0s - 25ms/step\n",
      "1/1 - 0s - 27ms/step\n",
      "1/1 - 0s - 27ms/step\n",
      "1/1 - 0s - 27ms/step\n",
      "1/1 - 0s - 26ms/step\n",
      "1/1 - 0s - 28ms/step\n",
      "1/1 - 0s - 26ms/step\n",
      "1/1 - 0s - 27ms/step\n",
      "1/1 - 0s - 26ms/step\n",
      "1/1 - 0s - 26ms/step\n",
      "1/1 - 0s - 26ms/step\n",
      "1/1 - 0s - 27ms/step\n",
      "1/1 - 0s - 27ms/step\n",
      "1/1 - 0s - 26ms/step\n",
      "1/1 - 0s - 27ms/step\n",
      "1/1 - 0s - 27ms/step\n",
      "1/1 - 0s - 27ms/step\n",
      "1/1 - 0s - 32ms/step\n",
      "1/1 - 0s - 24ms/step\n",
      "1/1 - 0s - 28ms/step\n",
      "1/1 - 0s - 26ms/step\n",
      "1/1 - 0s - 25ms/step\n",
      "1/1 - 0s - 25ms/step\n",
      "1/1 - 0s - 26ms/step\n",
      "1/1 - 0s - 24ms/step\n",
      "1/1 - 0s - 24ms/step\n",
      "1/1 - 0s - 26ms/step\n",
      "1/1 - 0s - 26ms/step\n",
      "1/1 - 0s - 26ms/step\n",
      "1/1 - 0s - 27ms/step\n",
      "1/1 - 0s - 26ms/step\n",
      "1/1 - 0s - 26ms/step\n",
      "1/1 - 0s - 26ms/step\n",
      "1/1 - 0s - 25ms/step\n",
      "1/1 - 0s - 27ms/step\n",
      "1/1 - 0s - 26ms/step\n",
      "1/1 - 0s - 26ms/step\n",
      "1/1 - 0s - 26ms/step\n",
      "1/1 - 0s - 28ms/step\n",
      "1/1 - 0s - 28ms/step\n",
      "1/1 - 0s - 25ms/step\n",
      "1/1 - 0s - 26ms/step\n",
      "1/1 - 0s - 26ms/step\n",
      "1/1 - 0s - 25ms/step\n",
      "1/1 - 0s - 26ms/step\n",
      "1/1 - 0s - 28ms/step\n",
      "1/1 - 0s - 25ms/step\n",
      "1/1 - 0s - 26ms/step\n",
      "1/1 - 0s - 26ms/step\n",
      "1/1 - 0s - 27ms/step\n",
      "1/1 - 0s - 26ms/step\n",
      "1/1 - 0s - 28ms/step\n",
      "1/1 - 0s - 26ms/step\n",
      "1/1 - 0s - 26ms/step\n",
      "1/1 - 0s - 25ms/step\n",
      "1/1 - 0s - 26ms/step\n",
      "1/1 - 0s - 27ms/step\n",
      "1/1 - 0s - 26ms/step\n",
      "1/1 - 0s - 26ms/step\n",
      "1/1 - 0s - 26ms/step\n",
      "1/1 - 0s - 27ms/step\n",
      "1/1 - 0s - 26ms/step\n",
      "1/1 - 0s - 25ms/step\n",
      "1/1 - 0s - 25ms/step\n",
      "1/1 - 0s - 26ms/step\n",
      "1/1 - 0s - 26ms/step\n",
      "1/1 - 0s - 27ms/step\n",
      "1/1 - 0s - 26ms/step\n",
      "1/1 - 0s - 27ms/step\n",
      "1/1 - 0s - 26ms/step\n",
      "1/1 - 0s - 27ms/step\n",
      "1/1 - 0s - 27ms/step\n",
      "1/1 - 0s - 26ms/step\n",
      "1/1 - 0s - 26ms/step\n",
      "1/1 - 0s - 27ms/step\n",
      "1/1 - 0s - 26ms/step\n",
      "1/1 - 0s - 25ms/step\n",
      "1/1 - 0s - 26ms/step\n",
      "1/1 - 0s - 27ms/step\n",
      "1/1 - 0s - 25ms/step\n",
      "1/1 - 0s - 25ms/step\n",
      "1/1 - 0s - 25ms/step\n",
      "1/1 - 0s - 25ms/step\n",
      "1/1 - 0s - 26ms/step\n",
      "1/1 - 0s - 25ms/step\n",
      "1/1 - 0s - 27ms/step\n",
      "1/1 - 0s - 25ms/step\n",
      "1/1 - 0s - 26ms/step\n",
      "1/1 - 0s - 26ms/step\n",
      "1/1 - 0s - 26ms/step\n",
      "1/1 - 0s - 27ms/step\n",
      "1/1 - 0s - 25ms/step\n",
      "1/1 - 0s - 25ms/step\n",
      "1/1 - 0s - 25ms/step\n",
      "1/1 - 0s - 25ms/step\n",
      "1/1 - 0s - 29ms/step\n",
      "1/1 - 0s - 30ms/step\n",
      "1/1 - 0s - 26ms/step\n",
      "1/1 - 0s - 27ms/step\n",
      "1/1 - 0s - 31ms/step\n",
      "1/1 - 0s - 30ms/step\n",
      "1/1 - 0s - 27ms/step\n",
      "1/1 - 0s - 28ms/step\n",
      "1/1 - 0s - 25ms/step\n",
      "1/1 - 0s - 24ms/step\n",
      "1/1 - 0s - 24ms/step\n",
      "1/1 - 0s - 26ms/step\n",
      "1/1 - 0s - 27ms/step\n",
      "1/1 - 0s - 28ms/step\n",
      "1/1 - 0s - 26ms/step\n",
      "1/1 - 0s - 26ms/step\n",
      "1/1 - 0s - 27ms/step\n",
      "1/1 - 0s - 27ms/step\n",
      "1/1 - 0s - 30ms/step\n",
      "1/1 - 0s - 30ms/step\n",
      "1/1 - 0s - 28ms/step\n",
      "1/1 - 0s - 27ms/step\n",
      "1/1 - 0s - 27ms/step\n",
      "1/1 - 0s - 26ms/step\n",
      "1/1 - 0s - 26ms/step\n",
      "1/1 - 0s - 27ms/step\n",
      "1/1 - 0s - 26ms/step\n",
      "1/1 - 0s - 26ms/step\n",
      "1/1 - 0s - 27ms/step\n",
      "1/1 - 0s - 28ms/step\n",
      "1/1 - 0s - 27ms/step\n",
      "1/1 - 0s - 28ms/step\n",
      "1/1 - 0s - 27ms/step\n",
      "1/1 - 0s - 26ms/step\n",
      "1/1 - 0s - 25ms/step\n",
      "1/1 - 0s - 27ms/step\n",
      "1/1 - 0s - 26ms/step\n",
      "1/1 - 0s - 25ms/step\n",
      "1/1 - 0s - 26ms/step\n",
      "1/1 - 0s - 27ms/step\n",
      "1/1 - 0s - 24ms/step\n",
      "1/1 - 0s - 26ms/step\n",
      "1/1 - 0s - 25ms/step\n",
      "1/1 - 0s - 26ms/step\n",
      "1/1 - 0s - 25ms/step\n",
      "1/1 - 0s - 26ms/step\n",
      "1/1 - 0s - 25ms/step\n",
      "1/1 - 0s - 25ms/step\n",
      "1/1 - 0s - 24ms/step\n",
      "1/1 - 0s - 27ms/step\n",
      "1/1 - 0s - 27ms/step\n",
      "1/1 - 0s - 28ms/step\n",
      "1/1 - 0s - 26ms/step\n",
      "1/1 - 0s - 27ms/step\n",
      "1/1 - 0s - 27ms/step\n",
      "1/1 - 0s - 25ms/step\n",
      "1/1 - 0s - 24ms/step\n",
      "1/1 - 0s - 25ms/step\n",
      "1/1 - 0s - 25ms/step\n",
      "1/1 - 0s - 26ms/step\n",
      "1/1 - 0s - 25ms/step\n",
      "1/1 - 0s - 25ms/step\n",
      "1/1 - 0s - 25ms/step\n",
      "1/1 - 0s - 26ms/step\n",
      "1/1 - 0s - 26ms/step\n",
      "1/1 - 0s - 24ms/step\n",
      "1/1 - 0s - 27ms/step\n",
      "1/1 - 0s - 26ms/step\n",
      "1/1 - 0s - 26ms/step\n",
      "1/1 - 0s - 25ms/step\n",
      "1/1 - 0s - 25ms/step\n",
      "1/1 - 0s - 25ms/step\n",
      "1/1 - 0s - 27ms/step\n",
      "1/1 - 0s - 25ms/step\n",
      "1/1 - 0s - 23ms/step\n",
      "1/1 - 0s - 24ms/step\n",
      "1/1 - 0s - 25ms/step\n",
      "1/1 - 0s - 26ms/step\n",
      "1/1 - 0s - 24ms/step\n",
      "1/1 - 0s - 26ms/step\n",
      "1/1 - 0s - 26ms/step\n",
      "1/1 - 0s - 24ms/step\n",
      "1/1 - 0s - 25ms/step\n",
      "1/1 - 0s - 24ms/step\n",
      "1/1 - 0s - 31ms/step\n",
      "1/1 - 0s - 32ms/step\n",
      "1/1 - 0s - 26ms/step\n",
      "1/1 - 0s - 27ms/step\n",
      "1/1 - 0s - 28ms/step\n",
      "1/1 - 0s - 27ms/step\n",
      "1/1 - 0s - 29ms/step\n",
      "1/1 - 0s - 26ms/step\n",
      "1/1 - 0s - 26ms/step\n",
      "1/1 - 0s - 25ms/step\n",
      "1/1 - 0s - 26ms/step\n",
      "1/1 - 0s - 25ms/step\n",
      "1/1 - 0s - 26ms/step\n",
      "1/1 - 0s - 24ms/step\n",
      "1/1 - 0s - 25ms/step\n",
      "1/1 - 0s - 26ms/step\n",
      "1/1 - 0s - 24ms/step\n",
      "1/1 - 0s - 27ms/step\n",
      "1/1 - 0s - 26ms/step\n",
      "1/1 - 0s - 27ms/step\n",
      "1/1 - 0s - 29ms/step\n",
      "1/1 - 0s - 27ms/step\n",
      "1/1 - 0s - 26ms/step\n",
      "1/1 - 0s - 26ms/step\n",
      "1/1 - 0s - 25ms/step\n",
      "1/1 - 0s - 25ms/step\n",
      "1/1 - 0s - 26ms/step\n",
      "1/1 - 0s - 24ms/step\n",
      "1/1 - 0s - 26ms/step\n",
      "1/1 - 0s - 26ms/step\n",
      "1/1 - 0s - 25ms/step\n",
      "1/1 - 0s - 27ms/step\n",
      "1/1 - 0s - 26ms/step\n",
      "1/1 - 0s - 25ms/step\n",
      "1/1 - 0s - 25ms/step\n",
      "1/1 - 0s - 27ms/step\n",
      "1/1 - 0s - 27ms/step\n",
      "1/1 - 0s - 25ms/step\n",
      "1/1 - 0s - 25ms/step\n",
      "1/1 - 0s - 26ms/step\n",
      "1/1 - 0s - 26ms/step\n",
      "1/1 - 0s - 26ms/step\n",
      "1/1 - 0s - 26ms/step\n",
      "1/1 - 0s - 26ms/step\n",
      "1/1 - 0s - 28ms/step\n",
      "1/1 - 0s - 29ms/step\n",
      "1/1 - 0s - 28ms/step\n",
      "1/1 - 0s - 27ms/step\n",
      "1/1 - 0s - 26ms/step\n",
      "1/1 - 0s - 25ms/step\n",
      "1/1 - 0s - 28ms/step\n",
      "1/1 - 0s - 29ms/step\n",
      "1/1 - 0s - 28ms/step\n",
      "1/1 - 0s - 26ms/step\n",
      "1/1 - 0s - 24ms/step\n",
      "1/1 - 0s - 25ms/step\n",
      "1/1 - 0s - 25ms/step\n",
      "1/1 - 0s - 25ms/step\n",
      "1/1 - 0s - 27ms/step\n",
      "1/1 - 0s - 25ms/step\n",
      "1/1 - 0s - 24ms/step\n",
      "1/1 - 0s - 24ms/step\n",
      "1/1 - 0s - 25ms/step\n",
      "1/1 - 0s - 25ms/step\n",
      "1/1 - 0s - 25ms/step\n",
      "1/1 - 0s - 25ms/step\n",
      "1/1 - 0s - 26ms/step\n",
      "1/1 - 0s - 25ms/step\n",
      "1/1 - 0s - 24ms/step\n",
      "1/1 - 0s - 25ms/step\n",
      "1/1 - 0s - 24ms/step\n",
      "1/1 - 0s - 25ms/step\n",
      "1/1 - 0s - 23ms/step\n",
      "1/1 - 0s - 24ms/step\n",
      "1/1 - 0s - 24ms/step\n",
      "1/1 - 0s - 25ms/step\n",
      "1/1 - 0s - 25ms/step\n",
      "1/1 - 0s - 25ms/step\n",
      "1/1 - 0s - 24ms/step\n",
      "1/1 - 0s - 24ms/step\n",
      "1/1 - 0s - 25ms/step\n",
      "1/1 - 0s - 25ms/step\n",
      "1/1 - 0s - 24ms/step\n",
      "1/1 - 0s - 24ms/step\n",
      "1/1 - 0s - 24ms/step\n",
      "1/1 - 0s - 28ms/step\n",
      "1/1 - 0s - 25ms/step\n",
      "1/1 - 0s - 25ms/step\n",
      "1/1 - 0s - 26ms/step\n",
      "1/1 - 0s - 25ms/step\n",
      "1/1 - 0s - 25ms/step\n",
      "1/1 - 0s - 25ms/step\n",
      "1/1 - 0s - 26ms/step\n",
      "1/1 - 0s - 24ms/step\n",
      "1/1 - 0s - 25ms/step\n",
      "1/1 - 0s - 26ms/step\n",
      "1/1 - 0s - 25ms/step\n",
      "1/1 - 0s - 25ms/step\n",
      "1/1 - 0s - 26ms/step\n",
      "1/1 - 0s - 26ms/step\n",
      "1/1 - 0s - 25ms/step\n",
      "1/1 - 0s - 25ms/step\n",
      "1/1 - 0s - 27ms/step\n",
      "1/1 - 0s - 25ms/step\n",
      "1/1 - 0s - 26ms/step\n",
      "1/1 - 0s - 24ms/step\n",
      "1/1 - 0s - 26ms/step\n",
      "1/1 - 0s - 24ms/step\n",
      "1/1 - 0s - 24ms/step\n",
      "1/1 - 0s - 25ms/step\n",
      "1/1 - 0s - 25ms/step\n",
      "1/1 - 0s - 25ms/step\n",
      "1/1 - 0s - 25ms/step\n",
      "1/1 - 0s - 26ms/step\n",
      "1/1 - 0s - 25ms/step\n",
      "1/1 - 0s - 24ms/step\n",
      "1/1 - 0s - 26ms/step\n",
      "1/1 - 0s - 24ms/step\n",
      "1/1 - 0s - 25ms/step\n",
      "1/1 - 0s - 27ms/step\n",
      "1/1 - 0s - 28ms/step\n",
      "1/1 - 0s - 25ms/step\n",
      "1/1 - 0s - 26ms/step\n",
      "1/1 - 0s - 24ms/step\n",
      "1/1 - 0s - 25ms/step\n",
      "1/1 - 0s - 25ms/step\n",
      "1/1 - 0s - 26ms/step\n",
      "1/1 - 0s - 25ms/step\n",
      "1/1 - 0s - 26ms/step\n",
      "1/1 - 0s - 24ms/step\n",
      "1/1 - 0s - 24ms/step\n",
      "1/1 - 0s - 25ms/step\n",
      "1/1 - 0s - 26ms/step\n",
      "1/1 - 0s - 23ms/step\n",
      "1/1 - 0s - 25ms/step\n",
      "1/1 - 0s - 25ms/step\n",
      "1/1 - 0s - 28ms/step\n",
      "1/1 - 0s - 26ms/step\n",
      "1/1 - 0s - 25ms/step\n",
      "1/1 - 0s - 26ms/step\n",
      "1/1 - 0s - 25ms/step\n",
      "1/1 - 0s - 26ms/step\n",
      "1/1 - 0s - 23ms/step\n",
      "1/1 - 0s - 23ms/step\n",
      "1/1 - 0s - 25ms/step\n",
      "1/1 - 0s - 24ms/step\n",
      "1/1 - 0s - 23ms/step\n",
      "1/1 - 0s - 26ms/step\n",
      "1/1 - 0s - 25ms/step\n",
      "1/1 - 0s - 27ms/step\n",
      "1/1 - 0s - 26ms/step\n",
      "1/1 - 0s - 25ms/step\n",
      "1/1 - 0s - 25ms/step\n",
      "1/1 - 0s - 26ms/step\n",
      "1/1 - 0s - 26ms/step\n",
      "1/1 - 0s - 24ms/step\n",
      "1/1 - 0s - 26ms/step\n",
      "1/1 - 0s - 25ms/step\n",
      "1/1 - 0s - 24ms/step\n",
      "1/1 - 0s - 25ms/step\n",
      "1/1 - 0s - 26ms/step\n",
      "1/1 - 0s - 27ms/step\n",
      "1/1 - 0s - 26ms/step\n",
      "1/1 - 0s - 25ms/step\n",
      "1/1 - 0s - 29ms/step\n",
      "1/1 - 0s - 25ms/step\n",
      "1/1 - 0s - 25ms/step\n",
      "1/1 - 0s - 31ms/step\n",
      "1/1 - 0s - 24ms/step\n",
      "1/1 - 0s - 24ms/step\n",
      "1/1 - 0s - 24ms/step\n",
      "1/1 - 0s - 26ms/step\n",
      "1/1 - 0s - 24ms/step\n",
      "1/1 - 0s - 26ms/step\n",
      "1/1 - 0s - 27ms/step\n",
      "1/1 - 0s - 25ms/step\n",
      "1/1 - 0s - 25ms/step\n",
      "1/1 - 0s - 24ms/step\n",
      "1/1 - 0s - 24ms/step\n",
      "1/1 - 0s - 24ms/step\n",
      "1/1 - 0s - 24ms/step\n",
      "1/1 - 0s - 24ms/step\n",
      "1/1 - 0s - 25ms/step\n",
      "1/1 - 0s - 25ms/step\n",
      "1/1 - 0s - 26ms/step\n",
      "1/1 - 0s - 25ms/step\n",
      "1/1 - 0s - 25ms/step\n",
      "1/1 - 0s - 25ms/step\n",
      "1/1 - 0s - 26ms/step\n",
      "1/1 - 0s - 26ms/step\n",
      "1/1 - 0s - 27ms/step\n",
      "1/1 - 0s - 25ms/step\n",
      "1/1 - 0s - 24ms/step\n",
      "1/1 - 0s - 26ms/step\n",
      "1/1 - 0s - 25ms/step\n",
      "1/1 - 0s - 26ms/step\n",
      "1/1 - 0s - 25ms/step\n",
      "1/1 - 0s - 25ms/step\n",
      "1/1 - 0s - 26ms/step\n",
      "1/1 - 0s - 25ms/step\n",
      "1/1 - 0s - 27ms/step\n",
      "1/1 - 0s - 24ms/step\n",
      "1/1 - 0s - 26ms/step\n",
      "1/1 - 0s - 26ms/step\n",
      "1/1 - 0s - 26ms/step\n",
      "1/1 - 0s - 25ms/step\n",
      "1/1 - 0s - 25ms/step\n",
      "1/1 - 0s - 25ms/step\n",
      "1/1 - 0s - 26ms/step\n",
      "1/1 - 0s - 24ms/step\n",
      "1/1 - 0s - 27ms/step\n",
      "1/1 - 0s - 26ms/step\n",
      "1/1 - 0s - 27ms/step\n",
      "1/1 - 0s - 25ms/step\n",
      "1/1 - 0s - 25ms/step\n",
      "1/1 - 0s - 28ms/step\n",
      "1/1 - 0s - 26ms/step\n",
      "1/1 - 0s - 23ms/step\n",
      "1/1 - 0s - 25ms/step\n",
      "1/1 - 0s - 26ms/step\n",
      "1/1 - 0s - 28ms/step\n",
      "1/1 - 0s - 28ms/step\n",
      "1/1 - 0s - 26ms/step\n",
      "1/1 - 0s - 25ms/step\n",
      "1/1 - 0s - 26ms/step\n",
      "1/1 - 0s - 26ms/step\n",
      "1/1 - 0s - 27ms/step\n",
      "1/1 - 0s - 26ms/step\n",
      "1/1 - 0s - 25ms/step\n",
      "1/1 - 0s - 25ms/step\n",
      "1/1 - 0s - 26ms/step\n",
      "1/1 - 0s - 25ms/step\n",
      "1/1 - 0s - 26ms/step\n",
      "1/1 - 0s - 26ms/step\n",
      "1/1 - 0s - 25ms/step\n",
      "1/1 - 0s - 25ms/step\n",
      "1/1 - 0s - 25ms/step\n",
      "1/1 - 0s - 25ms/step\n",
      "pos_acc 82.83582089552239 %\n",
      "neg_acc 76.29310344827587 %\n"
     ]
    }
   ],
   "source": [
    "pos_cnt, neg_cnt, pos_correct, neg_correct = 0, 0, 0, 0\n",
    "for x in range(len(X_validate)):\n",
    "    \n",
    "    result = model.predict(X_validate[x].reshape(1,X_test.shape[1]),batch_size=1,verbose = 2)[0]\n",
    "   \n",
    "    if np.argmax(result) == np.argmax(Y_validate[x]):\n",
    "        if np.argmax(Y_validate[x]) == 0:\n",
    "            neg_correct += 1\n",
    "        else:\n",
    "            pos_correct += 1\n",
    "       \n",
    "    if np.argmax(Y_validate[x]) == 0:\n",
    "        neg_cnt += 1\n",
    "    else:\n",
    "        pos_cnt += 1\n",
    "\n",
    "\n",
    "\n",
    "print(\"pos_acc\", pos_correct/pos_cnt*100, \"%\")\n",
    "print(\"neg_acc\", neg_correct/neg_cnt*100, \"%\")"
   ]
  },
  {
   "cell_type": "code",
   "execution_count": 23,
   "id": "7596346f",
   "metadata": {
    "execution": {
     "iopub.execute_input": "2024-08-22T04:16:15.913792Z",
     "iopub.status.busy": "2024-08-22T04:16:15.913497Z",
     "iopub.status.idle": "2024-08-22T04:16:16.158570Z",
     "shell.execute_reply": "2024-08-22T04:16:16.157533Z"
    },
    "papermill": {
     "duration": 0.297071,
     "end_time": "2024-08-22T04:16:16.160533",
     "exception": false,
     "start_time": "2024-08-22T04:16:15.863462",
     "status": "completed"
    },
    "tags": []
   },
   "outputs": [
    {
     "name": "stdout",
     "output_type": "stream",
     "text": [
      "[[   0    0    0    0    0    0    0    1   79  477    7   18  559 1000\n",
      "    39  275   55    7   10 1913    6    5  458  165  118   13    4 1562]]\n",
      "1/1 - 0s - 203ms/step\n",
      "negative\n"
     ]
    }
   ],
   "source": [
    "twt = ['I been told you that yo folks dont care about you . Im starving and my dad deadass didnt make me a plate']\n",
    "twt = tokenizer.texts_to_sequences(twt)\n",
    "twt = pad_sequences(twt, maxlen=28, dtype='int32', value=0)\n",
    "print(twt)\n",
    "sentiment = model.predict(twt,batch_size=1,verbose = 2)[0]\n",
    "if(np.argmax(sentiment) == 0):\n",
    "    print(\"negative\")\n",
    "elif (np.argmax(sentiment) == 1):\n",
    "    print(\"positive\")"
   ]
  },
  {
   "cell_type": "code",
   "execution_count": 24,
   "id": "e90537ee",
   "metadata": {
    "execution": {
     "iopub.execute_input": "2024-08-22T04:16:16.261592Z",
     "iopub.status.busy": "2024-08-22T04:16:16.261281Z",
     "iopub.status.idle": "2024-08-22T04:16:16.310006Z",
     "shell.execute_reply": "2024-08-22T04:16:16.309091Z"
    },
    "papermill": {
     "duration": 0.100905,
     "end_time": "2024-08-22T04:16:16.312013",
     "exception": false,
     "start_time": "2024-08-22T04:16:16.211108",
     "status": "completed"
    },
    "tags": []
   },
   "outputs": [],
   "source": [
    "model.save('lstm_model.h5')"
   ]
  },
  {
   "cell_type": "code",
   "execution_count": null,
   "id": "9f2e07dd",
   "metadata": {
    "papermill": {
     "duration": 0.04904,
     "end_time": "2024-08-22T04:16:16.411192",
     "exception": false,
     "start_time": "2024-08-22T04:16:16.362152",
     "status": "completed"
    },
    "tags": []
   },
   "outputs": [],
   "source": [
    "\n"
   ]
  }
 ],
 "metadata": {
  "kaggle": {
   "accelerator": "nvidiaTeslaT4",
   "dataSources": [
    {
     "datasetId": 5557640,
     "sourceId": 9193227,
     "sourceType": "datasetVersion"
    }
   ],
   "dockerImageVersionId": 30747,
   "isGpuEnabled": true,
   "isInternetEnabled": true,
   "language": "python",
   "sourceType": "notebook"
  },
  "kernelspec": {
   "display_name": "Python 3",
   "language": "python",
   "name": "python3"
  },
  "language_info": {
   "codemirror_mode": {
    "name": "ipython",
    "version": 3
   },
   "file_extension": ".py",
   "mimetype": "text/x-python",
   "name": "python",
   "nbconvert_exporter": "python",
   "pygments_lexer": "ipython3",
   "version": "3.10.13"
  },
  "papermill": {
   "default_parameters": {},
   "duration": 100.980046,
   "end_time": "2024-08-22T04:16:19.261162",
   "environment_variables": {},
   "exception": null,
   "input_path": "__notebook__.ipynb",
   "output_path": "__notebook__.ipynb",
   "parameters": {},
   "start_time": "2024-08-22T04:14:38.281116",
   "version": "2.5.0"
  }
 },
 "nbformat": 4,
 "nbformat_minor": 5
}
